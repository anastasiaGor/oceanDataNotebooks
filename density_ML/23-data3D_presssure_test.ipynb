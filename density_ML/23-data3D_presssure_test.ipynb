{
 "cells": [
  {
   "cell_type": "code",
   "execution_count": 1,
   "id": "c8be986b-d503-483a-b30e-04e41cef7974",
   "metadata": {},
   "outputs": [
    {
     "name": "stdout",
     "output_type": "stream",
     "text": [
      "Note: you may need to restart the kernel to use updated packages.\n"
     ]
    }
   ],
   "source": [
    "pip install wandb -q"
   ]
  },
  {
   "cell_type": "code",
   "execution_count": 1,
   "id": "f5430fae-de62-4a04-870d-e7ec571fd493",
   "metadata": {},
   "outputs": [],
   "source": [
    "from dask.distributed import Client\n",
    "\n",
    "client = Client(\"tcp://127.0.0.1:39807\")"
   ]
  },
  {
   "cell_type": "markdown",
   "id": "ea54da1f-c0d2-4ed2-8dea-5f96a68745f0",
   "metadata": {
    "tags": []
   },
   "source": [
    "# Import"
   ]
  },
  {
   "cell_type": "code",
   "execution_count": 3,
   "id": "e9303f7b-4813-46e3-9398-9b53578b9437",
   "metadata": {},
   "outputs": [],
   "source": [
    "from IPython.display import clear_output\n",
    "import torch\n",
    "import numpy as np\n",
    "import matplotlib.pyplot as plt\n",
    "from tqdm.autonotebook import tqdm, trange\n",
    "import xarray as xr\n",
    "from IPython import display\n",
    "import pytorch_lightning as pl\n",
    "from pytorch_lightning.loggers import WandbLogger\n",
    "import wandb\n",
    "from pytorch_lightning.callbacks import EarlyStopping,ModelCheckpoint,Callback\n",
    "import inspect\n",
    "import itertools\n",
    "import matplotlib.colors as mcolors\n",
    "import glob, os\n",
    "from random import randrange"
   ]
  },
  {
   "cell_type": "code",
   "execution_count": 4,
   "id": "1f0f397a-ad27-4865-b0dd-008d182ddb51",
   "metadata": {},
   "outputs": [],
   "source": [
    "import myParam3Ddata\n",
    "import myTorchModels3D"
   ]
  },
  {
   "cell_type": "code",
   "execution_count": 5,
   "id": "ff6b1abd-7e84-48f4-91ff-f078649e2307",
   "metadata": {},
   "outputs": [],
   "source": [
    "import importlib"
   ]
  },
  {
   "cell_type": "code",
   "execution_count": 6,
   "id": "3ac49ead-5043-4de7-9453-e7b17c613800",
   "metadata": {},
   "outputs": [
    {
     "data": {
      "text/plain": [
       "<module 'myParam3Ddata' from '/home/jovyan/oceanDataNotebooks/density_ML/myParam3Ddata.py'>"
      ]
     },
     "execution_count": 6,
     "metadata": {},
     "output_type": "execute_result"
    }
   ],
   "source": [
    "importlib.reload(myParam3Ddata)"
   ]
  },
  {
   "cell_type": "code",
   "execution_count": 7,
   "id": "cb00724f-4c87-407a-a426-1969274ebfb7",
   "metadata": {},
   "outputs": [
    {
     "name": "stdout",
     "output_type": "stream",
     "text": [
      "Linux-5.10.133+-x86_64-with-glibc2.35\n"
     ]
    }
   ],
   "source": [
    "import platform\n",
    "print(platform.platform())"
   ]
  },
  {
   "cell_type": "code",
   "execution_count": 8,
   "id": "94d6f76d-7224-49fb-8ea8-69e231ac84be",
   "metadata": {},
   "outputs": [
    {
     "name": "stdout",
     "output_type": "stream",
     "text": [
      "1.13.1.post200\n"
     ]
    }
   ],
   "source": [
    "print(torch.__version__)"
   ]
  },
  {
   "cell_type": "code",
   "execution_count": 9,
   "id": "09185b24-5c66-4f85-92d2-edd901e130b7",
   "metadata": {},
   "outputs": [],
   "source": [
    "import warnings\n",
    "\n",
    "warnings.simplefilter(action='ignore', category=FutureWarning)\n",
    "warnings.filterwarnings(\"ignore\", \".*Consider increasing the value of the `num_workers` argument*\")"
   ]
  },
  {
   "cell_type": "markdown",
   "id": "663bea15-b554-420c-b3eb-9bf7c7aedf43",
   "metadata": {},
   "source": [
    "# Useful functions"
   ]
  },
  {
   "cell_type": "code",
   "execution_count": 10,
   "id": "4ac6ae3f-8287-49ea-88ea-0f83143a0476",
   "metadata": {},
   "outputs": [],
   "source": [
    "line_styles = ['solid', 'dashed', 'dotted', 'dashdot']"
   ]
  },
  {
   "cell_type": "markdown",
   "id": "751ea4e3-ee81-4e2b-b07f-7099893b75c0",
   "metadata": {},
   "source": [
    "# Prepare data"
   ]
  },
  {
   "cell_type": "code",
   "execution_count": 11,
   "id": "4241ea57-8775-4386-8329-8d5c5453718c",
   "metadata": {},
   "outputs": [],
   "source": [
    "PERSISTENT_BUCKET = os.environ['PERSISTENT_BUCKET'] "
   ]
  },
  {
   "cell_type": "code",
   "execution_count": 12,
   "id": "14277ad7-8350-4756-a398-d9645f781f09",
   "metadata": {},
   "outputs": [],
   "source": [
    "data_dict=[dict() for i in range(6)]\n",
    "data_dict[0] = dict({'region' : '1', 'season' : 'fma', 'label' : 'GULFSTR FMA'})\n",
    "data_dict[1] = dict({'region' : '1', 'season' : 'aso', 'label' : 'GULFSTR ASO'})\n",
    "data_dict[2] = dict({'region' : '2', 'season' : 'fma', 'label' : 'MIDATL FMA'})\n",
    "data_dict[3] = dict({'region' : '2', 'season' : 'aso', 'label' : 'MIDATL ASO'})\n",
    "data_dict[4] = dict({'region' : '3', 'season' : 'fma', 'label' : 'WESTMED FMA'})\n",
    "data_dict[5] = dict({'region' : '3', 'season' : 'aso', 'label' : 'WESTMED ASO'})"
   ]
  },
  {
   "cell_type": "code",
   "execution_count": 13,
   "id": "878f2708-915a-41fc-b4ed-30cff8f87e43",
   "metadata": {},
   "outputs": [],
   "source": [
    "features_to_add_to_sample = ['votemper', 'votemper_var', 'rho_ct_ct', 'diff_votemper_sqr']"
   ]
  },
  {
   "cell_type": "code",
   "execution_count": 14,
   "id": "8c3db48a-360a-41a8-aeb4-7811d22d028e",
   "metadata": {},
   "outputs": [],
   "source": [
    "batch_size = 4"
   ]
  },
  {
   "cell_type": "code",
   "execution_count": 15,
   "id": "6aeb365d-6edd-47c0-8173-9cccf9273641",
   "metadata": {},
   "outputs": [
    {
     "name": "stdout",
     "output_type": "stream",
     "text": [
      "CPU times: user 16 s, sys: 7.14 s, total: 23.2 s\n",
      "Wall time: 1min 48s\n"
     ]
    }
   ],
   "source": [
    "%%time\n",
    "all_data = myParam3Ddata.PyLiDataModule(data_dict, features_to_add_to_sample, batch_size=batch_size)"
   ]
  },
  {
   "cell_type": "markdown",
   "id": "083d8b24-3e4a-4ab6-96c5-33a5b6b7f070",
   "metadata": {
    "tags": []
   },
   "source": [
    "# Run routine"
   ]
  },
  {
   "cell_type": "code",
   "execution_count": 16,
   "id": "8da9e30a-2dcf-4895-9731-a89ebed6b1b9",
   "metadata": {},
   "outputs": [],
   "source": [
    "def run_experiment(config, project) :\n",
    "    wandb_logger = WandbLogger(name=config['model_label']+'_'+config['version'], \\\n",
    "                               version=config['model_label']+'_'+config['version'],\\\n",
    "                               project=project, config=config, resume=True, log_model=True)\n",
    "    \n",
    "    torch_model = eval(config['torch_model'])(**config['torch_model_params'])\n",
    "    pylight_module = myParam3Ddata.GenericPyLiModule(torch_model, **config['module_params'])\n",
    "    \n",
    "    # Callbacks\n",
    "    checkpoint_callback = ModelCheckpoint(monitor=\"loss_val\", save_last=True)    \n",
    "    early_stopping_callback = EarlyStopping(monitor=\"loss_val\", mode=\"min\")\n",
    "    \n",
    "    trainer = pl.Trainer(**config['training_params'], logger=wandb_logger, \n",
    "                     callbacks=[early_stopping_callback, checkpoint_callback],\n",
    "                     accelerator='gpu', devices=(1 if torch.cuda.is_available() else None))  \n",
    "    trainer.fit(model = pylight_module, datamodule=eval(config['datamodule']))\n",
    "    #tests\n",
    "    test_datamodule = eval(config['datamodule'])\n",
    "    test_datamodule.setup(stage='test')\n",
    "    trainer.test(model = pylight_module, datamodule=test_datamodule)\n",
    "    wandb.finish()"
   ]
  },
  {
   "cell_type": "markdown",
   "id": "305e9c47-3742-4d53-b8d1-8994ed52864e",
   "metadata": {
    "tags": []
   },
   "source": [
    "# List of configs"
   ]
  },
  {
   "cell_type": "code",
   "execution_count": 17,
   "id": "c99d363f-66ab-4a19-b9a4-cda521a304bb",
   "metadata": {},
   "outputs": [],
   "source": [
    "list_of_configs = list()"
   ]
  },
  {
   "cell_type": "markdown",
   "id": "a848dafc-b64c-4460-912f-07eaae0b52c8",
   "metadata": {},
   "source": [
    "## Linear regression"
   ]
  },
  {
   "cell_type": "code",
   "execution_count": 18,
   "id": "bd769029-f430-4e0c-a209-50db7b5a8866",
   "metadata": {},
   "outputs": [],
   "source": [
    "list_of_configs.append(dict({'model_label' : 'LinReg',\n",
    "                'version' : 'valueLoss',\n",
    "                'torch_model' : 'myTorchModels3D.lin_regr_model',\n",
    "                'datamodule' : 'all_data',\n",
    "                'torch_model_params' : dict({'nb_of_input_features' : 1, \\\n",
    "                                            'nb_of_output_features' : 1}),\n",
    "                'module_params' : dict({'input_features'  : ['diff_votemper_sqr'],\n",
    "                                        'output_features'  : ['votemper_var'],\n",
    "                                        'loss' : torch.nn.functional.huber_loss,\n",
    "                                        'optimizer' : torch.optim.SGD,\n",
    "                                        'learning_rate' : 1e-3,}),\n",
    "                'training_params' : dict({'max_epochs' : 100,\n",
    "                                          'limit_train_batches' : 1.0})\n",
    "               }))"
   ]
  },
  {
   "cell_type": "code",
   "execution_count": 19,
   "id": "121345cf-7ce2-4fa1-8a2d-e164212db14c",
   "metadata": {},
   "outputs": [],
   "source": [
    "list_of_configs.append(dict({'model_label' : 'LinReg',\n",
    "                'version' : 'gradLoss',\n",
    "                'torch_model' : 'myTorchModels3D.lin_regr_model',\n",
    "                'datamodule' : 'all_data',\n",
    "                'torch_model_params' : dict({'nb_of_input_features' : 1, \\\n",
    "                                            'nb_of_output_features' : 1}),\n",
    "                'module_params' : dict({'input_features'  : ['diff_votemper_sqr'],\n",
    "                                        'output_features'  : ['votemper_var'],\n",
    "                                        'loss' : myParam3Ddata.gradient_based_MSEloss,\n",
    "                                        'optimizer' : torch.optim.SGD,\n",
    "                                        'learning_rate' : 1e-3,}),\n",
    "                'training_params' : dict({'max_epochs' : 100,\n",
    "                                          'limit_train_batches' : 1.0})\n",
    "               }))"
   ]
  },
  {
   "cell_type": "markdown",
   "id": "152b2d6b-8ba5-46ef-8fbd-0b1b84367888",
   "metadata": {},
   "source": [
    "## FCNN on patches"
   ]
  },
  {
   "cell_type": "code",
   "execution_count": 20,
   "id": "e7680598-40b4-4209-b65e-475cf36dc099",
   "metadata": {},
   "outputs": [],
   "source": [
    "list_of_configs.append(dict({'model_label' : 'FCNN',\n",
    "                'version' : 'patch_in3_out1',\n",
    "                'torch_model' : 'myTorchModels3D.FCNN',\n",
    "                'datamodule' : 'all_data',\n",
    "                'torch_model_params' : dict({'nb_of_input_features' : 1, \\\n",
    "                                            'nb_of_output_features' : 1, \\\n",
    "                                            'input_patch_size' : 3,\n",
    "                                            'output_patch_size' : 1, \n",
    "                                            'int_layer_width' : 50}),\n",
    "                'module_params' : dict({'input_features'  : ['normalized_votemper'],\n",
    "                                        'output_features'  : ['normalized_votemper_var'],\n",
    "                                        'loss' : torch.nn.functional.mse_loss,\n",
    "                                        'optimizer' : torch.optim.Adam,\n",
    "                                        'learning_rate' : 1e-3,}),\n",
    "                'training_params' : dict({'max_epochs' : 50,\n",
    "                                          'limit_train_batches' : 1.0})\n",
    "               }))"
   ]
  },
  {
   "cell_type": "code",
   "execution_count": 21,
   "id": "03877d23-ad10-43eb-8f2e-e638c5ad76a6",
   "metadata": {},
   "outputs": [],
   "source": [
    "list_of_configs.append(dict({'model_label' : 'FCNN',\n",
    "                'version' : 'patch_in3_out3',\n",
    "                'torch_model' : 'myTorchModels3D.FCNN',\n",
    "                'datamodule' : 'all_data',\n",
    "                'torch_model_params' : dict({'nb_of_input_features' : 1, \\\n",
    "                                            'nb_of_output_features' : 1, \\\n",
    "                                            'input_patch_size' : 3,\n",
    "                                            'output_patch_size' : 3, \n",
    "                                            'int_layer_width' : 50}),\n",
    "                'module_params' : dict({'input_features'  : ['normalized_votemper'],\n",
    "                                        'output_features'  : ['normalized_votemper_var'],\n",
    "                                        'loss' : torch.nn.functional.mse_loss,\n",
    "                                        'optimizer' : torch.optim.Adam,\n",
    "                                        'learning_rate' : 1e-3,}),\n",
    "                'training_params' : dict({'max_epochs' : 100,\n",
    "                                          'limit_train_batches' : 1.0})\n",
    "               }))"
   ]
  },
  {
   "cell_type": "code",
   "execution_count": 22,
   "id": "6efd328d-d802-4278-b57b-0c40c5510c88",
   "metadata": {},
   "outputs": [],
   "source": [
    "list_of_configs.append(dict({'model_label' : 'FCNN',\n",
    "                'version' : 'patch_in5_out3',\n",
    "                'torch_model' : 'myTorchModels3D.FCNN',\n",
    "                'datamodule' : 'all_data',\n",
    "                'torch_model_params' : dict({'nb_of_input_features' : 1, \\\n",
    "                                            'nb_of_output_features' : 1, \\\n",
    "                                            'input_patch_size' : 5,\n",
    "                                            'output_patch_size' : 3, \n",
    "                                            'int_layer_width' : 50}),\n",
    "                'module_params' : dict({'input_features'  : ['normalized_votemper'],\n",
    "                                        'output_features'  : ['normalized_votemper_var'],\n",
    "                                        'loss' : torch.nn.functional.mse_loss,\n",
    "                                        'optimizer' : torch.optim.Adam,\n",
    "                                        'learning_rate' : 1e-3,}),\n",
    "                'training_params' : dict({'max_epochs' : 100,\n",
    "                                          'limit_train_batches' : 1.0})\n",
    "               }))"
   ]
  },
  {
   "cell_type": "code",
   "execution_count": 23,
   "id": "7c696459-09e7-4105-9215-ef877a6f9cc2",
   "metadata": {},
   "outputs": [],
   "source": [
    "list_of_configs.append(dict({'model_label' : 'FCNN',\n",
    "                'version' : 'patch_in7_out5',\n",
    "                'torch_model' : 'myTorchModels3D.FCNN',\n",
    "                'datamodule' : 'all_data',\n",
    "                'torch_model_params' : dict({'nb_of_input_features' : 1, \\\n",
    "                                            'nb_of_output_features' : 1, \\\n",
    "                                            'input_patch_size' : 7,\n",
    "                                            'output_patch_size' : 5, \n",
    "                                            'int_layer_width' : 50}),\n",
    "                'module_params' : dict({'input_features'  : ['normalized_votemper'],\n",
    "                                        'output_features'  : ['normalized_votemper_var'],\n",
    "                                        'loss' : torch.nn.functional.mse_loss,\n",
    "                                        'optimizer' : torch.optim.Adam,\n",
    "                                        'learning_rate' : 1e-3,}),\n",
    "                'training_params' : dict({'max_epochs' : 100,\n",
    "                                          'limit_train_batches' : 1.0})\n",
    "               }))"
   ]
  },
  {
   "cell_type": "markdown",
   "id": "0a356849-df08-410d-a455-2b48613fda11",
   "metadata": {},
   "source": [
    "## CNN"
   ]
  },
  {
   "cell_type": "code",
   "execution_count": 24,
   "id": "e651e0fa-1c96-4e58-99ec-0978116b592a",
   "metadata": {},
   "outputs": [],
   "source": [
    "list_of_configs.append(dict({'model_label' : 'CNN',\n",
    "                'version' : 'kernel3',\n",
    "                'torch_model' : 'myTorchModels3D.CNN',\n",
    "                'datamodule' : 'all_data',\n",
    "                'torch_model_params' : dict({'nb_of_input_features' : 1, \\\n",
    "                                            'nb_of_output_features' : 1, \\\n",
    "                                             'kernel_size' : 3, \\\n",
    "                                            'int_layer_width' : 64}),\n",
    "                'module_params' : dict({'input_features'  : ['normalized_votemper'],\n",
    "                                        'output_features'  : ['normalized_votemper_var'],\n",
    "                                        'loss' : torch.nn.functional.mse_loss,\n",
    "                                        'optimizer' : torch.optim.Adam,\n",
    "                                        'learning_rate' : 1e-3,}),\n",
    "                'training_params' : dict({'max_epochs' : 50,\n",
    "                                          'limit_train_batches' : 1.0})\n",
    "               }))"
   ]
  },
  {
   "cell_type": "code",
   "execution_count": null,
   "id": "2612b6e7-fff7-46f6-be05-5576eeb18cb8",
   "metadata": {},
   "outputs": [],
   "source": [
    "list_of_configs.append(dict({'model_label' : 'CNN',\n",
    "                'version' : 'kernel5',\n",
    "                'torch_model' : 'myTorchModels3D.CNN',\n",
    "                'datamodule' : 'all_data',\n",
    "                'torch_model_params' : dict({'nb_of_input_features' : 1, \\\n",
    "                                            'nb_of_output_features' : 1, \\\n",
    "                                             'kernel_size' : 5, \\\n",
    "                                            'int_layer_width' : 64}),\n",
    "                'module_params' : dict({'input_features'  : ['normalized_votemper'],\n",
    "                                        'output_features'  : ['normalized_votemper_var'],\n",
    "                                        'loss' : torch.nn.functional.mse_loss,\n",
    "                                        'optimizer' : torch.optim.Adam,\n",
    "                                        'learning_rate' : 1e-3,}),\n",
    "                'training_params' : dict({'max_epochs' : 50,\n",
    "                                          'limit_train_batches' : 1.0})\n",
    "               }))"
   ]
  },
  {
   "cell_type": "markdown",
   "id": "dd49c364-7745-4b3b-888a-9031390555af",
   "metadata": {
    "tags": []
   },
   "source": [
    "# Runs"
   ]
  },
  {
   "cell_type": "code",
   "execution_count": null,
   "id": "6505b0f8-b9fe-432a-b069-d2c51063926b",
   "metadata": {},
   "outputs": [
    {
     "data": {
      "text/plain": [
       "8"
      ]
     },
     "execution_count": 26,
     "metadata": {},
     "output_type": "execute_result"
    }
   ],
   "source": [
    "len(list_of_configs)"
   ]
  },
  {
   "cell_type": "code",
   "execution_count": null,
   "id": "9290de15-a9d5-4bf8-9ce4-a8eff62f7c7f",
   "metadata": {},
   "outputs": [],
   "source": [
    "project_name = 'SGS_temp_var_param_3Ddata'"
   ]
  },
  {
   "cell_type": "code",
   "execution_count": null,
   "id": "f233dbf5-0fc3-46e7-87ba-245b297e754c",
   "metadata": {},
   "outputs": [],
   "source": [
    "wandb.finish()"
   ]
  },
  {
   "cell_type": "code",
   "execution_count": null,
   "id": "de05a692-608c-42a8-b284-f18a1574af13",
   "metadata": {
    "tags": [],
    "toc-hr-collapsed": true
   },
   "outputs": [],
   "source": [
    "# for config in list_of_configs :\n",
    "#     run_experiment(config, project_name)"
   ]
  },
  {
   "cell_type": "markdown",
   "id": "c7444d27-431f-4f1c-b1b2-89cb6c955ce4",
   "metadata": {},
   "source": [
    "# Load checkpoints"
   ]
  },
  {
   "cell_type": "code",
   "execution_count": null,
   "id": "7bc86c9b-9c34-4915-8830-438defe77f79",
   "metadata": {},
   "outputs": [],
   "source": [
    "api = wandb.Api()"
   ]
  },
  {
   "cell_type": "code",
   "execution_count": null,
   "id": "abcd9519-1653-49ad-a447-5b6590e3a392",
   "metadata": {},
   "outputs": [],
   "source": [
    "list_of_models = [dict() for i in range(len(list_of_configs))]"
   ]
  },
  {
   "cell_type": "code",
   "execution_count": null,
   "id": "5ea634cf-f688-45d9-810a-a30c9954e647",
   "metadata": {},
   "outputs": [
    {
     "ename": "CommError",
     "evalue": "Project anagorb63/SGS_temp_var_param_3Ddata does not contain artifact: \"model-LinReg_valueLoss:v0\"",
     "output_type": "error",
     "traceback": [
      "\u001b[0;31m---------------------------------------------------------------------------\u001b[0m",
      "\u001b[0;31mValueError\u001b[0m                                Traceback (most recent call last)",
      "File \u001b[0;32m/srv/conda/envs/notebook/lib/python3.10/site-packages/wandb/apis/normalize.py:26\u001b[0m, in \u001b[0;36mnormalize_exceptions.<locals>.wrapper\u001b[0;34m(*args, **kwargs)\u001b[0m\n\u001b[1;32m     25\u001b[0m \u001b[38;5;28;01mtry\u001b[39;00m:\n\u001b[0;32m---> 26\u001b[0m     \u001b[38;5;28;01mreturn\u001b[39;00m \u001b[43mfunc\u001b[49m\u001b[43m(\u001b[49m\u001b[38;5;241;43m*\u001b[39;49m\u001b[43margs\u001b[49m\u001b[43m,\u001b[49m\u001b[43m \u001b[49m\u001b[38;5;241;43m*\u001b[39;49m\u001b[38;5;241;43m*\u001b[39;49m\u001b[43mkwargs\u001b[49m\u001b[43m)\u001b[49m\n\u001b[1;32m     27\u001b[0m \u001b[38;5;28;01mexcept\u001b[39;00m requests\u001b[38;5;241m.\u001b[39mHTTPError \u001b[38;5;28;01mas\u001b[39;00m err:\n",
      "File \u001b[0;32m/srv/conda/envs/notebook/lib/python3.10/site-packages/wandb/apis/public.py:955\u001b[0m, in \u001b[0;36mApi.artifact\u001b[0;34m(self, name, type)\u001b[0m\n\u001b[1;32m    954\u001b[0m entity, project, artifact_name \u001b[38;5;241m=\u001b[39m \u001b[38;5;28mself\u001b[39m\u001b[38;5;241m.\u001b[39m_parse_artifact_path(name)\n\u001b[0;32m--> 955\u001b[0m artifact \u001b[38;5;241m=\u001b[39m \u001b[43mArtifact\u001b[49m\u001b[43m(\u001b[49m\u001b[38;5;28;43mself\u001b[39;49m\u001b[38;5;241;43m.\u001b[39;49m\u001b[43mclient\u001b[49m\u001b[43m,\u001b[49m\u001b[43m \u001b[49m\u001b[43mentity\u001b[49m\u001b[43m,\u001b[49m\u001b[43m \u001b[49m\u001b[43mproject\u001b[49m\u001b[43m,\u001b[49m\u001b[43m \u001b[49m\u001b[43martifact_name\u001b[49m\u001b[43m)\u001b[49m\n\u001b[1;32m    956\u001b[0m \u001b[38;5;28;01mif\u001b[39;00m \u001b[38;5;28mtype\u001b[39m \u001b[38;5;129;01mis\u001b[39;00m \u001b[38;5;129;01mnot\u001b[39;00m \u001b[38;5;28;01mNone\u001b[39;00m \u001b[38;5;129;01mand\u001b[39;00m artifact\u001b[38;5;241m.\u001b[39mtype \u001b[38;5;241m!=\u001b[39m \u001b[38;5;28mtype\u001b[39m:\n",
      "File \u001b[0;32m/srv/conda/envs/notebook/lib/python3.10/site-packages/wandb/apis/public.py:4368\u001b[0m, in \u001b[0;36mArtifact.__init__\u001b[0;34m(self, client, entity, project, name, attrs)\u001b[0m\n\u001b[1;32m   4367\u001b[0m \u001b[38;5;28;01mif\u001b[39;00m \u001b[38;5;28mself\u001b[39m\u001b[38;5;241m.\u001b[39m_attrs \u001b[38;5;129;01mis\u001b[39;00m \u001b[38;5;28;01mNone\u001b[39;00m:\n\u001b[0;32m-> 4368\u001b[0m     \u001b[38;5;28;43mself\u001b[39;49m\u001b[38;5;241;43m.\u001b[39;49m\u001b[43m_load\u001b[49m\u001b[43m(\u001b[49m\u001b[43m)\u001b[49m\n\u001b[1;32m   4369\u001b[0m \u001b[38;5;28mself\u001b[39m\u001b[38;5;241m.\u001b[39m_metadata \u001b[38;5;241m=\u001b[39m json\u001b[38;5;241m.\u001b[39mloads(\u001b[38;5;28mself\u001b[39m\u001b[38;5;241m.\u001b[39m_attrs\u001b[38;5;241m.\u001b[39mget(\u001b[38;5;124m\"\u001b[39m\u001b[38;5;124mmetadata\u001b[39m\u001b[38;5;124m\"\u001b[39m) \u001b[38;5;129;01mor\u001b[39;00m \u001b[38;5;124m\"\u001b[39m\u001b[38;5;132;01m{}\u001b[39;00m\u001b[38;5;124m\"\u001b[39m)\n",
      "File \u001b[0;32m/srv/conda/envs/notebook/lib/python3.10/site-packages/wandb/apis/public.py:5097\u001b[0m, in \u001b[0;36mArtifact._load\u001b[0;34m(self)\u001b[0m\n\u001b[1;32m   5092\u001b[0m \u001b[38;5;28;01mif\u001b[39;00m (\n\u001b[1;32m   5093\u001b[0m     response \u001b[38;5;129;01mis\u001b[39;00m \u001b[38;5;28;01mNone\u001b[39;00m\n\u001b[1;32m   5094\u001b[0m     \u001b[38;5;129;01mor\u001b[39;00m response\u001b[38;5;241m.\u001b[39mget(\u001b[38;5;124m\"\u001b[39m\u001b[38;5;124mproject\u001b[39m\u001b[38;5;124m\"\u001b[39m) \u001b[38;5;129;01mis\u001b[39;00m \u001b[38;5;28;01mNone\u001b[39;00m\n\u001b[1;32m   5095\u001b[0m     \u001b[38;5;129;01mor\u001b[39;00m response[\u001b[38;5;124m\"\u001b[39m\u001b[38;5;124mproject\u001b[39m\u001b[38;5;124m\"\u001b[39m]\u001b[38;5;241m.\u001b[39mget(\u001b[38;5;124m\"\u001b[39m\u001b[38;5;124martifact\u001b[39m\u001b[38;5;124m\"\u001b[39m) \u001b[38;5;129;01mis\u001b[39;00m \u001b[38;5;28;01mNone\u001b[39;00m\n\u001b[1;32m   5096\u001b[0m ):\n\u001b[0;32m-> 5097\u001b[0m     \u001b[38;5;28;01mraise\u001b[39;00m \u001b[38;5;167;01mValueError\u001b[39;00m(\n\u001b[1;32m   5098\u001b[0m         \u001b[38;5;124m'\u001b[39m\u001b[38;5;124mProject \u001b[39m\u001b[38;5;132;01m%s\u001b[39;00m\u001b[38;5;124m/\u001b[39m\u001b[38;5;132;01m%s\u001b[39;00m\u001b[38;5;124m does not contain artifact: \u001b[39m\u001b[38;5;124m\"\u001b[39m\u001b[38;5;132;01m%s\u001b[39;00m\u001b[38;5;124m\"\u001b[39m\u001b[38;5;124m'\u001b[39m\n\u001b[1;32m   5099\u001b[0m         \u001b[38;5;241m%\u001b[39m (\u001b[38;5;28mself\u001b[39m\u001b[38;5;241m.\u001b[39mentity, \u001b[38;5;28mself\u001b[39m\u001b[38;5;241m.\u001b[39mproject, \u001b[38;5;28mself\u001b[39m\u001b[38;5;241m.\u001b[39m_artifact_name)\n\u001b[1;32m   5100\u001b[0m     )\n\u001b[1;32m   5101\u001b[0m \u001b[38;5;28mself\u001b[39m\u001b[38;5;241m.\u001b[39m_attrs \u001b[38;5;241m=\u001b[39m response[\u001b[38;5;124m\"\u001b[39m\u001b[38;5;124mproject\u001b[39m\u001b[38;5;124m\"\u001b[39m][\u001b[38;5;124m\"\u001b[39m\u001b[38;5;124martifact\u001b[39m\u001b[38;5;124m\"\u001b[39m]\n",
      "\u001b[0;31mValueError\u001b[0m: Project anagorb63/SGS_temp_var_param_3Ddata does not contain artifact: \"model-LinReg_valueLoss:v0\"",
      "\nDuring handling of the above exception, another exception occurred:\n",
      "\u001b[0;31mCommError\u001b[0m                                 Traceback (most recent call last)",
      "Cell \u001b[0;32mIn[32], line 3\u001b[0m\n\u001b[1;32m      1\u001b[0m \u001b[38;5;28;01mfor\u001b[39;00m i, config \u001b[38;5;129;01min\u001b[39;00m \u001b[38;5;28menumerate\u001b[39m(list_of_configs) : \n\u001b[1;32m      2\u001b[0m     checkpoint_reference \u001b[38;5;241m=\u001b[39m \u001b[38;5;124m'\u001b[39m\u001b[38;5;124managorb63/\u001b[39m\u001b[38;5;124m'\u001b[39m\u001b[38;5;241m+\u001b[39mproject_name\u001b[38;5;241m+\u001b[39m\u001b[38;5;124m\"\u001b[39m\u001b[38;5;124m/model-\u001b[39m\u001b[38;5;124m\"\u001b[39m\u001b[38;5;241m+\u001b[39mconfig[\u001b[38;5;124m'\u001b[39m\u001b[38;5;124mmodel_label\u001b[39m\u001b[38;5;124m'\u001b[39m]\u001b[38;5;241m+\u001b[39m\u001b[38;5;124m'\u001b[39m\u001b[38;5;124m_\u001b[39m\u001b[38;5;124m'\u001b[39m\u001b[38;5;241m+\u001b[39mconfig[\u001b[38;5;124m'\u001b[39m\u001b[38;5;124mversion\u001b[39m\u001b[38;5;124m'\u001b[39m]\u001b[38;5;241m+\u001b[39m\u001b[38;5;124m'\u001b[39m\u001b[38;5;124m:v0\u001b[39m\u001b[38;5;124m'\u001b[39m\n\u001b[0;32m----> 3\u001b[0m     artifact \u001b[38;5;241m=\u001b[39m \u001b[43mapi\u001b[49m\u001b[38;5;241;43m.\u001b[39;49m\u001b[43martifact\u001b[49m\u001b[43m(\u001b[49m\u001b[43mcheckpoint_reference\u001b[49m\u001b[43m)\u001b[49m\n\u001b[1;32m      4\u001b[0m     artifact_dir \u001b[38;5;241m=\u001b[39m artifact\u001b[38;5;241m.\u001b[39mdownload()\n\u001b[1;32m      5\u001b[0m     list_of_models[i][\u001b[38;5;124m'\u001b[39m\u001b[38;5;124mbest\u001b[39m\u001b[38;5;124m'\u001b[39m] \u001b[38;5;241m=\u001b[39m myParam3Ddata\u001b[38;5;241m.\u001b[39mGenericPyLiModule\u001b[38;5;241m.\u001b[39mload_from_checkpoint(os\u001b[38;5;241m.\u001b[39mpath\u001b[38;5;241m.\u001b[39mabspath(artifact_dir)\u001b[38;5;241m+\u001b[39m\u001b[38;5;124m\"\u001b[39m\u001b[38;5;124m/model.ckpt\u001b[39m\u001b[38;5;124m\"\u001b[39m)\n",
      "File \u001b[0;32m/srv/conda/envs/notebook/lib/python3.10/site-packages/wandb/apis/normalize.py:64\u001b[0m, in \u001b[0;36mnormalize_exceptions.<locals>.wrapper\u001b[0;34m(*args, **kwargs)\u001b[0m\n\u001b[1;32m     62\u001b[0m     \u001b[38;5;28;01mraise\u001b[39;00m\n\u001b[1;32m     63\u001b[0m \u001b[38;5;28;01melse\u001b[39;00m:\n\u001b[0;32m---> 64\u001b[0m     \u001b[38;5;28;01mraise\u001b[39;00m CommError(message, err)\u001b[38;5;241m.\u001b[39mwith_traceback(sys\u001b[38;5;241m.\u001b[39mexc_info()[\u001b[38;5;241m2\u001b[39m])\n",
      "File \u001b[0;32m/srv/conda/envs/notebook/lib/python3.10/site-packages/wandb/apis/normalize.py:26\u001b[0m, in \u001b[0;36mnormalize_exceptions.<locals>.wrapper\u001b[0;34m(*args, **kwargs)\u001b[0m\n\u001b[1;32m     24\u001b[0m message \u001b[38;5;241m=\u001b[39m \u001b[38;5;124m\"\u001b[39m\u001b[38;5;124mWhoa, you found a bug.\u001b[39m\u001b[38;5;124m\"\u001b[39m\n\u001b[1;32m     25\u001b[0m \u001b[38;5;28;01mtry\u001b[39;00m:\n\u001b[0;32m---> 26\u001b[0m     \u001b[38;5;28;01mreturn\u001b[39;00m \u001b[43mfunc\u001b[49m\u001b[43m(\u001b[49m\u001b[38;5;241;43m*\u001b[39;49m\u001b[43margs\u001b[49m\u001b[43m,\u001b[49m\u001b[43m \u001b[49m\u001b[38;5;241;43m*\u001b[39;49m\u001b[38;5;241;43m*\u001b[39;49m\u001b[43mkwargs\u001b[49m\u001b[43m)\u001b[49m\n\u001b[1;32m     27\u001b[0m \u001b[38;5;28;01mexcept\u001b[39;00m requests\u001b[38;5;241m.\u001b[39mHTTPError \u001b[38;5;28;01mas\u001b[39;00m err:\n\u001b[1;32m     28\u001b[0m     \u001b[38;5;28;01mraise\u001b[39;00m CommError(err\u001b[38;5;241m.\u001b[39mresponse, err)\n",
      "File \u001b[0;32m/srv/conda/envs/notebook/lib/python3.10/site-packages/wandb/apis/public.py:955\u001b[0m, in \u001b[0;36mApi.artifact\u001b[0;34m(self, name, type)\u001b[0m\n\u001b[1;32m    953\u001b[0m     \u001b[38;5;28;01mraise\u001b[39;00m \u001b[38;5;167;01mValueError\u001b[39;00m(\u001b[38;5;124m\"\u001b[39m\u001b[38;5;124mYou must specify name= to fetch an artifact.\u001b[39m\u001b[38;5;124m\"\u001b[39m)\n\u001b[1;32m    954\u001b[0m entity, project, artifact_name \u001b[38;5;241m=\u001b[39m \u001b[38;5;28mself\u001b[39m\u001b[38;5;241m.\u001b[39m_parse_artifact_path(name)\n\u001b[0;32m--> 955\u001b[0m artifact \u001b[38;5;241m=\u001b[39m \u001b[43mArtifact\u001b[49m\u001b[43m(\u001b[49m\u001b[38;5;28;43mself\u001b[39;49m\u001b[38;5;241;43m.\u001b[39;49m\u001b[43mclient\u001b[49m\u001b[43m,\u001b[49m\u001b[43m \u001b[49m\u001b[43mentity\u001b[49m\u001b[43m,\u001b[49m\u001b[43m \u001b[49m\u001b[43mproject\u001b[49m\u001b[43m,\u001b[49m\u001b[43m \u001b[49m\u001b[43martifact_name\u001b[49m\u001b[43m)\u001b[49m\n\u001b[1;32m    956\u001b[0m \u001b[38;5;28;01mif\u001b[39;00m \u001b[38;5;28mtype\u001b[39m \u001b[38;5;129;01mis\u001b[39;00m \u001b[38;5;129;01mnot\u001b[39;00m \u001b[38;5;28;01mNone\u001b[39;00m \u001b[38;5;129;01mand\u001b[39;00m artifact\u001b[38;5;241m.\u001b[39mtype \u001b[38;5;241m!=\u001b[39m \u001b[38;5;28mtype\u001b[39m:\n\u001b[1;32m    957\u001b[0m     \u001b[38;5;28;01mraise\u001b[39;00m \u001b[38;5;167;01mValueError\u001b[39;00m(\n\u001b[1;32m    958\u001b[0m         \u001b[38;5;124mf\u001b[39m\u001b[38;5;124m\"\u001b[39m\u001b[38;5;124mtype \u001b[39m\u001b[38;5;132;01m{\u001b[39;00m\u001b[38;5;28mtype\u001b[39m\u001b[38;5;132;01m}\u001b[39;00m\u001b[38;5;124m specified but this artifact is of type \u001b[39m\u001b[38;5;132;01m{\u001b[39;00martifact\u001b[38;5;241m.\u001b[39mtype\u001b[38;5;132;01m}\u001b[39;00m\u001b[38;5;124m\"\u001b[39m\n\u001b[1;32m    959\u001b[0m     )\n",
      "File \u001b[0;32m/srv/conda/envs/notebook/lib/python3.10/site-packages/wandb/apis/public.py:4368\u001b[0m, in \u001b[0;36mArtifact.__init__\u001b[0;34m(self, client, entity, project, name, attrs)\u001b[0m\n\u001b[1;32m   4366\u001b[0m \u001b[38;5;28mself\u001b[39m\u001b[38;5;241m.\u001b[39m_attrs \u001b[38;5;241m=\u001b[39m attrs\n\u001b[1;32m   4367\u001b[0m \u001b[38;5;28;01mif\u001b[39;00m \u001b[38;5;28mself\u001b[39m\u001b[38;5;241m.\u001b[39m_attrs \u001b[38;5;129;01mis\u001b[39;00m \u001b[38;5;28;01mNone\u001b[39;00m:\n\u001b[0;32m-> 4368\u001b[0m     \u001b[38;5;28;43mself\u001b[39;49m\u001b[38;5;241;43m.\u001b[39;49m\u001b[43m_load\u001b[49m\u001b[43m(\u001b[49m\u001b[43m)\u001b[49m\n\u001b[1;32m   4369\u001b[0m \u001b[38;5;28mself\u001b[39m\u001b[38;5;241m.\u001b[39m_metadata \u001b[38;5;241m=\u001b[39m json\u001b[38;5;241m.\u001b[39mloads(\u001b[38;5;28mself\u001b[39m\u001b[38;5;241m.\u001b[39m_attrs\u001b[38;5;241m.\u001b[39mget(\u001b[38;5;124m\"\u001b[39m\u001b[38;5;124mmetadata\u001b[39m\u001b[38;5;124m\"\u001b[39m) \u001b[38;5;129;01mor\u001b[39;00m \u001b[38;5;124m\"\u001b[39m\u001b[38;5;132;01m{}\u001b[39;00m\u001b[38;5;124m\"\u001b[39m)\n\u001b[1;32m   4370\u001b[0m \u001b[38;5;28mself\u001b[39m\u001b[38;5;241m.\u001b[39m_description \u001b[38;5;241m=\u001b[39m \u001b[38;5;28mself\u001b[39m\u001b[38;5;241m.\u001b[39m_attrs\u001b[38;5;241m.\u001b[39mget(\u001b[38;5;124m\"\u001b[39m\u001b[38;5;124mdescription\u001b[39m\u001b[38;5;124m\"\u001b[39m, \u001b[38;5;28;01mNone\u001b[39;00m)\n",
      "File \u001b[0;32m/srv/conda/envs/notebook/lib/python3.10/site-packages/wandb/apis/public.py:5097\u001b[0m, in \u001b[0;36mArtifact._load\u001b[0;34m(self)\u001b[0m\n\u001b[1;32m   5089\u001b[0m         \u001b[38;5;28;01mraise\u001b[39;00m \u001b[38;5;167;01mValueError\u001b[39;00m(\n\u001b[1;32m   5090\u001b[0m             \u001b[38;5;124m'\u001b[39m\u001b[38;5;124mAttempted to fetch artifact without alias (e.g. \u001b[39m\u001b[38;5;124m\"\u001b[39m\u001b[38;5;124m<artifact_name>:v3\u001b[39m\u001b[38;5;124m\"\u001b[39m\u001b[38;5;124m or \u001b[39m\u001b[38;5;124m\"\u001b[39m\u001b[38;5;124m<artifact_name>:latest\u001b[39m\u001b[38;5;124m\"\u001b[39m\u001b[38;5;124m)\u001b[39m\u001b[38;5;124m'\u001b[39m\n\u001b[1;32m   5091\u001b[0m         )\n\u001b[1;32m   5092\u001b[0m \u001b[38;5;28;01mif\u001b[39;00m (\n\u001b[1;32m   5093\u001b[0m     response \u001b[38;5;129;01mis\u001b[39;00m \u001b[38;5;28;01mNone\u001b[39;00m\n\u001b[1;32m   5094\u001b[0m     \u001b[38;5;129;01mor\u001b[39;00m response\u001b[38;5;241m.\u001b[39mget(\u001b[38;5;124m\"\u001b[39m\u001b[38;5;124mproject\u001b[39m\u001b[38;5;124m\"\u001b[39m) \u001b[38;5;129;01mis\u001b[39;00m \u001b[38;5;28;01mNone\u001b[39;00m\n\u001b[1;32m   5095\u001b[0m     \u001b[38;5;129;01mor\u001b[39;00m response[\u001b[38;5;124m\"\u001b[39m\u001b[38;5;124mproject\u001b[39m\u001b[38;5;124m\"\u001b[39m]\u001b[38;5;241m.\u001b[39mget(\u001b[38;5;124m\"\u001b[39m\u001b[38;5;124martifact\u001b[39m\u001b[38;5;124m\"\u001b[39m) \u001b[38;5;129;01mis\u001b[39;00m \u001b[38;5;28;01mNone\u001b[39;00m\n\u001b[1;32m   5096\u001b[0m ):\n\u001b[0;32m-> 5097\u001b[0m     \u001b[38;5;28;01mraise\u001b[39;00m \u001b[38;5;167;01mValueError\u001b[39;00m(\n\u001b[1;32m   5098\u001b[0m         \u001b[38;5;124m'\u001b[39m\u001b[38;5;124mProject \u001b[39m\u001b[38;5;132;01m%s\u001b[39;00m\u001b[38;5;124m/\u001b[39m\u001b[38;5;132;01m%s\u001b[39;00m\u001b[38;5;124m does not contain artifact: \u001b[39m\u001b[38;5;124m\"\u001b[39m\u001b[38;5;132;01m%s\u001b[39;00m\u001b[38;5;124m\"\u001b[39m\u001b[38;5;124m'\u001b[39m\n\u001b[1;32m   5099\u001b[0m         \u001b[38;5;241m%\u001b[39m (\u001b[38;5;28mself\u001b[39m\u001b[38;5;241m.\u001b[39mentity, \u001b[38;5;28mself\u001b[39m\u001b[38;5;241m.\u001b[39mproject, \u001b[38;5;28mself\u001b[39m\u001b[38;5;241m.\u001b[39m_artifact_name)\n\u001b[1;32m   5100\u001b[0m     )\n\u001b[1;32m   5101\u001b[0m \u001b[38;5;28mself\u001b[39m\u001b[38;5;241m.\u001b[39m_attrs \u001b[38;5;241m=\u001b[39m response[\u001b[38;5;124m\"\u001b[39m\u001b[38;5;124mproject\u001b[39m\u001b[38;5;124m\"\u001b[39m][\u001b[38;5;124m\"\u001b[39m\u001b[38;5;124martifact\u001b[39m\u001b[38;5;124m\"\u001b[39m]\n\u001b[1;32m   5102\u001b[0m \u001b[38;5;28;01mreturn\u001b[39;00m \u001b[38;5;28mself\u001b[39m\u001b[38;5;241m.\u001b[39m_attrs\n",
      "\u001b[0;31mCommError\u001b[0m: Project anagorb63/SGS_temp_var_param_3Ddata does not contain artifact: \"model-LinReg_valueLoss:v0\""
     ]
    }
   ],
   "source": [
    "for i, config in enumerate(list_of_configs) : \n",
    "    checkpoint_reference = 'anagorb63/'+project_name+\"/model-\"+config['model_label']+'_'+config['version']+':v0'\n",
    "    artifact = api.artifact(checkpoint_reference)\n",
    "    artifact_dir = artifact.download()\n",
    "    list_of_models[i]['best'] = myParam3Ddata.GenericPyLiModule.load_from_checkpoint(os.path.abspath(artifact_dir)+\"/model.ckpt\")\n",
    "    list_of_models[i]['label'] = config['model_label']+'_'+config['version']\n",
    "    list_of_models[i]['model_name'] = config['model_label']\n",
    "    list_of_models[i]['version'] = config['version']"
   ]
  },
  {
   "cell_type": "markdown",
   "id": "bf04fc3f-67ad-422e-a806-7939e0e0868d",
   "metadata": {},
   "source": [
    "# Get truth and predictions"
   ]
  },
  {
   "cell_type": "code",
   "execution_count": null,
   "id": "cf4e2f98-3bf2-4a48-8096-0e8b3b554655",
   "metadata": {},
   "outputs": [],
   "source": [
    "%%time\n",
    "test_datamodule = all_data\n",
    "test_datamodule.setup(stage='test')"
   ]
  },
  {
   "cell_type": "code",
   "execution_count": null,
   "id": "46c14530-9aa8-48fe-adff-ef0fa4a4e43d",
   "metadata": {},
   "outputs": [],
   "source": [
    "%%time\n",
    "for i, model in enumerate(list_of_models) :\n",
    "    trainer = pl.Trainer(accelerator='gpu', devices=1)\n",
    "    model['pred'] = dict()\n",
    "    prediction_dict = trainer.predict(model['best'], dataloaders=test_datamodule.test_dataloader())\n",
    "    for feature in list(prediction_dict[0][0].keys()) :\n",
    "        model['pred'][feature] = [prediction_dict[idx_dataset][0][feature] for idx_dataset in range(len(test_datamodule.test_dataloader()))]\n",
    "    del prediction_dict"
   ]
  },
  {
   "cell_type": "markdown",
   "id": "686f95f6-2e09-4c4f-83bb-40437db2f8a6",
   "metadata": {},
   "source": [
    "# Get ground truth"
   ]
  },
  {
   "cell_type": "code",
   "execution_count": null,
   "id": "0eec4b47-b82d-46bc-b51f-bd85fee74f7f",
   "metadata": {},
   "outputs": [],
   "source": [
    "truth = dict()\n",
    "for feature in ['votemper_var', 'rho_ct_ct', 'f'] :\n",
    "    truth[feature] = [torch.Tensor() for i in range(len(test_datamodule.test_dataloader()))]"
   ]
  },
  {
   "cell_type": "code",
   "execution_count": null,
   "id": "3abaa6ef-af63-4076-b9fc-9c21fb598d9f",
   "metadata": {},
   "outputs": [],
   "source": [
    "for i, dataloader in enumerate(test_datamodule.test_dataloader()) :\n",
    "    iterator = iter(dataloader)\n",
    "    sample = next(iterator)\n",
    "    for feature in ['votemper_var', 'rho_ct_ct'] :\n",
    "        truth[feature][i] = sample[feature].where(sample['mask'][:,None,:,:], torch.ones_like(sample['mask'][:,None,:,:])*np.nan)"
   ]
  },
  {
   "cell_type": "markdown",
   "id": "4d2df2c1-19a0-4dbf-a592-2b7f0ec64ba5",
   "metadata": {},
   "source": [
    "# Get logged metrics"
   ]
  },
  {
   "cell_type": "code",
   "execution_count": null,
   "id": "324e9f47-1ee4-4788-802a-86ac81f87cc4",
   "metadata": {},
   "outputs": [],
   "source": [
    "metrics_list = ['loss_val', 'loss_grad', 'corr_coef', 'corr_coef_grad']"
   ]
  },
  {
   "cell_type": "code",
   "execution_count": null,
   "id": "4e59d17f-a5b4-485a-bfb0-dbdf13db61e1",
   "metadata": {},
   "outputs": [],
   "source": [
    "feature_list = ['votemper_var']"
   ]
  },
  {
   "cell_type": "code",
   "execution_count": null,
   "id": "0541a7e7-29e7-4f05-9581-0cd6dd01e671",
   "metadata": {},
   "outputs": [],
   "source": [
    "for i, model in enumerate(list_of_models) : \n",
    "    run_id = model['label']\n",
    "    run = api.run(\"anagorb63/\"+project_name+\"/\"+run_id)\n",
    "    metrics_table = run.history().iloc[-1]\n",
    "    for feature in feature_list :\n",
    "        model[feature] = dict()\n",
    "        for metrics in metrics_list :\n",
    "            model[feature][metrics] = [metrics_table[metrics+'_'+feature+'/dataloader_idx_'+str(idx)] for idx in range(len(test_datamodule.test_dataloader()))]\n",
    "    model['pressure_grad'] = dict()\n",
    "    model['pressure_grad']['loss_val'] = [metrics_table['loss_val_pressure_grad/dataloader_idx_'+str(idx)] for idx in range(len(test_datamodule.test_dataloader()))]"
   ]
  },
  {
   "cell_type": "markdown",
   "id": "c6553f9f-d48a-4ec5-8fc6-e8cce447de3f",
   "metadata": {},
   "source": [
    "# Image examples"
   ]
  },
  {
   "cell_type": "code",
   "execution_count": null,
   "id": "dffe1492-c3e9-40e2-99b4-206c98de2618",
   "metadata": {},
   "outputs": [],
   "source": [
    "def plot_snapshots_at_2depths(idx_batch, idx_levels, idx_region, feature) : \n",
    "    fig, axs = plt.subplots(nrows=2, ncols=1, constrained_layout=True, figsize=(2*(len(list_of_models)+1),5),sharex=True, sharey=True)\n",
    "    fig.suptitle('Snapshots in ' + data_dict[idx_region]['label'])\n",
    "\n",
    "    # clear subplots\n",
    "    for ax in axs:\n",
    "        ax.remove()\n",
    "\n",
    "    # add subfigure per subplot\n",
    "    gridspec = axs[0].get_subplotspec().get_gridspec()\n",
    "    subfigs = [fig.add_subfigure(gs) for gs in gridspec]\n",
    "\n",
    "    for row, subfig in enumerate(subfigs):\n",
    "        axs = subfig.subplots(ncols=len(list_of_models)+1, nrows=1, sharex=True, sharey=True)\n",
    "        img = axs[0].imshow(truth[feature][idx_region][idx_batch,idx_levels[row],:,:], \\\n",
    "                            cmap=('ocean_r' if (row==0) else current_cmap), \\\n",
    "                            #vmin=(None if (row==0) else color_min), vmax=(None if (row==0) else color_max), \\\n",
    "                            origin='lower')\n",
    "        fig.colorbar(img, location='left',  shrink=0.8)\n",
    "        axs[0].set(title='Truth')\n",
    "        #if (row == 0) :\n",
    "        color_min = img.colorbar.vmin\n",
    "        color_max = img.colorbar.vmax\n",
    "        current_cmap = img.cmap\n",
    "        current_cmap.set_bad(color='silver')\n",
    "\n",
    "        for i, model in enumerate(list_of_models) :\n",
    "            img = axs[i+1].imshow(model['pred'][feature + '_masked'][idx_region][idx_batch,idx_levels[row],:,:], cmap=current_cmap, \\\n",
    "                                           vmin=color_min, vmax=color_max, origin='lower')\n",
    "            axs[i+1].set(title=model['label'])\n",
    "        fig.colorbar(img, ax=axs[-1], shrink=0.8)\n",
    "    subfigs[0].suptitle('On the surface')\n",
    "    subfigs[1].suptitle('At depth')\n",
    "    plt.show()"
   ]
  },
  {
   "cell_type": "code",
   "execution_count": null,
   "id": "ca69ba50-d193-4512-a091-2d7d06c6b589",
   "metadata": {},
   "outputs": [],
   "source": [
    "idx_batch = 0"
   ]
  },
  {
   "cell_type": "code",
   "execution_count": null,
   "id": "1275cc27-afc8-4a2a-bf0e-8197f4879136",
   "metadata": {},
   "outputs": [],
   "source": [
    "idx_levels = [0,106]"
   ]
  },
  {
   "cell_type": "markdown",
   "id": "50c234d5-9fd6-41d3-8aee-741dd24c940c",
   "metadata": {},
   "source": [
    "## Region 1 : Gulfstream (FMA)"
   ]
  },
  {
   "cell_type": "code",
   "execution_count": null,
   "id": "84f69bb6-b420-4626-97fb-d86e8242e927",
   "metadata": {},
   "outputs": [],
   "source": [
    "idx_region = 0\n",
    "\n",
    "plot_snapshots_at_2depths(idx_batch, idx_levels, idx_region, 'votemper_var')"
   ]
  },
  {
   "cell_type": "markdown",
   "id": "c54a4fd1-3e1d-4759-863c-043bce907b0a",
   "metadata": {},
   "source": [
    "## Region 2 - Mid Atlantic (ASO)"
   ]
  },
  {
   "cell_type": "code",
   "execution_count": null,
   "id": "863d2dba-2c18-4a63-8870-879d692ac3ad",
   "metadata": {},
   "outputs": [],
   "source": [
    "idx_region = 3\n",
    "\n",
    "plot_snapshots_at_2depths(idx_batch, idx_levels, idx_region, 'votemper_var')"
   ]
  },
  {
   "cell_type": "markdown",
   "id": "816db02c-e837-453a-b879-72f31ae89a5b",
   "metadata": {},
   "source": [
    "## Region 3 - WEDMED (ASO)"
   ]
  },
  {
   "cell_type": "code",
   "execution_count": null,
   "id": "0433fa9a-480f-48ef-ab54-de52a053c47e",
   "metadata": {},
   "outputs": [],
   "source": [
    "idx_region = 5\n",
    "\n",
    "plot_snapshots_at_2depths(idx_batch, idx_levels, idx_region, 'votemper_var')"
   ]
  },
  {
   "cell_type": "markdown",
   "id": "b477b050-1b88-46bf-bedb-1fe2817aacbf",
   "metadata": {},
   "source": [
    "# Metrics over all datasets"
   ]
  },
  {
   "cell_type": "code",
   "execution_count": null,
   "id": "d3d4504c-6d9a-47da-900f-ecd0ec4a6c96",
   "metadata": {},
   "outputs": [],
   "source": [
    "bar_colors = list(mcolors.TABLEAU_COLORS.values()) + list(mcolors.BASE_COLORS.values())"
   ]
  },
  {
   "cell_type": "code",
   "execution_count": null,
   "id": "2a9bd49d-f6f5-45ef-ad09-266a3787cb44",
   "metadata": {},
   "outputs": [],
   "source": [
    "xlabels = ['LinReg', 'FCNN', 'CNN']"
   ]
  },
  {
   "cell_type": "code",
   "execution_count": null,
   "id": "9ccdf2ab-19ab-4893-8fc4-40e5aa5250b1",
   "metadata": {},
   "outputs": [],
   "source": [
    "fig, ax = plt.subplots(1, len(metrics_list), constrained_layout=True, figsize=(3.0*len(metrics_list), 2.75), sharex=True)\n",
    "fig.suptitle('Metrics for non-normalized sub-grid temperature variance averaged over all datasets')\n",
    "x = np.arange(3)\n",
    "versions = [0 for i in x]\n",
    "bar_width = 0.2\n",
    "feature = 'votemper_var'\n",
    "for idx_model, model in enumerate(list_of_models) :\n",
    "    i = xlabels.index(model['model_name'])\n",
    "    j = versions[i]\n",
    "    for idx, metrics in enumerate(metrics_list) :\n",
    "        ax[idx].bar(x[i]+j*bar_width, np.mean(model[feature][metrics]), width=bar_width, label=model['label'])\n",
    "        ax[idx].set_xticks(x, xlabels, rotation='vertical') \n",
    "    versions[i]+=1\n",
    "ax[-1].legend(bbox_to_anchor=(1.05, 1), loc='upper left')\n",
    "for axis in ax[2::] :\n",
    "    axis.set(ylim=[0,1])\n",
    "\n",
    "ax[0].set(title=r'MSE on value of $\\sigma_T^2$')\n",
    "ax[1].set(title=r'MSE on grad $|\\delta x \\cdot \\nabla \\sigma_T^2|$')\n",
    "ax[2].set(title=r'Corr coef on $\\sigma_T^2$')\n",
    "ax[3].set(title=r'Corr coef on grad $|\\delta x \\cdot \\nabla \\sigma_T^2|$')\n",
    "plt.show()"
   ]
  },
  {
   "cell_type": "markdown",
   "id": "b26272bd-f578-476e-8553-8d9d1a1c3f8a",
   "metadata": {},
   "source": [
    "## MSE across datasets (by region/season)"
   ]
  },
  {
   "cell_type": "code",
   "execution_count": null,
   "id": "71a93ab5-908a-4952-b5bf-7f39dfec9ac8",
   "metadata": {},
   "outputs": [],
   "source": [
    "fig, ax = plt.subplots(1, 6, constrained_layout=True, figsize=(15, 3.0), sharex=True, sharey=False)\n",
    "fig.suptitle('MSE of subgrid temperature variance')\n",
    "\n",
    "feature = 'votemper_var'\n",
    "metrics = 'loss_val'\n",
    "for region in range(len(data_dict)) :\n",
    "    versions = [0 for i in x]\n",
    "    for idx_model, model in enumerate(list_of_models) :\n",
    "        i = xlabels.index(model['model_name'])\n",
    "        j = versions[i]\n",
    "        ax[region].bar(x[i]+j*bar_width, model[feature][metrics][region], width=bar_width, label=model['label'])\n",
    "        versions[i]+=1\n",
    "    ax[region].set_xticks(x, xlabels, rotation='vertical')\n",
    "    ax[region].set(title=data_dict[region]['label'])\n",
    "ax[0].set(ylabel='MSE')\n",
    "ax[-1].legend(bbox_to_anchor=(1.05, 1), loc='upper left')\n",
    "plt.show()"
   ]
  },
  {
   "cell_type": "markdown",
   "id": "2d850430-761d-4925-a72a-fad5f9c0ed90",
   "metadata": {},
   "source": [
    "# Vertical profiles"
   ]
  },
  {
   "cell_type": "code",
   "execution_count": null,
   "id": "9d19a757-f036-4a98-b38e-3e65b20013ef",
   "metadata": {},
   "outputs": [],
   "source": [
    "nb_of_random_points = 6"
   ]
  },
  {
   "cell_type": "code",
   "execution_count": null,
   "id": "7f567247-5e59-45d1-983a-5fdf9c579a45",
   "metadata": {},
   "outputs": [],
   "source": [
    "random_points = [dict() for i in range(nb_of_random_points)]"
   ]
  },
  {
   "cell_type": "code",
   "execution_count": null,
   "id": "ad1731b3-8549-48ac-8d9c-11efce5d5100",
   "metadata": {},
   "outputs": [],
   "source": [
    "i = 0\n",
    "while (i < nb_of_random_points) : \n",
    "    x = randrange(2,sample['votemper_var'].shape[3]-9)\n",
    "    y = randrange(2,sample['votemper_var'].shape[2]-9)\n",
    "    if (sample['eroded_mask'][0,x,y] > 0) :\n",
    "        random_points[i] = dict({'x': x, 'y': y})\n",
    "        i+=1\n",
    "    else :\n",
    "        continue"
   ]
  },
  {
   "cell_type": "code",
   "execution_count": null,
   "id": "85ea1c6a-757e-4cac-a2a1-f0b94b482f81",
   "metadata": {},
   "outputs": [],
   "source": [
    "random_points"
   ]
  },
  {
   "cell_type": "code",
   "execution_count": null,
   "id": "615d0db7-51d3-4fd9-950c-f71dbb79f235",
   "metadata": {},
   "outputs": [],
   "source": [
    "idx_region = 0\n",
    "idx_batch = 0"
   ]
  },
  {
   "cell_type": "code",
   "execution_count": null,
   "id": "c843ad66-6909-4023-a096-540e7ab1d847",
   "metadata": {},
   "outputs": [],
   "source": [
    "fig, axs = plt.subplots(nrows=1, ncols=1, constrained_layout=True, figsize=(2.5,2.5),sharex=True, sharey=True)\n",
    "fig.suptitle('Random points')\n",
    "img = axs.imshow(truth['votemper_var'][idx_region][idx_batch,0,:,:], origin='lower')\n",
    "xs=[point['x'] for point in random_points]\n",
    "ys=[point['y'] for point in random_points]\n",
    "for i, point in enumerate(random_points) : \n",
    "    axs.annotate(str(i), xy=(point['x'], point['y']), color='red', xytext=(3.5, -1), textcoords=\"offset points\",)\n",
    "axs.scatter(xs,ys, color='red')\n",
    "fig.colorbar(img)\n",
    "plt.show()"
   ]
  },
  {
   "cell_type": "markdown",
   "id": "799e8d98-a041-4e8a-860f-1a248f03c529",
   "metadata": {
    "tags": []
   },
   "source": [
    "## Subgrid temp variance"
   ]
  },
  {
   "cell_type": "code",
   "execution_count": null,
   "id": "4cc5163f-f3e5-46fd-8610-3ca1fa68ed12",
   "metadata": {},
   "outputs": [],
   "source": [
    "fig, ax = plt.subplots(1, len(random_points), constrained_layout=True, figsize=(3*len(random_points), 3), sharex=False,sharey=False)\n",
    "y_vals = np.arange(truth['votemper_var'][idx_region].shape[1])\n",
    "fig.suptitle('Subgrid temperature variance at ransom points from dataset '+data_dict[idx_region]['label'])\n",
    "\n",
    "for idx, point in enumerate(random_points):\n",
    "    x = point['x']\n",
    "    y = point['y']\n",
    "    x_vals = truth['votemper_var'][idx_region][idx_batch,:,x,y]\n",
    "    ax[idx].plot(x_vals, y_vals, label='Truth', lw=5, color='k')\n",
    "    for i, model in enumerate(list_of_models) :\n",
    "        x_vals = model['pred']['votemper_var_masked'][idx_region][idx_batch,:,x,y]\n",
    "        ax[idx].plot(x_vals, y_vals, label=model['label'], color=bar_colors[i])\n",
    "    ax[idx].invert_yaxis() \n",
    "    ax[idx].set(xlabel=r'Subgrid variance $\\sigma_T^2$', title='Point '+str(idx))\n",
    "    ax[idx].grid(True)\n",
    "ax[0].set(ylabel='Level')\n",
    "ax[-1].legend(bbox_to_anchor=(1.05, 1), loc='upper left')\n",
    "plt.show()"
   ]
  },
  {
   "cell_type": "code",
   "execution_count": null,
   "id": "5a48458b-9846-4d4c-a6c9-d3b9f050ba75",
   "metadata": {},
   "outputs": [],
   "source": [
    "fig, ax = plt.subplots(1, 6, constrained_layout=True, figsize=(15, 3))\n",
    "y_vals = np.arange(truth['votemper_var'][idx_region].shape[1])\n",
    "fig.suptitle('Mean SGS temp variance over a dataset')\n",
    "\n",
    "for idx_region in range(len(data_dict)) :\n",
    "    ax[idx_region].plot(np.nanmean(truth['votemper_var'][idx_region], axis=(0,2,3)), y_vals, label='Truth', lw=5, color='k')\n",
    "    line_counter=1\n",
    "    for i, model in enumerate(list_of_models) :\n",
    "        x_vals = np.nanmean(model['pred']['votemper_var_masked'][idx_region][:,:,:], axis=(0,2,3))\n",
    "        ax[idx_region].plot(x_vals, y_vals, label=model['label'], ls='-', color=bar_colors[i])\n",
    "    ax[idx_region].invert_yaxis() \n",
    "    ax[idx_region].set(title=data_dict[idx_region]['label'],xlabel=r'Subgrid variance $\\sigma_T^2$')\n",
    "    ax[idx_region].grid(True)\n",
    "ax[0].set(ylabel='Level')\n",
    "ax[-1].legend(bbox_to_anchor=(1.05, 1), loc='upper left')\n",
    "plt.show()"
   ]
  },
  {
   "cell_type": "markdown",
   "id": "87ffba22-f52e-4e83-ab48-df78a8aa8085",
   "metadata": {},
   "source": [
    "## Profiles of MSE"
   ]
  },
  {
   "cell_type": "code",
   "execution_count": null,
   "id": "9893c1a2-f590-4c6e-a071-dd26d68af903",
   "metadata": {},
   "outputs": [],
   "source": [
    "fig, ax = plt.subplots(1, len(random_points), constrained_layout=True, figsize=(3*len(random_points), 3), sharex=False,sharey=False)\n",
    "y_vals = np.arange(truth['votemper_var'][idx_region].shape[1])\n",
    "fig.suptitle('Error of SGS temp variance at random points from dataset '+data_dict[idx_region]['label'])\n",
    "\n",
    "for idx, point in enumerate(random_points):\n",
    "    x = point['x']\n",
    "    y = point['y']\n",
    "    line_counter = 1\n",
    "    for i, model in enumerate(list_of_models) :\n",
    "        x_vals = model['pred']['votemper_var_masked'][idx_region][idx_batch,:,x,y]-truth['votemper_var'][idx_region][idx_batch,:,x,y]\n",
    "        ax[idx].plot(x_vals, y_vals, label=model['label'], color=bar_colors[i])\n",
    "    ax[idx].invert_yaxis() \n",
    "    ax[idx].set(xlabel=r'Error of subgrid variance $\\sigma_T^2$', title='Point '+str(idx))\n",
    "    ax[idx].grid(True)\n",
    "ax[0].set(ylabel='Level')\n",
    "ax[-1].legend(bbox_to_anchor=(1.05, 1), loc='upper left')\n",
    "plt.show()"
   ]
  },
  {
   "cell_type": "code",
   "execution_count": null,
   "id": "0bb9b0a2-57ff-4936-a665-4db061b742d5",
   "metadata": {},
   "outputs": [],
   "source": [
    "fig, ax = plt.subplots(1, 6, constrained_layout=True, figsize=(15, 3))\n",
    "y_vals = np.arange(truth['votemper_var'][idx_region].shape[1])\n",
    "fig.suptitle('MSE of SGS temp variance by levels')\n",
    "\n",
    "for idx_region in range(len(data_dict)) :\n",
    "    line_counter=0\n",
    "    for i, model in enumerate(list_of_models) :\n",
    "        x_vals = np.nanmean((model['pred']['votemper_var_masked'][idx_region]-\\\n",
    "                             truth['votemper_var'][idx_region])**2, axis=(0,2,3))\n",
    "        ax[idx_region].plot(x_vals, y_vals, label=model['label'], ls='-', color=bar_colors[i])\n",
    "        ax[idx_region].axvline(model['votemper_var']['loss_val'][idx_region], color=bar_colors[i], ls='-', lw=1.25)\n",
    "    ax[idx_region].invert_yaxis() \n",
    "    ax[idx_region].set(title=data_dict[idx_region]['label'],xlabel=r'MSE of $\\sigma_T^2$')\n",
    "    ax[idx_region].grid(True)\n",
    "ax[0].set(ylabel='Level')\n",
    "ax[-1].legend(bbox_to_anchor=(1.05, 1), loc='upper left')\n",
    "plt.show()"
   ]
  },
  {
   "cell_type": "markdown",
   "id": "894a92d3-176d-42d4-ac37-4f64e79724e6",
   "metadata": {},
   "source": [
    "# Pressure"
   ]
  },
  {
   "cell_type": "markdown",
   "id": "bd3ff27d-cd49-4f34-ab47-6dbcccd3110c",
   "metadata": {},
   "source": [
    "## Compute"
   ]
  },
  {
   "cell_type": "code",
   "execution_count": null,
   "id": "67407bd3-2e4c-4385-8b83-d2ca4bb2ba53",
   "metadata": {},
   "outputs": [],
   "source": [
    "[truth['pressure_grad_x'], truth['pressure_grad_y'], truth['pressure_grad_norm']] = [[np.empty(shape=1) for i in range(len(data_dict))] for j in range(3)]\n",
    "\n",
    "for idx_region in range(len(data_dict)) :\n",
    "    [truth['pressure_grad_x'][idx_region], truth['pressure_grad_y'][idx_region], truth['pressure_grad_norm'][idx_region]] = \\\n",
    "    myParam3Ddata.get_pressure_grad(truth['votemper_var'][idx_region], truth['rho_ct_ct'][idx_region])"
   ]
  },
  {
   "cell_type": "code",
   "execution_count": null,
   "id": "449b719f-1536-44bc-b5d2-cc8d4623c594",
   "metadata": {},
   "outputs": [],
   "source": [
    "for i, model in enumerate(list_of_models) :\n",
    "    pred = model['pred']\n",
    "    [pred['pressure_grad_x'], pred['pressure_grad_y'], pred['pressure_grad_norm'], pred['pressure_grad_x_MSE'], pred['pressure_grad_y_MSE']] \\\n",
    "        = [[torch.Tensor() for i in range(len(data_dict))] for j in range(5)]\n",
    "    for idx_region in range(len(data_dict)) :\n",
    "        [pred['pressure_grad_x'][idx_region], pred['pressure_grad_y'][idx_region], pred['pressure_grad_norm'][idx_region]] \\\n",
    "        = myParam3Ddata.get_pressure_grad(pred['votemper_var_masked'][idx_region], truth['rho_ct_ct'][idx_region])\n",
    "        pred['pressure_grad_x_MSE'][idx_region] = (pred['pressure_grad_x'][idx_region]-truth['pressure_grad_x'][idx_region])**2\n",
    "        pred['pressure_grad_y_MSE'][idx_region] = (pred['pressure_grad_y'][idx_region]-truth['pressure_grad_y'][idx_region])**2"
   ]
  },
  {
   "cell_type": "code",
   "execution_count": null,
   "id": "d3c725ad-86a6-4a98-b229-557e99963315",
   "metadata": {},
   "outputs": [],
   "source": [
    "def evaluate_tensor_metrics_with_mask(metrics, mask, truth, model_output, reduction='mean') :\n",
    "    if (len(model_output.shape) == 3) : # 1 feature (1 channel) and 1 level - 3D tensor\n",
    "        batch_len, output_h, output_w = model_output.shape  \n",
    "        valid_mask_counts = torch.count_nonzero(mask)\n",
    "        mask = mask\n",
    "\n",
    "    if (len(model_output.shape) == 4) : # 1 feature (1 channel) - 4D tensor\n",
    "        batch_len, nb_of_levels, output_h, output_w = model_output.shape  \n",
    "        valid_mask_counts = torch.count_nonzero(mask)*nb_of_levels\n",
    "        mask = mask[:,None,:,:]\n",
    "\n",
    "    if (len(model_output.shape) == 5) : # full 5D tensor\n",
    "        batch_len, nb_of_levels, nb_of_channels, output_h, output_w = model_output.shape  \n",
    "        valid_mask_counts = torch.count_nonzero(mask)*nb_of_levels*nb_of_channels\n",
    "        mask = mask[:,None,None,:,:]\n",
    "\n",
    "    if (reduction=='none') : \n",
    "        return metrics(model_output*mask, truth*mask, reduction='none')\n",
    "\n",
    "    total_metrics = metrics(model_output*mask, truth*mask, reduction='sum')\n",
    "    if (reduction=='mean') : \n",
    "        return (total_metrics/valid_mask_counts)\n",
    "    if (reduction=='sum') : \n",
    "        return (total_metrics)"
   ]
  },
  {
   "cell_type": "code",
   "execution_count": null,
   "id": "384f1b8a-2583-4322-95cd-f45f90924513",
   "metadata": {},
   "outputs": [],
   "source": [
    "mask = model['pred']['mask'][0]"
   ]
  },
  {
   "cell_type": "code",
   "execution_count": null,
   "id": "0e207f2d-1bad-4e48-abf0-c9c332264cef",
   "metadata": {},
   "outputs": [],
   "source": [
    "evaluate_tensor_metrics_with_mask(torch.nn.functional.mse_loss, mask, model['pred']['pressure_grad_x'][0]*mask, truth['pressure_grad_x'][0]*mask, reduction='mean')"
   ]
  },
  {
   "cell_type": "markdown",
   "id": "68533be5-65d2-4f03-83fa-ffd4195176c3",
   "metadata": {},
   "source": [
    "## Plots of pressure grad norm"
   ]
  },
  {
   "cell_type": "code",
   "execution_count": null,
   "id": "4b396d48-8113-4b9c-a9b2-d21811b8a091",
   "metadata": {},
   "outputs": [],
   "source": [
    "idx_region = 0\n",
    "idx_batch = 0\n",
    "\n",
    "fig, ax = plt.subplots(1, len(random_points), constrained_layout=True, figsize=(3*len(random_points), 3), sharex=False,sharey=False)\n",
    "y_vals = np.arange(truth['pressure_grad_x'][0].shape[1])\n",
    "fig.suptitle(r'Horizontal pressure gradient $||\\nabla_H p||$ at random points from dataset '+data_dict[idx_region]['label'])\n",
    "\n",
    "for idx, point in enumerate(random_points):\n",
    "    x = point['x']\n",
    "    y = point['y']\n",
    "    x_vals = truth['pressure_grad_norm'][idx_region][idx_batch,:,x,y]\n",
    "    ax[idx].plot(x_vals, y_vals, label='Truth', lw=5, color='k')\n",
    "    for i, model in enumerate(list_of_models) :\n",
    "        x_vals = model['pred']['pressure_grad_norm'][idx_region][idx_batch,:,x,y]\n",
    "        ax[idx].plot(x_vals, y_vals, label=model['label'], color=bar_colors[i])\n",
    "    ax[idx].invert_yaxis() \n",
    "    ax[idx].set(xlabel=r'Pressure gradient norm $|\\nabla p|$', title='Point '+str(idx))\n",
    "    ax[idx].grid(True)\n",
    "ax[0].set(ylabel='Level')\n",
    "ax[-1].legend(bbox_to_anchor=(1.05, 1), loc='upper left')\n",
    "plt.show()"
   ]
  },
  {
   "cell_type": "code",
   "execution_count": null,
   "id": "c5ab3cec-3fa5-40d4-b0ae-bbeb1abf4b9a",
   "metadata": {},
   "outputs": [],
   "source": [
    "fig, ax = plt.subplots(1, 6, constrained_layout=True, figsize=(15, 3))\n",
    "y_vals = np.arange(truth['pressure_grad_x'][0].shape[1])\n",
    "fig.suptitle('Average pressure gradient norm by levels')\n",
    "\n",
    "for idx_region in range(len(data_dict)) :\n",
    "    ax[idx_region].plot(np.nanmean(truth['pressure_grad_norm'][idx_region], axis=(0,2,3)), y_vals, label='Truth', lw=5, color='k')\n",
    "    for i, model in enumerate(list_of_models) :\n",
    "        x_vals = np.nanmean(model['pred']['pressure_grad_norm'][idx_region][:,:,:], axis=(0,2,3))\n",
    "        ax[idx_region].plot(x_vals, y_vals, label=model['label'], ls='-', color=bar_colors[i])\n",
    "    ax[idx_region].invert_yaxis() \n",
    "    ax[idx_region].set(title=data_dict[idx_region]['label'],xlabel=r'Pressure gradient $|\\nabla p|$')\n",
    "    ax[idx_region].grid(True)\n",
    "ax[0].set(ylabel='Level')\n",
    "ax[-1].legend(bbox_to_anchor=(1.05, 1), loc='upper left')\n",
    "plt.show()"
   ]
  },
  {
   "cell_type": "code",
   "execution_count": null,
   "id": "d08d92be-d871-4d8e-b4b7-ed56ca481e2a",
   "metadata": {},
   "outputs": [],
   "source": [
    "fig, axs = plt.subplots(nrows=1, ncols=len(list_of_models)+1, constrained_layout=True, figsize=(2*(len(list_of_models)+1),3),sharex=True, sharey=True)\n",
    "feature = 'pressure_grad_norm'\n",
    "idx_batch = 0\n",
    "idx_level = 100\n",
    "idx_region = 0\n",
    "fig.suptitle('Maps of ' + feature + ' in ' + data_dict[idx_region]['label'] + ' at 100th level')\n",
    "\n",
    "img = axs[0].imshow(truth[feature][idx_region][idx_batch,idx_level,:,:], cmap='ocean_r', origin='lower')\n",
    "fig.colorbar(img, location='left',  shrink=0.8)\n",
    "axs[0].set(title='Truth')\n",
    "color_min = img.colorbar.vmin\n",
    "color_max = img.colorbar.vmax\n",
    "current_cmap = img.cmap\n",
    "current_cmap.set_bad(color='silver')\n",
    "\n",
    "for i, model in enumerate(list_of_models) :\n",
    "    img = axs[i+1].imshow(model['pred'][feature][idx_region][idx_batch,idx_level,:,:], cmap=current_cmap, \\\n",
    "                                       vmin=color_min, vmax=color_max, origin='lower')\n",
    "    axs[i+1].set(title=model['label'])\n",
    "fig.colorbar(img, ax=axs[-1], shrink=0.8)\n",
    "plt.show()"
   ]
  },
  {
   "cell_type": "markdown",
   "id": "05306680-9ec0-4696-ad1c-635a2810e26d",
   "metadata": {},
   "source": [
    "## MSE by vertical level"
   ]
  },
  {
   "cell_type": "code",
   "execution_count": null,
   "id": "fb58e140-a295-42ee-aa95-24e95fe42eb6",
   "metadata": {},
   "outputs": [],
   "source": [
    "fig, ax = plt.subplots(1, 6, constrained_layout=True, figsize=(15, 3))\n",
    "y_vals = np.arange(truth['pressure_grad_x'][0].shape[1])\n",
    "fig.suptitle('MSE pressure gradient by levels')\n",
    "\n",
    "for idx_region in range(len(data_dict)) :\n",
    "    line_counter=1\n",
    "    for i, model in enumerate(list_of_models) :\n",
    "        x_vals = np.nanmean(model['pred']['pressure_grad_x_MSE'][idx_region]+model['pred']['pressure_grad_y_MSE'][idx_region], axis=(0,2,3))\n",
    "        ax[idx_region].plot(x_vals, y_vals, label=model['label'], ls='-', color=bar_colors[i])\n",
    "    ax[idx_region].invert_yaxis() \n",
    "    ax[idx_region].set(title=data_dict[idx_region]['label'],xlabel=r'MSE of $\\nabla \\vec{p}$')\n",
    "    ax[idx_region].grid(True)\n",
    "ax[0].set(ylabel='Level')\n",
    "ax[-1].legend(bbox_to_anchor=(1.05, 1), loc='upper left')\n",
    "plt.show()"
   ]
  },
  {
   "cell_type": "code",
   "execution_count": null,
   "id": "cb245d70-30db-4faa-8ded-7e9be8ec8c15",
   "metadata": {},
   "outputs": [],
   "source": [
    "fig, axs = plt.subplots(nrows=1, ncols=len(list_of_models), constrained_layout=True, figsize=(2*(len(list_of_models)),3),sharex=True, sharey=True)\n",
    "idx_batch = 0\n",
    "idx_level = 100\n",
    "idx_region = 0\n",
    "fig.suptitle('Maps of ' + feature + ' in ' + data_dict[idx_region]['label'] + ' at depth')\n",
    "\n",
    "for i, model in enumerate(list_of_models) :\n",
    "    img = axs[i].imshow((model['pred']['pressure_grad_x_MSE'][idx_region]+model['pred']['pressure_grad_y_MSE'][idx_region])[idx_batch,idx_level,:,:], \\\n",
    "                          cmap=('ocean_r' if (i==0) else current_cmap), \\\n",
    "                          vmin=(None if (i==0) else color_min), vmax=(None if (i==0) else color_max), \\\n",
    "                          origin='lower')\n",
    "    if i==0 :\n",
    "        fig.colorbar(img, location='left',  shrink=0.8)\n",
    "        color_min = img.colorbar.vmin\n",
    "        color_max = img.colorbar.vmax\n",
    "        current_cmap = img.cmap\n",
    "        current_cmap.set_bad(color='silver')\n",
    "    axs[i].set(title=model['label'])\n",
    "fig.colorbar(img, ax=axs[-1], shrink=0.8)\n",
    "plt.show()"
   ]
  },
  {
   "cell_type": "markdown",
   "id": "4a9dde19-9e31-4c14-b6b3-43256aaf4580",
   "metadata": {},
   "source": [
    "## Total MSE by dataset"
   ]
  },
  {
   "cell_type": "code",
   "execution_count": null,
   "id": "7e197b27-b06e-41b0-b612-7f54c0295094",
   "metadata": {},
   "outputs": [],
   "source": [
    "fig, ax = plt.subplots(1, 6, constrained_layout=True, figsize=(15, 3.0), sharex=True, sharey=False)\n",
    "fig.suptitle('MSE of pressure gradient OVER ALL THE CUBE')\n",
    "bar_width = 0.2\n",
    "x = np.arange(3)\n",
    "for region in range(len(data_dict)) :\n",
    "    versions = [0 for i in x]\n",
    "    for idx_model, model in enumerate(list_of_models) :\n",
    "        i = xlabels.index(model['model_name'])\n",
    "        j = versions[i]        \n",
    "        bar_value = np.nanmean(model['pred']['pressure_grad_x_MSE'][idx_region]+model['pred']['pressure_grad_y_MSE'][idx_region])\n",
    "        ax[region].bar(x[i]+j*bar_width, bar_value, width=bar_width, label=model['label'])\n",
    "        versions[i]+=1\n",
    "    ax[region].set_xticks(x, xlabels, rotation='vertical')\n",
    "    ax[region].set(title=data_dict[region]['label'])\n",
    "ax[0].set(ylabel='MSE')\n",
    "ax[-1].legend(bbox_to_anchor=(1.05, 1), loc='upper left')\n",
    "plt.show()"
   ]
  },
  {
   "cell_type": "markdown",
   "id": "81d5a210-566e-4ef9-a871-d93165edf60d",
   "metadata": {},
   "source": [
    "## MSE at deep level"
   ]
  },
  {
   "cell_type": "code",
   "execution_count": null,
   "id": "48545bfb-4e8d-4acb-ae09-7a5288596700",
   "metadata": {},
   "outputs": [],
   "source": [
    "fig, ax = plt.subplots(1, 6, constrained_layout=True, figsize=(15, 3.0), sharex=True, sharey=False)\n",
    "fig.suptitle('MSE of pressure gradient at level N100')\n",
    "bar_width = 0.2\n",
    "x = np.arange(3)\n",
    "for idx_region in range(len(data_dict)) :\n",
    "    versions = [0 for i in x]\n",
    "    for idx_model, model in enumerate(list_of_models) :\n",
    "        i = xlabels.index(model['model_name'])\n",
    "        j = versions[i]        \n",
    "        bar_value = np.nanmean((model['pred']['pressure_grad_x_MSE'][idx_region]+model['pred']['pressure_grad_y_MSE'][idx_region])[:,100,:,:])\n",
    "        ax[idx_region].bar(x[i]+j*bar_width, bar_value, width=bar_width, label=model['label'])\n",
    "        versions[i]+=1\n",
    "    ax[region].set_xticks(x, xlabels, rotation='vertical')\n",
    "    ax[region].set(title=data_dict[region]['label'])\n",
    "ax[0].set(ylabel='MSE')\n",
    "ax[-1].legend(bbox_to_anchor=(1.05, 1), loc='upper left')\n",
    "plt.show()"
   ]
  },
  {
   "cell_type": "markdown",
   "id": "f8bed7e5-ea43-4ae2-bc60-4458359146cd",
   "metadata": {},
   "source": [
    "## Logged metrics"
   ]
  },
  {
   "cell_type": "code",
   "execution_count": null,
   "id": "a42c2660-a4a3-4b81-814b-0ab83032fb9e",
   "metadata": {},
   "outputs": [],
   "source": [
    "fig, ax = plt.subplots(1, 6, constrained_layout=True, figsize=(15, 3.0), sharex=True, sharey=False)\n",
    "fig.suptitle('MSE of pressure gradient at level N100')\n",
    "bar_width = 0.2\n",
    "x = np.arange(3)\n",
    "for region in range(len(data_dict)) :\n",
    "    versions = [0 for i in x]\n",
    "    for idx_model, model in enumerate(list_of_models) :\n",
    "        i = xlabels.index(model['model_name'])\n",
    "        j = versions[i]        \n",
    "        bar_value = model['pressure_grad']['loss_val'][region]\n",
    "        ax[region].bar(x[i]+j*bar_width, bar_value, width=bar_width, label=model['label'])\n",
    "        versions[i]+=1\n",
    "    ax[region].set_xticks(x, xlabels, rotation='vertical')\n",
    "    ax[region].set(title=data_dict[region]['label'])\n",
    "ax[0].set(ylabel='MSE')\n",
    "#ax[-1].legend(bbox_to_anchor=(1.05, 1), loc='upper left')\n",
    "plt.show()"
   ]
  },
  {
   "cell_type": "markdown",
   "id": "02338016-dedc-4e0f-ad66-b522e943d560",
   "metadata": {},
   "source": [
    "Metrics evaluated in the test stage show higher MSE in general most likely because of the border points, since in the test stage the errors are evaluated on not masked fields. In the error evaluated on prediction, the bordeer points are excluded"
   ]
  },
  {
   "cell_type": "code",
   "execution_count": null,
   "id": "c4aa0815-181f-4af7-9ba5-a8bf70d3c958",
   "metadata": {},
   "outputs": [],
   "source": []
  }
 ],
 "metadata": {
  "kernelspec": {
   "display_name": "Python 3 (ipykernel)",
   "language": "python",
   "name": "python3"
  },
  "language_info": {
   "codemirror_mode": {
    "name": "ipython",
    "version": 3
   },
   "file_extension": ".py",
   "mimetype": "text/x-python",
   "name": "python",
   "nbconvert_exporter": "python",
   "pygments_lexer": "ipython3",
   "version": "3.10.9"
  },
  "toc-autonumbering": true,
  "toc-showcode": false,
  "toc-showmarkdowntxt": true,
  "toc-showtags": false
 },
 "nbformat": 4,
 "nbformat_minor": 5
}
