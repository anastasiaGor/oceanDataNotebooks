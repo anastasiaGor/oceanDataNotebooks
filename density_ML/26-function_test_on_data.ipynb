{
 "cells": [
  {
   "cell_type": "code",
   "execution_count": 46,
   "id": "c5c59a64-66d5-4df7-94c8-b3968ad43654",
   "metadata": {},
   "outputs": [],
   "source": [
    "from dask.distributed import Client\n",
    "\n",
    "client = Client(\"tcp://127.0.0.1:42433\")"
   ]
  },
  {
   "cell_type": "markdown",
   "id": "fb7e348d-695e-4652-9df8-2f8463599328",
   "metadata": {
    "tags": []
   },
   "source": [
    "# Import"
   ]
  },
  {
   "cell_type": "code",
   "execution_count": 2,
   "id": "ce951e33-e957-4aaf-8583-61bda6e1e979",
   "metadata": {},
   "outputs": [],
   "source": [
    "from IPython.display import clear_output\n",
    "import torch\n",
    "import numpy as np\n",
    "import matplotlib.pyplot as plt\n",
    "from tqdm.autonotebook import tqdm, trange\n",
    "import xarray as xr\n",
    "from IPython import display\n",
    "import pytorch_lightning as pl\n",
    "from pytorch_lightning.loggers import WandbLogger\n",
    "import wandb\n",
    "from pytorch_lightning.callbacks import EarlyStopping,ModelCheckpoint,Callback\n",
    "import inspect\n",
    "import itertools\n",
    "import matplotlib.colors as mcolors\n",
    "import glob, os\n",
    "from random import randrange"
   ]
  },
  {
   "cell_type": "code",
   "execution_count": 3,
   "id": "c0ef207a-7dd5-41f9-8edc-065c05c19712",
   "metadata": {},
   "outputs": [],
   "source": [
    "import myParam3Ddata\n",
    "import myTorchModels3D"
   ]
  },
  {
   "cell_type": "code",
   "execution_count": 4,
   "id": "7cb33608-0cea-4986-a25d-a531fab1e136",
   "metadata": {},
   "outputs": [],
   "source": [
    "import importlib"
   ]
  },
  {
   "cell_type": "code",
   "execution_count": 5,
   "id": "4bfdad3e-ad0d-484c-93ec-b72e271b1c78",
   "metadata": {},
   "outputs": [
    {
     "data": {
      "text/plain": [
       "<module 'myParam3Ddata' from '/home/jovyan/oceanDataNotebooks/density_ML/myParam3Ddata.py'>"
      ]
     },
     "execution_count": 5,
     "metadata": {},
     "output_type": "execute_result"
    }
   ],
   "source": [
    "importlib.reload(myParam3Ddata)"
   ]
  },
  {
   "cell_type": "markdown",
   "id": "a9e319f8-76f4-49c3-a1e2-ffe5667a8aa8",
   "metadata": {},
   "source": [
    "# Prepare data"
   ]
  },
  {
   "cell_type": "code",
   "execution_count": 6,
   "id": "edfe9fba-8d0e-4d4f-9520-554d207dfd7c",
   "metadata": {},
   "outputs": [],
   "source": [
    "PERSISTENT_BUCKET = os.environ['PERSISTENT_BUCKET'] "
   ]
  },
  {
   "cell_type": "code",
   "execution_count": 7,
   "id": "6022e6d5-227b-4dfb-bd71-449ec2f1c622",
   "metadata": {},
   "outputs": [],
   "source": [
    "data_dict=[dict() for i in range(6)]\n",
    "data_dict[0] = dict({'region' : '1', 'season' : 'fma', 'label' : 'GULFSTR FMA'})\n",
    "data_dict[1] = dict({'region' : '1', 'season' : 'aso', 'label' : 'GULFSTR ASO'})\n",
    "data_dict[2] = dict({'region' : '2', 'season' : 'fma', 'label' : 'MIDATL FMA'})\n",
    "data_dict[3] = dict({'region' : '2', 'season' : 'aso', 'label' : 'MIDATL ASO'})\n",
    "data_dict[4] = dict({'region' : '3', 'season' : 'fma', 'label' : 'WESTMED FMA'})\n",
    "data_dict[5] = dict({'region' : '3', 'season' : 'aso', 'label' : 'WESTMED ASO'})"
   ]
  },
  {
   "cell_type": "code",
   "execution_count": 8,
   "id": "aa23df48-853d-4a0d-b743-74226baa8043",
   "metadata": {},
   "outputs": [],
   "source": [
    "features_to_add_to_sample = ['votemper', 'votemper_var', 'rho_ct_ct', 'diff_votemper_sqr']"
   ]
  },
  {
   "cell_type": "code",
   "execution_count": 9,
   "id": "6d5fbdad-ad9b-4bf2-a8e6-c9c4ea593231",
   "metadata": {},
   "outputs": [],
   "source": [
    "auxiliary_features = ['z_l', 'f', 'e1t', 'e2t']"
   ]
  },
  {
   "cell_type": "code",
   "execution_count": 10,
   "id": "20ad46eb-1527-48c4-9e42-d18183ce87c4",
   "metadata": {},
   "outputs": [],
   "source": [
    "batch_size = 4"
   ]
  },
  {
   "cell_type": "code",
   "execution_count": 11,
   "id": "71ebbfd3-ad86-4ab5-8ea5-504a14513dea",
   "metadata": {},
   "outputs": [
    {
     "name": "stdout",
     "output_type": "stream",
     "text": [
      "CPU times: user 16.5 s, sys: 4.59 s, total: 21.1 s\n",
      "Wall time: 1min 46s\n"
     ]
    }
   ],
   "source": [
    "%%time\n",
    "all_data = myParam3Ddata.PyLiDataModule(data_dict, features_to_add_to_sample, auxiliary_features, batch_size=batch_size)"
   ]
  },
  {
   "cell_type": "markdown",
   "id": "8efe70df-84bc-4da0-9801-299b73eb6347",
   "metadata": {},
   "source": [
    "# Test finite diffrences"
   ]
  },
  {
   "cell_type": "code",
   "execution_count": 12,
   "id": "34aef3eb-3f61-4ec3-b7c4-7198985b5fd8",
   "metadata": {},
   "outputs": [],
   "source": [
    "all_data.prepare_data()"
   ]
  },
  {
   "cell_type": "code",
   "execution_count": 13,
   "id": "2b05f5df-55ab-45ec-a737-d4b1e93a330d",
   "metadata": {},
   "outputs": [],
   "source": [
    "all_data.setup(stage='fit')"
   ]
  },
  {
   "cell_type": "code",
   "execution_count": 14,
   "id": "aced76c0-9b5c-4498-9904-72f410a9173f",
   "metadata": {},
   "outputs": [],
   "source": [
    "test_dl = all_data.train_dataloader()"
   ]
  },
  {
   "cell_type": "code",
   "execution_count": 15,
   "id": "42ad73dd-3344-4bb0-8bed-519454e5f3d1",
   "metadata": {},
   "outputs": [],
   "source": [
    "test_di = iter(test_dl)"
   ]
  },
  {
   "cell_type": "code",
   "execution_count": 16,
   "id": "3880be51-a351-401c-b1e6-d3942e552ca9",
   "metadata": {},
   "outputs": [],
   "source": [
    "sample = next(test_di)"
   ]
  },
  {
   "cell_type": "code",
   "execution_count": 17,
   "id": "805aecef-6b9f-47fe-acde-093a33f3f1f7",
   "metadata": {},
   "outputs": [],
   "source": [
    "batch_len = sample['votemper'].shape[0]"
   ]
  },
  {
   "cell_type": "code",
   "execution_count": 18,
   "id": "6e9687f6-93b9-4abf-8108-e30adf32725b",
   "metadata": {},
   "outputs": [],
   "source": [
    "nb_levels = sample['votemper'].shape[1]"
   ]
  },
  {
   "cell_type": "code",
   "execution_count": 19,
   "id": "47c2186a-fde8-4edc-8d31-9ca300be28bc",
   "metadata": {},
   "outputs": [],
   "source": [
    "weights = torch.zeros(2,1,3,3)"
   ]
  },
  {
   "cell_type": "code",
   "execution_count": 20,
   "id": "4212396d-0d89-4c38-8a00-a66311a55dac",
   "metadata": {},
   "outputs": [],
   "source": [
    "weights[0,0,:,:] = torch.tensor([[0,0.,0],[-0.5,0.,0.5],[0,0.,0]])\n",
    "weights[1,0,:,:] = torch.tensor([[0,-0.5,0],[0,0.,0],[0,0.5,0]])"
   ]
  },
  {
   "cell_type": "code",
   "execution_count": 21,
   "id": "da298733-9156-4b7c-a2d3-5bca7ca9173f",
   "metadata": {},
   "outputs": [
    {
     "data": {
      "text/plain": [
       "torch.Size([2, 1, 3, 3])"
      ]
     },
     "execution_count": 21,
     "metadata": {},
     "output_type": "execute_result"
    }
   ],
   "source": [
    "weights.shape"
   ]
  },
  {
   "cell_type": "code",
   "execution_count": 22,
   "id": "e8564589-3712-48f6-b6dd-ca32ace241f8",
   "metadata": {},
   "outputs": [],
   "source": [
    "data = sample['votemper']"
   ]
  },
  {
   "cell_type": "code",
   "execution_count": 23,
   "id": "49d97047-b473-4861-afbd-13798fd69cca",
   "metadata": {},
   "outputs": [
    {
     "data": {
      "text/plain": [
       "torch.Size([4, 107, 45, 40])"
      ]
     },
     "execution_count": 23,
     "metadata": {},
     "output_type": "execute_result"
    }
   ],
   "source": [
    "data.shape"
   ]
  },
  {
   "cell_type": "code",
   "execution_count": 24,
   "id": "a5bedc20-ef2a-41b9-951b-66bf1790bc21",
   "metadata": {},
   "outputs": [
    {
     "name": "stdout",
     "output_type": "stream",
     "text": [
      "CPU times: user 288 ms, sys: 7.65 ms, total: 295 ms\n",
      "Wall time: 49.4 ms\n"
     ]
    }
   ],
   "source": [
    "%%time\n",
    "res1 = torch.nn.functional.conv2d(data.flatten(start_dim=0, end_dim=1)[:,None,:,:], \\\n",
    "                           weights, \\\n",
    "                           bias=None, stride=1, padding='same', dilation=1, groups=1)\n",
    "res1_dx = res1[:,0,:,:].unflatten(dim=0, sizes=(batch_len, nb_levels))\n",
    "res1_dy = res1[:,1,:,:].unflatten(dim=0, sizes=(batch_len, nb_levels))"
   ]
  },
  {
   "cell_type": "code",
   "execution_count": 25,
   "id": "cef18b27-95c4-4d66-8854-b0218d362538",
   "metadata": {},
   "outputs": [
    {
     "name": "stdout",
     "output_type": "stream",
     "text": [
      "CPU times: user 39.7 ms, sys: 7.9 ms, total: 47.6 ms\n",
      "Wall time: 6.87 ms\n"
     ]
    }
   ],
   "source": [
    "%%time\n",
    "res2_dx = 0.5*(torch.roll(data, shifts=-1, dims=3) - torch.roll(data, shifts=1, dims=3))\n",
    "res2_dy = 0.5*(torch.roll(data, shifts=-1, dims=2) - torch.roll(data, shifts=1, dims=2))"
   ]
  },
  {
   "cell_type": "code",
   "execution_count": 26,
   "id": "e6c44d23-79a6-4150-b217-95b321585695",
   "metadata": {},
   "outputs": [
    {
     "data": {
      "text/plain": [
       "torch.Size([428, 2, 45, 40])"
      ]
     },
     "execution_count": 26,
     "metadata": {},
     "output_type": "execute_result"
    }
   ],
   "source": [
    "res1.shape"
   ]
  },
  {
   "cell_type": "code",
   "execution_count": 27,
   "id": "5e3662f2-0f83-4e1a-808d-056394cf6b5e",
   "metadata": {},
   "outputs": [
    {
     "data": {
      "image/png": "[encoded data removed]",
      "text/plain": [
       "<Figure size 600x350 with 3 Axes>"
      ]
     },
     "metadata": {},
     "output_type": "display_data"
    }
   ],
   "source": [
    "fig, ax = plt.subplots(1, 2, constrained_layout=True, figsize=(6, 3.5))\n",
    "index = 0\n",
    "ax[0].imshow(res1_dx[index,0,:,:], vmin=-4, vmax=4, origin='lower')\n",
    "img = ax[1].imshow(res2_dx[index,0,:,:], vmin=-4, vmax=4, origin='lower')\n",
    "fig.colorbar(img, ax=ax[-1], shrink=0.8)\n",
    "plt.show()"
   ]
  },
  {
   "cell_type": "code",
   "execution_count": 28,
   "id": "dd7c226f-22f0-4d1b-8fdc-19ecf1c676b6",
   "metadata": {},
   "outputs": [
    {
     "data": {
      "image/png": "[encoded data removed]",
      "text/plain": [
       "<Figure size 600x350 with 3 Axes>"
      ]
     },
     "metadata": {},
     "output_type": "display_data"
    }
   ],
   "source": [
    "fig, ax = plt.subplots(1, 2, constrained_layout=True, figsize=(6, 3.5))\n",
    "index = 0\n",
    "ax[0].imshow(res1_dy[index,0,:,:], vmin=-4, vmax=4, origin='lower')\n",
    "img = ax[1].imshow(res2_dy[index,0,:,:], vmin=-4, vmax=4, origin='lower')\n",
    "fig.colorbar(img, ax=ax[-1], shrink=0.8)\n",
    "plt.show()"
   ]
  },
  {
   "cell_type": "code",
   "execution_count": 29,
   "id": "e403fee0-f53b-4830-a057-23738334e76b",
   "metadata": {},
   "outputs": [],
   "source": [
    "# compare in x direction\n",
    "torch.testing.assert_close(res1_dx[:,:,1:-1,1:-1], res2_dx[:,:,1:-1,1:-1]) "
   ]
  },
  {
   "cell_type": "code",
   "execution_count": 30,
   "id": "bb54bf5b-6f7a-4541-8eac-e1997ef5df85",
   "metadata": {},
   "outputs": [],
   "source": [
    "# compare in y direction\n",
    "torch.testing.assert_close(res1_dy[:,:,1:-1,1:-1], res2_dy[:,:,1:-1,1:-1]) "
   ]
  },
  {
   "cell_type": "code",
   "execution_count": 31,
   "id": "9ccdce70-6edd-4add-afe1-cd4dbe245d09",
   "metadata": {},
   "outputs": [],
   "source": [
    "res_x, res_y = myParam3Ddata.central_diffs(data)"
   ]
  },
  {
   "cell_type": "code",
   "execution_count": 32,
   "id": "aa8fa1b3-3739-4b6e-9888-db69676d4153",
   "metadata": {},
   "outputs": [],
   "source": [
    "torch.testing.assert_close(res2_dx[:,:,1:-1,1:-1], res_x) "
   ]
  },
  {
   "cell_type": "code",
   "execution_count": 33,
   "id": "e1eeb1f9-35c7-485f-9338-9f0d7fbed490",
   "metadata": {},
   "outputs": [],
   "source": [
    "torch.testing.assert_close(res2_dy[:,:,1:-1,1:-1], res_y) "
   ]
  },
  {
   "cell_type": "code",
   "execution_count": 34,
   "id": "3fea6e3b-1dd4-4226-813e-29bdd8b545a8",
   "metadata": {},
   "outputs": [
    {
     "data": {
      "text/plain": [
       "torch.Size([4, 107, 43, 38])"
      ]
     },
     "execution_count": 34,
     "metadata": {},
     "output_type": "execute_result"
    }
   ],
   "source": [
    "myParam3Ddata.finite_diffs_sqr_2d_array(data).shape"
   ]
  },
  {
   "cell_type": "code",
   "execution_count": 35,
   "id": "a72ef8e4-34b2-47a9-ad3c-02c9a87625a4",
   "metadata": {},
   "outputs": [],
   "source": [
    "res = myParam3Ddata.get_pressure_grad(sample['votemper_var'].float() , sample['rho_ct_ct'].float() , dx=sample['e1t'], dy=sample['e2t'])"
   ]
  },
  {
   "cell_type": "code",
   "execution_count": 36,
   "id": "14a510b2-6fe1-4248-977d-a362e20ab9d9",
   "metadata": {},
   "outputs": [
    {
     "data": {
      "text/plain": [
       "torch.Size([4, 106, 43, 38])"
      ]
     },
     "execution_count": 36,
     "metadata": {},
     "output_type": "execute_result"
    }
   ],
   "source": [
    "res[-1].shape"
   ]
  },
  {
   "cell_type": "code",
   "execution_count": 37,
   "id": "0839e22f-80ad-4e9d-85d6-ef654a528192",
   "metadata": {},
   "outputs": [
    {
     "data": {
      "image/png": "[encoded data removed]",
      "text/plain": [
       "<Figure size 600x350 with 3 Axes>"
      ]
     },
     "metadata": {},
     "output_type": "display_data"
    }
   ],
   "source": [
    "fig, ax = plt.subplots(1, 2, constrained_layout=True, figsize=(6, 3.5))\n",
    "index = 0\n",
    "ax[0].imshow(res[0][index,-1,:,:], origin='lower')\n",
    "img = ax[1].imshow(res[1][index,-1,:,:], origin='lower')\n",
    "fig.colorbar(img, ax=ax[-1], shrink=0.8)\n",
    "plt.show()"
   ]
  },
  {
   "cell_type": "markdown",
   "id": "96259fbc-db5e-4e7e-af25-3d9a3b365286",
   "metadata": {},
   "source": [
    "# Test averaging with convolutions"
   ]
  },
  {
   "cell_type": "code",
   "execution_count": 38,
   "id": "25f7eba8-e410-42b4-bf7b-72884cea3630",
   "metadata": {},
   "outputs": [],
   "source": [
    "weights = torch.ones(1,1,3,3)"
   ]
  },
  {
   "cell_type": "code",
   "execution_count": 39,
   "id": "696126cc-2714-4fa4-876c-284811bd4c8b",
   "metadata": {},
   "outputs": [
    {
     "data": {
      "text/plain": [
       "tensor([[[[1., 1., 1.],\n",
       "          [1., 1., 1.],\n",
       "          [1., 1., 1.]]]])"
      ]
     },
     "execution_count": 39,
     "metadata": {},
     "output_type": "execute_result"
    }
   ],
   "source": [
    "weights"
   ]
  },
  {
   "cell_type": "code",
   "execution_count": 40,
   "id": "a388c44e-5327-4f43-b8d7-e54ef1a6fcbb",
   "metadata": {},
   "outputs": [],
   "source": [
    "padding = torch.nn.ReplicationPad2d(1)"
   ]
  },
  {
   "cell_type": "code",
   "execution_count": 41,
   "id": "e515d6ef-1ea1-4d2b-ac0b-0063f5f16326",
   "metadata": {},
   "outputs": [],
   "source": [
    "data = data[:,:,1:10,1:10]"
   ]
  },
  {
   "cell_type": "code",
   "execution_count": 42,
   "id": "11c5f25a-d851-4848-9647-a05ca72b12aa",
   "metadata": {},
   "outputs": [],
   "source": [
    "padded_data = padding(data)"
   ]
  },
  {
   "cell_type": "code",
   "execution_count": 43,
   "id": "ef17c9d1-15b7-4134-8b2f-dc2a750c4646",
   "metadata": {},
   "outputs": [
    {
     "data": {
      "text/plain": [
       "torch.Size([4, 107, 9, 9])"
      ]
     },
     "execution_count": 43,
     "metadata": {},
     "output_type": "execute_result"
    }
   ],
   "source": [
    "data.shape"
   ]
  },
  {
   "cell_type": "code",
   "execution_count": 44,
   "id": "e351e7b9-84f6-40d9-9b43-af9ed2004a3c",
   "metadata": {},
   "outputs": [
    {
     "data": {
      "text/plain": [
       "torch.Size([4, 107, 11, 11])"
      ]
     },
     "execution_count": 44,
     "metadata": {},
     "output_type": "execute_result"
    }
   ],
   "source": [
    "padded_data.shape"
   ]
  },
  {
   "cell_type": "code",
   "execution_count": 45,
   "id": "f9655c75-4e6a-49e6-ad54-8b27dd298fd2",
   "metadata": {},
   "outputs": [
    {
     "data": {
      "image/png": "[encoded data removed]",
      "text/plain": [
       "<Figure size 600x350 with 3 Axes>"
      ]
     },
     "metadata": {},
     "output_type": "display_data"
    }
   ],
   "source": [
    "fig, ax = plt.subplots(1, 2, constrained_layout=True, figsize=(6, 3.5))\n",
    "index = 0\n",
    "ax[0].imshow(data[index,-1,:,:], origin='lower')\n",
    "img = ax[1].imshow(padded_data[index,-1,:,:], origin='lower')\n",
    "fig.colorbar(img, ax=ax[-1], shrink=0.8)\n",
    "plt.show()"
   ]
  },
  {
   "cell_type": "code",
   "execution_count": null,
   "id": "1439618e-c67c-498e-ac18-0e996b30f5b5",
   "metadata": {},
   "outputs": [],
   "source": []
  }
 ],
 "metadata": {
  "kernelspec": {
   "display_name": "Python 3 (ipykernel)",
   "language": "python",
   "name": "python3"
  },
  "language_info": {
   "codemirror_mode": {
    "name": "ipython",
    "version": 3
   },
   "file_extension": ".py",
   "mimetype": "text/x-python",
   "name": "python",
   "nbconvert_exporter": "python",
   "pygments_lexer": "ipython3",
   "version": "3.10.9"
  }
 },
 "nbformat": 4,
 "nbformat_minor": 5
}
