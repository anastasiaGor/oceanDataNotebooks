{
 "cells": [
  {
   "cell_type": "markdown",
   "id": "ea54da1f-c0d2-4ed2-8dea-5f96a68745f0",
   "metadata": {},
   "source": [
    "# Import"
   ]
  },
  {
   "cell_type": "code",
   "execution_count": 1,
   "id": "e9303f7b-4813-46e3-9398-9b53578b9437",
   "metadata": {},
   "outputs": [],
   "source": [
    "import glob, os\n",
    "import torch\n",
    "import numpy as np\n",
    "import matplotlib.pyplot as plt\n",
    "from torch.utils.data import Dataset, DataLoader\n",
    "from tqdm.autonotebook import tqdm, trange\n",
    "import torch.nn.functional as F\n",
    "import xarray as xr\n",
    "import dask\n",
    "from IPython import display"
   ]
  },
  {
   "cell_type": "code",
   "execution_count": 2,
   "id": "cb00724f-4c87-407a-a426-1969274ebfb7",
   "metadata": {},
   "outputs": [
    {
     "name": "stdout",
     "output_type": "stream",
     "text": [
      "macOS-12.4-arm64-arm-64bit\n"
     ]
    }
   ],
   "source": [
    "import platform\n",
    "print(platform.platform())"
   ]
  },
  {
   "cell_type": "code",
   "execution_count": 3,
   "id": "c55aabf7-8972-41a0-93f3-6bf903b044f1",
   "metadata": {},
   "outputs": [],
   "source": [
    "#device = torch.device(\"mps\")\n",
    "device = torch.device(\"cpu\")"
   ]
  },
  {
   "cell_type": "markdown",
   "id": "7a404186-310e-42d9-acab-bd1f17d2a126",
   "metadata": {},
   "source": [
    "# Dataset definitions"
   ]
  },
  {
   "cell_type": "code",
   "execution_count": 4,
   "id": "878f2708-915a-41fc-b4ed-30cff8f87e43",
   "metadata": {},
   "outputs": [],
   "source": [
    "keys_to_add_to_sample = ['diff_T_sqr', 'diff_S_sqr', 'diff_TS', 'sosstsst', 'sosaline', 'rho_sa_sa', 'rho_sa_ct', 'rho_ct_ct', \\\n",
    "                         'sigma0_delta']"
   ]
  },
  {
   "cell_type": "code",
   "execution_count": 62,
   "id": "16efd56f-6208-4fa3-b5e9-230764684a54",
   "metadata": {},
   "outputs": [],
   "source": [
    "class SalinityTemperatureDensityDataset(Dataset):\n",
    "    \"\"\"Dataset of 2D maps of surface temperature, salinity\"\"\"\n",
    "\n",
    "    def __init__(self, list_of_netcdf_files, select='All', portion_of_time_series=0.5, transform=None, normalize=False):\n",
    "        self.data = [xr.DataArray() for i in range(len(list_of_netcdf_files))]\n",
    "        for i, datasetNetcdfFile in enumerate(list_of_netcdf_files) :\n",
    "            self.data[i] = xr.open_mfdataset(datasetNetcdfFile, parallel=True)\n",
    "            # nan filling\n",
    "            self.data[i] = self.data[i].bfill(dim='x')\n",
    "            if (np.isnan(self.data[i]['diff_S_sqr']).any() or np.isnan(self.data[i]['sigma0_delta']).any()) :\n",
    "                print(\"NANS in data \" + datasetNetcdfFile)\n",
    "        data_file_len = len(self.data[0]['time_counter'])\n",
    "        if (select == 'All') :\n",
    "            time_index_range = np.arange(0, data_file_len)\n",
    "        elif (select == 'First') :\n",
    "            time_index_range = np.arange(0, int(portion_of_time_series*data_file_len)+1)\n",
    "        elif (select == 'Last') :\n",
    "            time_index_range = np.arange(int((1-portion_of_time_series)*data_file_len), data_file_len)\n",
    "        self.total_len = len(self.data)*len(time_index_range)\n",
    "        self.index_table = np.transpose(np.stack([np.concatenate([np.full(len(time_index_range), i) for i in range(len(self.data))]),\\\n",
    "         np.concatenate([time_index_range for i in range(len(self.data))])]))\n",
    "        self.transform = transform\n",
    "        self.normalize = normalize\n",
    "        if (normalize) :\n",
    "            for i in range(len(list_of_netcdf_files)) :\n",
    "                for key in self.data[i].data_vars :\n",
    "                    self.data[i].attrs['mean_'+key] = self.data[i].data_vars[key].mean().compute()\n",
    "                    self.data[i].attrs['std_'+key] = self.data[i].data_vars[key].std().compute()\n",
    "        \n",
    "    def __len__(self):\n",
    "        return self.total_len\n",
    "\n",
    "    def __getitem__(self, idx):\n",
    "        if torch.is_tensor(idx):\n",
    "            idx = idx.tolist()\n",
    "        \n",
    "        [index_of_dataset, index_of_time_counter] = self.index_table[idx]\n",
    "        current_dataframe = self.data[index_of_dataset].isel(time_counter=index_of_time_counter).load()\n",
    "        \n",
    "        sample = dict()\n",
    "        sample['dataset_index'] = index_of_dataset\n",
    "        sample['dataset_region'] = self.data[index_of_dataset].attrs['region']\n",
    "        sample['dataset_season'] = self.data[index_of_dataset].attrs['season']\n",
    "        for key in keys_to_add_to_sample :\n",
    "            if self.normalize :\n",
    "                sample[key] = ((current_dataframe[key]-current_dataframe.attrs['mean_'+key])/current_dataframe.attrs['std_'+key]).values\n",
    "                sample['mean_'+key] = current_dataframe.attrs['mean_'+key].values\n",
    "                sample['std_'+key] = current_dataframe.attrs['std_'+key].values\n",
    "            else : \n",
    "                sample[key] = current_dataframe[key].values\n",
    "\n",
    "        if self.transform:\n",
    "            sample = self.transform(sample)\n",
    "\n",
    "        return sample"
   ]
  },
  {
   "cell_type": "code",
   "execution_count": 63,
   "id": "5d3b1afc-6b46-4ddc-907c-6c028a959939",
   "metadata": {},
   "outputs": [],
   "source": [
    "class ToTensor(object):\n",
    "    \"\"\"Convert each numpy array in sample to Tensors.\"\"\"\n",
    "\n",
    "    def __call__(self, sample):\n",
    "        transformed_sample=sample\n",
    "        for key in keys_to_add_to_sample :\n",
    "            transformed_sample[key] = torch.from_numpy(sample[key])\n",
    "        return transformed_sample"
   ]
  },
  {
   "cell_type": "markdown",
   "id": "853179b6-bba1-40d5-9395-24b248374902",
   "metadata": {},
   "source": [
    "# Data Loader"
   ]
  },
  {
   "cell_type": "code",
   "execution_count": 64,
   "id": "20524c8b-cfb8-48bc-b93d-678cd091d223",
   "metadata": {},
   "outputs": [],
   "source": [
    "list_of_datasets = sorted(glob.glob('oceanDataNotebooks/density_ML/datasets/dataset?.nc'))\n",
    "#list_of_datasets = ['oceanDataNotebooks/density_ML/datasets/dataset'+str(index)+'.nc' for index in range(4)]"
   ]
  },
  {
   "cell_type": "code",
   "execution_count": 65,
   "id": "86e19bca-3912-43a7-931f-a63800eb6b22",
   "metadata": {},
   "outputs": [
    {
     "data": {
      "text/plain": [
       "['oceanDataNotebooks/density_ML/datasets/dataset0.nc',\n",
       " 'oceanDataNotebooks/density_ML/datasets/dataset1.nc',\n",
       " 'oceanDataNotebooks/density_ML/datasets/dataset2.nc',\n",
       " 'oceanDataNotebooks/density_ML/datasets/dataset3.nc',\n",
       " 'oceanDataNotebooks/density_ML/datasets/dataset4.nc',\n",
       " 'oceanDataNotebooks/density_ML/datasets/dataset5.nc']"
      ]
     },
     "execution_count": 65,
     "metadata": {},
     "output_type": "execute_result"
    }
   ],
   "source": [
    "list_of_datasets"
   ]
  },
  {
   "cell_type": "code",
   "execution_count": 66,
   "id": "5f8552cd-2a6f-446a-bbaf-52780738ca40",
   "metadata": {},
   "outputs": [],
   "source": [
    "batch_size = 5"
   ]
  },
  {
   "cell_type": "code",
   "execution_count": 67,
   "id": "17e331e1-7a6d-467f-984c-9f7d6c4b5832",
   "metadata": {},
   "outputs": [],
   "source": [
    "train_dataset = SalinityTemperatureDensityDataset(list_of_netcdf_files = list_of_datasets, select='First', \\\n",
    "                                                  portion_of_time_series=0.6, transform=ToTensor(), normalize=True)\n",
    "test_dataset = SalinityTemperatureDensityDataset(list_of_netcdf_files = list_of_datasets, select='Last', \\\n",
    "                                                 portion_of_time_series=0.2, transform=ToTensor(), normalize=True)"
   ]
  },
  {
   "cell_type": "code",
   "execution_count": 68,
   "id": "a8ca80e3-611b-4251-add9-f81ffd6ed803",
   "metadata": {},
   "outputs": [],
   "source": [
    "train_data_loader = DataLoader(dataset=train_dataset, batch_size=batch_size, shuffle=True, drop_last=True)\n",
    "test_data_loader = DataLoader(dataset=test_dataset, batch_size=batch_size, shuffle=True, drop_last=True)"
   ]
  },
  {
   "cell_type": "code",
   "execution_count": 69,
   "id": "e16045cd-b3ce-4ea0-8dc8-51b018c0640e",
   "metadata": {},
   "outputs": [],
   "source": [
    "train_data_iterator = iter(train_data_loader)"
   ]
  },
  {
   "cell_type": "code",
   "execution_count": 70,
   "id": "ab2f0323-d460-4e78-bcfd-7a1ceedab92b",
   "metadata": {},
   "outputs": [],
   "source": [
    "test_data_iterator = iter(test_data_loader)"
   ]
  },
  {
   "cell_type": "code",
   "execution_count": 71,
   "id": "52726bc6-f695-499e-a4f9-c28df8704ded",
   "metadata": {},
   "outputs": [],
   "source": [
    "sample = test_data_iterator.next()"
   ]
  },
  {
   "cell_type": "code",
   "execution_count": 15,
   "id": "e2a55297-7e56-4148-bace-998add32a1ac",
   "metadata": {},
   "outputs": [],
   "source": [
    "#torch.hstack([sample[key].view(-1,1) for key in keys_input]).shape"
   ]
  },
  {
   "cell_type": "markdown",
   "id": "ff56d616-ef48-44ed-8de0-a84d0486862b",
   "metadata": {},
   "source": [
    "# Model"
   ]
  },
  {
   "cell_type": "code",
   "execution_count": 16,
   "id": "b5e40cb5-9ac5-4acc-89a9-bd81870f9cda",
   "metadata": {},
   "outputs": [],
   "source": [
    "h = 20 # height of images\n",
    "w = 20 # width of images"
   ]
  },
  {
   "cell_type": "code",
   "execution_count": 17,
   "id": "947acebe-952e-4bd5-837b-4aea68b15d7d",
   "metadata": {},
   "outputs": [],
   "source": [
    "keys_input = {'diff_S_sqr', 'diff_TS', 'diff_T_sqr', 'rho_sa_sa', 'rho_sa_ct', 'rho_ct_ct'}\n",
    "keys_targets = {'sigma0_delta'}"
   ]
  },
  {
   "cell_type": "code",
   "execution_count": 18,
   "id": "a11e3b0d-fc1c-41d1-a1b7-57ea0978ffa1",
   "metadata": {},
   "outputs": [],
   "source": [
    "import torch.nn as nn\n",
    "\n",
    "class FCNN(nn.Module):\n",
    "    def __init__(self):\n",
    "        super().__init__()\n",
    "        self.lin1 = nn.Linear(len(keys_input), 8)\n",
    "        self.lin2 = nn.Linear(8, 16)\n",
    "        self.lin3 = nn.Linear(16, 8)\n",
    "        self.lin4 = nn.Linear(8, 1)\n",
    "\n",
    "    def forward(self, x):\n",
    "        #flatten_input = nn.Flatten(x)\n",
    "        res = self.lin1(x)\n",
    "        res = F.relu(res)\n",
    "        res = self.lin2(res)\n",
    "        res = F.relu(res)\n",
    "        res = self.lin3(res)\n",
    "        res = F.relu(res)\n",
    "        res = self.lin4(res)\n",
    "        return res"
   ]
  },
  {
   "cell_type": "markdown",
   "id": "67eab74b-a6e8-4f52-a636-5fcc6a9cbebb",
   "metadata": {
    "tags": []
   },
   "source": [
    "# Training"
   ]
  },
  {
   "cell_type": "code",
   "execution_count": 19,
   "id": "43232eba-a0dc-40eb-95ce-8e5eb89eaa14",
   "metadata": {},
   "outputs": [],
   "source": [
    "# Instantiate model  \n",
    "model = (FCNN()).to(device)"
   ]
  },
  {
   "cell_type": "code",
   "execution_count": 20,
   "id": "463d56ba-34f8-4601-bb5f-4501d7f2a108",
   "metadata": {},
   "outputs": [
    {
     "name": "stdout",
     "output_type": "stream",
     "text": [
      "FCNN(\n",
      "  (lin1): Linear(in_features=6, out_features=8, bias=True)\n",
      "  (lin2): Linear(in_features=8, out_features=16, bias=True)\n",
      "  (lin3): Linear(in_features=16, out_features=8, bias=True)\n",
      "  (lin4): Linear(in_features=8, out_features=1, bias=True)\n",
      ")\n"
     ]
    }
   ],
   "source": [
    "print(model)"
   ]
  },
  {
   "cell_type": "code",
   "execution_count": 21,
   "id": "68ba9218-d51b-43c1-a4eb-6edb162aef72",
   "metadata": {},
   "outputs": [],
   "source": [
    "# Loss and Optimizer\n",
    "criterion = nn.MSELoss()  \n",
    "#optimizer = torch.optim.Adam(model.parameters(), lr=0.0001)\n",
    "optimizer = torch.optim.SGD(model.parameters(), lr=0.001)"
   ]
  },
  {
   "cell_type": "markdown",
   "id": "78f2255c-cafa-4670-a7c1-28018181a7bd",
   "metadata": {},
   "source": [
    "Transform inputs and targets (treatment pixel by pixel) :"
   ]
  },
  {
   "cell_type": "code",
   "execution_count": 22,
   "id": "eabe3c75-3b0c-4a91-9441-d4f9e99efa0b",
   "metadata": {
    "tags": []
   },
   "outputs": [],
   "source": [
    "def transform_input(sample) :\n",
    "    return torch.hstack([sample[key].view(-1,1) for key in keys_input]).to(torch.float32).to(device)\n",
    "def transform_target(sample) : \n",
    "    return sample['sigma0_delta'].view(-1, 1).to(torch.float32).to(device)"
   ]
  },
  {
   "cell_type": "code",
   "execution_count": 23,
   "id": "8afc45d1-d9c4-4677-bc23-5356a332c8a7",
   "metadata": {},
   "outputs": [
    {
     "data": {
      "image/png": "[encoded data removed]",
      "text/plain": [
       "<Figure size 288x252 with 1 Axes>"
      ]
     },
     "metadata": {
      "needs_background": "light"
     },
     "output_type": "display_data"
    },
    {
     "name": "stdout",
     "output_type": "stream",
     "text": [
      "CPU times: user 9min 27s, sys: 2min 8s, total: 11min 36s\n",
      "Wall time: 9min 6s\n"
     ]
    }
   ],
   "source": [
    "%%time\n",
    "nb_of_epochs = 30\n",
    "\n",
    "epoch_training_losses = np.empty(nb_of_epochs)\n",
    "epoch_test_losses = np.empty(nb_of_epochs)\n",
    "\n",
    "# Iterate through train set minibatchs\n",
    "for epoch in tqdm(range(nb_of_epochs)):  \n",
    "    print('Epoch ' + str(epoch))\n",
    "    # Train\n",
    "    training_losses = list()\n",
    "    for sample in tqdm(train_data_loader, desc='Training', ascii=True):\n",
    "        # Zero out the gradients\n",
    "        optimizer.zero_grad()\n",
    "\n",
    "        # Forward pass\n",
    "        x = transform_input(sample)\n",
    "        #if not(x.isnan().any()) : \n",
    "        y = model(x)\n",
    "        loss = criterion(y, transform_target(sample))\n",
    "        # Backward pass\n",
    "        loss.backward()\n",
    "        optimizer.step()\n",
    "        training_losses = np.append(training_losses, loss.detach().cpu().numpy())\n",
    "    epoch_training_losses[epoch] = np.mean(training_losses)\n",
    "    # Test\n",
    "    with torch.no_grad():\n",
    "        test_losses = list()\n",
    "        for sample in tqdm(test_data_loader, desc='Testing', ascii=True):\n",
    "            # Forward pass\n",
    "            x = transform_input(sample)\n",
    "            y = model(x)\n",
    "\n",
    "            loss = criterion(y, transform_target(sample))\n",
    "            test_losses = np.append(test_losses, loss.detach().cpu().numpy())\n",
    "        epoch_test_losses[epoch] = np.mean(test_losses)\n",
    "    fig, ax = plt.subplots(ncols=1, nrows=1, figsize=(4,3.5), constrained_layout=True)\n",
    "    \n",
    "    ax.plot(epoch_training_losses[0:epoch+1], '.-', label='Trainig')\n",
    "    ax.plot(epoch_test_losses[0:epoch+1], '.-', label='Test')\n",
    "    ax.set(yscale='log', xlabel='Epoch', ylabel='Loss')\n",
    "    ax.legend()\n",
    "    \n",
    "    display.display(plt.gcf())\n",
    "    display.clear_output(wait=True)\n",
    "    \n",
    "    plt.show()"
   ]
  },
  {
   "cell_type": "markdown",
   "id": "8114268f-9bf0-4847-b33f-1ffab1fc9d84",
   "metadata": {},
   "source": [
    "# Compare results"
   ]
  },
  {
   "cell_type": "markdown",
   "id": "605d9f59-5959-4160-9db6-524e43e68940",
   "metadata": {},
   "source": [
    "Deterministic parametrization:"
   ]
  },
  {
   "cell_type": "code",
   "execution_count": 72,
   "id": "3e82dc7d-bcb8-46d3-901c-bcbb4d1e8a06",
   "metadata": {},
   "outputs": [],
   "source": [
    "def determ_param(diff_T_sqr, deriv_rho_TT, c) :\n",
    "    return 0.5*c*deriv_rho_TT*diff_T_sqr"
   ]
  },
  {
   "cell_type": "code",
   "execution_count": 73,
   "id": "fff65e17-231d-495b-99a5-4384c8ee47ca",
   "metadata": {},
   "outputs": [],
   "source": [
    "def restore_units(sample, data, variable, index_in_batch=0) :\n",
    "    return (sample['std_'+variable][index_in_batch]*data[index_in_batch]+sample['mean_'+variable][index_in_batch])\n",
    "def normalize(sample, data, variable, index_in_batch=0) :\n",
    "    return (data[index_in_batch]-sample['mean_'+variable][index_in_batch])/(sample['std_'+variable][index_in_batch])"
   ]
  },
  {
   "cell_type": "code",
   "execution_count": 74,
   "id": "4c779848-969d-43af-9e04-1383ccbb40e6",
   "metadata": {},
   "outputs": [],
   "source": [
    "coef_determ_param = 0.1"
   ]
  },
  {
   "cell_type": "code",
   "execution_count": 75,
   "id": "e7a798e7-d7b4-4d14-9770-99aaa2f32e9f",
   "metadata": {},
   "outputs": [],
   "source": [
    "sample = test_data_iterator.next()\n",
    "index_in_batch = 2\n",
    "\n",
    "snapshot_true_error = np.squeeze(restore_units(sample,sample['sigma0_delta'],'sigma0_delta',index_in_batch).numpy())\n",
    "snapshot_model = restore_units(sample, model(transform_input(sample)).view(batch_size,w,h),'sigma0_delta',index_in_batch).detach().cpu().numpy()\n",
    "# snapshot_determ_param = restore_units(sample,determ_param(sample['diff_T_sqr'], sample['rho_ct_ct'], coef_determ_param),\\\n",
    "#                                      'sigma0_delta',index_in_batch).numpy()\n",
    "\n",
    "# snapshot_true_error = np.squeeze(sample['sigma0_delta'][index_in_batch].numpy())\n",
    "# snapshot_model = model(transform_input(sample)).view(batch_size,w,h)[index_in_batch].detach().cpu().numpy()\n",
    "snapshot_determ_param = determ_param(restore_units(sample,sample['diff_T_sqr'],'diff_T_sqr',index_in_batch), \\\n",
    "                                                      restore_units(sample,sample['rho_ct_ct'],'rho_ct_ct',index_in_batch), \\\n",
    "                                                      coef_determ_param).numpy()"
   ]
  },
  {
   "cell_type": "code",
   "execution_count": 76,
   "id": "79d05058-d6de-4980-8523-078e3faf4238",
   "metadata": {},
   "outputs": [
    {
     "data": {
      "image/png": "[encoded data removed]",
      "text/plain": [
       "<Figure size 720x252 with 6 Axes>"
      ]
     },
     "metadata": {
      "needs_background": "light"
     },
     "output_type": "display_data"
    }
   ],
   "source": [
    "fig, ax = plt.subplots(ncols=3, nrows=1, figsize=(10,3.5), constrained_layout=True)\n",
    "img0 = ax[0].imshow(snapshot_true_error, cmap='ocean')\n",
    "fig.colorbar(img0, ax=ax[0])\n",
    "img1 = ax[1].imshow(snapshot_model, cmap='ocean', vmin=img0.colorbar.vmin, vmax=img0.colorbar.vmax)\n",
    "fig.colorbar(img1, ax=ax[1])\n",
    "img2 = ax[2].imshow(snapshot_determ_param, cmap='ocean', vmin=img0.colorbar.vmin, vmax=img0.colorbar.vmax)\n",
    "fig.colorbar(img2, ax=ax[2])\n",
    "ax[0].set(title='True density error')\n",
    "ax[1].set(title='Model')\n",
    "ax[2].set(title='Deterministic parametrization')\n",
    "plt.show()"
   ]
  },
  {
   "cell_type": "markdown",
   "id": "e99129a2-b669-4e1f-9b14-b5075af48830",
   "metadata": {},
   "source": [
    "# Evaluation"
   ]
  },
  {
   "cell_type": "markdown",
   "id": "2bec9f6e-aa61-473a-b22f-91a1495513ff",
   "metadata": {},
   "source": [
    "## Total MSE on a dataset"
   ]
  },
  {
   "cell_type": "code",
   "execution_count": 237,
   "id": "af6ac593-242b-4cd0-8591-5672761b085b",
   "metadata": {},
   "outputs": [],
   "source": [
    "eval_loss = nn.MSELoss(reduction='none') "
   ]
  },
  {
   "cell_type": "code",
   "execution_count": 238,
   "id": "0790a91c-832b-4a26-ad85-5975636c5dae",
   "metadata": {},
   "outputs": [],
   "source": [
    "MSE = dict({'determ_param': [], 'FCNN': []})\n",
    "MSE['determ_param'] = [ list() for i in range(len(list_of_datasets))]\n",
    "MSE['FCNN' ] = [ list() for i in range(len(list_of_datasets))]\n",
    "labels = ['' for i in range(len(list_of_datasets))]"
   ]
  },
  {
   "cell_type": "code",
   "execution_count": 239,
   "id": "36460afa-6adc-4d20-b111-c8622f18ed87",
   "metadata": {},
   "outputs": [
    {
     "name": "stdout",
     "output_type": "stream",
     "text": [
      "CPU times: user 5.37 s, sys: 1.14 s, total: 6.51 s\n",
      "Wall time: 5.39 s\n"
     ]
    }
   ],
   "source": [
    "%%time\n",
    "for i in range(len(list_of_datasets)) :\n",
    "    single_dataset = SalinityTemperatureDensityDataset(list_of_netcdf_files = [list_of_datasets[i]], select='Last', \\\n",
    "                                                 portion_of_time_series=0.2, transform=ToTensor(), normalize=True)\n",
    "    eval_data_loader = DataLoader(dataset=single_dataset, batch_size=1, shuffle=False)\n",
    "    current_list_FCNN = []; current_list_param = []\n",
    "    for j, sample in enumerate(eval_data_loader) :\n",
    "        true_error = restore_units(sample,sample['sigma0_delta'],'sigma0_delta',0).view(-1,1)\n",
    "        model_error = restore_units(sample, model(transform_input(sample)).view(1,w,h),'sigma0_delta',0).view(-1,1)\n",
    "        determ_param_error = determ_param(restore_units(sample,sample['diff_T_sqr'],'diff_T_sqr',0), \\\n",
    "                                                      restore_units(sample,sample['rho_ct_ct'],'rho_ct_ct',0), \\\n",
    "                                                      coef_determ_param).view(-1,1)\n",
    "        current_list_FCNN = current_list_FCNN + list(np.squeeze(eval_loss(model_error, true_error).detach().numpy()))\n",
    "        current_list_param = current_list_param + list(np.squeeze(eval_loss(determ_param_error, true_error).detach().numpy()))\n",
    "    MSE['FCNN'][i] = current_list_FCNN\n",
    "    MSE['determ_param'][i] = current_list_param\n",
    "    labels[i] = 'Reg ' + sample['dataset_region'][0] + ' ' + sample['dataset_season'][0]"
   ]
  },
  {
   "cell_type": "code",
   "execution_count": 240,
   "id": "bedf4264-1537-440d-aaf1-9feffa5ec690",
   "metadata": {},
   "outputs": [
    {
     "data": {
      "image/png": "[encoded data removed]",
      "text/plain": [
       "<Figure size 576x252 with 1 Axes>"
      ]
     },
     "metadata": {
      "needs_background": "light"
     },
     "output_type": "display_data"
    }
   ],
   "source": [
    "fig, ax = plt.subplots(1, 1, constrained_layout=True, figsize=(8, 3.5))\n",
    "#fig.suptitle(r'Spatial correlation coefficient averaged in time: $R(\\rho_c, parametrization)$')\n",
    "x = np.arange(len(list_of_datasets))\n",
    "bar_width = 0.4\n",
    "\n",
    "for i, key in enumerate(['determ_param', 'FCNN']) :\n",
    "    ax.bar(x+i*bar_width, [np.mean(MSE[key][region]) for region in range(len(list_of_datasets))], width=bar_width, label=key)\n",
    "ax.legend(bbox_to_anchor=(1.05, 1), loc='upper left')\n",
    "ax.set_xticks(x+0.5*bar_width)\n",
    "#ax.axhline(y=1., color='k')\n",
    "ax.set_xticklabels(labels,fontsize=10)\n",
    "ax.set_xlabel('data set')\n",
    "ax.xaxis.set_tick_params(labelsize='small')\n",
    "ax.set(yscale='log')\n",
    "plt.show()"
   ]
  },
  {
   "cell_type": "markdown",
   "id": "d27cd398-c77f-4808-b74b-90c1e6243dc2",
   "metadata": {},
   "source": [
    "## Histograms of MSE"
   ]
  },
  {
   "cell_type": "code",
   "execution_count": 252,
   "id": "44852cac-927b-4ac6-a286-9c9d42e0db5e",
   "metadata": {},
   "outputs": [
    {
     "data": {
      "image/png": "[encoded data removed]",
      "text/plain": [
       "<Figure size 1080x216 with 6 Axes>"
      ]
     },
     "metadata": {
      "needs_background": "light"
     },
     "output_type": "display_data"
    }
   ],
   "source": [
    "fig, ax = plt.subplots(1, 6, constrained_layout=True, figsize=(15, 3))\n",
    "fig.suptitle('Histograms of MSE by dataset')\n",
    "for key in ['determ_param', 'FCNN'] :\n",
    "    for i in range(len(list_of_datasets)) :\n",
    "        ax[i].hist(MSE[key][i], bins=30, histtype='step', density=False, label=key)\n",
    "        ax[i].set(yscale='log', title=labels[i], xlabel='Bins MSE')\n",
    "ax[0].set(ylabel='counts')\n",
    "ax[-1].legend(bbox_to_anchor=(1.05, 1), loc='upper left')\n",
    "plt.show()"
   ]
  },
  {
   "cell_type": "code",
   "execution_count": null,
   "id": "a4d2db4e-1ee3-45c9-8737-d3d17e4ace91",
   "metadata": {},
   "outputs": [],
   "source": []
  }
 ],
 "metadata": {
  "kernelspec": {
   "display_name": "new_pytorch",
   "language": "python",
   "name": "new_pytorch"
  },
  "language_info": {
   "codemirror_mode": {
    "name": "ipython",
    "version": 3
   },
   "file_extension": ".py",
   "mimetype": "text/x-python",
   "name": "python",
   "nbconvert_exporter": "python",
   "pygments_lexer": "ipython3",
   "version": "3.10.4"
  }
 },
 "nbformat": 4,
 "nbformat_minor": 5
}
