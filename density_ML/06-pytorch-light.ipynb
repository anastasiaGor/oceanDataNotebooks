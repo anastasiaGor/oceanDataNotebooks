{
 "cells": [
  {
   "cell_type": "markdown",
   "id": "a42388d0-0dbe-4423-a366-1bf5b2997660",
   "metadata": {},
   "source": [
    "This notebook aims to explore capabilities of the NNs to predict density error based on the information about the <i> density field only</i>. They are compared with deterministic parametrization from the paper (Stanley et al 2020)."
   ]
  },
  {
   "cell_type": "markdown",
   "id": "ea54da1f-c0d2-4ed2-8dea-5f96a68745f0",
   "metadata": {},
   "source": [
    "# Import"
   ]
  },
  {
   "cell_type": "code",
   "execution_count": 1,
   "id": "e9303f7b-4813-46e3-9398-9b53578b9437",
   "metadata": {},
   "outputs": [],
   "source": [
    "import glob, os\n",
    "from IPython.display import clear_output\n",
    "import torch\n",
    "import numpy as np\n",
    "import matplotlib.pyplot as plt\n",
    "from tqdm.autonotebook import tqdm, trange\n",
    "import xarray as xr\n",
    "import dask\n",
    "import pandas as pd\n",
    "from IPython import display\n",
    "from prettytable import PrettyTable\n",
    "import pytorch_lightning as pl\n",
    "from pytorch_lightning import loggers as pl_loggers\n",
    "from pytorch_lightning.callbacks import EarlyStopping,ModelCheckpoint\n",
    "import inspect\n",
    "import tensorboard\n",
    "from tensorboard.backend.event_processing.event_file_loader import EventFileLoader"
   ]
  },
  {
   "cell_type": "code",
   "execution_count": 2,
   "id": "d054e80f-2a15-4119-a699-f8b309c1c1c6",
   "metadata": {},
   "outputs": [],
   "source": [
    "import logging\n",
    "logging.getLogger('lightning').setLevel(0)\n",
    "pl.utilities.distributed.log.setLevel(logging.ERROR)"
   ]
  },
  {
   "cell_type": "code",
   "execution_count": 3,
   "id": "cb00724f-4c87-407a-a426-1969274ebfb7",
   "metadata": {},
   "outputs": [
    {
     "name": "stdout",
     "output_type": "stream",
     "text": [
      "macOS-12.4-arm64-arm-64bit\n"
     ]
    }
   ],
   "source": [
    "import platform\n",
    "print(platform.platform())"
   ]
  },
  {
   "cell_type": "code",
   "execution_count": 4,
   "id": "c55aabf7-8972-41a0-93f3-6bf903b044f1",
   "metadata": {},
   "outputs": [],
   "source": [
    "#device = torch.device(\"mps\")\n",
    "device = torch.device(\"cpu\")"
   ]
  },
  {
   "cell_type": "markdown",
   "id": "7a404186-310e-42d9-acab-bd1f17d2a126",
   "metadata": {},
   "source": [
    "# Dataset definitions"
   ]
  },
  {
   "cell_type": "markdown",
   "id": "d9be8300-dfcc-4891-b2e2-0e2aae801663",
   "metadata": {},
   "source": [
    "The proposed implementation of the ``pytorch Dataset`` class reads netcdf files with data and can transform it for pytorch tensors. It allows to choose any number of netcdf files that will form the dataset and adjust the quantity of time snapshots taken from files. It also can perform normalization by mean and std of a variable in the file (so that the average is performed individually for each region and season). It is possible to create a dataset from 1 region and season, or to combine few one them (by combining files) and shuffle the snapshots in the training dataset."
   ]
  },
  {
   "cell_type": "code",
   "execution_count": 6,
   "id": "878f2708-915a-41fc-b4ed-30cff8f87e43",
   "metadata": {},
   "outputs": [],
   "source": [
    "keys_to_add_to_sample = ['sigma0_model', 'sosstsst', 'sosaline', 'diff_S_sqr', 'diff_TS', 'rho_sa_sa', 'rho_sa_ct', 'diff_T_sqr', 'rho_ct_ct', 'sigma0_delta']"
   ]
  },
  {
   "cell_type": "code",
   "execution_count": 7,
   "id": "16efd56f-6208-4fa3-b5e9-230764684a54",
   "metadata": {},
   "outputs": [],
   "source": [
    "class SalinityTemperatureDensityDataset(torch.utils.data.Dataset):\n",
    "    \"\"\"Dataset of 2D maps of surface temperature, salinity\"\"\"\n",
    "\n",
    "    def __init__(self, list_of_netcdf_files, select='All', portion_of_time_series=0.5, transform=None, normalize=False):\n",
    "        self.data = [xr.DataArray() for i in range(len(list_of_netcdf_files))]\n",
    "        for i, datasetNetcdfFile in enumerate(list_of_netcdf_files) :\n",
    "            self.data[i] = xr.open_dataset(datasetNetcdfFile).load()\n",
    "            # nan filling (very draft version of nans treatment)\n",
    "            self.data[i] = self.data[i].bfill(dim='x')\n",
    "            if (np.isnan(self.data[i]['diff_S_sqr']).any() or np.isnan(self.data[i]['sigma0_delta']).any()) :\n",
    "                print(\"NANS in data \" + datasetNetcdfFile)\n",
    "        data_file_len = len(self.data[0]['time_counter'])\n",
    "        if (select == 'All') :\n",
    "            time_index_range = np.arange(0, data_file_len)\n",
    "        elif (select == 'First') :\n",
    "            time_index_range = np.arange(0, int(portion_of_time_series*data_file_len)+1)\n",
    "        elif (select == 'Last') :\n",
    "            time_index_range = np.arange(int((1-portion_of_time_series)*data_file_len), data_file_len)\n",
    "        self.total_len = len(self.data)*len(time_index_range)\n",
    "        self.index_table = np.transpose(np.stack([np.concatenate([np.full(len(time_index_range), i) for i in range(len(self.data))]),\\\n",
    "         np.concatenate([time_index_range for i in range(len(self.data))])]))\n",
    "        self.transform = transform\n",
    "        self.normalize = normalize\n",
    "        if (normalize) :\n",
    "            for i in range(len(list_of_netcdf_files)) :\n",
    "                for key in self.data[i].data_vars :\n",
    "                    self.data[i].attrs['mean_'+key] = self.data[i].data_vars[key].mean().compute()\n",
    "                    self.data[i].attrs['std_'+key] = self.data[i].data_vars[key].std().compute()\n",
    "        \n",
    "    def __len__(self):\n",
    "        return self.total_len\n",
    "\n",
    "    def __getitem__(self, idx):\n",
    "        if torch.is_tensor(idx):\n",
    "            idx = idx.tolist()\n",
    "        \n",
    "        [index_of_dataset, index_of_time_counter] = self.index_table[idx]\n",
    "        current_dataframe = self.data[index_of_dataset].isel(time_counter=index_of_time_counter).load()\n",
    "        \n",
    "        sample = dict()\n",
    "        sample['dataset_index'] = index_of_dataset\n",
    "        sample['dataset_region'] = self.data[index_of_dataset].attrs['region']\n",
    "        sample['dataset_season'] = self.data[index_of_dataset].attrs['season']\n",
    "        for key in keys_to_add_to_sample :\n",
    "            if self.normalize :\n",
    "                # normalize by substracting mean and dividing by std of the FILE dataset (to avoid batch avg)\n",
    "                sample['mean_'+key] = current_dataframe.attrs['mean_'+key].values\n",
    "                sample['std_'+key] = current_dataframe.attrs['std_'+key].values\n",
    "                sample[key] = ((current_dataframe[key]-sample['mean_'+key])/sample['std_'+key]).values\n",
    "            else : \n",
    "                sample[key] = current_dataframe[key].values\n",
    "\n",
    "        if self.transform:\n",
    "            sample = self.transform(sample)\n",
    "        return sample\n",
    "    \n",
    "    def restore_units(sample, data, ref_variable) :\n",
    "        return (sample['std_'+ref_variable].view(-1,1,1)*data+sample['mean_'+ref_variable].view(-1,1,1))\n",
    "    def normalize(sample, data, ref_variable) :\n",
    "        return (data-sample['mean_'+ref_variable].view(-1,1,1))/(sample['std_'+ref_variable].view(-1,1,1))"
   ]
  },
  {
   "cell_type": "code",
   "execution_count": 8,
   "id": "5d3b1afc-6b46-4ddc-907c-6c028a959939",
   "metadata": {},
   "outputs": [],
   "source": [
    "class ToTensor(object):\n",
    "    \"\"\"Convert each numpy array in sample to Tensors.\"\"\"\n",
    "\n",
    "    def __call__(self, sample):\n",
    "        transformed_sample=sample\n",
    "        for key in keys_to_add_to_sample :\n",
    "            transformed_sample[key] = torch.from_numpy(sample[key].copy())\n",
    "        return transformed_sample"
   ]
  },
  {
   "cell_type": "code",
   "execution_count": 9,
   "id": "5887a8fa-eaef-447d-9805-78938f321468",
   "metadata": {},
   "outputs": [],
   "source": [
    "# test_ds = SalinityTemperatureDensityDataset(list_of_netcdf_files = ['datasets/dataset0.nc'], select='Last', portion_of_time_series=0.6, transform=ToTensor(), normalize=True)\n",
    "\n",
    "# test_dl = torch.utils.data.DataLoader(dataset=test_ds, batch_size=5, drop_last=True)\n",
    "\n",
    "# test_di = iter(test_dl)\n",
    "\n",
    "# sample = next(test_di)\n",
    "\n",
    "# SalinityTemperatureDensityDataset.restore_units(sample, sample['sigma0_delta'], 'sigma0_delta').shape"
   ]
  },
  {
   "cell_type": "markdown",
   "id": "11968316-5936-4344-bbed-0d38b7d5bca7",
   "metadata": {},
   "source": [
    "# Data properties"
   ]
  },
  {
   "cell_type": "code",
   "execution_count": 10,
   "id": "20524c8b-cfb8-48bc-b93d-678cd091d223",
   "metadata": {},
   "outputs": [
    {
     "name": "stdout",
     "output_type": "stream",
     "text": [
      "['datasets/dataset0.nc', 'datasets/dataset1.nc', 'datasets/dataset2.nc', 'datasets/dataset3.nc', 'datasets/dataset4.nc', 'datasets/dataset5.nc']\n"
     ]
    }
   ],
   "source": [
    "list_of_datasets = sorted(glob.glob('datasets/dataset?.nc'))  # put correct path to netcdf files here\n",
    "print(list_of_datasets)"
   ]
  },
  {
   "cell_type": "code",
   "execution_count": 11,
   "id": "b5e40cb5-9ac5-4acc-89a9-bd81870f9cda",
   "metadata": {},
   "outputs": [],
   "source": [
    "h = 20 # height of images\n",
    "w = 20 # width of images"
   ]
  },
  {
   "cell_type": "markdown",
   "id": "9b7e7fe7-1d19-443d-af76-7077907062dd",
   "metadata": {},
   "source": [
    "# Useful functions"
   ]
  },
  {
   "cell_type": "code",
   "execution_count": 12,
   "id": "1b10048d-6e51-47ef-99cc-e28dff5c6001",
   "metadata": {},
   "outputs": [],
   "source": [
    "def count_parameters(model):\n",
    "    table = PrettyTable([\"Modules\", \"Parameters\"])\n",
    "    total_params = 0\n",
    "    for name, parameter in model.named_parameters():\n",
    "        if not parameter.requires_grad: continue\n",
    "        params = parameter.numel()\n",
    "        table.add_row([name, params])\n",
    "        total_params+=params\n",
    "    print(table)\n",
    "    print(f\"Total Trainable Params: {total_params}\")\n",
    "    return total_params"
   ]
  },
  {
   "cell_type": "code",
   "execution_count": 13,
   "id": "e90511bd-8b38-479d-9a13-1584d813bf5e",
   "metadata": {},
   "outputs": [],
   "source": [
    "def get_logs_from_tb(exp_name, version_name, directory='logs/') :\n",
    "    dictionary = dict()\n",
    "    # for var in list_of_vars :\n",
    "    #     dictionary[var] = list()\n",
    "    for event in EventFileLoader(glob.glob(directory + '/' + exp_name + '/' + version_name + '/events.out.*')[0]).Load() :\n",
    "        if (len(event.summary.value) > 0) :\n",
    "            if (event.summary.value[0].tag not in dictionary) :\n",
    "                dictionary[event.summary.value[0].tag] = []\n",
    "            (dictionary[event.summary.value[0].tag]).append(event.summary.value[0].tensor.float_val)\n",
    "    return dictionary"
   ]
  },
  {
   "cell_type": "markdown",
   "id": "9cfd62dc-af6b-4704-a8e6-f42655e62eda",
   "metadata": {},
   "source": [
    "Deterministic parametrization:"
   ]
  },
  {
   "cell_type": "code",
   "execution_count": 14,
   "id": "d7bceb8a-0f09-49d9-8d11-f6e115098d73",
   "metadata": {},
   "outputs": [],
   "source": [
    "# coefficient c in the deterministic parametrization (the one thar is calibrated)\n",
    "coef_determ_param = 0.1"
   ]
  },
  {
   "cell_type": "code",
   "execution_count": 15,
   "id": "3e82dc7d-bcb8-46d3-901c-bcbb4d1e8a06",
   "metadata": {},
   "outputs": [],
   "source": [
    "def determ_param(diff_T_sqr, deriv_rho_TT, c) :\n",
    "    return 0.5*c*deriv_rho_TT*diff_T_sqr"
   ]
  },
  {
   "cell_type": "markdown",
   "id": "3cc4cd42-6b2f-449e-a4d7-1ac538d47b5a",
   "metadata": {},
   "source": [
    "# Experiment class"
   ]
  },
  {
   "cell_type": "code",
   "execution_count": 16,
   "id": "3b0a26a9-a388-491a-916f-0ef415904050",
   "metadata": {},
   "outputs": [],
   "source": [
    "class Experiment :\n",
    "    log_directory='logs/'\n",
    "    \n",
    "    def __init__(self, pl_class, model, label, version_name, keys_input, keys_targets, train_dataset, validation_dataset, batch_size=1, max_epochs=None, limit_train_batches=1.0) :\n",
    "        super().__init__()\n",
    "        self.pl_class = pl_class\n",
    "        self.model = model\n",
    "        self.label = label\n",
    "        self.version_name = version_name\n",
    "        self.keys_input = keys_input\n",
    "        self.keys_targets = keys_targets\n",
    "        self.train_dataset = train_dataset\n",
    "        self.validation_dataset = validation_dataset\n",
    "        self.batch_size = batch_size\n",
    "        self.max_epochs = max_epochs\n",
    "        self.limit_train_batches = limit_train_batches\n",
    "        \n",
    "    def run(self) :\n",
    "        self.train_data_loader = torch.utils.data.DataLoader(dataset=self.train_dataset, batch_size=self.batch_size, shuffle=True, drop_last=True)\n",
    "        self.val_data_loader = torch.utils.data.DataLoader(dataset=self.validation_dataset, batch_size=self.batch_size, drop_last=True)\n",
    "        self.NN = self.pl_class(self.model, self.keys_input, self.keys_targets)\n",
    "        self.logger = pl_loggers.TensorBoardLogger(save_dir=self.log_directory, name=self.label, version=self.version_name)\n",
    "        self.checkpoint_callback = ModelCheckpoint(dirpath=self.log_directory + self.label + \"/\" + self.version_name, \\\n",
    "                                              save_top_k=2, monitor=\"loss_val\")\n",
    "    \n",
    "        self.trainer = pl.Trainer(max_epochs=self.max_epochs, logger=self.logger, limit_train_batches=self.limit_train_batches, \\\n",
    "                                  callbacks=[EarlyStopping(monitor=\"loss_val\", mode=\"min\"), self.checkpoint_callback])  \n",
    "        self.trainer.fit(model = self.NN, train_dataloaders=self.train_data_loader, val_dataloaders=self.val_data_loader)\n",
    "        self.logs = get_logs_from_tb(exp_name=self.label, version_name=self.version_name, directory=self.log_directory)\n",
    "        \n",
    "    def test(self) :\n",
    "        # MSE on the frames with restored units\n",
    "        return self.trainer.test(self.NN, dataloaders=self.val_data_loader)"
   ]
  },
  {
   "cell_type": "markdown",
   "id": "ff56d616-ef48-44ed-8de0-a84d0486862b",
   "metadata": {},
   "source": [
    "# Fully-connected NN"
   ]
  },
  {
   "cell_type": "code",
   "execution_count": 20,
   "id": "6718577f-7e9d-46ad-9d4a-dc3822508f14",
   "metadata": {},
   "outputs": [],
   "source": [
    "eval_loss = torch.nn.MSELoss(reduction='none') "
   ]
  },
  {
   "cell_type": "code",
   "execution_count": 21,
   "id": "6d931779-e63e-4d3e-bb6a-74eaaa1f7484",
   "metadata": {},
   "outputs": [],
   "source": [
    "class LitPixelModel(pl.LightningModule):\n",
    "    def __init__(self, nnModel, inputs, outputs):\n",
    "        super().__init__()\n",
    "        self.nnModel = nnModel\n",
    "        for name, param in nnModel.named_parameters():\n",
    "            param.data.normal_(mean=0.0, std=0.1)\n",
    "        self.inputs = inputs\n",
    "        self.outputs = outputs\n",
    "        self.save_hyperparameters()\n",
    "\n",
    "    def training_step(self, batch, batch_idx) :\n",
    "        x = self.transform_input(batch)\n",
    "        y_true = self.transform_target(batch)\n",
    "        y_model = self.nnModel(x)\n",
    "        loss = torch.nn.functional.mse_loss(y_model, y_true)  \n",
    "        self.log('loss_train', loss, on_step=False, on_epoch=True)\n",
    "        return loss\n",
    "\n",
    "    def validation_step(self, batch, batch_idx) :\n",
    "        x = self.transform_input(batch)\n",
    "        y_true = self.transform_target(batch)\n",
    "        y_model = self.nnModel(x)\n",
    "        loss = torch.nn.functional.mse_loss(y_model, y_true)  \n",
    "        self.log('loss_val', loss, on_step=False, on_epoch=True) \n",
    "    \n",
    "    def predict_step(self, batch, batch_idx) :\n",
    "        x = self.transform_input(batch)\n",
    "        pred = self.nnModel(x).view(-1,h,w)\n",
    "        return pred\n",
    "        \n",
    "    def test_step(self, batch, batch_idx, dataloader_idx) :\n",
    "        true_output = SalinityTemperatureDensityDataset.restore_units(batch, batch['sigma0_delta'],'sigma0_delta')\n",
    "        #model_output = SalinityTemperatureDensityDataset.restore_units(batch, batch['sigma0_delta'],'sigma0_delta')\n",
    "        model_output = SalinityTemperatureDensityDataset.restore_units(batch, self.predict_step(batch, batch_idx), 'sigma0_delta')\n",
    "        loss = np.squeeze(eval_loss(model_output.view(-1,1), true_output.view(-1,1)))\n",
    "        self.log('loss_test', loss)\n",
    "\n",
    "    def configure_optimizers(self) :\n",
    "        #optimizer = optim.Adam(self.parameters(), lr=1e-3)\n",
    "        optimizer = torch.optim.SGD(self.parameters(), lr=0.001)\n",
    "        return optimizer\n",
    "\n",
    "    def transform_input(self, batch) :\n",
    "        return torch.hstack([batch[key].view(-1,1) for key in self.inputs]).to(torch.float32)\n",
    "    def transform_target(self, batch) : \n",
    "        return torch.hstack([batch[key].view(-1,1) for key in self.outputs]).to(torch.float32)"
   ]
  },
  {
   "cell_type": "code",
   "execution_count": 23,
   "id": "884adba4-cd11-40bb-9204-2386ecf48fd0",
   "metadata": {},
   "outputs": [],
   "source": [
    "layer4_FCNN_model = torch.nn.Sequential(torch.nn.Linear(6, 8), \\\n",
    "                                       torch.nn.ReLU(), \\\n",
    "                                       torch.nn.Linear(8, 16), \\\n",
    "                                       torch.nn.ReLU(), \\\n",
    "                                       torch.nn.Linear(16, 8), \\\n",
    "                                       torch.nn.ReLU(), \\\n",
    "                                       torch.nn.Linear(8, 1))"
   ]
  },
  {
   "cell_type": "markdown",
   "id": "f4a495c8-31c4-479e-a9ff-c43171b3bd50",
   "metadata": {
    "tags": []
   },
   "source": [
    "## Experiment 0"
   ]
  },
  {
   "cell_type": "code",
   "execution_count": 28,
   "id": "39d53fff-f8a4-4f69-b5b7-6db9d61e1aac",
   "metadata": {},
   "outputs": [],
   "source": [
    "exp0 = Experiment(pl_class=LitPixelModel, \\\n",
    "                      model=layer4_FCNN_model, \\\n",
    "                      label='4_layers', \\\n",
    "                      version_name='version_0', \\\n",
    "                      keys_input={'diff_S_sqr', 'diff_TS', 'rho_sa_sa', 'rho_sa_ct', 'diff_T_sqr', 'rho_ct_ct'}, \\\n",
    "                      keys_targets={'sigma0_delta'}, \n",
    "                      train_dataset=SalinityTemperatureDensityDataset(list_of_netcdf_files = list_of_datasets, select='Last', portion_of_time_series=0.6, \\\n",
    "                                                                      transform=ToTensor(), normalize=True), \\\n",
    "                      validation_dataset=SalinityTemperatureDensityDataset(list_of_netcdf_files = list_of_datasets, select='First', portion_of_time_series=0.2, \\\n",
    "                                                                           transform=ToTensor(), normalize=True), \\\n",
    "                      batch_size=4, \\\n",
    "                      max_epochs=25, \\\n",
    "                      limit_train_batches=1.0) "
   ]
  },
  {
   "cell_type": "code",
   "execution_count": 29,
   "id": "64e6aa45-2467-42a5-9e6e-8ba823347e3e",
   "metadata": {},
   "outputs": [
    {
     "name": "stderr",
     "output_type": "stream",
     "text": [
      "\n",
      "  | Name    | Type       | Params\n",
      "---------------------------------------\n",
      "0 | nnModel | Sequential | 345   \n",
      "---------------------------------------\n",
      "345       Trainable params\n",
      "0         Non-trainable params\n",
      "345       Total params\n",
      "0.001     Total estimated model params size (MB)\n",
      "/opt/homebrew/Caskroom/miniforge/base/envs/new_pytorch/lib/python3.10/site-packages/pytorch_lightning/callbacks/model_checkpoint.py:631: UserWarning: Checkpoint directory /Users/ana/CODE/Jupyter_Notebooks/oceanDataNotebooks/density_ML/logs/4_layers/version_0 exists and is not empty.\n",
      "  rank_zero_warn(f\"Checkpoint directory {dirpath} exists and is not empty.\")\n"
     ]
    },
    {
     "data": {
      "application/vnd.jupyter.widget-view+json": {
       "model_id": "",
       "version_major": 2,
       "version_minor": 0
      },
      "text/plain": [
       "Validation sanity check: 0it [00:00, ?it/s]"
      ]
     },
     "metadata": {},
     "output_type": "display_data"
    },
    {
     "name": "stderr",
     "output_type": "stream",
     "text": [
      "/opt/homebrew/Caskroom/miniforge/base/envs/new_pytorch/lib/python3.10/site-packages/pytorch_lightning/trainer/data_loading.py:132: UserWarning: The dataloader, val_dataloader 0, does not have many workers which may be a bottleneck. Consider increasing the value of the `num_workers` argument` (try 8 which is the number of cpus on this machine) in the `DataLoader` init to improve performance.\n",
      "  rank_zero_warn(\n",
      "/opt/homebrew/Caskroom/miniforge/base/envs/new_pytorch/lib/python3.10/site-packages/pytorch_lightning/trainer/data_loading.py:132: UserWarning: The dataloader, train_dataloader, does not have many workers which may be a bottleneck. Consider increasing the value of the `num_workers` argument` (try 8 which is the number of cpus on this machine) in the `DataLoader` init to improve performance.\n",
      "  rank_zero_warn(\n"
     ]
    },
    {
     "data": {
      "application/vnd.jupyter.widget-view+json": {
       "model_id": "156ac7f2233b46f2bcbd2569a6362330",
       "version_major": 2,
       "version_minor": 0
      },
      "text/plain": [
       "Training: 0it [00:00, ?it/s]"
      ]
     },
     "metadata": {},
     "output_type": "display_data"
    },
    {
     "data": {
      "application/vnd.jupyter.widget-view+json": {
       "model_id": "",
       "version_major": 2,
       "version_minor": 0
      },
      "text/plain": [
       "Validating: 0it [00:00, ?it/s]"
      ]
     },
     "metadata": {},
     "output_type": "display_data"
    },
    {
     "data": {
      "application/vnd.jupyter.widget-view+json": {
       "model_id": "",
       "version_major": 2,
       "version_minor": 0
      },
      "text/plain": [
       "Validating: 0it [00:00, ?it/s]"
      ]
     },
     "metadata": {},
     "output_type": "display_data"
    },
    {
     "data": {
      "application/vnd.jupyter.widget-view+json": {
       "model_id": "",
       "version_major": 2,
       "version_minor": 0
      },
      "text/plain": [
       "Validating: 0it [00:00, ?it/s]"
      ]
     },
     "metadata": {},
     "output_type": "display_data"
    },
    {
     "data": {
      "application/vnd.jupyter.widget-view+json": {
       "model_id": "",
       "version_major": 2,
       "version_minor": 0
      },
      "text/plain": [
       "Validating: 0it [00:00, ?it/s]"
      ]
     },
     "metadata": {},
     "output_type": "display_data"
    },
    {
     "data": {
      "application/vnd.jupyter.widget-view+json": {
       "model_id": "",
       "version_major": 2,
       "version_minor": 0
      },
      "text/plain": [
       "Validating: 0it [00:00, ?it/s]"
      ]
     },
     "metadata": {},
     "output_type": "display_data"
    },
    {
     "data": {
      "application/vnd.jupyter.widget-view+json": {
       "model_id": "",
       "version_major": 2,
       "version_minor": 0
      },
      "text/plain": [
       "Validating: 0it [00:00, ?it/s]"
      ]
     },
     "metadata": {},
     "output_type": "display_data"
    },
    {
     "data": {
      "application/vnd.jupyter.widget-view+json": {
       "model_id": "",
       "version_major": 2,
       "version_minor": 0
      },
      "text/plain": [
       "Validating: 0it [00:00, ?it/s]"
      ]
     },
     "metadata": {},
     "output_type": "display_data"
    },
    {
     "data": {
      "application/vnd.jupyter.widget-view+json": {
       "model_id": "",
       "version_major": 2,
       "version_minor": 0
      },
      "text/plain": [
       "Validating: 0it [00:00, ?it/s]"
      ]
     },
     "metadata": {},
     "output_type": "display_data"
    },
    {
     "data": {
      "application/vnd.jupyter.widget-view+json": {
       "model_id": "",
       "version_major": 2,
       "version_minor": 0
      },
      "text/plain": [
       "Validating: 0it [00:00, ?it/s]"
      ]
     },
     "metadata": {},
     "output_type": "display_data"
    },
    {
     "data": {
      "application/vnd.jupyter.widget-view+json": {
       "model_id": "",
       "version_major": 2,
       "version_minor": 0
      },
      "text/plain": [
       "Validating: 0it [00:00, ?it/s]"
      ]
     },
     "metadata": {},
     "output_type": "display_data"
    },
    {
     "data": {
      "application/vnd.jupyter.widget-view+json": {
       "model_id": "",
       "version_major": 2,
       "version_minor": 0
      },
      "text/plain": [
       "Validating: 0it [00:00, ?it/s]"
      ]
     },
     "metadata": {},
     "output_type": "display_data"
    },
    {
     "data": {
      "application/vnd.jupyter.widget-view+json": {
       "model_id": "",
       "version_major": 2,
       "version_minor": 0
      },
      "text/plain": [
       "Validating: 0it [00:00, ?it/s]"
      ]
     },
     "metadata": {},
     "output_type": "display_data"
    },
    {
     "data": {
      "application/vnd.jupyter.widget-view+json": {
       "model_id": "",
       "version_major": 2,
       "version_minor": 0
      },
      "text/plain": [
       "Validating: 0it [00:00, ?it/s]"
      ]
     },
     "metadata": {},
     "output_type": "display_data"
    },
    {
     "data": {
      "application/vnd.jupyter.widget-view+json": {
       "model_id": "",
       "version_major": 2,
       "version_minor": 0
      },
      "text/plain": [
       "Validating: 0it [00:00, ?it/s]"
      ]
     },
     "metadata": {},
     "output_type": "display_data"
    },
    {
     "data": {
      "application/vnd.jupyter.widget-view+json": {
       "model_id": "",
       "version_major": 2,
       "version_minor": 0
      },
      "text/plain": [
       "Validating: 0it [00:00, ?it/s]"
      ]
     },
     "metadata": {},
     "output_type": "display_data"
    },
    {
     "data": {
      "application/vnd.jupyter.widget-view+json": {
       "model_id": "",
       "version_major": 2,
       "version_minor": 0
      },
      "text/plain": [
       "Validating: 0it [00:00, ?it/s]"
      ]
     },
     "metadata": {},
     "output_type": "display_data"
    },
    {
     "data": {
      "application/vnd.jupyter.widget-view+json": {
       "model_id": "",
       "version_major": 2,
       "version_minor": 0
      },
      "text/plain": [
       "Validating: 0it [00:00, ?it/s]"
      ]
     },
     "metadata": {},
     "output_type": "display_data"
    },
    {
     "data": {
      "application/vnd.jupyter.widget-view+json": {
       "model_id": "",
       "version_major": 2,
       "version_minor": 0
      },
      "text/plain": [
       "Validating: 0it [00:00, ?it/s]"
      ]
     },
     "metadata": {},
     "output_type": "display_data"
    },
    {
     "data": {
      "application/vnd.jupyter.widget-view+json": {
       "model_id": "",
       "version_major": 2,
       "version_minor": 0
      },
      "text/plain": [
       "Validating: 0it [00:00, ?it/s]"
      ]
     },
     "metadata": {},
     "output_type": "display_data"
    },
    {
     "data": {
      "application/vnd.jupyter.widget-view+json": {
       "model_id": "",
       "version_major": 2,
       "version_minor": 0
      },
      "text/plain": [
       "Validating: 0it [00:00, ?it/s]"
      ]
     },
     "metadata": {},
     "output_type": "display_data"
    },
    {
     "data": {
      "application/vnd.jupyter.widget-view+json": {
       "model_id": "",
       "version_major": 2,
       "version_minor": 0
      },
      "text/plain": [
       "Validating: 0it [00:00, ?it/s]"
      ]
     },
     "metadata": {},
     "output_type": "display_data"
    },
    {
     "data": {
      "application/vnd.jupyter.widget-view+json": {
       "model_id": "",
       "version_major": 2,
       "version_minor": 0
      },
      "text/plain": [
       "Validating: 0it [00:00, ?it/s]"
      ]
     },
     "metadata": {},
     "output_type": "display_data"
    },
    {
     "data": {
      "application/vnd.jupyter.widget-view+json": {
       "model_id": "",
       "version_major": 2,
       "version_minor": 0
      },
      "text/plain": [
       "Validating: 0it [00:00, ?it/s]"
      ]
     },
     "metadata": {},
     "output_type": "display_data"
    },
    {
     "data": {
      "application/vnd.jupyter.widget-view+json": {
       "model_id": "",
       "version_major": 2,
       "version_minor": 0
      },
      "text/plain": [
       "Validating: 0it [00:00, ?it/s]"
      ]
     },
     "metadata": {},
     "output_type": "display_data"
    },
    {
     "data": {
      "application/vnd.jupyter.widget-view+json": {
       "model_id": "",
       "version_major": 2,
       "version_minor": 0
      },
      "text/plain": [
       "Validating: 0it [00:00, ?it/s]"
      ]
     },
     "metadata": {},
     "output_type": "display_data"
    }
   ],
   "source": [
    "exp0.run()\n",
    "clear_output(wait=True)"
   ]
  },
  {
   "cell_type": "code",
   "execution_count": 30,
   "id": "fb9283bd-23df-4151-bf74-ca50d497a422",
   "metadata": {},
   "outputs": [
    {
     "data": {
      "image/png": "[encoded data removed]",
      "text/plain": [
       "<Figure size 360x252 with 1 Axes>"
      ]
     },
     "metadata": {
      "needs_background": "light"
     },
     "output_type": "display_data"
    }
   ],
   "source": [
    "fig, ax = plt.subplots(1, 1, constrained_layout=True, figsize=(5, 3.5), sharey=True)\n",
    "ax.plot(exp0.logs['loss_train'], '.-', label='Training')\n",
    "ax.plot(exp0.logs['loss_val'], '.-', label='Validation')\n",
    "ax.set(title=exp0.version_name, xlabel='Epoch', ylabel='MSE'); ax.grid(True)\n",
    "ax.set(ylabel='MSE')\n",
    "ax.legend(bbox_to_anchor=(1.05, 1), loc='upper left')\n",
    "plt.show()"
   ]
  },
  {
   "cell_type": "markdown",
   "id": "cd734299-61d8-4f26-a892-f99b7a4e4f19",
   "metadata": {
    "tags": []
   },
   "source": [
    "## Test by regions/seasons"
   ]
  },
  {
   "cell_type": "code",
   "execution_count": 31,
   "id": "33d2977b-6831-4687-8833-3cd9a6297911",
   "metadata": {},
   "outputs": [
    {
     "name": "stderr",
     "output_type": "stream",
     "text": [
      "/opt/homebrew/Caskroom/miniforge/base/envs/new_pytorch/lib/python3.10/site-packages/pytorch_lightning/trainer/data_loading.py:132: UserWarning: The dataloader, test_dataloader 0, does not have many workers which may be a bottleneck. Consider increasing the value of the `num_workers` argument` (try 8 which is the number of cpus on this machine) in the `DataLoader` init to improve performance.\n",
      "  rank_zero_warn(\n",
      "/opt/homebrew/Caskroom/miniforge/base/envs/new_pytorch/lib/python3.10/site-packages/pytorch_lightning/trainer/data_loading.py:132: UserWarning: The dataloader, test_dataloader 1, does not have many workers which may be a bottleneck. Consider increasing the value of the `num_workers` argument` (try 8 which is the number of cpus on this machine) in the `DataLoader` init to improve performance.\n",
      "  rank_zero_warn(\n",
      "/opt/homebrew/Caskroom/miniforge/base/envs/new_pytorch/lib/python3.10/site-packages/pytorch_lightning/trainer/data_loading.py:132: UserWarning: The dataloader, test_dataloader 2, does not have many workers which may be a bottleneck. Consider increasing the value of the `num_workers` argument` (try 8 which is the number of cpus on this machine) in the `DataLoader` init to improve performance.\n",
      "  rank_zero_warn(\n",
      "/opt/homebrew/Caskroom/miniforge/base/envs/new_pytorch/lib/python3.10/site-packages/pytorch_lightning/trainer/data_loading.py:132: UserWarning: The dataloader, test_dataloader 3, does not have many workers which may be a bottleneck. Consider increasing the value of the `num_workers` argument` (try 8 which is the number of cpus on this machine) in the `DataLoader` init to improve performance.\n",
      "  rank_zero_warn(\n",
      "/opt/homebrew/Caskroom/miniforge/base/envs/new_pytorch/lib/python3.10/site-packages/pytorch_lightning/trainer/data_loading.py:132: UserWarning: The dataloader, test_dataloader 4, does not have many workers which may be a bottleneck. Consider increasing the value of the `num_workers` argument` (try 8 which is the number of cpus on this machine) in the `DataLoader` init to improve performance.\n",
      "  rank_zero_warn(\n",
      "/opt/homebrew/Caskroom/miniforge/base/envs/new_pytorch/lib/python3.10/site-packages/pytorch_lightning/trainer/data_loading.py:132: UserWarning: The dataloader, test_dataloader 5, does not have many workers which may be a bottleneck. Consider increasing the value of the `num_workers` argument` (try 8 which is the number of cpus on this machine) in the `DataLoader` init to improve performance.\n",
      "  rank_zero_warn(\n"
     ]
    },
    {
     "data": {
      "application/vnd.jupyter.widget-view+json": {
       "model_id": "5fb5d9ca61f841bdaf89fb276f534e7b",
       "version_major": 2,
       "version_minor": 0
      },
      "text/plain": [
       "Testing: 0it [00:00, ?it/s]"
      ]
     },
     "metadata": {},
     "output_type": "display_data"
    },
    {
     "name": "stderr",
     "output_type": "stream",
     "text": [
      "/opt/homebrew/Caskroom/miniforge/base/envs/new_pytorch/lib/python3.10/site-packages/pytorch_lightning/utilities/data.py:59: UserWarning: Trying to infer the `batch_size` from an ambiguous collection. The batch size we found is 1. To avoid any miscalculations, use `self.log(..., batch_size=batch_size)`.\n",
      "  warning_cache.warn(\n"
     ]
    },
    {
     "name": "stdout",
     "output_type": "stream",
     "text": [
      "--------------------------------------------------------------------------------\n",
      "DATALOADER:0 TEST RESULTS\n",
      "{'loss_test/dataloader_idx_0': 2.6251969757140614e-05}\n",
      "--------------------------------------------------------------------------------\n",
      "DATALOADER:1 TEST RESULTS\n",
      "{'loss_test/dataloader_idx_1': 9.0395014922251e-06}\n",
      "--------------------------------------------------------------------------------\n",
      "DATALOADER:2 TEST RESULTS\n",
      "{'loss_test/dataloader_idx_2': 3.0649924820380647e-09}\n",
      "--------------------------------------------------------------------------------\n",
      "DATALOADER:3 TEST RESULTS\n",
      "{'loss_test/dataloader_idx_3': 3.980819940352376e-08}\n",
      "--------------------------------------------------------------------------------\n",
      "DATALOADER:4 TEST RESULTS\n",
      "{'loss_test/dataloader_idx_4': 1.0424021645860648e-08}\n",
      "--------------------------------------------------------------------------------\n",
      "DATALOADER:5 TEST RESULTS\n",
      "{'loss_test/dataloader_idx_5': 2.9133383705470806e-08}\n",
      "--------------------------------------------------------------------------------\n"
     ]
    }
   ],
   "source": [
    "test_dataloaders = []\n",
    "for i, dataset_file in enumerate(list_of_datasets) :\n",
    "    test_dataloaders.append(torch.utils.data.DataLoader(dataset=SalinityTemperatureDensityDataset(list_of_netcdf_files = [dataset_file], \\\n",
    "                                                                         select='First', \\\n",
    "                                                                         portion_of_time_series=0.2, \\\n",
    "                                                                         transform=ToTensor(), \\\n",
    "                                                                         normalize=True), \\\n",
    "                                                  batch_size=1, drop_last=True))\n",
    "exp0_MSE_by_regions = [list(test_dict.values())[0] for test_dict in exp0.trainer.test(dataloaders=test_dataloaders, ckpt_path='best')]"
   ]
  },
  {
   "cell_type": "code",
   "execution_count": 32,
   "id": "3b8531a1-bbed-4ffd-9533-4b5f75587a54",
   "metadata": {},
   "outputs": [
    {
     "data": {
      "text/plain": [
       "[2.6251969757140614e-05,\n",
       " 9.0395014922251e-06,\n",
       " 3.0649924820380647e-09,\n",
       " 3.980819940352376e-08,\n",
       " 1.0424021645860648e-08,\n",
       " 2.9133383705470806e-08]"
      ]
     },
     "execution_count": 32,
     "metadata": {},
     "output_type": "execute_result"
    }
   ],
   "source": [
    "exp0_MSE_by_regions"
   ]
  },
  {
   "cell_type": "markdown",
   "id": "d82ee09e-da89-4be0-acb1-42181895907b",
   "metadata": {},
   "source": [
    "# Convolutional NN model"
   ]
  },
  {
   "cell_type": "code",
   "execution_count": 53,
   "id": "94b95c92-0317-4c64-b286-c876d71f628f",
   "metadata": {},
   "outputs": [],
   "source": [
    "layers3_CNN = torch.nn.Sequential(torch.nn.Conv2d(2, 32, kernel_size=3, padding='same', padding_mode='replicate'), \\\n",
    "                                  torch.nn.ReLU(), \\\n",
    "                                  torch.nn.Conv2d(32, 64, kernel_size=3, padding='same', padding_mode='replicate') ,\n",
    "                                  torch.nn.ReLU(), \\\n",
    "                                  torch.nn.Conv2d(64, 1, kernel_size=3, padding='same', padding_mode='replicate')).double()"
   ]
  },
  {
   "cell_type": "code",
   "execution_count": 73,
   "id": "fcfd7854-7731-46ed-a68d-8921f46ee1e2",
   "metadata": {},
   "outputs": [],
   "source": [
    "class CNN_Model_Class(pl.LightningModule):\n",
    "    def __init__(self, nnModel, inputs, outputs):\n",
    "        super().__init__()\n",
    "        self.nnModel = nnModel\n",
    "        for name, param in nnModel.named_parameters():\n",
    "            param.data.normal_(mean=0.0, std=0.1)\n",
    "        self.inputs = inputs\n",
    "        self.outputs = outputs\n",
    "        self.save_hyperparameters()\n",
    "\n",
    "    def training_step(self, batch, batch_idx) :\n",
    "        x = self.transform_input(batch)\n",
    "        y_true = self.transform_target(batch)\n",
    "        y_model = self.nnModel(x)\n",
    "        loss = torch.nn.functional.mse_loss(y_model, y_true)  \n",
    "        self.log('loss_train', loss, on_step=False, on_epoch=True)\n",
    "        return loss\n",
    "\n",
    "    def validation_step(self, batch, batch_idx) :\n",
    "        x = self.transform_input(batch)\n",
    "        y_true = self.transform_target(batch)\n",
    "        y_model = self.nnModel(x)\n",
    "        loss = torch.nn.functional.mse_loss(y_model, y_true)  \n",
    "        self.log('loss_val', loss, on_step=False, on_epoch=True) \n",
    "    \n",
    "    def predict_step(self, batch, batch_idx) :\n",
    "        x = self.transform_input(batch)\n",
    "        pred = self.nnModel(x).view(-1,len(self.outputs),h,w)\n",
    "        return pred\n",
    "        \n",
    "    def test_step(self, batch, batch_idx, dataloader_idx) :\n",
    "        true_output = SalinityTemperatureDensityDataset.restore_units(batch, batch['sigma0_delta'],'sigma0_delta')\n",
    "        #model_output = SalinityTemperatureDensityDataset.restore_units(batch, batch['sigma0_delta'],'sigma0_delta')\n",
    "        model_output = SalinityTemperatureDensityDataset.restore_units(batch, self.predict_step(batch, batch_idx), 'sigma0_delta')\n",
    "        loss = np.squeeze(eval_loss(model_output.view(-1,1), true_output.view(-1,1)))\n",
    "        self.log('loss_test', loss)\n",
    "\n",
    "    def configure_optimizers(self) :\n",
    "        optimizer = torch.optim.Adam(self.parameters(), lr=1e-3)\n",
    "        #optimizer = torch.optim.SGD(self.parameters(), lr=0.001)\n",
    "        return optimizer\n",
    "\n",
    "    def transform_input(self, batch) :\n",
    "        return torch.transpose(torch.stack([batch[key] for key in self.inputs]), 0, 1)\n",
    "    def transform_target(self, batch) : \n",
    "        return torch.transpose(torch.stack([batch[key] for key in self.outputs]), 0, 1)"
   ]
  },
  {
   "cell_type": "code",
   "execution_count": 74,
   "id": "405af6ae-6201-4580-878d-6eb8e69be9ef",
   "metadata": {},
   "outputs": [],
   "source": [
    "# print('Input data for training contains ' + str(len(train_data_loader)) + ' batches, each batch contains ' + str(batch_size) + \\\n",
    "#       ' instanteneous 2D maps of ' +str(len(keys_input_CNN)) + ' channels: ' + str(keys_input_CNN) + ' of size ' + str(h)+'x'+str(w) + ' pixels.')"
   ]
  },
  {
   "cell_type": "markdown",
   "id": "16bf59de-6bb5-4176-8ed0-861b419808a0",
   "metadata": {},
   "source": [
    "## Experiment 1"
   ]
  },
  {
   "cell_type": "code",
   "execution_count": 149,
   "id": "dcec2761-dd3e-42d8-9053-929402b9a603",
   "metadata": {},
   "outputs": [],
   "source": [
    "exp1 = Experiment(pl_class=CNN_Model_Class, \\\n",
    "                      model=layers3_CNN, \\\n",
    "                      label='CNN', \\\n",
    "                      version_name='version_0', \\\n",
    "                      keys_input={'sosstsst', 'rho_ct_ct'}, \\\n",
    "                      keys_targets={'sigma0_delta'}, \n",
    "                      train_dataset=SalinityTemperatureDensityDataset(list_of_netcdf_files = list_of_datasets, select='Last', portion_of_time_series=0.6, \\\n",
    "                                                                      transform=ToTensor(), normalize=True), \\\n",
    "                      validation_dataset=SalinityTemperatureDensityDataset(list_of_netcdf_files = list_of_datasets, select='First', portion_of_time_series=0.2, \\\n",
    "                                                                           transform=ToTensor(), normalize=True), \\\n",
    "                      batch_size=4, \\\n",
    "                      max_epochs=30, \\\n",
    "                      limit_train_batches=1.0) "
   ]
  },
  {
   "cell_type": "code",
   "execution_count": 150,
   "id": "1b42d8c1-9a5f-4bd5-bad2-2dfd13a23633",
   "metadata": {},
   "outputs": [
    {
     "name": "stderr",
     "output_type": "stream",
     "text": [
      "\n",
      "  | Name    | Type       | Params\n",
      "---------------------------------------\n",
      "0 | nnModel | Sequential | 19.7 K\n",
      "---------------------------------------\n",
      "19.7 K    Trainable params\n",
      "0         Non-trainable params\n",
      "19.7 K    Total params\n",
      "0.079     Total estimated model params size (MB)\n",
      "/opt/homebrew/Caskroom/miniforge/base/envs/new_pytorch/lib/python3.10/site-packages/pytorch_lightning/callbacks/model_checkpoint.py:631: UserWarning: Checkpoint directory /Users/ana/CODE/Jupyter_Notebooks/oceanDataNotebooks/density_ML/logs/CNN/version_0 exists and is not empty.\n",
      "  rank_zero_warn(f\"Checkpoint directory {dirpath} exists and is not empty.\")\n"
     ]
    },
    {
     "data": {
      "application/vnd.jupyter.widget-view+json": {
       "model_id": "",
       "version_major": 2,
       "version_minor": 0
      },
      "text/plain": [
       "Validation sanity check: 0it [00:00, ?it/s]"
      ]
     },
     "metadata": {},
     "output_type": "display_data"
    },
    {
     "name": "stderr",
     "output_type": "stream",
     "text": [
      "/opt/homebrew/Caskroom/miniforge/base/envs/new_pytorch/lib/python3.10/site-packages/pytorch_lightning/trainer/data_loading.py:132: UserWarning: The dataloader, val_dataloader 0, does not have many workers which may be a bottleneck. Consider increasing the value of the `num_workers` argument` (try 8 which is the number of cpus on this machine) in the `DataLoader` init to improve performance.\n",
      "  rank_zero_warn(\n",
      "/opt/homebrew/Caskroom/miniforge/base/envs/new_pytorch/lib/python3.10/site-packages/pytorch_lightning/trainer/data_loading.py:132: UserWarning: The dataloader, train_dataloader, does not have many workers which may be a bottleneck. Consider increasing the value of the `num_workers` argument` (try 8 which is the number of cpus on this machine) in the `DataLoader` init to improve performance.\n",
      "  rank_zero_warn(\n"
     ]
    },
    {
     "data": {
      "application/vnd.jupyter.widget-view+json": {
       "model_id": "fa1af58963624d0eacaae108ed0f6449",
       "version_major": 2,
       "version_minor": 0
      },
      "text/plain": [
       "Training: 0it [00:00, ?it/s]"
      ]
     },
     "metadata": {},
     "output_type": "display_data"
    },
    {
     "data": {
      "application/vnd.jupyter.widget-view+json": {
       "model_id": "",
       "version_major": 2,
       "version_minor": 0
      },
      "text/plain": [
       "Validating: 0it [00:00, ?it/s]"
      ]
     },
     "metadata": {},
     "output_type": "display_data"
    },
    {
     "data": {
      "application/vnd.jupyter.widget-view+json": {
       "model_id": "",
       "version_major": 2,
       "version_minor": 0
      },
      "text/plain": [
       "Validating: 0it [00:00, ?it/s]"
      ]
     },
     "metadata": {},
     "output_type": "display_data"
    },
    {
     "data": {
      "application/vnd.jupyter.widget-view+json": {
       "model_id": "",
       "version_major": 2,
       "version_minor": 0
      },
      "text/plain": [
       "Validating: 0it [00:00, ?it/s]"
      ]
     },
     "metadata": {},
     "output_type": "display_data"
    },
    {
     "data": {
      "application/vnd.jupyter.widget-view+json": {
       "model_id": "",
       "version_major": 2,
       "version_minor": 0
      },
      "text/plain": [
       "Validating: 0it [00:00, ?it/s]"
      ]
     },
     "metadata": {},
     "output_type": "display_data"
    },
    {
     "data": {
      "application/vnd.jupyter.widget-view+json": {
       "model_id": "",
       "version_major": 2,
       "version_minor": 0
      },
      "text/plain": [
       "Validating: 0it [00:00, ?it/s]"
      ]
     },
     "metadata": {},
     "output_type": "display_data"
    },
    {
     "data": {
      "application/vnd.jupyter.widget-view+json": {
       "model_id": "",
       "version_major": 2,
       "version_minor": 0
      },
      "text/plain": [
       "Validating: 0it [00:00, ?it/s]"
      ]
     },
     "metadata": {},
     "output_type": "display_data"
    },
    {
     "data": {
      "application/vnd.jupyter.widget-view+json": {
       "model_id": "",
       "version_major": 2,
       "version_minor": 0
      },
      "text/plain": [
       "Validating: 0it [00:00, ?it/s]"
      ]
     },
     "metadata": {},
     "output_type": "display_data"
    },
    {
     "data": {
      "application/vnd.jupyter.widget-view+json": {
       "model_id": "",
       "version_major": 2,
       "version_minor": 0
      },
      "text/plain": [
       "Validating: 0it [00:00, ?it/s]"
      ]
     },
     "metadata": {},
     "output_type": "display_data"
    },
    {
     "data": {
      "application/vnd.jupyter.widget-view+json": {
       "model_id": "",
       "version_major": 2,
       "version_minor": 0
      },
      "text/plain": [
       "Validating: 0it [00:00, ?it/s]"
      ]
     },
     "metadata": {},
     "output_type": "display_data"
    },
    {
     "data": {
      "application/vnd.jupyter.widget-view+json": {
       "model_id": "",
       "version_major": 2,
       "version_minor": 0
      },
      "text/plain": [
       "Validating: 0it [00:00, ?it/s]"
      ]
     },
     "metadata": {},
     "output_type": "display_data"
    },
    {
     "data": {
      "application/vnd.jupyter.widget-view+json": {
       "model_id": "",
       "version_major": 2,
       "version_minor": 0
      },
      "text/plain": [
       "Validating: 0it [00:00, ?it/s]"
      ]
     },
     "metadata": {},
     "output_type": "display_data"
    },
    {
     "data": {
      "application/vnd.jupyter.widget-view+json": {
       "model_id": "",
       "version_major": 2,
       "version_minor": 0
      },
      "text/plain": [
       "Validating: 0it [00:00, ?it/s]"
      ]
     },
     "metadata": {},
     "output_type": "display_data"
    },
    {
     "data": {
      "application/vnd.jupyter.widget-view+json": {
       "model_id": "",
       "version_major": 2,
       "version_minor": 0
      },
      "text/plain": [
       "Validating: 0it [00:00, ?it/s]"
      ]
     },
     "metadata": {},
     "output_type": "display_data"
    },
    {
     "data": {
      "application/vnd.jupyter.widget-view+json": {
       "model_id": "",
       "version_major": 2,
       "version_minor": 0
      },
      "text/plain": [
       "Validating: 0it [00:00, ?it/s]"
      ]
     },
     "metadata": {},
     "output_type": "display_data"
    },
    {
     "data": {
      "application/vnd.jupyter.widget-view+json": {
       "model_id": "",
       "version_major": 2,
       "version_minor": 0
      },
      "text/plain": [
       "Validating: 0it [00:00, ?it/s]"
      ]
     },
     "metadata": {},
     "output_type": "display_data"
    },
    {
     "data": {
      "application/vnd.jupyter.widget-view+json": {
       "model_id": "",
       "version_major": 2,
       "version_minor": 0
      },
      "text/plain": [
       "Validating: 0it [00:00, ?it/s]"
      ]
     },
     "metadata": {},
     "output_type": "display_data"
    },
    {
     "data": {
      "application/vnd.jupyter.widget-view+json": {
       "model_id": "",
       "version_major": 2,
       "version_minor": 0
      },
      "text/plain": [
       "Validating: 0it [00:00, ?it/s]"
      ]
     },
     "metadata": {},
     "output_type": "display_data"
    }
   ],
   "source": [
    "exp1.run()\n",
    "clear_output(wait=True)"
   ]
  },
  {
   "cell_type": "code",
   "execution_count": 151,
   "id": "f2fcf493-c2b7-4c88-83bc-beb5906717e0",
   "metadata": {},
   "outputs": [
    {
     "data": {
      "image/png": "[encoded data removed]",
      "text/plain": [
       "<Figure size 360x252 with 1 Axes>"
      ]
     },
     "metadata": {
      "needs_background": "light"
     },
     "output_type": "display_data"
    }
   ],
   "source": [
    "fig, ax = plt.subplots(1, 1, constrained_layout=True, figsize=(5, 3.5), sharey=True)\n",
    "ax.plot(exp1.logs['loss_train'], '.-', label='Training')\n",
    "ax.plot(exp1.logs['loss_val'], '.-', label='Validation')\n",
    "ax.set(title=exp1.version_name, xlabel='Epoch', ylabel='MSE'); ax.grid(True)\n",
    "ax.set(ylabel='MSE')\n",
    "ax.legend(bbox_to_anchor=(1.05, 1), loc='upper left')\n",
    "plt.show()"
   ]
  },
  {
   "cell_type": "markdown",
   "id": "8114268f-9bf0-4847-b33f-1ffab1fc9d84",
   "metadata": {},
   "source": [
    "# Compare results with deterministic parametrization"
   ]
  },
  {
   "cell_type": "markdown",
   "id": "f2dd0730-cc10-4612-93db-c1055c9867d3",
   "metadata": {},
   "source": [
    "## Image example"
   ]
  },
  {
   "cell_type": "code",
   "execution_count": 152,
   "id": "11a1b58c-abdb-4e86-bc45-3db9bf6649bb",
   "metadata": {},
   "outputs": [],
   "source": [
    "test_dl = torch.utils.data.DataLoader(dataset=SalinityTemperatureDensityDataset(list_of_netcdf_files = list_of_datasets, \\\n",
    "                                            select='First', \\\n",
    "                                            portion_of_time_series=0.2, \\\n",
    "                                            transform=ToTensor(), \\\n",
    "                                            normalize=True),\\\n",
    "                                      batch_size=1, drop_last=True, shuffle=True)"
   ]
  },
  {
   "cell_type": "code",
   "execution_count": 159,
   "id": "7de2bbf2-dd0d-4653-a09a-2aa8afdba195",
   "metadata": {},
   "outputs": [],
   "source": [
    "best_FCNN_model = LitPixelModel.load_from_checkpoint(exp0.checkpoint_callback.best_model_path)\n",
    "best_CNN_model = CNN_Model_Class.load_from_checkpoint(exp1.checkpoint_callback.best_model_path)"
   ]
  },
  {
   "cell_type": "code",
   "execution_count": 160,
   "id": "15fc0542-f6b8-4d1f-814c-82978569f5b1",
   "metadata": {},
   "outputs": [],
   "source": [
    "test_di = iter(test_dl)"
   ]
  },
  {
   "cell_type": "code",
   "execution_count": 165,
   "id": "0bf8e582-afa6-4b20-a41f-721cd0e5c912",
   "metadata": {},
   "outputs": [],
   "source": [
    "sample = next(test_di)"
   ]
  },
  {
   "cell_type": "code",
   "execution_count": 166,
   "id": "1bb4bc73-3981-455b-bd09-eaf35fb0e50d",
   "metadata": {},
   "outputs": [],
   "source": [
    "# snapshot = dict()\n",
    "# snapshot['true_error'] = np.squeeze(SalinityTemperatureDensityDataset.restore_units(sample,sample['sigma0_delta'],'sigma0_delta'))\n",
    "# snapshot['FCNN'] = np.squeeze(SalinityTemperatureDensityDataset.restore_units(sample, \\\n",
    "#                                                                               LitPixelModel.load_from_checkpoint(exp0.checkpoint_callback.best_model_path).\\\n",
    "#                                                                               predict_step(sample, 0),'sigma0_delta').detach().numpy())\n",
    "# snapshot['CNN'] = np.squeeze(SalinityTemperatureDensityDataset.restore_units(sample, \\\n",
    "#                                 CNN_Model_Class.load_from_checkpoint(exp1.checkpoint_callback.best_model_path).predict_step(sample, 0),\\\n",
    "#                                 'sigma0_delta').detach().cpu().numpy())\n",
    "# snapshot['determ_param'] = np.squeeze(determ_param(SalinityTemperatureDensityDataset.restore_units(sample,sample['diff_T_sqr'],'diff_T_sqr'), \\\n",
    "#                                         SalinityTemperatureDensityDataset.restore_units(sample,sample['rho_ct_ct'],'rho_ct_ct'), \\\n",
    "#                                         coef_determ_param).numpy())"
   ]
  },
  {
   "cell_type": "code",
   "execution_count": 169,
   "id": "4a98af50-cddd-4a91-b6c1-636ca6b367df",
   "metadata": {},
   "outputs": [],
   "source": [
    "snapshot = dict()\n",
    "snapshot['true_error'] = np.squeeze(sample['sigma0_delta'])\n",
    "snapshot['FCNN'] = np.squeeze(best_FCNN_model.predict_step(sample, 0).detach().numpy())\n",
    "snapshot['CNN'] = np.squeeze(best_CNN_model.predict_step(sample, 0).detach().cpu().numpy())\n",
    "snapshot['determ_param'] = np.squeeze(SalinityTemperatureDensityDataset.normalize(sample, determ_param(SalinityTemperatureDensityDataset.restore_units(sample,sample['diff_T_sqr'],'diff_T_sqr'), \\\n",
    "                                        SalinityTemperatureDensityDataset.restore_units(sample,sample['rho_ct_ct'],'rho_ct_ct'), \\\n",
    "                                        coef_determ_param),'sigma0_delta'))"
   ]
  },
  {
   "cell_type": "code",
   "execution_count": 170,
   "id": "389b25bd-303f-4421-a9d5-960abec75cbe",
   "metadata": {},
   "outputs": [
    {
     "data": {
      "image/png": "[encoded data removed]",
      "text/plain": [
       "<Figure size 1080x252 with 8 Axes>"
      ]
     },
     "metadata": {
      "needs_background": "light"
     },
     "output_type": "display_data"
    }
   ],
   "source": [
    "fig, ax = plt.subplots(ncols=len(snapshot.keys()), nrows=1, figsize=(15,3.5), constrained_layout=True)\n",
    "fig.suptitle('Example of density error fields')\n",
    "for i, key in enumerate(['true_error', 'FCNN', 'CNN', 'determ_param']) :\n",
    "    if i == 0 :\n",
    "        img = ax[i].imshow(snapshot[key], cmap='ocean')\n",
    "        fig.colorbar(img, ax=ax[i])\n",
    "        color_min = img.colorbar.vmin\n",
    "        color_max = img.colorbar.vmax\n",
    "    else :\n",
    "        img = ax[i].imshow(snapshot[key], cmap='ocean', vmin=color_min, vmax=color_max)\n",
    "        fig.colorbar(img, ax=ax[i])\n",
    "    ax[i].set(title=key, xlabel='x', ylabel='y')\n",
    "plt.show()"
   ]
  },
  {
   "cell_type": "markdown",
   "id": "e99129a2-b669-4e1f-9b14-b5075af48830",
   "metadata": {},
   "source": [
    "# Evaluation"
   ]
  },
  {
   "cell_type": "markdown",
   "id": "2bec9f6e-aa61-473a-b22f-91a1495513ff",
   "metadata": {},
   "source": [
    "## Total MSE on a dataset"
   ]
  },
  {
   "cell_type": "code",
   "execution_count": 187,
   "id": "af6ac593-242b-4cd0-8591-5672761b085b",
   "metadata": {},
   "outputs": [],
   "source": [
    "eval_loss = nn.MSELoss(reduction='none') "
   ]
  },
  {
   "cell_type": "code",
   "execution_count": 188,
   "id": "0790a91c-832b-4a26-ad85-5975636c5dae",
   "metadata": {},
   "outputs": [],
   "source": [
    "MSE = dict({'determ_param': [], 'FCNN': []})\n",
    "MSE['determ_param'] = [ list() for i in range(len(list_of_datasets))]\n",
    "MSE['FCNN' ] = [ list() for i in range(len(list_of_datasets))]\n",
    "MSE['CNN' ] = [ list() for i in range(len(list_of_datasets))]\n",
    "labels = ['' for i in range(len(list_of_datasets))]"
   ]
  },
  {
   "cell_type": "code",
   "execution_count": 189,
   "id": "36460afa-6adc-4d20-b111-c8622f18ed87",
   "metadata": {},
   "outputs": [
    {
     "name": "stdout",
     "output_type": "stream",
     "text": [
      "CPU times: user 2.98 s, sys: 919 ms, total: 3.9 s\n",
      "Wall time: 3.69 s\n"
     ]
    }
   ],
   "source": [
    "%%time\n",
    "for i in range(len(list_of_datasets)) :\n",
    "    single_dataset = SalinityTemperatureDensityDataset(list_of_netcdf_files = [list_of_datasets[i]], select='Last', \\\n",
    "                                                 portion_of_time_series=0.2, transform=ToTensor(), normalize=True)\n",
    "    eval_data_loader = DataLoader(dataset=single_dataset, batch_size=1, shuffle=False)\n",
    "    current_list_FCNN = []; current_list_CNN = []; current_list_param = []\n",
    "    for j, sample in enumerate(eval_data_loader) :\n",
    "        true_error = restore_units(sample,sample['sigma0_delta'],'sigma0_delta',0).view(-1,1).to(torch.float32).to(device)\n",
    "        FCNN_error = restore_units(sample, modelFCNN(transform_input(sample)).view(1,w,h),'sigma0_delta',0).view(-1,1)\n",
    "        CNN_error = restore_units(sample, modelCNN(transform_input_CNN(sample)).view(1,w,h),'sigma0_delta',0).view(-1,1)\n",
    "        determ_param_error = determ_param(restore_units(sample,sample['diff_T_sqr'],'diff_T_sqr',0), \\\n",
    "                                        restore_units(sample,sample['rho_ct_ct'],'rho_ct_ct',0), \\\n",
    "                                        coef_determ_param).view(-1,1).to(torch.float32).to(device)\n",
    "        current_list_FCNN = current_list_FCNN + list(np.squeeze(eval_loss(FCNN_error, true_error).detach().cpu().numpy()))\n",
    "        current_list_CNN = current_list_CNN + list(np.squeeze(eval_loss(CNN_error, true_error).detach().cpu().numpy()))\n",
    "        current_list_param = current_list_param + list(np.squeeze(eval_loss(determ_param_error, true_error).detach().cpu().numpy()))\n",
    "    MSE['FCNN'][i] = current_list_FCNN\n",
    "    MSE['CNN'][i] = current_list_CNN\n",
    "    MSE['determ_param'][i] = current_list_param\n",
    "    labels[i] = 'Reg ' + sample['dataset_region'][0] + ' ' + sample['dataset_season'][0]"
   ]
  },
  {
   "cell_type": "code",
   "execution_count": 190,
   "id": "bedf4264-1537-440d-aaf1-9feffa5ec690",
   "metadata": {},
   "outputs": [
    {
     "data": {
      "image/png": "[encoded data removed]",
      "text/plain": [
       "<Figure size 432x252 with 1 Axes>"
      ]
     },
     "metadata": {
      "needs_background": "light"
     },
     "output_type": "display_data"
    }
   ],
   "source": [
    "fig, ax = plt.subplots(1, 1, constrained_layout=True, figsize=(6, 3.5))\n",
    "#fig.suptitle(r'Spatial correlation coefficient averaged in time: $R(\\rho_c, parametrization)$')\n",
    "x = np.arange(len(list_of_datasets))\n",
    "bar_width = 0.2\n",
    "\n",
    "for i, key in enumerate(['determ_param', 'FCNN', 'CNN']) :\n",
    "    ax.bar(x+i*bar_width, [np.mean(MSE[key][region]) for region in range(len(list_of_datasets))], width=bar_width, label=key)\n",
    "ax.legend(['Deterministic parametrization', 'Fully connected NN', 'Convolutional NN'])\n",
    "ax.set_xticks(x+bar_width)\n",
    "#ax.axhline(y=1., color='k')\n",
    "ax.set_xticklabels(labels,fontsize=10)\n",
    "ax.set_xlabel('data set')\n",
    "ax.xaxis.set_tick_params(labelsize='small')\n",
    "ax.set(yscale='log')\n",
    "plt.show()"
   ]
  },
  {
   "cell_type": "markdown",
   "id": "d27cd398-c77f-4808-b74b-90c1e6243dc2",
   "metadata": {},
   "source": [
    "## Histograms of MSE"
   ]
  },
  {
   "cell_type": "code",
   "execution_count": 64,
   "id": "44852cac-927b-4ac6-a286-9c9d42e0db5e",
   "metadata": {},
   "outputs": [
    {
     "data": {
      "image/png": "[encoded data removed]",
      "text/plain": [
       "<Figure size 1080x216 with 6 Axes>"
      ]
     },
     "metadata": {
      "needs_background": "light"
     },
     "output_type": "display_data"
    }
   ],
   "source": [
    "fig, ax = plt.subplots(1, 6, constrained_layout=True, figsize=(15, 3))\n",
    "fig.suptitle('Histograms of MSE by dataset')\n",
    "for key in ['determ_param', 'FCNN', 'CNN'] :\n",
    "    for i in range(len(list_of_datasets)) :\n",
    "        ax[i].hist(MSE[key][i], bins=30, histtype='step', density=False, label=key)\n",
    "        ax[i].set(yscale='log', title=labels[i], xlabel='Bins MSE')\n",
    "ax[0].set(ylabel='counts')\n",
    "ax[-1].legend(bbox_to_anchor=(1.05, 1), loc='upper left')\n",
    "plt.show()"
   ]
  },
  {
   "cell_type": "code",
   "execution_count": null,
   "id": "a4d2db4e-1ee3-45c9-8737-d3d17e4ace91",
   "metadata": {},
   "outputs": [],
   "source": []
  },
  {
   "cell_type": "code",
   "execution_count": null,
   "id": "e1fcddf1-f020-4989-9e74-dc738234b686",
   "metadata": {},
   "outputs": [],
   "source": []
  }
 ],
 "metadata": {
  "kernelspec": {
   "display_name": "new_pytorch",
   "language": "python",
   "name": "new_pytorch"
  },
  "language_info": {
   "codemirror_mode": {
    "name": "ipython",
    "version": 3
   },
   "file_extension": ".py",
   "mimetype": "text/x-python",
   "name": "python",
   "nbconvert_exporter": "python",
   "pygments_lexer": "ipython3",
   "version": "3.10.4"
  },
  "toc-autonumbering": true,
  "toc-showcode": false,
  "toc-showmarkdowntxt": false,
  "toc-showtags": false
 },
 "nbformat": 4,
 "nbformat_minor": 5
}
