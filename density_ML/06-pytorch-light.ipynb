{
 "cells": [
  {
   "cell_type": "markdown",
   "id": "a42388d0-0dbe-4423-a366-1bf5b2997660",
   "metadata": {},
   "source": [
    "This notebook aims to explore capabilities of the NNs to predict density error based on the information about the <i> density field only</i>. They are compared with deterministic parametrization from the paper (Stanley et al 2020)."
   ]
  },
  {
   "cell_type": "markdown",
   "id": "ea54da1f-c0d2-4ed2-8dea-5f96a68745f0",
   "metadata": {},
   "source": [
    "# Import"
   ]
  },
  {
   "cell_type": "code",
   "execution_count": 1,
   "id": "e9303f7b-4813-46e3-9398-9b53578b9437",
   "metadata": {},
   "outputs": [],
   "source": [
    "import glob, os\n",
    "from IPython.display import clear_output\n",
    "import torch\n",
    "import numpy as np\n",
    "import matplotlib.pyplot as plt\n",
    "from tqdm.autonotebook import tqdm, trange\n",
    "import xarray as xr\n",
    "import dask\n",
    "import pandas as pd\n",
    "from IPython import display\n",
    "from prettytable import PrettyTable\n",
    "import pytorch_lightning as pl\n",
    "from pytorch_lightning import loggers as pl_loggers\n",
    "from pytorch_lightning.callbacks import EarlyStopping,ModelCheckpoint\n",
    "import inspect\n",
    "import tensorboard\n",
    "from tensorboard.backend.event_processing.event_file_loader import EventFileLoader\n",
    "import itertools"
   ]
  },
  {
   "cell_type": "code",
   "execution_count": 2,
   "id": "d054e80f-2a15-4119-a699-f8b309c1c1c6",
   "metadata": {
    "tags": []
   },
   "outputs": [],
   "source": [
    "import logging\n",
    "logging.getLogger('lightning').setLevel(0)\n",
    "pl.utilities.distributed.log.setLevel(logging.ERROR)"
   ]
  },
  {
   "cell_type": "code",
   "execution_count": 3,
   "id": "cb00724f-4c87-407a-a426-1969274ebfb7",
   "metadata": {},
   "outputs": [
    {
     "name": "stdout",
     "output_type": "stream",
     "text": [
      "macOS-12.6-arm64-arm-64bit\n"
     ]
    }
   ],
   "source": [
    "import platform\n",
    "print(platform.platform())"
   ]
  },
  {
   "cell_type": "code",
   "execution_count": 395,
   "id": "fe40eb39-9422-4c7f-a77a-d0a0abaf3b29",
   "metadata": {},
   "outputs": [
    {
     "name": "stderr",
     "output_type": "stream",
     "text": [
      "/opt/homebrew/Caskroom/miniforge/base/envs/new_pytorch/lib/python3.10/site-packages/distributed/client.py:1288: VersionMismatchWarning: Mismatched versions found\n",
      "\n",
      "+-------------+-----------+-----------+----------+\n",
      "| Package     | Client    | Scheduler | Workers  |\n",
      "+-------------+-----------+-----------+----------+\n",
      "| cloudpickle | 2.2.0     | 2.1.0     | 2.1.0    |\n",
      "| dask        | 2022.05.0 | 2022.9.0  | 2022.9.0 |\n",
      "| distributed | 2022.5.0  | 2022.9.0  | 2022.9.0 |\n",
      "| numpy       | 1.23.3    | 1.23.2    | 1.23.2   |\n",
      "| tornado     | 6.2       | 6.1       | 6.1      |\n",
      "+-------------+-----------+-----------+----------+\n",
      "  warnings.warn(version_module.VersionMismatchWarning(msg[0][\"warning\"]))\n"
     ]
    }
   ],
   "source": [
    "from dask.distributed import Client\n",
    "\n",
    "client = Client(\"tcp://127.0.0.1:49629\")"
   ]
  },
  {
   "cell_type": "code",
   "execution_count": 4,
   "id": "c55aabf7-8972-41a0-93f3-6bf903b044f1",
   "metadata": {},
   "outputs": [],
   "source": [
    "#device = torch.device(\"mps\")\n",
    "device = torch.device(\"cpu\")"
   ]
  },
  {
   "cell_type": "code",
   "execution_count": 474,
   "id": "09185b24-5c66-4f85-92d2-edd901e130b7",
   "metadata": {},
   "outputs": [],
   "source": [
    "import warnings\n",
    "\n",
    "warnings.filterwarnings(\"ignore\", \".*Consider increasing the value of the `num_workers` argument*\")"
   ]
  },
  {
   "cell_type": "markdown",
   "id": "7a404186-310e-42d9-acab-bd1f17d2a126",
   "metadata": {},
   "source": [
    "# Data classes"
   ]
  },
  {
   "cell_type": "markdown",
   "id": "d9be8300-dfcc-4891-b2e2-0e2aae801663",
   "metadata": {},
   "source": [
    "The proposed implementation of the ``pytorch Dataset`` class reads netcdf files with data and can transform it for pytorch tensors. It allows to choose any number of netcdf files that will form the dataset and adjust the quantity of time snapshots taken from files. It also can perform normalization by mean and std of a variable in the file (so that the average is performed individually for each region and season). It is possible to create a dataset from 1 region and season, or to combine few one them (by combining files) and shuffle the snapshots in the training dataset."
   ]
  },
  {
   "cell_type": "code",
   "execution_count": 239,
   "id": "878f2708-915a-41fc-b4ed-30cff8f87e43",
   "metadata": {},
   "outputs": [],
   "source": [
    "features_to_add_to_sample = ['sigma0_model', 'sosstsst', 'sosaline', 'diff_S_sqr', 'diff_TS', 'rho_sa_sa', 'rho_sa_ct', 'diff_T_sqr', 'rho_ct_ct', 'sigma0_delta']"
   ]
  },
  {
   "cell_type": "code",
   "execution_count": 240,
   "id": "48e6b243-c816-4dce-b881-7bd0276ef859",
   "metadata": {},
   "outputs": [],
   "source": [
    "# coefficient c in the deterministic parametrization (the one that needs calibrated)\n",
    "coef_determ_param = 0.27354727590256256"
   ]
  },
  {
   "cell_type": "markdown",
   "id": "fe641c3e-a3b8-4402-a55f-94346bd3fab9",
   "metadata": {},
   "source": [
    "## Pytorch dataset"
   ]
  },
  {
   "cell_type": "code",
   "execution_count": 343,
   "id": "16efd56f-6208-4fa3-b5e9-230764684a54",
   "metadata": {},
   "outputs": [],
   "source": [
    "class SalinityTemperatureDensityDataset(torch.utils.data.Dataset):\n",
    "    \"\"\"Dataset of 2D maps of surface temperature, salinity\"\"\"\n",
    "\n",
    "    def __init__(self, xarray_dataset, select='All', portion_of_time_series=0.5, transform=None):\n",
    "        self.transform = transform\n",
    "        #self.data = xr.open_dataset(netcdf_file)\n",
    "        self.data = xarray_dataset\n",
    "        self.data = self.data.bfill(dim='x').bfill(dim='y') # nan filling (the very draft version of nans treatment)\n",
    "        if (np.isnan(self.data['diff_S_sqr']).any() or np.isnan(self.data['sigma0_delta']).any()) :\n",
    "            print(\"WARNING: NANS in data \" + netcdf_file)\n",
    "        full_data_file_len = len(self.data['time_counter'])\n",
    "        if (select == 'All') :\n",
    "            time_index_range = np.arange(0, data_file_len)\n",
    "        elif (select == 'First') :\n",
    "            time_index_range = np.arange(0, int(portion_of_time_series*full_data_file_len)+1)\n",
    "        elif (select == 'Last') :\n",
    "            time_index_range = np.arange(int((1-portion_of_time_series)*full_data_file_len), full_data_file_len)\n",
    "        self.data = self.data.isel(time_counter=time_index_range)\n",
    "        self.data_file_len = len(self.data['time_counter'])\n",
    "        # pre-compute some stuff fields (do it in xArray format, before transform to pytorch tensor)\n",
    "        for feature in features_to_add_to_sample :\n",
    "            self.data.attrs['mean_'+feature] = self.data.data_vars[feature].mean().compute()\n",
    "            self.data.attrs['std_'+feature] = self.data.data_vars[feature].std().compute()\n",
    "        \n",
    "    def __len__(self):\n",
    "        return self.data_file_len\n",
    "\n",
    "    def __getitem__(self, idx):\n",
    "        if torch.is_tensor(idx):\n",
    "            list_idx = idx.tolist()\n",
    "        else :\n",
    "            list_idx = idx\n",
    "        selected_time_frames = self.data.isel(time_counter=list_idx)\n",
    "        \n",
    "        # create dictionary of a sample (a batch) containig different features. \n",
    "        # This dictionary is sort of an intermediate step, preparing xArray data for trasform into pytorch tensors\n",
    "        sample = dict()\n",
    "        sample['dataset_region'] = self.data.attrs['region']\n",
    "        sample['dataset_season'] = self.data.attrs['season']\n",
    "        for key in keys_to_add_to_sample :\n",
    "            sample[key] = selected_time_frames[key].values  # transform to a numpy array\n",
    "            # mean and std of the FILE dataset (to avoid batch avg) for possible normalization\n",
    "            sample['mean_'+key] = selected_time_frames.attrs['mean_'+key].values\n",
    "            sample['std_'+key] = selected_time_frames.attrs['std_'+key].values\n",
    "            sample['normalized_'+key] = ((selected_time_frames[key]-sample['mean_'+key])/sample['std_'+key]).values\n",
    "        if self.transform:\n",
    "            sample = self.transform(sample)\n",
    "        sample['determ_param_sigma0_delta'] = SalinityTemperatureDensityDataset.deterministic_parametrization(sample, coef_determ_param)\n",
    "        return sample\n",
    "    \n",
    "    def restore_units(tensor, sample, reference_feature) :\n",
    "        return tensor*(sample['std_'+reference_feature].view(-1,1,1))+sample['mean_'+reference_feature].view(-1,1,1)\n",
    "                \n",
    "    def normalize(tensor, sample, reference_feature) :\n",
    "        return (tensor-sample['mean_'+reference_feature].view(-1,1,1))/(sample['std_'+reference_feature].view(-1,1,1))\n",
    "    \n",
    "    def deterministic_parametrization(sample, calibration_coef) :\n",
    "        return 0.5*calibration_coef*sample['diff_T_sqr']*sample['rho_ct_ct']"
   ]
  },
  {
   "cell_type": "code",
   "execution_count": 344,
   "id": "5d3b1afc-6b46-4ddc-907c-6c028a959939",
   "metadata": {},
   "outputs": [],
   "source": [
    "class ToTensor(object):\n",
    "    \"\"\"Convert each numpy array in sample to Tensors.\"\"\"\n",
    "\n",
    "    def __call__(self, sample):\n",
    "        transformed_sample=sample.copy()\n",
    "        for key in keys_to_add_to_sample :\n",
    "            transformed_sample[key] = torch.from_numpy(sample[key].copy())\n",
    "        return transformed_sample"
   ]
  },
  {
   "cell_type": "code",
   "execution_count": 345,
   "id": "5887a8fa-eaef-447d-9805-78938f321468",
   "metadata": {},
   "outputs": [
    {
     "data": {
      "text/plain": [
       "torch.Size([5, 24, 20])"
      ]
     },
     "execution_count": 345,
     "metadata": {},
     "output_type": "execute_result"
    }
   ],
   "source": [
    "xr_dataset0 = xr.open_dataset('datasets/dataset0.nc')\n",
    "\n",
    "test_ds = SalinityTemperatureDensityDataset(xr_dataset0, select='Last', portion_of_time_series=0.6, transform=ToTensor())\n",
    "\n",
    "test_dl = torch.utils.data.DataLoader(dataset=test_ds, batch_size=5, drop_last=True)\n",
    "\n",
    "test_di = iter(test_dl)\n",
    "\n",
    "sample = next(test_di)\n",
    "\n",
    "sample['normalized_sigma0_delta'].shape"
   ]
  },
  {
   "cell_type": "code",
   "execution_count": 346,
   "id": "a1a1b2b6-d128-4551-9d79-6d75a5f09c01",
   "metadata": {},
   "outputs": [],
   "source": [
    "restored = SalinityTemperatureDensityDataset.restore_units(sample['normalized_sigma0_delta'], sample, 'sigma0_delta')"
   ]
  },
  {
   "cell_type": "code",
   "execution_count": 347,
   "id": "5726b345-25b9-4864-9bc2-e81c9900fbc6",
   "metadata": {},
   "outputs": [],
   "source": [
    "normalized = SalinityTemperatureDensityDataset.normalize(restored, sample, 'sigma0_delta')"
   ]
  },
  {
   "cell_type": "code",
   "execution_count": 348,
   "id": "d0fdc019-4bac-4353-aff7-d6fe4021a921",
   "metadata": {},
   "outputs": [
    {
     "data": {
      "text/plain": [
       "tensor(-1.6653e-15, dtype=torch.float64)"
      ]
     },
     "execution_count": 348,
     "metadata": {},
     "output_type": "execute_result"
    }
   ],
   "source": [
    "(sample['normalized_sigma0_delta'] - normalized).sum()"
   ]
  },
  {
   "cell_type": "code",
   "execution_count": 349,
   "id": "0fe9daf7-f41b-4256-9b47-15d9fc1ee7af",
   "metadata": {},
   "outputs": [
    {
     "data": {
      "text/plain": [
       "tensor(-1.2902e-17, dtype=torch.float64)"
      ]
     },
     "execution_count": 349,
     "metadata": {},
     "output_type": "execute_result"
    }
   ],
   "source": [
    "(sample['sigma0_delta'] - restored).sum()"
   ]
  },
  {
   "cell_type": "code",
   "execution_count": 350,
   "id": "494b1839-1137-4b33-af98-681a0eb41796",
   "metadata": {},
   "outputs": [
    {
     "data": {
      "text/plain": [
       "torch.Size([5, 24, 20])"
      ]
     },
     "execution_count": 350,
     "metadata": {},
     "output_type": "execute_result"
    }
   ],
   "source": [
    "sample['diff_T_sqr'].shape"
   ]
  },
  {
   "cell_type": "code",
   "execution_count": 351,
   "id": "18b5450c-fb4c-48cc-ad69-faaba17c14ed",
   "metadata": {},
   "outputs": [
    {
     "data": {
      "text/plain": [
       "torch.Size([5, 24, 20])"
      ]
     },
     "execution_count": 351,
     "metadata": {},
     "output_type": "execute_result"
    }
   ],
   "source": [
    "(coef_determ_param*sample['diff_T_sqr']*sample['rho_ct_ct']).shape"
   ]
  },
  {
   "cell_type": "markdown",
   "id": "0d0f87c0-6323-4f4e-8c7c-2b7b484058db",
   "metadata": {},
   "source": [
    "## PyLi data module"
   ]
  },
  {
   "cell_type": "markdown",
   "id": "5391569d-168f-4acb-9d27-cc1ce6ed53d9",
   "metadata": {},
   "source": [
    "A DataModule standardizes the training, val, test splits, data preparation and transforms. The main advantage is consistent data splits, data preparation and transforms across models."
   ]
  },
  {
   "cell_type": "code",
   "execution_count": 652,
   "id": "f7b55d39-928a-47df-8135-f194744b4eb3",
   "metadata": {},
   "outputs": [],
   "source": [
    "from pytorch_lightning.trainer.supporters import CombinedLoader\n",
    "\n",
    "class PyLiDataModule(pl.LightningDataModule):\n",
    "    def __init__(self, list_of_dataset_files, batch_size):\n",
    "        super().__init__()\n",
    "        self.list_of_dataset_files = list_of_dataset_files\n",
    "        self.batch_size = batch_size\n",
    "    def prepare_data(self):\n",
    "        self.list_of_xr_datasets = []\n",
    "        for file in self.list_of_dataset_files :\n",
    "            self.list_of_xr_datasets.append(xr.open_dataset(file,chunks='auto').load())  #REPLACE FOR CLOUD LOADING\n",
    "    # def setup(self, stage):\n",
    "    #     make assignments here (val/train/test split)\n",
    "    #     called on every process in DDP\n",
    "    def train_dataloader(self):\n",
    "        # train_datasets = [SalinityTemperatureDensityDataset(xr_dataset, select='First', portion_of_time_series=0.6, transform=ToTensor()) \\\n",
    "        #                   for xr_dataset in self.list_of_xr_datasets]\n",
    "        # return [torch.utils.data.DataLoader(dataset, batch_size=self.batch_size, shuffle=True, drop_last=True) for dataset in train_datasets]\n",
    "        train_datasets = torch.utils.data.ConcatDataset([SalinityTemperatureDensityDataset(xr_dataset, select='First', portion_of_time_series=0.6, transform=ToTensor()) \\\n",
    "                           for xr_dataset in self.list_of_xr_datasets])\n",
    "        return torch.utils.data.DataLoader(train_datasets, batch_size=self.batch_size, shuffle=True, drop_last=True)\n",
    "    def val_dataloader(self):\n",
    "        val_datasets = torch.utils.data.ConcatDataset([SalinityTemperatureDensityDataset(xr_dataset, select='Last', portion_of_time_series=0.2, transform=ToTensor()) \\\n",
    "                          for xr_dataset in self.list_of_xr_datasets])\n",
    "        return torch.utils.data.DataLoader(val_datasets, batch_size=self.batch_size, drop_last=True) \n",
    "    def test_dataloader(self):\n",
    "        test_datasets = [SalinityTemperatureDensityDataset(xr_dataset, select='Last', portion_of_time_series=0.2, transform=ToTensor()) \\\n",
    "                          for xr_dataset in self.list_of_xr_datasets]\n",
    "        return [torch.utils.data.DataLoader(dataset, batch_size=1, shuffle=True, drop_last=True) for dataset in test_datasets]\n",
    "    #def teardown(self):\n",
    "        # clean up after fit or test\n",
    "        # called on every process in DDP"
   ]
  },
  {
   "cell_type": "markdown",
   "id": "11968316-5936-4344-bbed-0d38b7d5bca7",
   "metadata": {},
   "source": [
    "# Data properties"
   ]
  },
  {
   "cell_type": "code",
   "execution_count": 653,
   "id": "20524c8b-cfb8-48bc-b93d-678cd091d223",
   "metadata": {},
   "outputs": [
    {
     "name": "stdout",
     "output_type": "stream",
     "text": [
      "['datasets/dataset0.nc', 'datasets/dataset1.nc', 'datasets/dataset2.nc', 'datasets/dataset3.nc', 'datasets/dataset4.nc', 'datasets/dataset5.nc']\n"
     ]
    }
   ],
   "source": [
    "list_of_datasets = sorted(glob.glob('datasets/dataset?.nc'))  # put correct path to netcdf files here\n",
    "print(list_of_datasets)"
   ]
  },
  {
   "cell_type": "code",
   "execution_count": 654,
   "id": "b5e40cb5-9ac5-4acc-89a9-bd81870f9cda",
   "metadata": {},
   "outputs": [],
   "source": [
    "h = 24 # height of images\n",
    "w = 20 # width of images"
   ]
  },
  {
   "cell_type": "code",
   "execution_count": 655,
   "id": "54c0548d-fe1e-422d-8639-da7219db43dd",
   "metadata": {},
   "outputs": [],
   "source": [
    "common_datamodule = PyLiDataModule(list_of_datasets, batch_size=4)"
   ]
  },
  {
   "cell_type": "markdown",
   "id": "9b7e7fe7-1d19-443d-af76-7077907062dd",
   "metadata": {},
   "source": [
    "# Useful functions"
   ]
  },
  {
   "cell_type": "markdown",
   "id": "6e8e836a-6f79-4f74-83ed-75cf22ae79f9",
   "metadata": {},
   "source": [
    "A function that counts the optimized parameters in a given model and prints it in a readable table form:"
   ]
  },
  {
   "cell_type": "code",
   "execution_count": 656,
   "id": "1b10048d-6e51-47ef-99cc-e28dff5c6001",
   "metadata": {},
   "outputs": [],
   "source": [
    "def count_parameters(model):\n",
    "    table = PrettyTable([\"Modules\", \"Parameters\"])\n",
    "    total_params = 0\n",
    "    for name, parameter in model.named_parameters():\n",
    "        if not parameter.requires_grad: continue\n",
    "        params = parameter.numel()\n",
    "        table.add_row([name, params])\n",
    "        total_params+=params\n",
    "    print(table)\n",
    "    print(f\"Total Trainable Params: {total_params}\")\n",
    "    return total_params"
   ]
  },
  {
   "cell_type": "markdown",
   "id": "e57bc5a4-d255-417b-8eed-7577a11c3b4f",
   "metadata": {},
   "source": [
    "A function that allows to read the logs in tensorboars format and returns them as a python dictionary:"
   ]
  },
  {
   "cell_type": "code",
   "execution_count": 657,
   "id": "e90511bd-8b38-479d-9a13-1584d813bf5e",
   "metadata": {},
   "outputs": [],
   "source": [
    "def get_logs_from_tb(exp_name, version_name, directory='logs/') :\n",
    "    dictionary = dict()\n",
    "    # for var in list_of_vars :\n",
    "    #     dictionary[var] = list()\n",
    "    for event in EventFileLoader(glob.glob(directory + '/' + exp_name + '/' + version_name + '/events.out.*')[0]).Load() :\n",
    "        if (len(event.summary.value) > 0) :\n",
    "            if (event.summary.value[0].tag not in dictionary) :\n",
    "                dictionary[event.summary.value[0].tag] = []\n",
    "            (dictionary[event.summary.value[0].tag]).append(event.summary.value[0].tensor.float_val)\n",
    "    return dictionary"
   ]
  },
  {
   "cell_type": "markdown",
   "id": "3cc4cd42-6b2f-449e-a4d7-1ac538d47b5a",
   "metadata": {},
   "source": [
    "# Experiment class"
   ]
  },
  {
   "cell_type": "markdown",
   "id": "6a613b0a-8834-429a-9d38-3475a41cdf69",
   "metadata": {},
   "source": [
    "This class collects all information needed for an experiment:"
   ]
  },
  {
   "cell_type": "code",
   "execution_count": 689,
   "id": "3b0a26a9-a388-491a-916f-0ef415904050",
   "metadata": {},
   "outputs": [],
   "source": [
    "class Experiment :\n",
    "    log_directory='logs/'\n",
    "    \n",
    "    def __init__(self, pl_class, model, label, version_name, datamodule, keys_input, keys_targets, max_epochs=None, limit_train_batches=1.0) :\n",
    "        super().__init__()\n",
    "        self.pl_class = pl_class  # pytorch lightning module class\n",
    "        self.model = model\n",
    "        self.label = label\n",
    "        self.version_name = version_name\n",
    "        self.datamodule = datamodule\n",
    "        self.keys_input = keys_input\n",
    "        self.keys_targets = keys_targets\n",
    "        self.max_epochs = max_epochs\n",
    "        self.limit_train_batches = limit_train_batches\n",
    "        \n",
    "    def run(self) :\n",
    "        self.NN = self.pl_class(self.model, self.keys_input, self.keys_targets)\n",
    "        self.logger = pl_loggers.TensorBoardLogger(save_dir=self.log_directory, name=self.label, version=self.version_name)\n",
    "        self.checkpoint_callback = ModelCheckpoint(dirpath=self.log_directory + self.label + \"/\" + self.version_name, \\\n",
    "                                              save_top_k=2, monitor=\"loss_val\")\n",
    "    \n",
    "        self.trainer = pl.Trainer(max_epochs=self.max_epochs, logger=self.logger, limit_train_batches=self.limit_train_batches, \\\n",
    "                                  callbacks=[EarlyStopping(monitor=\"loss_val\", mode=\"min\"), self.checkpoint_callback])  \n",
    "        self.trainer.fit(model = self.NN, datamodule=self.datamodule)\n",
    "        self.logs = get_logs_from_tb(exp_name=self.label, version_name=self.version_name, directory=self.log_directory)\n",
    "        \n",
    "    def test(self) :\n",
    "        return self.trainer.test(self.NN, datamodule=self.datamodule)"
   ]
  },
  {
   "cell_type": "markdown",
   "id": "ff56d616-ef48-44ed-8de0-a84d0486862b",
   "metadata": {},
   "source": [
    "# Fully-connected NN"
   ]
  },
  {
   "cell_type": "markdown",
   "id": "963dc6a3-2d35-4886-8c56-9403e8d15b58",
   "metadata": {},
   "source": [
    "Evaluation loss function:"
   ]
  },
  {
   "cell_type": "code",
   "execution_count": 691,
   "id": "6718577f-7e9d-46ad-9d4a-dc3822508f14",
   "metadata": {},
   "outputs": [],
   "source": [
    "eval_loss = torch.nn.MSELoss(reduction='none') "
   ]
  },
  {
   "cell_type": "markdown",
   "id": "ce56e2f8-3394-4af0-a48f-cacb91df0a6f",
   "metadata": {},
   "source": [
    "The pytorch lightning class describing a model that treats the inputs/outputs pixel by pixel. "
   ]
  },
  {
   "cell_type": "code",
   "execution_count": 692,
   "id": "6d931779-e63e-4d3e-bb6a-74eaaa1f7484",
   "metadata": {},
   "outputs": [],
   "source": [
    "class LitPixelModel(pl.LightningModule):\n",
    "    def __init__(self, nnModel, inputs, outputs):\n",
    "        super().__init__()\n",
    "        self.nnModel = nnModel\n",
    "        # initialization of model parameters with random numbers \n",
    "        # for name, param in nnModel.named_parameters():\n",
    "        #     param.data.normal_(mean=0.0, std=0.1)\n",
    "        self.inputs = inputs\n",
    "        self.outputs = outputs\n",
    "        self.save_hyperparameters()\n",
    "\n",
    "    def training_step(self, batch, batch_idx) :\n",
    "        x = self.transform_input(batch)\n",
    "        y_true = self.transform_target(batch)\n",
    "        y_model = self.nnModel(x)\n",
    "        loss = torch.nn.functional.mse_loss(y_model, y_true)  \n",
    "        self.log('loss_train', loss, on_step=False, on_epoch=True)\n",
    "        return loss\n",
    "\n",
    "    # validation logics (is evaluated during the training, but the data is not used to the optimization loop)\n",
    "    def validation_step(self, batch, batch_idx) :\n",
    "        x = self.transform_input(batch)\n",
    "        y_true = self.transform_target(batch)\n",
    "        y_model = self.nnModel(x)\n",
    "        loss = torch.nn.functional.mse_loss(y_model, y_true)  \n",
    "        self.log('loss_val', loss, on_step=False, on_epoch=True) \n",
    "    \n",
    "    # gives model output in a form of a dictionary of 2d variables\n",
    "    def predict_step(self, batch, batch_idx, dataloader_idx) :\n",
    "        x = self.transform_input(batch)\n",
    "        tensor_model_output = self.nnModel(x)\n",
    "        pred = dict()\n",
    "        for i, feature in enumerate(self.outputs) :\n",
    "            pred[feature] = tensor_model_output[:,i].view(-1,h,w)\n",
    "            # if outputs are normalized then compute also result in the restored units (not normalized)\n",
    "            if feature.startswith('normalized_') :\n",
    "                not_normalized_feature = feature.replace(\"normalized_\", \"\")\n",
    "                pred[not_normalized_feature] = SalinityTemperatureDensityDataset.restore_units(pred[feature], batch, not_normalized_feature)\n",
    "        return pred\n",
    "        \n",
    "    # testing logic - to evaluate the model after training\n",
    "    def test_step(self, batch, batch_idx, dataloader_idx) :\n",
    "        model_output = self.predict_step(batch, batch_idx, dataloader_idx)\n",
    "        loss = dict()\n",
    "        \n",
    "        for i, feature in enumerate(self.outputs) : \n",
    "            if feature.startswith('normalized_') :\n",
    "                not_normalized_feature = feature.replace(\"normalized_\", \"\")\n",
    "                loss[not_normalized_feature] = eval_loss(model_output[not_normalized_feature], batch[not_normalized_feature])\n",
    "                self.log('loss_test_'+not_normalized_feature, loss[not_normalized_feature].mean())\n",
    "            loss[feature] = eval_loss(model_output[feature], batch[feature])\n",
    "            self.log('loss_test_'+feature, loss[feature].mean())\n",
    "\n",
    "    def configure_optimizers(self) :\n",
    "        #optimizer = optim.Adam(self.parameters(), lr=1e-3)\n",
    "        optimizer = torch.optim.SGD(self.parameters(), lr=0.001)\n",
    "        return optimizer\n",
    "    \n",
    "    def transform_input(self, batch) :\n",
    "        # since the data is treated pixel-by-pixel, the actual batch for training will actually consist of all points of all batches. \n",
    "        # this part flattens the 2d maps of different variables \n",
    "        transform = torch.hstack([batch[key].view(-1,1) for key in self.inputs]).to(torch.float32)\n",
    "        return transform\n",
    "    \n",
    "    def transform_target(self, batch) : \n",
    "        return torch.hstack([batch[key].view(-1,1) for key in self.outputs]).to(torch.float32)"
   ]
  },
  {
   "cell_type": "markdown",
   "id": "f4a495c8-31c4-479e-a9ff-c43171b3bd50",
   "metadata": {
    "tags": []
   },
   "source": [
    "## Experiment 0"
   ]
  },
  {
   "cell_type": "code",
   "execution_count": 693,
   "id": "884adba4-cd11-40bb-9204-2386ecf48fd0",
   "metadata": {},
   "outputs": [],
   "source": [
    "# layer4_FCNN_model = torch.nn.Sequential(torch.nn.Linear(6, 8), \\\n",
    "#                                        torch.nn.ReLU(), \\\n",
    "#                                        torch.nn.Linear(8, 16), \\\n",
    "#                                        torch.nn.ReLU(), \\\n",
    "#                                        torch.nn.Linear(16, 8), \\\n",
    "#                                        torch.nn.ReLU(), \\\n",
    "#                                        torch.nn.Linear(8, 1))"
   ]
  },
  {
   "cell_type": "code",
   "execution_count": 694,
   "id": "9ca64492-abe7-4de7-bb19-56bc3b56e92d",
   "metadata": {},
   "outputs": [],
   "source": [
    "class FCNN(torch.nn.Module):\n",
    "    def __init__(self, len_keys_input_FCNN, len_keys_targets_FCNN):\n",
    "        super().__init__()\n",
    "        self.lin1 = torch.nn.Linear(len_keys_input_FCNN, 8)\n",
    "        self.lin2 = torch.nn.Linear(8, 16)\n",
    "        self.lin3 = torch.nn.Linear(16, 8)\n",
    "        self.lin4 = torch.nn.Linear(8, len_keys_targets_FCNN)\n",
    "\n",
    "    def forward(self, x):\n",
    "        #flatten_input = nn.Flatten(x)\n",
    "        res = self.lin1(x)\n",
    "        res = torch.nn.functional.relu(res)\n",
    "        res = self.lin2(res)\n",
    "        res = torch.nn.functional.relu(res)\n",
    "        res = self.lin3(res)\n",
    "        res = torch.nn.functional.relu(res)\n",
    "        res = self.lin4(res)\n",
    "        return res"
   ]
  },
  {
   "cell_type": "code",
   "execution_count": 695,
   "id": "1c70a5c5-9b52-4ff0-98b4-179a22b8cb9f",
   "metadata": {},
   "outputs": [],
   "source": [
    "layer4_FCNN_model = FCNN(6,1)"
   ]
  },
  {
   "cell_type": "code",
   "execution_count": 696,
   "id": "39d53fff-f8a4-4f69-b5b7-6db9d61e1aac",
   "metadata": {},
   "outputs": [],
   "source": [
    "exp0 = Experiment(pl_class=LitPixelModel, \\\n",
    "                      model=FCNN(6,1), \\\n",
    "                      label='4_layers', \\\n",
    "                      version_name='version_0', \\\n",
    "                      keys_input={'normalized_diff_S_sqr', 'normalized_diff_TS', 'normalized_rho_sa_sa', \\\n",
    "                                  'normalized_rho_sa_ct', 'normalized_diff_T_sqr', 'normalized_rho_ct_ct'}, \\\n",
    "                      keys_targets={'normalized_sigma0_delta'}, \n",
    "                      datamodule=common_datamodule,\\\n",
    "                      max_epochs=5, \\\n",
    "                      limit_train_batches=1.0) "
   ]
  },
  {
   "cell_type": "code",
   "execution_count": 697,
   "id": "64e6aa45-2467-42a5-9e6e-8ba823347e3e",
   "metadata": {},
   "outputs": [
    {
     "name": "stderr",
     "output_type": "stream",
     "text": [
      "\n",
      "  | Name    | Type | Params\n",
      "---------------------------------\n",
      "0 | nnModel | FCNN | 345   \n",
      "---------------------------------\n",
      "345       Trainable params\n",
      "0         Non-trainable params\n",
      "345       Total params\n",
      "0.001     Total estimated model params size (MB)\n",
      "/opt/homebrew/Caskroom/miniforge/base/envs/new_pytorch/lib/python3.10/site-packages/pytorch_lightning/callbacks/model_checkpoint.py:631: UserWarning: Checkpoint directory /Users/ana/CODE/Jupyter_Notebooks/oceanDataNotebooks/density_ML/logs/4_layers/version_0 exists and is not empty.\n",
      "  rank_zero_warn(f\"Checkpoint directory {dirpath} exists and is not empty.\")\n"
     ]
    },
    {
     "data": {
      "application/json": {
       "ascii": false,
       "bar_format": null,
       "colour": null,
       "elapsed": 0.010127782821655273,
       "initial": 0,
       "n": 0,
       "ncols": 208,
       "nrows": 58,
       "postfix": null,
       "prefix": "Validation sanity check",
       "rate": null,
       "total": null,
       "unit": "it",
       "unit_divisor": 1000,
       "unit_scale": false
      },
      "application/vnd.jupyter.widget-view+json": {
       "model_id": "",
       "version_major": 2,
       "version_minor": 0
      },
      "text/plain": [
       "Validation sanity check: 0it [00:00, ?it/s]"
      ]
     },
     "metadata": {},
     "output_type": "display_data"
    },
    {
     "data": {
      "application/json": {
       "ascii": false,
       "bar_format": null,
       "colour": null,
       "elapsed": 0.008391857147216797,
       "initial": 0,
       "n": 0,
       "ncols": 208,
       "nrows": 58,
       "postfix": null,
       "prefix": "Training",
       "rate": null,
       "total": null,
       "unit": "it",
       "unit_divisor": 1000,
       "unit_scale": false
      },
      "application/vnd.jupyter.widget-view+json": {
       "model_id": "a3ee355bf55c442cbf676136f1d26886",
       "version_major": 2,
       "version_minor": 0
      },
      "text/plain": [
       "Training: 0it [00:00, ?it/s]"
      ]
     },
     "metadata": {},
     "output_type": "display_data"
    },
    {
     "data": {
      "application/json": {
       "ascii": false,
       "bar_format": null,
       "colour": null,
       "elapsed": 0.008274078369140625,
       "initial": 0,
       "n": 0,
       "ncols": 208,
       "nrows": 58,
       "postfix": null,
       "prefix": "Validating",
       "rate": null,
       "total": null,
       "unit": "it",
       "unit_divisor": 1000,
       "unit_scale": false
      },
      "application/vnd.jupyter.widget-view+json": {
       "model_id": "",
       "version_major": 2,
       "version_minor": 0
      },
      "text/plain": [
       "Validating: 0it [00:00, ?it/s]"
      ]
     },
     "metadata": {},
     "output_type": "display_data"
    },
    {
     "data": {
      "application/json": {
       "ascii": false,
       "bar_format": null,
       "colour": null,
       "elapsed": 0.008983135223388672,
       "initial": 0,
       "n": 0,
       "ncols": 208,
       "nrows": 58,
       "postfix": null,
       "prefix": "Validating",
       "rate": null,
       "total": null,
       "unit": "it",
       "unit_divisor": 1000,
       "unit_scale": false
      },
      "application/vnd.jupyter.widget-view+json": {
       "model_id": "",
       "version_major": 2,
       "version_minor": 0
      },
      "text/plain": [
       "Validating: 0it [00:00, ?it/s]"
      ]
     },
     "metadata": {},
     "output_type": "display_data"
    },
    {
     "data": {
      "application/json": {
       "ascii": false,
       "bar_format": null,
       "colour": null,
       "elapsed": 0.00857996940612793,
       "initial": 0,
       "n": 0,
       "ncols": 208,
       "nrows": 58,
       "postfix": null,
       "prefix": "Validating",
       "rate": null,
       "total": null,
       "unit": "it",
       "unit_divisor": 1000,
       "unit_scale": false
      },
      "application/vnd.jupyter.widget-view+json": {
       "model_id": "",
       "version_major": 2,
       "version_minor": 0
      },
      "text/plain": [
       "Validating: 0it [00:00, ?it/s]"
      ]
     },
     "metadata": {},
     "output_type": "display_data"
    },
    {
     "data": {
      "application/json": {
       "ascii": false,
       "bar_format": null,
       "colour": null,
       "elapsed": 0.009067058563232422,
       "initial": 0,
       "n": 0,
       "ncols": 208,
       "nrows": 58,
       "postfix": null,
       "prefix": "Validating",
       "rate": null,
       "total": null,
       "unit": "it",
       "unit_divisor": 1000,
       "unit_scale": false
      },
      "application/vnd.jupyter.widget-view+json": {
       "model_id": "",
       "version_major": 2,
       "version_minor": 0
      },
      "text/plain": [
       "Validating: 0it [00:00, ?it/s]"
      ]
     },
     "metadata": {},
     "output_type": "display_data"
    },
    {
     "data": {
      "application/json": {
       "ascii": false,
       "bar_format": null,
       "colour": null,
       "elapsed": 0.008704185485839844,
       "initial": 0,
       "n": 0,
       "ncols": 208,
       "nrows": 58,
       "postfix": null,
       "prefix": "Validating",
       "rate": null,
       "total": null,
       "unit": "it",
       "unit_divisor": 1000,
       "unit_scale": false
      },
      "application/vnd.jupyter.widget-view+json": {
       "model_id": "",
       "version_major": 2,
       "version_minor": 0
      },
      "text/plain": [
       "Validating: 0it [00:00, ?it/s]"
      ]
     },
     "metadata": {},
     "output_type": "display_data"
    },
    {
     "name": "stderr",
     "output_type": "stream",
     "text": [
      "/opt/homebrew/Caskroom/miniforge/base/envs/new_pytorch/lib/python3.10/site-packages/pytorch_lightning/core/datamodule.py:469: LightningDeprecationWarning: DataModule.teardown has already been called, so it will not be called again. In v1.6 this behavior will change to always call DataModule.teardown.\n",
      "  rank_zero_deprecation(\n"
     ]
    }
   ],
   "source": [
    "exp0.run()\n",
    "clear_output(wait=True)"
   ]
  },
  {
   "cell_type": "code",
   "execution_count": 698,
   "id": "fb9283bd-23df-4151-bf74-ca50d497a422",
   "metadata": {},
   "outputs": [
    {
     "data": {
      "image/png": "[encoded data removed]",
      "text/plain": [
       "<Figure size 500x350 with 1 Axes>"
      ]
     },
     "metadata": {},
     "output_type": "display_data"
    }
   ],
   "source": [
    "fig, ax = plt.subplots(1, 1, constrained_layout=True, figsize=(5, 3.5), sharey=True)\n",
    "ax.plot(exp0.logs['loss_train'], '.-', label='Training')\n",
    "ax.plot(exp0.logs['loss_val'], '.-', label='Validation')\n",
    "ax.set(title=exp0.version_name, xlabel='Epoch', ylabel='MSE'); ax.grid(True)\n",
    "ax.set(ylabel='MSE')\n",
    "ax.legend(bbox_to_anchor=(1.05, 1), loc='upper left')\n",
    "plt.show()"
   ]
  },
  {
   "cell_type": "markdown",
   "id": "cd734299-61d8-4f26-a892-f99b7a4e4f19",
   "metadata": {
    "tags": []
   },
   "source": [
    "## Test by regions/seasons"
   ]
  },
  {
   "cell_type": "code",
   "execution_count": 710,
   "id": "ceb57409-7c5f-4b8a-ae37-601e16127a3d",
   "metadata": {},
   "outputs": [
    {
     "name": "stderr",
     "output_type": "stream",
     "text": [
      "/opt/homebrew/Caskroom/miniforge/base/envs/new_pytorch/lib/python3.10/site-packages/pytorch_lightning/core/datamodule.py:469: LightningDeprecationWarning: DataModule.setup has already been called, so it will not be called again. In v1.6 this behavior will change to always call DataModule.setup.\n",
      "  rank_zero_deprecation(\n",
      "/opt/homebrew/Caskroom/miniforge/base/envs/new_pytorch/lib/python3.10/site-packages/pytorch_lightning/trainer/data_loading.py:655: UserWarning: Your `test_dataloader` has `shuffle=True`, it is strongly recommended that you turn this off for val/test/predict dataloaders.\n",
      "  rank_zero_warn(\n"
     ]
    },
    {
     "data": {
      "application/json": {
       "ascii": false,
       "bar_format": null,
       "colour": null,
       "elapsed": 0.007597923278808594,
       "initial": 0,
       "n": 0,
       "ncols": 208,
       "nrows": 58,
       "postfix": null,
       "prefix": "Testing",
       "rate": null,
       "total": null,
       "unit": "it",
       "unit_divisor": 1000,
       "unit_scale": false
      },
      "application/vnd.jupyter.widget-view+json": {
       "model_id": "e058e621518844d893f319c27c0bd71f",
       "version_major": 2,
       "version_minor": 0
      },
      "text/plain": [
       "Testing: 0it [00:00, ?it/s]"
      ]
     },
     "metadata": {},
     "output_type": "display_data"
    },
    {
     "name": "stdout",
     "output_type": "stream",
     "text": [
      "--------------------------------------------------------------------------------\n",
      "DATALOADER:0 TEST RESULTS\n",
      "{'loss_test_normalized_sigma0_delta/dataloader_idx_0': 0.9652183651924133,\n",
      " 'loss_test_sigma0_delta/dataloader_idx_0': 3.6863893910776824e-05}\n",
      "--------------------------------------------------------------------------------\n",
      "DATALOADER:1 TEST RESULTS\n",
      "{'loss_test_normalized_sigma0_delta/dataloader_idx_1': 0.9593883156776428,\n",
      " 'loss_test_sigma0_delta/dataloader_idx_1': 7.972083949425723e-06}\n",
      "--------------------------------------------------------------------------------\n",
      "DATALOADER:2 TEST RESULTS\n",
      "{'loss_test_normalized_sigma0_delta/dataloader_idx_2': 0.9689988493919373,\n",
      " 'loss_test_sigma0_delta/dataloader_idx_2': 2.3065179988179807e-08}\n",
      "--------------------------------------------------------------------------------\n",
      "DATALOADER:3 TEST RESULTS\n",
      "{'loss_test_normalized_sigma0_delta/dataloader_idx_3': 0.9734953045845032,\n",
      " 'loss_test_sigma0_delta/dataloader_idx_3': 2.3116848879567442e-08}\n",
      "--------------------------------------------------------------------------------\n",
      "DATALOADER:4 TEST RESULTS\n",
      "{'loss_test_normalized_sigma0_delta/dataloader_idx_4': 0.9670894742012024,\n",
      " 'loss_test_sigma0_delta/dataloader_idx_4': 4.184600221890378e-09}\n",
      "--------------------------------------------------------------------------------\n",
      "DATALOADER:5 TEST RESULTS\n",
      "{'loss_test_normalized_sigma0_delta/dataloader_idx_5': 0.9621971845626831,\n",
      " 'loss_test_sigma0_delta/dataloader_idx_5': 1.907437230386222e-08}\n",
      "--------------------------------------------------------------------------------\n"
     ]
    },
    {
     "name": "stderr",
     "output_type": "stream",
     "text": [
      "/opt/homebrew/Caskroom/miniforge/base/envs/new_pytorch/lib/python3.10/site-packages/pytorch_lightning/core/datamodule.py:469: LightningDeprecationWarning: DataModule.teardown has already been called, so it will not be called again. In v1.6 this behavior will change to always call DataModule.teardown.\n",
      "  rank_zero_deprecation(\n"
     ]
    }
   ],
   "source": [
    "test_dict = exp0.test()\n",
    "loss_vs_dataset = dict()\n",
    "for feature in ['sigma0_delta', 'normalized_sigma0_delta'] :\n",
    "    loss_vs_dataset[feature] = [test_dict[i]['loss_test_'+feature+'/dataloader_idx_'+str(i)] for i in range(len(list_of_datasets))]"
   ]
  },
  {
   "cell_type": "code",
   "execution_count": 720,
   "id": "07d846a4-6b81-4646-9678-7a3633739fe5",
   "metadata": {},
   "outputs": [
    {
     "data": {
      "image/png": "[encoded data removed]",
      "text/plain": [
       "<Figure size 600x300 with 2 Axes>"
      ]
     },
     "metadata": {},
     "output_type": "display_data"
    }
   ],
   "source": [
    "fig, ax = plt.subplots(1, 2, constrained_layout=True, figsize=(6, 3))\n",
    "#fig.suptitle(r'Spatial correlation coefficient averaged in time: $R(\\rho_c, parametrization)$')\n",
    "x = np.arange(len(list_of_datasets))\n",
    "bar_width = 0.2\n",
    "\n",
    "for col, feature in enumerate(['sigma0_delta', 'normalized_sigma0_delta']) :\n",
    "    ax[col].bar(x, loss_vs_dataset[feature], width=bar_width)\n",
    "    ax[col].set(title=feature)\n",
    "for axis in ax :\n",
    "    axis.set_xlabel('data set')\n",
    "    axis.xaxis.set_tick_params(labelsize='small')\n",
    "    axis.set(yscale='log')\n",
    "ax[0].set(ylabel='MSE')\n",
    "plt.show()"
   ]
  },
  {
   "cell_type": "markdown",
   "id": "d82ee09e-da89-4be0-acb1-42181895907b",
   "metadata": {},
   "source": [
    "# Convolutional NN model"
   ]
  },
  {
   "cell_type": "code",
   "execution_count": 721,
   "id": "2a6560e4-44d7-4528-b700-998c4b671965",
   "metadata": {},
   "outputs": [],
   "source": [
    "class first_CNN(torch.nn.Module):\n",
    "    def __init__(self, len_keys_input_CNN, len_keys_targets_CNN):\n",
    "        super().__init__()\n",
    "        self.conv1 = torch.nn.Conv2d(len_keys_input_CNN, 32, kernel_size=3, padding='same', padding_mode='replicate') \n",
    "        self.conv2 = torch.nn.Conv2d(32, 64, kernel_size=3, padding='same', padding_mode='replicate') \n",
    "        self.conv3 = torch.nn.Conv2d(64, len_keys_targets_CNN, kernel_size=3, padding='same', padding_mode='replicate')\n",
    "        #self.batch_norm1 = nn.BatchNorm2d(32)\n",
    "        #self.batch_norm2 = nn.BatchNorm2d(64)\n",
    "\n",
    "    def forward(self, x):\n",
    "        # conv layer 1\n",
    "        x = self.conv1(x)\n",
    "        x = torch.nn.functional.relu(x)\n",
    "        \n",
    "        # conv layer 2\n",
    "        x = self.conv2(x)\n",
    "        x = torch.nn.functional.relu(x)\n",
    "        \n",
    "        # conv layer 5 \n",
    "        x = self.conv3(x)\n",
    "        \n",
    "        return x        "
   ]
  },
  {
   "cell_type": "code",
   "execution_count": 722,
   "id": "ba665f3f-ee57-4f73-8606-b352fadb4843",
   "metadata": {},
   "outputs": [],
   "source": [
    "modelCNN = (first_CNN(2,1).double())"
   ]
  },
  {
   "cell_type": "code",
   "execution_count": 724,
   "id": "fcfd7854-7731-46ed-a68d-8921f46ee1e2",
   "metadata": {},
   "outputs": [],
   "source": [
    "class CNN_Model_Class(pl.LightningModule):\n",
    "    def __init__(self, nnModel, inputs, outputs):\n",
    "        super().__init__()\n",
    "        self.nnModel = nnModel\n",
    "        # for name, param in nnModel.named_parameters():\n",
    "        #     param.data.normal_(mean=0.0, std=0.1)\n",
    "        self.inputs = inputs\n",
    "        self.outputs = outputs\n",
    "        self.save_hyperparameters()\n",
    "\n",
    "    def training_step(self, batch, batch_idx) :\n",
    "        x = self.transform_input(batch)\n",
    "        y_true = self.transform_target(batch)\n",
    "        y_model = self.nnModel(x)\n",
    "        loss = torch.nn.functional.mse_loss(y_model, y_true)  \n",
    "        self.log('loss_train', loss, on_step=False, on_epoch=True)\n",
    "        return loss\n",
    "\n",
    "    def validation_step(self, batch, batch_idx) :\n",
    "        x = self.transform_input(batch)\n",
    "        y_true = self.transform_target(batch)\n",
    "        y_model = self.nnModel(x)\n",
    "        loss = torch.nn.functional.mse_loss(y_model, y_true)  \n",
    "        self.log('loss_val', loss, on_step=False, on_epoch=True) \n",
    "    \n",
    "    def predict_step(self, batch, batch_idx, dataloader_idx) :        \n",
    "        x = self.transform_input(batch)\n",
    "        tensor_model_output = self.nnModel(x)\n",
    "        pred = dict()\n",
    "        for i, feature in enumerate(self.outputs) :\n",
    "            pred[feature] = tensor_model_output[:,i,:,:]\n",
    "            # if outputs are normalized then compute also result in the restored units (not normalized)\n",
    "            if feature.startswith('normalized_') :\n",
    "                not_normalized_feature = feature.replace(\"normalized_\", \"\")\n",
    "                pred[not_normalized_feature] = SalinityTemperatureDensityDataset.restore_units(pred[feature], batch, not_normalized_feature)\n",
    "        return pred\n",
    "        \n",
    "    def test_step(self, batch, batch_idx, dataloader_idx) :\n",
    "        model_output = self.predict_step(batch, batch_idx, dataloader_idx)\n",
    "        loss = dict()        \n",
    "        for i, feature in enumerate(self.outputs) : \n",
    "            if feature.startswith('normalized_') :\n",
    "                not_normalized_feature = feature.replace(\"normalized_\", \"\")\n",
    "                loss[not_normalized_feature] = eval_loss(model_output[not_normalized_feature], batch[not_normalized_feature])\n",
    "                self.log('loss_test_'+not_normalized_feature, loss[not_normalized_feature].mean())\n",
    "            loss[feature] = eval_loss(model_output[feature], batch[feature])\n",
    "            self.log('loss_test_'+feature, loss[feature].mean())\n",
    "\n",
    "    def configure_optimizers(self) :\n",
    "        optimizer = torch.optim.Adam(self.parameters(), lr=1e-3)\n",
    "        #optimizer = torch.optim.SGD(self.parameters(), lr=0.001)\n",
    "        return optimizer\n",
    "\n",
    "    def transform_input(self, batch) :\n",
    "        return torch.transpose(torch.stack([batch[key] for key in self.inputs]), 0, 1)\n",
    "\n",
    "    def transform_target(self, batch) : \n",
    "        return torch.transpose(torch.stack([batch[key] for key in self.outputs]), 0, 1)"
   ]
  },
  {
   "cell_type": "code",
   "execution_count": 725,
   "id": "405af6ae-6201-4580-878d-6eb8e69be9ef",
   "metadata": {},
   "outputs": [],
   "source": [
    "# print('Input data for training contains ' + str(len(train_data_loader)) + ' batches, each batch contains ' + str(batch_size) + \\\n",
    "#       ' instanteneous 2D maps of ' +str(len(keys_input_CNN)) + ' channels: ' + str(keys_input_CNN) + ' of size ' + str(h)+'x'+str(w) + ' pixels.')"
   ]
  },
  {
   "cell_type": "markdown",
   "id": "16bf59de-6bb5-4176-8ed0-861b419808a0",
   "metadata": {},
   "source": [
    "## Experiment 1"
   ]
  },
  {
   "cell_type": "code",
   "execution_count": 726,
   "id": "dcec2761-dd3e-42d8-9053-929402b9a603",
   "metadata": {},
   "outputs": [],
   "source": [
    "exp1 = Experiment(pl_class=CNN_Model_Class, \\\n",
    "                      model=modelCNN, \\\n",
    "                      label='CNN', \\\n",
    "                      version_name='version_0', \\\n",
    "                      keys_input={'normalized_sosstsst', 'normalized_rho_ct_ct'}, \\\n",
    "                      keys_targets={'normalized_sigma0_delta'}, \n",
    "                      datamodule=common_datamodule,\n",
    "                      max_epochs=5, \\\n",
    "                      limit_train_batches=1.0) "
   ]
  },
  {
   "cell_type": "code",
   "execution_count": 727,
   "id": "8ea391f8-ef9d-42aa-8cf0-982cf8ea81a8",
   "metadata": {},
   "outputs": [
    {
     "data": {
      "text/plain": [
       "{'normalized_rho_ct_ct', 'normalized_sosstsst'}"
      ]
     },
     "execution_count": 727,
     "metadata": {},
     "output_type": "execute_result"
    }
   ],
   "source": [
    "exp1.keys_input"
   ]
  },
  {
   "cell_type": "code",
   "execution_count": 728,
   "id": "0409bf63-1655-4893-a6f7-d40b622989b0",
   "metadata": {},
   "outputs": [],
   "source": [
    "list_c = itertools.combinations({'sigma0_delta','rho_ct_ct', 'sosstsst' }, 2)"
   ]
  },
  {
   "cell_type": "code",
   "execution_count": 729,
   "id": "f36a84f9-a0b9-4bd7-abcf-8d0928675161",
   "metadata": {},
   "outputs": [
    {
     "name": "stdout",
     "output_type": "stream",
     "text": [
      "sosstsst rho_ct_ct\n",
      "sosstsst sigma0_delta\n",
      "rho_ct_ct sigma0_delta\n"
     ]
    }
   ],
   "source": [
    "for i in list_c :\n",
    "    print(i[0], i[1])"
   ]
  },
  {
   "cell_type": "code",
   "execution_count": 730,
   "id": "1b42d8c1-9a5f-4bd5-bad2-2dfd13a23633",
   "metadata": {},
   "outputs": [
    {
     "name": "stderr",
     "output_type": "stream",
     "text": [
      "/opt/homebrew/Caskroom/miniforge/base/envs/new_pytorch/lib/python3.10/site-packages/pytorch_lightning/core/datamodule.py:469: LightningDeprecationWarning: DataModule.setup has already been called, so it will not be called again. In v1.6 this behavior will change to always call DataModule.setup.\n",
      "  rank_zero_deprecation(\n",
      "\n",
      "  | Name    | Type      | Params\n",
      "--------------------------------------\n",
      "0 | nnModel | first_CNN | 19.7 K\n",
      "--------------------------------------\n",
      "19.7 K    Trainable params\n",
      "0         Non-trainable params\n",
      "19.7 K    Total params\n",
      "0.079     Total estimated model params size (MB)\n",
      "/opt/homebrew/Caskroom/miniforge/base/envs/new_pytorch/lib/python3.10/site-packages/pytorch_lightning/callbacks/model_checkpoint.py:631: UserWarning: Checkpoint directory /Users/ana/CODE/Jupyter_Notebooks/oceanDataNotebooks/density_ML/logs/CNN/version_0 exists and is not empty.\n",
      "  rank_zero_warn(f\"Checkpoint directory {dirpath} exists and is not empty.\")\n"
     ]
    },
    {
     "data": {
      "application/json": {
       "ascii": false,
       "bar_format": null,
       "colour": null,
       "elapsed": 0.008269071578979492,
       "initial": 0,
       "n": 0,
       "ncols": 208,
       "nrows": 58,
       "postfix": null,
       "prefix": "Validation sanity check",
       "rate": null,
       "total": null,
       "unit": "it",
       "unit_divisor": 1000,
       "unit_scale": false
      },
      "application/vnd.jupyter.widget-view+json": {
       "model_id": "",
       "version_major": 2,
       "version_minor": 0
      },
      "text/plain": [
       "Validation sanity check: 0it [00:00, ?it/s]"
      ]
     },
     "metadata": {},
     "output_type": "display_data"
    },
    {
     "data": {
      "application/json": {
       "ascii": false,
       "bar_format": null,
       "colour": null,
       "elapsed": 0.008880853652954102,
       "initial": 0,
       "n": 0,
       "ncols": 208,
       "nrows": 58,
       "postfix": null,
       "prefix": "Training",
       "rate": null,
       "total": null,
       "unit": "it",
       "unit_divisor": 1000,
       "unit_scale": false
      },
      "application/vnd.jupyter.widget-view+json": {
       "model_id": "51805fd9312545f592578566f2178c91",
       "version_major": 2,
       "version_minor": 0
      },
      "text/plain": [
       "Training: 0it [00:00, ?it/s]"
      ]
     },
     "metadata": {},
     "output_type": "display_data"
    },
    {
     "data": {
      "application/json": {
       "ascii": false,
       "bar_format": null,
       "colour": null,
       "elapsed": 0.008350372314453125,
       "initial": 0,
       "n": 0,
       "ncols": 208,
       "nrows": 58,
       "postfix": null,
       "prefix": "Validating",
       "rate": null,
       "total": null,
       "unit": "it",
       "unit_divisor": 1000,
       "unit_scale": false
      },
      "application/vnd.jupyter.widget-view+json": {
       "model_id": "",
       "version_major": 2,
       "version_minor": 0
      },
      "text/plain": [
       "Validating: 0it [00:00, ?it/s]"
      ]
     },
     "metadata": {},
     "output_type": "display_data"
    },
    {
     "data": {
      "application/json": {
       "ascii": false,
       "bar_format": null,
       "colour": null,
       "elapsed": 0.008198738098144531,
       "initial": 0,
       "n": 0,
       "ncols": 208,
       "nrows": 58,
       "postfix": null,
       "prefix": "Validating",
       "rate": null,
       "total": null,
       "unit": "it",
       "unit_divisor": 1000,
       "unit_scale": false
      },
      "application/vnd.jupyter.widget-view+json": {
       "model_id": "",
       "version_major": 2,
       "version_minor": 0
      },
      "text/plain": [
       "Validating: 0it [00:00, ?it/s]"
      ]
     },
     "metadata": {},
     "output_type": "display_data"
    },
    {
     "data": {
      "application/json": {
       "ascii": false,
       "bar_format": null,
       "colour": null,
       "elapsed": 0.008032083511352539,
       "initial": 0,
       "n": 0,
       "ncols": 208,
       "nrows": 58,
       "postfix": null,
       "prefix": "Validating",
       "rate": null,
       "total": null,
       "unit": "it",
       "unit_divisor": 1000,
       "unit_scale": false
      },
      "application/vnd.jupyter.widget-view+json": {
       "model_id": "",
       "version_major": 2,
       "version_minor": 0
      },
      "text/plain": [
       "Validating: 0it [00:00, ?it/s]"
      ]
     },
     "metadata": {},
     "output_type": "display_data"
    },
    {
     "data": {
      "application/json": {
       "ascii": false,
       "bar_format": null,
       "colour": null,
       "elapsed": 0.008367061614990234,
       "initial": 0,
       "n": 0,
       "ncols": 208,
       "nrows": 58,
       "postfix": null,
       "prefix": "Validating",
       "rate": null,
       "total": null,
       "unit": "it",
       "unit_divisor": 1000,
       "unit_scale": false
      },
      "application/vnd.jupyter.widget-view+json": {
       "model_id": "",
       "version_major": 2,
       "version_minor": 0
      },
      "text/plain": [
       "Validating: 0it [00:00, ?it/s]"
      ]
     },
     "metadata": {},
     "output_type": "display_data"
    },
    {
     "data": {
      "application/json": {
       "ascii": false,
       "bar_format": null,
       "colour": null,
       "elapsed": 0.008068084716796875,
       "initial": 0,
       "n": 0,
       "ncols": 208,
       "nrows": 58,
       "postfix": null,
       "prefix": "Validating",
       "rate": null,
       "total": null,
       "unit": "it",
       "unit_divisor": 1000,
       "unit_scale": false
      },
      "application/vnd.jupyter.widget-view+json": {
       "model_id": "",
       "version_major": 2,
       "version_minor": 0
      },
      "text/plain": [
       "Validating: 0it [00:00, ?it/s]"
      ]
     },
     "metadata": {},
     "output_type": "display_data"
    },
    {
     "name": "stderr",
     "output_type": "stream",
     "text": [
      "/opt/homebrew/Caskroom/miniforge/base/envs/new_pytorch/lib/python3.10/site-packages/pytorch_lightning/core/datamodule.py:469: LightningDeprecationWarning: DataModule.teardown has already been called, so it will not be called again. In v1.6 this behavior will change to always call DataModule.teardown.\n",
      "  rank_zero_deprecation(\n"
     ]
    }
   ],
   "source": [
    "exp1.run()\n",
    "clear_output(wait=True)"
   ]
  },
  {
   "cell_type": "code",
   "execution_count": 731,
   "id": "f2fcf493-c2b7-4c88-83bc-beb5906717e0",
   "metadata": {},
   "outputs": [
    {
     "data": {
      "image/png": "[encoded data removed]",
      "text/plain": [
       "<Figure size 500x350 with 1 Axes>"
      ]
     },
     "metadata": {},
     "output_type": "display_data"
    }
   ],
   "source": [
    "fig, ax = plt.subplots(1, 1, constrained_layout=True, figsize=(5, 3.5), sharey=True)\n",
    "ax.plot(exp1.logs['loss_train'], '.-', label='Training')\n",
    "ax.plot(exp1.logs['loss_val'], '.-', label='Validation')\n",
    "ax.set(title=exp1.version_name, xlabel='Epoch', ylabel='MSE'); ax.grid(True)\n",
    "ax.set(ylabel='MSE')\n",
    "ax.legend(bbox_to_anchor=(1.05, 1), loc='upper left')\n",
    "plt.show()"
   ]
  },
  {
   "cell_type": "markdown",
   "id": "8114268f-9bf0-4847-b33f-1ffab1fc9d84",
   "metadata": {},
   "source": [
    "# Compare results with deterministic parametrization"
   ]
  },
  {
   "cell_type": "markdown",
   "id": "f2dd0730-cc10-4612-93db-c1055c9867d3",
   "metadata": {},
   "source": [
    "## Image example"
   ]
  },
  {
   "cell_type": "code",
   "execution_count": 740,
   "id": "15472240-224d-4318-8875-e2e40742c42c",
   "metadata": {},
   "outputs": [],
   "source": [
    "test_dl = common_datamodule.test_dataloader()[0]"
   ]
  },
  {
   "cell_type": "code",
   "execution_count": 741,
   "id": "72ebb9a7-cf3b-4118-a368-0253d8555877",
   "metadata": {},
   "outputs": [
    {
     "data": {
      "text/plain": [
       "<torch.utils.data.dataloader.DataLoader at 0x15fadeef0>"
      ]
     },
     "execution_count": 741,
     "metadata": {},
     "output_type": "execute_result"
    }
   ],
   "source": [
    "test_dl"
   ]
  },
  {
   "cell_type": "code",
   "execution_count": 742,
   "id": "7de2bbf2-dd0d-4653-a09a-2aa8afdba195",
   "metadata": {},
   "outputs": [],
   "source": [
    "best_FCNN_model = LitPixelModel.load_from_checkpoint(exp0.checkpoint_callback.best_model_path)\n",
    "best_CNN_model = CNN_Model_Class.load_from_checkpoint(exp1.checkpoint_callback.best_model_path)"
   ]
  },
  {
   "cell_type": "code",
   "execution_count": 743,
   "id": "15fc0542-f6b8-4d1f-814c-82978569f5b1",
   "metadata": {},
   "outputs": [],
   "source": [
    "test_di = iter(test_dl)"
   ]
  },
  {
   "cell_type": "code",
   "execution_count": 744,
   "id": "0bf8e582-afa6-4b20-a41f-721cd0e5c912",
   "metadata": {},
   "outputs": [],
   "source": [
    "sample = next(test_di)"
   ]
  },
  {
   "cell_type": "code",
   "execution_count": 745,
   "id": "f54df71a-6ade-4d9d-8e1e-82cb6b2e50d6",
   "metadata": {},
   "outputs": [],
   "source": [
    "idx = 0 #index inside the batch"
   ]
  },
  {
   "cell_type": "code",
   "execution_count": 747,
   "id": "4a98af50-cddd-4a91-b6c1-636ca6b367df",
   "metadata": {},
   "outputs": [],
   "source": [
    "snapshot = dict()\n",
    "snapshot['true_error'] = np.squeeze(sample['normalized_sigma0_delta'][idx])\n",
    "snapshot['FCNN'] = np.squeeze(best_FCNN_model.predict_step(sample, idx, 0)['normalized_sigma0_delta'][idx].detach().numpy())\n",
    "snapshot['CNN'] = np.squeeze(best_CNN_model.predict_step(sample, idx, 0)['normalized_sigma0_delta'][idx].detach().numpy())\n",
    "snapshot['determ_param'] = np.squeeze(SalinityTemperatureDensityDataset.normalize(sample['determ_param_sigma0_delta'], sample, 'sigma0_delta')[idx])"
   ]
  },
  {
   "cell_type": "code",
   "execution_count": 750,
   "id": "389b25bd-303f-4421-a9d5-960abec75cbe",
   "metadata": {},
   "outputs": [
    {
     "data": {
      "image/png": "[encoded data removed]",
      "text/plain": [
       "<Figure size 1500x350 with 8 Axes>"
      ]
     },
     "metadata": {},
     "output_type": "display_data"
    }
   ],
   "source": [
    "fig, ax = plt.subplots(ncols=len(snapshot.keys()), nrows=1, figsize=(15,3.5), constrained_layout=True)\n",
    "fig.suptitle('Example of density error fields (non-dimensional)')\n",
    "for i, key in enumerate(['true_error', 'FCNN', 'CNN', 'determ_param']) :\n",
    "    \n",
    "#for i, key in enumerate(['true_error',  'FCNN', 'determ_param']) :\n",
    "    if i == 0 :\n",
    "        img = ax[i].imshow(snapshot[key], cmap='ocean')\n",
    "        fig.colorbar(img, ax=ax[i])\n",
    "        color_min = img.colorbar.vmin\n",
    "        color_max = img.colorbar.vmax\n",
    "    else :\n",
    "        #img = ax[i].imshow(snapshot[key], cmap='ocean', vmin=color_min, vmax=color_max)\n",
    "        img = ax[i].imshow(snapshot[key], cmap='ocean')\n",
    "        fig.colorbar(img, ax=ax[i])\n",
    "    ax[i].set(title=key, xlabel='x', ylabel='y')\n",
    "plt.show()"
   ]
  },
  {
   "cell_type": "code",
   "execution_count": 752,
   "id": "69966565-55fe-4052-9345-13c8e0bb2ccd",
   "metadata": {},
   "outputs": [],
   "source": [
    "snapshot = dict()\n",
    "snapshot['true_error'] = np.squeeze(sample['sigma0_delta'])\n",
    "snapshot['FCNN'] = np.squeeze(best_FCNN_model.predict_step(sample, 0,0)['sigma0_delta'].detach().numpy())\n",
    "snapshot['CNN'] = np.squeeze(best_CNN_model.predict_step(sample, 0,0)['sigma0_delta'].detach().numpy())\n",
    "snapshot['determ_param'] = np.squeeze(determ_param(sample['diff_T_sqr'], sample['rho_ct_ct'], coef_determ_param))"
   ]
  },
  {
   "cell_type": "code",
   "execution_count": 754,
   "id": "e29a27df-3947-426b-8248-f5635fd6c096",
   "metadata": {},
   "outputs": [
    {
     "data": {
      "image/png": "[encoded data removed]",
      "text/plain": [
       "<Figure size 1500x350 with 8 Axes>"
      ]
     },
     "metadata": {},
     "output_type": "display_data"
    }
   ],
   "source": [
    "fig, ax = plt.subplots(ncols=len(snapshot.keys()), nrows=1, figsize=(15,3.5), constrained_layout=True)\n",
    "fig.suptitle('Example of density error fields (dimensional)')\n",
    "for i, key in enumerate(['true_error', 'FCNN', 'CNN', 'determ_param']) :\n",
    "    \n",
    "#for i, key in enumerate(['true_error',  'FCNN', 'determ_param']) :\n",
    "    if i == 0 :\n",
    "        img = ax[i].imshow(snapshot[key], cmap='ocean')\n",
    "        fig.colorbar(img, ax=ax[i])\n",
    "        color_min = img.colorbar.vmin\n",
    "        color_max = img.colorbar.vmax\n",
    "    else :\n",
    "        #img = ax[i].imshow(snapshot[key], cmap='ocean', vmin=color_min, vmax=color_max)\n",
    "        img = ax[i].imshow(snapshot[key], cmap='ocean')\n",
    "        fig.colorbar(img, ax=ax[i])\n",
    "    ax[i].set(title=key, xlabel='x', ylabel='y')\n",
    "plt.show()"
   ]
  },
  {
   "cell_type": "markdown",
   "id": "e99129a2-b669-4e1f-9b14-b5075af48830",
   "metadata": {},
   "source": [
    "# Evaluation"
   ]
  },
  {
   "cell_type": "markdown",
   "id": "2bec9f6e-aa61-473a-b22f-91a1495513ff",
   "metadata": {},
   "source": [
    "## Total MSE on a dataset"
   ]
  },
  {
   "cell_type": "code",
   "execution_count": 223,
   "id": "af6ac593-242b-4cd0-8591-5672761b085b",
   "metadata": {},
   "outputs": [],
   "source": [
    "eval_loss = torch.nn.MSELoss(reduction='none') "
   ]
  },
  {
   "cell_type": "code",
   "execution_count": 224,
   "id": "0790a91c-832b-4a26-ad85-5975636c5dae",
   "metadata": {},
   "outputs": [],
   "source": [
    "MSE = dict({'determ_param': [], 'FCNN': []})\n",
    "MSE['determ_param'] = [ list() for i in range(len(list_of_datasets))]\n",
    "MSE['FCNN' ] = [ list() for i in range(len(list_of_datasets))]\n",
    "MSE['CNN' ] = [ list() for i in range(len(list_of_datasets))]\n",
    "labels = ['' for i in range(len(list_of_datasets))]"
   ]
  },
  {
   "cell_type": "code",
   "execution_count": 236,
   "id": "5f511776-697f-423a-8a80-7e104e1d0a34",
   "metadata": {},
   "outputs": [
    {
     "name": "stderr",
     "output_type": "stream",
     "text": [
      "/opt/homebrew/Caskroom/miniforge/base/envs/new_pytorch/lib/python3.10/site-packages/pytorch_lightning/trainer/data_loading.py:132: UserWarning: The dataloader, test_dataloader 0, does not have many workers which may be a bottleneck. Consider increasing the value of the `num_workers` argument` (try 8 which is the number of cpus on this machine) in the `DataLoader` init to improve performance.\n",
      "  rank_zero_warn(\n",
      "/opt/homebrew/Caskroom/miniforge/base/envs/new_pytorch/lib/python3.10/site-packages/pytorch_lightning/trainer/data_loading.py:132: UserWarning: The dataloader, test_dataloader 1, does not have many workers which may be a bottleneck. Consider increasing the value of the `num_workers` argument` (try 8 which is the number of cpus on this machine) in the `DataLoader` init to improve performance.\n",
      "  rank_zero_warn(\n",
      "/opt/homebrew/Caskroom/miniforge/base/envs/new_pytorch/lib/python3.10/site-packages/pytorch_lightning/trainer/data_loading.py:132: UserWarning: The dataloader, test_dataloader 2, does not have many workers which may be a bottleneck. Consider increasing the value of the `num_workers` argument` (try 8 which is the number of cpus on this machine) in the `DataLoader` init to improve performance.\n",
      "  rank_zero_warn(\n",
      "/opt/homebrew/Caskroom/miniforge/base/envs/new_pytorch/lib/python3.10/site-packages/pytorch_lightning/trainer/data_loading.py:132: UserWarning: The dataloader, test_dataloader 3, does not have many workers which may be a bottleneck. Consider increasing the value of the `num_workers` argument` (try 8 which is the number of cpus on this machine) in the `DataLoader` init to improve performance.\n",
      "  rank_zero_warn(\n",
      "/opt/homebrew/Caskroom/miniforge/base/envs/new_pytorch/lib/python3.10/site-packages/pytorch_lightning/trainer/data_loading.py:132: UserWarning: The dataloader, test_dataloader 4, does not have many workers which may be a bottleneck. Consider increasing the value of the `num_workers` argument` (try 8 which is the number of cpus on this machine) in the `DataLoader` init to improve performance.\n",
      "  rank_zero_warn(\n",
      "/opt/homebrew/Caskroom/miniforge/base/envs/new_pytorch/lib/python3.10/site-packages/pytorch_lightning/trainer/data_loading.py:132: UserWarning: The dataloader, test_dataloader 5, does not have many workers which may be a bottleneck. Consider increasing the value of the `num_workers` argument` (try 8 which is the number of cpus on this machine) in the `DataLoader` init to improve performance.\n",
      "  rank_zero_warn(\n"
     ]
    },
    {
     "data": {
      "application/json": {
       "ascii": false,
       "bar_format": null,
       "colour": null,
       "elapsed": 0.007876873016357422,
       "initial": 0,
       "n": 0,
       "ncols": 208,
       "nrows": 58,
       "postfix": null,
       "prefix": "Testing",
       "rate": null,
       "total": null,
       "unit": "it",
       "unit_divisor": 1000,
       "unit_scale": false
      },
      "application/vnd.jupyter.widget-view+json": {
       "model_id": "e8a1276aa17047319f60c5d3c2103af2",
       "version_major": 2,
       "version_minor": 0
      },
      "text/plain": [
       "Testing: 0it [00:00, ?it/s]"
      ]
     },
     "metadata": {},
     "output_type": "display_data"
    },
    {
     "name": "stdout",
     "output_type": "stream",
     "text": [
      "--------------------------------------------------------------------------------\n",
      "DATALOADER:0 TEST RESULTS\n",
      "{'loss_test_normalized_sigma0_delta/dataloader_idx_0': 0.2688383460044861,\n",
      " 'loss_test_sigma0_delta/dataloader_idx_0': 1.2066365343343932e-05}\n",
      "--------------------------------------------------------------------------------\n",
      "DATALOADER:1 TEST RESULTS\n",
      "{'loss_test_normalized_sigma0_delta/dataloader_idx_1': 0.8441644906997681,\n",
      " 'loss_test_sigma0_delta/dataloader_idx_1': 4.3730083234549966e-06}\n",
      "--------------------------------------------------------------------------------\n",
      "DATALOADER:2 TEST RESULTS\n",
      "{'loss_test_normalized_sigma0_delta/dataloader_idx_2': 0.5170103907585144,\n",
      " 'loss_test_sigma0_delta/dataloader_idx_2': 9.149862201240921e-09}\n",
      "--------------------------------------------------------------------------------\n",
      "DATALOADER:3 TEST RESULTS\n",
      "{'loss_test_normalized_sigma0_delta/dataloader_idx_3': 0.7509809732437134,\n",
      " 'loss_test_sigma0_delta/dataloader_idx_3': 2.3290349204785343e-08}\n",
      "--------------------------------------------------------------------------------\n",
      "DATALOADER:4 TEST RESULTS\n",
      "{'loss_test_normalized_sigma0_delta/dataloader_idx_4': 1.2319557666778564,\n",
      " 'loss_test_sigma0_delta/dataloader_idx_4': 8.192261979900195e-09}\n",
      "--------------------------------------------------------------------------------\n",
      "DATALOADER:5 TEST RESULTS\n",
      "{'loss_test_normalized_sigma0_delta/dataloader_idx_5': 0.6802299618721008,\n",
      " 'loss_test_sigma0_delta/dataloader_idx_5': 2.2814408140447995e-08}\n",
      "--------------------------------------------------------------------------------\n"
     ]
    },
    {
     "data": {
      "application/json": {
       "ascii": false,
       "bar_format": null,
       "colour": null,
       "elapsed": 0.009439229965209961,
       "initial": 0,
       "n": 0,
       "ncols": 208,
       "nrows": 58,
       "postfix": null,
       "prefix": "Testing",
       "rate": null,
       "total": null,
       "unit": "it",
       "unit_divisor": 1000,
       "unit_scale": false
      },
      "application/vnd.jupyter.widget-view+json": {
       "model_id": "30ec59abcb7549f9bbf8c03c3549b970",
       "version_major": 2,
       "version_minor": 0
      },
      "text/plain": [
       "Testing: 0it [00:00, ?it/s]"
      ]
     },
     "metadata": {},
     "output_type": "display_data"
    },
    {
     "name": "stdout",
     "output_type": "stream",
     "text": [
      "--------------------------------------------------------------------------------\n",
      "DATALOADER:0 TEST RESULTS\n",
      "{'loss_test_normalized_sigma0_delta/dataloader_idx_0': 0.11745899170637131,\n",
      " 'loss_test_sigma0_delta/dataloader_idx_0': 5.27195334143471e-06}\n",
      "--------------------------------------------------------------------------------\n",
      "DATALOADER:1 TEST RESULTS\n",
      "{'loss_test_normalized_sigma0_delta/dataloader_idx_1': 0.3522592782974243,\n",
      " 'loss_test_sigma0_delta/dataloader_idx_1': 1.8248018704980495e-06}\n",
      "--------------------------------------------------------------------------------\n",
      "DATALOADER:2 TEST RESULTS\n",
      "{'loss_test_normalized_sigma0_delta/dataloader_idx_2': 0.5441179871559143,\n",
      " 'loss_test_sigma0_delta/dataloader_idx_2': 9.629602004679327e-09}\n",
      "--------------------------------------------------------------------------------\n",
      "DATALOADER:3 TEST RESULTS\n",
      "{'loss_test_normalized_sigma0_delta/dataloader_idx_3': 0.385276734828949,\n",
      " 'loss_test_sigma0_delta/dataloader_idx_3': 1.1948674938366821e-08}\n",
      "--------------------------------------------------------------------------------\n",
      "DATALOADER:4 TEST RESULTS\n",
      "{'loss_test_normalized_sigma0_delta/dataloader_idx_4': 0.7408867478370667,\n",
      " 'loss_test_sigma0_delta/dataloader_idx_4': 4.9267496748939266e-09}\n",
      "--------------------------------------------------------------------------------\n",
      "DATALOADER:5 TEST RESULTS\n",
      "{'loss_test_normalized_sigma0_delta/dataloader_idx_5': 0.41040727496147156,\n",
      " 'loss_test_sigma0_delta/dataloader_idx_5': 1.376475644576658e-08}\n",
      "--------------------------------------------------------------------------------\n"
     ]
    }
   ],
   "source": [
    "test_dataloaders = []\n",
    "for i, dataset_file in enumerate(list_of_datasets) :\n",
    "    test_dataloaders.append(torch.utils.data.DataLoader(dataset=SalinityTemperatureDensityDataset(list_of_netcdf_files = [dataset_file], \\\n",
    "                                                                         select='First', \\\n",
    "                                                                         portion_of_time_series=0.2, \\\n",
    "                                                                         transform=ToTensor()), \\\n",
    "                                                                         batch_size=1, drop_last=True))\n",
    "    MSE['determ_param'][i] = \n",
    "    torch.nn.MSELoss(determ_param(sample['diff_T_sqr'], sample['rho_ct_ct'], coef_determ_param), sample['sigma0_delta'])\n",
    "MSE['FCNN'] = [list(test_dict.values())[0] for test_dict in exp0.trainer.test(dataloaders=test_dataloaders, ckpt_path='best')]\n",
    "MSE['CNN'] = [list(test_dict.values())[0] for test_dict in exp1.trainer.test(dataloaders=test_dataloaders, ckpt_path='best')]"
   ]
  },
  {
   "cell_type": "code",
   "execution_count": null,
   "id": "36460afa-6adc-4d20-b111-c8622f18ed87",
   "metadata": {},
   "outputs": [
    {
     "ename": "TypeError",
     "evalue": "SalinityTemperatureDensityDataset.__init__() got an unexpected keyword argument 'normalize'",
     "output_type": "error",
     "traceback": [
      "\u001b[0;31m---------------------------------------------------------------------------\u001b[0m",
      "\u001b[0;31mTypeError\u001b[0m                                 Traceback (most recent call last)",
      "File \u001b[0;32m<timed exec>:2\u001b[0m\n",
      "\u001b[0;31mTypeError\u001b[0m: SalinityTemperatureDensityDataset.__init__() got an unexpected keyword argument 'normalize'"
     ]
    }
   ],
   "source": [
    "%%time\n",
    "for i in range(len(list_of_datasets)) :\n",
    "    single_dataset = SalinityTemperatureDensityDataset(list_of_netcdf_files = [list_of_datasets[i]], select='Last', \\\n",
    "                                                 portion_of_time_series=0.2, transform=ToTensor(), normalize=True)\n",
    "    eval_data_loader = DataLoader(dataset=single_dataset, batch_size=1, shuffle=False)\n",
    "    current_list_FCNN = []; current_list_CNN = []; current_list_param = []\n",
    "    for j, sample in enumerate(eval_data_loader) :\n",
    "        true_error = sample['sigma0_delta']\n",
    "        FCNN_error = restore_units(sample, modelFCNN(transform_input(sample)).view(1,w,h),'sigma0_delta',0).view(-1,1)\n",
    "        CNN_error = restore_units(sample, modelCNN(transform_input_CNN(sample)).view(1,w,h),'sigma0_delta',0).view(-1,1)\n",
    "        determ_param_error = determ_param(restore_units(sample,sample['diff_T_sqr'],'diff_T_sqr',0), \\\n",
    "                                        restore_units(sample,sample['rho_ct_ct'],'rho_ct_ct',0), \\\n",
    "                                        coef_determ_param).view(-1,1).to(torch.float32).to(device)\n",
    "        current_list_FCNN = current_list_FCNN + list(np.squeeze(eval_loss(FCNN_error, true_error).detach().cpu().numpy()))\n",
    "        current_list_CNN = current_list_CNN + list(np.squeeze(eval_loss(CNN_error, true_error).detach().cpu().numpy()))\n",
    "        current_list_param = current_list_param + list(np.squeeze(eval_loss(determ_param_error, true_error).detach().cpu().numpy()))\n",
    "    MSE['FCNN'][i] = current_list_FCNN\n",
    "    MSE['CNN'][i] = current_list_CNN\n",
    "    MSE['determ_param'][i] = current_list_param\n",
    "    labels[i] = 'Reg ' + sample['dataset_region'][0] + ' ' + sample['dataset_season'][0]"
   ]
  },
  {
   "cell_type": "code",
   "execution_count": 131,
   "id": "bedf4264-1537-440d-aaf1-9feffa5ec690",
   "metadata": {},
   "outputs": [
    {
     "name": "stderr",
     "output_type": "stream",
     "text": [
      "/opt/homebrew/Caskroom/miniforge/base/envs/new_pytorch/lib/python3.10/site-packages/numpy/core/fromnumeric.py:3432: RuntimeWarning: Mean of empty slice.\n",
      "  return _methods._mean(a, axis=axis, dtype=dtype,\n",
      "/opt/homebrew/Caskroom/miniforge/base/envs/new_pytorch/lib/python3.10/site-packages/numpy/core/_methods.py:190: RuntimeWarning: invalid value encountered in double_scalars\n",
      "  ret = ret.dtype.type(ret / rcount)\n"
     ]
    },
    {
     "ename": "ValueError",
     "evalue": "Data has no positive values, and therefore can not be log-scaled.",
     "output_type": "error",
     "traceback": [
      "\u001b[0;31m---------------------------------------------------------------------------\u001b[0m",
      "\u001b[0;31mValueError\u001b[0m                                Traceback (most recent call last)",
      "File \u001b[0;32m/opt/homebrew/Caskroom/miniforge/base/envs/new_pytorch/lib/python3.10/site-packages/IPython/core/formatters.py:339\u001b[0m, in \u001b[0;36mBaseFormatter.__call__\u001b[0;34m(self, obj)\u001b[0m\n\u001b[1;32m    337\u001b[0m     \u001b[38;5;28;01mpass\u001b[39;00m\n\u001b[1;32m    338\u001b[0m \u001b[38;5;28;01melse\u001b[39;00m:\n\u001b[0;32m--> 339\u001b[0m     \u001b[38;5;28;01mreturn\u001b[39;00m \u001b[43mprinter\u001b[49m\u001b[43m(\u001b[49m\u001b[43mobj\u001b[49m\u001b[43m)\u001b[49m\n\u001b[1;32m    340\u001b[0m \u001b[38;5;66;03m# Finally look for special method names\u001b[39;00m\n\u001b[1;32m    341\u001b[0m method \u001b[38;5;241m=\u001b[39m get_real_method(obj, \u001b[38;5;28mself\u001b[39m\u001b[38;5;241m.\u001b[39mprint_method)\n",
      "File \u001b[0;32m/opt/homebrew/Caskroom/miniforge/base/envs/new_pytorch/lib/python3.10/site-packages/IPython/core/pylabtools.py:151\u001b[0m, in \u001b[0;36mprint_figure\u001b[0;34m(fig, fmt, bbox_inches, base64, **kwargs)\u001b[0m\n\u001b[1;32m    148\u001b[0m     \u001b[38;5;28;01mfrom\u001b[39;00m \u001b[38;5;21;01mmatplotlib\u001b[39;00m\u001b[38;5;21;01m.\u001b[39;00m\u001b[38;5;21;01mbackend_bases\u001b[39;00m \u001b[38;5;28;01mimport\u001b[39;00m FigureCanvasBase\n\u001b[1;32m    149\u001b[0m     FigureCanvasBase(fig)\n\u001b[0;32m--> 151\u001b[0m \u001b[43mfig\u001b[49m\u001b[38;5;241;43m.\u001b[39;49m\u001b[43mcanvas\u001b[49m\u001b[38;5;241;43m.\u001b[39;49m\u001b[43mprint_figure\u001b[49m\u001b[43m(\u001b[49m\u001b[43mbytes_io\u001b[49m\u001b[43m,\u001b[49m\u001b[43m \u001b[49m\u001b[38;5;241;43m*\u001b[39;49m\u001b[38;5;241;43m*\u001b[39;49m\u001b[43mkw\u001b[49m\u001b[43m)\u001b[49m\n\u001b[1;32m    152\u001b[0m data \u001b[38;5;241m=\u001b[39m bytes_io\u001b[38;5;241m.\u001b[39mgetvalue()\n\u001b[1;32m    153\u001b[0m \u001b[38;5;28;01mif\u001b[39;00m fmt \u001b[38;5;241m==\u001b[39m \u001b[38;5;124m'\u001b[39m\u001b[38;5;124msvg\u001b[39m\u001b[38;5;124m'\u001b[39m:\n",
      "File \u001b[0;32m/opt/homebrew/Caskroom/miniforge/base/envs/new_pytorch/lib/python3.10/site-packages/matplotlib/backend_bases.py:2295\u001b[0m, in \u001b[0;36mFigureCanvasBase.print_figure\u001b[0;34m(self, filename, dpi, facecolor, edgecolor, orientation, format, bbox_inches, pad_inches, bbox_extra_artists, backend, **kwargs)\u001b[0m\n\u001b[1;32m   2289\u001b[0m     renderer \u001b[38;5;241m=\u001b[39m _get_renderer(\n\u001b[1;32m   2290\u001b[0m         \u001b[38;5;28mself\u001b[39m\u001b[38;5;241m.\u001b[39mfigure,\n\u001b[1;32m   2291\u001b[0m         functools\u001b[38;5;241m.\u001b[39mpartial(\n\u001b[1;32m   2292\u001b[0m             print_method, orientation\u001b[38;5;241m=\u001b[39morientation)\n\u001b[1;32m   2293\u001b[0m     )\n\u001b[1;32m   2294\u001b[0m     \u001b[38;5;28;01mwith\u001b[39;00m \u001b[38;5;28mgetattr\u001b[39m(renderer, \u001b[38;5;124m\"\u001b[39m\u001b[38;5;124m_draw_disabled\u001b[39m\u001b[38;5;124m\"\u001b[39m, nullcontext)():\n\u001b[0;32m-> 2295\u001b[0m         \u001b[38;5;28;43mself\u001b[39;49m\u001b[38;5;241;43m.\u001b[39;49m\u001b[43mfigure\u001b[49m\u001b[38;5;241;43m.\u001b[39;49m\u001b[43mdraw\u001b[49m\u001b[43m(\u001b[49m\u001b[43mrenderer\u001b[49m\u001b[43m)\u001b[49m\n\u001b[1;32m   2297\u001b[0m \u001b[38;5;28;01mif\u001b[39;00m bbox_inches:\n\u001b[1;32m   2298\u001b[0m     \u001b[38;5;28;01mif\u001b[39;00m bbox_inches \u001b[38;5;241m==\u001b[39m \u001b[38;5;124m\"\u001b[39m\u001b[38;5;124mtight\u001b[39m\u001b[38;5;124m\"\u001b[39m:\n",
      "File \u001b[0;32m/opt/homebrew/Caskroom/miniforge/base/envs/new_pytorch/lib/python3.10/site-packages/matplotlib/artist.py:73\u001b[0m, in \u001b[0;36m_finalize_rasterization.<locals>.draw_wrapper\u001b[0;34m(artist, renderer, *args, **kwargs)\u001b[0m\n\u001b[1;32m     71\u001b[0m \u001b[38;5;129m@wraps\u001b[39m(draw)\n\u001b[1;32m     72\u001b[0m \u001b[38;5;28;01mdef\u001b[39;00m \u001b[38;5;21mdraw_wrapper\u001b[39m(artist, renderer, \u001b[38;5;241m*\u001b[39margs, \u001b[38;5;241m*\u001b[39m\u001b[38;5;241m*\u001b[39mkwargs):\n\u001b[0;32m---> 73\u001b[0m     result \u001b[38;5;241m=\u001b[39m \u001b[43mdraw\u001b[49m\u001b[43m(\u001b[49m\u001b[43martist\u001b[49m\u001b[43m,\u001b[49m\u001b[43m \u001b[49m\u001b[43mrenderer\u001b[49m\u001b[43m,\u001b[49m\u001b[43m \u001b[49m\u001b[38;5;241;43m*\u001b[39;49m\u001b[43margs\u001b[49m\u001b[43m,\u001b[49m\u001b[43m \u001b[49m\u001b[38;5;241;43m*\u001b[39;49m\u001b[38;5;241;43m*\u001b[39;49m\u001b[43mkwargs\u001b[49m\u001b[43m)\u001b[49m\n\u001b[1;32m     74\u001b[0m     \u001b[38;5;28;01mif\u001b[39;00m renderer\u001b[38;5;241m.\u001b[39m_rasterizing:\n\u001b[1;32m     75\u001b[0m         renderer\u001b[38;5;241m.\u001b[39mstop_rasterizing()\n",
      "File \u001b[0;32m/opt/homebrew/Caskroom/miniforge/base/envs/new_pytorch/lib/python3.10/site-packages/matplotlib/artist.py:50\u001b[0m, in \u001b[0;36mallow_rasterization.<locals>.draw_wrapper\u001b[0;34m(artist, renderer)\u001b[0m\n\u001b[1;32m     47\u001b[0m     \u001b[38;5;28;01mif\u001b[39;00m artist\u001b[38;5;241m.\u001b[39mget_agg_filter() \u001b[38;5;129;01mis\u001b[39;00m \u001b[38;5;129;01mnot\u001b[39;00m \u001b[38;5;28;01mNone\u001b[39;00m:\n\u001b[1;32m     48\u001b[0m         renderer\u001b[38;5;241m.\u001b[39mstart_filter()\n\u001b[0;32m---> 50\u001b[0m     \u001b[38;5;28;01mreturn\u001b[39;00m \u001b[43mdraw\u001b[49m\u001b[43m(\u001b[49m\u001b[43martist\u001b[49m\u001b[43m,\u001b[49m\u001b[43m \u001b[49m\u001b[43mrenderer\u001b[49m\u001b[43m)\u001b[49m\n\u001b[1;32m     51\u001b[0m \u001b[38;5;28;01mfinally\u001b[39;00m:\n\u001b[1;32m     52\u001b[0m     \u001b[38;5;28;01mif\u001b[39;00m artist\u001b[38;5;241m.\u001b[39mget_agg_filter() \u001b[38;5;129;01mis\u001b[39;00m \u001b[38;5;129;01mnot\u001b[39;00m \u001b[38;5;28;01mNone\u001b[39;00m:\n",
      "File \u001b[0;32m/opt/homebrew/Caskroom/miniforge/base/envs/new_pytorch/lib/python3.10/site-packages/matplotlib/figure.py:2828\u001b[0m, in \u001b[0;36mFigure.draw\u001b[0;34m(self, renderer)\u001b[0m\n\u001b[1;32m   2826\u001b[0m renderer\u001b[38;5;241m.\u001b[39mopen_group(\u001b[38;5;124m'\u001b[39m\u001b[38;5;124mfigure\u001b[39m\u001b[38;5;124m'\u001b[39m, gid\u001b[38;5;241m=\u001b[39m\u001b[38;5;28mself\u001b[39m\u001b[38;5;241m.\u001b[39mget_gid())\n\u001b[1;32m   2827\u001b[0m \u001b[38;5;28;01mif\u001b[39;00m \u001b[38;5;28mself\u001b[39m\u001b[38;5;241m.\u001b[39mget_constrained_layout() \u001b[38;5;129;01mand\u001b[39;00m \u001b[38;5;28mself\u001b[39m\u001b[38;5;241m.\u001b[39maxes:\n\u001b[0;32m-> 2828\u001b[0m     \u001b[38;5;28;43mself\u001b[39;49m\u001b[38;5;241;43m.\u001b[39;49m\u001b[43mexecute_constrained_layout\u001b[49m\u001b[43m(\u001b[49m\u001b[43mrenderer\u001b[49m\u001b[43m)\u001b[49m\n\u001b[1;32m   2829\u001b[0m \u001b[38;5;28;01mif\u001b[39;00m \u001b[38;5;28mself\u001b[39m\u001b[38;5;241m.\u001b[39mget_tight_layout() \u001b[38;5;129;01mand\u001b[39;00m \u001b[38;5;28mself\u001b[39m\u001b[38;5;241m.\u001b[39maxes:\n\u001b[1;32m   2830\u001b[0m     \u001b[38;5;28;01mtry\u001b[39;00m:\n",
      "File \u001b[0;32m/opt/homebrew/Caskroom/miniforge/base/envs/new_pytorch/lib/python3.10/site-packages/matplotlib/figure.py:3186\u001b[0m, in \u001b[0;36mFigure.execute_constrained_layout\u001b[0;34m(self, renderer)\u001b[0m\n\u001b[1;32m   3184\u001b[0m \u001b[38;5;28;01mif\u001b[39;00m renderer \u001b[38;5;129;01mis\u001b[39;00m \u001b[38;5;28;01mNone\u001b[39;00m:\n\u001b[1;32m   3185\u001b[0m     renderer \u001b[38;5;241m=\u001b[39m get_renderer(fig)\n\u001b[0;32m-> 3186\u001b[0m \u001b[38;5;28;01mreturn\u001b[39;00m \u001b[43mdo_constrained_layout\u001b[49m\u001b[43m(\u001b[49m\u001b[43mfig\u001b[49m\u001b[43m,\u001b[49m\u001b[43m \u001b[49m\u001b[43mrenderer\u001b[49m\u001b[43m,\u001b[49m\u001b[43m \u001b[49m\u001b[43mh_pad\u001b[49m\u001b[43m,\u001b[49m\u001b[43m \u001b[49m\u001b[43mw_pad\u001b[49m\u001b[43m,\u001b[49m\n\u001b[1;32m   3187\u001b[0m \u001b[43m                             \u001b[49m\u001b[43mhspace\u001b[49m\u001b[43m,\u001b[49m\u001b[43m \u001b[49m\u001b[43mwspace\u001b[49m\u001b[43m)\u001b[49m\n",
      "File \u001b[0;32m/opt/homebrew/Caskroom/miniforge/base/envs/new_pytorch/lib/python3.10/site-packages/matplotlib/_constrained_layout.py:110\u001b[0m, in \u001b[0;36mdo_constrained_layout\u001b[0;34m(fig, renderer, h_pad, w_pad, hspace, wspace)\u001b[0m\n\u001b[1;32m    100\u001b[0m     \u001b[38;5;28;01mreturn\u001b[39;00m\n\u001b[1;32m    102\u001b[0m \u001b[38;5;28;01mfor\u001b[39;00m _ \u001b[38;5;129;01min\u001b[39;00m \u001b[38;5;28mrange\u001b[39m(\u001b[38;5;241m2\u001b[39m):\n\u001b[1;32m    103\u001b[0m     \u001b[38;5;66;03m# do the algorithm twice.  This has to be done because decorations\u001b[39;00m\n\u001b[1;32m    104\u001b[0m     \u001b[38;5;66;03m# change size after the first re-position (i.e. x/yticklabels get\u001b[39;00m\n\u001b[0;32m   (...)\u001b[0m\n\u001b[1;32m    108\u001b[0m     \u001b[38;5;66;03m# make margins for all the axes and subfigures in the\u001b[39;00m\n\u001b[1;32m    109\u001b[0m     \u001b[38;5;66;03m# figure.  Add margins for colorbars...\u001b[39;00m\n\u001b[0;32m--> 110\u001b[0m     \u001b[43mmake_layout_margins\u001b[49m\u001b[43m(\u001b[49m\u001b[43mlayoutgrids\u001b[49m\u001b[43m,\u001b[49m\u001b[43m \u001b[49m\u001b[43mfig\u001b[49m\u001b[43m,\u001b[49m\u001b[43m \u001b[49m\u001b[43mrenderer\u001b[49m\u001b[43m,\u001b[49m\u001b[43m \u001b[49m\u001b[43mh_pad\u001b[49m\u001b[38;5;241;43m=\u001b[39;49m\u001b[43mh_pad\u001b[49m\u001b[43m,\u001b[49m\n\u001b[1;32m    111\u001b[0m \u001b[43m                        \u001b[49m\u001b[43mw_pad\u001b[49m\u001b[38;5;241;43m=\u001b[39;49m\u001b[43mw_pad\u001b[49m\u001b[43m,\u001b[49m\u001b[43m \u001b[49m\u001b[43mhspace\u001b[49m\u001b[38;5;241;43m=\u001b[39;49m\u001b[43mhspace\u001b[49m\u001b[43m,\u001b[49m\u001b[43m \u001b[49m\u001b[43mwspace\u001b[49m\u001b[38;5;241;43m=\u001b[39;49m\u001b[43mwspace\u001b[49m\u001b[43m)\u001b[49m\n\u001b[1;32m    112\u001b[0m     make_margin_suptitles(layoutgrids, fig, renderer, h_pad\u001b[38;5;241m=\u001b[39mh_pad,\n\u001b[1;32m    113\u001b[0m                           w_pad\u001b[38;5;241m=\u001b[39mw_pad)\n\u001b[1;32m    115\u001b[0m     \u001b[38;5;66;03m# if a layout is such that a columns (or rows) margin has no\u001b[39;00m\n\u001b[1;32m    116\u001b[0m     \u001b[38;5;66;03m# constraints, we need to make all such instances in the grid\u001b[39;00m\n\u001b[1;32m    117\u001b[0m     \u001b[38;5;66;03m# match in margin size.\u001b[39;00m\n",
      "File \u001b[0;32m/opt/homebrew/Caskroom/miniforge/base/envs/new_pytorch/lib/python3.10/site-packages/matplotlib/_constrained_layout.py:315\u001b[0m, in \u001b[0;36mmake_layout_margins\u001b[0;34m(layoutgrids, fig, renderer, w_pad, h_pad, hspace, wspace)\u001b[0m\n\u001b[1;32m    311\u001b[0m     \u001b[38;5;28;01mreturn\u001b[39;00m\n\u001b[1;32m    313\u001b[0m margin \u001b[38;5;241m=\u001b[39m get_margin_from_padding(ax, w_pad\u001b[38;5;241m=\u001b[39mw_pad, h_pad\u001b[38;5;241m=\u001b[39mh_pad,\n\u001b[1;32m    314\u001b[0m                                  hspace\u001b[38;5;241m=\u001b[39mhspace, wspace\u001b[38;5;241m=\u001b[39mwspace)\n\u001b[0;32m--> 315\u001b[0m pos, bbox \u001b[38;5;241m=\u001b[39m \u001b[43mget_pos_and_bbox\u001b[49m\u001b[43m(\u001b[49m\u001b[43max\u001b[49m\u001b[43m,\u001b[49m\u001b[43m \u001b[49m\u001b[43mrenderer\u001b[49m\u001b[43m)\u001b[49m\n\u001b[1;32m    316\u001b[0m \u001b[38;5;66;03m# the margin is the distance between the bounding box of the axes\u001b[39;00m\n\u001b[1;32m    317\u001b[0m \u001b[38;5;66;03m# and its position (plus the padding from above)\u001b[39;00m\n\u001b[1;32m    318\u001b[0m margin[\u001b[38;5;124m'\u001b[39m\u001b[38;5;124mleft\u001b[39m\u001b[38;5;124m'\u001b[39m] \u001b[38;5;241m+\u001b[39m\u001b[38;5;241m=\u001b[39m pos\u001b[38;5;241m.\u001b[39mx0 \u001b[38;5;241m-\u001b[39m bbox\u001b[38;5;241m.\u001b[39mx0\n",
      "File \u001b[0;32m/opt/homebrew/Caskroom/miniforge/base/envs/new_pytorch/lib/python3.10/site-packages/matplotlib/_constrained_layout.py:546\u001b[0m, in \u001b[0;36mget_pos_and_bbox\u001b[0;34m(ax, renderer)\u001b[0m\n\u001b[1;32m    544\u001b[0m pos \u001b[38;5;241m=\u001b[39m pos\u001b[38;5;241m.\u001b[39mtransformed(fig\u001b[38;5;241m.\u001b[39mtransSubfigure \u001b[38;5;241m-\u001b[39m fig\u001b[38;5;241m.\u001b[39mtransFigure)\n\u001b[1;32m    545\u001b[0m \u001b[38;5;28;01mtry\u001b[39;00m:\n\u001b[0;32m--> 546\u001b[0m     tightbbox \u001b[38;5;241m=\u001b[39m \u001b[43max\u001b[49m\u001b[38;5;241;43m.\u001b[39;49m\u001b[43mget_tightbbox\u001b[49m\u001b[43m(\u001b[49m\u001b[43mrenderer\u001b[49m\u001b[38;5;241;43m=\u001b[39;49m\u001b[43mrenderer\u001b[49m\u001b[43m,\u001b[49m\u001b[43m \u001b[49m\u001b[43mfor_layout_only\u001b[49m\u001b[38;5;241;43m=\u001b[39;49m\u001b[38;5;28;43;01mTrue\u001b[39;49;00m\u001b[43m)\u001b[49m\n\u001b[1;32m    547\u001b[0m \u001b[38;5;28;01mexcept\u001b[39;00m \u001b[38;5;167;01mTypeError\u001b[39;00m:\n\u001b[1;32m    548\u001b[0m     tightbbox \u001b[38;5;241m=\u001b[39m ax\u001b[38;5;241m.\u001b[39mget_tightbbox(renderer\u001b[38;5;241m=\u001b[39mrenderer)\n",
      "File \u001b[0;32m/opt/homebrew/Caskroom/miniforge/base/envs/new_pytorch/lib/python3.10/site-packages/matplotlib/axes/_base.py:4637\u001b[0m, in \u001b[0;36m_AxesBase.get_tightbbox\u001b[0;34m(self, renderer, call_axes_locator, bbox_extra_artists, for_layout_only)\u001b[0m\n\u001b[1;32m   4635\u001b[0m \u001b[38;5;28;01mif\u001b[39;00m \u001b[38;5;28mself\u001b[39m\u001b[38;5;241m.\u001b[39myaxis\u001b[38;5;241m.\u001b[39mget_visible():\n\u001b[1;32m   4636\u001b[0m     \u001b[38;5;28;01mtry\u001b[39;00m:\n\u001b[0;32m-> 4637\u001b[0m         bb_yaxis \u001b[38;5;241m=\u001b[39m \u001b[38;5;28;43mself\u001b[39;49m\u001b[38;5;241;43m.\u001b[39;49m\u001b[43myaxis\u001b[49m\u001b[38;5;241;43m.\u001b[39;49m\u001b[43mget_tightbbox\u001b[49m\u001b[43m(\u001b[49m\n\u001b[1;32m   4638\u001b[0m \u001b[43m            \u001b[49m\u001b[43mrenderer\u001b[49m\u001b[43m,\u001b[49m\u001b[43m \u001b[49m\u001b[43mfor_layout_only\u001b[49m\u001b[38;5;241;43m=\u001b[39;49m\u001b[43mfor_layout_only\u001b[49m\u001b[43m)\u001b[49m\n\u001b[1;32m   4639\u001b[0m     \u001b[38;5;28;01mexcept\u001b[39;00m \u001b[38;5;167;01mTypeError\u001b[39;00m:\n\u001b[1;32m   4640\u001b[0m         \u001b[38;5;66;03m# in case downstream library has redefined axis:\u001b[39;00m\n\u001b[1;32m   4641\u001b[0m         bb_yaxis \u001b[38;5;241m=\u001b[39m \u001b[38;5;28mself\u001b[39m\u001b[38;5;241m.\u001b[39myaxis\u001b[38;5;241m.\u001b[39mget_tightbbox(renderer)\n",
      "File \u001b[0;32m/opt/homebrew/Caskroom/miniforge/base/envs/new_pytorch/lib/python3.10/site-packages/matplotlib/axis.py:1103\u001b[0m, in \u001b[0;36mAxis.get_tightbbox\u001b[0;34m(self, renderer, for_layout_only)\u001b[0m\n\u001b[1;32m   1100\u001b[0m \u001b[38;5;28;01mif\u001b[39;00m \u001b[38;5;129;01mnot\u001b[39;00m \u001b[38;5;28mself\u001b[39m\u001b[38;5;241m.\u001b[39mget_visible():\n\u001b[1;32m   1101\u001b[0m     \u001b[38;5;28;01mreturn\u001b[39;00m\n\u001b[0;32m-> 1103\u001b[0m ticks_to_draw \u001b[38;5;241m=\u001b[39m \u001b[38;5;28;43mself\u001b[39;49m\u001b[38;5;241;43m.\u001b[39;49m\u001b[43m_update_ticks\u001b[49m\u001b[43m(\u001b[49m\u001b[43m)\u001b[49m\n\u001b[1;32m   1105\u001b[0m \u001b[38;5;28mself\u001b[39m\u001b[38;5;241m.\u001b[39m_update_label_position(renderer)\n\u001b[1;32m   1107\u001b[0m \u001b[38;5;66;03m# go back to just this axis's tick labels\u001b[39;00m\n",
      "File \u001b[0;32m/opt/homebrew/Caskroom/miniforge/base/envs/new_pytorch/lib/python3.10/site-packages/matplotlib/axis.py:1045\u001b[0m, in \u001b[0;36mAxis._update_ticks\u001b[0;34m(self)\u001b[0m\n\u001b[1;32m   1040\u001b[0m \u001b[38;5;28;01mdef\u001b[39;00m \u001b[38;5;21m_update_ticks\u001b[39m(\u001b[38;5;28mself\u001b[39m):\n\u001b[1;32m   1041\u001b[0m     \u001b[38;5;124;03m\"\"\"\u001b[39;00m\n\u001b[1;32m   1042\u001b[0m \u001b[38;5;124;03m    Update ticks (position and labels) using the current data interval of\u001b[39;00m\n\u001b[1;32m   1043\u001b[0m \u001b[38;5;124;03m    the axes.  Return the list of ticks that will be drawn.\u001b[39;00m\n\u001b[1;32m   1044\u001b[0m \u001b[38;5;124;03m    \"\"\"\u001b[39;00m\n\u001b[0;32m-> 1045\u001b[0m     major_locs \u001b[38;5;241m=\u001b[39m \u001b[38;5;28;43mself\u001b[39;49m\u001b[38;5;241;43m.\u001b[39;49m\u001b[43mget_majorticklocs\u001b[49m\u001b[43m(\u001b[49m\u001b[43m)\u001b[49m\n\u001b[1;32m   1046\u001b[0m     major_labels \u001b[38;5;241m=\u001b[39m \u001b[38;5;28mself\u001b[39m\u001b[38;5;241m.\u001b[39mmajor\u001b[38;5;241m.\u001b[39mformatter\u001b[38;5;241m.\u001b[39mformat_ticks(major_locs)\n\u001b[1;32m   1047\u001b[0m     major_ticks \u001b[38;5;241m=\u001b[39m \u001b[38;5;28mself\u001b[39m\u001b[38;5;241m.\u001b[39mget_major_ticks(\u001b[38;5;28mlen\u001b[39m(major_locs))\n",
      "File \u001b[0;32m/opt/homebrew/Caskroom/miniforge/base/envs/new_pytorch/lib/python3.10/site-packages/matplotlib/axis.py:1277\u001b[0m, in \u001b[0;36mAxis.get_majorticklocs\u001b[0;34m(self)\u001b[0m\n\u001b[1;32m   1275\u001b[0m \u001b[38;5;28;01mdef\u001b[39;00m \u001b[38;5;21mget_majorticklocs\u001b[39m(\u001b[38;5;28mself\u001b[39m):\n\u001b[1;32m   1276\u001b[0m     \u001b[38;5;124;03m\"\"\"Return this Axis' major tick locations in data coordinates.\"\"\"\u001b[39;00m\n\u001b[0;32m-> 1277\u001b[0m     \u001b[38;5;28;01mreturn\u001b[39;00m \u001b[38;5;28;43mself\u001b[39;49m\u001b[38;5;241;43m.\u001b[39;49m\u001b[43mmajor\u001b[49m\u001b[38;5;241;43m.\u001b[39;49m\u001b[43mlocator\u001b[49m\u001b[43m(\u001b[49m\u001b[43m)\u001b[49m\n",
      "File \u001b[0;32m/opt/homebrew/Caskroom/miniforge/base/envs/new_pytorch/lib/python3.10/site-packages/matplotlib/ticker.py:2293\u001b[0m, in \u001b[0;36mLogLocator.__call__\u001b[0;34m(self)\u001b[0m\n\u001b[1;32m   2291\u001b[0m \u001b[38;5;124;03m\"\"\"Return the locations of the ticks.\"\"\"\u001b[39;00m\n\u001b[1;32m   2292\u001b[0m vmin, vmax \u001b[38;5;241m=\u001b[39m \u001b[38;5;28mself\u001b[39m\u001b[38;5;241m.\u001b[39maxis\u001b[38;5;241m.\u001b[39mget_view_interval()\n\u001b[0;32m-> 2293\u001b[0m \u001b[38;5;28;01mreturn\u001b[39;00m \u001b[38;5;28;43mself\u001b[39;49m\u001b[38;5;241;43m.\u001b[39;49m\u001b[43mtick_values\u001b[49m\u001b[43m(\u001b[49m\u001b[43mvmin\u001b[49m\u001b[43m,\u001b[49m\u001b[43m \u001b[49m\u001b[43mvmax\u001b[49m\u001b[43m)\u001b[49m\n",
      "File \u001b[0;32m/opt/homebrew/Caskroom/miniforge/base/envs/new_pytorch/lib/python3.10/site-packages/matplotlib/ticker.py:2318\u001b[0m, in \u001b[0;36mLogLocator.tick_values\u001b[0;34m(self, vmin, vmax)\u001b[0m\n\u001b[1;32m   2315\u001b[0m         vmin \u001b[38;5;241m=\u001b[39m \u001b[38;5;28mself\u001b[39m\u001b[38;5;241m.\u001b[39maxis\u001b[38;5;241m.\u001b[39mget_minpos()\n\u001b[1;32m   2317\u001b[0m     \u001b[38;5;28;01mif\u001b[39;00m vmin \u001b[38;5;241m<\u001b[39m\u001b[38;5;241m=\u001b[39m \u001b[38;5;241m0.0\u001b[39m \u001b[38;5;129;01mor\u001b[39;00m \u001b[38;5;129;01mnot\u001b[39;00m np\u001b[38;5;241m.\u001b[39misfinite(vmin):\n\u001b[0;32m-> 2318\u001b[0m         \u001b[38;5;28;01mraise\u001b[39;00m \u001b[38;5;167;01mValueError\u001b[39;00m(\n\u001b[1;32m   2319\u001b[0m             \u001b[38;5;124m\"\u001b[39m\u001b[38;5;124mData has no positive values, and therefore can not be \u001b[39m\u001b[38;5;124m\"\u001b[39m\n\u001b[1;32m   2320\u001b[0m             \u001b[38;5;124m\"\u001b[39m\u001b[38;5;124mlog-scaled.\u001b[39m\u001b[38;5;124m\"\u001b[39m)\n\u001b[1;32m   2322\u001b[0m _log\u001b[38;5;241m.\u001b[39mdebug(\u001b[38;5;124m'\u001b[39m\u001b[38;5;124mvmin \u001b[39m\u001b[38;5;132;01m%s\u001b[39;00m\u001b[38;5;124m vmax \u001b[39m\u001b[38;5;132;01m%s\u001b[39;00m\u001b[38;5;124m'\u001b[39m, vmin, vmax)\n\u001b[1;32m   2324\u001b[0m \u001b[38;5;28;01mif\u001b[39;00m vmax \u001b[38;5;241m<\u001b[39m vmin:\n",
      "\u001b[0;31mValueError\u001b[0m: Data has no positive values, and therefore can not be log-scaled."
     ]
    },
    {
     "data": {
      "text/plain": [
       "<Figure size 600x350 with 1 Axes>"
      ]
     },
     "metadata": {},
     "output_type": "display_data"
    }
   ],
   "source": [
    "fig, ax = plt.subplots(1, 1, constrained_layout=True, figsize=(6, 3.5))\n",
    "#fig.suptitle(r'Spatial correlation coefficient averaged in time: $R(\\rho_c, parametrization)$')\n",
    "x = np.arange(len(list_of_datasets))\n",
    "bar_width = 0.2\n",
    "\n",
    "for i, key in enumerate(['determ_param', 'FCNN', 'CNN']) :\n",
    "    ax.bar(x+i*bar_width, [np.mean(MSE[key][region]) for region in range(len(list_of_datasets))], width=bar_width, label=key)\n",
    "ax.legend(['Deterministic parametrization', 'Fully connected NN', 'Convolutional NN'])\n",
    "ax.set_xticks(x+bar_width)\n",
    "#ax.axhline(y=1., color='k')\n",
    "ax.set_xticklabels(labels,fontsize=10)\n",
    "ax.set_xlabel('data set')\n",
    "ax.xaxis.set_tick_params(labelsize='small')\n",
    "ax.set(yscale='log')\n",
    "plt.show()"
   ]
  },
  {
   "cell_type": "markdown",
   "id": "d27cd398-c77f-4808-b74b-90c1e6243dc2",
   "metadata": {},
   "source": [
    "## Histograms of MSE"
   ]
  },
  {
   "cell_type": "code",
   "execution_count": null,
   "id": "44852cac-927b-4ac6-a286-9c9d42e0db5e",
   "metadata": {},
   "outputs": [],
   "source": [
    "fig, ax = plt.subplots(1, 6, constrained_layout=True, figsize=(15, 3))\n",
    "fig.suptitle('Histograms of MSE by dataset')\n",
    "for key in ['determ_param', 'FCNN', 'CNN'] :\n",
    "    for i in range(len(list_of_datasets)) :\n",
    "        ax[i].hist(MSE[key][i], bins=30, histtype='step', density=False, label=key)\n",
    "        ax[i].set(yscale='log', title=labels[i], xlabel='Bins MSE')\n",
    "ax[0].set(ylabel='counts')\n",
    "ax[-1].legend(bbox_to_anchor=(1.05, 1), loc='upper left')\n",
    "plt.show()"
   ]
  },
  {
   "cell_type": "code",
   "execution_count": null,
   "id": "a4d2db4e-1ee3-45c9-8737-d3d17e4ace91",
   "metadata": {},
   "outputs": [],
   "source": []
  },
  {
   "cell_type": "code",
   "execution_count": null,
   "id": "e1fcddf1-f020-4989-9e74-dc738234b686",
   "metadata": {},
   "outputs": [],
   "source": []
  }
 ],
 "metadata": {
  "kernelspec": {
   "display_name": "new_pytorch",
   "language": "python",
   "name": "new_pytorch"
  },
  "language_info": {
   "codemirror_mode": {
    "name": "ipython",
    "version": 3
   },
   "file_extension": ".py",
   "mimetype": "text/x-python",
   "name": "python",
   "nbconvert_exporter": "python",
   "pygments_lexer": "ipython3",
   "version": "3.10.6"
  },
  "toc-autonumbering": true,
  "toc-showcode": false,
  "toc-showmarkdowntxt": false,
  "toc-showtags": false
 },
 "nbformat": 4,
 "nbformat_minor": 5
}
