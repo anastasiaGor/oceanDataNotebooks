{
 "cells": [
  {
   "cell_type": "code",
   "execution_count": 1,
   "id": "630b52b2-d2e4-4979-a980-26fe78738df9",
   "metadata": {},
   "outputs": [
    {
     "name": "stdout",
     "output_type": "stream",
     "text": [
      "Note: you may need to restart the kernel to use updated packages.\n"
     ]
    }
   ],
   "source": [
    "pip install wandb -q"
   ]
  },
  {
   "cell_type": "code",
   "execution_count": 1,
   "id": "edcb865e-a99d-414c-9e9e-5d3a0ff6f0ec",
   "metadata": {},
   "outputs": [],
   "source": [
    "from dask.distributed import Client\n",
    "\n",
    "client = Client(\"tcp://127.0.0.1:43169\")"
   ]
  },
  {
   "cell_type": "markdown",
   "id": "ea54da1f-c0d2-4ed2-8dea-5f96a68745f0",
   "metadata": {},
   "source": [
    "# Import"
   ]
  },
  {
   "cell_type": "code",
   "execution_count": 2,
   "id": "e9303f7b-4813-46e3-9398-9b53578b9437",
   "metadata": {},
   "outputs": [],
   "source": [
    "from IPython.display import clear_output\n",
    "import torch\n",
    "import numpy as np\n",
    "import matplotlib.pyplot as plt\n",
    "from tqdm.autonotebook import tqdm, trange\n",
    "import xarray as xr\n",
    "from IPython import display\n",
    "import pytorch_lightning as pl\n",
    "from pytorch_lightning.loggers import WandbLogger\n",
    "import wandb\n",
    "from pytorch_lightning.callbacks import EarlyStopping,ModelCheckpoint,Callback\n",
    "import inspect\n",
    "import tensorboard\n",
    "from tensorboard.backend.event_processing.event_file_loader import EventFileLoader\n",
    "import itertools\n",
    "import matplotlib.colors as mcolors\n",
    "import glob, os\n",
    "from scipy import ndimage\n",
    "from random import randrange\n",
    "from itertools import chain"
   ]
  },
  {
   "cell_type": "code",
   "execution_count": 3,
   "id": "cb00724f-4c87-407a-a426-1969274ebfb7",
   "metadata": {},
   "outputs": [
    {
     "name": "stdout",
     "output_type": "stream",
     "text": [
      "Linux-5.10.133+-x86_64-with-glibc2.35\n"
     ]
    }
   ],
   "source": [
    "import platform\n",
    "print(platform.platform())"
   ]
  },
  {
   "cell_type": "code",
   "execution_count": 4,
   "id": "94d6f76d-7224-49fb-8ea8-69e231ac84be",
   "metadata": {},
   "outputs": [
    {
     "name": "stdout",
     "output_type": "stream",
     "text": [
      "1.13.1.post200\n"
     ]
    }
   ],
   "source": [
    "print(torch.__version__)"
   ]
  },
  {
   "cell_type": "code",
   "execution_count": 5,
   "id": "09185b24-5c66-4f85-92d2-edd901e130b7",
   "metadata": {},
   "outputs": [],
   "source": [
    "import warnings\n",
    "\n",
    "warnings.simplefilter(action='ignore', category=FutureWarning)\n",
    "warnings.filterwarnings(\"ignore\", \".*Consider increasing the value of the `num_workers` argument*\")"
   ]
  },
  {
   "cell_type": "code",
   "execution_count": 6,
   "id": "4ac6ae3f-8287-49ea-88ea-0f83143a0476",
   "metadata": {},
   "outputs": [],
   "source": [
    "line_styles = ['solid', 'dashed', 'dotted', 'dashdot']"
   ]
  },
  {
   "cell_type": "markdown",
   "id": "751ea4e3-ee81-4e2b-b07f-7099893b75c0",
   "metadata": {},
   "source": [
    "# Data properties"
   ]
  },
  {
   "cell_type": "code",
   "execution_count": 7,
   "id": "4241ea57-8775-4386-8329-8d5c5453718c",
   "metadata": {},
   "outputs": [],
   "source": [
    "PERSISTENT_BUCKET = os.environ['PERSISTENT_BUCKET'] "
   ]
  },
  {
   "cell_type": "code",
   "execution_count": 8,
   "id": "14277ad7-8350-4756-a398-d9645f781f09",
   "metadata": {},
   "outputs": [],
   "source": [
    "data_dict=[dict() for i in range(6)]\n",
    "data_dict[0] = dict({'region' : '1', 'season' : 'fma', 'label' : 'GULFSTR FMA'})\n",
    "data_dict[1] = dict({'region' : '1', 'season' : 'aso', 'label' : 'GULFSTR ASO'})\n",
    "data_dict[2] = dict({'region' : '2', 'season' : 'fma', 'label' : 'MIDATL FMA'})\n",
    "data_dict[3] = dict({'region' : '2', 'season' : 'aso', 'label' : 'MIDATL ASO'})\n",
    "data_dict[4] = dict({'region' : '3', 'season' : 'fma', 'label' : 'WESTMED FMA'})\n",
    "data_dict[5] = dict({'region' : '3', 'season' : 'aso', 'label' : 'WESTMED ASO'})"
   ]
  },
  {
   "cell_type": "code",
   "execution_count": 9,
   "id": "878f2708-915a-41fc-b4ed-30cff8f87e43",
   "metadata": {},
   "outputs": [],
   "source": [
    "features_to_add_to_sample = ['sosstsst', 'sosstsst_var', 'diff_sosstsst_sqr', 'rho_ct_ct']"
   ]
  },
  {
   "cell_type": "code",
   "execution_count": 10,
   "id": "b5e40cb5-9ac5-4acc-89a9-bd81870f9cda",
   "metadata": {},
   "outputs": [],
   "source": [
    "h = 45 # height of images\n",
    "w = 40 # width of images"
   ]
  },
  {
   "cell_type": "code",
   "execution_count": 11,
   "id": "8c3db48a-360a-41a8-aeb4-7811d22d028e",
   "metadata": {},
   "outputs": [],
   "source": [
    "batch_size = 20"
   ]
  },
  {
   "cell_type": "markdown",
   "id": "7a404186-310e-42d9-acab-bd1f17d2a126",
   "metadata": {},
   "source": [
    "# Data classes"
   ]
  },
  {
   "cell_type": "markdown",
   "id": "fe641c3e-a3b8-4402-a55f-94346bd3fab9",
   "metadata": {},
   "source": [
    "## Pytorch dataset (from xarray to torch tensors)"
   ]
  },
  {
   "cell_type": "code",
   "execution_count": 12,
   "id": "16efd56f-6208-4fa3-b5e9-230764684a54",
   "metadata": {},
   "outputs": [],
   "source": [
    "# iterates over time snapshots in an xarray data file and transforms it into a dictionary of pytorch tensors, also performs normalization\n",
    "class torchDataset(torch.utils.data.Dataset):\n",
    "    \"\"\"Dataset of 2D maps of surface temperature, salinity\"\"\"\n",
    "\n",
    "    def __init__(self, xarray_dataset, transform=None):\n",
    "        self.transform = transform\n",
    "        full_data_file_len = len(xarray_dataset.t)\n",
    "        self.data = (xarray_dataset.isel(x_c=slice(None,w), y_c=slice(None,h))).load()\n",
    "        self.data_file_len = len(self.data.t)\n",
    "        \n",
    "    def __len__(self):\n",
    "        return self.data_file_len\n",
    "\n",
    "    def __getitem__(self, idx):\n",
    "        if torch.is_tensor(idx):\n",
    "            list_idx = idx.tolist()\n",
    "        else :\n",
    "            list_idx = idx\n",
    "        selected_time_frames = self.data.isel(t=list_idx)\n",
    "        \n",
    "        # create dictionary of a sample (a batch) containig different features in numpy format. \n",
    "        # This dictionary is an intermediate step, preparing xArray data for trasform into pytorch tensors\n",
    "        sample = dict()\n",
    "        sample['mask'] = (selected_time_frames['mask'].values).astype(bool)\n",
    "        #sample['mask'] = selected_time_frames['votemper'].where(not(selected_time_frames['votemper'].isnan())).values.astype(bool)\n",
    "        erosion_structure_matrix = np.array([(0,0,1,0,0), (0,1,1,1,0), (1,1,1,1,1), (0,1,1,1,0), (0,0,1,0,0)])\n",
    "        sample['eroded_mask'] = ndimage.binary_erosion(selected_time_frames['mask'].values, structure=erosion_structure_matrix)\n",
    "        for feature in features_to_add_to_sample :\n",
    "            sample['mean_'+feature] = self.data['mean_'+feature].values\n",
    "            sample['std_'+feature] = self.data['std_'+feature].values\n",
    "            sample[feature] = selected_time_frames[feature].values\n",
    "            sample['normalized_'+feature] = selected_time_frames['normalized_'+feature].values\n",
    "        if self.transform:\n",
    "            sample = self.transform(sample)\n",
    "        return sample"
   ]
  },
  {
   "cell_type": "code",
   "execution_count": 13,
   "id": "5d3b1afc-6b46-4ddc-907c-6c028a959939",
   "metadata": {},
   "outputs": [],
   "source": [
    "class ToTensor(object):\n",
    "    \"\"\"Convert each numpy array in sample to Tensors.\"\"\"\n",
    "\n",
    "    def __call__(self, sample):\n",
    "        transformed_sample=sample.copy()\n",
    "        for feature in features_to_add_to_sample :\n",
    "            transformed_sample[feature] = torch.tensor(sample[feature])\n",
    "        return transformed_sample"
   ]
  },
  {
   "cell_type": "markdown",
   "id": "0d0f87c0-6323-4f4e-8c7c-2b7b484058db",
   "metadata": {},
   "source": [
    "## Lightning data module (split trainig, validation and test data)"
   ]
  },
  {
   "cell_type": "markdown",
   "id": "5391569d-168f-4acb-9d27-cc1ce6ed53d9",
   "metadata": {},
   "source": [
    "A DataModule standardizes the training, val, test splits, data preparation and transforms. The main advantage is consistent data splits, data preparation and transforms across models, which enabeles simple procedure of comparison."
   ]
  },
  {
   "cell_type": "code",
   "execution_count": 14,
   "id": "f7b55d39-928a-47df-8135-f194744b4eb3",
   "metadata": {},
   "outputs": [],
   "source": [
    "class PyLiDataModule(pl.LightningDataModule):\n",
    "    def __init__(self, cloud_data_sets, batch_size) :\n",
    "        super().__init__()\n",
    "        self.cloud_data_sets = cloud_data_sets\n",
    "        self.batch_size = batch_size\n",
    "        self.list_of_xr_datasets = [xr.Dataset() for i in range(len(self.cloud_data_sets))]\n",
    "        self.list_of_torch_datasets = [{} for i in range(len(self.cloud_data_sets))]\n",
    "        \n",
    "    #def prepare_data(self) :\n",
    "        # preparation of data: mean and std of the dataset (to avoid batch avg), normalization and nan filling\n",
    "        for i in range(len(self.cloud_data_sets)) :\n",
    "            # read file\n",
    "            xr_dataset = xr.open_zarr(f'{PERSISTENT_BUCKET}/data'+str(i)+'.zarr', chunks='auto')[features_to_add_to_sample + ['mask']]\n",
    "            for feature in features_to_add_to_sample :\n",
    "                # reapply mask (to avoid issues with nans written in netcdf files)\n",
    "                xr_dataset[feature] = xr_dataset[feature].where(xr_dataset.mask>0)\n",
    "                # compute mean, median and std for each level (since temperature/salinity may change a lot with the depth)\n",
    "                xr_dataset['mean_'+feature] = (xr_dataset[feature].mean())\n",
    "                xr_dataset['std_'+feature] = (xr_dataset[feature].std())\n",
    "                # fill nans with mean (doesn't the number to be fillted in matter since they will be masked, \n",
    "                # but they have to be filled with any numbers so that nans do not propagate everywhere) \n",
    "                xr_dataset[feature] = xr_dataset[feature].fillna(xr_dataset['mean_'+feature])\n",
    "                # normalize data by shifting with mean value and dividing by std (mean and std are computed above for each vertical level)\n",
    "                xr_dataset['normalized_'+feature] = ((xr_dataset[feature]-xr_dataset['mean_'+feature])/xr_dataset['std_'+feature]) \n",
    "            # save result in a list\n",
    "            self.list_of_xr_datasets[i] = xr_dataset\n",
    "            self.list_of_torch_datasets[i] = torchDataset(xr_dataset, transform=ToTensor())\n",
    "            \n",
    "    def setup(self, stage: str) :\n",
    "        if (stage == 'fit') :\n",
    "        # takes first 60% of time snapshots for training\n",
    "            self.train_dataset = torch.utils.data.ConcatDataset([torch.utils.data.Subset(dataset, \\\n",
    "                                                                                     indices=range(0,int(0.6*len(dataset)))) \\\n",
    "                                                                                     for dataset in self.list_of_torch_datasets])\n",
    "        # takes last 20% of time snapshots for validation (we keep a gap to have validation data decorrelated from trainig data)\n",
    "            self.val_dataset = torch.utils.data.ConcatDataset([torch.utils.data.Subset(dataset, \\\n",
    "                                                                                     indices=range(int(0.8*len(dataset)),len(dataset))) \\\n",
    "                                                                                     for dataset in self.list_of_torch_datasets])\n",
    "        # same for test\n",
    "        if (stage == 'test') :\n",
    "            self.test_datasets = [torch.utils.data.Subset(dataset, indices=range(int(0.8*len(dataset)),len(dataset))) \\\n",
    "                                                               for dataset in self.list_of_torch_datasets]\n",
    "            \n",
    "                \n",
    "    def train_dataloader(self) :\n",
    "        # create training dataloadder from train_dataset with shuffling with given batch size\n",
    "        return torch.utils.data.DataLoader(self.train_dataset, \\\n",
    "                                           batch_size=self.batch_size, shuffle=True, drop_last=True, num_workers=0)\n",
    "    \n",
    "    def val_dataloader(self) :\n",
    "        # create training dataloadder from val_dataset without shuffling with the same batch size\n",
    "        return torch.utils.data.DataLoader(self.val_dataset, batch_size=self.batch_size, drop_last=True, num_workers=0) \n",
    "    \n",
    "    def test_dataloader(self) :\n",
    "        # create a LIST of dataloaders (a dataloader for each dataset) - to enable diagnostics in each region/season individually \n",
    "        # batch size is equal to the dataset length, i.e. there is ONLY 1 batch with all dataset inside \n",
    "        #(can be better since there is no optimisation in testing)\n",
    "        return [torch.utils.data.DataLoader(dataset, batch_size=len(dataset), drop_last=True, num_workers=0) \\\n",
    "                for dataset in self.test_datasets]\n",
    "    \n",
    "    def teardown(self, stage : str) :\n",
    "        if (stage == 'fit') :\n",
    "            # clean train and val datasets to free memory\n",
    "            del self.train_dataset, self.val_dataset\n",
    "        # if (stage == 'test') :\n",
    "        #     del self.test_datasets   \n",
    "        # if (stage == 'predict') :\n",
    "        #     del self.test_datasets   \n",
    "        \n",
    "    def tensor_restore_units(tensor, sample, reference_feature) :\n",
    "        return tensor*(sample['std_'+reference_feature][:,None,None])+sample['mean_'+reference_feature][:,None,None]\n",
    "\n",
    "    def tensor_normalize(tensor, sample, reference_feature) :\n",
    "        return (tensor-sample['mean_'+reference_feature][:,None,None])/(sample['std_'+reference_feature][:,None,None])"
   ]
  },
  {
   "cell_type": "markdown",
   "id": "c48780e7-a3d0-4f4a-9542-9b2993e79347",
   "metadata": {},
   "source": [
    "## Initialize datamodule"
   ]
  },
  {
   "cell_type": "code",
   "execution_count": 15,
   "id": "6aeb365d-6edd-47c0-8173-9cccf9273641",
   "metadata": {},
   "outputs": [
    {
     "name": "stdout",
     "output_type": "stream",
     "text": [
      "CPU times: user 4.63 s, sys: 1.65 s, total: 6.28 s\n",
      "Wall time: 22.2 s\n"
     ]
    }
   ],
   "source": [
    "%%time\n",
    "all_data = PyLiDataModule(data_dict, batch_size=batch_size)"
   ]
  },
  {
   "cell_type": "markdown",
   "id": "603fd524-f01c-4cec-a352-29deddad3869",
   "metadata": {},
   "source": [
    "# Grad-based loss function"
   ]
  },
  {
   "cell_type": "code",
   "execution_count": 16,
   "id": "97e96c0b-e2d6-44d2-85e6-a1f3736de932",
   "metadata": {},
   "outputs": [],
   "source": [
    "def central_diffs(dataArray, dim) :\n",
    "    res = 0.5*(torch.roll(dataArray, shifts=-1, dims=dim) - torch.roll(dataArray, shifts=1, dims=dim))\n",
    "    return res"
   ]
  },
  {
   "cell_type": "code",
   "execution_count": 17,
   "id": "e0c7025d-2a5d-4ecd-88d8-f391227abf1b",
   "metadata": {},
   "outputs": [],
   "source": [
    "def finite_diffs_sqr_2d_array(dataArray, dim_x, dim_y) :\n",
    "    res = torch.pow(central_diffs(dataArray, dim_x),2) + torch.pow(central_diffs(dataArray, dim_y),2)\n",
    "    # cut the borders of the image\n",
    "    res = torch.narrow(res, dim=dim_x, start=1, length=res.shape[dim_x]-2)\n",
    "    res = torch.narrow(res, dim=dim_y, start=1, length=res.shape[dim_y]-2)\n",
    "    return res"
   ]
  },
  {
   "cell_type": "code",
   "execution_count": 18,
   "id": "de543096-5958-4c5d-9a51-65df1de96cc9",
   "metadata": {},
   "outputs": [],
   "source": [
    "def gradient_based_MSEloss(outputs, targets, reduction='mean') :\n",
    "        if (len(outputs.shape) == 3) : # 3D cube (single feature)\n",
    "            dim_x = 2\n",
    "            dim_y = 1\n",
    "        if (len(outputs.shape) == 4) : # 3D cube (multiple features/channels)\n",
    "            dim_x = 3\n",
    "            dim_y = 2\n",
    "        outputs_grad = finite_diffs_sqr_2d_array(outputs, dim_x=dim_x, dim_y=dim_y)\n",
    "        targets_grad = finite_diffs_sqr_2d_array(targets, dim_x=dim_x, dim_y=dim_y)\n",
    "        \n",
    "        value_loss = torch.nn.functional.mse_loss(outputs, targets, reduction=reduction)\n",
    "        grad_loss = torch.nn.functional.mse_loss(outputs_grad, targets_grad, reduction=reduction)\n",
    "\n",
    "        return (value_loss+0.1*grad_loss)    "
   ]
  },
  {
   "cell_type": "markdown",
   "id": "d902bf8a-1532-4473-b9ab-f62877c4ccf6",
   "metadata": {
    "tags": []
   },
   "source": [
    "# Generic PyTorch Lightning Module"
   ]
  },
  {
   "cell_type": "markdown",
   "id": "1bd42796-5341-4c52-943d-171b547e6cc9",
   "metadata": {},
   "source": [
    "Logic of trainig, validation and test common for all models"
   ]
  },
  {
   "cell_type": "code",
   "execution_count": 19,
   "id": "9a1d0a14-922c-48a6-927a-a4595ffce148",
   "metadata": {},
   "outputs": [],
   "source": [
    "class GenericPyLiModule(pl.LightningModule):\n",
    "    def __init__(self, torch_model, input_features, output_features, loss, optimizer, learning_rate):\n",
    "        super().__init__()\n",
    "        self.torch_model = torch_model\n",
    "        self.input_features = input_features\n",
    "        self.output_features = output_features\n",
    "        self.loss = loss\n",
    "        self.optimizer = optimizer\n",
    "        self.learning_rate = learning_rate\n",
    "        \n",
    "        self.save_hyperparameters(ignore=['torch_model'])\n",
    "        \n",
    "        ## initialization of weights\n",
    "        #torch_model.weight.data = torch.Tensor([1.0])\n",
    "\n",
    "        #construct list of names of features to be predicted\n",
    "        self.list_of_features_to_predict=list()\n",
    "        for i, feature in enumerate(self.output_features) :\n",
    "            self.list_of_features_to_predict.append(feature)\n",
    "            if feature.startswith('normalized_') :\n",
    "                # if model output is a normalized feature then compute also the non-normalized feature for the diagnostics \n",
    "                not_normalized_feature = feature.replace(\"normalized_\", \"\")\n",
    "                self.list_of_features_to_predict.append(not_normalized_feature)\n",
    "        \n",
    "    def cut_bords(self, tensor, nb_of_border_pix) :\n",
    "        if nb_of_border_pix is None :\n",
    "            return tensor\n",
    "        else :\n",
    "            return tensor[:, nb_of_border_pix:-nb_of_border_pix, nb_of_border_pix:-nb_of_border_pix] \n",
    "\n",
    "    def expand_to_bords(self, tensor, nb_of_border_pix) :\n",
    "        if nb_of_border_pix is None :\n",
    "            return tensor\n",
    "        else :\n",
    "            new_tensor = torch.empty(tensor.shape[0], tensor.shape[1]+2*nb_of_border_pix, tensor.shape[2]+2*nb_of_border_pix).\\\n",
    "                                     to(tensor.device)\n",
    "            new_tensor[:, nb_of_border_pix:-nb_of_border_pix, nb_of_border_pix:-nb_of_border_pix] = tensor\n",
    "            return new_tensor\n",
    "        \n",
    "    def transform_input(self, batch) :\n",
    "        # transform dictionary issued from the data loader into 4D torch arrays of shape [N,C,H,W]\n",
    "        stacked_channels = torch.stack([self.cut_bords(batch[key], self.torch_model.cut_border_pix_input) \\\n",
    "                                        for key in self.input_features])\n",
    "        transform = torch.permute(stacked_channels, (1,0,2,3)).to(torch.float32)\n",
    "        return transform\n",
    "    \n",
    "    def transform_target(self, batch) :\n",
    "        stacked_channels = torch.stack([self.cut_bords(batch[key], self.torch_model.cut_border_pix_output) \\\n",
    "                                        for key in self.output_features])\n",
    "        transform = torch.permute(stacked_channels, (1,0,2,3)).to(torch.float32)\n",
    "        return transform\n",
    "    \n",
    "    def transform_mask(self, batch) : \n",
    "        nb_of_border_pix = self.torch_model.cut_border_pix_output\n",
    "        if nb_of_border_pix is None :\n",
    "            return batch['eroded_mask']\n",
    "        else :\n",
    "            return batch['eroded_mask'][:, nb_of_border_pix:-nb_of_border_pix, nb_of_border_pix:-nb_of_border_pix] \n",
    "\n",
    "    def evaluate_tensor_metrics_with_mask(self, metrics, mask, truth, model_output, reduction='mean') :\n",
    "        if (len(model_output.shape) == 3) : # 1 feature (1 channel) - 3D tensor\n",
    "            batch_len, output_h, output_w = model_output.shape  \n",
    "            valid_mask_counts = torch.count_nonzero(mask)\n",
    "            \n",
    "        if (len(model_output.shape) == 4) : # 4D tensor [N,C,H,W]\n",
    "            batch_len, nb_of_channels, output_h, output_w = model_output.shape  \n",
    "            valid_mask_counts = torch.count_nonzero(mask)*nb_of_channels\n",
    "            mask = mask[:,None,:,:]\n",
    "            \n",
    "        if (reduction=='none') : \n",
    "            return metrics(model_output*mask, truth*mask, reduction='none')\n",
    "    \n",
    "        total_metrics = metrics(model_output*mask, truth*mask, reduction='sum')\n",
    "        if (reduction=='mean') : \n",
    "            return (total_metrics/valid_mask_counts)\n",
    "        if (reduction=='sum') : \n",
    "            return (total_metrics)\n",
    "        \n",
    "    def training_step(self, batch, batch_idx) :\n",
    "        x = self.transform_input(batch)\n",
    "        y_true = self.transform_target(batch)\n",
    "        mask = self.transform_mask(batch)\n",
    "        \n",
    "        y_model = self.torch_model(x)\n",
    "        loss_val = self.evaluate_tensor_metrics_with_mask(self.loss, mask, y_model, y_true)  \n",
    "        self.log_dict({'loss_train' : loss_val}, on_step=False, on_epoch=True)\n",
    "        return loss_val\n",
    "\n",
    "    # validation logics (is evaluated during the training, but the data is not used to the optimization loop)\n",
    "    def validation_step(self, batch, batch_idx) :\n",
    "        x = self.transform_input(batch)\n",
    "        y_true = self.transform_target(batch)\n",
    "        mask = self.transform_mask(batch)\n",
    "        y_model = self.torch_model(x)\n",
    "        \n",
    "        loss_val = self.evaluate_tensor_metrics_with_mask(self.loss, mask, y_model, y_true)  \n",
    "        first_layer_weights = list(self.torch_model.__dict__['_modules'].values())[0].weight\n",
    "        self.log_dict({'loss_val' : loss_val,\n",
    "                      'first_weight' : np.array(first_layer_weights.cpu()).flat[0]}, on_step=False, on_epoch=True) \n",
    "    \n",
    "    # gives model output in a form of a dictionary of batches of 2d fields\n",
    "    def predict_step(self, batch, batch_idx, dataloader_idx) :\n",
    "        x = self.transform_input(batch)\n",
    "        \n",
    "        output_4d_tensor = self.torch_model(x)\n",
    "        batch_len, nb_of_channels, output_h, output_w = output_4d_tensor.shape\n",
    "            \n",
    "        # construct the dictionary of the predicted features by decomposing the channels in the 4d torch tensor\n",
    "        pred = dict()\n",
    "        for i, feature in enumerate(self.output_features) :\n",
    "            # 1 feature = 1 channel of 4D tensor\n",
    "            pred[feature] = output_4d_tensor[:, i, :, :]\n",
    "            # if some outputs are normalized then compute also result in the restored units (not normalized)\n",
    "            if feature.startswith('normalized_') :\n",
    "                not_normalized_feature = feature.replace(\"normalized_\", \"\")\n",
    "                pred[not_normalized_feature] = PyLiDataModule.tensor_restore_units(pred[feature], batch, not_normalized_feature)\n",
    "                \n",
    "        for i, feature in enumerate(self.list_of_features_to_predict):\n",
    "            pred['mask'] = batch['eroded_mask']\n",
    "            pred[feature+'_masked'] = self.expand_to_bords(pred[feature], self.torch_model.cut_border_pix_output)\n",
    "            pred[feature+'_masked'] = pred[feature+'_masked'].where(pred['mask'], torch.ones_like(pred[feature+'_masked'])*np.nan)\n",
    "        return pred \n",
    "    \n",
    "    # testing logic - to evaluate the model after training\n",
    "    def test_step(self, batch, batch_idx, dataloader_idx) :\n",
    "        pred = self.predict_step(batch, batch_idx, dataloader_idx)\n",
    "        mask = self.transform_mask(batch)\n",
    "        \n",
    "        test_dict = dict({'loss_val' : dict(), 'loss_grad' : dict(), 'corr_coef' : dict(), 'corr_coef_grad' : dict()})\n",
    "        dict_for_log = dict()\n",
    "        for i, feature in enumerate(self.list_of_features_to_predict) :\n",
    "            truth = self.cut_bords(batch[feature], self.torch_model.cut_border_pix_output)\n",
    "            model_output = pred[feature]\n",
    "            \n",
    "            test_dict['loss_val'][feature] = self.evaluate_tensor_metrics_with_mask(torch.nn.functional.mse_loss, mask, \\\n",
    "                                                                                    model_output, truth, reduction='mean')\n",
    "            test_dict['corr_coef'][feature] = torch.corrcoef(torch.vstack((torch.flatten(model_output).view(1,-1), \\\n",
    "                                                              torch.flatten(truth).view(1,-1))))[1,0]\n",
    "            # metrics on horizontal gradients\n",
    "            model_output_grad = finite_diffs_sqr_2d_array(model_output, dim_x=2, dim_y=1)\n",
    "            truth_grad = finite_diffs_sqr_2d_array(truth, dim_x=2, dim_y=1)\n",
    "            test_dict['loss_grad'][feature] = self.evaluate_tensor_metrics_with_mask(torch.nn.functional.mse_loss, mask[:,1:-1,1:-1], \\\n",
    "                                                                         model_output_grad, \\\n",
    "                                                                         truth_grad, reduction='mean')\n",
    "            test_dict['corr_coef_grad'][feature] = torch.corrcoef(torch.vstack((torch.flatten(model_output_grad).view(1,-1), \\\n",
    "                                                              torch.flatten(truth_grad).view(1,-1))))[1,0]\n",
    "            for metrics in list(test_dict.keys()) : \n",
    "                dict_for_log.update({(metrics+'_'+feature) : test_dict[metrics][feature]})\n",
    "        self.log_dict(dict_for_log)\n",
    "\n",
    "    def configure_optimizers(self) :\n",
    "        optimizer = self.optimizer(self.parameters(), lr=self.learning_rate)\n",
    "        return optimizer"
   ]
  },
  {
   "cell_type": "markdown",
   "id": "84c2688a-8f14-4e6e-824d-62651f7150de",
   "metadata": {},
   "source": [
    "# Torch models"
   ]
  },
  {
   "cell_type": "markdown",
   "id": "f14bb259-0f0b-4336-8e7a-21a97ef8ec59",
   "metadata": {},
   "source": [
    "## Linear regression"
   ]
  },
  {
   "cell_type": "markdown",
   "id": "80878451-ff84-4863-a4d1-1fa73a07ea01",
   "metadata": {},
   "source": [
    " Torch analog of the deterministic parametrization - linear regreaaion with only 1 parameter aimig to find coefficient $c$ in the parametrization of the form :\n",
    " $$ \\sigma_T^2 \\approx c |\\delta \\textbf{x} \\cdot \\nabla T|^2 $$\n",
    " where gradient norm is approximated by central finite difference scheme: \n",
    " $$ |\\delta \\textbf{x} \\cdot \\nabla T|^2 = \\frac{1}{4} \\big[ T(x+\\delta x,y) - T(x-\\delta x, y) \\big]^2 + \\frac{1}{4} \\big[ T(x,y+\\delta y) - T(x, y-\\delta y) \\big]^2 $$"
   ]
  },
  {
   "cell_type": "code",
   "execution_count": 20,
   "id": "0408a7a5-d9ad-45dd-87c3-a6f860bec278",
   "metadata": {},
   "outputs": [],
   "source": [
    "class lin_regr_model(torch.nn.Module):\n",
    "    def __init__(self, nb_of_input_features, nb_of_output_features):\n",
    "        super().__init__()\n",
    "        self.nb_of_input_features = nb_of_input_features\n",
    "        self.nb_of_output_features = nb_of_output_features\n",
    "        \n",
    "        self.cut_border_pix_output = None\n",
    "        self.cut_border_pix_input = None\n",
    "        \n",
    "        self.lin1 = torch.nn.Linear(self.nb_of_input_features, self.nb_of_output_features, bias=False)\n",
    "        \n",
    "        # initialization \n",
    "        self.lin1.weight.data = torch.Tensor([[0.1]])\n",
    "\n",
    "    def forward(self, x):\n",
    "        batch_len, nb_of_channels, output_h, output_w = x.shape\n",
    "        \n",
    "        # first split the input 4D torch tensor into individual pixels (equivalent to patches of size 1x1)\n",
    "        res = torch.nn.functional.unfold(x, kernel_size=1, dilation=1, padding=0, stride=1) #[N,C,HxW]\n",
    "        res = torch.permute(res, dims=(0,2,1))  #[N,HxW,C]\n",
    "        res = torch.flatten(res, end_dim=1).to(torch.float32)  #[NxHxW,C]\n",
    "        \n",
    "        # perform linear regression\n",
    "        res = self.lin1(res)\n",
    "        \n",
    "        # reshape the model output back to a 4D torch tensor\n",
    "        res = res.unflatten(dim=0, sizes=[batch_len,-1])  #[N,HxW,C]\n",
    "        res = torch.permute(res,dims=(0,2,1))     # [N,C,HxW]\n",
    "        res = torch.nn.functional.fold(res, output_size=(output_h,output_w), kernel_size=1, dilation=1, padding=0, stride=1) # [N,C,H,W]\n",
    "\n",
    "        return res"
   ]
  },
  {
   "cell_type": "markdown",
   "id": "5966eade-fc65-48fc-8233-ae5dc755b296",
   "metadata": {},
   "source": [
    "## FCNN by patch"
   ]
  },
  {
   "cell_type": "markdown",
   "id": "6f8d7fb6-4c03-40c0-9c0a-3fab3a40fb0f",
   "metadata": {},
   "source": [
    "The torch class describing a model that treats the inputs/outputs by patches of pixels. "
   ]
  },
  {
   "cell_type": "code",
   "execution_count": 21,
   "id": "9ca64492-abe7-4de7-bb19-56bc3b56e92d",
   "metadata": {},
   "outputs": [],
   "source": [
    "class FCNN(torch.nn.Module):\n",
    "    def __init__(self, nb_of_input_features, nb_of_output_features, input_patch_size, output_patch_size, int_layer_width=10):\n",
    "        super().__init__()\n",
    "        self.input_patch_size = input_patch_size\n",
    "        self.output_patch_size = output_patch_size\n",
    "        \n",
    "        self.lin1 = torch.nn.Linear(nb_of_input_features*input_patch_size**2, int_layer_width, bias=True)\n",
    "        self.lin2 = torch.nn.Linear(int_layer_width, int_layer_width, bias=True)\n",
    "        self.lin3 = torch.nn.Linear(int_layer_width, nb_of_output_features*output_patch_size**2, bias=True)\n",
    "        \n",
    "        self.cut_border_pix_output = self.input_patch_size//2 - self.output_patch_size//2\n",
    "        if (self.cut_border_pix_output < 1) :\n",
    "            self.cut_border_pix_output = None\n",
    "        self.cut_border_pix_input = None\n",
    "\n",
    "    def forward(self, x):\n",
    "        batch_len, nb_of_channels = x.shape[0:2]\n",
    "        output_h = x.shape[2]-2*(self.cut_border_pix_output or 0)\n",
    "        output_w = x.shape[3]-2*(self.cut_border_pix_output or 0)\n",
    "        \n",
    "        # create patches of size 'input_patch_size' and join them into batches (zero padding - will remove border pixels)\n",
    "        res = torch.nn.functional.unfold(x, kernel_size=self.input_patch_size, dilation=1, padding=0, stride=1) #[N,Cx9,Nb_of_patches]\n",
    "        res = torch.permute(res, dims=(0,2,1))   #[N,Nb_of_patches,Cx9]\n",
    "        res = torch.flatten(res, end_dim=1)      #[NxNb_of_patches,Cx9]\n",
    "        \n",
    "        # pass though the FCNN\n",
    "        res = self.lin1(res)\n",
    "        res = torch.nn.functional.relu(res)\n",
    "        res = self.lin2(res)\n",
    "        res = torch.nn.functional.relu(res)\n",
    "        res = self.lin3(res)\n",
    "        \n",
    "        # reshape the output patches back into a 4D torch tensor\n",
    "        res = res.unflatten(dim=0, sizes=(batch_len,-1))\n",
    "        res = torch.permute(res,dims=(0,2,1))\n",
    "        res = torch.nn.functional.fold(res, output_size=(output_h,output_w), \\\n",
    "                                       kernel_size=self.output_patch_size, dilation=1, padding=0, stride=1)\n",
    "        # compute the divider needed to get correct values in case of overlapping patches (will give mean over all overlapping patches)\n",
    "        mask_ones = torch.ones((1,1,output_h,output_w)).to(x.device)\n",
    "        divisor = torch.nn.functional.fold(torch.nn.functional.unfold(mask_ones, kernel_size=self.output_patch_size), \\\n",
    "                                           kernel_size=self.output_patch_size, output_size=(output_h,output_w))   \n",
    "        res = res/divisor.view(1,1,output_h,output_w)\n",
    "        \n",
    "        return res"
   ]
  },
  {
   "cell_type": "markdown",
   "id": "c295a794-14f0-4de5-a07e-a0ad238ed7f7",
   "metadata": {},
   "source": [
    "## CNN"
   ]
  },
  {
   "cell_type": "code",
   "execution_count": 22,
   "id": "bdaa2e39-a1cb-4212-862f-7f7716ce6bc1",
   "metadata": {},
   "outputs": [],
   "source": [
    "class CNN(torch.nn.Module):\n",
    "    def __init__(self, nb_of_input_features, nb_of_output_features, padding='same', padding_mode='replicate', kernel_size=3, int_layer_width=64):\n",
    "        super().__init__()\n",
    "        self.padding = padding\n",
    "        self.kernel_size = kernel_size\n",
    "        self.padding_mode = 'replicate'\n",
    "        \n",
    "        self.cut_border_pix_input = None\n",
    "        if self.padding == 'same' :\n",
    "            self.cut_border_pix_output = self.cut_border_pix_input\n",
    "        if self.padding == 'valid' :\n",
    "            self.cut_border_pix_output = (self.cut_border_pix_input or 0) + self.kernel_size//2\n",
    "        \n",
    "        self.conv1 = torch.nn.Conv2d(in_channels=nb_of_input_features, out_channels=int_layer_width, kernel_size=self.kernel_size, \\\n",
    "                                     padding=self.padding,  padding_mode=self.padding_mode) \n",
    "        self.conv2 = torch.nn.Conv2d(int_layer_width, int_layer_width, kernel_size=self.kernel_size, padding='same', padding_mode=self.padding_mode) \n",
    "        self.conv3 = torch.nn.Conv2d(int_layer_width, nb_of_output_features, kernel_size=self.kernel_size, padding='same', \\\n",
    "                                     padding_mode=self.padding_mode)\n",
    "\n",
    "    def forward(self, x):\n",
    "        batch_len = x.shape[0]\n",
    "        \n",
    "        res = self.conv1(x)\n",
    "        res = torch.nn.functional.relu(res)\n",
    "        res = self.conv2(res)\n",
    "        res = torch.nn.functional.relu(res)\n",
    "        res = self.conv3(res)\n",
    "        return res        "
   ]
  },
  {
   "cell_type": "markdown",
   "id": "da614535-daa6-4d43-bbdd-983e1a44596e",
   "metadata": {
    "tags": []
   },
   "source": [
    "# Run routine"
   ]
  },
  {
   "cell_type": "code",
   "execution_count": 23,
   "id": "60935856-0d9c-4b3b-bf45-cb16799915db",
   "metadata": {},
   "outputs": [],
   "source": [
    "log_directory='logs/'"
   ]
  },
  {
   "cell_type": "code",
   "execution_count": 24,
   "id": "7dd3ddf9-0678-4d29-b9c6-ef531bf96fb7",
   "metadata": {},
   "outputs": [],
   "source": [
    "class LogPredictionsCallback(Callback):\n",
    "    def __init__(self, logger, feature) :\n",
    "        super().__init__()\n",
    "        self.logger = logger\n",
    "        self.feature = feature\n",
    "    \n",
    "    def on_predict_batch_end(self, trainer, pl_module, outputs, batch, batch_idx, dataloader_idx):\n",
    "        \"\"\"Called when the test ends.\"\"\"\n",
    " \n",
    "        # `outputs` comes from `LightningModule.test_step`\n",
    "        # which corresponds to our model predictions in this case\n",
    "        if (batch_idx == 0):\n",
    "            index_sample = 0\n",
    "            fig, ax = plt.subplots(nrows=1, ncols=2, constrained_layout=True, figsize=(5.,2.5),sharex=True, sharey=True)\n",
    "            img = ax[0].imshow(batch['sosstsst_var'][index_sample,:,:].cpu(), cmap='ocean_r', origin='lower')\n",
    "            fig.colorbar(img, location='left', shrink=0.8)\n",
    "            ax[0].set(title='Truth')\n",
    "            color_min = img.colorbar.vmin\n",
    "            color_max = img.colorbar.vmax\n",
    "            current_cmap = img.cmap\n",
    "            current_cmap.set_bad(color='silver')\n",
    "            ax[1].imshow(outputs['sosstsst_var_masked'][index_sample,:,:].cpu(), cmap=current_cmap, \\\n",
    "                         vmin=color_min, vmax=color_max, origin='lower')\n",
    "            ax[1].set(title='Prediction')\n",
    "            fig.savefig('logs/figure.png')\n",
    "            self.logger.log_image(key=\"Example \"+str(dataloader_idx), images=[wandb.Image(\"logs/figure.png\")], \\\n",
    "                                  step=None)"
   ]
  },
  {
   "cell_type": "code",
   "execution_count": 25,
   "id": "038450a0-ba26-41ec-b917-1fbc8b9e671b",
   "metadata": {},
   "outputs": [],
   "source": [
    "def run_experiment() :\n",
    "    wandb.init()\n",
    "    wandb_logger = WandbLogger()\n",
    "    config = default_config\n",
    "    new_config = wandb.config\n",
    "    config['torch_model_params'].update({'int_layer_width' : new_config['int_layer_width'],\n",
    "                                        'input_patch_size' : new_config['input_patch_size'],\n",
    "                                        'output_patch_size' : new_config['output_patch_size']})\n",
    "    \n",
    "    torch_model = eval(config['torch_model'])(**config['torch_model_params'])\n",
    "    pylight_module = GenericPyLiModule(torch_model, **config['module_params'])\n",
    "    \n",
    "    # Callbacks\n",
    "    checkpoint_callback = ModelCheckpoint(monitor=\"loss_val\", save_last=True)    \n",
    "    early_stopping_callback = EarlyStopping(monitor=\"loss_val\", mode=\"min\")\n",
    "    log_predictions_callback = LogPredictionsCallback(wandb_logger, config['module_params']['output_features'][0])\n",
    "    \n",
    "    trainer = pl.Trainer(**config['training_params'], logger=wandb_logger, \n",
    "                     callbacks=[early_stopping_callback, checkpoint_callback, log_predictions_callback],\n",
    "                     accelerator='gpu', devices=(1 if torch.cuda.is_available() else None))  \n",
    "    trainer.fit(model = pylight_module, datamodule=eval(config['datamodule']))\n",
    "    #tests\n",
    "    test_datamodule = eval(config['datamodule'])\n",
    "    test_datamodule.setup(stage='test')\n",
    "    trainer.predict(model = pylight_module, dataloaders=test_datamodule.test_dataloader())\n",
    "    test_datamodule.setup(stage='test')\n",
    "    trainer.test(model = pylight_module, datamodule=test_datamodule)\n",
    "    #wandb.finish()"
   ]
  },
  {
   "cell_type": "markdown",
   "id": "68b095ec-02c5-44e0-b69d-93eea01b8c2e",
   "metadata": {},
   "source": [
    "# Sweep"
   ]
  },
  {
   "cell_type": "code",
   "execution_count": 26,
   "id": "b46fc7b6-ed10-481d-a8c7-4c2b73b0e1c2",
   "metadata": {},
   "outputs": [],
   "source": [
    "default_config = dict({'model_label' : 'FCNN_patch',\n",
    "                'version' : 'patch_in3_out1',\n",
    "                'torch_model' : 'FCNN',\n",
    "                'datamodule' : 'all_data',\n",
    "                'torch_model_params' : dict({'nb_of_input_features' : 1, \\\n",
    "                                            'nb_of_output_features' : 1, \\\n",
    "                                            'input_patch_size' : 3,\n",
    "                                            'output_patch_size' : 1, \n",
    "                                            'int_layer_width' : 10}),\n",
    "                'module_params' : dict({'input_features'  : ['sosstsst'],\n",
    "                                        'output_features'  : ['sosstsst_var'],\n",
    "                                        'loss' : torch.nn.functional.mse_loss,\n",
    "                                        'optimizer' : torch.optim.Adam,\n",
    "                                        'learning_rate' : 1e-4,}),\n",
    "                'training_params' : dict({'max_epochs' : 50,\n",
    "                                          'limit_train_batches' : 1.0})\n",
    "               })"
   ]
  },
  {
   "cell_type": "code",
   "execution_count": 27,
   "id": "44413d6e-ec85-423b-8e28-3af34dacdca8",
   "metadata": {},
   "outputs": [],
   "source": [
    "sweep_configuration = {\n",
    "    'method': 'grid',\n",
    "    'name': 'sweep_FCNN_width',\n",
    "    'metric': {'goal': 'minimize', 'name': 'loss_val'},\n",
    "    'parameters': \n",
    "    {\n",
    "        'int_layer_width': {'values': [10, 25, 50, 100]},\n",
    "        'input_patch_size' : {'values': [3, 5, 7]},\n",
    "        'output_patch_size' : {'values': [1, 3]}\n",
    "     }\n",
    "}"
   ]
  },
  {
   "cell_type": "code",
   "execution_count": 28,
   "id": "62ca9d47-b47e-484e-b387-fc9ff6fa4e3c",
   "metadata": {},
   "outputs": [],
   "source": [
    "# sweep_id = wandb.sweep(sweep=sweep_configuration, project='sweep_FCNN_width_and_patch_size')"
   ]
  },
  {
   "cell_type": "code",
   "execution_count": 29,
   "id": "30c20874-dd61-407c-b5b9-96e9f6ce297e",
   "metadata": {},
   "outputs": [],
   "source": [
    "# wandb.agent(sweep_id, function=run_experiment, count=24)"
   ]
  },
  {
   "cell_type": "code",
   "execution_count": 30,
   "id": "f5263410-40c7-4a99-983e-c6e06e9b794e",
   "metadata": {},
   "outputs": [],
   "source": [
    "# wandb.finish()"
   ]
  },
  {
   "cell_type": "markdown",
   "id": "e32bc9c5-30a5-433c-8666-6ee06ace07b4",
   "metadata": {},
   "source": [
    "# Sweep add"
   ]
  },
  {
   "cell_type": "code",
   "execution_count": 31,
   "id": "4074d63b-1f4d-4274-8351-e120a57fb096",
   "metadata": {},
   "outputs": [],
   "source": [
    "sweep_configuration2 = {\n",
    "    'method': 'grid',\n",
    "    'name': 'sweep_FCNN_width',\n",
    "    'metric': {'goal': 'minimize', 'name': 'loss_val'},\n",
    "    'parameters': \n",
    "    {\n",
    "        'int_layer_width': {'values': [1]},\n",
    "        'input_patch_size' : {'values': [1]},\n",
    "        'output_patch_size' : {'values': [1]}\n",
    "     }\n",
    "}"
   ]
  },
  {
   "cell_type": "code",
   "execution_count": 32,
   "id": "5aaf8465-7e7b-461c-9145-2766488b29de",
   "metadata": {},
   "outputs": [
    {
     "name": "stderr",
     "output_type": "stream",
     "text": [
      "Failed to detect the name of this notebook, you can set it manually with the WANDB_NOTEBOOK_NAME environment variable to enable code saving.\n"
     ]
    },
    {
     "name": "stdout",
     "output_type": "stream",
     "text": [
      "Create sweep with ID: 72kzwtm1\n",
      "Sweep URL: https://wandb.ai/anagorb63/sweep_FCNN_width_and_patch_size/sweeps/72kzwtm1\n"
     ]
    }
   ],
   "source": [
    "sweep_id2 = wandb.sweep(sweep=sweep_configuration2, project='sweep_FCNN_width_and_patch_size')"
   ]
  },
  {
   "cell_type": "code",
   "execution_count": 33,
   "id": "954ceff3-629b-4864-857f-290efbfddf6b",
   "metadata": {},
   "outputs": [
    {
     "name": "stderr",
     "output_type": "stream",
     "text": [
      "\u001b[34m\u001b[1mwandb\u001b[0m: Agent Starting Run: u7ivbxql with config:\n",
      "\u001b[34m\u001b[1mwandb\u001b[0m: \tinput_patch_size: 1\n",
      "\u001b[34m\u001b[1mwandb\u001b[0m: \tint_layer_width: 1\n",
      "\u001b[34m\u001b[1mwandb\u001b[0m: \toutput_patch_size: 1\n",
      "Failed to detect the name of this notebook, you can set it manually with the WANDB_NOTEBOOK_NAME environment variable to enable code saving.\n",
      "\u001b[34m\u001b[1mwandb\u001b[0m: Currently logged in as: \u001b[33managorb63\u001b[0m. Use \u001b[1m`wandb login --relogin`\u001b[0m to force relogin\n"
     ]
    },
    {
     "data": {
      "text/html": [
       "Tracking run with wandb version 0.13.10"
      ],
      "text/plain": [
       "<IPython.core.display.HTML object>"
      ]
     },
     "metadata": {},
     "output_type": "display_data"
    },
    {
     "data": {
      "text/html": [
       "Run data is saved locally in <code>/home/jovyan/oceanDataNotebooks/density_ML/wandb/run-20230221_160902-u7ivbxql</code>"
      ],
      "text/plain": [
       "<IPython.core.display.HTML object>"
      ]
     },
     "metadata": {},
     "output_type": "display_data"
    },
    {
     "data": {
      "text/html": [
       "Syncing run <strong><a href='https://wandb.ai/anagorb63/sweep_FCNN_width_and_patch_size/runs/u7ivbxql' target=\"_blank\">cool-sweep-1</a></strong> to <a href='https://wandb.ai/anagorb63/sweep_FCNN_width_and_patch_size' target=\"_blank\">Weights & Biases</a> (<a href='https://wandb.me/run' target=\"_blank\">docs</a>)<br/>Sweep page: <a href='https://wandb.ai/anagorb63/sweep_FCNN_width_and_patch_size/sweeps/72kzwtm1' target=\"_blank\">https://wandb.ai/anagorb63/sweep_FCNN_width_and_patch_size/sweeps/72kzwtm1</a>"
      ],
      "text/plain": [
       "<IPython.core.display.HTML object>"
      ]
     },
     "metadata": {},
     "output_type": "display_data"
    },
    {
     "data": {
      "text/html": [
       " View project at <a href='https://wandb.ai/anagorb63/sweep_FCNN_width_and_patch_size' target=\"_blank\">https://wandb.ai/anagorb63/sweep_FCNN_width_and_patch_size</a>"
      ],
      "text/plain": [
       "<IPython.core.display.HTML object>"
      ]
     },
     "metadata": {},
     "output_type": "display_data"
    },
    {
     "data": {
      "text/html": [
       " View sweep at <a href='https://wandb.ai/anagorb63/sweep_FCNN_width_and_patch_size/sweeps/72kzwtm1' target=\"_blank\">https://wandb.ai/anagorb63/sweep_FCNN_width_and_patch_size/sweeps/72kzwtm1</a>"
      ],
      "text/plain": [
       "<IPython.core.display.HTML object>"
      ]
     },
     "metadata": {},
     "output_type": "display_data"
    },
    {
     "data": {
      "text/html": [
       " View run at <a href='https://wandb.ai/anagorb63/sweep_FCNN_width_and_patch_size/runs/u7ivbxql' target=\"_blank\">https://wandb.ai/anagorb63/sweep_FCNN_width_and_patch_size/runs/u7ivbxql</a>"
      ],
      "text/plain": [
       "<IPython.core.display.HTML object>"
      ]
     },
     "metadata": {},
     "output_type": "display_data"
    },
    {
     "name": "stderr",
     "output_type": "stream",
     "text": [
      "/srv/conda/envs/notebook/lib/python3.10/site-packages/pytorch_lightning/loggers/wandb.py:396: UserWarning: There is a wandb run already in progress and newly created instances of `WandbLogger` will reuse this run. If this is not desired, call `wandb.finish()` before instantiating `WandbLogger`.\n",
      "  rank_zero_warn(\n",
      "GPU available: True (cuda), used: True\n",
      "TPU available: False, using: 0 TPU cores\n",
      "IPU available: False, using: 0 IPUs\n",
      "HPU available: False, using: 0 HPUs\n",
      "`Trainer(limit_train_batches=1.0)` was configured so 100% of the batches per epoch will be used..\n",
      "LOCAL_RANK: 0 - CUDA_VISIBLE_DEVICES: [0]\n",
      "\n",
      "  | Name        | Type | Params\n",
      "-------------------------------------\n",
      "0 | torch_model | FCNN | 6     \n",
      "-------------------------------------\n",
      "6         Trainable params\n",
      "0         Non-trainable params\n",
      "6         Total params\n",
      "0.000     Total estimated model params size (MB)\n"
     ]
    },
    {
     "data": {
      "application/vnd.jupyter.widget-view+json": {
       "model_id": "",
       "version_major": 2,
       "version_minor": 0
      },
      "text/plain": [
       "Sanity Checking: 0it [00:00, ?it/s]"
      ]
     },
     "metadata": {},
     "output_type": "display_data"
    },
    {
     "data": {
      "application/vnd.jupyter.widget-view+json": {
       "model_id": "b5e1ff2c62db447aa69db1712721aa17",
       "version_major": 2,
       "version_minor": 0
      },
      "text/plain": [
       "Training: 0it [00:00, ?it/s]"
      ]
     },
     "metadata": {},
     "output_type": "display_data"
    },
    {
     "data": {
      "application/vnd.jupyter.widget-view+json": {
       "model_id": "",
       "version_major": 2,
       "version_minor": 0
      },
      "text/plain": [
       "Validation: 0it [00:00, ?it/s]"
      ]
     },
     "metadata": {},
     "output_type": "display_data"
    },
    {
     "data": {
      "application/vnd.jupyter.widget-view+json": {
       "model_id": "",
       "version_major": 2,
       "version_minor": 0
      },
      "text/plain": [
       "Validation: 0it [00:00, ?it/s]"
      ]
     },
     "metadata": {},
     "output_type": "display_data"
    },
    {
     "data": {
      "application/vnd.jupyter.widget-view+json": {
       "model_id": "",
       "version_major": 2,
       "version_minor": 0
      },
      "text/plain": [
       "Validation: 0it [00:00, ?it/s]"
      ]
     },
     "metadata": {},
     "output_type": "display_data"
    },
    {
     "data": {
      "application/vnd.jupyter.widget-view+json": {
       "model_id": "",
       "version_major": 2,
       "version_minor": 0
      },
      "text/plain": [
       "Validation: 0it [00:00, ?it/s]"
      ]
     },
     "metadata": {},
     "output_type": "display_data"
    },
    {
     "data": {
      "application/vnd.jupyter.widget-view+json": {
       "model_id": "",
       "version_major": 2,
       "version_minor": 0
      },
      "text/plain": [
       "Validation: 0it [00:00, ?it/s]"
      ]
     },
     "metadata": {},
     "output_type": "display_data"
    },
    {
     "data": {
      "application/vnd.jupyter.widget-view+json": {
       "model_id": "",
       "version_major": 2,
       "version_minor": 0
      },
      "text/plain": [
       "Validation: 0it [00:00, ?it/s]"
      ]
     },
     "metadata": {},
     "output_type": "display_data"
    },
    {
     "data": {
      "application/vnd.jupyter.widget-view+json": {
       "model_id": "",
       "version_major": 2,
       "version_minor": 0
      },
      "text/plain": [
       "Validation: 0it [00:00, ?it/s]"
      ]
     },
     "metadata": {},
     "output_type": "display_data"
    },
    {
     "data": {
      "application/vnd.jupyter.widget-view+json": {
       "model_id": "",
       "version_major": 2,
       "version_minor": 0
      },
      "text/plain": [
       "Validation: 0it [00:00, ?it/s]"
      ]
     },
     "metadata": {},
     "output_type": "display_data"
    },
    {
     "data": {
      "application/vnd.jupyter.widget-view+json": {
       "model_id": "",
       "version_major": 2,
       "version_minor": 0
      },
      "text/plain": [
       "Validation: 0it [00:00, ?it/s]"
      ]
     },
     "metadata": {},
     "output_type": "display_data"
    },
    {
     "data": {
      "application/vnd.jupyter.widget-view+json": {
       "model_id": "",
       "version_major": 2,
       "version_minor": 0
      },
      "text/plain": [
       "Validation: 0it [00:00, ?it/s]"
      ]
     },
     "metadata": {},
     "output_type": "display_data"
    },
    {
     "data": {
      "application/vnd.jupyter.widget-view+json": {
       "model_id": "",
       "version_major": 2,
       "version_minor": 0
      },
      "text/plain": [
       "Validation: 0it [00:00, ?it/s]"
      ]
     },
     "metadata": {},
     "output_type": "display_data"
    },
    {
     "data": {
      "application/vnd.jupyter.widget-view+json": {
       "model_id": "",
       "version_major": 2,
       "version_minor": 0
      },
      "text/plain": [
       "Validation: 0it [00:00, ?it/s]"
      ]
     },
     "metadata": {},
     "output_type": "display_data"
    },
    {
     "data": {
      "application/vnd.jupyter.widget-view+json": {
       "model_id": "",
       "version_major": 2,
       "version_minor": 0
      },
      "text/plain": [
       "Validation: 0it [00:00, ?it/s]"
      ]
     },
     "metadata": {},
     "output_type": "display_data"
    },
    {
     "data": {
      "application/vnd.jupyter.widget-view+json": {
       "model_id": "",
       "version_major": 2,
       "version_minor": 0
      },
      "text/plain": [
       "Validation: 0it [00:00, ?it/s]"
      ]
     },
     "metadata": {},
     "output_type": "display_data"
    },
    {
     "data": {
      "application/vnd.jupyter.widget-view+json": {
       "model_id": "",
       "version_major": 2,
       "version_minor": 0
      },
      "text/plain": [
       "Validation: 0it [00:00, ?it/s]"
      ]
     },
     "metadata": {},
     "output_type": "display_data"
    },
    {
     "data": {
      "application/vnd.jupyter.widget-view+json": {
       "model_id": "",
       "version_major": 2,
       "version_minor": 0
      },
      "text/plain": [
       "Validation: 0it [00:00, ?it/s]"
      ]
     },
     "metadata": {},
     "output_type": "display_data"
    },
    {
     "data": {
      "application/vnd.jupyter.widget-view+json": {
       "model_id": "",
       "version_major": 2,
       "version_minor": 0
      },
      "text/plain": [
       "Validation: 0it [00:00, ?it/s]"
      ]
     },
     "metadata": {},
     "output_type": "display_data"
    },
    {
     "data": {
      "application/vnd.jupyter.widget-view+json": {
       "model_id": "",
       "version_major": 2,
       "version_minor": 0
      },
      "text/plain": [
       "Validation: 0it [00:00, ?it/s]"
      ]
     },
     "metadata": {},
     "output_type": "display_data"
    },
    {
     "data": {
      "application/vnd.jupyter.widget-view+json": {
       "model_id": "",
       "version_major": 2,
       "version_minor": 0
      },
      "text/plain": [
       "Validation: 0it [00:00, ?it/s]"
      ]
     },
     "metadata": {},
     "output_type": "display_data"
    },
    {
     "data": {
      "application/vnd.jupyter.widget-view+json": {
       "model_id": "",
       "version_major": 2,
       "version_minor": 0
      },
      "text/plain": [
       "Validation: 0it [00:00, ?it/s]"
      ]
     },
     "metadata": {},
     "output_type": "display_data"
    },
    {
     "data": {
      "application/vnd.jupyter.widget-view+json": {
       "model_id": "",
       "version_major": 2,
       "version_minor": 0
      },
      "text/plain": [
       "Validation: 0it [00:00, ?it/s]"
      ]
     },
     "metadata": {},
     "output_type": "display_data"
    },
    {
     "data": {
      "application/vnd.jupyter.widget-view+json": {
       "model_id": "",
       "version_major": 2,
       "version_minor": 0
      },
      "text/plain": [
       "Validation: 0it [00:00, ?it/s]"
      ]
     },
     "metadata": {},
     "output_type": "display_data"
    },
    {
     "data": {
      "application/vnd.jupyter.widget-view+json": {
       "model_id": "",
       "version_major": 2,
       "version_minor": 0
      },
      "text/plain": [
       "Validation: 0it [00:00, ?it/s]"
      ]
     },
     "metadata": {},
     "output_type": "display_data"
    },
    {
     "data": {
      "application/vnd.jupyter.widget-view+json": {
       "model_id": "",
       "version_major": 2,
       "version_minor": 0
      },
      "text/plain": [
       "Validation: 0it [00:00, ?it/s]"
      ]
     },
     "metadata": {},
     "output_type": "display_data"
    },
    {
     "data": {
      "application/vnd.jupyter.widget-view+json": {
       "model_id": "",
       "version_major": 2,
       "version_minor": 0
      },
      "text/plain": [
       "Validation: 0it [00:00, ?it/s]"
      ]
     },
     "metadata": {},
     "output_type": "display_data"
    },
    {
     "data": {
      "application/vnd.jupyter.widget-view+json": {
       "model_id": "",
       "version_major": 2,
       "version_minor": 0
      },
      "text/plain": [
       "Validation: 0it [00:00, ?it/s]"
      ]
     },
     "metadata": {},
     "output_type": "display_data"
    },
    {
     "data": {
      "application/vnd.jupyter.widget-view+json": {
       "model_id": "",
       "version_major": 2,
       "version_minor": 0
      },
      "text/plain": [
       "Validation: 0it [00:00, ?it/s]"
      ]
     },
     "metadata": {},
     "output_type": "display_data"
    },
    {
     "data": {
      "application/vnd.jupyter.widget-view+json": {
       "model_id": "",
       "version_major": 2,
       "version_minor": 0
      },
      "text/plain": [
       "Validation: 0it [00:00, ?it/s]"
      ]
     },
     "metadata": {},
     "output_type": "display_data"
    },
    {
     "data": {
      "application/vnd.jupyter.widget-view+json": {
       "model_id": "",
       "version_major": 2,
       "version_minor": 0
      },
      "text/plain": [
       "Validation: 0it [00:00, ?it/s]"
      ]
     },
     "metadata": {},
     "output_type": "display_data"
    },
    {
     "data": {
      "application/vnd.jupyter.widget-view+json": {
       "model_id": "",
       "version_major": 2,
       "version_minor": 0
      },
      "text/plain": [
       "Validation: 0it [00:00, ?it/s]"
      ]
     },
     "metadata": {},
     "output_type": "display_data"
    },
    {
     "data": {
      "application/vnd.jupyter.widget-view+json": {
       "model_id": "",
       "version_major": 2,
       "version_minor": 0
      },
      "text/plain": [
       "Validation: 0it [00:00, ?it/s]"
      ]
     },
     "metadata": {},
     "output_type": "display_data"
    },
    {
     "data": {
      "application/vnd.jupyter.widget-view+json": {
       "model_id": "",
       "version_major": 2,
       "version_minor": 0
      },
      "text/plain": [
       "Validation: 0it [00:00, ?it/s]"
      ]
     },
     "metadata": {},
     "output_type": "display_data"
    },
    {
     "data": {
      "application/vnd.jupyter.widget-view+json": {
       "model_id": "",
       "version_major": 2,
       "version_minor": 0
      },
      "text/plain": [
       "Validation: 0it [00:00, ?it/s]"
      ]
     },
     "metadata": {},
     "output_type": "display_data"
    },
    {
     "data": {
      "application/vnd.jupyter.widget-view+json": {
       "model_id": "",
       "version_major": 2,
       "version_minor": 0
      },
      "text/plain": [
       "Validation: 0it [00:00, ?it/s]"
      ]
     },
     "metadata": {},
     "output_type": "display_data"
    },
    {
     "data": {
      "application/vnd.jupyter.widget-view+json": {
       "model_id": "",
       "version_major": 2,
       "version_minor": 0
      },
      "text/plain": [
       "Validation: 0it [00:00, ?it/s]"
      ]
     },
     "metadata": {},
     "output_type": "display_data"
    },
    {
     "data": {
      "application/vnd.jupyter.widget-view+json": {
       "model_id": "",
       "version_major": 2,
       "version_minor": 0
      },
      "text/plain": [
       "Validation: 0it [00:00, ?it/s]"
      ]
     },
     "metadata": {},
     "output_type": "display_data"
    },
    {
     "name": "stderr",
     "output_type": "stream",
     "text": [
      "LOCAL_RANK: 0 - CUDA_VISIBLE_DEVICES: [0]\n"
     ]
    },
    {
     "data": {
      "application/vnd.jupyter.widget-view+json": {
       "model_id": "f573f58e211b4eb6a4577d1185b29832",
       "version_major": 2,
       "version_minor": 0
      },
      "text/plain": [
       "Predicting: 390it [00:00, ?it/s]"
      ]
     },
     "metadata": {},
     "output_type": "display_data"
    },
    {
     "name": "stderr",
     "output_type": "stream",
     "text": [
      "LOCAL_RANK: 0 - CUDA_VISIBLE_DEVICES: [0]\n"
     ]
    },
    {
     "data": {
      "application/vnd.jupyter.widget-view+json": {
       "model_id": "0b8964d67a87404f8794190f03b970ed",
       "version_major": 2,
       "version_minor": 0
      },
      "text/plain": [
       "Testing: 0it [00:00, ?it/s]"
      ]
     },
     "metadata": {},
     "output_type": "display_data"
    },
    {
     "data": {
      "text/html": [
       "<pre style=\"white-space:pre;overflow-x:auto;line-height:normal;font-family:Menlo,'DejaVu Sans Mono',consolas,'Courier New',monospace\">┏━━━━━━━━━━━━━━━━━━━━━━━━━━━┳━━━━━━━━━━━━━━━━━━━━━━━━━━━━┳━━━━━━━━━━━━━━━━━━━━━━━━━━━┳━━━━━━━━━━━━━━━━━━━━━━━━━━━━┓\n",
       "┃<span style=\"font-weight: bold\">        Test metric        </span>┃<span style=\"font-weight: bold\">        DataLoader 0        </span>┃<span style=\"font-weight: bold\">       DataLoader 1        </span>┃<span style=\"font-weight: bold\">        DataLoader 2        </span>┃\n",
       "┡━━━━━━━━━━━━━━━━━━━━━━━━━━━╇━━━━━━━━━━━━━━━━━━━━━━━━━━━━╇━━━━━━━━━━━━━━━━━━━━━━━━━━━╇━━━━━━━━━━━━━━━━━━━━━━━━━━━━┩\n",
       "│<span style=\"color: #008080; text-decoration-color: #008080\"> corr_coef_grad_sosstsst_… </span>│<span style=\"color: #800080; text-decoration-color: #800080\">            nan             </span>│<span style=\"color: #800080; text-decoration-color: #800080\">            nan            </span>│<span style=\"color: #800080; text-decoration-color: #800080\">            nan             </span>│\n",
       "│<span style=\"color: #008080; text-decoration-color: #008080\">  corr_coef_sosstsst_var   </span>│<span style=\"color: #800080; text-decoration-color: #800080\">   -1.742885729072441e-07   </span>│<span style=\"color: #800080; text-decoration-color: #800080\">  -2.072402480735036e-07   </span>│<span style=\"color: #800080; text-decoration-color: #800080\">  -1.5218936111338621e-09   </span>│\n",
       "│<span style=\"color: #008080; text-decoration-color: #008080\">  loss_grad_sosstsst_var   </span>│<span style=\"color: #800080; text-decoration-color: #800080\">     29.31307029724121      </span>│<span style=\"color: #800080; text-decoration-color: #800080\">    1.7772438526153564     </span>│<span style=\"color: #800080; text-decoration-color: #800080\">     1.7961771488189697     </span>│\n",
       "│<span style=\"color: #008080; text-decoration-color: #008080\">   loss_val_sosstsst_var   </span>│<span style=\"color: #800080; text-decoration-color: #800080\">     1.1645712852478027     </span>│<span style=\"color: #800080; text-decoration-color: #800080\">    0.25170737504959106    </span>│<span style=\"color: #800080; text-decoration-color: #800080\">    0.13402147591114044     </span>│\n",
       "└───────────────────────────┴────────────────────────────┴───────────────────────────┴────────────────────────────┘\n",
       "</pre>\n"
      ],
      "text/plain": [
       "┏━━━━━━━━━━━━━━━━━━━━━━━━━━━┳━━━━━━━━━━━━━━━━━━━━━━━━━━━━┳━━━━━━━━━━━━━━━━━━━━━━━━━━━┳━━━━━━━━━━━━━━━━━━━━━━━━━━━━┓\n",
       "┃\u001b[1m \u001b[0m\u001b[1m       Test metric       \u001b[0m\u001b[1m \u001b[0m┃\u001b[1m \u001b[0m\u001b[1m       DataLoader 0       \u001b[0m\u001b[1m \u001b[0m┃\u001b[1m \u001b[0m\u001b[1m      DataLoader 1       \u001b[0m\u001b[1m \u001b[0m┃\u001b[1m \u001b[0m\u001b[1m       DataLoader 2       \u001b[0m\u001b[1m \u001b[0m┃\n",
       "┡━━━━━━━━━━━━━━━━━━━━━━━━━━━╇━━━━━━━━━━━━━━━━━━━━━━━━━━━━╇━━━━━━━━━━━━━━━━━━━━━━━━━━━╇━━━━━━━━━━━━━━━━━━━━━━━━━━━━┩\n",
       "│\u001b[36m \u001b[0m\u001b[36mcorr_coef_grad_sosstsst_…\u001b[0m\u001b[36m \u001b[0m│\u001b[35m \u001b[0m\u001b[35m           nan            \u001b[0m\u001b[35m \u001b[0m│\u001b[35m \u001b[0m\u001b[35m           nan           \u001b[0m\u001b[35m \u001b[0m│\u001b[35m \u001b[0m\u001b[35m           nan            \u001b[0m\u001b[35m \u001b[0m│\n",
       "│\u001b[36m \u001b[0m\u001b[36m corr_coef_sosstsst_var  \u001b[0m\u001b[36m \u001b[0m│\u001b[35m \u001b[0m\u001b[35m  -1.742885729072441e-07  \u001b[0m\u001b[35m \u001b[0m│\u001b[35m \u001b[0m\u001b[35m -2.072402480735036e-07  \u001b[0m\u001b[35m \u001b[0m│\u001b[35m \u001b[0m\u001b[35m -1.5218936111338621e-09  \u001b[0m\u001b[35m \u001b[0m│\n",
       "│\u001b[36m \u001b[0m\u001b[36m loss_grad_sosstsst_var  \u001b[0m\u001b[36m \u001b[0m│\u001b[35m \u001b[0m\u001b[35m    29.31307029724121     \u001b[0m\u001b[35m \u001b[0m│\u001b[35m \u001b[0m\u001b[35m   1.7772438526153564    \u001b[0m\u001b[35m \u001b[0m│\u001b[35m \u001b[0m\u001b[35m    1.7961771488189697    \u001b[0m\u001b[35m \u001b[0m│\n",
       "│\u001b[36m \u001b[0m\u001b[36m  loss_val_sosstsst_var  \u001b[0m\u001b[36m \u001b[0m│\u001b[35m \u001b[0m\u001b[35m    1.1645712852478027    \u001b[0m\u001b[35m \u001b[0m│\u001b[35m \u001b[0m\u001b[35m   0.25170737504959106   \u001b[0m\u001b[35m \u001b[0m│\u001b[35m \u001b[0m\u001b[35m   0.13402147591114044    \u001b[0m\u001b[35m \u001b[0m│\n",
       "└───────────────────────────┴────────────────────────────┴───────────────────────────┴────────────────────────────┘\n"
      ]
     },
     "metadata": {},
     "output_type": "display_data"
    },
    {
     "data": {
      "text/html": [
       "<pre style=\"white-space:pre;overflow-x:auto;line-height:normal;font-family:Menlo,'DejaVu Sans Mono',consolas,'Courier New',monospace\">┏━━━━━━━━━━━━━━━━━━━━━━━━━━━┳━━━━━━━━━━━━━━━━━━━━━━━━━━━━┳━━━━━━━━━━━━━━━━━━━━━━━━━━━┳━━━━━━━━━━━━━━━━━━━━━━━━━━━━┓\n",
       "┃<span style=\"font-weight: bold\">        Test metric        </span>┃<span style=\"font-weight: bold\">        DataLoader 3        </span>┃<span style=\"font-weight: bold\">       DataLoader 4        </span>┃<span style=\"font-weight: bold\">        DataLoader 5        </span>┃\n",
       "┡━━━━━━━━━━━━━━━━━━━━━━━━━━━╇━━━━━━━━━━━━━━━━━━━━━━━━━━━━╇━━━━━━━━━━━━━━━━━━━━━━━━━━━╇━━━━━━━━━━━━━━━━━━━━━━━━━━━━┩\n",
       "│<span style=\"color: #008080; text-decoration-color: #008080\"> corr_coef_grad_sosstsst_… </span>│<span style=\"color: #800080; text-decoration-color: #800080\">            nan             </span>│<span style=\"color: #800080; text-decoration-color: #800080\">            nan            </span>│<span style=\"color: #800080; text-decoration-color: #800080\">            nan             </span>│\n",
       "│<span style=\"color: #008080; text-decoration-color: #008080\">  corr_coef_sosstsst_var   </span>│<span style=\"color: #800080; text-decoration-color: #800080\">  -1.3120961739332415e-07   </span>│<span style=\"color: #800080; text-decoration-color: #800080\">   2.641625655996904e-07   </span>│<span style=\"color: #800080; text-decoration-color: #800080\">   -1.568621001979409e-07   </span>│\n",
       "│<span style=\"color: #008080; text-decoration-color: #008080\">  loss_grad_sosstsst_var   </span>│<span style=\"color: #800080; text-decoration-color: #800080\">    0.05919262766838074     </span>│<span style=\"color: #800080; text-decoration-color: #800080\">  1.9091926333203446e-06   </span>│<span style=\"color: #800080; text-decoration-color: #800080\">   2.9727492801612243e-05   </span>│\n",
       "│<span style=\"color: #008080; text-decoration-color: #008080\">   loss_val_sosstsst_var   </span>│<span style=\"color: #800080; text-decoration-color: #800080\">    0.028679776936769485    </span>│<span style=\"color: #800080; text-decoration-color: #800080\">   0.007057145703583956    </span>│<span style=\"color: #800080; text-decoration-color: #800080\">    0.006472462322562933    </span>│\n",
       "└───────────────────────────┴────────────────────────────┴───────────────────────────┴────────────────────────────┘\n",
       "</pre>\n"
      ],
      "text/plain": [
       "┏━━━━━━━━━━━━━━━━━━━━━━━━━━━┳━━━━━━━━━━━━━━━━━━━━━━━━━━━━┳━━━━━━━━━━━━━━━━━━━━━━━━━━━┳━━━━━━━━━━━━━━━━━━━━━━━━━━━━┓\n",
       "┃\u001b[1m \u001b[0m\u001b[1m       Test metric       \u001b[0m\u001b[1m \u001b[0m┃\u001b[1m \u001b[0m\u001b[1m       DataLoader 3       \u001b[0m\u001b[1m \u001b[0m┃\u001b[1m \u001b[0m\u001b[1m      DataLoader 4       \u001b[0m\u001b[1m \u001b[0m┃\u001b[1m \u001b[0m\u001b[1m       DataLoader 5       \u001b[0m\u001b[1m \u001b[0m┃\n",
       "┡━━━━━━━━━━━━━━━━━━━━━━━━━━━╇━━━━━━━━━━━━━━━━━━━━━━━━━━━━╇━━━━━━━━━━━━━━━━━━━━━━━━━━━╇━━━━━━━━━━━━━━━━━━━━━━━━━━━━┩\n",
       "│\u001b[36m \u001b[0m\u001b[36mcorr_coef_grad_sosstsst_…\u001b[0m\u001b[36m \u001b[0m│\u001b[35m \u001b[0m\u001b[35m           nan            \u001b[0m\u001b[35m \u001b[0m│\u001b[35m \u001b[0m\u001b[35m           nan           \u001b[0m\u001b[35m \u001b[0m│\u001b[35m \u001b[0m\u001b[35m           nan            \u001b[0m\u001b[35m \u001b[0m│\n",
       "│\u001b[36m \u001b[0m\u001b[36m corr_coef_sosstsst_var  \u001b[0m\u001b[36m \u001b[0m│\u001b[35m \u001b[0m\u001b[35m -1.3120961739332415e-07  \u001b[0m\u001b[35m \u001b[0m│\u001b[35m \u001b[0m\u001b[35m  2.641625655996904e-07  \u001b[0m\u001b[35m \u001b[0m│\u001b[35m \u001b[0m\u001b[35m  -1.568621001979409e-07  \u001b[0m\u001b[35m \u001b[0m│\n",
       "│\u001b[36m \u001b[0m\u001b[36m loss_grad_sosstsst_var  \u001b[0m\u001b[36m \u001b[0m│\u001b[35m \u001b[0m\u001b[35m   0.05919262766838074    \u001b[0m\u001b[35m \u001b[0m│\u001b[35m \u001b[0m\u001b[35m 1.9091926333203446e-06  \u001b[0m\u001b[35m \u001b[0m│\u001b[35m \u001b[0m\u001b[35m  2.9727492801612243e-05  \u001b[0m\u001b[35m \u001b[0m│\n",
       "│\u001b[36m \u001b[0m\u001b[36m  loss_val_sosstsst_var  \u001b[0m\u001b[36m \u001b[0m│\u001b[35m \u001b[0m\u001b[35m   0.028679776936769485   \u001b[0m\u001b[35m \u001b[0m│\u001b[35m \u001b[0m\u001b[35m  0.007057145703583956   \u001b[0m\u001b[35m \u001b[0m│\u001b[35m \u001b[0m\u001b[35m   0.006472462322562933   \u001b[0m\u001b[35m \u001b[0m│\n",
       "└───────────────────────────┴────────────────────────────┴───────────────────────────┴────────────────────────────┘\n"
      ]
     },
     "metadata": {},
     "output_type": "display_data"
    },
    {
     "data": {
      "text/html": [
       "Waiting for W&B process to finish... <strong style=\"color:green\">(success).</strong>"
      ],
      "text/plain": [
       "<IPython.core.display.HTML object>"
      ]
     },
     "metadata": {},
     "output_type": "display_data"
    },
    {
     "data": {
      "application/vnd.jupyter.widget-view+json": {
       "model_id": "209f2b5be2d14021af2cbd1c92644577",
       "version_major": 2,
       "version_minor": 0
      },
      "text/plain": [
       "VBox(children=(Label(value='0.078 MB of 0.078 MB uploaded (0.000 MB deduped)\\r'), FloatProgress(value=1.0, max…"
      ]
     },
     "metadata": {},
     "output_type": "display_data"
    },
    {
     "data": {
      "text/html": [
       "<style>\n",
       "    table.wandb td:nth-child(1) { padding: 0 10px; text-align: left ; width: auto;} td:nth-child(2) {text-align: left ; width: 100%}\n",
       "    .wandb-row { display: flex; flex-direction: row; flex-wrap: wrap; justify-content: flex-start; width: 100% }\n",
       "    .wandb-col { display: flex; flex-direction: column; flex-basis: 100%; flex: 1; padding: 10px; }\n",
       "    </style>\n",
       "<div class=\"wandb-row\"><div class=\"wandb-col\"><h3>Run history:</h3><br/><table class=\"wandb\"><tr><td>corr_coef_sosstsst_var/dataloader_idx_0</td><td>▁</td></tr><tr><td>corr_coef_sosstsst_var/dataloader_idx_1</td><td>▁</td></tr><tr><td>corr_coef_sosstsst_var/dataloader_idx_2</td><td>▁</td></tr><tr><td>corr_coef_sosstsst_var/dataloader_idx_3</td><td>▁</td></tr><tr><td>corr_coef_sosstsst_var/dataloader_idx_4</td><td>▁</td></tr><tr><td>corr_coef_sosstsst_var/dataloader_idx_5</td><td>▁</td></tr><tr><td>epoch</td><td>▁▁▁▁▂▂▂▂▂▃▃▃▃▃▃▄▄▄▄▄▅▅▅▅▅▅▆▆▆▆▆▆▇▇▇▇▇███</td></tr><tr><td>first_weight</td><td>▁▁▁▁▁▁▁▁▁▁▁▁▁▁▁▁▁▁▁▁▁▁▁▁▁▁▁▁▁▁▁▁▁▁▁▁</td></tr><tr><td>loss_grad_sosstsst_var/dataloader_idx_0</td><td>▁</td></tr><tr><td>loss_grad_sosstsst_var/dataloader_idx_1</td><td>▁</td></tr><tr><td>loss_grad_sosstsst_var/dataloader_idx_2</td><td>▁</td></tr><tr><td>loss_grad_sosstsst_var/dataloader_idx_3</td><td>▁</td></tr><tr><td>loss_grad_sosstsst_var/dataloader_idx_4</td><td>▁</td></tr><tr><td>loss_grad_sosstsst_var/dataloader_idx_5</td><td>▁</td></tr><tr><td>loss_train</td><td>█▇▇▆▆▅▅▅▄▄▄▃▃▃▂▂▂▂▂▂▁▁▁▁▁▁▁▁▁▁▁▁▁▁▁▁</td></tr><tr><td>loss_val</td><td>█▇▇▆▆▅▅▅▄▄▃▃▃▃▂▂▂▂▂▂▁▁▁▁▁▁▁▁▁▁▁▁▁▁▁▁</td></tr><tr><td>loss_val_sosstsst_var/dataloader_idx_0</td><td>▁</td></tr><tr><td>loss_val_sosstsst_var/dataloader_idx_1</td><td>▁</td></tr><tr><td>loss_val_sosstsst_var/dataloader_idx_2</td><td>▁</td></tr><tr><td>loss_val_sosstsst_var/dataloader_idx_3</td><td>▁</td></tr><tr><td>loss_val_sosstsst_var/dataloader_idx_4</td><td>▁</td></tr><tr><td>loss_val_sosstsst_var/dataloader_idx_5</td><td>▁</td></tr><tr><td>trainer/global_step</td><td>▁▁▁▁▂▂▂▂▂▃▃▃▃▃▃▄▄▄▄▄▅▅▅▅▅▆▆▆▆▆▆▇▇▇▇▇████</td></tr></table><br/></div><div class=\"wandb-col\"><h3>Run summary:</h3><br/><table class=\"wandb\"><tr><td>corr_coef_grad_sosstsst_var/dataloader_idx_0</td><td>nan</td></tr><tr><td>corr_coef_grad_sosstsst_var/dataloader_idx_1</td><td>nan</td></tr><tr><td>corr_coef_grad_sosstsst_var/dataloader_idx_2</td><td>nan</td></tr><tr><td>corr_coef_grad_sosstsst_var/dataloader_idx_3</td><td>nan</td></tr><tr><td>corr_coef_grad_sosstsst_var/dataloader_idx_4</td><td>nan</td></tr><tr><td>corr_coef_grad_sosstsst_var/dataloader_idx_5</td><td>nan</td></tr><tr><td>corr_coef_sosstsst_var/dataloader_idx_0</td><td>-0.0</td></tr><tr><td>corr_coef_sosstsst_var/dataloader_idx_1</td><td>-0.0</td></tr><tr><td>corr_coef_sosstsst_var/dataloader_idx_2</td><td>-0.0</td></tr><tr><td>corr_coef_sosstsst_var/dataloader_idx_3</td><td>-0.0</td></tr><tr><td>corr_coef_sosstsst_var/dataloader_idx_4</td><td>0.0</td></tr><tr><td>corr_coef_sosstsst_var/dataloader_idx_5</td><td>-0.0</td></tr><tr><td>epoch</td><td>36</td></tr><tr><td>first_weight</td><td>0.07417</td></tr><tr><td>loss_grad_sosstsst_var/dataloader_idx_0</td><td>29.31307</td></tr><tr><td>loss_grad_sosstsst_var/dataloader_idx_1</td><td>1.77724</td></tr><tr><td>loss_grad_sosstsst_var/dataloader_idx_2</td><td>1.79618</td></tr><tr><td>loss_grad_sosstsst_var/dataloader_idx_3</td><td>0.05919</td></tr><tr><td>loss_grad_sosstsst_var/dataloader_idx_4</td><td>0.0</td></tr><tr><td>loss_grad_sosstsst_var/dataloader_idx_5</td><td>3e-05</td></tr><tr><td>loss_train</td><td>0.4894</td></tr><tr><td>loss_val</td><td>0.26316</td></tr><tr><td>loss_val_sosstsst_var/dataloader_idx_0</td><td>1.16457</td></tr><tr><td>loss_val_sosstsst_var/dataloader_idx_1</td><td>0.25171</td></tr><tr><td>loss_val_sosstsst_var/dataloader_idx_2</td><td>0.13402</td></tr><tr><td>loss_val_sosstsst_var/dataloader_idx_3</td><td>0.02868</td></tr><tr><td>loss_val_sosstsst_var/dataloader_idx_4</td><td>0.00706</td></tr><tr><td>loss_val_sosstsst_var/dataloader_idx_5</td><td>0.00647</td></tr><tr><td>trainer/global_step</td><td>14040</td></tr></table><br/></div></div>"
      ],
      "text/plain": [
       "<IPython.core.display.HTML object>"
      ]
     },
     "metadata": {},
     "output_type": "display_data"
    },
    {
     "data": {
      "text/html": [
       " View run <strong style=\"color:#cdcd00\">cool-sweep-1</strong> at: <a href='https://wandb.ai/anagorb63/sweep_FCNN_width_and_patch_size/runs/u7ivbxql' target=\"_blank\">https://wandb.ai/anagorb63/sweep_FCNN_width_and_patch_size/runs/u7ivbxql</a><br/>Synced 6 W&B file(s), 6 media file(s), 0 artifact file(s) and 0 other file(s)"
      ],
      "text/plain": [
       "<IPython.core.display.HTML object>"
      ]
     },
     "metadata": {},
     "output_type": "display_data"
    },
    {
     "data": {
      "text/html": [
       "Find logs at: <code>./wandb/run-20230221_160902-u7ivbxql/logs</code>"
      ],
      "text/plain": [
       "<IPython.core.display.HTML object>"
      ]
     },
     "metadata": {},
     "output_type": "display_data"
    },
    {
     "name": "stderr",
     "output_type": "stream",
     "text": [
      "\u001b[34m\u001b[1mwandb\u001b[0m: Sweep Agent: Waiting for job.\n",
      "\u001b[34m\u001b[1mwandb\u001b[0m: Sweep Agent: Exiting.\n"
     ]
    },
    {
     "data": {
      "image/png": "[encoded data removed]",
      "text/plain": [
       "<Figure size 500x250 with 3 Axes>"
      ]
     },
     "metadata": {},
     "output_type": "display_data"
    },
    {
     "data": {
      "image/png": "[encoded data removed]",
      "text/plain": [
       "<Figure size 500x250 with 3 Axes>"
      ]
     },
     "metadata": {},
     "output_type": "display_data"
    },
    {
     "data": {
      "image/png": "[encoded data removed]",
      "text/plain": [
       "<Figure size 500x250 with 3 Axes>"
      ]
     },
     "metadata": {},
     "output_type": "display_data"
    },
    {
     "data": {
      "image/png": "[encoded data removed]",
      "text/plain": [
       "<Figure size 500x250 with 3 Axes>"
      ]
     },
     "metadata": {},
     "output_type": "display_data"
    },
    {
     "data": {
      "image/png": "[encoded data removed]",
      "text/plain": [
       "<Figure size 500x250 with 3 Axes>"
      ]
     },
     "metadata": {},
     "output_type": "display_data"
    },
    {
     "data": {
      "image/png": "[encoded data removed]",
      "text/plain": [
       "<Figure size 500x250 with 3 Axes>"
      ]
     },
     "metadata": {},
     "output_type": "display_data"
    }
   ],
   "source": [
    "wandb.agent(sweep_id2, function=run_experiment, count=12)"
   ]
  },
  {
   "cell_type": "code",
   "execution_count": null,
   "id": "d52e352b-603d-4a2e-b19c-116addd30cd6",
   "metadata": {},
   "outputs": [],
   "source": []
  }
 ],
 "metadata": {
  "kernelspec": {
   "display_name": "Python 3 (ipykernel)",
   "language": "python",
   "name": "python3"
  },
  "language_info": {
   "codemirror_mode": {
    "name": "ipython",
    "version": 3
   },
   "file_extension": ".py",
   "mimetype": "text/x-python",
   "name": "python",
   "nbconvert_exporter": "python",
   "pygments_lexer": "ipython3",
   "version": "3.10.9"
  },
  "toc-autonumbering": false,
  "toc-showcode": false,
  "toc-showmarkdowntxt": false,
  "toc-showtags": false
 },
 "nbformat": 4,
 "nbformat_minor": 5
}
