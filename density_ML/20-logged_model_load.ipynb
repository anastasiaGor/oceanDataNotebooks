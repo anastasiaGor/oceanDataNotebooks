{
 "cells": [
  {
   "cell_type": "code",
   "execution_count": 1,
   "id": "630b52b2-d2e4-4979-a980-26fe78738df9",
   "metadata": {},
   "outputs": [
    {
     "name": "stdout",
     "output_type": "stream",
     "text": [
      "Note: you may need to restart the kernel to use updated packages.\n"
     ]
    }
   ],
   "source": [
    "pip install wandb -q"
   ]
  },
  {
   "cell_type": "code",
   "execution_count": 2,
   "id": "3e708e34-9d36-4a2f-a22d-3f18fa314909",
   "metadata": {},
   "outputs": [],
   "source": [
    "from dask.distributed import Client\n",
    "\n",
    "client = Client(\"tcp://127.0.0.1:44603\")"
   ]
  },
  {
   "cell_type": "markdown",
   "id": "ea54da1f-c0d2-4ed2-8dea-5f96a68745f0",
   "metadata": {},
   "source": [
    "# Import"
   ]
  },
  {
   "cell_type": "code",
   "execution_count": 3,
   "id": "e9303f7b-4813-46e3-9398-9b53578b9437",
   "metadata": {},
   "outputs": [],
   "source": [
    "from IPython.display import clear_output\n",
    "import torch\n",
    "import numpy as np\n",
    "import matplotlib.pyplot as plt\n",
    "from tqdm.autonotebook import tqdm, trange\n",
    "import xarray as xr\n",
    "from IPython import display\n",
    "import pytorch_lightning as pl\n",
    "from pytorch_lightning.loggers import WandbLogger\n",
    "import wandb\n",
    "import inspect\n",
    "import itertools\n",
    "import matplotlib.colors as mcolors\n",
    "import glob, os\n",
    "from random import randrange"
   ]
  },
  {
   "cell_type": "code",
   "execution_count": 4,
   "id": "cb00724f-4c87-407a-a426-1969274ebfb7",
   "metadata": {},
   "outputs": [
    {
     "name": "stdout",
     "output_type": "stream",
     "text": [
      "Linux-5.10.133+-x86_64-with-glibc2.35\n"
     ]
    }
   ],
   "source": [
    "import platform\n",
    "print(platform.platform())"
   ]
  },
  {
   "cell_type": "code",
   "execution_count": 5,
   "id": "94d6f76d-7224-49fb-8ea8-69e231ac84be",
   "metadata": {},
   "outputs": [
    {
     "name": "stdout",
     "output_type": "stream",
     "text": [
      "1.13.1.post200\n"
     ]
    }
   ],
   "source": [
    "print(torch.__version__)"
   ]
  },
  {
   "cell_type": "code",
   "execution_count": 6,
   "id": "09185b24-5c66-4f85-92d2-edd901e130b7",
   "metadata": {},
   "outputs": [],
   "source": [
    "import warnings\n",
    "\n",
    "warnings.simplefilter(action='ignore', category=FutureWarning)\n",
    "warnings.filterwarnings(\"ignore\", \".*Consider increasing the value of the `num_workers` argument*\")"
   ]
  },
  {
   "cell_type": "code",
   "execution_count": 7,
   "id": "4ac6ae3f-8287-49ea-88ea-0f83143a0476",
   "metadata": {},
   "outputs": [],
   "source": [
    "line_styles = ['solid', 'dashed', 'dotted', 'dashdot']"
   ]
  },
  {
   "cell_type": "markdown",
   "id": "751ea4e3-ee81-4e2b-b07f-7099893b75c0",
   "metadata": {},
   "source": [
    "# Data properties"
   ]
  },
  {
   "cell_type": "code",
   "execution_count": 8,
   "id": "4241ea57-8775-4386-8329-8d5c5453718c",
   "metadata": {},
   "outputs": [],
   "source": [
    "PERSISTENT_BUCKET = os.environ['PERSISTENT_BUCKET'] "
   ]
  },
  {
   "cell_type": "code",
   "execution_count": 9,
   "id": "14277ad7-8350-4756-a398-d9645f781f09",
   "metadata": {},
   "outputs": [],
   "source": [
    "data_dict=[dict() for i in range(6)]\n",
    "data_dict[0] = dict({'region' : '1', 'season' : 'fma', 'label' : 'GULFSTR FMA'})\n",
    "data_dict[1] = dict({'region' : '1', 'season' : 'aso', 'label' : 'GULFSTR ASO'})\n",
    "data_dict[2] = dict({'region' : '2', 'season' : 'fma', 'label' : 'MIDATL FMA'})\n",
    "data_dict[3] = dict({'region' : '2', 'season' : 'aso', 'label' : 'MIDATL ASO'})\n",
    "data_dict[4] = dict({'region' : '3', 'season' : 'fma', 'label' : 'WESTMED FMA'})\n",
    "data_dict[5] = dict({'region' : '3', 'season' : 'aso', 'label' : 'WESTMED ASO'})"
   ]
  },
  {
   "cell_type": "code",
   "execution_count": 10,
   "id": "878f2708-915a-41fc-b4ed-30cff8f87e43",
   "metadata": {},
   "outputs": [],
   "source": [
    "features_to_add_to_sample = ['sosstsst', 'sosstsst_var', 'diff_sosstsst_sqr', 'rho_ct_ct']"
   ]
  },
  {
   "cell_type": "code",
   "execution_count": 11,
   "id": "b5e40cb5-9ac5-4acc-89a9-bd81870f9cda",
   "metadata": {},
   "outputs": [],
   "source": [
    "h = 45 # height of images\n",
    "w = 40 # width of images"
   ]
  },
  {
   "cell_type": "code",
   "execution_count": 12,
   "id": "8c3db48a-360a-41a8-aeb4-7811d22d028e",
   "metadata": {},
   "outputs": [],
   "source": [
    "batch_size = 20"
   ]
  },
  {
   "cell_type": "markdown",
   "id": "7a404186-310e-42d9-acab-bd1f17d2a126",
   "metadata": {},
   "source": [
    "# Data classes"
   ]
  },
  {
   "cell_type": "markdown",
   "id": "fe641c3e-a3b8-4402-a55f-94346bd3fab9",
   "metadata": {},
   "source": [
    "## Pytorch dataset (from xarray to torch tensors)"
   ]
  },
  {
   "cell_type": "code",
   "execution_count": 13,
   "id": "16efd56f-6208-4fa3-b5e9-230764684a54",
   "metadata": {},
   "outputs": [],
   "source": [
    "# iterates over time snapshots in an xarray data file and transforms it into a dictionary of pytorch tensors, also performs normalization\n",
    "class torchDataset(torch.utils.data.Dataset):\n",
    "    \"\"\"Dataset of 2D maps of surface temperature, salinity\"\"\"\n",
    "\n",
    "    def __init__(self, xarray_dataset, transform=None):\n",
    "        self.transform = transform\n",
    "        full_data_file_len = len(xarray_dataset.t)\n",
    "        self.data = (xarray_dataset.isel(x_c=slice(None,w), y_c=slice(None,h))).load()\n",
    "        self.data_file_len = len(self.data.t)\n",
    "        \n",
    "    def __len__(self):\n",
    "        return self.data_file_len\n",
    "\n",
    "    def __getitem__(self, idx):\n",
    "        if torch.is_tensor(idx):\n",
    "            list_idx = idx.tolist()\n",
    "        else :\n",
    "            list_idx = idx\n",
    "        selected_time_frames = self.data.isel(t=list_idx)\n",
    "        \n",
    "        # create dictionary of a sample (a batch) containig different features in numpy format. \n",
    "        # This dictionary is an intermediate step, preparing xArray data for trasform into pytorch tensors\n",
    "        sample = dict()\n",
    "        sample['mask'] = (selected_time_frames['mask'].values).astype(bool)\n",
    "        #sample['mask'] = selected_time_frames['votemper'].where(not(selected_time_frames['votemper'].isnan())).values.astype(bool)\n",
    "        erosion_structure_matrix = np.array([(0,0,1,0,0), (0,1,1,1,0), (1,1,1,1,1), (0,1,1,1,0), (0,0,1,0,0)])\n",
    "        sample['eroded_mask'] = ndimage.binary_erosion(selected_time_frames['mask'].values, structure=erosion_structure_matrix)\n",
    "        for feature in features_to_add_to_sample :\n",
    "            sample['mean_'+feature] = self.data['mean_'+feature].values\n",
    "            sample['std_'+feature] = self.data['std_'+feature].values\n",
    "            sample[feature] = selected_time_frames[feature].values\n",
    "            sample['normalized_'+feature] = selected_time_frames['normalized_'+feature].values\n",
    "        if self.transform:\n",
    "            sample = self.transform(sample)\n",
    "        return sample"
   ]
  },
  {
   "cell_type": "code",
   "execution_count": 14,
   "id": "5d3b1afc-6b46-4ddc-907c-6c028a959939",
   "metadata": {},
   "outputs": [],
   "source": [
    "class ToTensor(object):\n",
    "    \"\"\"Convert each numpy array in sample to Tensors.\"\"\"\n",
    "\n",
    "    def __call__(self, sample):\n",
    "        transformed_sample=sample.copy()\n",
    "        for feature in features_to_add_to_sample :\n",
    "            transformed_sample[feature] = torch.tensor(sample[feature])\n",
    "        return transformed_sample"
   ]
  },
  {
   "cell_type": "markdown",
   "id": "0d0f87c0-6323-4f4e-8c7c-2b7b484058db",
   "metadata": {},
   "source": [
    "## Lightning data module (split trainig, validation and test data)"
   ]
  },
  {
   "cell_type": "markdown",
   "id": "5391569d-168f-4acb-9d27-cc1ce6ed53d9",
   "metadata": {},
   "source": [
    "A DataModule standardizes the training, val, test splits, data preparation and transforms. The main advantage is consistent data splits, data preparation and transforms across models, which enabeles simple procedure of comparison."
   ]
  },
  {
   "cell_type": "code",
   "execution_count": 15,
   "id": "f7b55d39-928a-47df-8135-f194744b4eb3",
   "metadata": {},
   "outputs": [],
   "source": [
    "class PyLiDataModule(pl.LightningDataModule):\n",
    "    def __init__(self, cloud_data_sets, batch_size) :\n",
    "        super().__init__()\n",
    "        self.cloud_data_sets = cloud_data_sets\n",
    "        self.batch_size = batch_size\n",
    "        self.list_of_xr_datasets = [xr.Dataset() for i in range(len(self.cloud_data_sets))]\n",
    "        self.list_of_torch_datasets = [{} for i in range(len(self.cloud_data_sets))]\n",
    "        \n",
    "    #def prepare_data(self) :\n",
    "        # preparation of data: mean and std of the dataset (to avoid batch avg), normalization and nan filling\n",
    "        for i in range(len(self.cloud_data_sets)) :\n",
    "            # read file\n",
    "            xr_dataset = xr.open_zarr(f'{PERSISTENT_BUCKET}/data'+str(i)+'.zarr', chunks='auto')[features_to_add_to_sample + ['mask']]\n",
    "            for feature in features_to_add_to_sample :\n",
    "                # reapply mask (to avoid issues with nans written in netcdf files)\n",
    "                xr_dataset[feature] = xr_dataset[feature].where(xr_dataset.mask>0)\n",
    "                # compute mean, median and std for each level (since temperature/salinity may change a lot with the depth)\n",
    "                xr_dataset['mean_'+feature] = (xr_dataset[feature].mean())\n",
    "                xr_dataset['std_'+feature] = (xr_dataset[feature].std())\n",
    "                # fill nans with mean (doesn't the number to be fillted in matter since they will be masked, \n",
    "                # but they have to be filled with any numbers so that nans do not propagate everywhere) \n",
    "                xr_dataset[feature] = xr_dataset[feature].fillna(xr_dataset['mean_'+feature])\n",
    "                # normalize data by shifting with mean value and dividing by std (mean and std are computed above for each vertical level)\n",
    "                xr_dataset['normalized_'+feature] = ((xr_dataset[feature]-xr_dataset['mean_'+feature])/xr_dataset['std_'+feature]) \n",
    "            # save result in a list\n",
    "            self.list_of_xr_datasets[i] = xr_dataset\n",
    "            self.list_of_torch_datasets[i] = torchDataset(xr_dataset, transform=ToTensor())\n",
    "            \n",
    "    def setup(self, stage: str) :\n",
    "        if (stage == 'fit') :\n",
    "        # takes first 60% of time snapshots for training\n",
    "            self.train_dataset = torch.utils.data.ConcatDataset([torch.utils.data.Subset(dataset, \\\n",
    "                                                                                     indices=range(0,int(0.6*len(dataset)))) \\\n",
    "                                                                                     for dataset in self.list_of_torch_datasets])\n",
    "        # takes last 20% of time snapshots for validation (we keep a gap to have validation data decorrelated from trainig data)\n",
    "            self.val_dataset = torch.utils.data.ConcatDataset([torch.utils.data.Subset(dataset, \\\n",
    "                                                                                     indices=range(int(0.8*len(dataset)),len(dataset))) \\\n",
    "                                                                                     for dataset in self.list_of_torch_datasets])\n",
    "        # same for test\n",
    "        if (stage == 'test') :\n",
    "            self.test_datasets = [torch.utils.data.Subset(dataset, indices=range(int(0.8*len(dataset)),len(dataset))) \\\n",
    "                                                               for dataset in self.list_of_torch_datasets]\n",
    "            \n",
    "                \n",
    "    def train_dataloader(self) :\n",
    "        # create training dataloadder from train_dataset with shuffling with given batch size\n",
    "        return torch.utils.data.DataLoader(self.train_dataset, \\\n",
    "                                           batch_size=self.batch_size, shuffle=True, drop_last=True, num_workers=0)\n",
    "    \n",
    "    def val_dataloader(self) :\n",
    "        # create training dataloadder from val_dataset without shuffling with the same batch size\n",
    "        return torch.utils.data.DataLoader(self.val_dataset, batch_size=self.batch_size, drop_last=True, num_workers=0) \n",
    "    \n",
    "    def test_dataloader(self) :\n",
    "        # create a LIST of dataloaders (a dataloader for each dataset) - to enable diagnostics in each region/season individually \n",
    "        # batch size is equal to the dataset length, i.e. there is ONLY 1 batch with all dataset inside \n",
    "        #(can be better since there is no optimisation in testing)\n",
    "        return [torch.utils.data.DataLoader(dataset, batch_size=len(dataset), drop_last=True, num_workers=0) \\\n",
    "                for dataset in self.test_datasets]\n",
    "    \n",
    "    def teardown(self, stage : str) :\n",
    "        if (stage == 'fit') :\n",
    "            # clean train and val datasets to free memory\n",
    "            del self.train_dataset, self.val_dataset\n",
    "        # if (stage == 'test') :\n",
    "        #     del self.test_datasets   \n",
    "        # if (stage == 'predict') :\n",
    "        #     del self.test_datasets   \n",
    "        \n",
    "    def tensor_restore_units(tensor, sample, reference_feature) :\n",
    "        return tensor*(sample['std_'+reference_feature][:,None,None])+sample['mean_'+reference_feature][:,None,None]\n",
    "\n",
    "    def tensor_normalize(tensor, sample, reference_feature) :\n",
    "        return (tensor-sample['mean_'+reference_feature][:,None,None])/(sample['std_'+reference_feature][:,None,None])"
   ]
  },
  {
   "cell_type": "markdown",
   "id": "c48780e7-a3d0-4f4a-9542-9b2993e79347",
   "metadata": {},
   "source": [
    "## Initialize datamodule"
   ]
  },
  {
   "cell_type": "code",
   "execution_count": 16,
   "id": "6aeb365d-6edd-47c0-8173-9cccf9273641",
   "metadata": {},
   "outputs": [
    {
     "name": "stdout",
     "output_type": "stream",
     "text": [
      "CPU times: user 4.21 s, sys: 1.29 s, total: 5.5 s\n",
      "Wall time: 20.8 s\n"
     ]
    }
   ],
   "source": [
    "%%time\n",
    "all_data = PyLiDataModule(data_dict, batch_size=batch_size)"
   ]
  },
  {
   "cell_type": "markdown",
   "id": "603fd524-f01c-4cec-a352-29deddad3869",
   "metadata": {},
   "source": [
    "# Grad-based loss function"
   ]
  },
  {
   "cell_type": "code",
   "execution_count": 17,
   "id": "97e96c0b-e2d6-44d2-85e6-a1f3736de932",
   "metadata": {},
   "outputs": [],
   "source": [
    "def central_diffs(dataArray, dim) :\n",
    "    res = 0.5*(torch.roll(dataArray, shifts=-1, dims=dim) - torch.roll(dataArray, shifts=1, dims=dim))\n",
    "    return res"
   ]
  },
  {
   "cell_type": "code",
   "execution_count": 18,
   "id": "e0c7025d-2a5d-4ecd-88d8-f391227abf1b",
   "metadata": {},
   "outputs": [],
   "source": [
    "def finite_diffs_sqr_2d_array(dataArray, dim_x, dim_y) :\n",
    "    res = torch.pow(central_diffs(dataArray, dim_x),2) + torch.pow(central_diffs(dataArray, dim_y),2)\n",
    "    # cut the borders of the image\n",
    "    res = torch.narrow(res, dim=dim_x, start=1, length=res.shape[dim_x]-2)\n",
    "    res = torch.narrow(res, dim=dim_y, start=1, length=res.shape[dim_y]-2)\n",
    "    return res"
   ]
  },
  {
   "cell_type": "code",
   "execution_count": 19,
   "id": "de543096-5958-4c5d-9a51-65df1de96cc9",
   "metadata": {},
   "outputs": [],
   "source": [
    "def gradient_based_MSEloss(outputs, targets, reduction='mean') :\n",
    "        if (len(outputs.shape) == 3) : # 3D cube (single feature)\n",
    "            dim_x = 2\n",
    "            dim_y = 1\n",
    "        if (len(outputs.shape) == 4) : # 3D cube (multiple features/channels)\n",
    "            dim_x = 3\n",
    "            dim_y = 2\n",
    "        outputs_grad = finite_diffs_sqr_2d_array(outputs, dim_x=dim_x, dim_y=dim_y)\n",
    "        targets_grad = finite_diffs_sqr_2d_array(targets, dim_x=dim_x, dim_y=dim_y)\n",
    "        \n",
    "        value_loss = torch.nn.functional.mse_loss(outputs, targets, reduction=reduction)\n",
    "        grad_loss = torch.nn.functional.mse_loss(outputs_grad, targets_grad, reduction=reduction)\n",
    "\n",
    "        return (value_loss+0.1*grad_loss)    "
   ]
  },
  {
   "cell_type": "markdown",
   "id": "d902bf8a-1532-4473-b9ab-f62877c4ccf6",
   "metadata": {
    "tags": []
   },
   "source": [
    "# Generic PyTorch Lightning Module"
   ]
  },
  {
   "cell_type": "markdown",
   "id": "1bd42796-5341-4c52-943d-171b547e6cc9",
   "metadata": {},
   "source": [
    "Logic of trainig, validation and test common for all models"
   ]
  },
  {
   "cell_type": "code",
   "execution_count": 20,
   "id": "9a1d0a14-922c-48a6-927a-a4595ffce148",
   "metadata": {},
   "outputs": [],
   "source": [
    "class GenericPyLiModule(pl.LightningModule):\n",
    "    def __init__(self, torch_model, input_features, output_features, loss, optimizer, learning_rate):\n",
    "        super().__init__()\n",
    "        self.torch_model = torch_model\n",
    "        self.input_features = input_features\n",
    "        self.output_features = output_features\n",
    "        self.loss = loss\n",
    "        self.optimizer = optimizer\n",
    "        self.learning_rate = learning_rate\n",
    "        \n",
    "        self.save_hyperparameters()\n",
    "        \n",
    "        ## initialization of weights\n",
    "        #torch_model.weight.data = torch.Tensor([1.0])\n",
    "\n",
    "        #construct list of names of features to be predicted\n",
    "        self.list_of_features_to_predict=list()\n",
    "        for i, feature in enumerate(self.output_features) :\n",
    "            self.list_of_features_to_predict.append(feature)\n",
    "            if feature.startswith('normalized_') :\n",
    "                # if model output is a normalized feature then compute also the non-normalized feature for the diagnostics \n",
    "                not_normalized_feature = feature.replace(\"normalized_\", \"\")\n",
    "                self.list_of_features_to_predict.append(not_normalized_feature)\n",
    "        \n",
    "    def cut_bords(self, tensor, nb_of_border_pix) :\n",
    "        if nb_of_border_pix is None :\n",
    "            return tensor\n",
    "        else :\n",
    "            return tensor[:, nb_of_border_pix:-nb_of_border_pix, nb_of_border_pix:-nb_of_border_pix] \n",
    "\n",
    "    def expand_to_bords(self, tensor, nb_of_border_pix) :\n",
    "        if nb_of_border_pix is None :\n",
    "            return tensor\n",
    "        else :\n",
    "            new_tensor = torch.empty((tensor.shape[0], tensor.shape[1]+2*nb_of_border_pix, tensor.shape[1]+2*nb_of_border_pix))\n",
    "            new_tensor[:, nb_of_border_pix:-nb_of_border_pix, nb_of_border_pix:-nb_of_border_pix] = tensor\n",
    "            return new_tensor\n",
    "        \n",
    "    def transform_input(self, batch) :\n",
    "        # transform dictionary issued from the data loader into 4D torch arrays of shape [N,C,H,W]\n",
    "        stacked_channels = torch.stack([self.cut_bords(batch[key], self.torch_model.cut_border_pix_input) for key in self.input_features])\n",
    "        transform = torch.permute(stacked_channels, (1,0,2,3)).to(torch.float32)\n",
    "        return transform\n",
    "    \n",
    "    def transform_target(self, batch) :\n",
    "        stacked_channels = torch.stack([self.cut_bords(batch[key], self.torch_model.cut_border_pix_output) for key in self.output_features])\n",
    "        transform = torch.permute(stacked_channels, (1,0,2,3)).to(torch.float32)\n",
    "        return transform\n",
    "    \n",
    "    def transform_mask(self, batch) : \n",
    "        nb_of_border_pix = self.torch_model.cut_border_pix_output\n",
    "        if nb_of_border_pix is None :\n",
    "            return batch['eroded_mask']\n",
    "        else :\n",
    "            return batch['eroded_mask'][:, nb_of_border_pix:-nb_of_border_pix, nb_of_border_pix:-nb_of_border_pix] \n",
    "\n",
    "    def evaluate_tensor_metrics_with_mask(self, metrics, mask, truth, model_output, reduction='mean') :\n",
    "        if (len(model_output.shape) == 3) : # 1 feature (1 channel) - 3D tensor\n",
    "            batch_len, output_h, output_w = model_output.shape  \n",
    "            valid_mask_counts = torch.count_nonzero(mask)\n",
    "            \n",
    "        if (len(model_output.shape) == 4) : # 4D tensor [N,C,H,W]\n",
    "            batch_len, nb_of_channels, output_h, output_w = model_output.shape  \n",
    "            valid_mask_counts = torch.count_nonzero(mask)*nb_of_channels\n",
    "            mask = mask[:,None,:,:]\n",
    "            \n",
    "        if (reduction=='none') : \n",
    "            return metrics(model_output*mask, truth*mask, reduction='none')\n",
    "    \n",
    "        total_metrics = metrics(model_output*mask, truth*mask, reduction='sum')\n",
    "        if (reduction=='mean') : \n",
    "            return (total_metrics/valid_mask_counts)\n",
    "        if (reduction=='sum') : \n",
    "            return (total_metrics)\n",
    "        \n",
    "    def training_step(self, batch, batch_idx) :\n",
    "        x = self.transform_input(batch)\n",
    "        y_true = self.transform_target(batch)\n",
    "        mask = self.transform_mask(batch)\n",
    "        \n",
    "        y_model = self.torch_model(x)\n",
    "        loss_val = self.evaluate_tensor_metrics_with_mask(self.loss, mask, y_model, y_true)  \n",
    "        self.log_dict({'loss_train' : loss_val}, on_step=False, on_epoch=True)\n",
    "        return loss_val\n",
    "\n",
    "    # validation logics (is evaluated during the training, but the data is not used to the optimization loop)\n",
    "    def validation_step(self, batch, batch_idx) :\n",
    "        x = self.transform_input(batch)\n",
    "        y_true = self.transform_target(batch)\n",
    "        mask = self.transform_mask(batch)\n",
    "        y_model = self.torch_model(x)\n",
    "        \n",
    "        loss_val = self.evaluate_tensor_metrics_with_mask(self.loss, mask, y_model, y_true)  \n",
    "        self.log_dict({'loss_val' : loss_val,\n",
    "                      'first_weight' : float(list(self.torch_model.__dict__['_modules'].values())[0].weight[0])}, on_step=False, on_epoch=True) \n",
    "    \n",
    "    # gives model output in a form of a dictionary of batches of 2d fields\n",
    "    def predict_step(self, batch, batch_idx, dataloader_idx) :\n",
    "        x = self.transform_input(batch)\n",
    "        \n",
    "        output_4d_tensor = self.torch_model(x)\n",
    "        batch_len, nb_of_channels, output_h, output_w = output_4d_tensor.shape\n",
    "        \n",
    "        mask = self.transform_mask(batch)\n",
    "        #mask = mask[:,None,:,:]\n",
    "            \n",
    "        # construct the dictionary of the predicted features by decomposing the channels in the 4d torch tensor\n",
    "        pred = dict()\n",
    "        for i, feature in enumerate(self.output_features) :\n",
    "            # 1 feature = 1 channel of 4D tensor\n",
    "            pred[feature] = output_4d_tensor[:, i, :, :]\n",
    "            # if some outputs are normalized then compute also result in the restored units (not normalized)\n",
    "            if feature.startswith('normalized_') :\n",
    "                not_normalized_feature = feature.replace(\"normalized_\", \"\")\n",
    "                pred[not_normalized_feature] = PyLiDataModule.tensor_restore_units(pred[feature], batch, not_normalized_feature)\n",
    "                \n",
    "        for i, feature in enumerate(self.list_of_features_to_predict):\n",
    "            pred['mask'] = mask\n",
    "            pred[feature+'_masked'] = pred[feature].where(mask, torch.ones_like(pred[feature])*np.nan)\n",
    "            pred[feature+'_masked'] = self.expand_to_bords(pred[feature+'_masked'], self.torch_model.cut_border_pix_output)\n",
    "        return pred \n",
    "    \n",
    "    # testing logic - to evaluate the model after training\n",
    "    def test_step(self, batch, batch_idx, dataloader_idx) :\n",
    "        pred = self.predict_step(batch, batch_idx, dataloader_idx)\n",
    "        mask = self.transform_mask(batch)\n",
    "        \n",
    "        test_dict = dict({'loss_val' : dict(), 'loss_grad' : dict(), 'corr_coef' : dict(), 'corr_coef_grad' : dict()})\n",
    "        dict_for_log = dict()\n",
    "        for i, feature in enumerate(self.list_of_features_to_predict) :\n",
    "            truth = self.cut_bords(batch[feature], self.torch_model.cut_border_pix_output)\n",
    "            model_output = pred[feature]\n",
    "            \n",
    "            test_dict['loss_val'][feature] = self.evaluate_tensor_metrics_with_mask(torch.nn.functional.mse_loss, mask, model_output, truth, reduction='mean')\n",
    "            test_dict['corr_coef'][feature] = torch.corrcoef(torch.vstack((torch.flatten(model_output).view(1,-1), \\\n",
    "                                                              torch.flatten(truth).view(1,-1))))[1,0]\n",
    "            # metrics on horizontal gradients\n",
    "            model_output_grad = finite_diffs_sqr_2d_array(model_output, dim_x=2, dim_y=1)\n",
    "            truth_grad = finite_diffs_sqr_2d_array(truth, dim_x=2, dim_y=1)\n",
    "            test_dict['loss_grad'][feature] = self.evaluate_tensor_metrics_with_mask(torch.nn.functional.mse_loss, mask[:,1:-1,1:-1], \\\n",
    "                                                                         model_output_grad, \\\n",
    "                                                                         truth_grad, reduction='mean')\n",
    "            test_dict['corr_coef_grad'][feature] = torch.corrcoef(torch.vstack((torch.flatten(model_output_grad).view(1,-1), \\\n",
    "                                                              torch.flatten(truth_grad).view(1,-1))))[1,0]\n",
    "            for metrics in list(test_dict.keys()) : \n",
    "                dict_for_log.update({(metrics+'_'+feature) : test_dict[metrics][feature]})\n",
    "        self.log_dict(dict_for_log)\n",
    "\n",
    "    def configure_optimizers(self) :\n",
    "        optimizer = self.optimizer(self.parameters(), lr=self.learning_rate)\n",
    "        return optimizer"
   ]
  },
  {
   "cell_type": "markdown",
   "id": "84c2688a-8f14-4e6e-824d-62651f7150de",
   "metadata": {},
   "source": [
    "# Torch models"
   ]
  },
  {
   "cell_type": "markdown",
   "id": "f14bb259-0f0b-4336-8e7a-21a97ef8ec59",
   "metadata": {},
   "source": [
    "## Linear regression"
   ]
  },
  {
   "cell_type": "markdown",
   "id": "80878451-ff84-4863-a4d1-1fa73a07ea01",
   "metadata": {},
   "source": [
    " Torch analog of the deterministic parametrization - linear regreaaion with only 1 parameter aimig to find coefficient $c$ in the parametrization of the form :\n",
    " $$ \\sigma_T^2 \\approx c |\\delta \\textbf{x} \\cdot \\nabla T|^2 $$\n",
    " where gradient norm is approximated by central finite difference scheme: \n",
    " $$ |\\delta \\textbf{x} \\cdot \\nabla T|^2 = \\frac{1}{4} \\big[ T(x+\\delta x,y) - T(x-\\delta x, y) \\big]^2 + \\frac{1}{4} \\big[ T(x,y+\\delta y) - T(x, y-\\delta y) \\big]^2 $$"
   ]
  },
  {
   "cell_type": "code",
   "execution_count": 21,
   "id": "0408a7a5-d9ad-45dd-87c3-a6f860bec278",
   "metadata": {},
   "outputs": [],
   "source": [
    "class lin_regr_model(torch.nn.Module):\n",
    "    def __init__(self, nb_of_input_features, nb_of_output_features):\n",
    "        super().__init__()\n",
    "        self.nb_of_input_features = nb_of_input_features\n",
    "        self.nb_of_output_features = nb_of_output_features\n",
    "        \n",
    "        self.cut_border_pix_output = None\n",
    "        self.cut_border_pix_input = None\n",
    "        \n",
    "        self.lin1 = torch.nn.Linear(self.nb_of_input_features, self.nb_of_output_features, bias=False)\n",
    "        \n",
    "        # initialization \n",
    "        self.lin1.weight.data = torch.Tensor([[0.1]])\n",
    "\n",
    "    def forward(self, x):\n",
    "        batch_len, nb_of_channels, output_h, output_w = x.shape\n",
    "        \n",
    "        # first split the input 4D torch tensor into individual pixels (equivalent to patches of size 1x1)\n",
    "        res = torch.nn.functional.unfold(x, kernel_size=1, dilation=1, padding=0, stride=1) #[N,C,HxW]\n",
    "        res = torch.permute(res, dims=(0,2,1))  #[N,HxW,C]\n",
    "        res = torch.flatten(res, end_dim=1).to(torch.float32)  #[NxHxW,C]\n",
    "        \n",
    "        # perform linear regression\n",
    "        res = self.lin1(res)\n",
    "        \n",
    "        # reshape the model output back to a 4D torch tensor\n",
    "        res = res.unflatten(dim=0, sizes=[batch_len,-1])  #[N,HxW,C]\n",
    "        res = torch.permute(res,dims=(0,2,1))     # [N,C,HxW]\n",
    "        res = torch.nn.functional.fold(res, output_size=(output_h,output_w), kernel_size=1, dilation=1, padding=0, stride=1) # [N,C,H,W]\n",
    "\n",
    "        return res"
   ]
  },
  {
   "cell_type": "markdown",
   "id": "5966eade-fc65-48fc-8233-ae5dc755b296",
   "metadata": {},
   "source": [
    "## FCNN by patch"
   ]
  },
  {
   "cell_type": "markdown",
   "id": "6f8d7fb6-4c03-40c0-9c0a-3fab3a40fb0f",
   "metadata": {},
   "source": [
    "The torch class describing a model that treats the inputs/outputs by patches of pixels. "
   ]
  },
  {
   "cell_type": "code",
   "execution_count": 22,
   "id": "9ca64492-abe7-4de7-bb19-56bc3b56e92d",
   "metadata": {},
   "outputs": [],
   "source": [
    "class FCNN(torch.nn.Module):\n",
    "    def __init__(self, nb_of_input_features, nb_of_output_features, input_patch_size, output_patch_size, int_layer_width=10):\n",
    "        super().__init__()\n",
    "        self.input_patch_size = input_patch_size\n",
    "        self.output_patch_size = output_patch_size\n",
    "        \n",
    "        self.lin1 = torch.nn.Linear(nb_of_input_features*input_patch_size**2, int_layer_width, bias=True)\n",
    "        self.lin2 = torch.nn.Linear(int_layer_width, int_layer_width, bias=True)\n",
    "        self.lin3 = torch.nn.Linear(int_layer_width, nb_of_output_features*output_patch_size**2, bias=True)\n",
    "        \n",
    "        self.cut_border_pix_output = self.input_patch_size//2 - self.output_patch_size//2\n",
    "        self.cut_border_pix_input = None\n",
    "\n",
    "    def forward(self, x):\n",
    "        batch_len, nb_of_channels = x.shape[0:2]\n",
    "        output_h = x.shape[2]-2*(self.cut_border_pix_output)\n",
    "        output_w = x.shape[3]-2*(self.cut_border_pix_output)\n",
    "        \n",
    "        # create patches of size 'input_patch_size' and join them into batches (zero padding - will remove border pixels)\n",
    "        res = torch.nn.functional.unfold(x, kernel_size=self.input_patch_size, dilation=1, padding=0, stride=1) #[N,Cx9,Nb_of_patches]\n",
    "        res = torch.permute(res, dims=(0,2,1))   #[N,Nb_of_patches,Cx9]\n",
    "        res = torch.flatten(res, end_dim=1)      #[NxNb_of_patches,Cx9]\n",
    "        \n",
    "        # pass though the FCNN\n",
    "        res = self.lin1(res)\n",
    "        res = torch.nn.functional.relu(res)\n",
    "        res = self.lin2(res)\n",
    "        res = torch.nn.functional.relu(res)\n",
    "        res = self.lin3(res)\n",
    "        \n",
    "        # reshape the output patches back into a 4D torch tensor\n",
    "        res = res.unflatten(dim=0, sizes=(batch_len,-1))\n",
    "        res = torch.permute(res,dims=(0,2,1))\n",
    "        res = torch.nn.functional.fold(res, output_size=(output_h,output_w), \\\n",
    "                                       kernel_size=self.output_patch_size, dilation=1, padding=0, stride=1)\n",
    "        # compute the divider needed to get correct values in case of overlapping patches (will give mean over all overlapping patches)\n",
    "        mask_ones = torch.ones((1,1,output_h,output_w)).to(x.device)\n",
    "        divisor = torch.nn.functional.fold(torch.nn.functional.unfold(mask_ones, kernel_size=self.output_patch_size), \\\n",
    "                                           kernel_size=self.output_patch_size, output_size=(output_h,output_w))   \n",
    "        res = res/divisor.view(1,1,output_h,output_w)\n",
    "        \n",
    "        return res"
   ]
  },
  {
   "cell_type": "markdown",
   "id": "c295a794-14f0-4de5-a07e-a0ad238ed7f7",
   "metadata": {},
   "source": [
    "## CNN"
   ]
  },
  {
   "cell_type": "code",
   "execution_count": 23,
   "id": "bdaa2e39-a1cb-4212-862f-7f7716ce6bc1",
   "metadata": {},
   "outputs": [],
   "source": [
    "class CNN(torch.nn.Module):\n",
    "    def __init__(self, nb_of_input_features, nb_of_output_features, padding='same', padding_mode='replicate', kernel_size=3, int_layer_width=64):\n",
    "        super().__init__()\n",
    "        self.padding = padding\n",
    "        self.kernel_size = kernel_size\n",
    "        self.padding_mode = 'replicate'\n",
    "        \n",
    "        self.cut_border_pix_input = None\n",
    "        if self.padding == 'same' :\n",
    "            self.cut_border_pix_output = self.cut_border_pix_input\n",
    "        if self.padding == 'valid' :\n",
    "            self.cut_border_pix_output = (self.cut_border_pix_input or 0) + self.kernel_size//2\n",
    "        \n",
    "        self.conv1 = torch.nn.Conv2d(in_channels=nb_of_input_features, out_channels=int_layer_width, kernel_size=self.kernel_size, \\\n",
    "                                     padding=self.padding,  padding_mode=self.padding_mode) \n",
    "        self.conv2 = torch.nn.Conv2d(int_layer_width, int_layer_width, kernel_size=self.kernel_size, padding='same', padding_mode=self.padding_mode) \n",
    "        self.conv3 = torch.nn.Conv2d(int_layer_width, nb_of_output_features, kernel_size=self.kernel_size, padding='same', \\\n",
    "                                     padding_mode=self.padding_mode)\n",
    "\n",
    "    def forward(self, x):\n",
    "        batch_len = x.shape[0]\n",
    "        \n",
    "        res = self.conv1(x)\n",
    "        res = torch.nn.functional.relu(res)\n",
    "        res = self.conv2(res)\n",
    "        res = torch.nn.functional.relu(res)\n",
    "        res = self.conv3(res)\n",
    "        return res        "
   ]
  },
  {
   "cell_type": "markdown",
   "id": "df421a72-431f-4d14-91ee-8d15c9543e51",
   "metadata": {},
   "source": [
    "# Load checkpoint"
   ]
  },
  {
   "cell_type": "code",
   "execution_count": 51,
   "id": "ee47c7d5-0ae1-4c78-86a8-ed33deb09587",
   "metadata": {},
   "outputs": [],
   "source": [
    "checkpoint_reference = \"anagorb63/SGS_temp_var/model-linear_reg_valueLoss:v0\""
   ]
  },
  {
   "cell_type": "code",
   "execution_count": 68,
   "id": "7bc86c9b-9c34-4915-8830-438defe77f79",
   "metadata": {},
   "outputs": [],
   "source": [
    "api = wandb.Api()"
   ]
  },
  {
   "cell_type": "code",
   "execution_count": 69,
   "id": "44abeb71-8252-404f-9c1e-9548b6dc91f0",
   "metadata": {},
   "outputs": [],
   "source": [
    "artifact = api.artifact('anagorb63/SGS_temp_var/model-linear_reg_valueLoss:v0')"
   ]
  },
  {
   "cell_type": "code",
   "execution_count": 71,
   "id": "3fab1a2e-0912-4527-9f8b-577a5f9c7b3f",
   "metadata": {},
   "outputs": [
    {
     "name": "stderr",
     "output_type": "stream",
     "text": [
      "\u001b[34m\u001b[1mwandb\u001b[0m:   1 of 1 files downloaded.  \n"
     ]
    }
   ],
   "source": [
    "artifact_dir = artifact.download()"
   ]
  },
  {
   "cell_type": "code",
   "execution_count": 72,
   "id": "d9c77310-2961-4140-9f7c-b46365df9cfc",
   "metadata": {},
   "outputs": [
    {
     "data": {
      "text/plain": [
       "'/home/jovyan/oceanDataNotebooks/density_ML/artifacts/model-linear_reg_valueLoss:v0'"
      ]
     },
     "execution_count": 72,
     "metadata": {},
     "output_type": "execute_result"
    }
   ],
   "source": [
    "os.path.abspath(artifact_dir)"
   ]
  },
  {
   "cell_type": "code",
   "execution_count": 78,
   "id": "bab895f3-e31f-45e2-99d9-a77a20fcaac2",
   "metadata": {},
   "outputs": [],
   "source": [
    "best_model = GenericPyLiModule.load_from_checkpoint(os.path.abspath(artifact_dir)+\"/model.ckpt\")"
   ]
  },
  {
   "cell_type": "markdown",
   "id": "8114268f-9bf0-4847-b33f-1ffab1fc9d84",
   "metadata": {},
   "source": [
    "# Get predictions"
   ]
  },
  {
   "cell_type": "code",
   "execution_count": 77,
   "id": "cf4e2f98-3bf2-4a48-8096-0e8b3b554655",
   "metadata": {},
   "outputs": [
    {
     "name": "stdout",
     "output_type": "stream",
     "text": [
      "CPU times: user 66 µs, sys: 5 µs, total: 71 µs\n",
      "Wall time: 75.3 µs\n"
     ]
    }
   ],
   "source": [
    "%%time\n",
    "test_datamodule = all_data\n",
    "test_datamodule.setup(stage='test')"
   ]
  },
  {
   "cell_type": "code",
   "execution_count": 80,
   "id": "aed701f0-f383-4e45-9aad-080fcd939940",
   "metadata": {},
   "outputs": [
    {
     "name": "stderr",
     "output_type": "stream",
     "text": [
      "GPU available: True (cuda), used: True\n",
      "TPU available: False, using: 0 TPU cores\n",
      "IPU available: False, using: 0 IPUs\n",
      "HPU available: False, using: 0 HPUs\n"
     ]
    }
   ],
   "source": [
    "trainer = pl.Trainer(accelerator='gpu', devices=1)"
   ]
  },
  {
   "cell_type": "code",
   "execution_count": 81,
   "id": "455d43ed-b4ec-4c4b-9075-c784b99b20be",
   "metadata": {},
   "outputs": [
    {
     "name": "stderr",
     "output_type": "stream",
     "text": [
      "LOCAL_RANK: 0 - CUDA_VISIBLE_DEVICES: [0]\n"
     ]
    },
    {
     "data": {
      "application/vnd.jupyter.widget-view+json": {
       "model_id": "293ad529b41b45d7935a6e37d524ce46",
       "version_major": 2,
       "version_minor": 0
      },
      "text/plain": [
       "Predicting: 0it [00:00, ?it/s]"
      ]
     },
     "metadata": {},
     "output_type": "display_data"
    }
   ],
   "source": [
    "prediction_dict = trainer.predict(best_model, dataloaders=test_datamodule.test_dataloader())"
   ]
  },
  {
   "cell_type": "code",
   "execution_count": 94,
   "id": "9214c485-d1c5-4c4d-9fe4-8ff9819663fc",
   "metadata": {},
   "outputs": [
    {
     "data": {
      "text/plain": [
       "6"
      ]
     },
     "execution_count": 94,
     "metadata": {},
     "output_type": "execute_result"
    }
   ],
   "source": [
    "len(prediction_dict)"
   ]
  },
  {
   "cell_type": "code",
   "execution_count": 97,
   "id": "91a99db3-1ed6-4181-ac7e-a85528921f9c",
   "metadata": {},
   "outputs": [
    {
     "data": {
      "text/plain": [
       "tensor([[[2.6947e-01, 2.6947e-01, 2.6947e-01,  ..., 2.6947e-01,\n",
       "          2.6947e-01, 2.6947e-01],\n",
       "         [1.8031e-02, 1.6471e-02, 1.0679e-02,  ..., 2.1623e-02,\n",
       "          1.4997e-02, 2.8110e-03],\n",
       "         [2.5826e-02, 3.3212e-02, 8.9926e-02,  ..., 2.0615e-02,\n",
       "          2.5961e-02, 1.7096e-02],\n",
       "         ...,\n",
       "         [2.6947e-01, 2.6947e-01, 2.6947e-01,  ..., 1.1393e+00,\n",
       "          3.5208e-01, 1.1613e-01],\n",
       "         [2.6947e-01, 2.6947e-01, 2.6947e-01,  ..., 4.0000e-01,\n",
       "          2.6128e-01, 3.7774e-01],\n",
       "         [2.6947e-01, 2.6947e-01, 2.6947e-01,  ..., 7.8304e-02,\n",
       "          1.0928e+00, 8.6439e-01]],\n",
       "\n",
       "        [[2.6947e-01, 2.6947e-01, 2.6947e-01,  ..., 2.6947e-01,\n",
       "          2.6947e-01, 2.6947e-01],\n",
       "         [1.6424e-02, 1.4385e-02, 1.2146e-02,  ..., 2.1544e-02,\n",
       "          1.4839e-02, 2.7907e-03],\n",
       "         [2.5706e-02, 3.2014e-02, 8.9254e-02,  ..., 2.0543e-02,\n",
       "          2.5616e-02, 1.6495e-02],\n",
       "         ...,\n",
       "         [2.6947e-01, 2.6947e-01, 2.6947e-01,  ..., 1.2223e+00,\n",
       "          3.8318e-01, 1.0630e-01],\n",
       "         [2.6947e-01, 2.6947e-01, 2.6947e-01,  ..., 3.8858e-01,\n",
       "          2.6919e-01, 3.6324e-01],\n",
       "         [2.6947e-01, 2.6947e-01, 2.6947e-01,  ..., 7.0598e-02,\n",
       "          1.0661e+00, 8.7453e-01]],\n",
       "\n",
       "        [[2.6947e-01, 2.6947e-01, 2.6947e-01,  ..., 2.6947e-01,\n",
       "          2.6947e-01, 2.6947e-01],\n",
       "         [1.4754e-02, 1.2124e-02, 1.4688e-02,  ..., 2.1431e-02,\n",
       "          1.4739e-02, 2.7828e-03],\n",
       "         [2.5535e-02, 3.0721e-02, 8.8462e-02,  ..., 2.0422e-02,\n",
       "          2.5251e-02, 1.5857e-02],\n",
       "         ...,\n",
       "         [2.6947e-01, 2.6947e-01, 2.6947e-01,  ..., 1.2924e+00,\n",
       "          4.3611e-01, 9.5267e-02],\n",
       "         [2.6947e-01, 2.6947e-01, 2.6947e-01,  ..., 3.8427e-01,\n",
       "          2.7752e-01, 3.5487e-01],\n",
       "         [2.6947e-01, 2.6947e-01, 2.6947e-01,  ..., 6.4232e-02,\n",
       "          1.0559e+00, 8.8812e-01]],\n",
       "\n",
       "        ...,\n",
       "\n",
       "        [[2.6947e-01, 2.6947e-01, 2.6947e-01,  ..., 2.6947e-01,\n",
       "          2.6947e-01, 2.6947e-01],\n",
       "         [3.4283e-04, 4.3497e-02, 3.2524e-01,  ..., 1.7903e-02,\n",
       "          9.6228e-03, 5.9084e-03],\n",
       "         [8.1412e-04, 1.9241e-03, 3.6419e-01,  ..., 1.6983e-02,\n",
       "          1.0030e-02, 2.6358e-03],\n",
       "         ...,\n",
       "         [2.6947e-01, 2.6947e-01, 2.6947e-01,  ..., 8.6992e-02,\n",
       "          1.3769e-01, 5.7955e-02],\n",
       "         [2.6947e-01, 2.6947e-01, 2.6947e-01,  ..., 1.5665e-01,\n",
       "          2.1196e-01, 5.3454e-02],\n",
       "         [2.6947e-01, 2.6947e-01, 2.6947e-01,  ..., 2.8643e-01,\n",
       "          1.4430e-01, 4.9441e-02]],\n",
       "\n",
       "        [[2.6947e-01, 2.6947e-01, 2.6947e-01,  ..., 2.6947e-01,\n",
       "          2.6947e-01, 2.6947e-01],\n",
       "         [3.2337e-04, 3.6104e-02, 3.4409e-01,  ..., 1.6740e-02,\n",
       "          9.2125e-03, 5.7629e-03],\n",
       "         [9.8569e-04, 1.1803e-03, 3.7943e-01,  ..., 1.6581e-02,\n",
       "          1.0500e-02, 2.7265e-03],\n",
       "         ...,\n",
       "         [2.6947e-01, 2.6947e-01, 2.6947e-01,  ..., 8.8271e-02,\n",
       "          1.3350e-01, 5.6518e-02],\n",
       "         [2.6947e-01, 2.6947e-01, 2.6947e-01,  ..., 1.5936e-01,\n",
       "          2.1402e-01, 5.1342e-02],\n",
       "         [2.6947e-01, 2.6947e-01, 2.6947e-01,  ..., 2.9528e-01,\n",
       "          1.3439e-01, 5.1204e-02]],\n",
       "\n",
       "        [[2.6947e-01, 2.6947e-01, 2.6947e-01,  ..., 2.6947e-01,\n",
       "          2.6947e-01, 2.6947e-01],\n",
       "         [3.2436e-04, 3.0742e-02, 3.6372e-01,  ..., 1.5974e-02,\n",
       "          8.8926e-03, 5.7177e-03],\n",
       "         [1.2241e-03, 7.0469e-04, 3.9496e-01,  ..., 1.6016e-02,\n",
       "          1.0097e-02, 2.4105e-03],\n",
       "         ...,\n",
       "         [2.6947e-01, 2.6947e-01, 2.6947e-01,  ..., 9.2168e-02,\n",
       "          1.2667e-01, 5.4111e-02],\n",
       "         [2.6947e-01, 2.6947e-01, 2.6947e-01,  ..., 1.6150e-01,\n",
       "          2.1269e-01, 5.1726e-02],\n",
       "         [2.6947e-01, 2.6947e-01, 2.6947e-01,  ..., 3.0619e-01,\n",
       "          1.2075e-01, 5.3814e-02]]])"
      ]
     },
     "execution_count": 97,
     "metadata": {},
     "output_type": "execute_result"
    }
   ],
   "source": [
    "prediction_dict[0][0]['sosstsst_var']"
   ]
  },
  {
   "cell_type": "markdown",
   "id": "f0534114-0d79-423c-91e9-a02fc458f58f",
   "metadata": {},
   "source": [
    "# Get ground truth"
   ]
  },
  {
   "cell_type": "code",
   "execution_count": 84,
   "id": "0eec4b47-b82d-46bc-b51f-bd85fee74f7f",
   "metadata": {},
   "outputs": [],
   "source": [
    "truth = dict()\n",
    "for feature in ['sosstsst_var'] :\n",
    "    truth[feature] = [torch.Tensor() for i in range(len(test_datamodule.test_dataloader()))]"
   ]
  },
  {
   "cell_type": "code",
   "execution_count": 85,
   "id": "3abaa6ef-af63-4076-b9fc-9c21fb598d9f",
   "metadata": {},
   "outputs": [],
   "source": [
    "for i, dataloader in enumerate(test_datamodule.test_dataloader()) :\n",
    "    iterator = iter(dataloader)\n",
    "    sample = next(iterator)\n",
    "    for feature in ['sosstsst_var'] :\n",
    "        truth[feature][i] = sample[feature].where(sample['mask'][:,:,:], torch.ones_like(sample['mask'][:,:,:])*np.nan)"
   ]
  },
  {
   "cell_type": "markdown",
   "id": "3bc6ea3e-66f3-4e55-90f0-652d0a6e9a75",
   "metadata": {},
   "source": [
    "# Examples"
   ]
  },
  {
   "cell_type": "code",
   "execution_count": 87,
   "id": "ca69ba50-d193-4512-a091-2d7d06c6b589",
   "metadata": {},
   "outputs": [],
   "source": [
    "idx_batch = 0"
   ]
  },
  {
   "cell_type": "code",
   "execution_count": 88,
   "id": "a69c75b6-263a-4a7f-92e2-3b3cb7a2febe",
   "metadata": {},
   "outputs": [],
   "source": [
    "feature = 'sosstsst_var_masked'"
   ]
  },
  {
   "cell_type": "code",
   "execution_count": 89,
   "id": "0f688ef2-1241-48d9-aa77-785a47f2bdf9",
   "metadata": {},
   "outputs": [],
   "source": [
    "selected_idx_region = [0,2,5]"
   ]
  },
  {
   "cell_type": "code",
   "execution_count": 107,
   "id": "bef117c6-81a8-43ac-a136-7b625c4caea7",
   "metadata": {},
   "outputs": [
    {
     "data": {
      "image/png": "[encoded data removed]",
      "text/plain": [
       "<Figure size 400x1000 with 18 Axes>"
      ]
     },
     "metadata": {},
     "output_type": "display_data"
    }
   ],
   "source": [
    "fig, ax = plt.subplots(nrows=6, ncols=2, constrained_layout=True, figsize=(4,10),sharex=True, sharey=True)\n",
    "for idx_dl in range(len(test_datamodule.test_dataloader())) :\n",
    "    img = ax[idx_dl,0].imshow(truth['sosstsst_var'][idx_dl][idx_batch], cmap='ocean_r', origin='lower')\n",
    "    fig.colorbar(img, location='left', shrink=0.8)\n",
    "    color_min = img.colorbar.vmin\n",
    "    color_max = img.colorbar.vmax\n",
    "    current_cmap = img.cmap\n",
    "    current_cmap.set_bad(color='silver')\n",
    "    img = ax[idx_dl,1].imshow(prediction_dict[idx_dl][0]['sosstsst_var_masked'][idx_batch], cmap=current_cmap, \\\n",
    "                                   vmin=color_min, vmax=color_max, origin='lower')\n",
    "ax[0,0].set(title='Truth')\n",
    "ax[0,1].set(title='Prediction')\n",
    "plt.show()"
   ]
  }
 ],
 "metadata": {
  "kernelspec": {
   "display_name": "Python 3 (ipykernel)",
   "language": "python",
   "name": "python3"
  },
  "language_info": {
   "codemirror_mode": {
    "name": "ipython",
    "version": 3
   },
   "file_extension": ".py",
   "mimetype": "text/x-python",
   "name": "python",
   "nbconvert_exporter": "python",
   "pygments_lexer": "ipython3",
   "version": "3.10.9"
  },
  "toc-autonumbering": true,
  "toc-showcode": false,
  "toc-showmarkdowntxt": false,
  "toc-showtags": false
 },
 "nbformat": 4,
 "nbformat_minor": 5
}
