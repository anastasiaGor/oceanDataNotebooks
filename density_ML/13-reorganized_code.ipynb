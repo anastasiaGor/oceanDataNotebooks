{
 "cells": [
  {
   "cell_type": "markdown",
   "id": "ea54da1f-c0d2-4ed2-8dea-5f96a68745f0",
   "metadata": {},
   "source": [
    "# Import"
   ]
  },
  {
   "cell_type": "code",
   "execution_count": 1,
   "id": "e9303f7b-4813-46e3-9398-9b53578b9437",
   "metadata": {},
   "outputs": [],
   "source": [
    "from IPython.display import clear_output\n",
    "import torch\n",
    "import numpy as np\n",
    "import matplotlib.pyplot as plt\n",
    "from tqdm.autonotebook import tqdm, trange\n",
    "import xarray as xr\n",
    "from IPython import display\n",
    "import pytorch_lightning as pl\n",
    "from pytorch_lightning import loggers as pl_loggers\n",
    "from pytorch_lightning.callbacks import EarlyStopping,ModelCheckpoint\n",
    "import inspect\n",
    "import tensorboard\n",
    "from tensorboard.backend.event_processing.event_file_loader import EventFileLoader\n",
    "import itertools\n",
    "import matplotlib.colors as mcolors\n",
    "import glob, os"
   ]
  },
  {
   "cell_type": "code",
   "execution_count": 2,
   "id": "d054e80f-2a15-4119-a699-f8b309c1c1c6",
   "metadata": {
    "tags": []
   },
   "outputs": [],
   "source": [
    "import logging\n",
    "logging.getLogger('lightning').setLevel(0)\n",
    "pl.utilities.distributed.log.setLevel(logging.ERROR)"
   ]
  },
  {
   "cell_type": "code",
   "execution_count": 3,
   "id": "cb00724f-4c87-407a-a426-1969274ebfb7",
   "metadata": {},
   "outputs": [
    {
     "name": "stdout",
     "output_type": "stream",
     "text": [
      "Linux-5.10.133+-x86_64-with-glibc2.35\n"
     ]
    }
   ],
   "source": [
    "import platform\n",
    "print(platform.platform())"
   ]
  },
  {
   "cell_type": "code",
   "execution_count": 4,
   "id": "09185b24-5c66-4f85-92d2-edd901e130b7",
   "metadata": {},
   "outputs": [],
   "source": [
    "import warnings\n",
    "\n",
    "warnings.simplefilter(action='ignore', category=FutureWarning)\n",
    "warnings.filterwarnings(\"ignore\", \".*Consider increasing the value of the `num_workers` argument*\")"
   ]
  },
  {
   "cell_type": "markdown",
   "id": "663bea15-b554-420c-b3eb-9bf7c7aedf43",
   "metadata": {},
   "source": [
    "# Useful functions"
   ]
  },
  {
   "cell_type": "code",
   "execution_count": 5,
   "id": "4ac6ae3f-8287-49ea-88ea-0f83143a0476",
   "metadata": {},
   "outputs": [],
   "source": [
    "line_styles = ['solid', 'dashed', 'dotted', 'dashdot']"
   ]
  },
  {
   "cell_type": "markdown",
   "id": "5d78ccba-db20-4ee1-bf81-588f38579cc8",
   "metadata": {},
   "source": [
    "For testing"
   ]
  },
  {
   "cell_type": "code",
   "execution_count": 6,
   "id": "97e96c0b-e2d6-44d2-85e6-a1f3736de932",
   "metadata": {},
   "outputs": [],
   "source": [
    "def central_diffs_x(dataArray) :\n",
    "    return 0.5*(torch.roll(dataArray, shifts=-1, dims=0) - torch.roll(dataArray, shifts=1, dims=0))\n",
    "def central_diffs_y(dataArray) :\n",
    "    return 0.5*(torch.roll(dataArray, shifts=-1, dims=1) - torch.roll(dataArray, shifts=1, dims=1))"
   ]
  },
  {
   "cell_type": "code",
   "execution_count": 7,
   "id": "f4fd517d-4777-44a2-b629-c724381aca43",
   "metadata": {},
   "outputs": [],
   "source": [
    "def central_diffs_x_2(dataArray) :\n",
    "    return (torch.roll(dataArray, shifts=-1, dims=0) - 2.*dataArray.clone() + torch.roll(dataArray, shifts=1, dims=0))\n",
    "def central_diffs_y_2(dataArray) :\n",
    "    return (torch.roll(dataArray, shifts=-1, dims=1) - 2.*dataArray.clone() + torch.roll(dataArray, shifts=1, dims=1))"
   ]
  },
  {
   "cell_type": "code",
   "execution_count": 8,
   "id": "e0c7025d-2a5d-4ecd-88d8-f391227abf1b",
   "metadata": {},
   "outputs": [],
   "source": [
    "def finite_diffs_sqr_2d_array(dataArray) :\n",
    "    return torch.pow(central_diffs_x(dataArray),2) + torch.pow(central_diffs_y(dataArray),2)\n",
    "    #return (central_diffs_y(dataArray)).clone()\n",
    "    #return torch.pow(central_diffs_x_2(dataArray),2) + torch.pow(central_diffs_y_2(dataArray),2)"
   ]
  },
  {
   "cell_type": "markdown",
   "id": "495d3fb6-4797-428e-8f3f-147be557c9f1",
   "metadata": {},
   "source": [
    "A function that allows to read the logs in tensorboars format and returns them as a python dictionary:"
   ]
  },
  {
   "cell_type": "code",
   "execution_count": 9,
   "id": "e90511bd-8b38-479d-9a13-1584d813bf5e",
   "metadata": {},
   "outputs": [],
   "source": [
    "def get_logs_from_tb(exp_name, version_name, directory='logs/') :\n",
    "    dictionary = dict()\n",
    "    # for var in list_of_vars :\n",
    "    #     dictionary[var] = list()\n",
    "    file_name = glob.glob(directory + '/' + exp_name + '/' + version_name + '/events.out.*')[-1]\n",
    "    print(file_name)\n",
    "    for event in EventFileLoader(file_name).Load() :\n",
    "        if (len(event.summary.value) > 0) :\n",
    "            if (event.summary.value[0].tag not in dictionary) :\n",
    "                dictionary[event.summary.value[0].tag] = []\n",
    "            (dictionary[event.summary.value[0].tag]).append(event.summary.value[0].tensor.float_val)\n",
    "    return dictionary"
   ]
  },
  {
   "cell_type": "markdown",
   "id": "751ea4e3-ee81-4e2b-b07f-7099893b75c0",
   "metadata": {},
   "source": [
    "# Data properties"
   ]
  },
  {
   "cell_type": "code",
   "execution_count": 10,
   "id": "4241ea57-8775-4386-8329-8d5c5453718c",
   "metadata": {},
   "outputs": [],
   "source": [
    "SCRATCH_BUCKET = os.environ['SCRATCH_BUCKET'] "
   ]
  },
  {
   "cell_type": "code",
   "execution_count": 11,
   "id": "b76b91a9-7aa4-43ef-98fd-5bcaa85e2297",
   "metadata": {},
   "outputs": [],
   "source": [
    "time_slice = dict(time_counter=slice(0,-1,None))"
   ]
  },
  {
   "cell_type": "code",
   "execution_count": 12,
   "id": "b56c1e03-08eb-42f3-bc84-69907348ca2d",
   "metadata": {},
   "outputs": [],
   "source": [
    "data_dict=[dict() for i in range(6)]\n",
    "data_dict[0] = dict({'region' : '1', 'season' : 'fma', 'label' : 'GULFSTR FMA', 'xy_slice' : dict(x=slice(-380,-10),y=slice(-385,-15)), 'time_slice' : time_slice})\n",
    "data_dict[1] = dict({'region' : '1', 'season' : 'aso', 'label' : 'GULFSTR ASO', 'xy_slice' : dict(x=slice(-380,-10),y=slice(-385,-15)), 'time_slice' : time_slice})\n",
    "data_dict[2] = dict({'region' : '2', 'season' : 'fma', 'label' : 'MIDATL FMA', 'xy_slice' : dict(x=slice(-565,-195),y=slice(-385,-15)), 'time_slice' : time_slice})\n",
    "data_dict[3] = dict({'region' : '2', 'season' : 'aso', 'label' : 'MIDATL ASO', 'xy_slice' : dict(x=slice(-565,-195),y=slice(-385,-15)), 'time_slice' : time_slice})\n",
    "data_dict[4] = dict({'region' : '3', 'season' : 'fma', 'label' : 'WESTMED FMA', 'xy_slice' : dict(x=slice(-370,None),y=slice(120,490)), 'time_slice' : time_slice})\n",
    "data_dict[5] = dict({'region' : '3', 'season' : 'aso', 'label' : 'WESTMED ASO', 'xy_slice' : dict(x=slice(-370,None),y=slice(120,490)), 'time_slice' : time_slice})"
   ]
  },
  {
   "cell_type": "code",
   "execution_count": 13,
   "id": "878f2708-915a-41fc-b4ed-30cff8f87e43",
   "metadata": {},
   "outputs": [],
   "source": [
    "features_to_add_to_sample = ['sosstsst', 'sosstsst_var', 'diff_sosstsst_sqr', 'predictor_T', 'predictor_S', 'predictor_TS', 'sigma0_delta']"
   ]
  },
  {
   "cell_type": "code",
   "execution_count": 14,
   "id": "b5e40cb5-9ac5-4acc-89a9-bd81870f9cda",
   "metadata": {},
   "outputs": [],
   "source": [
    "h = 24 # height of images\n",
    "w = 22 # width of images"
   ]
  },
  {
   "cell_type": "code",
   "execution_count": 15,
   "id": "8c3db48a-360a-41a8-aeb4-7811d22d028e",
   "metadata": {},
   "outputs": [],
   "source": [
    "batch_size = 8"
   ]
  },
  {
   "cell_type": "markdown",
   "id": "7a404186-310e-42d9-acab-bd1f17d2a126",
   "metadata": {},
   "source": [
    "# Data classes"
   ]
  },
  {
   "cell_type": "markdown",
   "id": "fe641c3e-a3b8-4402-a55f-94346bd3fab9",
   "metadata": {},
   "source": [
    "## Pytorch dataset"
   ]
  },
  {
   "cell_type": "code",
   "execution_count": 17,
   "id": "16efd56f-6208-4fa3-b5e9-230764684a54",
   "metadata": {},
   "outputs": [],
   "source": [
    "# iterates over time snapshots in an xarray data file and transforms it into a dictionary of pytorch tensors, also performs normalization\n",
    "class torchDataset(torch.utils.data.Dataset):\n",
    "    \"\"\"Dataset of 2D maps of surface temperature, salinity\"\"\"\n",
    "\n",
    "    def __init__(self, xarray_dataset, select='All', portion_of_time_series=0.5, transform=None):\n",
    "        self.transform = transform\n",
    "        full_data_file_len = len(xarray_dataset.t)\n",
    "        if (select == 'All') :\n",
    "            time_index_range = np.arange(0, data_file_len)\n",
    "        elif (select == 'First') :\n",
    "            time_index_range = np.arange(0, int(portion_of_time_series*full_data_file_len)+1)\n",
    "        elif (select == 'Last') :\n",
    "            time_index_range = np.arange(int((1-portion_of_time_series)*full_data_file_len), full_data_file_len)\n",
    "        self.data = xarray_dataset.isel(x_c=slice(None,w), y_c=slice(None,h), t=time_index_range)\n",
    "        self.data_file_len = len(self.data.t)\n",
    "        \n",
    "        # mean and std of the dataset (to avoid batch avg) for normalization and nan filling\n",
    "        for feature in features_to_add_to_sample :\n",
    "            self.data.attrs['mean_'+feature] = (self.data[feature].mean()).values\n",
    "            self.data.attrs['std_'+feature] = (self.data[feature].std()).values\n",
    "            self.data.attrs['median_'+feature] = (self.data[feature].median()).values\n",
    "            self.data[feature] = (self.data[feature].fillna(self.data.attrs['median_'+feature])) # fill nans\n",
    "            self.data['normalized_'+feature] = ((self.data[feature]-self.data.attrs['mean_'+feature])/self.data.attrs['std_'+feature])\n",
    "        \n",
    "    def __len__(self):\n",
    "        return self.data_file_len\n",
    "\n",
    "    def __getitem__(self, idx):\n",
    "        if torch.is_tensor(idx):\n",
    "            list_idx = idx.tolist()\n",
    "        else :\n",
    "            list_idx = idx\n",
    "        selected_time_frames = self.data.isel(t=list_idx)\n",
    "        \n",
    "        # create dictionary of a sample (a batch) containig different features. \n",
    "        # This dictionary is sort of an intermediate step, preparing xArray data for trasform into pytorch tensors\n",
    "        sample = dict()\n",
    "        for feature in features_to_add_to_sample :\n",
    "            sample['mean_'+feature] = self.data.attrs['mean_'+feature]\n",
    "            sample['std_'+feature] = self.data.attrs['std_'+feature]\n",
    "            sample[feature] = selected_time_frames[feature].values\n",
    "            sample['normalized_'+feature] = selected_time_frames['normalized_'+feature].values\n",
    "        if self.transform:\n",
    "            sample = self.transform(sample)\n",
    "        return sample\n",
    "    \n",
    "    def restore_units(tensor, sample, reference_feature) :\n",
    "        return tensor*(sample['std_'+reference_feature].view(-1,1,1))+sample['mean_'+reference_feature].view(-1,1,1)\n",
    "                \n",
    "    def normalize(tensor, sample, reference_feature) :\n",
    "        return (tensor-sample['mean_'+reference_feature].view(-1,1,1))/(sample['std_'+reference_feature].view(-1,1,1))"
   ]
  },
  {
   "cell_type": "code",
   "execution_count": 18,
   "id": "5d3b1afc-6b46-4ddc-907c-6c028a959939",
   "metadata": {},
   "outputs": [],
   "source": [
    "class ToTensor(object):\n",
    "    \"\"\"Convert each numpy array in sample to Tensors.\"\"\"\n",
    "\n",
    "    def __call__(self, sample):\n",
    "        transformed_sample=sample.copy()\n",
    "        for feature in features_to_add_to_sample :\n",
    "            transformed_sample[feature] = torch.tensor(sample[feature])\n",
    "        return transformed_sample"
   ]
  },
  {
   "cell_type": "markdown",
   "id": "0d0f87c0-6323-4f4e-8c7c-2b7b484058db",
   "metadata": {},
   "source": [
    "## Lightning data module"
   ]
  },
  {
   "cell_type": "markdown",
   "id": "5391569d-168f-4acb-9d27-cc1ce6ed53d9",
   "metadata": {},
   "source": [
    "A DataModule standardizes the training, val, test splits, data preparation and transforms. The main advantage is consistent data splits, data preparation and transforms across models."
   ]
  },
  {
   "cell_type": "code",
   "execution_count": 19,
   "id": "f7b55d39-928a-47df-8135-f194744b4eb3",
   "metadata": {},
   "outputs": [],
   "source": [
    "class PyLiDataModule(pl.LightningDataModule):\n",
    "    def __init__(self, cloud_data_sets, batch_size) :\n",
    "        super().__init__()\n",
    "        self.cloud_data_sets = cloud_data_sets\n",
    "        self.batch_size = batch_size\n",
    "        \n",
    "    def prepare_data(self) :\n",
    "        self.list_of_xr_datasets = [xr.open_dataset(f'{SCRATCH_BUCKET}/data_2D'+str(i)+'.zarr', engine=\"zarr\", storage_options={\"anon\": True})[features_to_add_to_sample] \\\n",
    "                                    for i in range(len(self.cloud_data_sets))]\n",
    "                \n",
    "    def train_dataloader(self) :\n",
    "        # takes first 60% of time snapshots for training\n",
    "        train_datasets = torch.utils.data.ConcatDataset([torchDataset(xr_dataset, select='First', portion_of_time_series=0.6, transform=ToTensor()) \\\n",
    "                           for xr_dataset in self.list_of_xr_datasets])\n",
    "        return torch.utils.data.DataLoader(train_datasets, batch_size=self.batch_size, shuffle=True, drop_last=True, num_workers=0)\n",
    "    \n",
    "    def val_dataloader(self) :\n",
    "        # takes last 20% of time snapshots for validation\n",
    "        val_datasets = torch.utils.data.ConcatDataset([torchDataset(xr_dataset, select='Last', portion_of_time_series=0.2, transform=ToTensor()) \\\n",
    "                          for xr_dataset in self.list_of_xr_datasets])\n",
    "        return torch.utils.data.DataLoader(val_datasets, batch_size=self.batch_size, drop_last=True, num_workers=0) \n",
    "    \n",
    "    def test_dataloader(self) :\n",
    "        test_datasets = [torchDataset(xr_dataset, select='Last', portion_of_time_series=0.2, transform=ToTensor()) \\\n",
    "                          for xr_dataset in self.list_of_xr_datasets]\n",
    "        return [torch.utils.data.DataLoader(dataset, batch_size=1, drop_last=True, num_workers=0) for dataset in test_datasets]"
   ]
  },
  {
   "cell_type": "markdown",
   "id": "f1cadc89-bd9b-4402-87c6-ec0248f80b63",
   "metadata": {},
   "source": [
    "## Initialize datamodule"
   ]
  },
  {
   "cell_type": "code",
   "execution_count": 20,
   "id": "6aeb365d-6edd-47c0-8173-9cccf9273641",
   "metadata": {},
   "outputs": [],
   "source": [
    "datamodule = PyLiDataModule(data_dict, batch_size=batch_size)"
   ]
  },
  {
   "cell_type": "markdown",
   "id": "630a29a4-7951-436f-83e6-d44baa4bdbc1",
   "metadata": {},
   "source": [
    "To test:"
   ]
  },
  {
   "cell_type": "code",
   "execution_count": 21,
   "id": "74056d3e-64db-4dda-8cca-24afc8a49819",
   "metadata": {},
   "outputs": [
    {
     "name": "stdout",
     "output_type": "stream",
     "text": [
      "CPU times: user 3.87 s, sys: 748 ms, total: 4.61 s\n",
      "Wall time: 12.5 s\n"
     ]
    }
   ],
   "source": [
    "%%time\n",
    "datamodule.prepare_data()\n",
    "\n",
    "test_dl = datamodule.train_dataloader()\n",
    "\n",
    "test_di = iter(test_dl)\n",
    "\n",
    "sample = next(test_di)"
   ]
  },
  {
   "cell_type": "code",
   "execution_count": 22,
   "id": "3e276ca4-de99-40e5-ba6e-361d9b973042",
   "metadata": {},
   "outputs": [
    {
     "data": {
      "text/plain": [
       "torch.Size([8, 24, 22])"
      ]
     },
     "execution_count": 22,
     "metadata": {},
     "output_type": "execute_result"
    }
   ],
   "source": [
    "sample['sosstsst'].shape"
   ]
  },
  {
   "cell_type": "markdown",
   "id": "d902bf8a-1532-4473-b9ab-f62877c4ccf6",
   "metadata": {},
   "source": [
    "# Generic PyTorch Lightning Module"
   ]
  },
  {
   "cell_type": "code",
   "execution_count": 41,
   "id": "9a1d0a14-922c-48a6-927a-a4595ffce148",
   "metadata": {},
   "outputs": [],
   "source": [
    "class GenericPyLiModule(pl.LightningModule):\n",
    "    def __init__(self, torch_model, inputs, outputs, loss, optimizer, learning_rate):\n",
    "        super().__init__()\n",
    "        self.torch_model = torch_model\n",
    "        self.inputs = inputs\n",
    "        self.outputs = outputs\n",
    "        self.loss = loss\n",
    "        self.save_hyperparameters(ignore=['torch_model', 'loss'])\n",
    "        self.optimizer = optimizer\n",
    "        self.learning_rate = learning_rate\n",
    "        \n",
    "        ## initialization of weights\n",
    "        #torch_model.weight.data = torch.Tensor([1.0])\n",
    "\n",
    "    def transform_input(self, batch) :\n",
    "        # transform dictionary issued from the data loader into 4D torch arrays of shape [N,C,H,W]\n",
    "        bord = self.torch_model.cut_border_pix_input\n",
    "        if bord is None :\n",
    "            transform = torch.transpose(torch.stack([batch[key] for key in self.inputs]), 0, 1).to(torch.float32)\n",
    "        else :\n",
    "            transform = torch.transpose(torch.stack([batch[key][:,bord:-bord,bord:-bord] for key in self.inputs]), 0, 1).to(torch.float32)\n",
    "        return transform\n",
    "    \n",
    "    def transform_target(self, batch) : \n",
    "        bord = self.torch_model.cut_border_pix_output\n",
    "        if bord is None :\n",
    "            transform = torch.transpose(torch.stack([batch[key] for key in self.outputs]), 0, 1).to(torch.float32)\n",
    "        else :\n",
    "            transform = torch.transpose(torch.stack([batch[key][:,bord:-bord,bord:-bord] for key in self.outputs]), 0, 1).to(torch.float32)\n",
    "        return transform\n",
    "        \n",
    "    def training_step(self, batch, batch_idx) :\n",
    "        # transform dictionary issued from the data loader into 4D torch arrays of shape [N,C,H,W]\n",
    "        x = self.transform_input(batch)\n",
    "        y_true = self.transform_target(batch)\n",
    "        y_model = self.torch_model(x)\n",
    "        loss = self.loss(y_model, y_true)  \n",
    "        self.log_dict({'loss_train' : loss}, on_step=False, on_epoch=True)\n",
    "        return loss\n",
    "\n",
    "    # validation logics (is evaluated during the training, but the data is not used to the optimization loop)\n",
    "    def validation_step(self, batch, batch_idx) :\n",
    "        x = self.transform_input(batch)\n",
    "        y_true = self.transform_target(batch)\n",
    "        y_model = self.torch_model(x)\n",
    "        loss = self.loss(y_model, y_true)  \n",
    "        self.log('loss_val', loss, on_step=False, on_epoch=True) \n",
    "    \n",
    "    # gives model output in a form of a dictionary of batches of 2d fields\n",
    "    def predict_step(self, batch, batch_idx, dataloader_idx) :\n",
    "        x = self.transform_input(batch)\n",
    "        output_4d_tensor = self.torch_model(x)\n",
    "        batch_len = output_4d_tensor.shape[0]\n",
    "        output_h = output_4d_tensor.shape[2]\n",
    "        output_w = output_4d_tensor.shape[3]\n",
    "        # construct the dictionary of the predicted features by decomposing the channels in the 4d torch tensor\n",
    "        pred = dict()\n",
    "        for i, feature in enumerate(self.outputs) :\n",
    "            pred[feature] = output_4d_tensor[:, i, :, :].view(batch_len,output_h,output_w)\n",
    "            # if outputs are normalized then compute also result in the restored units (not normalized)\n",
    "            if feature.startswith('normalized_') :\n",
    "                not_normalized_feature = feature.replace(\"normalized_\", \"\")\n",
    "                pred[not_normalized_feature] = torchDataset.restore_units(pred[feature], batch, not_normalized_feature)\n",
    "        return pred\n",
    "        \n",
    "    # testing logic - to evaluate the model after training\n",
    "    def test_step(self, batch, batch_idx, dataloader_idx) :\n",
    "        nb_border_pix = 1\n",
    "        model_output = self.predict_step(batch, batch_idx, dataloader_idx)\n",
    "        loss = dict(); loss_grad=dict(); corr_coef=dict()\n",
    "        #construct list of features on which the metrics will be evaluated\n",
    "        list_of_features = list()\n",
    "        for i, feature in enumerate(self.outputs) :\n",
    "            list_of_features.append(feature)\n",
    "            if feature.startswith('normalized_') :\n",
    "                # if model output is a normalized feature then compute also the non-normalized feature and evaluate the metrics on it further\n",
    "                not_normalized_feature = feature.replace(\"normalized_\", \"\")\n",
    "                list_of_features.append(not_normalized_feature)\n",
    "\n",
    "        for i, feature in enumerate(list_of_features) :\n",
    "            # cut the borders if the model gives output of reduced dimension\n",
    "            bord = self.torch_model.cut_border_pix_output\n",
    "            if bord is None :\n",
    "                truth = batch[feature]\n",
    "            else :\n",
    "                 truth = batch[feature][:,bord:-bord,bord:-bord]\n",
    "            model = model_output[feature]\n",
    "            loss[feature] = eval_loss(model, truth)\n",
    "            ## add some other metrics for tests\n",
    "            loss_grad[feature] = eval_loss(finite_diffs_sqr_2d_array(model)[:,1:-1,1:-1], finite_diffs_sqr_2d_array(truth)[:,1:-1,1:-1])\n",
    "            corr_coef[feature] = torch.corrcoef(torch.vstack((torch.flatten(model).view(1,-1), torch.flatten(truth).view(1,-1))))[1,0]\n",
    "            self.log_dict({'loss_test_'+feature : loss[feature].mean(), \\\n",
    "                           'loss_grad_test_'+feature : loss_grad[feature].mean(),\\\n",
    "                           'corr_coef_'+feature : corr_coef[feature]\\\n",
    "                          })\n",
    "\n",
    "    def configure_optimizers(self) :\n",
    "        optimizer = self.optimizer(self.parameters(), lr=self.learning_rate)\n",
    "        return optimizer"
   ]
  },
  {
   "cell_type": "markdown",
   "id": "3cc4cd42-6b2f-449e-a4d7-1ac538d47b5a",
   "metadata": {},
   "source": [
    "# Experiment class"
   ]
  },
  {
   "cell_type": "markdown",
   "id": "6a613b0a-8834-429a-9d38-3475a41cdf69",
   "metadata": {},
   "source": [
    "This class collects all information needed for an experiment:"
   ]
  },
  {
   "cell_type": "code",
   "execution_count": 42,
   "id": "3b0a26a9-a388-491a-916f-0ef415904050",
   "metadata": {},
   "outputs": [],
   "source": [
    "class Experiment :\n",
    "    log_directory='logs/'\n",
    "    \n",
    "    def __init__(self, pl_class, torch_model, label, version_name, datamodule, input_features, target_features, loss, optimizer, \\\n",
    "                 learning_rate=0.001, max_epochs=None, limit_train_batches=1.0, **kwargs) :\n",
    "        super().__init__()\n",
    "        self.pl_class = pl_class  # pytorch lightning module class\n",
    "        self.torch_model = torch_model\n",
    "        self.label = label\n",
    "        self.version_name = version_name\n",
    "        self.datamodule = datamodule\n",
    "        self.input_features = input_features\n",
    "        self.target_features = target_features\n",
    "        self.loss=loss\n",
    "        self.optimizer = optimizer\n",
    "        self.learning_rate = learning_rate\n",
    "        self.max_epochs = max_epochs\n",
    "        self.limit_train_batches = limit_train_batches\n",
    "        self.kwargs = kwargs\n",
    "        \n",
    "        # Instantiate pytorch lightning module\n",
    "        self.pylight_model = self.pl_class(self.torch_model, self.input_features, self.target_features, loss=self.loss, \\\n",
    "                                           optimizer=self.optimizer, learning_rate=self.learning_rate, **self.kwargs)\n",
    "        self.logger = pl_loggers.TensorBoardLogger(save_dir=self.log_directory, name=self.label, version=self.version_name)\n",
    "\n",
    "    def run(self) :\n",
    "        self.checkpoint_callback = ModelCheckpoint(dirpath=self.log_directory + self.label + \"/\" + self.version_name, \\\n",
    "                                              save_top_k=2, monitor=\"loss_val\", save_last=True)\n",
    "    \n",
    "        self.trainer = pl.Trainer(max_epochs=self.max_epochs, logger=self.logger, limit_train_batches=self.limit_train_batches, \\\n",
    "                                  callbacks=[EarlyStopping(monitor=\"loss_val\", mode=\"min\"), self.checkpoint_callback],\\\n",
    "                                  accelerator='gpu', devices=(1 if torch.cuda.is_available() else None))  \n",
    "        self.trainer.fit(model = self.pylight_model, datamodule=self.datamodule)\n",
    "        self.logs = get_logs_from_tb(exp_name=self.label, version_name=self.version_name, directory=self.log_directory)\n",
    "        \n",
    "    def get_logs(self) :\n",
    "        self.logs = get_logs_from_tb(exp_name=self.label, version_name=self.version_name, directory=self.log_directory)\n",
    "        \n",
    "    def get_checkpoint_path(self) :\n",
    "        #file = glob.glob(self.log_directory + self.label + \"/\" + self.version_name + '/*.ckpt')[-1]\n",
    "        #print(file)\n",
    "        file = self.log_directory + self.label + \"/\" + self.version_name + '/last.ckpt'\n",
    "        return file\n",
    "        \n",
    "    def test(self) :\n",
    "        return self.trainer.test(self.pylight_model, datamodule=self.datamodule)"
   ]
  },
  {
   "cell_type": "markdown",
   "id": "da614535-daa6-4d43-bbdd-983e1a44596e",
   "metadata": {},
   "source": [
    "# Data structure for experiments"
   ]
  },
  {
   "cell_type": "markdown",
   "id": "db2eb2d7-faeb-4fd9-abca-059e2becad21",
   "metadata": {},
   "source": [
    "Dictionary of dictionaries for arranging experiments"
   ]
  },
  {
   "cell_type": "code",
   "execution_count": 43,
   "id": "d1a5f2ea-c257-4f05-8775-e9a1ba9b2bff",
   "metadata": {},
   "outputs": [],
   "source": [
    "exp = dict()"
   ]
  },
  {
   "cell_type": "code",
   "execution_count": 44,
   "id": "fc0e0c15-8938-4bd3-932d-91e9bb339272",
   "metadata": {},
   "outputs": [],
   "source": [
    "exp['LinReg'] = dict()\n",
    "exp['FCNN'] = dict()\n",
    "exp['CNN'] = dict()"
   ]
  },
  {
   "cell_type": "markdown",
   "id": "3cb3578c-4153-4251-af78-641b70d64919",
   "metadata": {},
   "source": [
    "# Linear regression"
   ]
  },
  {
   "cell_type": "markdown",
   "id": "e46f6515-ca0f-487f-bb21-9c05b3d45960",
   "metadata": {},
   "source": [
    "## Model"
   ]
  },
  {
   "cell_type": "markdown",
   "id": "fe4eef53-41b0-4219-9ae7-f6a272a32a7b",
   "metadata": {},
   "source": [
    " (Torch analog of the deterministic parametrization)"
   ]
  },
  {
   "cell_type": "code",
   "execution_count": 45,
   "id": "0408a7a5-d9ad-45dd-87c3-a6f860bec278",
   "metadata": {},
   "outputs": [],
   "source": [
    "class lin_regr_model(torch.nn.Module):\n",
    "    def __init__(self, nb_of_input_features, nb_of_output_features):\n",
    "        super().__init__()\n",
    "        self.nb_of_input_features = nb_of_input_features\n",
    "        self.nb_of_output_features = nb_of_output_features\n",
    "        \n",
    "        self.cut_border_pix_output = 1\n",
    "        self.cut_border_pix_input = 1\n",
    "        \n",
    "        self.lin1 = torch.nn.Linear(self.nb_of_input_features, self.nb_of_output_features, bias=False)\n",
    "\n",
    "    def forward(self, x):\n",
    "        batch_len = x.shape[0]\n",
    "        output_h = x.shape[2]\n",
    "        output_w = x.shape[3]\n",
    "        \n",
    "        # first split the input 4D torch tensor into individual pixels (equivalent to patches of size 1x1)\n",
    "        res = torch.nn.functional.unfold(x, kernel_size=1, dilation=1, padding=0, stride=1)\n",
    "        res = torch.permute(res, dims=(0,2,1))\n",
    "        res = torch.flatten(res, end_dim=1).to(torch.float32)\n",
    "        \n",
    "        # perform linear regression\n",
    "        res = self.lin1(res)\n",
    "        \n",
    "        # reshape the model output back to a 4D torch tensor\n",
    "        res = torch.permute(res.unflatten(dim=0, sizes=[batch_len,-1]),dims=(0,2,1))\n",
    "        res = torch.nn.functional.fold(res, output_size=(output_h,output_w), kernel_size=1, dilation=1, padding=0, stride=1)\n",
    "        return res"
   ]
  },
  {
   "cell_type": "markdown",
   "id": "0756c694-4154-4481-9d55-a7910e43a3b7",
   "metadata": {},
   "source": [
    "## Experiments"
   ]
  },
  {
   "cell_type": "code",
   "execution_count": 46,
   "id": "b47da3b3-4c1f-4df1-955d-8771a7f10369",
   "metadata": {},
   "outputs": [],
   "source": [
    "model_name = 'LinReg'"
   ]
  },
  {
   "cell_type": "code",
   "execution_count": 47,
   "id": "028c1261-74cd-4ed0-a7f4-e5abf2cd9767",
   "metadata": {},
   "outputs": [],
   "source": [
    "list_of_exps = ['train_full']"
   ]
  },
  {
   "cell_type": "code",
   "execution_count": 48,
   "id": "3c5a5d19-dbbe-4a4d-8925-c27d65b4e980",
   "metadata": {},
   "outputs": [],
   "source": [
    "for exp_name in list_of_exps :\n",
    "    exp[model_name][exp_name] = dict()"
   ]
  },
  {
   "cell_type": "code",
   "execution_count": 49,
   "id": "da73eec8-99ed-41a0-bf0d-03fb07dc18e2",
   "metadata": {},
   "outputs": [],
   "source": [
    "input_features_LinReg = ['normalized_diff_sosstsst_sqr']\n",
    "output_features_LinReg = ['normalized_sosstsst_var']"
   ]
  },
  {
   "cell_type": "code",
   "execution_count": 50,
   "id": "b63006a8-3ec7-40b9-aa1e-8aaf7f76c5ca",
   "metadata": {},
   "outputs": [],
   "source": [
    "exp['LinReg']['train_full']['exp'] = Experiment(\\\n",
    "                      pl_class=GenericPyLiModule, \\\n",
    "                      torch_model=lin_regr_model(len(input_features_LinReg), len(output_features_LinReg)), \\\n",
    "                      label='2d_linear_reg', \\\n",
    "                      version_name='temp_var', \\\n",
    "                      input_features=input_features_LinReg, \\\n",
    "                      target_features=output_features_LinReg, \n",
    "                      datamodule=datamodule,\\\n",
    "                      loss = torch.nn.HuberLoss(reduction='mean', delta=0.9), \\\n",
    "                      optimizer = torch.optim.Adam,\\\n",
    "                      learning_rate = 1e-4,\\\n",
    "                      max_epochs=50, \\\n",
    "                      limit_train_batches=1.0) "
   ]
  },
  {
   "cell_type": "markdown",
   "id": "7246735b-d68f-4ca6-b03e-e8f41b10741b",
   "metadata": {},
   "source": [
    "## Training"
   ]
  },
  {
   "cell_type": "code",
   "execution_count": 35,
   "id": "aed55e71-d66c-415a-9c80-84e8971956fd",
   "metadata": {},
   "outputs": [
    {
     "name": "stderr",
     "output_type": "stream",
     "text": [
      "GPU available: True (cuda), used: True\n",
      "TPU available: False, using: 0 TPU cores\n",
      "IPU available: False, using: 0 IPUs\n",
      "HPU available: False, using: 0 HPUs\n",
      "`Trainer(limit_train_batches=1.0)` was configured so 100% of the batches per epoch will be used..\n",
      "LOCAL_RANK: 0 - CUDA_VISIBLE_DEVICES: [0]\n",
      "\n",
      "  | Name        | Type           | Params\n",
      "-----------------------------------------------\n",
      "0 | torch_model | lin_regr_model | 1     \n",
      "1 | loss        | HuberLoss      | 0     \n",
      "-----------------------------------------------\n",
      "1         Trainable params\n",
      "0         Non-trainable params\n",
      "1         Total params\n",
      "0.000     Total estimated model params size (MB)\n"
     ]
    },
    {
     "data": {
      "application/vnd.jupyter.widget-view+json": {
       "model_id": "",
       "version_major": 2,
       "version_minor": 0
      },
      "text/plain": [
       "Sanity Checking: 0it [00:00, ?it/s]"
      ]
     },
     "metadata": {},
     "output_type": "display_data"
    },
    {
     "data": {
      "application/vnd.jupyter.widget-view+json": {
       "model_id": "15697f2ae4c645cc99742fde64467b49",
       "version_major": 2,
       "version_minor": 0
      },
      "text/plain": [
       "Training: 0it [00:00, ?it/s]"
      ]
     },
     "metadata": {},
     "output_type": "display_data"
    },
    {
     "data": {
      "application/vnd.jupyter.widget-view+json": {
       "model_id": "",
       "version_major": 2,
       "version_minor": 0
      },
      "text/plain": [
       "Validation: 0it [00:00, ?it/s]"
      ]
     },
     "metadata": {},
     "output_type": "display_data"
    },
    {
     "data": {
      "application/vnd.jupyter.widget-view+json": {
       "model_id": "",
       "version_major": 2,
       "version_minor": 0
      },
      "text/plain": [
       "Validation: 0it [00:00, ?it/s]"
      ]
     },
     "metadata": {},
     "output_type": "display_data"
    },
    {
     "data": {
      "application/vnd.jupyter.widget-view+json": {
       "model_id": "",
       "version_major": 2,
       "version_minor": 0
      },
      "text/plain": [
       "Validation: 0it [00:00, ?it/s]"
      ]
     },
     "metadata": {},
     "output_type": "display_data"
    },
    {
     "data": {
      "application/vnd.jupyter.widget-view+json": {
       "model_id": "",
       "version_major": 2,
       "version_minor": 0
      },
      "text/plain": [
       "Validation: 0it [00:00, ?it/s]"
      ]
     },
     "metadata": {},
     "output_type": "display_data"
    },
    {
     "data": {
      "application/vnd.jupyter.widget-view+json": {
       "model_id": "",
       "version_major": 2,
       "version_minor": 0
      },
      "text/plain": [
       "Validation: 0it [00:00, ?it/s]"
      ]
     },
     "metadata": {},
     "output_type": "display_data"
    },
    {
     "data": {
      "application/vnd.jupyter.widget-view+json": {
       "model_id": "",
       "version_major": 2,
       "version_minor": 0
      },
      "text/plain": [
       "Validation: 0it [00:00, ?it/s]"
      ]
     },
     "metadata": {},
     "output_type": "display_data"
    },
    {
     "data": {
      "application/vnd.jupyter.widget-view+json": {
       "model_id": "",
       "version_major": 2,
       "version_minor": 0
      },
      "text/plain": [
       "Validation: 0it [00:00, ?it/s]"
      ]
     },
     "metadata": {},
     "output_type": "display_data"
    },
    {
     "data": {
      "application/vnd.jupyter.widget-view+json": {
       "model_id": "",
       "version_major": 2,
       "version_minor": 0
      },
      "text/plain": [
       "Validation: 0it [00:00, ?it/s]"
      ]
     },
     "metadata": {},
     "output_type": "display_data"
    },
    {
     "name": "stdout",
     "output_type": "stream",
     "text": [
      "logs//2d_linear_reg/temp_var/events.out.tfevents.1669722708.jupyter-anastasiagor.924.0\n"
     ]
    }
   ],
   "source": [
    "exp['LinReg']['train_full']['exp'].run()\n",
    "clear_output(wait=True)"
   ]
  },
  {
   "cell_type": "code",
   "execution_count": 51,
   "id": "505ce039-57fd-467f-b11f-697ac9a614da",
   "metadata": {},
   "outputs": [
    {
     "name": "stdout",
     "output_type": "stream",
     "text": [
      "logs//2d_linear_reg/temp_var/events.out.tfevents.1669722708.jupyter-anastasiagor.924.0\n"
     ]
    },
    {
     "data": {
      "image/png": "[encoded data removed]",
      "text/plain": [
       "<Figure size 700x250 with 2 Axes>"
      ]
     },
     "metadata": {},
     "output_type": "display_data"
    }
   ],
   "source": [
    "fig, ax = plt.subplots(1, 2, constrained_layout=True, figsize=(7, 2.5))\n",
    "exp_model = exp['LinReg']\n",
    "\n",
    "for i, exp_name in enumerate(exp_model) :\n",
    "    experiment = exp_model[exp_name]['exp']\n",
    "    experiment.get_logs()\n",
    "    ax[0].plot(experiment.logs['loss_train'], color=list(mcolors.TABLEAU_COLORS.values())[0], ls=line_styles[i], marker='.', label='Training ' + exp_name)\n",
    "    ax[0].plot(experiment.logs['loss_val'], color=list(mcolors.TABLEAU_COLORS.values())[1], ls=line_styles[i], marker='.', label='Validation ' + exp_name)\n",
    "    #ax[1].plot(experiment.logs['coef_train'], color=list(mcolors.TABLEAU_COLORS.values())[0], ls=line_styles[i], marker='.')\n",
    "ax[0].set(xlabel='Epoch', ylabel='MSE'); ax[0].grid(True)\n",
    "ax[0].set(ylabel='MSE')\n",
    "ax[0].legend(bbox_to_anchor=(1.05, 1), loc='upper left')\n",
    "\n",
    "ax[1].set(title='first coef', ylabel='c', xlabel='Epoch', yscale='linear');ax[1].grid()\n",
    "plt.show()"
   ]
  },
  {
   "cell_type": "code",
   "execution_count": 37,
   "id": "2246334b-89f7-4375-9cc5-dc14aa2f16d2",
   "metadata": {},
   "outputs": [
    {
     "data": {
      "text/plain": [
       "tensor(0.5506)"
      ]
     },
     "execution_count": 37,
     "metadata": {},
     "output_type": "execute_result"
    }
   ],
   "source": [
    "exp['LinReg']['train_full']['exp'].torch_model.lin1.weight.data[0][0]"
   ]
  },
  {
   "cell_type": "markdown",
   "id": "ff56d616-ef48-44ed-8de0-a84d0486862b",
   "metadata": {},
   "source": [
    "# Fully-connected NN for patches"
   ]
  },
  {
   "cell_type": "markdown",
   "id": "ab11e8cd-d6bd-4ccd-b3f6-fffbdc59f010",
   "metadata": {},
   "source": [
    "## Model"
   ]
  },
  {
   "cell_type": "markdown",
   "id": "ce56e2f8-3394-4af0-a48f-cacb91df0a6f",
   "metadata": {},
   "source": [
    "The torch module class describing a model that treats the inputs/outputs by patches of pixels. "
   ]
  },
  {
   "cell_type": "code",
   "execution_count": 52,
   "id": "9ca64492-abe7-4de7-bb19-56bc3b56e92d",
   "metadata": {},
   "outputs": [],
   "source": [
    "class FCNN(torch.nn.Module):\n",
    "    def __init__(self, nb_of_input_features, nb_of_output_features, input_patch_size, output_patch_size):\n",
    "        super().__init__()\n",
    "        self.input_patch_size = input_patch_size\n",
    "        self.output_patch_size = output_patch_size\n",
    "        \n",
    "        self.lin1 = torch.nn.Linear(nb_of_input_features*input_patch_size**2, 50, bias=True)\n",
    "        self.lin2 = torch.nn.Linear(50, 50, bias=True)\n",
    "        self.lin3 = torch.nn.Linear(50, nb_of_output_features*output_patch_size**2, bias=True)\n",
    "        \n",
    "        self.cut_border_pix_output = self.input_patch_size//2 - self.output_patch_size//2\n",
    "        self.cut_border_pix_input = None\n",
    "\n",
    "    def forward(self, x):\n",
    "        batch_len = x.shape[0]\n",
    "        output_h = x.shape[2]-2*(self.cut_border_pix_output)\n",
    "        output_w = x.shape[3]-2*(self.cut_border_pix_output)\n",
    "        \n",
    "        # create patches of size 'input_patch_size' and join them into batches (zero padding - will remove border pixels)\n",
    "        res = torch.nn.functional.unfold(x, kernel_size=self.input_patch_size, dilation=1, padding=0, stride=1)\n",
    "        res = torch.permute(res, dims=(0,2,1))\n",
    "        res = torch.flatten(res, end_dim=1)\n",
    "        \n",
    "        # pass though the FCNN\n",
    "        res = self.lin1(res)\n",
    "        res = torch.nn.functional.relu(res)\n",
    "        res = self.lin2(res)\n",
    "        res = torch.nn.functional.relu(res)\n",
    "        res = self.lin3(res)\n",
    "        \n",
    "        # reshape the output patches back into a 4D torch tensor\n",
    "        res = torch.permute(res.unflatten(dim=0, sizes=[batch_len,-1]),dims=(0,2,1))\n",
    "        res = torch.nn.functional.fold(res, output_size=(output_h,output_w), kernel_size=self.output_patch_size, dilation=1, padding=0, stride=1)\n",
    "        # compute the divider needed to get correct values in case of overlapping patches (will give mean over all overlapping patches)\n",
    "        mask_ones = torch.ones((1,1,output_h,output_w)).to(x.device)\n",
    "        divisor = torch.nn.functional.fold(torch.nn.functional.unfold(mask_ones, kernel_size=self.output_patch_size), \\\n",
    "                                           kernel_size=self.output_patch_size, output_size=(output_h,output_w))   \n",
    "        res = res/divisor.view(1,1,output_h,output_w)\n",
    "        \n",
    "        return res"
   ]
  },
  {
   "cell_type": "markdown",
   "id": "e71931f3-b9ed-4602-9af1-118a067838a3",
   "metadata": {},
   "source": [
    "## Experiments"
   ]
  },
  {
   "cell_type": "code",
   "execution_count": 53,
   "id": "7722f2d2-cc07-446c-8f25-a58a1855a6b6",
   "metadata": {},
   "outputs": [],
   "source": [
    "model_name = 'FCNN'"
   ]
  },
  {
   "cell_type": "code",
   "execution_count": 54,
   "id": "322b155c-db04-4c1c-ab7a-2f8c897f2c0c",
   "metadata": {},
   "outputs": [],
   "source": [
    "list_of_exps = ['patch_3-1', 'patch_5-3']"
   ]
  },
  {
   "cell_type": "code",
   "execution_count": 55,
   "id": "329fc887-fdc9-4af9-9792-d17585360b48",
   "metadata": {},
   "outputs": [],
   "source": [
    "for exp_name in list_of_exps :\n",
    "    exp[model_name][exp_name] = dict()"
   ]
  },
  {
   "cell_type": "code",
   "execution_count": 56,
   "id": "c46e1ad3-61e1-41d6-9852-6d0e93e16c74",
   "metadata": {},
   "outputs": [],
   "source": [
    "input_features_FCNN = ['normalized_sosstsst']\n",
    "output_features_FCNN = ['normalized_sosstsst_var']"
   ]
  },
  {
   "cell_type": "code",
   "execution_count": 57,
   "id": "8c14469b-b5a5-4f81-acb7-59483f63df2b",
   "metadata": {},
   "outputs": [],
   "source": [
    "exp['FCNN']['patch_3-1']['exp'] = Experiment(pl_class=GenericPyLiModule, \\\n",
    "                      torch_model=FCNN(nb_of_input_features=len(input_features_FCNN), nb_of_output_features=len(output_features_FCNN), \\\n",
    "                                       input_patch_size=3, output_patch_size=1), \\\n",
    "                      label='FCNN_patched', \\\n",
    "                      version_name='var_patch_3-1', \\\n",
    "                      input_features=input_features_FCNN, \\\n",
    "                      target_features=output_features_FCNN, \\\n",
    "                      datamodule=datamodule,\\\n",
    "                      max_epochs=50, \\\n",
    "                      limit_train_batches=1.0,\n",
    "                      loss = torch.nn.MSELoss(),\\\n",
    "                      optimizer = torch.optim.Adam,\\\n",
    "                      learning_rate=1e-4) "
   ]
  },
  {
   "cell_type": "code",
   "execution_count": 58,
   "id": "a9a5f2fc-ca84-4f29-b993-17a14ab259e7",
   "metadata": {},
   "outputs": [],
   "source": [
    "exp['FCNN']['patch_5-3']['exp'] = Experiment(pl_class=GenericPyLiModule, \\\n",
    "                      torch_model=FCNN(nb_of_input_features=len(input_features_FCNN), nb_of_output_features=len(output_features_FCNN), \\\n",
    "                                       input_patch_size=5, output_patch_size=3), \\\n",
    "                      label='FCNN_patched', \\\n",
    "                      version_name='var_patch_5-3', \\\n",
    "                      input_features=input_features_FCNN, \\\n",
    "                      target_features=output_features_FCNN, \\\n",
    "                      datamodule=datamodule,\\\n",
    "                      max_epochs=50, \\\n",
    "                      limit_train_batches=1.0,\\\n",
    "                      loss = torch.nn.MSELoss(),\\\n",
    "                      optimizer = torch.optim.Adam,\\\n",
    "                      learning_rate=1e-4)"
   ]
  },
  {
   "cell_type": "markdown",
   "id": "373cfc20-e0be-45d1-b311-5404f7ac3cd0",
   "metadata": {},
   "source": [
    "## Training"
   ]
  },
  {
   "cell_type": "code",
   "execution_count": 43,
   "id": "f3c59d25-be2a-4384-a133-cc2ef8a2ec78",
   "metadata": {},
   "outputs": [
    {
     "name": "stderr",
     "output_type": "stream",
     "text": [
      "GPU available: True (cuda), used: True\n",
      "TPU available: False, using: 0 TPU cores\n",
      "IPU available: False, using: 0 IPUs\n",
      "HPU available: False, using: 0 HPUs\n",
      "`Trainer(limit_train_batches=1.0)` was configured so 100% of the batches per epoch will be used..\n",
      "LOCAL_RANK: 0 - CUDA_VISIBLE_DEVICES: [0]\n",
      "\n",
      "  | Name        | Type    | Params\n",
      "----------------------------------------\n",
      "0 | torch_model | FCNN    | 3.1 K \n",
      "1 | loss        | MSELoss | 0     \n",
      "----------------------------------------\n",
      "3.1 K     Trainable params\n",
      "0         Non-trainable params\n",
      "3.1 K     Total params\n",
      "0.012     Total estimated model params size (MB)\n"
     ]
    },
    {
     "data": {
      "application/vnd.jupyter.widget-view+json": {
       "model_id": "",
       "version_major": 2,
       "version_minor": 0
      },
      "text/plain": [
       "Sanity Checking: 0it [00:00, ?it/s]"
      ]
     },
     "metadata": {},
     "output_type": "display_data"
    },
    {
     "data": {
      "application/vnd.jupyter.widget-view+json": {
       "model_id": "9b69f4edb8784616930735fe6578236e",
       "version_major": 2,
       "version_minor": 0
      },
      "text/plain": [
       "Training: 0it [00:00, ?it/s]"
      ]
     },
     "metadata": {},
     "output_type": "display_data"
    },
    {
     "data": {
      "application/vnd.jupyter.widget-view+json": {
       "model_id": "",
       "version_major": 2,
       "version_minor": 0
      },
      "text/plain": [
       "Validation: 0it [00:00, ?it/s]"
      ]
     },
     "metadata": {},
     "output_type": "display_data"
    },
    {
     "data": {
      "application/vnd.jupyter.widget-view+json": {
       "model_id": "",
       "version_major": 2,
       "version_minor": 0
      },
      "text/plain": [
       "Validation: 0it [00:00, ?it/s]"
      ]
     },
     "metadata": {},
     "output_type": "display_data"
    },
    {
     "data": {
      "application/vnd.jupyter.widget-view+json": {
       "model_id": "",
       "version_major": 2,
       "version_minor": 0
      },
      "text/plain": [
       "Validation: 0it [00:00, ?it/s]"
      ]
     },
     "metadata": {},
     "output_type": "display_data"
    },
    {
     "data": {
      "application/vnd.jupyter.widget-view+json": {
       "model_id": "",
       "version_major": 2,
       "version_minor": 0
      },
      "text/plain": [
       "Validation: 0it [00:00, ?it/s]"
      ]
     },
     "metadata": {},
     "output_type": "display_data"
    },
    {
     "data": {
      "application/vnd.jupyter.widget-view+json": {
       "model_id": "",
       "version_major": 2,
       "version_minor": 0
      },
      "text/plain": [
       "Validation: 0it [00:00, ?it/s]"
      ]
     },
     "metadata": {},
     "output_type": "display_data"
    },
    {
     "data": {
      "application/vnd.jupyter.widget-view+json": {
       "model_id": "",
       "version_major": 2,
       "version_minor": 0
      },
      "text/plain": [
       "Validation: 0it [00:00, ?it/s]"
      ]
     },
     "metadata": {},
     "output_type": "display_data"
    },
    {
     "data": {
      "application/vnd.jupyter.widget-view+json": {
       "model_id": "",
       "version_major": 2,
       "version_minor": 0
      },
      "text/plain": [
       "Validation: 0it [00:00, ?it/s]"
      ]
     },
     "metadata": {},
     "output_type": "display_data"
    },
    {
     "data": {
      "application/vnd.jupyter.widget-view+json": {
       "model_id": "",
       "version_major": 2,
       "version_minor": 0
      },
      "text/plain": [
       "Validation: 0it [00:00, ?it/s]"
      ]
     },
     "metadata": {},
     "output_type": "display_data"
    },
    {
     "data": {
      "application/vnd.jupyter.widget-view+json": {
       "model_id": "",
       "version_major": 2,
       "version_minor": 0
      },
      "text/plain": [
       "Validation: 0it [00:00, ?it/s]"
      ]
     },
     "metadata": {},
     "output_type": "display_data"
    },
    {
     "data": {
      "application/vnd.jupyter.widget-view+json": {
       "model_id": "",
       "version_major": 2,
       "version_minor": 0
      },
      "text/plain": [
       "Validation: 0it [00:00, ?it/s]"
      ]
     },
     "metadata": {},
     "output_type": "display_data"
    },
    {
     "data": {
      "application/vnd.jupyter.widget-view+json": {
       "model_id": "",
       "version_major": 2,
       "version_minor": 0
      },
      "text/plain": [
       "Validation: 0it [00:00, ?it/s]"
      ]
     },
     "metadata": {},
     "output_type": "display_data"
    },
    {
     "data": {
      "application/vnd.jupyter.widget-view+json": {
       "model_id": "",
       "version_major": 2,
       "version_minor": 0
      },
      "text/plain": [
       "Validation: 0it [00:00, ?it/s]"
      ]
     },
     "metadata": {},
     "output_type": "display_data"
    },
    {
     "data": {
      "application/vnd.jupyter.widget-view+json": {
       "model_id": "",
       "version_major": 2,
       "version_minor": 0
      },
      "text/plain": [
       "Validation: 0it [00:00, ?it/s]"
      ]
     },
     "metadata": {},
     "output_type": "display_data"
    },
    {
     "data": {
      "application/vnd.jupyter.widget-view+json": {
       "model_id": "",
       "version_major": 2,
       "version_minor": 0
      },
      "text/plain": [
       "Validation: 0it [00:00, ?it/s]"
      ]
     },
     "metadata": {},
     "output_type": "display_data"
    },
    {
     "data": {
      "application/vnd.jupyter.widget-view+json": {
       "model_id": "",
       "version_major": 2,
       "version_minor": 0
      },
      "text/plain": [
       "Validation: 0it [00:00, ?it/s]"
      ]
     },
     "metadata": {},
     "output_type": "display_data"
    },
    {
     "data": {
      "application/vnd.jupyter.widget-view+json": {
       "model_id": "",
       "version_major": 2,
       "version_minor": 0
      },
      "text/plain": [
       "Validation: 0it [00:00, ?it/s]"
      ]
     },
     "metadata": {},
     "output_type": "display_data"
    },
    {
     "data": {
      "application/vnd.jupyter.widget-view+json": {
       "model_id": "",
       "version_major": 2,
       "version_minor": 0
      },
      "text/plain": [
       "Validation: 0it [00:00, ?it/s]"
      ]
     },
     "metadata": {},
     "output_type": "display_data"
    },
    {
     "data": {
      "application/vnd.jupyter.widget-view+json": {
       "model_id": "",
       "version_major": 2,
       "version_minor": 0
      },
      "text/plain": [
       "Validation: 0it [00:00, ?it/s]"
      ]
     },
     "metadata": {},
     "output_type": "display_data"
    },
    {
     "data": {
      "application/vnd.jupyter.widget-view+json": {
       "model_id": "",
       "version_major": 2,
       "version_minor": 0
      },
      "text/plain": [
       "Validation: 0it [00:00, ?it/s]"
      ]
     },
     "metadata": {},
     "output_type": "display_data"
    },
    {
     "data": {
      "application/vnd.jupyter.widget-view+json": {
       "model_id": "",
       "version_major": 2,
       "version_minor": 0
      },
      "text/plain": [
       "Validation: 0it [00:00, ?it/s]"
      ]
     },
     "metadata": {},
     "output_type": "display_data"
    },
    {
     "data": {
      "application/vnd.jupyter.widget-view+json": {
       "model_id": "",
       "version_major": 2,
       "version_minor": 0
      },
      "text/plain": [
       "Validation: 0it [00:00, ?it/s]"
      ]
     },
     "metadata": {},
     "output_type": "display_data"
    },
    {
     "data": {
      "application/vnd.jupyter.widget-view+json": {
       "model_id": "",
       "version_major": 2,
       "version_minor": 0
      },
      "text/plain": [
       "Validation: 0it [00:00, ?it/s]"
      ]
     },
     "metadata": {},
     "output_type": "display_data"
    },
    {
     "data": {
      "application/vnd.jupyter.widget-view+json": {
       "model_id": "",
       "version_major": 2,
       "version_minor": 0
      },
      "text/plain": [
       "Validation: 0it [00:00, ?it/s]"
      ]
     },
     "metadata": {},
     "output_type": "display_data"
    },
    {
     "name": "stdout",
     "output_type": "stream",
     "text": [
      "logs//FCNN_patched/var_patch_3-1/events.out.tfevents.1669661966.jupyter-anastasiagor.6147.1\n"
     ]
    }
   ],
   "source": [
    "exp['FCNN']['patch_3-1']['exp'].run()\n",
    "clear_output(wait=True)"
   ]
  },
  {
   "cell_type": "code",
   "execution_count": 44,
   "id": "b4979a60-c4c2-4e6e-a8c6-797e7774b39b",
   "metadata": {},
   "outputs": [
    {
     "name": "stderr",
     "output_type": "stream",
     "text": [
      "GPU available: True (cuda), used: True\n",
      "TPU available: False, using: 0 TPU cores\n",
      "IPU available: False, using: 0 IPUs\n",
      "HPU available: False, using: 0 HPUs\n",
      "`Trainer(limit_train_batches=1.0)` was configured so 100% of the batches per epoch will be used..\n",
      "LOCAL_RANK: 0 - CUDA_VISIBLE_DEVICES: [0]\n",
      "\n",
      "  | Name        | Type    | Params\n",
      "----------------------------------------\n",
      "0 | torch_model | FCNN    | 4.3 K \n",
      "1 | loss        | MSELoss | 0     \n",
      "----------------------------------------\n",
      "4.3 K     Trainable params\n",
      "0         Non-trainable params\n",
      "4.3 K     Total params\n",
      "0.017     Total estimated model params size (MB)\n"
     ]
    },
    {
     "data": {
      "application/vnd.jupyter.widget-view+json": {
       "model_id": "",
       "version_major": 2,
       "version_minor": 0
      },
      "text/plain": [
       "Sanity Checking: 0it [00:00, ?it/s]"
      ]
     },
     "metadata": {},
     "output_type": "display_data"
    },
    {
     "data": {
      "application/vnd.jupyter.widget-view+json": {
       "model_id": "9b107ba6bc0f4e37a391dea83a193862",
       "version_major": 2,
       "version_minor": 0
      },
      "text/plain": [
       "Training: 0it [00:00, ?it/s]"
      ]
     },
     "metadata": {},
     "output_type": "display_data"
    },
    {
     "data": {
      "application/vnd.jupyter.widget-view+json": {
       "model_id": "",
       "version_major": 2,
       "version_minor": 0
      },
      "text/plain": [
       "Validation: 0it [00:00, ?it/s]"
      ]
     },
     "metadata": {},
     "output_type": "display_data"
    },
    {
     "data": {
      "application/vnd.jupyter.widget-view+json": {
       "model_id": "",
       "version_major": 2,
       "version_minor": 0
      },
      "text/plain": [
       "Validation: 0it [00:00, ?it/s]"
      ]
     },
     "metadata": {},
     "output_type": "display_data"
    },
    {
     "data": {
      "application/vnd.jupyter.widget-view+json": {
       "model_id": "",
       "version_major": 2,
       "version_minor": 0
      },
      "text/plain": [
       "Validation: 0it [00:00, ?it/s]"
      ]
     },
     "metadata": {},
     "output_type": "display_data"
    },
    {
     "data": {
      "application/vnd.jupyter.widget-view+json": {
       "model_id": "",
       "version_major": 2,
       "version_minor": 0
      },
      "text/plain": [
       "Validation: 0it [00:00, ?it/s]"
      ]
     },
     "metadata": {},
     "output_type": "display_data"
    },
    {
     "data": {
      "application/vnd.jupyter.widget-view+json": {
       "model_id": "",
       "version_major": 2,
       "version_minor": 0
      },
      "text/plain": [
       "Validation: 0it [00:00, ?it/s]"
      ]
     },
     "metadata": {},
     "output_type": "display_data"
    },
    {
     "data": {
      "application/vnd.jupyter.widget-view+json": {
       "model_id": "",
       "version_major": 2,
       "version_minor": 0
      },
      "text/plain": [
       "Validation: 0it [00:00, ?it/s]"
      ]
     },
     "metadata": {},
     "output_type": "display_data"
    },
    {
     "data": {
      "application/vnd.jupyter.widget-view+json": {
       "model_id": "",
       "version_major": 2,
       "version_minor": 0
      },
      "text/plain": [
       "Validation: 0it [00:00, ?it/s]"
      ]
     },
     "metadata": {},
     "output_type": "display_data"
    },
    {
     "data": {
      "application/vnd.jupyter.widget-view+json": {
       "model_id": "",
       "version_major": 2,
       "version_minor": 0
      },
      "text/plain": [
       "Validation: 0it [00:00, ?it/s]"
      ]
     },
     "metadata": {},
     "output_type": "display_data"
    },
    {
     "data": {
      "application/vnd.jupyter.widget-view+json": {
       "model_id": "",
       "version_major": 2,
       "version_minor": 0
      },
      "text/plain": [
       "Validation: 0it [00:00, ?it/s]"
      ]
     },
     "metadata": {},
     "output_type": "display_data"
    },
    {
     "data": {
      "application/vnd.jupyter.widget-view+json": {
       "model_id": "",
       "version_major": 2,
       "version_minor": 0
      },
      "text/plain": [
       "Validation: 0it [00:00, ?it/s]"
      ]
     },
     "metadata": {},
     "output_type": "display_data"
    },
    {
     "data": {
      "application/vnd.jupyter.widget-view+json": {
       "model_id": "",
       "version_major": 2,
       "version_minor": 0
      },
      "text/plain": [
       "Validation: 0it [00:00, ?it/s]"
      ]
     },
     "metadata": {},
     "output_type": "display_data"
    },
    {
     "data": {
      "application/vnd.jupyter.widget-view+json": {
       "model_id": "",
       "version_major": 2,
       "version_minor": 0
      },
      "text/plain": [
       "Validation: 0it [00:00, ?it/s]"
      ]
     },
     "metadata": {},
     "output_type": "display_data"
    },
    {
     "data": {
      "application/vnd.jupyter.widget-view+json": {
       "model_id": "",
       "version_major": 2,
       "version_minor": 0
      },
      "text/plain": [
       "Validation: 0it [00:00, ?it/s]"
      ]
     },
     "metadata": {},
     "output_type": "display_data"
    },
    {
     "data": {
      "application/vnd.jupyter.widget-view+json": {
       "model_id": "",
       "version_major": 2,
       "version_minor": 0
      },
      "text/plain": [
       "Validation: 0it [00:00, ?it/s]"
      ]
     },
     "metadata": {},
     "output_type": "display_data"
    },
    {
     "data": {
      "application/vnd.jupyter.widget-view+json": {
       "model_id": "",
       "version_major": 2,
       "version_minor": 0
      },
      "text/plain": [
       "Validation: 0it [00:00, ?it/s]"
      ]
     },
     "metadata": {},
     "output_type": "display_data"
    },
    {
     "data": {
      "application/vnd.jupyter.widget-view+json": {
       "model_id": "",
       "version_major": 2,
       "version_minor": 0
      },
      "text/plain": [
       "Validation: 0it [00:00, ?it/s]"
      ]
     },
     "metadata": {},
     "output_type": "display_data"
    },
    {
     "data": {
      "application/vnd.jupyter.widget-view+json": {
       "model_id": "",
       "version_major": 2,
       "version_minor": 0
      },
      "text/plain": [
       "Validation: 0it [00:00, ?it/s]"
      ]
     },
     "metadata": {},
     "output_type": "display_data"
    },
    {
     "data": {
      "application/vnd.jupyter.widget-view+json": {
       "model_id": "",
       "version_major": 2,
       "version_minor": 0
      },
      "text/plain": [
       "Validation: 0it [00:00, ?it/s]"
      ]
     },
     "metadata": {},
     "output_type": "display_data"
    },
    {
     "data": {
      "application/vnd.jupyter.widget-view+json": {
       "model_id": "",
       "version_major": 2,
       "version_minor": 0
      },
      "text/plain": [
       "Validation: 0it [00:00, ?it/s]"
      ]
     },
     "metadata": {},
     "output_type": "display_data"
    },
    {
     "data": {
      "application/vnd.jupyter.widget-view+json": {
       "model_id": "",
       "version_major": 2,
       "version_minor": 0
      },
      "text/plain": [
       "Validation: 0it [00:00, ?it/s]"
      ]
     },
     "metadata": {},
     "output_type": "display_data"
    },
    {
     "data": {
      "application/vnd.jupyter.widget-view+json": {
       "model_id": "",
       "version_major": 2,
       "version_minor": 0
      },
      "text/plain": [
       "Validation: 0it [00:00, ?it/s]"
      ]
     },
     "metadata": {},
     "output_type": "display_data"
    },
    {
     "data": {
      "application/vnd.jupyter.widget-view+json": {
       "model_id": "",
       "version_major": 2,
       "version_minor": 0
      },
      "text/plain": [
       "Validation: 0it [00:00, ?it/s]"
      ]
     },
     "metadata": {},
     "output_type": "display_data"
    },
    {
     "data": {
      "application/vnd.jupyter.widget-view+json": {
       "model_id": "",
       "version_major": 2,
       "version_minor": 0
      },
      "text/plain": [
       "Validation: 0it [00:00, ?it/s]"
      ]
     },
     "metadata": {},
     "output_type": "display_data"
    },
    {
     "data": {
      "application/vnd.jupyter.widget-view+json": {
       "model_id": "",
       "version_major": 2,
       "version_minor": 0
      },
      "text/plain": [
       "Validation: 0it [00:00, ?it/s]"
      ]
     },
     "metadata": {},
     "output_type": "display_data"
    },
    {
     "data": {
      "application/vnd.jupyter.widget-view+json": {
       "model_id": "",
       "version_major": 2,
       "version_minor": 0
      },
      "text/plain": [
       "Validation: 0it [00:00, ?it/s]"
      ]
     },
     "metadata": {},
     "output_type": "display_data"
    },
    {
     "data": {
      "application/vnd.jupyter.widget-view+json": {
       "model_id": "",
       "version_major": 2,
       "version_minor": 0
      },
      "text/plain": [
       "Validation: 0it [00:00, ?it/s]"
      ]
     },
     "metadata": {},
     "output_type": "display_data"
    },
    {
     "data": {
      "application/vnd.jupyter.widget-view+json": {
       "model_id": "",
       "version_major": 2,
       "version_minor": 0
      },
      "text/plain": [
       "Validation: 0it [00:00, ?it/s]"
      ]
     },
     "metadata": {},
     "output_type": "display_data"
    },
    {
     "data": {
      "application/vnd.jupyter.widget-view+json": {
       "model_id": "",
       "version_major": 2,
       "version_minor": 0
      },
      "text/plain": [
       "Validation: 0it [00:00, ?it/s]"
      ]
     },
     "metadata": {},
     "output_type": "display_data"
    },
    {
     "data": {
      "application/vnd.jupyter.widget-view+json": {
       "model_id": "",
       "version_major": 2,
       "version_minor": 0
      },
      "text/plain": [
       "Validation: 0it [00:00, ?it/s]"
      ]
     },
     "metadata": {},
     "output_type": "display_data"
    },
    {
     "data": {
      "application/vnd.jupyter.widget-view+json": {
       "model_id": "",
       "version_major": 2,
       "version_minor": 0
      },
      "text/plain": [
       "Validation: 0it [00:00, ?it/s]"
      ]
     },
     "metadata": {},
     "output_type": "display_data"
    },
    {
     "data": {
      "application/vnd.jupyter.widget-view+json": {
       "model_id": "",
       "version_major": 2,
       "version_minor": 0
      },
      "text/plain": [
       "Validation: 0it [00:00, ?it/s]"
      ]
     },
     "metadata": {},
     "output_type": "display_data"
    },
    {
     "data": {
      "application/vnd.jupyter.widget-view+json": {
       "model_id": "",
       "version_major": 2,
       "version_minor": 0
      },
      "text/plain": [
       "Validation: 0it [00:00, ?it/s]"
      ]
     },
     "metadata": {},
     "output_type": "display_data"
    },
    {
     "data": {
      "application/vnd.jupyter.widget-view+json": {
       "model_id": "",
       "version_major": 2,
       "version_minor": 0
      },
      "text/plain": [
       "Validation: 0it [00:00, ?it/s]"
      ]
     },
     "metadata": {},
     "output_type": "display_data"
    },
    {
     "data": {
      "application/vnd.jupyter.widget-view+json": {
       "model_id": "",
       "version_major": 2,
       "version_minor": 0
      },
      "text/plain": [
       "Validation: 0it [00:00, ?it/s]"
      ]
     },
     "metadata": {},
     "output_type": "display_data"
    },
    {
     "data": {
      "application/vnd.jupyter.widget-view+json": {
       "model_id": "",
       "version_major": 2,
       "version_minor": 0
      },
      "text/plain": [
       "Validation: 0it [00:00, ?it/s]"
      ]
     },
     "metadata": {},
     "output_type": "display_data"
    },
    {
     "data": {
      "application/vnd.jupyter.widget-view+json": {
       "model_id": "",
       "version_major": 2,
       "version_minor": 0
      },
      "text/plain": [
       "Validation: 0it [00:00, ?it/s]"
      ]
     },
     "metadata": {},
     "output_type": "display_data"
    },
    {
     "name": "stdout",
     "output_type": "stream",
     "text": [
      "logs//FCNN_patched/var_patch_5-3/events.out.tfevents.1669662444.jupyter-anastasiagor.6147.2\n"
     ]
    }
   ],
   "source": [
    "exp['FCNN']['patch_5-3']['exp'].run()\n",
    "clear_output(wait=True)"
   ]
  },
  {
   "cell_type": "code",
   "execution_count": 45,
   "id": "9618a831-1a2c-4348-949b-ded7ae9dce94",
   "metadata": {},
   "outputs": [
    {
     "name": "stdout",
     "output_type": "stream",
     "text": [
      "logs//FCNN_patched/var_patch_3-1/events.out.tfevents.1669661966.jupyter-anastasiagor.6147.1\n",
      "logs//FCNN_patched/var_patch_5-3/events.out.tfevents.1669662444.jupyter-anastasiagor.6147.2\n"
     ]
    },
    {
     "data": {
      "image/png": "[encoded data removed]",
      "text/plain": [
       "<Figure size 1000x350 with 2 Axes>"
      ]
     },
     "metadata": {},
     "output_type": "display_data"
    }
   ],
   "source": [
    "fig, ax = plt.subplots(1, 2, constrained_layout=True, figsize=(10, 3.5))\n",
    "exp_model = exp['FCNN']\n",
    "\n",
    "for i, exp_name in enumerate(['patch_3-1', 'patch_5-3']) :\n",
    "    experiment = exp_model[exp_name]['exp']\n",
    "    experiment.get_logs()\n",
    "    ax[0].plot(experiment.logs['loss_train'], color=list(mcolors.TABLEAU_COLORS.values())[i], \\\n",
    "               ls=line_styles[0], marker='.', label='Training ' + exp_name)\n",
    "    ax[0].plot(experiment.logs['loss_val'], color=list(mcolors.TABLEAU_COLORS.values())[i], \\\n",
    "               ls=line_styles[1], marker='.', label='Validation ' + exp_name)\n",
    "ax[0].set(xlabel='Epoch', ylabel='MSE'); ax[0].grid(True)\n",
    "ax[0].set(ylabel='MSE')\n",
    "ax[0].legend(bbox_to_anchor=(1.05, 1), loc='upper left')\n",
    "plt.show()"
   ]
  },
  {
   "cell_type": "markdown",
   "id": "cc6ef334-f6c1-4205-a07c-8a27faa4e0f1",
   "metadata": {},
   "source": [
    "# Convolutional NN model"
   ]
  },
  {
   "cell_type": "markdown",
   "id": "ffd0c852-9e4b-4327-b273-d4dee6aa74b6",
   "metadata": {},
   "source": [
    "## Model"
   ]
  },
  {
   "cell_type": "code",
   "execution_count": 59,
   "id": "bdaa2e39-a1cb-4212-862f-7f7716ce6bc1",
   "metadata": {},
   "outputs": [],
   "source": [
    "class CNN(torch.nn.Module):\n",
    "    def __init__(self, nb_of_input_features, nb_of_output_features, padding='same', padding_mode='replicate', kernel_size=3):\n",
    "        super().__init__()\n",
    "        self.padding = padding\n",
    "        self.kernel_size = kernel_size\n",
    "        self.padding_mode = 'replicate'\n",
    "        \n",
    "        self.cut_border_pix_input = None\n",
    "        if self.padding == 'same' :\n",
    "            self.cut_border_pix_output = self.cut_border_pix_input\n",
    "        if self.padding == 'valid' :\n",
    "            self.cut_border_pix_output = (self.cut_border_pix_input or 0) + self.kernel_size//2\n",
    "        \n",
    "        self.conv1 = torch.nn.Conv2d(in_channels=nb_of_input_features, out_channels=64, kernel_size=self.kernel_size, \\\n",
    "                                     padding=self.padding,  padding_mode=self.padding_mode) \n",
    "        self.conv2 = torch.nn.Conv2d(64, 64, kernel_size=self.kernel_size, padding='same', padding_mode=self.padding_mode) \n",
    "        self.conv3 = torch.nn.Conv2d(64, nb_of_output_features, kernel_size=self.kernel_size, padding='same', padding_mode=self.padding_mode)\n",
    "\n",
    "    def forward(self, x):\n",
    "        res = self.conv1(x)\n",
    "        res = torch.nn.functional.relu(res)\n",
    "        res = self.conv2(res)\n",
    "        res = torch.nn.functional.relu(res)\n",
    "        res = self.conv3(res)\n",
    "        return res        "
   ]
  },
  {
   "cell_type": "markdown",
   "id": "af34d0d2-8569-42f0-8126-a5be8438486b",
   "metadata": {},
   "source": [
    "## Experiments"
   ]
  },
  {
   "cell_type": "code",
   "execution_count": 60,
   "id": "ff276ea9-3277-4de0-a44f-6d6297abc3ab",
   "metadata": {},
   "outputs": [],
   "source": [
    "model_name = 'CNN'"
   ]
  },
  {
   "cell_type": "code",
   "execution_count": 61,
   "id": "382b2075-81f9-4b75-912e-c0f3ce358101",
   "metadata": {},
   "outputs": [],
   "source": [
    "list_of_exps = ['kernel3', 'kernel5']"
   ]
  },
  {
   "cell_type": "code",
   "execution_count": 62,
   "id": "51af6973-554e-4bb9-b57b-f70b18cda63e",
   "metadata": {},
   "outputs": [],
   "source": [
    "for exp_name in list_of_exps :\n",
    "    exp[model_name][exp_name] = dict()"
   ]
  },
  {
   "cell_type": "code",
   "execution_count": 63,
   "id": "7dd6d81a-b4a4-4caa-9114-0425e2de7032",
   "metadata": {},
   "outputs": [],
   "source": [
    "input_features_CNN = input_features_FCNN\n",
    "output_features_CNN = output_features_FCNN"
   ]
  },
  {
   "cell_type": "code",
   "execution_count": 64,
   "id": "b6f299e2-6ad2-48e3-85d5-036af6f9dd53",
   "metadata": {},
   "outputs": [],
   "source": [
    "exp['CNN']['kernel3']['exp'] = Experiment(pl_class=GenericPyLiModule, \\\n",
    "                      torch_model=CNN(len(input_features_LinReg),len(output_features_CNN), padding='valid', kernel_size=3),\\\n",
    "                      label='CNN', \\\n",
    "                      version_name='kernel3', \\\n",
    "                      input_features=input_features_CNN, \\\n",
    "                      target_features=output_features_CNN, \n",
    "                      datamodule=datamodule,\n",
    "                      max_epochs=50, \\\n",
    "                      limit_train_batches=1.0,\\\n",
    "                      loss = torch.nn.MSELoss(),\\\n",
    "                      optimizer = torch.optim.Adam,\\\n",
    "                      learning_rate=1e-4) "
   ]
  },
  {
   "cell_type": "code",
   "execution_count": 65,
   "id": "6021f365-ce4b-4cb9-9f15-48e411308bc9",
   "metadata": {},
   "outputs": [],
   "source": [
    "exp['CNN']['kernel5']['exp'] = Experiment(pl_class=GenericPyLiModule, \\\n",
    "                      torch_model=CNN(len(input_features_LinReg),len(output_features_CNN), padding='valid', kernel_size=5),\\\n",
    "                      label='CNN', \\\n",
    "                      version_name='kernel5', \\\n",
    "                      input_features=input_features_CNN, \\\n",
    "                      target_features=output_features_CNN, \n",
    "                      datamodule=datamodule,\n",
    "                      max_epochs=50, \\\n",
    "                      limit_train_batches=1.0,\\\n",
    "                      loss = torch.nn.MSELoss(),\\\n",
    "                      optimizer = torch.optim.Adam,\\\n",
    "                      learning_rate=1e-4) "
   ]
  },
  {
   "cell_type": "markdown",
   "id": "e3a5023d-ce80-4cb6-bbb9-7131af36450a",
   "metadata": {},
   "source": [
    "## Training"
   ]
  },
  {
   "cell_type": "code",
   "execution_count": 53,
   "id": "17a79e26-ea74-47d4-afd1-5aa4379309d9",
   "metadata": {},
   "outputs": [
    {
     "name": "stderr",
     "output_type": "stream",
     "text": [
      "GPU available: True (cuda), used: True\n",
      "TPU available: False, using: 0 TPU cores\n",
      "IPU available: False, using: 0 IPUs\n",
      "HPU available: False, using: 0 HPUs\n",
      "`Trainer(limit_train_batches=1.0)` was configured so 100% of the batches per epoch will be used..\n",
      "LOCAL_RANK: 0 - CUDA_VISIBLE_DEVICES: [0]\n",
      "\n",
      "  | Name        | Type    | Params\n",
      "----------------------------------------\n",
      "0 | torch_model | CNN     | 38.1 K\n",
      "1 | loss        | MSELoss | 0     \n",
      "----------------------------------------\n",
      "38.1 K    Trainable params\n",
      "0         Non-trainable params\n",
      "38.1 K    Total params\n",
      "0.153     Total estimated model params size (MB)\n"
     ]
    },
    {
     "data": {
      "application/vnd.jupyter.widget-view+json": {
       "model_id": "",
       "version_major": 2,
       "version_minor": 0
      },
      "text/plain": [
       "Sanity Checking: 0it [00:00, ?it/s]"
      ]
     },
     "metadata": {},
     "output_type": "display_data"
    },
    {
     "data": {
      "application/vnd.jupyter.widget-view+json": {
       "model_id": "eb73a947eba446cebd35851f67359f67",
       "version_major": 2,
       "version_minor": 0
      },
      "text/plain": [
       "Training: 0it [00:00, ?it/s]"
      ]
     },
     "metadata": {},
     "output_type": "display_data"
    },
    {
     "data": {
      "application/vnd.jupyter.widget-view+json": {
       "model_id": "",
       "version_major": 2,
       "version_minor": 0
      },
      "text/plain": [
       "Validation: 0it [00:00, ?it/s]"
      ]
     },
     "metadata": {},
     "output_type": "display_data"
    },
    {
     "data": {
      "application/vnd.jupyter.widget-view+json": {
       "model_id": "",
       "version_major": 2,
       "version_minor": 0
      },
      "text/plain": [
       "Validation: 0it [00:00, ?it/s]"
      ]
     },
     "metadata": {},
     "output_type": "display_data"
    },
    {
     "data": {
      "application/vnd.jupyter.widget-view+json": {
       "model_id": "",
       "version_major": 2,
       "version_minor": 0
      },
      "text/plain": [
       "Validation: 0it [00:00, ?it/s]"
      ]
     },
     "metadata": {},
     "output_type": "display_data"
    },
    {
     "data": {
      "application/vnd.jupyter.widget-view+json": {
       "model_id": "",
       "version_major": 2,
       "version_minor": 0
      },
      "text/plain": [
       "Validation: 0it [00:00, ?it/s]"
      ]
     },
     "metadata": {},
     "output_type": "display_data"
    },
    {
     "data": {
      "application/vnd.jupyter.widget-view+json": {
       "model_id": "",
       "version_major": 2,
       "version_minor": 0
      },
      "text/plain": [
       "Validation: 0it [00:00, ?it/s]"
      ]
     },
     "metadata": {},
     "output_type": "display_data"
    },
    {
     "data": {
      "application/vnd.jupyter.widget-view+json": {
       "model_id": "",
       "version_major": 2,
       "version_minor": 0
      },
      "text/plain": [
       "Validation: 0it [00:00, ?it/s]"
      ]
     },
     "metadata": {},
     "output_type": "display_data"
    },
    {
     "data": {
      "application/vnd.jupyter.widget-view+json": {
       "model_id": "",
       "version_major": 2,
       "version_minor": 0
      },
      "text/plain": [
       "Validation: 0it [00:00, ?it/s]"
      ]
     },
     "metadata": {},
     "output_type": "display_data"
    },
    {
     "data": {
      "application/vnd.jupyter.widget-view+json": {
       "model_id": "",
       "version_major": 2,
       "version_minor": 0
      },
      "text/plain": [
       "Validation: 0it [00:00, ?it/s]"
      ]
     },
     "metadata": {},
     "output_type": "display_data"
    },
    {
     "data": {
      "application/vnd.jupyter.widget-view+json": {
       "model_id": "",
       "version_major": 2,
       "version_minor": 0
      },
      "text/plain": [
       "Validation: 0it [00:00, ?it/s]"
      ]
     },
     "metadata": {},
     "output_type": "display_data"
    },
    {
     "data": {
      "application/vnd.jupyter.widget-view+json": {
       "model_id": "",
       "version_major": 2,
       "version_minor": 0
      },
      "text/plain": [
       "Validation: 0it [00:00, ?it/s]"
      ]
     },
     "metadata": {},
     "output_type": "display_data"
    },
    {
     "data": {
      "application/vnd.jupyter.widget-view+json": {
       "model_id": "",
       "version_major": 2,
       "version_minor": 0
      },
      "text/plain": [
       "Validation: 0it [00:00, ?it/s]"
      ]
     },
     "metadata": {},
     "output_type": "display_data"
    },
    {
     "data": {
      "application/vnd.jupyter.widget-view+json": {
       "model_id": "",
       "version_major": 2,
       "version_minor": 0
      },
      "text/plain": [
       "Validation: 0it [00:00, ?it/s]"
      ]
     },
     "metadata": {},
     "output_type": "display_data"
    },
    {
     "name": "stdout",
     "output_type": "stream",
     "text": [
      "logs//CNN/kernel3/events.out.tfevents.1669663184.jupyter-anastasiagor.6147.3\n"
     ]
    }
   ],
   "source": [
    "exp['CNN']['kernel3']['exp'].run()\n",
    "clear_output(wait=True)"
   ]
  },
  {
   "cell_type": "code",
   "execution_count": 54,
   "id": "cf7c4f58-d798-4905-bf27-a5706b1bd962",
   "metadata": {},
   "outputs": [
    {
     "name": "stderr",
     "output_type": "stream",
     "text": [
      "GPU available: True (cuda), used: True\n",
      "TPU available: False, using: 0 TPU cores\n",
      "IPU available: False, using: 0 IPUs\n",
      "HPU available: False, using: 0 HPUs\n",
      "`Trainer(limit_train_batches=1.0)` was configured so 100% of the batches per epoch will be used..\n",
      "LOCAL_RANK: 0 - CUDA_VISIBLE_DEVICES: [0]\n",
      "\n",
      "  | Name        | Type    | Params\n",
      "----------------------------------------\n",
      "0 | torch_model | CNN     | 105 K \n",
      "1 | loss        | MSELoss | 0     \n",
      "----------------------------------------\n",
      "105 K     Trainable params\n",
      "0         Non-trainable params\n",
      "105 K     Total params\n",
      "0.423     Total estimated model params size (MB)\n"
     ]
    },
    {
     "data": {
      "application/vnd.jupyter.widget-view+json": {
       "model_id": "",
       "version_major": 2,
       "version_minor": 0
      },
      "text/plain": [
       "Sanity Checking: 0it [00:00, ?it/s]"
      ]
     },
     "metadata": {},
     "output_type": "display_data"
    },
    {
     "data": {
      "application/vnd.jupyter.widget-view+json": {
       "model_id": "ffca4350def94928982926902de49e82",
       "version_major": 2,
       "version_minor": 0
      },
      "text/plain": [
       "Training: 0it [00:00, ?it/s]"
      ]
     },
     "metadata": {},
     "output_type": "display_data"
    },
    {
     "data": {
      "application/vnd.jupyter.widget-view+json": {
       "model_id": "",
       "version_major": 2,
       "version_minor": 0
      },
      "text/plain": [
       "Validation: 0it [00:00, ?it/s]"
      ]
     },
     "metadata": {},
     "output_type": "display_data"
    },
    {
     "data": {
      "application/vnd.jupyter.widget-view+json": {
       "model_id": "",
       "version_major": 2,
       "version_minor": 0
      },
      "text/plain": [
       "Validation: 0it [00:00, ?it/s]"
      ]
     },
     "metadata": {},
     "output_type": "display_data"
    },
    {
     "data": {
      "application/vnd.jupyter.widget-view+json": {
       "model_id": "",
       "version_major": 2,
       "version_minor": 0
      },
      "text/plain": [
       "Validation: 0it [00:00, ?it/s]"
      ]
     },
     "metadata": {},
     "output_type": "display_data"
    },
    {
     "data": {
      "application/vnd.jupyter.widget-view+json": {
       "model_id": "",
       "version_major": 2,
       "version_minor": 0
      },
      "text/plain": [
       "Validation: 0it [00:00, ?it/s]"
      ]
     },
     "metadata": {},
     "output_type": "display_data"
    },
    {
     "data": {
      "application/vnd.jupyter.widget-view+json": {
       "model_id": "",
       "version_major": 2,
       "version_minor": 0
      },
      "text/plain": [
       "Validation: 0it [00:00, ?it/s]"
      ]
     },
     "metadata": {},
     "output_type": "display_data"
    },
    {
     "data": {
      "application/vnd.jupyter.widget-view+json": {
       "model_id": "",
       "version_major": 2,
       "version_minor": 0
      },
      "text/plain": [
       "Validation: 0it [00:00, ?it/s]"
      ]
     },
     "metadata": {},
     "output_type": "display_data"
    },
    {
     "data": {
      "application/vnd.jupyter.widget-view+json": {
       "model_id": "",
       "version_major": 2,
       "version_minor": 0
      },
      "text/plain": [
       "Validation: 0it [00:00, ?it/s]"
      ]
     },
     "metadata": {},
     "output_type": "display_data"
    },
    {
     "data": {
      "application/vnd.jupyter.widget-view+json": {
       "model_id": "",
       "version_major": 2,
       "version_minor": 0
      },
      "text/plain": [
       "Validation: 0it [00:00, ?it/s]"
      ]
     },
     "metadata": {},
     "output_type": "display_data"
    },
    {
     "data": {
      "application/vnd.jupyter.widget-view+json": {
       "model_id": "",
       "version_major": 2,
       "version_minor": 0
      },
      "text/plain": [
       "Validation: 0it [00:00, ?it/s]"
      ]
     },
     "metadata": {},
     "output_type": "display_data"
    },
    {
     "data": {
      "application/vnd.jupyter.widget-view+json": {
       "model_id": "",
       "version_major": 2,
       "version_minor": 0
      },
      "text/plain": [
       "Validation: 0it [00:00, ?it/s]"
      ]
     },
     "metadata": {},
     "output_type": "display_data"
    },
    {
     "data": {
      "application/vnd.jupyter.widget-view+json": {
       "model_id": "",
       "version_major": 2,
       "version_minor": 0
      },
      "text/plain": [
       "Validation: 0it [00:00, ?it/s]"
      ]
     },
     "metadata": {},
     "output_type": "display_data"
    },
    {
     "data": {
      "application/vnd.jupyter.widget-view+json": {
       "model_id": "",
       "version_major": 2,
       "version_minor": 0
      },
      "text/plain": [
       "Validation: 0it [00:00, ?it/s]"
      ]
     },
     "metadata": {},
     "output_type": "display_data"
    },
    {
     "data": {
      "application/vnd.jupyter.widget-view+json": {
       "model_id": "",
       "version_major": 2,
       "version_minor": 0
      },
      "text/plain": [
       "Validation: 0it [00:00, ?it/s]"
      ]
     },
     "metadata": {},
     "output_type": "display_data"
    },
    {
     "name": "stdout",
     "output_type": "stream",
     "text": [
      "logs//CNN/kernel5/events.out.tfevents.1669663445.jupyter-anastasiagor.6147.4\n"
     ]
    }
   ],
   "source": [
    "exp['CNN']['kernel5']['exp'].run()\n",
    "clear_output(wait=True)"
   ]
  },
  {
   "cell_type": "code",
   "execution_count": 55,
   "id": "0d62fad3-9fef-425e-84e7-7b042dd1ad41",
   "metadata": {},
   "outputs": [
    {
     "name": "stdout",
     "output_type": "stream",
     "text": [
      "logs//CNN/kernel3/events.out.tfevents.1669663184.jupyter-anastasiagor.6147.3\n",
      "logs//CNN/kernel5/events.out.tfevents.1669663445.jupyter-anastasiagor.6147.4\n"
     ]
    },
    {
     "data": {
      "image/png": "[encoded data removed]",
      "text/plain": [
       "<Figure size 1000x350 with 2 Axes>"
      ]
     },
     "metadata": {},
     "output_type": "display_data"
    }
   ],
   "source": [
    "fig, ax = plt.subplots(1, 2, constrained_layout=True, figsize=(10, 3.5))\n",
    "exp_model = exp['CNN']\n",
    "\n",
    "for i, exp_name in enumerate(['kernel3', 'kernel5']) :\n",
    "    experiment = exp_model[exp_name]['exp']\n",
    "    experiment.get_logs()\n",
    "    ax[0].plot(experiment.logs['loss_train'], color=list(mcolors.TABLEAU_COLORS.values())[i], \\\n",
    "               ls=line_styles[0], marker='.', label='Training ' + exp_name)\n",
    "    ax[0].plot(experiment.logs['loss_val'], color=list(mcolors.TABLEAU_COLORS.values())[i], \\\n",
    "               ls=line_styles[1], marker='.', label='Validation ' + exp_name)\n",
    "ax[0].set(xlabel='Epoch', ylabel='MSE'); ax[0].grid(True)\n",
    "ax[0].set(ylabel='MSE')\n",
    "ax[0].legend(bbox_to_anchor=(1.05, 1), loc='upper left')\n",
    "plt.show()"
   ]
  },
  {
   "cell_type": "markdown",
   "id": "8114268f-9bf0-4847-b33f-1ffab1fc9d84",
   "metadata": {},
   "source": [
    "# Compare results"
   ]
  },
  {
   "cell_type": "code",
   "execution_count": 66,
   "id": "cf4e2f98-3bf2-4a48-8096-0e8b3b554655",
   "metadata": {},
   "outputs": [
    {
     "name": "stdout",
     "output_type": "stream",
     "text": [
      "CPU times: user 3 µs, sys: 0 ns, total: 3 µs\n",
      "Wall time: 6.91 µs\n"
     ]
    }
   ],
   "source": [
    "%%time\n",
    "test_datamodule = datamodule"
   ]
  },
  {
   "cell_type": "code",
   "execution_count": 67,
   "id": "f3006617-06a3-403f-91b4-fcef207458f4",
   "metadata": {},
   "outputs": [],
   "source": [
    "list_of_models = ['LinReg', 'CNN', 'FCNN']"
   ]
  },
  {
   "cell_type": "code",
   "execution_count": 69,
   "id": "46c14530-9aa8-48fe-adff-ef0fa4a4e43d",
   "metadata": {},
   "outputs": [
    {
     "name": "stderr",
     "output_type": "stream",
     "text": [
      "GPU available: True (cuda), used: True\n",
      "TPU available: False, using: 0 TPU cores\n",
      "IPU available: False, using: 0 IPUs\n",
      "HPU available: False, using: 0 HPUs\n"
     ]
    },
    {
     "name": "stdout",
     "output_type": "stream",
     "text": [
      "LinReg train_full\n"
     ]
    },
    {
     "name": "stderr",
     "output_type": "stream",
     "text": [
      "LOCAL_RANK: 0 - CUDA_VISIBLE_DEVICES: [0]\n"
     ]
    },
    {
     "data": {
      "application/vnd.jupyter.widget-view+json": {
       "model_id": "7410f130557d4fd4a23c25cc0a989e64",
       "version_major": 2,
       "version_minor": 0
      },
      "text/plain": [
       "Testing: 0it [00:00, ?it/s]"
      ]
     },
     "metadata": {},
     "output_type": "display_data"
    },
    {
     "name": "stdout",
     "output_type": "stream",
     "text": [
      "────────────────────────────────────────────────────────────────────────────────────────────────────────────────────────\n",
      "             Test metric                           DataLoader 0                          DataLoader 1\n",
      "────────────────────────────────────────────────────────────────────────────────────────────────────────────────────────\n",
      "  corr_coef_normalized_sosstsst_var             0.7424668073654175                    0.7201360464096069\n",
      "        corr_coef_sosstsst_var                  0.7424668595055409                    0.7201358497565779\n",
      "loss_grad_test_normalized_sosstsst_var          12.267231941223145                    3.6980648040771484\n",
      "     loss_grad_test_sosstsst_var                0.890879861871047                   0.00037107466017656076\n",
      "  loss_test_normalized_sosstsst_var            0.47888341546058655                    0.5025376677513123\n",
      "        loss_test_sosstsst_var                  0.1290524140135712                   0.005033988350724192\n",
      "────────────────────────────────────────────────────────────────────────────────────────────────────────────────────────\n",
      "────────────────────────────────────────────────────────────────────────────────────────────────────────────────────────\n",
      "             Test metric                           DataLoader 2                          DataLoader 3\n",
      "────────────────────────────────────────────────────────────────────────────────────────────────────────────────────────\n",
      "  corr_coef_normalized_sosstsst_var             0.6318607330322266                    0.6724653840065002\n",
      "        corr_coef_sosstsst_var                  0.6318607933152122                    0.6724652502489595\n",
      "loss_grad_test_normalized_sosstsst_var         0.21894946694374084                    4.356886863708496\n",
      "     loss_grad_test_sosstsst_var              9.547045823429234e-08                  2.20576652148242e-06\n",
      "  loss_test_normalized_sosstsst_var            0.41788527369499207                    0.6078967452049255\n",
      "        loss_test_sosstsst_var                0.0002759432439494081                 0.0004325354028570597\n",
      "────────────────────────────────────────────────────────────────────────────────────────────────────────────────────────\n",
      "────────────────────────────────────────────────────────────────────────────────────────────────────────────────────────\n",
      "             Test metric                           DataLoader 4                          DataLoader 5\n",
      "────────────────────────────────────────────────────────────────────────────────────────────────────────────────────────\n",
      "  corr_coef_normalized_sosstsst_var             0.5971652269363403                    0.6056710481643677\n",
      "        corr_coef_sosstsst_var                  0.5971654400129496                    0.6056711762783143\n",
      "loss_grad_test_normalized_sosstsst_var          11.317681312561035                    2.8588521480560303\n",
      "     loss_grad_test_sosstsst_var              5.807932391745658e-07                 2.6456087936168843e-05\n",
      "  loss_test_normalized_sosstsst_var             0.4680032730102539                    0.5197524428367615\n",
      "        loss_test_sosstsst_var                0.00010601832739212062                 0.001581115098540082\n",
      "────────────────────────────────────────────────────────────────────────────────────────────────────────────────────────\n"
     ]
    },
    {
     "name": "stderr",
     "output_type": "stream",
     "text": [
      "GPU available: True (cuda), used: True\n",
      "TPU available: False, using: 0 TPU cores\n",
      "IPU available: False, using: 0 IPUs\n",
      "HPU available: False, using: 0 HPUs\n"
     ]
    },
    {
     "name": "stdout",
     "output_type": "stream",
     "text": [
      "CNN kernel3\n"
     ]
    },
    {
     "name": "stderr",
     "output_type": "stream",
     "text": [
      "LOCAL_RANK: 0 - CUDA_VISIBLE_DEVICES: [0]\n"
     ]
    },
    {
     "data": {
      "application/vnd.jupyter.widget-view+json": {
       "model_id": "79cea1345ace433987d6f7b13d32586b",
       "version_major": 2,
       "version_minor": 0
      },
      "text/plain": [
       "Testing: 0it [00:00, ?it/s]"
      ]
     },
     "metadata": {},
     "output_type": "display_data"
    },
    {
     "name": "stdout",
     "output_type": "stream",
     "text": [
      "────────────────────────────────────────────────────────────────────────────────────────────────────────────────────────\n",
      "             Test metric                           DataLoader 0                          DataLoader 1\n",
      "────────────────────────────────────────────────────────────────────────────────────────────────────────────────────────\n",
      "  corr_coef_normalized_sosstsst_var             0.827827513217926                     0.7424652576446533\n",
      "        corr_coef_sosstsst_var                  0.8278278550746857                    0.742465241617972\n",
      "loss_grad_test_normalized_sosstsst_var          9.996384620666504                     2.729644536972046\n",
      "     loss_grad_test_sosstsst_var                0.725964605309799                   0.00027390052375168936\n",
      "  loss_test_normalized_sosstsst_var            0.34693291783332825                   0.44384491443634033\n",
      "        loss_test_sosstsst_var                 0.09349354509050518                   0.004446053439645621\n",
      "────────────────────────────────────────────────────────────────────────────────────────────────────────────────────────\n",
      "────────────────────────────────────────────────────────────────────────────────────────────────────────────────────────\n",
      "             Test metric                           DataLoader 2                          DataLoader 3\n",
      "────────────────────────────────────────────────────────────────────────────────────────────────────────────────────────\n",
      "  corr_coef_normalized_sosstsst_var             0.5465642809867859                    0.6992844939231873\n",
      "        corr_coef_sosstsst_var                  0.5465643063150049                    0.6992843117426806\n",
      "loss_grad_test_normalized_sosstsst_var          0.8914847373962402                    4.3309431076049805\n",
      "     loss_grad_test_sosstsst_var               3.88721652911049e-07                 2.1926317823018053e-06\n",
      "  loss_test_normalized_sosstsst_var             0.6659002900123596                    0.6325778365135193\n",
      "        loss_test_sosstsst_var                0.00043971568424552637                0.0004500965452773104\n",
      "────────────────────────────────────────────────────────────────────────────────────────────────────────────────────────\n",
      "────────────────────────────────────────────────────────────────────────────────────────────────────────────────────────\n",
      "             Test metric                           DataLoader 4                          DataLoader 5\n",
      "────────────────────────────────────────────────────────────────────────────────────────────────────────────────────────\n",
      "  corr_coef_normalized_sosstsst_var             0.4769294559955597                    0.6033884286880493\n",
      "        corr_coef_sosstsst_var                  0.4769294263934976                    0.6033883485367103\n",
      "loss_grad_test_normalized_sosstsst_var          11.422224044799805                    2.9475841522216797\n",
      "     loss_grad_test_sosstsst_var              5.861577502945848e-07                 2.7277236793582985e-05\n",
      "  loss_test_normalized_sosstsst_var             0.6005942225456238                    0.5320716500282288\n",
      "        loss_test_sosstsst_var                0.0001360545126916068                  0.001618590948503571\n",
      "────────────────────────────────────────────────────────────────────────────────────────────────────────────────────────\n"
     ]
    },
    {
     "name": "stderr",
     "output_type": "stream",
     "text": [
      "GPU available: True (cuda), used: True\n",
      "TPU available: False, using: 0 TPU cores\n",
      "IPU available: False, using: 0 IPUs\n",
      "HPU available: False, using: 0 HPUs\n"
     ]
    },
    {
     "name": "stdout",
     "output_type": "stream",
     "text": [
      "CNN kernel5\n"
     ]
    },
    {
     "name": "stderr",
     "output_type": "stream",
     "text": [
      "LOCAL_RANK: 0 - CUDA_VISIBLE_DEVICES: [0]\n"
     ]
    },
    {
     "data": {
      "application/vnd.jupyter.widget-view+json": {
       "model_id": "15c41824e74e46b2aaaa2857485c16ff",
       "version_major": 2,
       "version_minor": 0
      },
      "text/plain": [
       "Testing: 0it [00:00, ?it/s]"
      ]
     },
     "metadata": {},
     "output_type": "display_data"
    },
    {
     "name": "stdout",
     "output_type": "stream",
     "text": [
      "────────────────────────────────────────────────────────────────────────────────────────────────────────────────────────\n",
      "             Test metric                           DataLoader 0                          DataLoader 1\n",
      "────────────────────────────────────────────────────────────────────────────────────────────────────────────────────────\n",
      "  corr_coef_normalized_sosstsst_var             0.8248639106750488                    0.6862339377403259\n",
      "        corr_coef_sosstsst_var                  0.8248638175132276                    0.6862338063227691\n",
      "loss_grad_test_normalized_sosstsst_var          11.677567481994629                    3.1483819484710693\n",
      "     loss_grad_test_sosstsst_var                0.8480566666211324                  0.00031591796996620716\n",
      "  loss_test_normalized_sosstsst_var             0.3950560390949249                    0.5389610528945923\n",
      "        loss_test_sosstsst_var                 0.10646212921082257                   0.005398841421008279\n",
      "────────────────────────────────────────────────────────────────────────────────────────────────────────────────────────\n",
      "────────────────────────────────────────────────────────────────────────────────────────────────────────────────────────\n",
      "             Test metric                           DataLoader 2                          DataLoader 3\n",
      "────────────────────────────────────────────────────────────────────────────────────────────────────────────────────────\n",
      "  corr_coef_normalized_sosstsst_var             0.5555521249771118                    0.6822532415390015\n",
      "        corr_coef_sosstsst_var                  0.5555518274450089                    0.6822532093324886\n",
      "loss_grad_test_normalized_sosstsst_var          1.3044356107711792                    4.505293369293213\n",
      "     loss_grad_test_sosstsst_var              5.687849760400547e-07                 2.280901983306987e-06\n",
      "  loss_test_normalized_sosstsst_var             0.5784937739372253                    0.667329728603363\n",
      "        loss_test_sosstsst_var                0.00038199811843448746                0.00047482364169862016\n",
      "────────────────────────────────────────────────────────────────────────────────────────────────────────────────────────\n",
      "────────────────────────────────────────────────────────────────────────────────────────────────────────────────────────\n",
      "             Test metric                           DataLoader 4                          DataLoader 5\n",
      "────────────────────────────────────────────────────────────────────────────────────────────────────────────────────────\n",
      "  corr_coef_normalized_sosstsst_var            0.46111929416656494                    0.6154168844223022\n",
      "        corr_coef_sosstsst_var                 0.46111922862361404                    0.615416908701933\n",
      "loss_grad_test_normalized_sosstsst_var          13.856460571289062                    2.5876095294952393\n",
      "     loss_grad_test_sosstsst_var               7.11076288315476e-07                 2.3945986284779574e-05\n",
      "  loss_test_normalized_sosstsst_var             0.679460883140564                     0.6280828714370728\n",
      "        loss_test_sosstsst_var                0.00015392044471058012                0.0019106626367263995\n",
      "────────────────────────────────────────────────────────────────────────────────────────────────────────────────────────\n"
     ]
    },
    {
     "name": "stderr",
     "output_type": "stream",
     "text": [
      "GPU available: True (cuda), used: True\n",
      "TPU available: False, using: 0 TPU cores\n",
      "IPU available: False, using: 0 IPUs\n",
      "HPU available: False, using: 0 HPUs\n"
     ]
    },
    {
     "name": "stdout",
     "output_type": "stream",
     "text": [
      "FCNN patch_3-1\n"
     ]
    },
    {
     "name": "stderr",
     "output_type": "stream",
     "text": [
      "LOCAL_RANK: 0 - CUDA_VISIBLE_DEVICES: [0]\n"
     ]
    },
    {
     "data": {
      "application/vnd.jupyter.widget-view+json": {
       "model_id": "c59d308329cb41c28d723d8645b96787",
       "version_major": 2,
       "version_minor": 0
      },
      "text/plain": [
       "Testing: 0it [00:00, ?it/s]"
      ]
     },
     "metadata": {},
     "output_type": "display_data"
    },
    {
     "name": "stdout",
     "output_type": "stream",
     "text": [
      "────────────────────────────────────────────────────────────────────────────────────────────────────────────────────────\n",
      "             Test metric                           DataLoader 0                          DataLoader 1\n",
      "────────────────────────────────────────────────────────────────────────────────────────────────────────────────────────\n",
      "  corr_coef_normalized_sosstsst_var             0.8283371925354004                    0.7426571846008301\n",
      "        corr_coef_sosstsst_var                  0.8283368083169949                    0.7426572425115002\n",
      "loss_grad_test_normalized_sosstsst_var           9.42674732208252                     2.802495241165161\n",
      "     loss_grad_test_sosstsst_var                0.6845959681471344                  0.00028121046362701953\n",
      "  loss_test_normalized_sosstsst_var             0.3296300172805786                   0.47249311208724976\n",
      "        loss_test_sosstsst_var                 0.08883072547624545                   0.004733023075577518\n",
      "────────────────────────────────────────────────────────────────────────────────────────────────────────────────────────\n",
      "────────────────────────────────────────────────────────────────────────────────────────────────────────────────────────\n",
      "             Test metric                           DataLoader 2                          DataLoader 3\n",
      "────────────────────────────────────────────────────────────────────────────────────────────────────────────────────────\n",
      "  corr_coef_normalized_sosstsst_var             0.5858177542686462                    0.7242340445518494\n",
      "        corr_coef_sosstsst_var                  0.5858180211817958                    0.7242336850665995\n",
      "loss_grad_test_normalized_sosstsst_var         0.22224734723567963                    4.430985927581787\n",
      "     loss_grad_test_sosstsst_var              9.690847162432981e-08                 2.243282197344465e-06\n",
      "  loss_test_normalized_sosstsst_var             0.507503867149353                     0.6596850156784058\n",
      "        loss_test_sosstsst_var                0.0003351213520823248                 0.0004693842652166246\n",
      "────────────────────────────────────────────────────────────────────────────────────────────────────────────────────────\n",
      "────────────────────────────────────────────────────────────────────────────────────────────────────────────────────────\n",
      "             Test metric                           DataLoader 4                          DataLoader 5\n",
      "────────────────────────────────────────────────────────────────────────────────────────────────────────────────────────\n",
      "  corr_coef_normalized_sosstsst_var            0.47458475828170776                    0.5653212070465088\n",
      "        corr_coef_sosstsst_var                 0.47458465535222344                    0.5653212541684397\n",
      "loss_grad_test_normalized_sosstsst_var          11.501750946044922                    2.831580877304077\n",
      "     loss_grad_test_sosstsst_var              5.902385678149811e-07                 2.620372451581257e-05\n",
      "  loss_test_normalized_sosstsst_var             0.5810675024986267                    0.5770114064216614\n",
      "        loss_test_sosstsst_var                0.00013163108016292637                 0.001755300116752556\n",
      "────────────────────────────────────────────────────────────────────────────────────────────────────────────────────────\n"
     ]
    },
    {
     "name": "stderr",
     "output_type": "stream",
     "text": [
      "GPU available: True (cuda), used: True\n",
      "TPU available: False, using: 0 TPU cores\n",
      "IPU available: False, using: 0 IPUs\n",
      "HPU available: False, using: 0 HPUs\n"
     ]
    },
    {
     "name": "stdout",
     "output_type": "stream",
     "text": [
      "FCNN patch_5-3\n"
     ]
    },
    {
     "name": "stderr",
     "output_type": "stream",
     "text": [
      "LOCAL_RANK: 0 - CUDA_VISIBLE_DEVICES: [0]\n"
     ]
    },
    {
     "data": {
      "application/vnd.jupyter.widget-view+json": {
       "model_id": "23d8a3e2e1e14d4e82e26c18d57b9661",
       "version_major": 2,
       "version_minor": 0
      },
      "text/plain": [
       "Testing: 0it [00:00, ?it/s]"
      ]
     },
     "metadata": {},
     "output_type": "display_data"
    },
    {
     "name": "stdout",
     "output_type": "stream",
     "text": [
      "────────────────────────────────────────────────────────────────────────────────────────────────────────────────────────\n",
      "             Test metric                           DataLoader 0                          DataLoader 1\n",
      "────────────────────────────────────────────────────────────────────────────────────────────────────────────────────────\n",
      "  corr_coef_normalized_sosstsst_var             0.7907460927963257                    0.6914848685264587\n",
      "        corr_coef_sosstsst_var                  0.7907465325397744                    0.6914848781974199\n",
      "loss_grad_test_normalized_sosstsst_var          11.203274726867676                     3.28585147857666\n",
      "     loss_grad_test_sosstsst_var                0.8136121165974872                  0.00032971198844274026\n",
      "  loss_test_normalized_sosstsst_var             0.3968082368373871                    0.517210066318512\n",
      "        loss_test_sosstsst_var                 0.10693427608666532                   0.005180963496186264\n",
      "────────────────────────────────────────────────────────────────────────────────────────────────────────────────────────\n",
      "────────────────────────────────────────────────────────────────────────────────────────────────────────────────────────\n",
      "             Test metric                           DataLoader 2                          DataLoader 3\n",
      "────────────────────────────────────────────────────────────────────────────────────────────────────────────────────────\n",
      "  corr_coef_normalized_sosstsst_var            0.49688437581062317                    0.6450779438018799\n",
      "        corr_coef_sosstsst_var                 0.49688434875790954                    0.6450781940364185\n",
      "loss_grad_test_normalized_sosstsst_var          0.4265839159488678                    4.551168918609619\n",
      "     loss_grad_test_sosstsst_var              1.860071762977631e-07                 2.304127430469304e-06\n",
      "  loss_test_normalized_sosstsst_var             0.656704306602478                     0.7002099752426147\n",
      "        loss_test_sosstsst_var                0.0004336430687797513                 0.0004982188253373059\n",
      "────────────────────────────────────────────────────────────────────────────────────────────────────────────────────────\n",
      "────────────────────────────────────────────────────────────────────────────────────────────────────────────────────────\n",
      "             Test metric                           DataLoader 4                          DataLoader 5\n",
      "────────────────────────────────────────────────────────────────────────────────────────────────────────────────────────\n",
      "  corr_coef_normalized_sosstsst_var             0.3998529314994812                    0.5035343766212463\n",
      "        corr_coef_sosstsst_var                  0.3998528021621321                    0.5035343843913964\n",
      "loss_grad_test_normalized_sosstsst_var          11.557504653930664                    3.0504801273345947\n",
      "     loss_grad_test_sosstsst_var               5.93099926325398e-07                 2.8229435374440205e-05\n",
      "  loss_test_normalized_sosstsst_var             0.6344057321548462                    0.602146565914154\n",
      "        loss_test_sosstsst_var                0.00014371404027078914                 0.001831762866725266\n",
      "────────────────────────────────────────────────────────────────────────────────────────────────────────────────────────\n"
     ]
    }
   ],
   "source": [
    "for i, model_name in enumerate(list_of_models) :\n",
    "    for j, exp_name in enumerate(list(exp[model_name].keys())) :\n",
    "        exp_dict = exp[model_name][exp_name]\n",
    "        model = exp_dict['exp'].pylight_model\n",
    "        exp_dict['best_model'] = model.load_from_checkpoint(torch_model=model.torch_model, loss=model.loss,\\\n",
    "                                                            checkpoint_path=exp_dict['exp'].get_checkpoint_path(), \\\n",
    "                                                            **exp_dict['exp'].kwargs)\n",
    "        trainer = pl.Trainer(accelerator='gpu', devices=1)\n",
    "        print(model_name + ' ' + exp_name)\n",
    "        test_dict = trainer.test(exp_dict['best_model'], datamodule=test_datamodule)\n",
    "        exp_dict['loss_vs_dataset'] = dict()\n",
    "        exp_dict['loss_diffs_vs_dataset'] = dict()\n",
    "        exp_dict['corr_coef_vs_dataset'] = dict()\n",
    "        for feature in ['sosstsst_var', 'normalized_sosstsst_var'] :\n",
    "            if 'loss_test_'+feature+'/dataloader_idx_0' in test_dict[0] :\n",
    "                exp_dict['loss_vs_dataset'][feature] = [test_dict[ds]['loss_test_'+feature+'/dataloader_idx_'+str(ds)] \\\n",
    "                                                        for ds in range(len(data_dict))]\n",
    "            if 'loss_grad_test_'+feature+'/dataloader_idx_0' in test_dict[0] :\n",
    "                exp_dict['loss_diffs_vs_dataset'][feature] = [test_dict[ds]['loss_grad_test_'+feature+'/dataloader_idx_'+str(ds)] \\\n",
    "                                                              for ds in range(len(data_dict))]\n",
    "            if 'corr_coef_'+feature+'/dataloader_idx_0' in test_dict[0] :\n",
    "                exp_dict['corr_coef_vs_dataset'][feature] = [test_dict[ds]['corr_coef_'+feature+'/dataloader_idx_'+str(ds)] \\\n",
    "                                                          for ds in range(len(data_dict))]"
   ]
  },
  {
   "cell_type": "markdown",
   "id": "f2dd0730-cc10-4612-93db-c1055c9867d3",
   "metadata": {},
   "source": [
    "## Image example"
   ]
  },
  {
   "cell_type": "code",
   "execution_count": 70,
   "id": "15472240-224d-4318-8875-e2e40742c42c",
   "metadata": {},
   "outputs": [],
   "source": [
    "test_dl = test_datamodule.test_dataloader()[1]"
   ]
  },
  {
   "cell_type": "code",
   "execution_count": 71,
   "id": "40d4e6dd-25d8-4b6a-87e0-31b322fae6ea",
   "metadata": {},
   "outputs": [],
   "source": [
    "test_di = iter(test_dl)"
   ]
  },
  {
   "cell_type": "code",
   "execution_count": 72,
   "id": "bde95b13-dd99-40a1-a28e-b3e7faf2e880",
   "metadata": {},
   "outputs": [],
   "source": [
    "sample = next(test_di)"
   ]
  },
  {
   "cell_type": "code",
   "execution_count": 73,
   "id": "f54df71a-6ade-4d9d-8e1e-82cb6b2e50d6",
   "metadata": {},
   "outputs": [],
   "source": [
    "idx = 0 #index inside the batch"
   ]
  },
  {
   "cell_type": "code",
   "execution_count": 74,
   "id": "a4a235cd-51de-47df-9cf7-daa7f0ca8c86",
   "metadata": {},
   "outputs": [],
   "source": [
    "snapshot_true_error = np.squeeze(sample['sosstsst_var'][idx])"
   ]
  },
  {
   "cell_type": "code",
   "execution_count": 75,
   "id": "efa95cc5-fa3e-480a-a27b-822e0a93cac2",
   "metadata": {},
   "outputs": [],
   "source": [
    "for i, model_name in enumerate(list_of_models) :\n",
    "    for j, exp_name in enumerate(list(exp[model_name].keys())) :\n",
    "        exp_dict = exp[model_name][exp_name]\n",
    "        model = exp_dict['best_model']\n",
    "        exp_dict['snapshot'] = np.squeeze((model.predict_step(sample, idx, 0)['sosstsst_var'][idx]).detach().numpy())"
   ]
  },
  {
   "cell_type": "code",
   "execution_count": 76,
   "id": "e29a27df-3947-426b-8248-f5635fd6c096",
   "metadata": {},
   "outputs": [
    {
     "data": {
      "image/png": "[encoded data removed]",
      "text/plain": [
       "<Figure size 1000x800 with 17 Axes>"
      ]
     },
     "metadata": {},
     "output_type": "display_data"
    }
   ],
   "source": [
    "fig, ax = plt.subplots(ncols=3, nrows=3, figsize=(10,8), constrained_layout=True)\n",
    "fig.suptitle('Example of density error fields (dimensional)')\n",
    "\n",
    "for i, model_name in enumerate(list_of_models) :\n",
    "    img = ax[i,0].imshow(snapshot_true_error, cmap='ocean_r')\n",
    "    fig.colorbar(img, ax=ax[i,0])\n",
    "    ax[i,0].set(title='True subgrid variance')\n",
    "    color_min = img.colorbar.vmin\n",
    "    color_max = img.colorbar.vmax\n",
    "    for j, exp_name in enumerate(list(exp[model_name].keys())) :\n",
    "        exp_dict = exp[model_name][exp_name]\n",
    "        img = ax[i,j+1].imshow(exp_dict['snapshot'], cmap='ocean_r', vmin=color_min, vmax=color_max)\n",
    "        fig.colorbar(img, ax=ax[i,j+1])\n",
    "        ax[i,j+1].set(title=model_name+' '+exp_name, xlabel='x')\n",
    "plt.show()"
   ]
  },
  {
   "cell_type": "markdown",
   "id": "b26272bd-f578-476e-8553-8d9d1a1c3f8a",
   "metadata": {},
   "source": [
    "## Compare MSE across datasets"
   ]
  },
  {
   "cell_type": "markdown",
   "id": "571a3078-4855-4a84-a0a2-cc66670f7c44",
   "metadata": {},
   "source": [
    "### MSE of subgrid variance"
   ]
  },
  {
   "cell_type": "code",
   "execution_count": 79,
   "id": "71a93ab5-908a-4952-b5bf-7f39dfec9ac8",
   "metadata": {},
   "outputs": [
    {
     "data": {
      "image/png": "[encoded data removed]",
      "text/plain": [
       "<Figure size 1500x300 with 6 Axes>"
      ]
     },
     "metadata": {},
     "output_type": "display_data"
    }
   ],
   "source": [
    "fig, ax = plt.subplots(1, 6, constrained_layout=True, figsize=(15, 3.0))\n",
    "fig.suptitle('MSE of absolute (non-normalized) values of subgrid temperature variance')\n",
    "x = np.arange(len(list_of_models))\n",
    "xlabels=list_of_models\n",
    "bar_width = 0.2\n",
    "feature = 'sosstsst_var'\n",
    "\n",
    "for region in range(len(data_dict)) :\n",
    "    bar_counter = 0\n",
    "    for i, model_name in enumerate(list_of_models) :\n",
    "        for j, exp_name in enumerate(list(exp[model_name].keys())) :\n",
    "            exp_dict = exp[model_name][exp_name]\n",
    "            if (feature in exp_dict['loss_vs_dataset'].keys()) :\n",
    "                ax[region].bar(x[i]+j*bar_width, exp_dict['loss_vs_dataset'][feature][region], width=bar_width, color=list(mcolors.TABLEAU_COLORS.values())[bar_counter],\\\n",
    "                              label=model_name+' '+exp_name)\n",
    "                bar_counter+=1\n",
    "    ax[region].set_xticks(x, xlabels, rotation='vertical')\n",
    "    ax[region].set(title=data_dict[region]['label'])\n",
    "ax[0].set(ylabel='MSE')\n",
    "ax[-1].legend(bbox_to_anchor=(1.05, 1), loc='upper left')\n",
    "plt.show()"
   ]
  },
  {
   "cell_type": "markdown",
   "id": "41e4b938-4160-4355-8ff0-030e7c32bfca",
   "metadata": {},
   "source": [
    "### MSE of horizontal gradient of the subgrid variance"
   ]
  },
  {
   "cell_type": "code",
   "execution_count": 82,
   "id": "411f194f-da78-4421-ad2e-c1fa9334f52e",
   "metadata": {},
   "outputs": [
    {
     "data": {
      "image/png": "[encoded data removed]",
      "text/plain": [
       "<Figure size 1500x300 with 6 Axes>"
      ]
     },
     "metadata": {},
     "output_type": "display_data"
    }
   ],
   "source": [
    "fig, ax = plt.subplots(1, 6, constrained_layout=True, figsize=(15, 3.0))\n",
    "fig.suptitle('MSE of modulus of horizontal gradient of the subgrid temperature variance')\n",
    "x = np.arange(len(list_of_models))\n",
    "xlabels=list_of_models\n",
    "bar_width = 0.2\n",
    "feature = 'sosstsst_var'\n",
    "\n",
    "for region in range(len(data_dict)) :\n",
    "    bar_counter = 0\n",
    "    for i, model_name in enumerate(list_of_models) :\n",
    "        for j, exp_name in enumerate(list(exp[model_name].keys())) :\n",
    "            exp_dict = exp[model_name][exp_name]\n",
    "            if (feature in exp_dict['loss_diffs_vs_dataset'].keys()) :\n",
    "                ax[region].bar(x[i]+j*bar_width, exp_dict['loss_diffs_vs_dataset'][feature][region], width=bar_width, color=list(mcolors.TABLEAU_COLORS.values())[bar_counter],\\\n",
    "                              label=model_name+' '+exp_name)\n",
    "                bar_counter+=1\n",
    "    ax[region].set_xticks(x, xlabels, rotation='vertical')\n",
    "    ax[region].set(title=data_dict[region]['label'])\n",
    "ax[0].set(ylabel='MSE')\n",
    "ax[-1].legend(bbox_to_anchor=(1.05, 1), loc='upper left')\n",
    "plt.show()"
   ]
  },
  {
   "cell_type": "markdown",
   "id": "b3eb6d57-3ef2-498a-b7fc-fcea721a6744",
   "metadata": {},
   "source": [
    "### Correlation coefficient"
   ]
  },
  {
   "cell_type": "code",
   "execution_count": 80,
   "id": "0ff3284f-cf16-49fb-bc17-f8908589a66f",
   "metadata": {},
   "outputs": [
    {
     "data": {
      "image/png": "[encoded data removed]",
      "text/plain": [
       "<Figure size 1500x300 with 6 Axes>"
      ]
     },
     "metadata": {},
     "output_type": "display_data"
    }
   ],
   "source": [
    "fig, ax = plt.subplots(1, 6, constrained_layout=True, figsize=(15, 3.0))\n",
    "fig.suptitle('Correlation coefficient between model and truth')\n",
    "x = np.arange(len(list_of_models))\n",
    "xlabels=list_of_models\n",
    "bar_width = 0.2\n",
    "feature = 'sosstsst_var'\n",
    "\n",
    "for region in range(len(data_dict)) :\n",
    "    bar_counter = 0\n",
    "    for i, model_name in enumerate(list_of_models) :\n",
    "        for j, exp_name in enumerate(list(exp[model_name].keys())) :\n",
    "            exp_dict = exp[model_name][exp_name]\n",
    "            if (feature in exp_dict['loss_vs_dataset'].keys()) :\n",
    "                ax[region].bar(x[i]+j*bar_width, exp_dict['corr_coef_vs_dataset'][feature][region], width=bar_width, color=list(mcolors.TABLEAU_COLORS.values())[bar_counter],\\\n",
    "                              label=exp_name)\n",
    "                bar_counter+=1\n",
    "    ax[region].set_xticks(x, xlabels, rotation='vertical')\n",
    "    ax[region].set(title=data_dict[region]['label'])\n",
    "ax[0].set(ylabel='MSE')\n",
    "ax[-1].legend(bbox_to_anchor=(1.05, 1), loc='upper left')\n",
    "plt.show()"
   ]
  },
  {
   "cell_type": "code",
   "execution_count": null,
   "id": "58205856-563e-4a95-be0d-253894cc8721",
   "metadata": {},
   "outputs": [],
   "source": []
  }
 ],
 "metadata": {
  "kernelspec": {
   "display_name": "Python 3 (ipykernel)",
   "language": "python",
   "name": "python3"
  },
  "language_info": {
   "codemirror_mode": {
    "name": "ipython",
    "version": 3
   },
   "file_extension": ".py",
   "mimetype": "text/x-python",
   "name": "python",
   "nbconvert_exporter": "python",
   "pygments_lexer": "ipython3",
   "version": "3.9.13"
  },
  "toc-autonumbering": true,
  "toc-showcode": false,
  "toc-showmarkdowntxt": false,
  "toc-showtags": false
 },
 "nbformat": 4,
 "nbformat_minor": 5
}
