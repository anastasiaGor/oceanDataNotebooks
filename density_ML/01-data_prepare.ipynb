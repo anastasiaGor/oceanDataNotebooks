{
 "cells": [
  {
   "cell_type": "markdown",
   "id": "ebe94ac3-55e7-4740-af0c-87dbbb3c5c7d",
   "metadata": {},
   "source": [
    "# Import"
   ]
  },
  {
   "cell_type": "code",
   "execution_count": 1,
   "id": "41d248c9-dd44-4787-960c-13ae10f8db77",
   "metadata": {},
   "outputs": [],
   "source": [
    "from dask.distributed import Client\n",
    "\n",
    "client = Client(\"tcp://127.0.0.1:65468\")"
   ]
  },
  {
   "cell_type": "code",
   "execution_count": 2,
   "id": "2ba9c775-8de3-4083-bb1a-b537a4536a43",
   "metadata": {},
   "outputs": [],
   "source": [
    "import sys\n",
    "sys.path.insert(1, '..')"
   ]
  },
  {
   "cell_type": "code",
   "execution_count": 3,
   "id": "a25cf33d-f39a-4f35-aa6e-ba61a1001510",
   "metadata": {},
   "outputs": [],
   "source": [
    "import numpy as np\n",
    "import xarray as xr\n",
    "import scipy\n",
    "import dask\n",
    "import gsw\n",
    "import eos_module\n",
    "import matplotlib.pyplot as plt"
   ]
  },
  {
   "cell_type": "markdown",
   "id": "84715884-d8bf-48f9-8883-b1711cc6164b",
   "metadata": {},
   "source": [
    "# Downsampling function"
   ]
  },
  {
   "cell_type": "markdown",
   "id": "7d928100-6392-447d-8bf5-8747531cda19",
   "metadata": {},
   "source": [
    "Coarsening by averaging over a 2D window with weights defined by area"
   ]
  },
  {
   "cell_type": "code",
   "execution_count": 4,
   "id": "cf7d4d48-fa10-4dfd-ba3e-cd25135f8684",
   "metadata": {},
   "outputs": [],
   "source": [
    "def downsample(data, window_size, area_2d, wet_mask) :\n",
    "    area_masked = area_2d*wet_mask\n",
    "    data_weighted = area_masked*data\n",
    "    data_weighted_sums = data_weighted.coarsen(x=window_size, y=window_size, boundary='trim', coord_func={'x':'mean', 'y':'mean', 'lat':'mean', 'lon':'mean'}).sum(skipna=True)\n",
    "    area_window_sums = area_masked.coarsen(x=window_size, y=window_size, boundary='trim').sum(skipna=True)\n",
    "    result = data_weighted_sums/area_window_sums\n",
    "    result['x'] = np.arange(len(result['x']))\n",
    "    result['y'] = np.arange(len(result['y']))\n",
    "    \n",
    "    # coarsened coordinates:\n",
    "    new_e1t = data['e1t'].coarsen(x=window_size,boundary='trim', coord_func={'x':'sum', 'y':'sum','e1t':'sum', 'e2t':'sum'}).mean(skipna=True).coarsen(y=window_size, boundary='trim', coord_func={'x':'sum', 'y':'sum','e1t':'sum', 'e2t':'sum'}).sum(skipna=False).\\\n",
    "drop(['depth', 'e1f', 'e1t', 'e1u', 'e1v', 'e2f', 'e2t', 'e2u', 'e2v', 'lat', 'lon', 'nav_lat', 'nav_lon'],errors='ignore')\n",
    "    new_e2t = data['e2t'].coarsen(x=window_size,boundary='trim', coord_func={'x':'sum', 'y':'sum','e1t':'sum', 'e2t':'sum'}).mean(skipna=True).coarsen(y=window_size, boundary='trim', coord_func={'x':'sum', 'y':'sum','e1t':'sum', 'e2t':'sum'}).sum(skipna=False).\\\n",
    "drop(['depth', 'e1f', 'e1t', 'e1u', 'e1v', 'e2f', 'e2t', 'e2u', 'e2v', 'lat', 'lon', 'nav_lat', 'nav_lon'],errors='ignore')\n",
    "    result['e1t'] = (['y','x'], new_e1t.values) \n",
    "    result['e2t'] = (['y','x'], new_e2t.values) \n",
    "    \n",
    "    # binarize and erode the mask (to remove isolated pixels)\n",
    "    # threshold = 0.0\n",
    "    # new_wetmask = ndimage.binary_erosion(np.where((result['tmask'] > threshold), 1.0, 0.0))\n",
    "    # result['tmask'] = (['y','x'], new_wetmask.astype(np.float32))\n",
    "    # #apply new mask to data\n",
    "    # result = result.where(result.tmask>0)\n",
    "    return result"
   ]
  },
  {
   "cell_type": "code",
   "execution_count": 5,
   "id": "40e6bd86-3115-48d5-8df1-ef6c0ab9be49",
   "metadata": {},
   "outputs": [],
   "source": [
    "def apply_filter_downsample(dataHR, filter_coef, coarse_window_size) :\n",
    "    data = dataHR.dropna(dim='y', thresh=3).dropna(dim='x', thresh=3)\n",
    "    wet_mask = xr.DataArray(data.tmask, dims=['y','x'])\n",
    "    area = xr.DataArray((data.e1t * data.e2t), dims=['y','x'])\n",
    "    if (filter_coef > 0) :\n",
    "        # Filtering with a fixed factor\n",
    "        dxw = xr.DataArray(data.e1u, dims=['y','x']) # x-spacing centered at western cell edge\n",
    "        dyw = xr.DataArray(data.e2u, dims=['y','x']) # y-spacing centered at western cell edge\n",
    "        dxs = xr.DataArray(data.e1v, dims=['y','x']) # x-spacing centered at southern cell edge\n",
    "        dys = xr.DataArray(data.e2v, dims=['y','x']) # y-spacing centered at southern cell edge\n",
    "        dx_min = min(dxw.min(),dyw.min(),dxs.min(),dys.min()).values\n",
    "        dx_max = max(dxw.max(),dys.max()).values\n",
    "        filter_scale = filter_coef*dx_max\n",
    "#         kappa_w = xr.ones_like(dxw)\n",
    "#         kappa_s = xr.ones_like(dxw)\n",
    "        kappa_w = dxw * dxw / (dx_max * dx_max)\n",
    "        kappa_s = dys * dys / (dx_max * dx_max)\n",
    "        # define the filter\n",
    "        gaussian_filter = gcm_filters.Filter(\n",
    "            n_iterations=2,\n",
    "            filter_scale=filter_scale,    \n",
    "             dx_min=dx_min,\n",
    "            filter_shape=gcm_filters.FilterShape.GAUSSIAN,\n",
    "            grid_type=gcm_filters.GridType.IRREGULAR_WITH_LAND,\n",
    "            grid_vars={'wet_mask': wet_mask, 'dxw': dxw, 'dyw': dyw, 'dxs': dxs, 'dys': dys, 'area': area, \n",
    "                'kappa_w': kappa_w, 'kappa_s': kappa_s} )\n",
    "        # apply filter to HR data\n",
    "        data_filtered = xr.Dataset({}, coords=data.coords)\n",
    "        data_filtered = gaussian_filter.apply(data, dims=['y', 'x'])\n",
    "    else :\n",
    "        data_filtered =  xr.Dataset({}, coords=data.coords)\n",
    "        data_filtered = data\n",
    "    # spatial coarsening\n",
    "    if (coarse_window_size > 0) :\n",
    "        dataLR = downsample(data_filtered, coarse_window_size, area, wet_mask)\n",
    "    else : \n",
    "        dataLR = data_filtered\n",
    "    return dataLR"
   ]
  },
  {
   "cell_type": "markdown",
   "id": "7e28420d-9849-4841-b1b4-784da7da42db",
   "metadata": {},
   "source": [
    "# Data read"
   ]
  },
  {
   "cell_type": "code",
   "execution_count": 6,
   "id": "e6ef22ef-617a-463f-a317-9ef617d40c08",
   "metadata": {},
   "outputs": [],
   "source": [
    "data=[dict() for i in range(4)]\n",
    "data[0] = dict({'region' : '1', 'season' : 'fma', 'label' : 'GS FMA'})\n",
    "data[1] = dict({'region' : '1', 'season' : 'aso', 'label' : 'GS ASO'})\n",
    "data[2] = dict({'region' : '2', 'season' : 'fma', 'label' : 'AÇORES FMA'})\n",
    "data[3] = dict({'region' : '2', 'season' : 'aso', 'label' : 'AÇORES ASO'})"
   ]
  },
  {
   "cell_type": "code",
   "execution_count": 7,
   "id": "7e2b6187-b3ea-40a5-ae2c-08f4b7d59dfe",
   "metadata": {},
   "outputs": [],
   "source": [
    "x_slice = slice(0,-1)\n",
    "y_slice = slice(0,-1)\n",
    "\n",
    "data_slice = dict(time_counter=slice(0,-1,1),y=y_slice,x=x_slice)  \n",
    "coord_slice = dict(y=y_slice,x=x_slice)"
   ]
  },
  {
   "cell_type": "code",
   "execution_count": 8,
   "id": "8de967d8-38f7-44f2-85f8-479d9ae860dc",
   "metadata": {},
   "outputs": [],
   "source": [
    "nb_of_time_chunks = 7"
   ]
  },
  {
   "cell_type": "code",
   "execution_count": 9,
   "id": "4161f0b4-7199-4f14-81c9-a60ec92fa94d",
   "metadata": {},
   "outputs": [
    {
     "name": "stdout",
     "output_type": "stream",
     "text": [
      "CPU times: user 837 ms, sys: 1.77 s, total: 2.61 s\n",
      "Wall time: 17.8 s\n"
     ]
    }
   ],
   "source": [
    "%%time\n",
    "for i in range(len(data)) :\n",
    "    #current_set = cat.eNATL60(region=data[i]['region'],datatype='surface_hourly', season=data[i]['season']).to_dask().\\\n",
    "    current_set = xr.open_mfdataset('/Users/ana/data/eNATL60_extractions/region'+data[i]['region']+'_'+data[i]['season']+'.nc', parallel=True).chunk({'time_counter' : nb_of_time_chunks, 'x' : -1, 'y' : -1}).\\\n",
    "    drop(['fmask','qt_oce', 'somecrty','sometauy','sossheig','sowaflup','sozocrtx','sozotaux','umask','vmask'],errors='ignore')\n",
    "    current_set.coords['tmask'] = current_set.tmask.astype(np.float32)\n",
    "    #current_set = current_set.resample({'time_counter' : resampling_avg_period}, closed='right', label='right').mean()\n",
    "    current_set = current_set.isel(data_slice)\n",
    "    current_set.load()\n",
    "    data[i]['HR'] = current_set"
   ]
  },
  {
   "cell_type": "markdown",
   "id": "cd221047-1768-40b6-8b96-03411404c802",
   "metadata": {},
   "source": [
    "# Compute true density"
   ]
  },
  {
   "cell_type": "code",
   "execution_count": 10,
   "id": "e79fd7f2-43cb-4be0-b990-d406ec0731b6",
   "metadata": {},
   "outputs": [
    {
     "name": "stdout",
     "output_type": "stream",
     "text": [
      "CPU times: user 4.81 s, sys: 6.55 s, total: 11.4 s\n",
      "Wall time: 19.3 s\n"
     ]
    }
   ],
   "source": [
    "%%time\n",
    "for i in range(len(data)) :\n",
    "    for dataKey in ['HR'] :\n",
    "        # density anomaly (sigma0). denoted as 'true' since is computed on the basis of original (non-filtered) HR data\n",
    "        data[i][dataKey]['sigma0_true'] = xr.apply_ufunc(gsw.density.sigma0, data[i][dataKey]['sosaline'], data[i][dataKey]['sosstsst'], dask='parallelized').compute()\n",
    "        # sqr of conservative temperature (to compute the subgrid variance further)\n",
    "        data[i][dataKey]['sst_sqr'] = data[i][dataKey]['sosstsst']**2\n",
    "        data[i][dataKey]['sal_sqr'] = data[i][dataKey]['sosaline']**2"
   ]
  },
  {
   "cell_type": "markdown",
   "id": "4574cf2a-c4b2-49cb-8f17-f334613056f3",
   "metadata": {},
   "source": [
    "# Apply filter"
   ]
  },
  {
   "cell_type": "code",
   "execution_count": 11,
   "id": "b0100750-51a1-42b9-a7f2-ccdc95f26098",
   "metadata": {},
   "outputs": [],
   "source": [
    "filter_size=0. # no filter\n",
    "coarsening_window_size = 15 # to match eORCA025 resolution"
   ]
  },
  {
   "cell_type": "code",
   "execution_count": 12,
   "id": "a1d6dc36-86c5-49fb-9b60-7f4b29a2c2eb",
   "metadata": {},
   "outputs": [
    {
     "name": "stdout",
     "output_type": "stream",
     "text": [
      "CPU times: user 31.6 s, sys: 30.8 s, total: 1min 2s\n",
      "Wall time: 1min 30s\n"
     ]
    }
   ],
   "source": [
    "%%time\n",
    "for i in range(len(data)) : \n",
    "    data[i]['HR_Filtered'] = apply_filter_downsample(data[i]['HR'], filter_size, coarsening_window_size).compute().chunk({'time_counter' : nb_of_time_chunks, 'x' : -1, 'y' : -1})\n",
    "    data[i]['HR_Filtered'].attrs['coarsening_window_size'] = coarsening_window_size\n",
    "    data[i]['HR_Filtered'].attrs['gaussian_filter_size'] = filter_size"
   ]
  },
  {
   "cell_type": "markdown",
   "id": "458063ef-227d-4c04-9269-c432d807d88f",
   "metadata": {},
   "source": [
    "# Compute the subgrid variance and density error"
   ]
  },
  {
   "cell_type": "code",
   "execution_count": 13,
   "id": "892df2de-c162-4a1e-b752-04ea31d02be6",
   "metadata": {},
   "outputs": [
    {
     "name": "stdout",
     "output_type": "stream",
     "text": [
      "CPU times: user 182 ms, sys: 78.9 ms, total: 261 ms\n",
      "Wall time: 831 ms\n"
     ]
    }
   ],
   "source": [
    "%%time\n",
    "for i in range(len(data)) :\n",
    "    ds = data[i]['HR_Filtered']\n",
    "    # subgrid temp variance\n",
    "    ds['var_T'] = ds['sst_sqr'] - ds['sosstsst']**2\n",
    "    ds['var_S'] = ds['sal_sqr'] - ds['sosaline']**2\n",
    "    # density correction\n",
    "    ds['sigma0_model'] = xr.apply_ufunc(gsw.density.sigma0, ds['sosaline'], ds['sosstsst'], dask='parallelized').compute()\n",
    "    ds['sigma0_delta'] = ds['sigma0_true'] - ds['sigma0_model']"
   ]
  },
  {
   "cell_type": "markdown",
   "id": "d3aa2b6d-9f40-405a-84ee-e14a8c4f4ba3",
   "metadata": {},
   "source": [
    "# Compute density derivatives"
   ]
  },
  {
   "cell_type": "code",
   "execution_count": 14,
   "id": "d9bd0005-3159-4fe7-8da0-07faf5f520c0",
   "metadata": {},
   "outputs": [
    {
     "name": "stdout",
     "output_type": "stream",
     "text": [
      "CPU times: user 36.7 s, sys: 1min 28s, total: 2min 5s\n",
      "Wall time: 2min 27s\n"
     ]
    }
   ],
   "source": [
    "%%time\n",
    "for i in range(len(data)) :\n",
    "    for ds in [data[i]['HR']] + [data[i]['HR_Filtered']] :\n",
    "        ds['rho_sa_sa'], ds['rho_sa_ct'], ds['rho_ct_ct'] = eos_module.rho_second_derivatives(ds['sosaline'], ds['sosstsst'])"
   ]
  },
  {
   "cell_type": "markdown",
   "id": "d6ca50ec-713e-403c-8ce2-f606fe63bd54",
   "metadata": {},
   "source": [
    "# Select points in space"
   ]
  },
  {
   "cell_type": "code",
   "execution_count": 15,
   "id": "84cc0d00-3856-454f-980c-8e4f6092f7e7",
   "metadata": {},
   "outputs": [],
   "source": [
    "x_slice = slice(-21,-1)\n",
    "y_slice = slice(-21,-1)\n",
    "\n",
    "data_slice = dict(y=y_slice,x=x_slice)  # take every 50-th hourly output"
   ]
  },
  {
   "cell_type": "code",
   "execution_count": 16,
   "id": "a276d21c-4bcf-4504-905b-772e41818823",
   "metadata": {},
   "outputs": [],
   "source": [
    "for i in range(len(data)) :\n",
    "    data[i]['HR_Filtered'] = data[i]['HR_Filtered'][data_slice]"
   ]
  },
  {
   "cell_type": "code",
   "execution_count": 17,
   "id": "9ede001e-10f5-4df7-9285-e7daa4d3b8dd",
   "metadata": {},
   "outputs": [
    {
     "data": {
      "image/png": "[encoded data removed]",
      "text/plain": [
       "<Figure size 1008x252 with 8 Axes>"
      ]
     },
     "metadata": {
      "needs_background": "light"
     },
     "output_type": "display_data"
    }
   ],
   "source": [
    "fig, axis = plt.subplots(ncols=len(data), nrows=1, figsize=(3.5*len(data),3.5), constrained_layout=True)\n",
    "quantity='sosstsst'\n",
    "fig.suptitle('Coarsened SST', size=16)\n",
    "for i in range(len(data)) :\n",
    "    data[i]['HR_Filtered'].isel(time_counter=-1)[quantity].plot(x='lon', y='lat', ax=axis[i])\n",
    "    axis[i].set(title=data[i]['label'])"
   ]
  },
  {
   "cell_type": "code",
   "execution_count": 18,
   "id": "7938cde6-4ae8-4450-9318-da87ac89e3c5",
   "metadata": {},
   "outputs": [
    {
     "data": {
      "image/png": "[encoded data removed]",
      "text/plain": [
       "<Figure size 1108.8x252 with 8 Axes>"
      ]
     },
     "metadata": {
      "needs_background": "light"
     },
     "output_type": "display_data"
    }
   ],
   "source": [
    "fig, axis = plt.subplots(ncols=len(data), nrows=1, figsize=(3.85*len(data),3.5), constrained_layout=True)\n",
    "quantity='sigma0_delta'\n",
    "fig.suptitle('Density error', size=16)\n",
    "for i in range(len(data)) :\n",
    "    data[i]['HR_Filtered'].isel(time_counter=-1)[quantity].plot(x='lon', y='lat', ax=axis[i], cmap='seismic', vmax=0.05, vmin=-0.05)\n",
    "    axis[i].set(title=data[i]['label'])"
   ]
  },
  {
   "cell_type": "code",
   "execution_count": 19,
   "id": "7c96cf93-2d1e-439c-943c-3f05227f4562",
   "metadata": {},
   "outputs": [],
   "source": [
    "for i in range(len(data)) :\n",
    "    data[i]['HR_Filtered'].coords['x'] = np.arange(len(data[i]['HR_Filtered'].coords['x']))\n",
    "    data[i]['HR_Filtered'].coords['y'] = np.arange(len(data[i]['HR_Filtered'].coords['y']))"
   ]
  },
  {
   "cell_type": "markdown",
   "id": "7c72013d-5041-44d5-bad6-cff65b9f23a9",
   "metadata": {},
   "source": [
    "# Write dataset"
   ]
  },
  {
   "cell_type": "code",
   "execution_count": 20,
   "id": "b6548426-4d34-4518-9646-1b924dbf47cb",
   "metadata": {},
   "outputs": [],
   "source": [
    "# drop useless variables and coordiantes\n",
    "for i in range(len(data)) :\n",
    "    data[i]['HR_Filtered'] = data[i]['HR_Filtered'].drop(['time_centered', 'tmask', 'nav_lat', 'nav_lon', 'depth', 'e1f', 'e2f', 'e1u', 'e2u', 'e1v', 'e2v', 'e1t', 'e2t', 'sigma0_model', 'sigma0_true', 'sst_sqr', 'sal_sqr'], errors='ignore')\n",
    "    data[i]['HR_Filtered'].attrs['label'] = data[i]['label']"
   ]
  },
  {
   "cell_type": "code",
   "execution_count": 21,
   "id": "ac6aefce-89ab-4bbf-9dfa-0720b30e0e59",
   "metadata": {},
   "outputs": [],
   "source": [
    "# # pandas format\n",
    "# for i in range(len(data)) :\n",
    "#     for it, counter in enumerate(data[i]['HR_Filtered']['time_counter']) :\n",
    "#         (data[i]['HR_Filtered'].isel(time_counter=it).drop('time_counter')).to_dataframe().to_csv(\"datasets/dataset\"+str(i)+\"_it\"+str(it)+\".csv\")"
   ]
  },
  {
   "cell_type": "code",
   "execution_count": 22,
   "id": "76cc1abf-28ab-4cf1-990a-a1dbb6e912df",
   "metadata": {},
   "outputs": [],
   "source": [
    "# netcdf format\n",
    "for i in range(len(data)) :\n",
    "    data[i]['HR_Filtered'].to_netcdf(\"datasets/dataset\"+str(i)+\".nc\")"
   ]
  },
  {
   "cell_type": "code",
   "execution_count": 23,
   "id": "9da44a06-298a-49e0-b19b-96f473441d9a",
   "metadata": {},
   "outputs": [
    {
     "data": {
      "text/plain": [
       "367"
      ]
     },
     "execution_count": 23,
     "metadata": {},
     "output_type": "execute_result"
    }
   ],
   "source": [
    "len(data[i]['HR_Filtered']['time_counter'])"
   ]
  },
  {
   "cell_type": "code",
   "execution_count": 24,
   "id": "1329a2df-f3b0-414b-b347-5c81d7d54ff9",
   "metadata": {},
   "outputs": [],
   "source": [
    "index_table = np.transpose(np.stack([np.concatenate([np.full(len(data[i]['HR']['time_counter']), i) for i in range(len(data))]),\\\n",
    "         np.concatenate([np.arange(len(data[i]['HR']['time_counter'])) for i in range(len(data))])]))"
   ]
  },
  {
   "cell_type": "code",
   "execution_count": 25,
   "id": "3482c266-900b-46db-91f2-37d913d55bdf",
   "metadata": {},
   "outputs": [
    {
     "data": {
      "text/plain": [
       "(1444, 2)"
      ]
     },
     "execution_count": 25,
     "metadata": {},
     "output_type": "execute_result"
    }
   ],
   "source": [
    "index_table.shape"
   ]
  },
  {
   "cell_type": "code",
   "execution_count": 26,
   "id": "9a9921fa-8ba6-4ae0-8ea8-e6c496f9c214",
   "metadata": {},
   "outputs": [
    {
     "data": {
      "text/html": [
       "<div><svg style=\"position: absolute; width: 0; height: 0; overflow: hidden\">\n",
       "<defs>\n",
       "<symbol id=\"icon-database\" viewBox=\"0 0 32 32\">\n",
       "<path d=\"M16 0c-8.837 0-16 2.239-16 5v4c0 2.761 7.163 5 16 5s16-2.239 16-5v-4c0-2.761-7.163-5-16-5z\"></path>\n",
       "<path d=\"M16 17c-8.837 0-16-2.239-16-5v6c0 2.761 7.163 5 16 5s16-2.239 16-5v-6c0 2.761-7.163 5-16 5z\"></path>\n",
       "<path d=\"M16 26c-8.837 0-16-2.239-16-5v6c0 2.761 7.163 5 16 5s16-2.239 16-5v-6c0 2.761-7.163 5-16 5z\"></path>\n",
       "</symbol>\n",
       "<symbol id=\"icon-file-text2\" viewBox=\"0 0 32 32\">\n",
       "<path d=\"M28.681 7.159c-0.694-0.947-1.662-2.053-2.724-3.116s-2.169-2.030-3.116-2.724c-1.612-1.182-2.393-1.319-2.841-1.319h-15.5c-1.378 0-2.5 1.121-2.5 2.5v27c0 1.378 1.122 2.5 2.5 2.5h23c1.378 0 2.5-1.122 2.5-2.5v-19.5c0-0.448-0.137-1.23-1.319-2.841zM24.543 5.457c0.959 0.959 1.712 1.825 2.268 2.543h-4.811v-4.811c0.718 0.556 1.584 1.309 2.543 2.268zM28 29.5c0 0.271-0.229 0.5-0.5 0.5h-23c-0.271 0-0.5-0.229-0.5-0.5v-27c0-0.271 0.229-0.5 0.5-0.5 0 0 15.499-0 15.5 0v7c0 0.552 0.448 1 1 1h7v19.5z\"></path>\n",
       "<path d=\"M23 26h-14c-0.552 0-1-0.448-1-1s0.448-1 1-1h14c0.552 0 1 0.448 1 1s-0.448 1-1 1z\"></path>\n",
       "<path d=\"M23 22h-14c-0.552 0-1-0.448-1-1s0.448-1 1-1h14c0.552 0 1 0.448 1 1s-0.448 1-1 1z\"></path>\n",
       "<path d=\"M23 18h-14c-0.552 0-1-0.448-1-1s0.448-1 1-1h14c0.552 0 1 0.448 1 1s-0.448 1-1 1z\"></path>\n",
       "</symbol>\n",
       "</defs>\n",
       "</svg>\n",
       "<style>/* CSS stylesheet for displaying xarray objects in jupyterlab.\n",
       " *\n",
       " */\n",
       "\n",
       ":root {\n",
       "  --xr-font-color0: var(--jp-content-font-color0, rgba(0, 0, 0, 1));\n",
       "  --xr-font-color2: var(--jp-content-font-color2, rgba(0, 0, 0, 0.54));\n",
       "  --xr-font-color3: var(--jp-content-font-color3, rgba(0, 0, 0, 0.38));\n",
       "  --xr-border-color: var(--jp-border-color2, #e0e0e0);\n",
       "  --xr-disabled-color: var(--jp-layout-color3, #bdbdbd);\n",
       "  --xr-background-color: var(--jp-layout-color0, white);\n",
       "  --xr-background-color-row-even: var(--jp-layout-color1, white);\n",
       "  --xr-background-color-row-odd: var(--jp-layout-color2, #eeeeee);\n",
       "}\n",
       "\n",
       "html[theme=dark],\n",
       "body.vscode-dark {\n",
       "  --xr-font-color0: rgba(255, 255, 255, 1);\n",
       "  --xr-font-color2: rgba(255, 255, 255, 0.54);\n",
       "  --xr-font-color3: rgba(255, 255, 255, 0.38);\n",
       "  --xr-border-color: #1F1F1F;\n",
       "  --xr-disabled-color: #515151;\n",
       "  --xr-background-color: #111111;\n",
       "  --xr-background-color-row-even: #111111;\n",
       "  --xr-background-color-row-odd: #313131;\n",
       "}\n",
       "\n",
       ".xr-wrap {\n",
       "  display: block !important;\n",
       "  min-width: 300px;\n",
       "  max-width: 700px;\n",
       "}\n",
       "\n",
       ".xr-text-repr-fallback {\n",
       "  /* fallback to plain text repr when CSS is not injected (untrusted notebook) */\n",
       "  display: none;\n",
       "}\n",
       "\n",
       ".xr-header {\n",
       "  padding-top: 6px;\n",
       "  padding-bottom: 6px;\n",
       "  margin-bottom: 4px;\n",
       "  border-bottom: solid 1px var(--xr-border-color);\n",
       "}\n",
       "\n",
       ".xr-header > div,\n",
       ".xr-header > ul {\n",
       "  display: inline;\n",
       "  margin-top: 0;\n",
       "  margin-bottom: 0;\n",
       "}\n",
       "\n",
       ".xr-obj-type,\n",
       ".xr-array-name {\n",
       "  margin-left: 2px;\n",
       "  margin-right: 10px;\n",
       "}\n",
       "\n",
       ".xr-obj-type {\n",
       "  color: var(--xr-font-color2);\n",
       "}\n",
       "\n",
       ".xr-sections {\n",
       "  padding-left: 0 !important;\n",
       "  display: grid;\n",
       "  grid-template-columns: 150px auto auto 1fr 20px 20px;\n",
       "}\n",
       "\n",
       ".xr-section-item {\n",
       "  display: contents;\n",
       "}\n",
       "\n",
       ".xr-section-item input {\n",
       "  display: none;\n",
       "}\n",
       "\n",
       ".xr-section-item input + label {\n",
       "  color: var(--xr-disabled-color);\n",
       "}\n",
       "\n",
       ".xr-section-item input:enabled + label {\n",
       "  cursor: pointer;\n",
       "  color: var(--xr-font-color2);\n",
       "}\n",
       "\n",
       ".xr-section-item input:enabled + label:hover {\n",
       "  color: var(--xr-font-color0);\n",
       "}\n",
       "\n",
       ".xr-section-summary {\n",
       "  grid-column: 1;\n",
       "  color: var(--xr-font-color2);\n",
       "  font-weight: 500;\n",
       "}\n",
       "\n",
       ".xr-section-summary > span {\n",
       "  display: inline-block;\n",
       "  padding-left: 0.5em;\n",
       "}\n",
       "\n",
       ".xr-section-summary-in:disabled + label {\n",
       "  color: var(--xr-font-color2);\n",
       "}\n",
       "\n",
       ".xr-section-summary-in + label:before {\n",
       "  display: inline-block;\n",
       "  content: '►';\n",
       "  font-size: 11px;\n",
       "  width: 15px;\n",
       "  text-align: center;\n",
       "}\n",
       "\n",
       ".xr-section-summary-in:disabled + label:before {\n",
       "  color: var(--xr-disabled-color);\n",
       "}\n",
       "\n",
       ".xr-section-summary-in:checked + label:before {\n",
       "  content: '▼';\n",
       "}\n",
       "\n",
       ".xr-section-summary-in:checked + label > span {\n",
       "  display: none;\n",
       "}\n",
       "\n",
       ".xr-section-summary,\n",
       ".xr-section-inline-details {\n",
       "  padding-top: 4px;\n",
       "  padding-bottom: 4px;\n",
       "}\n",
       "\n",
       ".xr-section-inline-details {\n",
       "  grid-column: 2 / -1;\n",
       "}\n",
       "\n",
       ".xr-section-details {\n",
       "  display: none;\n",
       "  grid-column: 1 / -1;\n",
       "  margin-bottom: 5px;\n",
       "}\n",
       "\n",
       ".xr-section-summary-in:checked ~ .xr-section-details {\n",
       "  display: contents;\n",
       "}\n",
       "\n",
       ".xr-array-wrap {\n",
       "  grid-column: 1 / -1;\n",
       "  display: grid;\n",
       "  grid-template-columns: 20px auto;\n",
       "}\n",
       "\n",
       ".xr-array-wrap > label {\n",
       "  grid-column: 1;\n",
       "  vertical-align: top;\n",
       "}\n",
       "\n",
       ".xr-preview {\n",
       "  color: var(--xr-font-color3);\n",
       "}\n",
       "\n",
       ".xr-array-preview,\n",
       ".xr-array-data {\n",
       "  padding: 0 5px !important;\n",
       "  grid-column: 2;\n",
       "}\n",
       "\n",
       ".xr-array-data,\n",
       ".xr-array-in:checked ~ .xr-array-preview {\n",
       "  display: none;\n",
       "}\n",
       "\n",
       ".xr-array-in:checked ~ .xr-array-data,\n",
       ".xr-array-preview {\n",
       "  display: inline-block;\n",
       "}\n",
       "\n",
       ".xr-dim-list {\n",
       "  display: inline-block !important;\n",
       "  list-style: none;\n",
       "  padding: 0 !important;\n",
       "  margin: 0;\n",
       "}\n",
       "\n",
       ".xr-dim-list li {\n",
       "  display: inline-block;\n",
       "  padding: 0;\n",
       "  margin: 0;\n",
       "}\n",
       "\n",
       ".xr-dim-list:before {\n",
       "  content: '(';\n",
       "}\n",
       "\n",
       ".xr-dim-list:after {\n",
       "  content: ')';\n",
       "}\n",
       "\n",
       ".xr-dim-list li:not(:last-child):after {\n",
       "  content: ',';\n",
       "  padding-right: 5px;\n",
       "}\n",
       "\n",
       ".xr-has-index {\n",
       "  font-weight: bold;\n",
       "}\n",
       "\n",
       ".xr-var-list,\n",
       ".xr-var-item {\n",
       "  display: contents;\n",
       "}\n",
       "\n",
       ".xr-var-item > div,\n",
       ".xr-var-item label,\n",
       ".xr-var-item > .xr-var-name span {\n",
       "  background-color: var(--xr-background-color-row-even);\n",
       "  margin-bottom: 0;\n",
       "}\n",
       "\n",
       ".xr-var-item > .xr-var-name:hover span {\n",
       "  padding-right: 5px;\n",
       "}\n",
       "\n",
       ".xr-var-list > li:nth-child(odd) > div,\n",
       ".xr-var-list > li:nth-child(odd) > label,\n",
       ".xr-var-list > li:nth-child(odd) > .xr-var-name span {\n",
       "  background-color: var(--xr-background-color-row-odd);\n",
       "}\n",
       "\n",
       ".xr-var-name {\n",
       "  grid-column: 1;\n",
       "}\n",
       "\n",
       ".xr-var-dims {\n",
       "  grid-column: 2;\n",
       "}\n",
       "\n",
       ".xr-var-dtype {\n",
       "  grid-column: 3;\n",
       "  text-align: right;\n",
       "  color: var(--xr-font-color2);\n",
       "}\n",
       "\n",
       ".xr-var-preview {\n",
       "  grid-column: 4;\n",
       "}\n",
       "\n",
       ".xr-var-name,\n",
       ".xr-var-dims,\n",
       ".xr-var-dtype,\n",
       ".xr-preview,\n",
       ".xr-attrs dt {\n",
       "  white-space: nowrap;\n",
       "  overflow: hidden;\n",
       "  text-overflow: ellipsis;\n",
       "  padding-right: 10px;\n",
       "}\n",
       "\n",
       ".xr-var-name:hover,\n",
       ".xr-var-dims:hover,\n",
       ".xr-var-dtype:hover,\n",
       ".xr-attrs dt:hover {\n",
       "  overflow: visible;\n",
       "  width: auto;\n",
       "  z-index: 1;\n",
       "}\n",
       "\n",
       ".xr-var-attrs,\n",
       ".xr-var-data {\n",
       "  display: none;\n",
       "  background-color: var(--xr-background-color) !important;\n",
       "  padding-bottom: 5px !important;\n",
       "}\n",
       "\n",
       ".xr-var-attrs-in:checked ~ .xr-var-attrs,\n",
       ".xr-var-data-in:checked ~ .xr-var-data {\n",
       "  display: block;\n",
       "}\n",
       "\n",
       ".xr-var-data > table {\n",
       "  float: right;\n",
       "}\n",
       "\n",
       ".xr-var-name span,\n",
       ".xr-var-data,\n",
       ".xr-attrs {\n",
       "  padding-left: 25px !important;\n",
       "}\n",
       "\n",
       ".xr-attrs,\n",
       ".xr-var-attrs,\n",
       ".xr-var-data {\n",
       "  grid-column: 1 / -1;\n",
       "}\n",
       "\n",
       "dl.xr-attrs {\n",
       "  padding: 0;\n",
       "  margin: 0;\n",
       "  display: grid;\n",
       "  grid-template-columns: 125px auto;\n",
       "}\n",
       "\n",
       ".xr-attrs dt,\n",
       ".xr-attrs dd {\n",
       "  padding: 0;\n",
       "  margin: 0;\n",
       "  float: left;\n",
       "  padding-right: 10px;\n",
       "  width: auto;\n",
       "}\n",
       "\n",
       ".xr-attrs dt {\n",
       "  font-weight: normal;\n",
       "  grid-column: 1;\n",
       "}\n",
       "\n",
       ".xr-attrs dt:hover span {\n",
       "  display: inline-block;\n",
       "  background: var(--xr-background-color);\n",
       "  padding-right: 10px;\n",
       "}\n",
       "\n",
       ".xr-attrs dd {\n",
       "  grid-column: 2;\n",
       "  white-space: pre-wrap;\n",
       "  word-break: break-all;\n",
       "}\n",
       "\n",
       ".xr-icon-database,\n",
       ".xr-icon-file-text2 {\n",
       "  display: inline-block;\n",
       "  vertical-align: middle;\n",
       "  width: 1em;\n",
       "  height: 1.5em !important;\n",
       "  stroke-width: 0;\n",
       "  stroke: currentColor;\n",
       "  fill: currentColor;\n",
       "}\n",
       "</style><pre class='xr-text-repr-fallback'>&lt;xarray.DataArray &#x27;time_counter&#x27; (time_counter: 367)&gt;\n",
       "array([&#x27;2009-08-01T00:30:00.000000000&#x27;, &#x27;2009-08-01T06:30:00.000000000&#x27;,\n",
       "       &#x27;2009-08-01T12:30:00.000000000&#x27;, ..., &#x27;2009-10-31T00:30:00.000000000&#x27;,\n",
       "       &#x27;2009-10-31T06:30:00.000000000&#x27;, &#x27;2009-10-31T12:30:00.000000000&#x27;],\n",
       "      dtype=&#x27;datetime64[ns]&#x27;)\n",
       "Coordinates:\n",
       "  * time_counter  (time_counter) datetime64[ns] 2009-08-01T00:30:00 ... 2009-...</pre><div class='xr-wrap' style='display:none'><div class='xr-header'><div class='xr-obj-type'>xarray.DataArray</div><div class='xr-array-name'>'time_counter'</div><ul class='xr-dim-list'><li><span class='xr-has-index'>time_counter</span>: 367</li></ul></div><ul class='xr-sections'><li class='xr-section-item'><div class='xr-array-wrap'><input id='section-1683af6d-a4ed-4cda-be1e-3eff571d5aab' class='xr-array-in' type='checkbox' checked><label for='section-1683af6d-a4ed-4cda-be1e-3eff571d5aab' title='Show/hide data repr'><svg class='icon xr-icon-database'><use xlink:href='#icon-database'></use></svg></label><div class='xr-array-preview xr-preview'><span>2009-08-01T00:30:00 2009-08-01T06:30:00 ... 2009-10-31T12:30:00</span></div><div class='xr-array-data'><pre>array([&#x27;2009-08-01T00:30:00.000000000&#x27;, &#x27;2009-08-01T06:30:00.000000000&#x27;,\n",
       "       &#x27;2009-08-01T12:30:00.000000000&#x27;, ..., &#x27;2009-10-31T00:30:00.000000000&#x27;,\n",
       "       &#x27;2009-10-31T06:30:00.000000000&#x27;, &#x27;2009-10-31T12:30:00.000000000&#x27;],\n",
       "      dtype=&#x27;datetime64[ns]&#x27;)</pre></div></div></li><li class='xr-section-item'><input id='section-1a3c12e0-f64a-4cce-8f22-91aac7de3129' class='xr-section-summary-in' type='checkbox'  checked><label for='section-1a3c12e0-f64a-4cce-8f22-91aac7de3129' class='xr-section-summary' >Coordinates: <span>(1)</span></label><div class='xr-section-inline-details'></div><div class='xr-section-details'><ul class='xr-var-list'><li class='xr-var-item'><div class='xr-var-name'><span class='xr-has-index'>time_counter</span></div><div class='xr-var-dims'>(time_counter)</div><div class='xr-var-dtype'>datetime64[ns]</div><div class='xr-var-preview xr-preview'>2009-08-01T00:30:00 ... 2009-10-...</div><input id='attrs-b1b40fbe-6f83-42d8-ba2c-4724f8ba403a' class='xr-var-attrs-in' type='checkbox' disabled><label for='attrs-b1b40fbe-6f83-42d8-ba2c-4724f8ba403a' title='Show/Hide attributes'><svg class='icon xr-icon-file-text2'><use xlink:href='#icon-file-text2'></use></svg></label><input id='data-2e8cace6-4908-4462-b622-667a473b5b83' class='xr-var-data-in' type='checkbox'><label for='data-2e8cace6-4908-4462-b622-667a473b5b83' title='Show/Hide data repr'><svg class='icon xr-icon-database'><use xlink:href='#icon-database'></use></svg></label><div class='xr-var-attrs'><dl class='xr-attrs'></dl></div><div class='xr-var-data'><pre>array([&#x27;2009-08-01T00:30:00.000000000&#x27;, &#x27;2009-08-01T06:30:00.000000000&#x27;,\n",
       "       &#x27;2009-08-01T12:30:00.000000000&#x27;, ..., &#x27;2009-10-31T00:30:00.000000000&#x27;,\n",
       "       &#x27;2009-10-31T06:30:00.000000000&#x27;, &#x27;2009-10-31T12:30:00.000000000&#x27;],\n",
       "      dtype=&#x27;datetime64[ns]&#x27;)</pre></div></li></ul></div></li><li class='xr-section-item'><input id='section-6985aa55-c537-4a9c-8cad-8f43cfb1579e' class='xr-section-summary-in' type='checkbox' disabled ><label for='section-6985aa55-c537-4a9c-8cad-8f43cfb1579e' class='xr-section-summary'  title='Expand/collapse section'>Attributes: <span>(0)</span></label><div class='xr-section-inline-details'></div><div class='xr-section-details'><dl class='xr-attrs'></dl></div></li></ul></div></div>"
      ],
      "text/plain": [
       "<xarray.DataArray 'time_counter' (time_counter: 367)>\n",
       "array(['2009-08-01T00:30:00.000000000', '2009-08-01T06:30:00.000000000',\n",
       "       '2009-08-01T12:30:00.000000000', ..., '2009-10-31T00:30:00.000000000',\n",
       "       '2009-10-31T06:30:00.000000000', '2009-10-31T12:30:00.000000000'],\n",
       "      dtype='datetime64[ns]')\n",
       "Coordinates:\n",
       "  * time_counter  (time_counter) datetime64[ns] 2009-08-01T00:30:00 ... 2009-..."
      ]
     },
     "execution_count": 26,
     "metadata": {},
     "output_type": "execute_result"
    }
   ],
   "source": [
    "data[i]['HR_Filtered'].coords['time_counter']"
   ]
  },
  {
   "cell_type": "code",
   "execution_count": null,
   "id": "4b4f2a30-c44b-4031-ba72-bcae3e7511f1",
   "metadata": {},
   "outputs": [],
   "source": []
  }
 ],
 "metadata": {
  "kernelspec": {
   "display_name": "pytorch_env",
   "language": "python",
   "name": "pytorch_env"
  },
  "language_info": {
   "codemirror_mode": {
    "name": "ipython",
    "version": 3
   },
   "file_extension": ".py",
   "mimetype": "text/x-python",
   "name": "python",
   "nbconvert_exporter": "python",
   "pygments_lexer": "ipython3",
   "version": "3.9.10"
  }
 },
 "nbformat": 4,
 "nbformat_minor": 5
}
