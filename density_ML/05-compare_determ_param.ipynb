{
 "cells": [
  {
   "cell_type": "markdown",
   "id": "ea54da1f-c0d2-4ed2-8dea-5f96a68745f0",
   "metadata": {},
   "source": [
    "# Import"
   ]
  },
  {
   "cell_type": "code",
   "execution_count": 51,
   "id": "e9303f7b-4813-46e3-9398-9b53578b9437",
   "metadata": {},
   "outputs": [],
   "source": [
    "import glob, os\n",
    "import torch\n",
    "import numpy as np\n",
    "import matplotlib.pyplot as plt\n",
    "from torch.utils.data import Dataset, DataLoader\n",
    "from tqdm.autonotebook import tqdm, trange\n",
    "import torch.nn.functional as F\n",
    "import xarray as xr\n",
    "import dask\n",
    "from IPython import display\n",
    "from prettytable import PrettyTable"
   ]
  },
  {
   "cell_type": "code",
   "execution_count": 52,
   "id": "cb00724f-4c87-407a-a426-1969274ebfb7",
   "metadata": {},
   "outputs": [
    {
     "name": "stdout",
     "output_type": "stream",
     "text": [
      "Linux-5.4.144+-x86_64-with-glibc2.31\n"
     ]
    }
   ],
   "source": [
    "import platform\n",
    "print(platform.platform())"
   ]
  },
  {
   "cell_type": "code",
   "execution_count": 53,
   "id": "c55aabf7-8972-41a0-93f3-6bf903b044f1",
   "metadata": {},
   "outputs": [],
   "source": [
    "device = torch.device(\"cuda:0\")\n",
    "#device = torch.device(\"cpu\")"
   ]
  },
  {
   "cell_type": "markdown",
   "id": "7a404186-310e-42d9-acab-bd1f17d2a126",
   "metadata": {},
   "source": [
    "# Dataset definitions"
   ]
  },
  {
   "cell_type": "code",
   "execution_count": 54,
   "id": "878f2708-915a-41fc-b4ed-30cff8f87e43",
   "metadata": {},
   "outputs": [],
   "source": [
    "keys_to_add_to_sample = ['diff_T_sqr', 'diff_S_sqr', 'diff_TS', 'sosstsst', 'sosaline', 'rho_sa_sa', 'rho_sa_ct', 'rho_ct_ct', \\\n",
    "                         'sigma0_delta']"
   ]
  },
  {
   "cell_type": "code",
   "execution_count": 55,
   "id": "16efd56f-6208-4fa3-b5e9-230764684a54",
   "metadata": {},
   "outputs": [],
   "source": [
    "class SalinityTemperatureDensityDataset(Dataset):\n",
    "    \"\"\"Dataset of 2D maps of surface temperature, salinity\"\"\"\n",
    "\n",
    "    def __init__(self, list_of_netcdf_files, select='All', portion_of_time_series=0.5, transform=None, normalize=False):\n",
    "        self.data = [xr.DataArray() for i in range(len(list_of_netcdf_files))]\n",
    "        for i, datasetNetcdfFile in enumerate(list_of_netcdf_files) :\n",
    "            self.data[i] = xr.open_mfdataset(datasetNetcdfFile, parallel=True).load()\n",
    "            # nan filling\n",
    "            self.data[i] = self.data[i].bfill(dim='x')\n",
    "            if (np.isnan(self.data[i]['diff_S_sqr']).any() or np.isnan(self.data[i]['sigma0_delta']).any()) :\n",
    "                print(\"NANS in data \" + datasetNetcdfFile)\n",
    "        data_file_len = len(self.data[0]['time_counter'])\n",
    "        if (select == 'All') :\n",
    "            time_index_range = np.arange(0, data_file_len)\n",
    "        elif (select == 'First') :\n",
    "            time_index_range = np.arange(0, int(portion_of_time_series*data_file_len)+1)\n",
    "        elif (select == 'Last') :\n",
    "            time_index_range = np.arange(int((1-portion_of_time_series)*data_file_len), data_file_len)\n",
    "        self.total_len = len(self.data)*len(time_index_range)\n",
    "        self.index_table = np.transpose(np.stack([np.concatenate([np.full(len(time_index_range), i) for i in range(len(self.data))]),\\\n",
    "         np.concatenate([time_index_range for i in range(len(self.data))])]))\n",
    "        self.transform = transform\n",
    "        self.normalize = normalize\n",
    "        if (normalize) :\n",
    "            for i in range(len(list_of_netcdf_files)) :\n",
    "                for key in self.data[i].data_vars :\n",
    "                    self.data[i].attrs['mean_'+key] = self.data[i].data_vars[key].mean().compute()\n",
    "                    self.data[i].attrs['std_'+key] = self.data[i].data_vars[key].std().compute()\n",
    "        \n",
    "    def __len__(self):\n",
    "        return self.total_len\n",
    "\n",
    "    def __getitem__(self, idx):\n",
    "        if torch.is_tensor(idx):\n",
    "            idx = idx.tolist()\n",
    "        \n",
    "        [index_of_dataset, index_of_time_counter] = self.index_table[idx]\n",
    "        current_dataframe = self.data[index_of_dataset].isel(time_counter=index_of_time_counter).load()\n",
    "        \n",
    "        sample = dict()\n",
    "        sample['dataset_index'] = index_of_dataset\n",
    "        sample['dataset_region'] = self.data[index_of_dataset].attrs['region']\n",
    "        sample['dataset_season'] = self.data[index_of_dataset].attrs['season']\n",
    "        for key in keys_to_add_to_sample :\n",
    "            if self.normalize :\n",
    "                sample[key] = ((current_dataframe[key]-current_dataframe.attrs['mean_'+key])/current_dataframe.attrs['std_'+key]).values\n",
    "                sample['mean_'+key] = current_dataframe.attrs['mean_'+key].values\n",
    "                sample['std_'+key] = current_dataframe.attrs['std_'+key].values\n",
    "            else : \n",
    "                sample[key] = current_dataframe[key].values\n",
    "\n",
    "        if self.transform:\n",
    "            sample = self.transform(sample)\n",
    "\n",
    "        return sample"
   ]
  },
  {
   "cell_type": "code",
   "execution_count": 56,
   "id": "5d3b1afc-6b46-4ddc-907c-6c028a959939",
   "metadata": {},
   "outputs": [],
   "source": [
    "class ToTensor(object):\n",
    "    \"\"\"Convert each numpy array in sample to Tensors.\"\"\"\n",
    "\n",
    "    def __call__(self, sample):\n",
    "        transformed_sample=sample\n",
    "        for key in keys_to_add_to_sample :\n",
    "            transformed_sample[key] = torch.from_numpy(sample[key])\n",
    "        return transformed_sample"
   ]
  },
  {
   "cell_type": "markdown",
   "id": "853179b6-bba1-40d5-9395-24b248374902",
   "metadata": {},
   "source": [
    "# Data Loader"
   ]
  },
  {
   "cell_type": "code",
   "execution_count": 57,
   "id": "20524c8b-cfb8-48bc-b93d-678cd091d223",
   "metadata": {},
   "outputs": [],
   "source": [
    "list_of_datasets = sorted(glob.glob('datasets/dataset?.nc'))\n",
    "#list_of_datasets = ['oceanDataNotebooks/density_ML/datasets/dataset'+str(index)+'.nc' for index in range(4)]"
   ]
  },
  {
   "cell_type": "code",
   "execution_count": 58,
   "id": "86e19bca-3912-43a7-931f-a63800eb6b22",
   "metadata": {},
   "outputs": [
    {
     "data": {
      "text/plain": [
       "['datasets/dataset0.nc',\n",
       " 'datasets/dataset1.nc',\n",
       " 'datasets/dataset2.nc',\n",
       " 'datasets/dataset3.nc',\n",
       " 'datasets/dataset4.nc',\n",
       " 'datasets/dataset5.nc']"
      ]
     },
     "execution_count": 58,
     "metadata": {},
     "output_type": "execute_result"
    }
   ],
   "source": [
    "list_of_datasets"
   ]
  },
  {
   "cell_type": "code",
   "execution_count": 59,
   "id": "5f8552cd-2a6f-446a-bbaf-52780738ca40",
   "metadata": {},
   "outputs": [],
   "source": [
    "batch_size = 5"
   ]
  },
  {
   "cell_type": "code",
   "execution_count": 62,
   "id": "17e331e1-7a6d-467f-984c-9f7d6c4b5832",
   "metadata": {},
   "outputs": [
    {
     "name": "stdout",
     "output_type": "stream",
     "text": [
      "CPU times: user 2.15 s, sys: 667 ms, total: 2.82 s\n",
      "Wall time: 3.77 s\n"
     ]
    }
   ],
   "source": [
    "%%time\n",
    "train_dataset = SalinityTemperatureDensityDataset(list_of_netcdf_files = list_of_datasets, select='First', \\\n",
    "                                                  portion_of_time_series=0.6, transform=ToTensor(), normalize=True)\n",
    "test_dataset = SalinityTemperatureDensityDataset(list_of_netcdf_files = list_of_datasets, select='Last', \\\n",
    "                                                 portion_of_time_series=0.2, transform=ToTensor(), normalize=True)"
   ]
  },
  {
   "cell_type": "code",
   "execution_count": 63,
   "id": "a8ca80e3-611b-4251-add9-f81ffd6ed803",
   "metadata": {},
   "outputs": [],
   "source": [
    "train_data_loader = DataLoader(dataset=train_dataset, batch_size=batch_size, shuffle=True, drop_last=True)\n",
    "test_data_loader = DataLoader(dataset=test_dataset, batch_size=batch_size, shuffle=True, drop_last=True)"
   ]
  },
  {
   "cell_type": "code",
   "execution_count": 64,
   "id": "e16045cd-b3ce-4ea0-8dc8-51b018c0640e",
   "metadata": {},
   "outputs": [],
   "source": [
    "train_data_iterator = iter(train_data_loader)"
   ]
  },
  {
   "cell_type": "code",
   "execution_count": 65,
   "id": "ab2f0323-d460-4e78-bcfd-7a1ceedab92b",
   "metadata": {},
   "outputs": [],
   "source": [
    "test_data_iterator = iter(test_data_loader)"
   ]
  },
  {
   "cell_type": "code",
   "execution_count": 66,
   "id": "52726bc6-f695-499e-a4f9-c28df8704ded",
   "metadata": {},
   "outputs": [],
   "source": [
    "#sample = test_data_iterator.next()"
   ]
  },
  {
   "cell_type": "markdown",
   "id": "ff56d616-ef48-44ed-8de0-a84d0486862b",
   "metadata": {},
   "source": [
    "# Fully-connected NN Model"
   ]
  },
  {
   "cell_type": "code",
   "execution_count": 67,
   "id": "b5e40cb5-9ac5-4acc-89a9-bd81870f9cda",
   "metadata": {},
   "outputs": [],
   "source": [
    "h = 20 # height of images\n",
    "w = 20 # width of images"
   ]
  },
  {
   "cell_type": "code",
   "execution_count": 68,
   "id": "947acebe-952e-4bd5-837b-4aea68b15d7d",
   "metadata": {},
   "outputs": [],
   "source": [
    "keys_input_FCNN = {'diff_S_sqr', 'diff_TS', 'diff_T_sqr', 'rho_sa_sa', 'rho_sa_ct', 'rho_ct_ct'}\n",
    "keys_targets_FCNN = {'sigma0_delta'}"
   ]
  },
  {
   "cell_type": "code",
   "execution_count": 69,
   "id": "a11e3b0d-fc1c-41d1-a1b7-57ea0978ffa1",
   "metadata": {},
   "outputs": [],
   "source": [
    "import torch.nn as nn\n",
    "\n",
    "class FCNN(nn.Module):\n",
    "    def __init__(self):\n",
    "        super().__init__()\n",
    "        self.lin1 = nn.Linear(len(keys_input_FCNN), 8)\n",
    "        self.lin2 = nn.Linear(8, 16)\n",
    "        self.lin3 = nn.Linear(16, 8)\n",
    "        self.lin4 = nn.Linear(8, len(keys_targets_FCNN))\n",
    "\n",
    "    def forward(self, x):\n",
    "        #flatten_input = nn.Flatten(x)\n",
    "        res = self.lin1(x)\n",
    "        res = F.relu(res)\n",
    "        res = self.lin2(res)\n",
    "        res = F.relu(res)\n",
    "        res = self.lin3(res)\n",
    "        res = F.relu(res)\n",
    "        res = self.lin4(res)\n",
    "        return res"
   ]
  },
  {
   "cell_type": "markdown",
   "id": "017ab524-6a68-4094-8815-4142f44e3e59",
   "metadata": {},
   "source": [
    "## Instantiate model "
   ]
  },
  {
   "cell_type": "code",
   "execution_count": 75,
   "id": "43232eba-a0dc-40eb-95ce-8e5eb89eaa14",
   "metadata": {},
   "outputs": [],
   "source": [
    "# Instantiate model  \n",
    "modelFCNN = (FCNN()).to(device)"
   ]
  },
  {
   "cell_type": "code",
   "execution_count": 76,
   "id": "463d56ba-34f8-4601-bb5f-4501d7f2a108",
   "metadata": {},
   "outputs": [
    {
     "name": "stdout",
     "output_type": "stream",
     "text": [
      "FCNN(\n",
      "  (lin1): Linear(in_features=6, out_features=8, bias=True)\n",
      "  (lin2): Linear(in_features=8, out_features=16, bias=True)\n",
      "  (lin3): Linear(in_features=16, out_features=8, bias=True)\n",
      "  (lin4): Linear(in_features=8, out_features=1, bias=True)\n",
      ")\n"
     ]
    }
   ],
   "source": [
    "print(modelFCNN)"
   ]
  },
  {
   "cell_type": "code",
   "execution_count": 77,
   "id": "68ba9218-d51b-43c1-a4eb-6edb162aef72",
   "metadata": {},
   "outputs": [],
   "source": [
    "# Loss and Optimizer\n",
    "criterion = nn.MSELoss()  \n",
    "#optimizer = torch.optim.Adam(model.parameters(), lr=0.0001)\n",
    "optimizer = torch.optim.SGD(modelFCNN.parameters(), lr=0.001)"
   ]
  },
  {
   "cell_type": "code",
   "execution_count": 21,
   "id": "4e1d8760-7726-4af1-9c41-6ceae601e980",
   "metadata": {},
   "outputs": [],
   "source": [
    "def count_parameters(model):\n",
    "    table = PrettyTable([\"Modules\", \"Parameters\"])\n",
    "    total_params = 0\n",
    "    for name, parameter in model.named_parameters():\n",
    "        if not parameter.requires_grad: continue\n",
    "        params = parameter.numel()\n",
    "        table.add_row([name, params])\n",
    "        total_params+=params\n",
    "    print(table)\n",
    "    print(f\"Total Trainable Params: {total_params}\")\n",
    "    return total_params"
   ]
  },
  {
   "cell_type": "code",
   "execution_count": 22,
   "id": "a27238c1-c764-4f2e-933d-bb966a731706",
   "metadata": {},
   "outputs": [
    {
     "name": "stdout",
     "output_type": "stream",
     "text": [
      "+-------------+------------+\n",
      "|   Modules   | Parameters |\n",
      "+-------------+------------+\n",
      "| lin1.weight |     48     |\n",
      "|  lin1.bias  |     8      |\n",
      "| lin2.weight |    128     |\n",
      "|  lin2.bias  |     16     |\n",
      "| lin3.weight |    128     |\n",
      "|  lin3.bias  |     8      |\n",
      "| lin4.weight |     8      |\n",
      "|  lin4.bias  |     1      |\n",
      "+-------------+------------+\n",
      "Total Trainable Params: 345\n"
     ]
    },
    {
     "data": {
      "text/plain": [
       "345"
      ]
     },
     "execution_count": 22,
     "metadata": {},
     "output_type": "execute_result"
    }
   ],
   "source": [
    "count_parameters(modelFCNN)"
   ]
  },
  {
   "cell_type": "markdown",
   "id": "78f2255c-cafa-4670-a7c1-28018181a7bd",
   "metadata": {},
   "source": [
    "Transform inputs and targets (treatment pixel by pixel) :"
   ]
  },
  {
   "cell_type": "code",
<<<<<<< HEAD
   "execution_count": 78,
=======
   "execution_count": 23,
>>>>>>> remotes/origin/main
   "id": "eabe3c75-3b0c-4a91-9441-d4f9e99efa0b",
   "metadata": {
    "tags": []
   },
   "outputs": [],
   "source": [
    "def transform_input(sample) :\n",
    "    return torch.hstack([sample[key].view(-1,1) for key in keys_input_FCNN]).to(torch.float32).to(device)\n",
    "def transform_target(sample) : \n",
    "    return sample['sigma0_delta'].view(-1, 1).to(torch.float32).to(device)"
   ]
  },
  {
   "cell_type": "markdown",
   "id": "67eab74b-a6e8-4f52-a636-5fcc6a9cbebb",
   "metadata": {
    "tags": []
   },
   "source": [
    "## Training"
   ]
  },
  {
   "cell_type": "code",
<<<<<<< HEAD
   "execution_count": 79,
=======
   "execution_count": 24,
   "id": "0c26cf0b-3b1a-43b1-ab70-2c839dddf53c",
   "metadata": {},
   "outputs": [
    {
     "name": "stdout",
     "output_type": "stream",
     "text": [
      "Input data for training contains 256 batches, each batch contains N*h*w=2000 pixels, each pixel is represented by a tensor containg values of 6 variables: {'rho_sa_sa', 'diff_S_sqr', 'rho_ct_ct', 'rho_sa_ct', 'diff_TS', 'diff_T_sqr'}\n"
     ]
    }
   ],
   "source": [
    "print(r'Input data for training contains ' + str(len(train_data_loader)) + r' batches, each batch contains N*h*w=' + str(batch_size*h*w) + \\\n",
    "      ' pixels, each pixel is represented by a tensor containg values of ' + str(len(keys_input_FCNN)) + ' variables: ' + str(keys_input_FCNN))"
   ]
  },
  {
   "cell_type": "code",
   "execution_count": 25,
>>>>>>> remotes/origin/main
   "id": "8afc45d1-d9c4-4677-bc23-5356a332c8a7",
   "metadata": {},
   "outputs": [
    {
     "data": {
<<<<<<< HEAD
      "image/png": "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\n",
=======
      "image/png": "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\n",
>>>>>>> remotes/origin/main
      "text/plain": [
       "<Figure size 288x252 with 1 Axes>"
      ]
     },
     "metadata": {
      "needs_background": "light"
     },
     "output_type": "display_data"
    },
    {
     "name": "stdout",
     "output_type": "stream",
     "text": [
<<<<<<< HEAD
      "CPU times: user 39min 37s, sys: 22.8 s, total: 40min\n",
      "Wall time: 39min 37s\n"
=======
      "CPU times: user 12min 19s, sys: 3min 25s, total: 15min 45s\n",
      "Wall time: 11min 40s\n"
>>>>>>> remotes/origin/main
     ]
    }
   ],
   "source": [
    "%%time\n",
    "nb_of_epochs = 20\n",
    "\n",
    "epoch_training_losses = np.empty(nb_of_epochs)\n",
    "epoch_test_losses = np.empty(nb_of_epochs)\n",
    "\n",
    "# Iterate through train set minibatchs\n",
    "for epoch in tqdm(range(nb_of_epochs)):  \n",
    "    print('Epoch ' + str(epoch))\n",
    "    # Train\n",
    "    training_losses = list()\n",
    "    for sample in tqdm(train_data_loader, desc='Training', ascii=True):\n",
    "        # Zero out the gradients\n",
    "        optimizer.zero_grad()\n",
    "\n",
    "        # Forward pass\n",
    "        x = transform_input(sample)\n",
    "        #if not(x.isnan().any()) : \n",
    "        y = modelFCNN(x)\n",
    "        loss = criterion(y, transform_target(sample))\n",
    "        # Backward pass\n",
    "        loss.backward()\n",
    "        optimizer.step()\n",
    "        training_losses = np.append(training_losses, loss.detach().cpu().numpy())\n",
    "    epoch_training_losses[epoch] = np.mean(training_losses)\n",
    "    # Test\n",
    "    with torch.no_grad():\n",
    "        test_losses = list()\n",
    "        for sample in tqdm(test_data_loader, desc='Testing', ascii=True):\n",
    "            # Forward pass\n",
    "            x = transform_input(sample)\n",
    "            y = modelFCNN(x)\n",
    "\n",
    "            loss = criterion(y, transform_target(sample))\n",
    "            test_losses = np.append(test_losses, loss.detach().cpu().numpy())\n",
    "        epoch_test_losses[epoch] = np.mean(test_losses)\n",
    "    fig, ax = plt.subplots(ncols=1, nrows=1, figsize=(4,3.5), constrained_layout=True)\n",
    "    \n",
    "    ax.plot(epoch_training_losses[0:epoch+1], '.-', label='Trainig')\n",
    "    ax.plot(epoch_test_losses[0:epoch+1], '.-', label='Test')\n",
    "    ax.set(yscale='linear', xlabel='Epoch', ylabel='Loss')\n",
    "    ax.legend()\n",
    "    \n",
    "    display.display(plt.gcf())\n",
    "    display.clear_output(wait=True)\n",
    "    \n",
    "    plt.show()"
   ]
  },
  {
   "cell_type": "markdown",
   "id": "d82ee09e-da89-4be0-acb1-42181895907b",
   "metadata": {},
   "source": [
    "# Convolutional NN model"
   ]
  },
  {
   "cell_type": "code",
<<<<<<< HEAD
   "execution_count": 80,
=======
   "execution_count": 26,
>>>>>>> remotes/origin/main
   "id": "15720bf0-d89f-4f08-a2d6-2f23a0de369c",
   "metadata": {},
   "outputs": [],
   "source": [
    "keys_input_CNN = {'sosstsst', 'rho_ct_ct'}\n",
    "keys_targets_CNN = {'sigma0_delta'}"
   ]
  },
  {
   "cell_type": "code",
<<<<<<< HEAD
   "execution_count": 81,
=======
   "execution_count": 27,
>>>>>>> remotes/origin/main
   "id": "5f2f56e1-40b6-4a48-aec3-7d0b5f1c685c",
   "metadata": {},
   "outputs": [],
   "source": [
    "import torch.nn as nn\n",
    "\n",
    "class first_CNN(nn.Module):\n",
    "    def __init__(self):\n",
    "        super().__init__()\n",
    "        self.conv1 = nn.Conv2d(len(keys_input_CNN), 32, kernel_size=3, padding='same', padding_mode='replicate') \n",
    "        self.conv2 = nn.Conv2d(32, 64, kernel_size=3, padding='same', padding_mode='replicate') \n",
    "        self.conv3 = nn.Conv2d(64, 128, kernel_size=3, padding='same', padding_mode='replicate') \n",
    "        self.conv4 = nn.Conv2d(128, 64, kernel_size=3, padding='same', padding_mode='replicate')\n",
    "        self.conv5 = nn.Conv2d(64, len(keys_targets_CNN), kernel_size=3, padding='same', padding_mode='replicate')\n",
    "        #self.batch_norm1 = nn.BatchNorm2d(32)\n",
    "        #self.batch_norm2 = nn.BatchNorm2d(64)\n",
    "\n",
    "    def forward(self, x):\n",
    "        # conv layer 1\n",
    "        x = self.conv1(x)\n",
    "        x = F.relu(x)\n",
    "        #x = self.batch_norm1(x)\n",
    "        \n",
    "        # conv layer 2\n",
    "        x = self.conv2(x)\n",
    "        x = F.relu(x)\n",
    "        #x = self.batch_norm2(x)\n",
    "        \n",
    "        # conv layer 3\n",
    "        x = self.conv3(x)\n",
    "        x = F.relu(x)\n",
    "        #x = self.batch_norm2(x)\n",
    "        \n",
    "        # conv layer 4 \n",
    "        x = self.conv4(x)\n",
    "        x = F.relu(x)\n",
    "        #x = self.batch_norm2(x)\n",
    "        \n",
    "        # conv layer 5 \n",
    "        x = self.conv5(x)\n",
    "        \n",
    "        return x        "
   ]
  },
  {
   "cell_type": "markdown",
   "id": "6d858904-dbea-44b7-99b6-64eba821df35",
   "metadata": {},
   "source": [
    "## Instantiate model  "
   ]
  },
  {
   "cell_type": "code",
<<<<<<< HEAD
   "execution_count": 82,
=======
   "execution_count": 28,
>>>>>>> remotes/origin/main
   "id": "3b69e175-1e5e-4723-aa8b-2281e409dd6c",
   "metadata": {},
   "outputs": [],
   "source": [
    "modelCNN = (first_CNN().double()).to(device)"
   ]
  },
  {
   "cell_type": "code",
<<<<<<< HEAD
   "execution_count": 83,
=======
   "execution_count": 29,
>>>>>>> remotes/origin/main
   "id": "e024a638-c5fa-461e-805b-e56b350e2cd0",
   "metadata": {},
   "outputs": [
    {
     "name": "stdout",
     "output_type": "stream",
     "text": [
      "first_CNN(\n",
      "  (conv1): Conv2d(2, 32, kernel_size=(3, 3), stride=(1, 1), padding=same, padding_mode=replicate)\n",
      "  (conv2): Conv2d(32, 64, kernel_size=(3, 3), stride=(1, 1), padding=same, padding_mode=replicate)\n",
      "  (conv3): Conv2d(64, 128, kernel_size=(3, 3), stride=(1, 1), padding=same, padding_mode=replicate)\n",
      "  (conv4): Conv2d(128, 64, kernel_size=(3, 3), stride=(1, 1), padding=same, padding_mode=replicate)\n",
      "  (conv5): Conv2d(64, 1, kernel_size=(3, 3), stride=(1, 1), padding=same, padding_mode=replicate)\n",
      ")\n"
     ]
    }
   ],
   "source": [
    "print(modelCNN)"
   ]
  },
  {
   "cell_type": "code",
<<<<<<< HEAD
   "execution_count": 84,
=======
   "execution_count": 30,
   "id": "0ea2cd42-5901-4c40-8277-a0c50c0c0f6d",
   "metadata": {},
   "outputs": [
    {
     "name": "stdout",
     "output_type": "stream",
     "text": [
      "+--------------------+------------+\n",
      "|      Modules       | Parameters |\n",
      "+--------------------+------------+\n",
      "|    conv1.weight    |    576     |\n",
      "|     conv1.bias     |     32     |\n",
      "|    conv2.weight    |   18432    |\n",
      "|     conv2.bias     |     64     |\n",
      "|    conv3.weight    |   73728    |\n",
      "|     conv3.bias     |    128     |\n",
      "|    conv4.weight    |   73728    |\n",
      "|     conv4.bias     |     64     |\n",
      "|    conv5.weight    |    576     |\n",
      "|     conv5.bias     |     1      |\n",
      "| batch_norm1.weight |     32     |\n",
      "|  batch_norm1.bias  |     32     |\n",
      "| batch_norm2.weight |     64     |\n",
      "|  batch_norm2.bias  |     64     |\n",
      "+--------------------+------------+\n",
      "Total Trainable Params: 167521\n"
     ]
    },
    {
     "data": {
      "text/plain": [
       "167521"
      ]
     },
     "execution_count": 30,
     "metadata": {},
     "output_type": "execute_result"
    }
   ],
   "source": [
    "count_parameters(modelCNN)"
   ]
  },
  {
   "cell_type": "code",
   "execution_count": 31,
>>>>>>> remotes/origin/main
   "id": "14bcf03a-6105-456c-a483-3b2acf5b3a5c",
   "metadata": {},
   "outputs": [],
   "source": [
    "def transform_input_CNN(sample) :\n",
    "    return torch.transpose(torch.stack([sample[key] for key in keys_input_CNN]), 0, 1).to(device)\n",
    "def transform_target_CNN(sample) : \n",
    "    return sample['sigma0_delta'].view(batch_size, 1, h, w).to(device)"
   ]
  },
  {
   "cell_type": "code",
<<<<<<< HEAD
   "execution_count": 85,
=======
   "execution_count": 32,
>>>>>>> remotes/origin/main
   "id": "2112af8c-9487-491c-ab98-616e9ec79136",
   "metadata": {},
   "outputs": [],
   "source": [
    "# Loss and Optimizer\n",
    "criterion = nn.MSELoss()  # softmax is already here!\n",
    "optimizer = torch.optim.Adam(modelCNN.parameters(), lr=0.001)"
   ]
  },
  {
   "cell_type": "markdown",
   "id": "9f0dce01-c767-4376-ae50-0f64088919f1",
   "metadata": {},
   "source": [
    "## Training"
   ]
  },
  {
   "cell_type": "markdown",
   "id": "cbdcad7b-b044-44db-9002-6507bb777916",
   "metadata": {},
   "source": [
    "Training data set size:"
   ]
  },
  {
   "cell_type": "code",
<<<<<<< HEAD
   "execution_count": 86,
=======
   "execution_count": 33,
   "id": "405af6ae-6201-4580-878d-6eb8e69be9ef",
   "metadata": {},
   "outputs": [
    {
     "name": "stdout",
     "output_type": "stream",
     "text": [
      "Input data for training contains 256 batches, each batch contains 5 instanteneous 2D maps of 2 channels: {'rho_ct_ct', 'sosstsst'} of size 20x20 pixels.\n"
     ]
    }
   ],
   "source": [
    "print('Input data for training contains ' + str(len(train_data_loader)) + ' batches, each batch contains ' + str(batch_size) + \\\n",
    "      ' instanteneous 2D maps of ' +str(len(keys_input_CNN)) + ' channels: ' + str(keys_input_CNN) + ' of size ' + str(h)+'x'+str(w) + ' pixels.')"
   ]
  },
  {
   "cell_type": "code",
   "execution_count": 34,
>>>>>>> remotes/origin/main
   "id": "22c9e46e-f1e4-4eb8-b72f-fa673fc4bb09",
   "metadata": {},
   "outputs": [
    {
     "data": {
<<<<<<< HEAD
      "image/png": "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\n",
=======
      "image/png": "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\n",
>>>>>>> remotes/origin/main
      "text/plain": [
       "<Figure size 288x252 with 1 Axes>"
      ]
     },
     "metadata": {
      "needs_background": "light"
     },
     "output_type": "display_data"
    },
    {
     "name": "stdout",
     "output_type": "stream",
     "text": [
<<<<<<< HEAD
      "CPU times: user 54min 45s, sys: 23.6 s, total: 55min 9s\n",
      "Wall time: 54min 49s\n"
=======
      "CPU times: user 1h 1min 49s, sys: 58min 36s, total: 2h 25s\n",
      "Wall time: 29min 40s\n"
>>>>>>> remotes/origin/main
     ]
    }
   ],
   "source": [
    "%%time\n",
    "nb_of_epochs = 20\n",
    "\n",
    "epoch_training_losses = np.empty(nb_of_epochs)\n",
    "epoch_test_losses = np.empty(nb_of_epochs)\n",
    "\n",
    "# Iterate through train set minibatchs\n",
    "for epoch in tqdm(range(nb_of_epochs)):  \n",
    "    print('Epoch ' + str(epoch))\n",
    "    # Train\n",
    "    training_losses = list()\n",
    "    for sample in tqdm(train_data_loader, desc='Training', ascii=True):\n",
    "        # Zero out the gradients\n",
    "        optimizer.zero_grad()\n",
    "\n",
    "        # Forward pass\n",
    "        x = transform_input_CNN(sample)\n",
    "        y = modelCNN(x)\n",
    "        loss = criterion(y, transform_target_CNN(sample))\n",
    "        # Backward pass\n",
    "        loss.backward()\n",
    "        optimizer.step()\n",
    "        training_losses = np.append(training_losses, loss.detach().cpu().numpy())\n",
    "    epoch_training_losses[epoch] = np.mean(training_losses)\n",
    "    # Test\n",
    "    with torch.no_grad():\n",
    "        test_losses = list()\n",
    "        for sample in tqdm(test_data_loader, desc='Testing', ascii=True):\n",
    "            # Forward pass\n",
    "            x = transform_input_CNN(sample)\n",
    "            y = modelCNN(x)\n",
    "\n",
    "            loss = criterion(y, transform_target_CNN(sample))\n",
    "            test_losses = np.append(test_losses, loss.detach().cpu().numpy())\n",
    "        epoch_test_losses[epoch] = np.mean(test_losses)\n",
    "    fig, ax = plt.subplots(ncols=1, nrows=1, figsize=(4,3.5), constrained_layout=True)\n",
    "    \n",
    "    ax.plot(epoch_training_losses[0:epoch+1], '.-', label='Trainig')\n",
    "    ax.plot(epoch_test_losses[0:epoch+1], '.-', label='Test')\n",
    "    ax.set(yscale='linear', xlabel='Epoch', ylabel='Loss')\n",
    "    ax.legend()\n",
    "    \n",
    "    display.display(plt.gcf())\n",
    "    display.clear_output(wait=True)\n",
    "    \n",
    "    plt.show()"
   ]
  },
  {
   "cell_type": "markdown",
   "id": "8114268f-9bf0-4847-b33f-1ffab1fc9d84",
   "metadata": {},
   "source": [
    "# Compare results with deterministic parametrization"
   ]
  },
  {
   "cell_type": "markdown",
   "id": "605d9f59-5959-4160-9db6-524e43e68940",
   "metadata": {},
   "source": [
    "Deterministic parametrization:"
   ]
  },
  {
   "cell_type": "code",
<<<<<<< HEAD
   "execution_count": 87,
=======
   "execution_count": 35,
>>>>>>> remotes/origin/main
   "id": "3e82dc7d-bcb8-46d3-901c-bcbb4d1e8a06",
   "metadata": {},
   "outputs": [],
   "source": [
    "def determ_param(diff_T_sqr, deriv_rho_TT, c) :\n",
    "    return 0.5*c*deriv_rho_TT*diff_T_sqr"
   ]
  },
  {
   "cell_type": "markdown",
   "id": "31563401-1b09-48a0-80d1-a7638b4ccfcd",
   "metadata": {},
   "source": [
    "Functions for normalization and restoring units in data:"
   ]
  },
  {
   "cell_type": "code",
<<<<<<< HEAD
   "execution_count": 88,
=======
   "execution_count": 36,
>>>>>>> remotes/origin/main
   "id": "fff65e17-231d-495b-99a5-4384c8ee47ca",
   "metadata": {},
   "outputs": [],
   "source": [
    "def restore_units(sample, data, variable, index_in_batch=0) :\n",
    "    return (sample['std_'+variable][index_in_batch]*data[index_in_batch]+sample['mean_'+variable][index_in_batch])\n",
    "def normalize(sample, data, variable, index_in_batch=0) :\n",
    "    return (data[index_in_batch]-sample['mean_'+variable][index_in_batch])/(sample['std_'+variable][index_in_batch])"
   ]
  },
  {
   "cell_type": "code",
<<<<<<< HEAD
   "execution_count": 89,
=======
   "execution_count": 37,
>>>>>>> remotes/origin/main
   "id": "4c779848-969d-43af-9e04-1383ccbb40e6",
   "metadata": {},
   "outputs": [],
   "source": [
    "# coefficient c in the deterministic parametrization (the one thar is calibrated)\n",
    "coef_determ_param = 0.1"
   ]
  },
  {
   "cell_type": "code",
<<<<<<< HEAD
   "execution_count": 97,
=======
   "execution_count": 47,
>>>>>>> remotes/origin/main
   "id": "e7a798e7-d7b4-4d14-9770-99aaa2f32e9f",
   "metadata": {},
   "outputs": [],
   "source": [
    "sample = test_data_iterator.next()\n",
    "index_in_batch = 1\n",
    "\n",
    "snapshot = dict()\n",
    "snapshot['true_error'] = np.squeeze(restore_units(sample,sample['sigma0_delta'],'sigma0_delta',index_in_batch).numpy())\n",
    "snapshot['FCNN'] = restore_units(sample, modelFCNN(transform_input(sample)).view(batch_size,w,h),'sigma0_delta',index_in_batch).detach().cpu().numpy()\n",
    "snapshot['CNN'] = restore_units(sample, modelCNN(transform_input_CNN(sample)).view(batch_size,w,h),'sigma0_delta',index_in_batch).detach().cpu().numpy()\n",
    "snapshot['determ_param'] = determ_param(restore_units(sample,sample['diff_T_sqr'],'diff_T_sqr',index_in_batch), \\\n",
    "                                        restore_units(sample,sample['rho_ct_ct'],'rho_ct_ct',index_in_batch), \\\n",
    "                                        coef_determ_param).numpy()"
   ]
  },
  {
   "cell_type": "code",
<<<<<<< HEAD
   "execution_count": 98,
=======
   "execution_count": 48,
>>>>>>> remotes/origin/main
   "id": "79d05058-d6de-4980-8523-078e3faf4238",
   "metadata": {},
   "outputs": [
    {
     "data": {
<<<<<<< HEAD
      "image/png": "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\n",
=======
      "image/png": "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\n",
>>>>>>> remotes/origin/main
      "text/plain": [
       "<Figure size 1080x252 with 8 Axes>"
      ]
     },
     "metadata": {
      "needs_background": "light"
     },
     "output_type": "display_data"
    }
   ],
   "source": [
    "fig, ax = plt.subplots(ncols=len(snapshot.keys()), nrows=1, figsize=(15,3.5), constrained_layout=True)\n",
    "fig.suptitle('Example of density error fields')\n",
    "for i, key in enumerate(snapshot.keys()) :\n",
    "    if i == 0 :\n",
    "        img = ax[i].imshow(snapshot[key], cmap='ocean')\n",
    "        fig.colorbar(img, ax=ax[i])\n",
    "        color_min = img.colorbar.vmin\n",
    "        color_max = img.colorbar.vmax\n",
    "    else :\n",
    "        img = ax[i].imshow(snapshot[key], cmap='ocean', vmin=color_min, vmax=color_max)\n",
    "        fig.colorbar(img, ax=ax[i])\n",
    "    ax[i].set(title=key, xlabel='x', ylabel='y')\n",
    "plt.show()"
   ]
  },
  {
   "cell_type": "code",
   "execution_count": 52,
   "id": "32996a8a-c1dd-4319-8f82-6a38cac9c905",
   "metadata": {},
   "outputs": [
    {
     "data": {
      "image/png": "iVBORw0KGgoAAAANSUhEUgAAAUoAAAEECAYAAABOe30ZAAAAOXRFWHRTb2Z0d2FyZQBNYXRwbG90bGliIHZlcnNpb24zLjUuMiwgaHR0cHM6Ly9tYXRwbG90bGliLm9yZy8qNh9FAAAACXBIWXMAAAsTAAALEwEAmpwYAAAj4klEQVR4nO3de5RdZZnn8e+TypUkJBAkEO5KpI1gSqG9DEsHQTQwTGgbuoW2VRwc0Jbl9HT3WkrbTTu91AnaDm03M9Lh0iCDaViZRsFGBEEaVG4Jcr9IwAAhkPv9Xskzf+x9Uicn5+z3qVSdS539+6x1FlXnPPs976kKT+333ft9H3N3RESksRHt7oCISKdTohQRSVCiFBFJUKIUEUlQohQRSVCiFBFJUKIUEUlQopS9mNkHzOxBM/t3M5tnZqPK9P4itZQopZ5XgFPd/T8CLwNnl+z9RfYwst0dkM7j7kurvu0DdpXp/UVq6YxSGjKzY4AzgB8P4JhpZrak4PXPmNnG/LHVzHZWfb/WzMYM5v1FmkGJsuTM7D1m9rKZvWpmf1b1/P7ADcCn3H37AJo8E7izUdvufoO7T3D3CcA3gR9Xvnf3ye6+bZDvLzLklCjlN0Av2TzgV83sg2Y2EpgHfM3dX6g9wMwmmtlcM1tjZsvN7L9XvXwmcEejtmua6gWeqNN+4fuLtJoSZcm5+0Z3X+/uvwZuAj4GnA+8D7jMzO4zs0/UHPZD4CXgEOA84O/M7JD86vSHgLsL2q7WCzxep1up9xdpKV3MKTkzuxC4CHgeWA2MdPcbgRsbxJ8F4O6X50/da2avA28HRgFPuPuGRm1XtbM/cDR1EmXR+4u0gxJliZnZCcDXgfcAxwA/Bf4icdhs4EdVbYwAJgHLyJLiHcG2ZwIbgN8OwUcRaSolynL7CHC7u79hZiuBTeQXYgq8D/j3qu9PBVa6+wtmdibw8WDbvcCTrp2jZRjQHGW5rQd68q8vA+5391caBedzkNOBc81srJm9E/g/wJfzW3nGuPvzwbZ7qT8/KdJxlCjL7SZgqpk9DRwPXJyIfwewGHiabKj9Q+Ab7j4f+E/0X+2OtD0TJUoZJkwjH4kysz8GPu7u59R57Q7gSne/Y+8jRYY3nVHKQMwEnmvw2n3Az1vXFZHWUaKUgXgX2a0+e3H3b7n7lhb3R6QlNPQWEUnQGaWISIISpYhIghKliEhCV63MsXETnUkHJePGjx0dau+wiePSbY2O/QjXb9sRitsZnDO2UBT0WDQyLdq3nbuCccH2ImHRtrbt3BmK27itLxTXtz0WR+T30BM7b9lvVE8yZtuqZfRtXBf65X9s1ixftXJlYczChQt/6u6zQh3sQm1JlGY2C/gu2cqNa9x9Ts3rlr9+JrAZuMDdH0s2POkg+OO/TYa96x2Hhfr59VOPT8Z84PApobbufnlZKG7d1lhCHTEilgAnjxm6cjMbgklhzZbY9pHR9rb2pZPbxmBbi1ZvDMU98Epx4qhY+VosLpQEJ48PNfU7hx6QjHn+m38Sagtg5cqVPPjwI4UxY0b2pM9AuljLh95m1gP8b7Kdq2cA55vZjJqwM8iWyk0n22jhey3tpEiJuGdn5EWPsmvHHOV7gUXu/nK+c/W/sHfxqLOB73vmIWCymR3a6o6KlIOzc1fxo+zakSgPA16r+n5J/txAY0RkCOxy2L5zV+FjsMzsQDO728xezP9bd/7AzGaZ2QtmtsjMvpI63sw+aWaPVz12mVlvvgt/9fMrzezv82PGmNnN+Xs8bGZHp/rfjkRZb3Kt9k9WJCYLNLvIzBaY2QI2bxh050TKqAVnlF8B7nH36cA9+fd7SEzL1T3e3W9y91537wU+BSx298fdfUPl+fy1V4B/zdu6EFjj7scCVwCVTagbakeiXAIcUfX94cDSfYgBwN3nuvtJ7n4S+00c0o6KlIHTkjnKs8mKxZH/9/fqxBRNy0WOP5+s1tIezGw6cDDwQJ225gOn5ReQG2pHonwUmG5mx5jZaLKaK7fVxNwGfNoy7wfWufsbre6oSBm4e9OH3sDUyv/D+X8PrhNTNOUWOf4T1EmUZAn05qpNone/j7v3AeuAwttXWn57kLv3mdklZKUBeoDr3P0ZM/t8/vpVZPsangksIrs96LOt7qdIWTihe18PMrMFVd/Pdfe51QFm9jOygnO1vhrsSnjKba8Dzd4HbHb3p+u8fB7ZsHyf36ct91HmexbeUfPcVVVfO/DFgTdMNjOd8OBLsXsat3zwHcmYF4P35UXvj1y+aVsobvuu2F/5rfuNScacfGTsFrktO2I3az/2xppQ3AurYnPKjyxZnYx5evm6UFus3RSLW/RmLO6512Nxx05Nx7x3eqippwKftS9w7+luHrphf6W7n1TYjPtHGr1mZsvM7NC8NMihwPI6YUVTbqnjz6P+sHsmWcG8hXXeZ0leGnkSWfG7hrSEUaTknJYMvW8DPpN//RmqCtRVKZqWa3h8XuDuD8jmNGvVm7esbutc4N5U7aauWsIoIgPnHl92OghzgFvyEsavkiU2zGwa2eq8MxtNyxUdn/sQsMTdX67zvn9INo1X7VrgRjNbRHYmeV6q80qUIiVXuerd1PdwXwWcVuf5pVQlsnrTckXH56/dB7y/wWtvrfPcVvZMtElKlCIlVxl6S2NKlCJlF7uYU2pKlCIlF7w9qNSUKEVKzvO13tKYEqVIyTnaSi1FiVJENPRO6K5EaUBw5++ICYEyD9GdtaNDm+hf9tEjYmsFDhiX3uF82catobb+6t56q8P29ou7ngjF8ebaWFywLENI9N9HdGf4GYfH4tYEVgS9uiLU1I6dgX8jwZVg0Jrbg4a77kqUIjJg7rC9T3OURZQoRUpOc5RpSpQiZdeaJYzDmhKlSMntIr4bVVkpUYqUnc4ok9pRrvYIM/u5mT1nZs+Y2X+rE3OKma2rKgx0Wav7KVIWlTlKlattrB1nlH3An7v7Y2Y2EVhoZne7+7M1cQ+4+1lt6J9IqThamZPS8jNKd3/D3R/Lv94APIdK0Yq0TWU/ymZWYeywcrUXmNmKqtc+l+p/W+co83q67wYervPyB8zsCbKt4P+iagPPQXv7tLq/o73MPGRyMubZFetDbUX/Yo/uif3tOnLSuFDcmJ6eZMys//tAMgZg609+HYpj0n5DG7chcEP8lu2xtoLlLAguJGBU8FxjU+AzLKy372wdR9erq1VjgGeILZijrJSbnZMnwK8AX64OqCpXezpZuYZHzey2fLRZ93h3vwm4KT/+BOBH7v543mRvVdsL6S9XC1mxsUuinW9bKQgzmwD8P+BP3b022zwGHOXuM4F/BH5Y0I7qeosMwq7WVGHspHK1A9aWRGlmo8iS5E3u/q+1r7v7enffmH99BzDKzOpWwFJdb5HBa8HFnE4qVwtwjpk9aWbzzeyIOsfsoeVD77zQ+LXAc+7+vxrEHAIsc3c3s/eSJfRVLeymSGkE13p3U7na24F57r4tL5N9A3BqUfvtmKM8mazTT5nZ4/lzfwkcCbvL1p4LfMHM+oAtwHmpKmkism/cQ6UguqZcbV5/p+Jq4PKizwVtSJTu/gvq/+WojrkSuLI1PRIptxbtcF4pETuHQLla4HWy5PdHqeOrytV+qE6be81bVhJu/u1ssjtvCmlljoi04qbyTipX+yUzm012T/dq4IJU55UoRUquFXW9O6xc7aXApcGuA0qUIqWncrVpSpQiJecqV5vUXYlyxAgYPyYZdt47Y9v3Tx6bLgcQXUlzwLjRobjD94+tuFkdXIlywQ8fTcZsvW1BMgaAqZNicSuDN/5HS0EcMSUdc8D4WFtR0RU8y2Mrs9gv/e+S7elVVOG2BlgSRbsHFeuuRCkiA6ZytWlKlCIlp1IQaUqUIiXXovsohzUlSpGS09A7TYlSRDT0TlCiFCk5Z2g25+1mSpQiJaehd5oSpUjJ6WJOmhKlSMlpZU5aVyXKUT0jOGRyug7L6W+rt7fo3lZtTq9+OXBcevUOwHFTYruvP7p0dSjusp/HSgitjKy6GRVcEbJ9Rywu+Bk4ou6m9XuLrLpZtTHW1tpg3OQJsbiD94/FbQvU4BkT+7fE6MD/thZfmaO13mldlShFZB/ojDKpXTVzFpvZU3mpyL1OeSzzD3nJyifN7D3t6KdIGVTmKLupXG3+2vl5nnnSzO6s1N0yszFmdnP+Hg/n1WALta0KI/Bhd+9tsL38GcD0/HER8L2W9kykRCo1c5pcXKxSbnY6cE/+/R6qytWeAcwAzjezGUXHu/tNeR7pJSsxs9jdHzezkcB3yfLMu4AngUp52guBNe5+LHAFgVIQ7UyURc4Gvu+Zh4DJeZ0MERli7s72vl2FjyHQ6nK1lj/G5wUN96e//k51W/OB0/KYhtqVKB24y8wWmtlFdV4vKlu5h+q63rs2rWtCV0W6X7eVq3X3HcAXgKfIEuQMsuqve7yPu/cB64DCvfzadTHnZHdfamYHA3eb2fPufn/V6+GylXnJzLkAo4+YrhlpkQEKloIYVuVqzWwUWaJ8N/Ay8I9k5R++vi/v05ZEmdfJwN2Xm9mtZKfc1YmyqGyliAwhx9m+q+vK1fbmfXopf/9b6J8XrbzPknwucxJZkbGGWj70NrPxZjax8jXwUaC2aPltwKfzq9/vB9ZVlZcUkSHUiqve9JebhUC5WjMbTZb8bksdX1Wu9l+q2nodmGFmb8m/P53+srTVbZ0L3OtePL/QjjPKqcCt+dzpSOAH7n6nmX0ewN2vIqvCdiawCNgMfLYN/RQphxZUYaTF5Wrzqb3/AdxvZjuAV+gvS3stcKOZLSI7kzwv1fmWJ8r8w8ys8/xVVV878MWBtr3fqB56D5mcjIv+o3hoyapkzI1PvhJq6ycvvhmKW78iWIPluSWxuE1b0zHjx8baGh1cOTIyuNJnZHBAE1ll0hdY+QKwdnMsrif4GQIrwYDYz25j4HcFA1p1E7GL5m+K0Y5ytXlOuarO81vZM9EmaWWOSNkN3ZXtrqVEKVJy2j0oTYlSpOS0H2WaEqVIyVWWMEpjSpQipac5yhQlSpGS09A7TYlSREAXcwopUYpIdlopDSlRipSdu84oE7oqUY4cYUwZNyYZ98CrK0Pt/fW8X6aDXou1Fa6HsmZTMC5Y+yWy6mbztlhbRwZr3IxP/w6A+GcdE/hneljhLln9Av8+ABgdXJkT/b327UzHbAr+HtYGfm4DnXPUHGWhrkqUIrIPHJ1RJihRiojmKBOUKEVKzzX0TlCiFCk7R2eUCZ1aXExEWmmXFz8GqcPK1V5gZiuqjvlcqv/t2OH8uJoPtt7M/rQm5hQzW1cVc1mr+ylSGp4PvYseg9dJ5WoBbq4c5+7XpDrfjo17XyCvZ5H/YF4Hbq0T+oC7n9XCromUV/OH3mcDp+Rf3wDcB3y5JmZ3uVoAM6uUq302eHyjcrWryMrVLtrXzrd76H0a8JK7x7YJF5HmaPLQm84qVwtwTj4kn29mR+zVUo12X8yprZxW7QNm9gTZh/yLqtoZDfWMMCaNTd8A/NfX3xfrXeTG9P3HxdraHixVELm5GiBQ8gKAdHW9eEmGaPmJ/YPlEaI/kxUb0jGbtsfamjopFjc6+HvYEnzflYHPsGFLrK3NgZIR23bE2oL+oXexbipXezswz9235bW6bgBOLWq/bYkyr7I2m6zztR4DjnL3jWZ2JvBDYHqDdi4CLgKYePChzemsSLdLnzV2TbnavP5OxdXA5UWfC9o79D4DeMzdl9W+4O7r3X1j/vUdwKjKFas6sXPd/SR3P2ncpMlN7bBI13Ivfgxex5SrzRNtxWz6y9g21M6hd/XE6x7M7BBgmbu7mb2XLKGnSyKKyMBlRXOa/S6dVK72S2Y2G+gjK1d7AQltSZRmth9Zhr+46rnqut7nAl8wsz5gC3BeqkC5iOyr5u8e1GHlai+l/pRfQ21JlO6+GZhS81x1Xe8rgStb3S+RUtLKnKR2X/UWkU6g3YMKKVGKSOw2shJTohQpO+1wnqREKSKao0zoqkS5fO1mvnv7wnRgsBREqPRBdHVJZPt+gEnBVS0TgyuCAiuV6AsOuyIrQgBeWx2L6wv+7CJlFH6VvBUuc+y0WNy40bG4qI2Bn93qYHmPLYGSEdF/l9Cq24OGta5KlCKyjzT0LqREKVJ6Q7b6pmspUYqUnYbeSUqUIqKhd4ISpUjZaWVOkhKlSOl5/M6HklKiFCk7nVEmKVGKiOYoE5Ib95rZJY1KS4pIN/BsrXfRY5DaVK72E3ldnGfM7FtVbY0xs5vz93jYzI5O9T9yRnkI8KiZPQZcB/y0Y/eG3LwdHl+cjnvXUbH2JgdWyYwJrHwBZgZr3HwwshqIrD5QxOvr03VYnlmxPtTWb9fEVhdtPfIt6SCAV1fE4ha+nI45Iriv84g3YnG/DZ4bTAiuVlo1MR0zfnKsrUnj0zGrB1C8wGnFGWWl3OycPAF+hZoqilXlak8nKwvxqJnd5u7PNjre3W8CbsqPPwH4UV6udgrwbeBEd19hZjeY2Wnufg9wIbDG3Y81s/PISkF8oqjzyZ+mu/8VWb2aa8l2An7RzL5pZm+L/XxEpOM1vxTE2WRFvMj/+3t1YnaXq3X37WSlHc4ewPHVVRPeCvzG3St/jX8GnFOnrfnAaWZWeOYR+rOTn0G+mT/6gAOA+dWns7XM7DozW25mT1c9N6jTbxFpki4rV0tWw/t3zOxoMxtJllgrhct2v4+79wHrqNlIvFZkjvJLZrYQ+BbwS+AEd/8CcCL9Gbqe64FZNc9VTp+nA/fk39e+X+X0+wyyWrznm9mMVD9FZB9VytUWPfJytVWPi2qbMbOfmdnTdR5n7/2mdQ1ZuVp3X0NWrvZm4AFgMdlJ3j69T2SO8iDg9939lT1add9lZmc1Osjd768zSXo2cEr+9Q3AfdTMU1B1+g1gZpXT72cDfRWRfdF95Wpx99vJanhXylpXtqGqvM+S/GxzElmRsYYic5SX1SbJqteCe1vtNtjT772Y2UWVv3LsCG5lJiL9KvdRdle5Wszs4Py/BwB/AlxTp61zgXtTF6g78T7KAZ0Wu/tcYC6ATZjWmVfjRTpdl5WrzX3XzGbmX/+tu/8m//pa4EYzW0R2JnleqvOtTpSDPf0WkaHWglIQbSpXe36D+K3smWiTBnCz1ZAY7Om3iDRD84few1rTEqWZzQMeBI4zsyX5KfMc4HQze5HsptI5eew0M7sDdl+ur5x+PwfcUnX6LSLNkL7qXWpNG3o3Ou1lEKffSeNGwYzDk2GjpsVWXRw3Jb2a4pSjY6tQJoyO/ajHjeoJxT21bF0oLuJ9hx0YinvnW/YPxf36zbWhuDeDdWk2jQz87K5bEmqLA4N1acZtj8WNCK67mB5Y5dUT+90TWZW1IdgWtGplzrDWiRdzRKSlNLxOUaIUKTuVgkhSohQRnVEmKFGKiOYoE5QoRcqustZbGlKiFBENvROUKEVEQ+8EJUqRslNxsSQlSpHS0xxlSnclytEjGXFE4UbFAMwIrjDpKd4dHoB7fltvX4+9vbpucyhu3MjYioqVm7eF4t5+UHp10bEHTAi19cKqDaG4lxa9GYpjXXBbvIMnp2NmF26V2O+RRbG4ieNicRPGxuIiiWh7XzoGILh6K0wrc5K6K1GKyL7R0LtQq3cPEpFO4w59u4ofg9Rh5WovMLMVVcd8LtV/JUoRacU2a4Otl1X3eHe/yd173b0X+BSwuKZc7Wnu/k5gqplVb8hzc+U4d7+GBCVKEWlFFcZOKlc7YEqUImXnwK5dxY/B66RytQDn5MPy+WZ2BAlNu5hjZtcBZwHL3f34/LlvA/8Z2A68BHzW3dfWOXYxsIGsalpfqvqbiAxG6KzxIDNbUPX93Lxe1W5m9jPgkDrHfjXYkSEtV2tmlXK1u4BfkZ1lQlaZcZ67bzOzz5OdoZ5a1H4zr3pfD1wJfL/qubuBS/MiQpcDl7J3udqKD7v7yib2T0QqSlSuNq+/U3E1cHnR54ImDr3d/X5qauW6+115qQeAh8h+ECLSTpX9KJtbCqJjytXmibZiNlnJmULtvI/yv5CdFtfjwF1m5sA/1Z7iNzJh1Eh6D0/fcL55x85kDMRuEl+5tLBuer/gDeebovNBR8ZKUERuJr83eNP81h8vSAcBPP9kLM6Cn3XL5HTMJz8Uayvw7wOADVticcEFAqG46NXlyI3pA70A0/z7KDupXO2XzGw20Ed2MndBqvNtSZRm9lWyTt7UIORkd1+a/0W428yez89Q67V1EXARwJgpU5vSX5GuVr5ytZeSTfuFtfyqt5l9huwizyfd6/8Zy394uPty4Fay2wbqcve57n6Su580asKkZnRZpPupCmOhliZKM5tFdvFmtrvXHYua2Xgzm1j5Gvgo8HTreilSQqrrXajVdb2vBCaSDacfN7Or8tjddb2BqcAvzOwJ4BHg39z9zmb1U0QA8+JHybW6rve1DWJ3z1PkE7Iz68WJSDM4jEgkw9j1z66l3YNEys6AnsQ8pBKliJRe6oyy5JQoRUpP85ApSpQiZRcZepdcVyXKrX07eX5lulzByteCS8gXr0jHRI0O/qjHjQ6FTZ20XyhuS196cmnr6o2htlj421hcz6hY3I7gqpaxgbjbg6uGzjoxFnd/clVbZvPWWNy4MemYQOmRcFywqd009C7UVYlSRPaBoaF3ghKlSOm5ht4JSpQiZWdo6J2gRCkiGnonKFGKlJ6G3imqmSNSdpWLOU1c693EcrWjzOwGM3vKzJ4zs0urjjkxf36Rmf2DWXa7gJmNMbOb8+cfNrOjU/1XohSRbI6y6DF4TSlXS7aB7xh3PwE4Ebi4KvF9j2yv2un5Y1b+/IXAGnc/FriCdpaCEJFhpPmJslnlah0Yn1daHEdWuHB9Xu5hf3d/MN/39vtVx1S3NR84rXK22YgSpUjZWT5HWfQYvGaVq50PbALeICsR8Xfuvjo/bkmDtna/T17Dax1QWCOkqy7m9G3dzspnXk0Hvhasc7NfYJVMcCUNPcG/ScHVGUcFV+aMi9RqiXxOiNeH2R6M++gTsbiNY9MxTwVX3CysLavSwO++LRb3yKJY3PbA9jsjgstpxgRWPkVX+eyOH7blat9LtrfRNOAA4IG8H0VtDfh9Wl3X+2vAfwUqawP/Mq+RUXvsLOC7ZAWGrnH3Oc3qp0jpxe6j7NRytX8E3OnuO4DlZvZL4CTgAfas8lrdVuV9luRD9knUVIyt1cyh9/X0T55Wu8Lde/NHvSRZNKErIs3Q/KF3s8rVvgqcapnxZEXGns+H5xvM7P35/OOnq46pbutc4N5G9bsqWlrXO6hoQldEhlzi1qChuRl9DnC6mb0InJ5/v0cZmHy+sFKu9jnglppytXsdT3ZSNYGsrtajwD+7e6Ve8hfIankvAl4CfpI/fy0wxcwWAX9GnSvwtdoxR3mJmX0aWAD8ubuvqXm93oTu+1rVOZHSacESxmaVq3X3jexZ47v6tQXA8XWe39romEZafdX7e8DbgF6yq1TfqRMzoIlWM7vIzBaY2QK2BrcLE5E9NX/oPay1NFG6+zJ33+nuu4CrqV+vu2hCt16bu+t6M3bC0HZYpAxasDJnuGt1Xe9Dq779OPXrdRdN6IrIkEvcbK6dhZp6e9A84BSy+6+WAH8DnGJmvWRD6cXAxXnsNLLbgM509z4zq0zo9gDXVU3oikgzjNDwukjH1fXOv687oSsiTaD9KJO6amUO2/rg1VXpuB3BIsUbA/VQ9h8Xa+vAoZ0/3Rz8DBPHpH/F0w6I9W3pQRNDcby+IxZ36NpY3JGBGkebAqt3AFYU3jPdb3W69hIAM4+Kxf2m4TR7v57giqYJgc86YoCzakqUhborUYrIwFXWektDSpQioivbCUqUIqKhd4ISpUjZqVxtkhKlSOlpjjJFiVKk7HR7UJISpYho6J2gRClSehp6p6hmjkjZVYbeTVzr3WHlai8wsxVm9nj++Fyq/911Rtm3E5atS8dtC64cidQd2RxYvQPQE6xhMmX/UNjTywOfE5g+Jb3q5sBg3Z+lJxwZiuP1wEoagEX1yqvUEVmZ8+HgdgBXvDUWF1n9AvDuY2JxR74lHbM1+O/y4MC/keeCq3wqmj/0rpSbnZMnwK8AX96jC/3VDU4n20XsUTO7zd2fLTh+d7laM9sPeNbM5rn7YvrL1T5EtiR6Fv2b997s7pdEO68zSpGyM1qxH2UnlasdMCVKkdILbbN2UGWD7Pxx0QDfpJPK1QKcY2ZPmtl8M6ve/7au7hp6i8i+SQ+9k1UYh1G52tuBee6+zcw+T3aGemrRmyhRipRdZeg9SMOlXG1ef6fiauDy1GfT0FtEWrHDeceUq62ptDCbrOJjoWbucH4dcBaw3N2Pz5+7GTguD5kMrHX33jrHLgY2kJ1S96VO+UVkEFpTF2cOcIuZXUiW3P4ABlTdoO7xZFfJ/5msrIyxd7na68ku8vyE/iveXzKz2UAfWUntC1Kdb+bQ+3rgSrKrTQC4+ycqX5vZd4Cie1w+7O7B+0xEZFCafMN5h5WrvRS4dO8jGmtmKYj7zezoeq/lp8J/SGICVURaQGu9k9p1MeeDwDJ3f7HB6w7cZWYO/JO7z23UUH6bQnarQs+E2A3g24OlIEYFbtodG/wRrt4Ui5sQLC2xOlbDfPWW7cmYnR78n+SE5F0UmXsficU9E2zvmHrz/jUODNZ0/9hjsbhnp8TiVqyPxR1+YDpmV/CsLhIWWSyxR7wSZZF2JcrzgXkFr5/s7kvN7GDgbjN73t3vrxeYJ9G5ADbmYP22RQZMJWlTWp4o8zvofx84sVFMPm+Buy83s1vJ7pWqmyhFZJCG6PagbtaO24M+Qnb5fkm9F81svJlNrHwNfJTsipaINEvlynejR8k1LVGa2TzgQeA4M1uSX9aH7N6oeTWx08yscqVrKvALM3sCeAT4N3e/s1n9FBFacR/lsNbMq97nN3j+gjrP7b5FwN1fBmY2q18iUkPlapO0hFFENLxOUKIUKTvdR5mkRClSehp6pyhRioiG3gnlTJSbt8XiRgRuChgV/BHuFywtsHFLLC6w4gZgy470KqTRPbGbH8ZPGh+K23ToYekggCVL0zEATwdW8Lzr1Vhbx6yIxd2zNthevf1n69jWl44ZFbwJZdWGdEzfAM4QNfROKmeiFJE9aehdSIlSpOx0U3mSNu4VkW4tV/sNM3vNzDbWvMcYM7s5f4+HG+1yVk2JUqTsWlOFsVJudjpwT/79nt3oL1d7BjADON/MZiSO312ulmz/iIurEt/tZPtE1LoQWOPuxwJXoFIQIhLS/LXeLS1XC+DuD1UqNxb0ZT5wWr5HbkNKlCKl15Xlaovsfh937yOrtFC4Aaku5ohI15WrzfeMGLL3UaIUKbvuLFdblCgr77MkH7JPIisy1pCG3iLSdeVqB9CXc4F73YvroVji9WHFzFYAr1Q9dRAw3Cs56jN0huH2GY5y97dEAs3sTrLPV2Slu8/a186Y2RTgFuBI8nKz7r66ulxtHncm8Pf0l6v9RuL4CWTlamfQX6722/kx3yI745xGdmZ6jbt/zczGAjcC7yY7kzwvMVTvrkRZy8wWDPea4PoMnaEbPoPsOw29RUQSlChFRBK6PVE2rAc+jOgzdIZu+Ayyj7p6jlJEZCh0+xmliMigdW2ibLQLyXBiZovzXVEeN7MF7e5PhJldZ2bLzezpqudCO8d0igaf4Wtm9nr+u3g8v41FSqIrE2ViF5Lh5sPu3juMbk25Hqi93y65c0yHuZ69PwPAFfnvotfd76jzunSprkyUFO9CIk3k7vez93KwyM4xHaPBZ5AS69ZEWbQLyXDiwF1mtnAfdmvpJJGdY4aDS8zsyXxo3tHTBzK0ujVR7ssuJJ3oZHd/D9kUwhfN7EPt7lCJfQ94G9BLtqXXd9raG2mpbk2URbuQDBvuvjT/73LgVurv1jwcLMt3fKFg55iO5u7L3H2nu+8Crmb4/i5kH3RroizahWRYMLPxZjax8jXwUeDp4qM6VmTnmI5WSfS5jzN8fxeyD7pyP0p37zOzS4Cf0r8LyTNt7tZATQVuzXeoHwn8wN3vbG+X0sxsHnAK2Y7YS4C/AeYAt5jZheQ7v7Svh2kNPsMpZtZLNoWzGLi4Xf2T1tPKHBGRhG4deouIDBklShGRBCVKEZEEJUoRkQQlShGRBCVKEZEEJUoRkQQlShk0M/vdfLOIsfmKomfM7Ph290tkqOiGcxkSZvZ1YCwwDlji7v+zzV0SGTJKlDIk8jX1jwJbgf/g7jvb3CWRIaOhtwyVA4EJwESyM0uRrqEzShkSZnYb2U7yxwCHuvslbe6SyJDpyt2DpLXM7NNAn7v/IK9X9CszO9Xd721330SGgs4oRUQSNEcpIpKgRCkikqBEKSKSoEQpIpKgRCkikqBEKSKSoEQpIpKgRCkikvD/ATf2Wl8xdFIGAAAAAElFTkSuQmCC\n",
      "text/plain": [
       "<Figure size 324x252 with 2 Axes>"
      ]
     },
     "metadata": {
      "needs_background": "light"
     },
     "output_type": "display_data"
    }
   ],
   "source": [
    "fig, ax = plt.subplots(ncols=1, nrows=1, figsize=(4.5,3.5), constrained_layout=True)\n",
    "data = np.squeeze(restore_units(sample,sample['rho_ct_ct'],'rho_ct_ct',index_in_batch).numpy())\n",
    "img = ax.imshow(data, cmap='ocean')\n",
    "fig.colorbar(img, ax=ax)\n",
    "ax.set(title=r'$\\partial^2 \\rho/\\partial T^2$', xlabel='x', ylabel='y')\n",
    "plt.show()"
   ]
  },
  {
   "cell_type": "markdown",
   "id": "e99129a2-b669-4e1f-9b14-b5075af48830",
   "metadata": {},
   "source": [
    "# Evaluation"
   ]
  },
  {
   "cell_type": "markdown",
   "id": "2bec9f6e-aa61-473a-b22f-91a1495513ff",
   "metadata": {},
   "source": [
    "## Total MSE on a dataset"
   ]
  },
  {
   "cell_type": "code",
<<<<<<< HEAD
   "execution_count": 92,
=======
   "execution_count": 40,
>>>>>>> remotes/origin/main
   "id": "af6ac593-242b-4cd0-8591-5672761b085b",
   "metadata": {},
   "outputs": [],
   "source": [
    "eval_loss = nn.MSELoss(reduction='none') "
   ]
  },
  {
   "cell_type": "code",
<<<<<<< HEAD
   "execution_count": 93,
=======
   "execution_count": 41,
>>>>>>> remotes/origin/main
   "id": "0790a91c-832b-4a26-ad85-5975636c5dae",
   "metadata": {},
   "outputs": [],
   "source": [
    "MSE = dict({'determ_param': [], 'FCNN': []})\n",
    "MSE['determ_param'] = [ list() for i in range(len(list_of_datasets))]\n",
    "MSE['FCNN' ] = [ list() for i in range(len(list_of_datasets))]\n",
    "MSE['CNN' ] = [ list() for i in range(len(list_of_datasets))]\n",
    "labels = ['' for i in range(len(list_of_datasets))]"
   ]
  },
  {
   "cell_type": "code",
<<<<<<< HEAD
   "execution_count": 94,
=======
   "execution_count": 42,
>>>>>>> remotes/origin/main
   "id": "36460afa-6adc-4d20-b111-c8622f18ed87",
   "metadata": {},
   "outputs": [
    {
     "name": "stdout",
     "output_type": "stream",
     "text": [
<<<<<<< HEAD
      "CPU times: user 48.3 s, sys: 491 ms, total: 48.8 s\n",
      "Wall time: 49.4 s\n"
=======
      "CPU times: user 26.8 s, sys: 22.3 s, total: 49.1 s\n",
      "Wall time: 10.4 s\n"
>>>>>>> remotes/origin/main
     ]
    }
   ],
   "source": [
    "%%time\n",
    "for i in range(len(list_of_datasets)) :\n",
    "    single_dataset = SalinityTemperatureDensityDataset(list_of_netcdf_files = [list_of_datasets[i]], select='Last', \\\n",
    "                                                 portion_of_time_series=0.2, transform=ToTensor(), normalize=True)\n",
    "    eval_data_loader = DataLoader(dataset=single_dataset, batch_size=1, shuffle=False)\n",
    "    current_list_FCNN = []; current_list_CNN = []; current_list_param = []\n",
    "    for j, sample in enumerate(eval_data_loader) :\n",
    "        true_error = restore_units(sample,sample['sigma0_delta'],'sigma0_delta',0).view(-1,1).to(device)\n",
    "        FCNN_error = restore_units(sample, modelFCNN(transform_input(sample)).view(1,w,h),'sigma0_delta',0).view(-1,1).to(device)\n",
    "        CNN_error = restore_units(sample, modelCNN(transform_input_CNN(sample)).view(1,w,h),'sigma0_delta',0).view(-1,1).to(device)\n",
    "        determ_param_error = determ_param(restore_units(sample,sample['diff_T_sqr'],'diff_T_sqr',0), \\\n",
    "                                        restore_units(sample,sample['rho_ct_ct'],'rho_ct_ct',0), \\\n",
    "                                        coef_determ_param).view(-1,1).to(device)\n",
    "        current_list_FCNN = current_list_FCNN + list(np.squeeze(eval_loss(FCNN_error, true_error).detach().cpu().numpy()))\n",
    "        current_list_CNN = current_list_CNN + list(np.squeeze(eval_loss(CNN_error, true_error).detach().cpu().numpy()))\n",
    "        current_list_param = current_list_param + list(np.squeeze(eval_loss(determ_param_error, true_error).detach().cpu().numpy()))\n",
    "    MSE['FCNN'][i] = current_list_FCNN\n",
    "    MSE['CNN'][i] = current_list_CNN\n",
    "    MSE['determ_param'][i] = current_list_param\n",
    "    labels[i] = 'Reg ' + sample['dataset_region'][0] + ' ' + sample['dataset_season'][0]"
   ]
  },
  {
   "cell_type": "code",
<<<<<<< HEAD
   "execution_count": 99,
=======
   "execution_count": 43,
>>>>>>> remotes/origin/main
   "id": "bedf4264-1537-440d-aaf1-9feffa5ec690",
   "metadata": {},
   "outputs": [
    {
     "data": {
<<<<<<< HEAD
      "image/png": "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\n",
=======
      "image/png": "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\n",
>>>>>>> remotes/origin/main
      "text/plain": [
       "<Figure size 432x252 with 1 Axes>"
      ]
     },
     "metadata": {
      "needs_background": "light"
     },
     "output_type": "display_data"
    }
   ],
   "source": [
    "fig, ax = plt.subplots(1, 1, constrained_layout=True, figsize=(6, 3.5))\n",
    "#fig.suptitle(r'Spatial correlation coefficient averaged in time: $R(\\rho_c, parametrization)$')\n",
    "x = np.arange(len(list_of_datasets))\n",
    "bar_width = 0.2\n",
    "\n",
    "for i, key in enumerate(['determ_param', 'FCNN', 'CNN']) :\n",
    "    ax.bar(x+i*bar_width, [np.mean(MSE[key][region]) for region in range(len(list_of_datasets))], width=bar_width, label=key)\n",
    "ax.legend(['Deterministic parametrization', 'Fully connected NN', 'Convolutional NN'])\n",
    "ax.set_xticks(x+bar_width)\n",
    "#ax.axhline(y=1., color='k')\n",
    "ax.set_xticklabels(labels,fontsize=10)\n",
    "ax.set_xlabel('data set')\n",
    "ax.xaxis.set_tick_params(labelsize='small')\n",
    "ax.set(yscale='log')\n",
    "plt.show()"
   ]
  },
  {
   "cell_type": "markdown",
   "id": "d27cd398-c77f-4808-b74b-90c1e6243dc2",
   "metadata": {},
   "source": [
    "## Histograms of MSE"
   ]
  },
  {
   "cell_type": "code",
<<<<<<< HEAD
   "execution_count": 96,
=======
   "execution_count": 45,
>>>>>>> remotes/origin/main
   "id": "44852cac-927b-4ac6-a286-9c9d42e0db5e",
   "metadata": {},
   "outputs": [
    {
     "data": {
<<<<<<< HEAD
      "image/png": "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\n",
=======
      "image/png": "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\n",
>>>>>>> remotes/origin/main
      "text/plain": [
       "<Figure size 1080x216 with 6 Axes>"
      ]
     },
     "metadata": {
      "needs_background": "light"
     },
     "output_type": "display_data"
    }
   ],
   "source": [
    "fig, ax = plt.subplots(1, 6, constrained_layout=True, figsize=(15, 3))\n",
    "fig.suptitle('Histograms of MSE by dataset')\n",
    "for key in ['determ_param', 'FCNN', 'CNN'] :\n",
    "    for i in range(len(list_of_datasets)) :\n",
    "        ax[i].hist(MSE[key][i], bins=20, histtype='step', density=False, label=key)\n",
    "        ax[i].set(yscale='log', title=labels[i], xlabel='Bins MSE')\n",
    "ax[0].set(ylabel='counts')\n",
    "ax[-1].legend(bbox_to_anchor=(1.05, 1), loc='upper left')\n",
    "plt.show()"
   ]
  },
  {
   "cell_type": "code",
   "execution_count": null,
   "id": "a4d2db4e-1ee3-45c9-8737-d3d17e4ace91",
   "metadata": {},
   "outputs": [],
   "source": []
  },
  {
   "cell_type": "code",
   "execution_count": null,
   "id": "e1fcddf1-f020-4989-9e74-dc738234b686",
   "metadata": {},
   "outputs": [],
   "source": []
  }
 ],
 "metadata": {
  "kernelspec": {
   "display_name": "Python 3 (ipykernel)",
   "language": "python",
   "name": "python3"
  },
  "language_info": {
   "codemirror_mode": {
    "name": "ipython",
    "version": 3
   },
   "file_extension": ".py",
   "mimetype": "text/x-python",
   "name": "python",
   "nbconvert_exporter": "python",
   "pygments_lexer": "ipython3",
   "version": "3.9.12"
  }
 },
 "nbformat": 4,
 "nbformat_minor": 5
}
