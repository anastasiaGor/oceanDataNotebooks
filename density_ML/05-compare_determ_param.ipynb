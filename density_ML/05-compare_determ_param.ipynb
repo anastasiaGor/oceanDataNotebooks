{
 "cells": [
  {
   "cell_type": "markdown",
   "id": "ea54da1f-c0d2-4ed2-8dea-5f96a68745f0",
   "metadata": {},
   "source": [
    "# Import"
   ]
  },
  {
   "cell_type": "code",
   "execution_count": 1,
   "id": "e9303f7b-4813-46e3-9398-9b53578b9437",
   "metadata": {},
   "outputs": [],
   "source": [
    "import glob, os\n",
    "import torch\n",
    "import numpy as np\n",
    "import matplotlib.pyplot as plt\n",
    "from torch.utils.data import Dataset, DataLoader\n",
    "from tqdm.autonotebook import tqdm, trange\n",
    "import torch.nn.functional as F\n",
    "import xarray as xr\n",
    "import dask\n",
    "from IPython import display\n",
    "from prettytable import PrettyTable"
   ]
  },
  {
   "cell_type": "code",
   "execution_count": 2,
   "id": "cb00724f-4c87-407a-a426-1969274ebfb7",
   "metadata": {},
   "outputs": [
    {
     "name": "stdout",
     "output_type": "stream",
     "text": [
      "macOS-12.4-arm64-arm-64bit\n"
     ]
    }
   ],
   "source": [
    "import platform\n",
    "print(platform.platform())"
   ]
  },
  {
   "cell_type": "code",
   "execution_count": 3,
   "id": "c55aabf7-8972-41a0-93f3-6bf903b044f1",
   "metadata": {},
   "outputs": [],
   "source": [
    "#device = torch.device(\"mps\")\n",
    "device = torch.device(\"cpu\")"
   ]
  },
  {
   "cell_type": "markdown",
   "id": "7a404186-310e-42d9-acab-bd1f17d2a126",
   "metadata": {},
   "source": [
    "# Dataset definitions"
   ]
  },
  {
   "cell_type": "code",
   "execution_count": 4,
   "id": "878f2708-915a-41fc-b4ed-30cff8f87e43",
   "metadata": {},
   "outputs": [],
   "source": [
    "keys_to_add_to_sample = ['diff_T_sqr', 'diff_S_sqr', 'diff_TS', 'sosstsst', 'sosaline', 'rho_sa_sa', 'rho_sa_ct', 'rho_ct_ct', \\\n",
    "                         'sigma0_delta']"
   ]
  },
  {
   "cell_type": "code",
   "execution_count": 5,
   "id": "16efd56f-6208-4fa3-b5e9-230764684a54",
   "metadata": {},
   "outputs": [],
   "source": [
    "class SalinityTemperatureDensityDataset(Dataset):\n",
    "    \"\"\"Dataset of 2D maps of surface temperature, salinity\"\"\"\n",
    "\n",
    "    def __init__(self, list_of_netcdf_files, select='All', portion_of_time_series=0.5, transform=None, normalize=False):\n",
    "        self.data = [xr.DataArray() for i in range(len(list_of_netcdf_files))]\n",
    "        for i, datasetNetcdfFile in enumerate(list_of_netcdf_files) :\n",
    "            self.data[i] = xr.open_mfdataset(datasetNetcdfFile, parallel=True)\n",
    "            # nan filling\n",
    "            self.data[i] = self.data[i].bfill(dim='x')\n",
    "            if (np.isnan(self.data[i]['diff_S_sqr']).any() or np.isnan(self.data[i]['sigma0_delta']).any()) :\n",
    "                print(\"NANS in data \" + datasetNetcdfFile)\n",
    "        data_file_len = len(self.data[0]['time_counter'])\n",
    "        if (select == 'All') :\n",
    "            time_index_range = np.arange(0, data_file_len)\n",
    "        elif (select == 'First') :\n",
    "            time_index_range = np.arange(0, int(portion_of_time_series*data_file_len)+1)\n",
    "        elif (select == 'Last') :\n",
    "            time_index_range = np.arange(int((1-portion_of_time_series)*data_file_len), data_file_len)\n",
    "        self.total_len = len(self.data)*len(time_index_range)\n",
    "        self.index_table = np.transpose(np.stack([np.concatenate([np.full(len(time_index_range), i) for i in range(len(self.data))]),\\\n",
    "         np.concatenate([time_index_range for i in range(len(self.data))])]))\n",
    "        self.transform = transform\n",
    "        self.normalize = normalize\n",
    "        if (normalize) :\n",
    "            for i in range(len(list_of_netcdf_files)) :\n",
    "                for key in self.data[i].data_vars :\n",
    "                    self.data[i].attrs['mean_'+key] = self.data[i].data_vars[key].mean().compute()\n",
    "                    self.data[i].attrs['std_'+key] = self.data[i].data_vars[key].std().compute()\n",
    "        \n",
    "    def __len__(self):\n",
    "        return self.total_len\n",
    "\n",
    "    def __getitem__(self, idx):\n",
    "        if torch.is_tensor(idx):\n",
    "            idx = idx.tolist()\n",
    "        \n",
    "        [index_of_dataset, index_of_time_counter] = self.index_table[idx]\n",
    "        current_dataframe = self.data[index_of_dataset].isel(time_counter=index_of_time_counter).load()\n",
    "        \n",
    "        sample = dict()\n",
    "        sample['dataset_index'] = index_of_dataset\n",
    "        sample['dataset_region'] = self.data[index_of_dataset].attrs['region']\n",
    "        sample['dataset_season'] = self.data[index_of_dataset].attrs['season']\n",
    "        for key in keys_to_add_to_sample :\n",
    "            if self.normalize :\n",
    "                sample[key] = ((current_dataframe[key]-current_dataframe.attrs['mean_'+key])/current_dataframe.attrs['std_'+key]).values\n",
    "                sample['mean_'+key] = current_dataframe.attrs['mean_'+key].values\n",
    "                sample['std_'+key] = current_dataframe.attrs['std_'+key].values\n",
    "            else : \n",
    "                sample[key] = current_dataframe[key].values\n",
    "\n",
    "        if self.transform:\n",
    "            sample = self.transform(sample)\n",
    "\n",
    "        return sample"
   ]
  },
  {
   "cell_type": "code",
   "execution_count": 6,
   "id": "5d3b1afc-6b46-4ddc-907c-6c028a959939",
   "metadata": {},
   "outputs": [],
   "source": [
    "class ToTensor(object):\n",
    "    \"\"\"Convert each numpy array in sample to Tensors.\"\"\"\n",
    "\n",
    "    def __call__(self, sample):\n",
    "        transformed_sample=sample\n",
    "        for key in keys_to_add_to_sample :\n",
    "            transformed_sample[key] = torch.from_numpy(sample[key])\n",
    "        return transformed_sample"
   ]
  },
  {
   "cell_type": "markdown",
   "id": "853179b6-bba1-40d5-9395-24b248374902",
   "metadata": {},
   "source": [
    "# Data Loader"
   ]
  },
  {
   "cell_type": "code",
   "execution_count": 7,
   "id": "20524c8b-cfb8-48bc-b93d-678cd091d223",
   "metadata": {},
   "outputs": [],
   "source": [
    "list_of_datasets = sorted(glob.glob('datasets/dataset?.nc'))\n",
    "#list_of_datasets = ['oceanDataNotebooks/density_ML/datasets/dataset'+str(index)+'.nc' for index in range(4)]"
   ]
  },
  {
   "cell_type": "code",
   "execution_count": 8,
   "id": "86e19bca-3912-43a7-931f-a63800eb6b22",
   "metadata": {},
   "outputs": [
    {
     "data": {
      "text/plain": [
       "['datasets/dataset0.nc',\n",
       " 'datasets/dataset1.nc',\n",
       " 'datasets/dataset2.nc',\n",
       " 'datasets/dataset3.nc',\n",
       " 'datasets/dataset4.nc',\n",
       " 'datasets/dataset5.nc']"
      ]
     },
     "execution_count": 8,
     "metadata": {},
     "output_type": "execute_result"
    }
   ],
   "source": [
    "list_of_datasets"
   ]
  },
  {
   "cell_type": "code",
   "execution_count": 9,
   "id": "5f8552cd-2a6f-446a-bbaf-52780738ca40",
   "metadata": {},
   "outputs": [],
   "source": [
    "batch_size = 5"
   ]
  },
  {
   "cell_type": "code",
   "execution_count": 10,
   "id": "17e331e1-7a6d-467f-984c-9f7d6c4b5832",
   "metadata": {},
   "outputs": [],
   "source": [
    "train_dataset = SalinityTemperatureDensityDataset(list_of_netcdf_files = list_of_datasets, select='First', \\\n",
    "                                                  portion_of_time_series=0.6, transform=ToTensor(), normalize=True)\n",
    "test_dataset = SalinityTemperatureDensityDataset(list_of_netcdf_files = list_of_datasets, select='Last', \\\n",
    "                                                 portion_of_time_series=0.2, transform=ToTensor(), normalize=True)"
   ]
  },
  {
   "cell_type": "code",
   "execution_count": 11,
   "id": "a8ca80e3-611b-4251-add9-f81ffd6ed803",
   "metadata": {},
   "outputs": [],
   "source": [
    "train_data_loader = DataLoader(dataset=train_dataset, batch_size=batch_size, shuffle=True, drop_last=True)\n",
    "test_data_loader = DataLoader(dataset=test_dataset, batch_size=batch_size, shuffle=True, drop_last=True)"
   ]
  },
  {
   "cell_type": "code",
   "execution_count": 12,
   "id": "e16045cd-b3ce-4ea0-8dc8-51b018c0640e",
   "metadata": {},
   "outputs": [],
   "source": [
    "train_data_iterator = iter(train_data_loader)"
   ]
  },
  {
   "cell_type": "code",
   "execution_count": 13,
   "id": "ab2f0323-d460-4e78-bcfd-7a1ceedab92b",
   "metadata": {},
   "outputs": [],
   "source": [
    "test_data_iterator = iter(test_data_loader)"
   ]
  },
  {
   "cell_type": "code",
   "execution_count": 14,
   "id": "52726bc6-f695-499e-a4f9-c28df8704ded",
   "metadata": {},
   "outputs": [],
   "source": [
    "#sample = test_data_iterator.next()"
   ]
  },
  {
   "cell_type": "markdown",
   "id": "ff56d616-ef48-44ed-8de0-a84d0486862b",
   "metadata": {},
   "source": [
    "# Fully-connected NN Model"
   ]
  },
  {
   "cell_type": "code",
   "execution_count": 15,
   "id": "b5e40cb5-9ac5-4acc-89a9-bd81870f9cda",
   "metadata": {},
   "outputs": [],
   "source": [
    "h = 20 # height of images\n",
    "w = 20 # width of images"
   ]
  },
  {
   "cell_type": "code",
   "execution_count": 16,
   "id": "947acebe-952e-4bd5-837b-4aea68b15d7d",
   "metadata": {},
   "outputs": [],
   "source": [
    "keys_input_FCNN = {'diff_S_sqr', 'diff_TS', 'diff_T_sqr', 'rho_sa_sa', 'rho_sa_ct', 'rho_ct_ct'}\n",
    "keys_targets_FCNN = {'sigma0_delta'}"
   ]
  },
  {
   "cell_type": "code",
   "execution_count": 17,
   "id": "a11e3b0d-fc1c-41d1-a1b7-57ea0978ffa1",
   "metadata": {},
   "outputs": [],
   "source": [
    "import torch.nn as nn\n",
    "\n",
    "class FCNN(nn.Module):\n",
    "    def __init__(self):\n",
    "        super().__init__()\n",
    "        self.lin1 = nn.Linear(len(keys_input_FCNN), 8)\n",
    "        self.lin2 = nn.Linear(8, 16)\n",
    "        self.lin3 = nn.Linear(16, 8)\n",
    "        self.lin4 = nn.Linear(8, len(keys_targets_FCNN))\n",
    "\n",
    "    def forward(self, x):\n",
    "        #flatten_input = nn.Flatten(x)\n",
    "        res = self.lin1(x)\n",
    "        res = F.relu(res)\n",
    "        res = self.lin2(res)\n",
    "        res = F.relu(res)\n",
    "        res = self.lin3(res)\n",
    "        res = F.relu(res)\n",
    "        res = self.lin4(res)\n",
    "        return res"
   ]
  },
  {
   "cell_type": "markdown",
   "id": "017ab524-6a68-4094-8815-4142f44e3e59",
   "metadata": {},
   "source": [
    "## Instantiate model "
   ]
  },
  {
   "cell_type": "code",
   "execution_count": 18,
   "id": "43232eba-a0dc-40eb-95ce-8e5eb89eaa14",
   "metadata": {},
   "outputs": [],
   "source": [
    "# Instantiate model  \n",
    "modelFCNN = (FCNN()).to(device)"
   ]
  },
  {
   "cell_type": "code",
   "execution_count": 19,
   "id": "463d56ba-34f8-4601-bb5f-4501d7f2a108",
   "metadata": {},
   "outputs": [
    {
     "name": "stdout",
     "output_type": "stream",
     "text": [
      "FCNN(\n",
      "  (lin1): Linear(in_features=6, out_features=8, bias=True)\n",
      "  (lin2): Linear(in_features=8, out_features=16, bias=True)\n",
      "  (lin3): Linear(in_features=16, out_features=8, bias=True)\n",
      "  (lin4): Linear(in_features=8, out_features=1, bias=True)\n",
      ")\n"
     ]
    }
   ],
   "source": [
    "print(modelFCNN)"
   ]
  },
  {
   "cell_type": "code",
   "execution_count": 20,
   "id": "68ba9218-d51b-43c1-a4eb-6edb162aef72",
   "metadata": {},
   "outputs": [],
   "source": [
    "# Loss and Optimizer\n",
    "criterion = nn.MSELoss()  \n",
    "#optimizer = torch.optim.Adam(model.parameters(), lr=0.0001)\n",
    "optimizer = torch.optim.SGD(modelFCNN.parameters(), lr=0.001)"
   ]
  },
  {
   "cell_type": "code",
   "execution_count": 21,
   "id": "4e1d8760-7726-4af1-9c41-6ceae601e980",
   "metadata": {},
   "outputs": [],
   "source": [
    "def count_parameters(model):\n",
    "    table = PrettyTable([\"Modules\", \"Parameters\"])\n",
    "    total_params = 0\n",
    "    for name, parameter in model.named_parameters():\n",
    "        if not parameter.requires_grad: continue\n",
    "        params = parameter.numel()\n",
    "        table.add_row([name, params])\n",
    "        total_params+=params\n",
    "    print(table)\n",
    "    print(f\"Total Trainable Params: {total_params}\")\n",
    "    return total_params"
   ]
  },
  {
   "cell_type": "code",
   "execution_count": 22,
   "id": "a27238c1-c764-4f2e-933d-bb966a731706",
   "metadata": {},
   "outputs": [
    {
     "name": "stdout",
     "output_type": "stream",
     "text": [
      "+-------------+------------+\n",
      "|   Modules   | Parameters |\n",
      "+-------------+------------+\n",
      "| lin1.weight |     48     |\n",
      "|  lin1.bias  |     8      |\n",
      "| lin2.weight |    128     |\n",
      "|  lin2.bias  |     16     |\n",
      "| lin3.weight |    128     |\n",
      "|  lin3.bias  |     8      |\n",
      "| lin4.weight |     8      |\n",
      "|  lin4.bias  |     1      |\n",
      "+-------------+------------+\n",
      "Total Trainable Params: 345\n"
     ]
    },
    {
     "data": {
      "text/plain": [
       "345"
      ]
     },
     "execution_count": 22,
     "metadata": {},
     "output_type": "execute_result"
    }
   ],
   "source": [
    "count_parameters(modelFCNN)"
   ]
  },
  {
   "cell_type": "markdown",
   "id": "78f2255c-cafa-4670-a7c1-28018181a7bd",
   "metadata": {},
   "source": [
    "Transform inputs and targets (treatment pixel by pixel) :"
   ]
  },
  {
   "cell_type": "code",
   "execution_count": 23,
   "id": "eabe3c75-3b0c-4a91-9441-d4f9e99efa0b",
   "metadata": {
    "tags": []
   },
   "outputs": [],
   "source": [
    "def transform_input(sample) :\n",
    "    return torch.hstack([sample[key].view(-1,1) for key in keys_input_FCNN]).to(torch.float32).to(device)\n",
    "def transform_target(sample) : \n",
    "    return sample['sigma0_delta'].view(-1, 1).to(torch.float32).to(device)"
   ]
  },
  {
   "cell_type": "markdown",
   "id": "67eab74b-a6e8-4f52-a636-5fcc6a9cbebb",
   "metadata": {
    "tags": []
   },
   "source": [
    "## Training"
   ]
  },
  {
   "cell_type": "code",
   "execution_count": 24,
   "id": "0c26cf0b-3b1a-43b1-ab70-2c839dddf53c",
   "metadata": {},
   "outputs": [
    {
     "name": "stdout",
     "output_type": "stream",
     "text": [
      "Input data for training contains 256 batches, each batch contains N*h*w=2000 pixels, each pixel is represented by a tensor containg values of 6 variables: {'rho_sa_sa', 'diff_S_sqr', 'rho_ct_ct', 'rho_sa_ct', 'diff_TS', 'diff_T_sqr'}\n"
     ]
    }
   ],
   "source": [
    "print(r'Input data for training contains ' + str(len(train_data_loader)) + r' batches, each batch contains N*h*w=' + str(batch_size*h*w) + \\\n",
    "      ' pixels, each pixel is represented by a tensor containg values of ' + str(len(keys_input_FCNN)) + ' variables: ' + str(keys_input_FCNN))"
   ]
  },
  {
   "cell_type": "code",
   "execution_count": 25,
   "id": "8afc45d1-d9c4-4677-bc23-5356a332c8a7",
   "metadata": {},
   "outputs": [
    {
     "data": {
      "image/png": "[encoded data removed]",
      "text/plain": [
       "<Figure size 288x252 with 1 Axes>"
      ]
     },
     "metadata": {
      "needs_background": "light"
     },
     "output_type": "display_data"
    },
    {
     "name": "stdout",
     "output_type": "stream",
     "text": [
      "CPU times: user 12min 19s, sys: 3min 25s, total: 15min 45s\n",
      "Wall time: 11min 40s\n"
     ]
    }
   ],
   "source": [
    "%%time\n",
    "nb_of_epochs = 30\n",
    "\n",
    "epoch_training_losses = np.empty(nb_of_epochs)\n",
    "epoch_test_losses = np.empty(nb_of_epochs)\n",
    "\n",
    "# Iterate through train set minibatchs\n",
    "for epoch in tqdm(range(nb_of_epochs)):  \n",
    "    print('Epoch ' + str(epoch))\n",
    "    # Train\n",
    "    training_losses = list()\n",
    "    for sample in tqdm(train_data_loader, desc='Training', ascii=True):\n",
    "        # Zero out the gradients\n",
    "        optimizer.zero_grad()\n",
    "\n",
    "        # Forward pass\n",
    "        x = transform_input(sample)\n",
    "        #if not(x.isnan().any()) : \n",
    "        y = modelFCNN(x)\n",
    "        loss = criterion(y, transform_target(sample))\n",
    "        # Backward pass\n",
    "        loss.backward()\n",
    "        optimizer.step()\n",
    "        training_losses = np.append(training_losses, loss.detach().cpu().numpy())\n",
    "    epoch_training_losses[epoch] = np.mean(training_losses)\n",
    "    # Test\n",
    "    with torch.no_grad():\n",
    "        test_losses = list()\n",
    "        for sample in tqdm(test_data_loader, desc='Testing', ascii=True):\n",
    "            # Forward pass\n",
    "            x = transform_input(sample)\n",
    "            y = modelFCNN(x)\n",
    "\n",
    "            loss = criterion(y, transform_target(sample))\n",
    "            test_losses = np.append(test_losses, loss.detach().cpu().numpy())\n",
    "        epoch_test_losses[epoch] = np.mean(test_losses)\n",
    "    fig, ax = plt.subplots(ncols=1, nrows=1, figsize=(4,3.5), constrained_layout=True)\n",
    "    \n",
    "    ax.plot(epoch_training_losses[0:epoch+1], '.-', label='Trainig')\n",
    "    ax.plot(epoch_test_losses[0:epoch+1], '.-', label='Test')\n",
    "    ax.set(yscale='linear', xlabel='Epoch', ylabel='Loss')\n",
    "    ax.legend()\n",
    "    \n",
    "    display.display(plt.gcf())\n",
    "    display.clear_output(wait=True)\n",
    "    \n",
    "    plt.show()"
   ]
  },
  {
   "cell_type": "markdown",
   "id": "d82ee09e-da89-4be0-acb1-42181895907b",
   "metadata": {},
   "source": [
    "# Convolutional NN model"
   ]
  },
  {
   "cell_type": "code",
   "execution_count": 26,
   "id": "15720bf0-d89f-4f08-a2d6-2f23a0de369c",
   "metadata": {},
   "outputs": [],
   "source": [
    "keys_input_CNN = {'sosstsst', 'rho_ct_ct'}\n",
    "keys_targets_CNN = {'sigma0_delta'}"
   ]
  },
  {
   "cell_type": "code",
   "execution_count": 27,
   "id": "5f2f56e1-40b6-4a48-aec3-7d0b5f1c685c",
   "metadata": {},
   "outputs": [],
   "source": [
    "import torch.nn as nn\n",
    "\n",
    "class first_CNN(nn.Module):\n",
    "    def __init__(self):\n",
    "        super().__init__()\n",
    "        self.conv1 = nn.Conv2d(len(keys_input_CNN), 32, kernel_size=3, padding='same', padding_mode='replicate') \n",
    "        self.conv2 = nn.Conv2d(32, 64, kernel_size=3, padding='same', padding_mode='replicate') \n",
    "        self.conv3 = nn.Conv2d(64, 128, kernel_size=3, padding='same', padding_mode='replicate') \n",
    "        self.conv4 = nn.Conv2d(128, 64, kernel_size=3, padding='same', padding_mode='replicate')\n",
    "        self.conv5 = nn.Conv2d(64, len(keys_targets_CNN), kernel_size=3, padding='same', padding_mode='replicate')\n",
    "        self.batch_norm1 = nn.BatchNorm2d(32)\n",
    "        self.batch_norm2 = nn.BatchNorm2d(64)\n",
    "\n",
    "    def forward(self, x):\n",
    "        # conv layer 1\n",
    "        x = self.conv1(x)\n",
    "        x = F.relu(x)\n",
    "        #x = self.batch_norm1(x)\n",
    "        \n",
    "        # conv layer 2\n",
    "        x = self.conv2(x)\n",
    "        x = F.relu(x)\n",
    "        #x = self.batch_norm2(x)\n",
    "        \n",
    "        # conv layer 3\n",
    "        x = self.conv3(x)\n",
    "        x = F.relu(x)\n",
    "        #x = self.batch_norm2(x)\n",
    "        \n",
    "        # conv layer 4 \n",
    "        x = self.conv4(x)\n",
    "        x = F.relu(x)\n",
    "        #x = self.batch_norm2(x)\n",
    "        \n",
    "        # conv layer 5 \n",
    "        x = self.conv5(x)\n",
    "        \n",
    "        return x        "
   ]
  },
  {
   "cell_type": "markdown",
   "id": "6d858904-dbea-44b7-99b6-64eba821df35",
   "metadata": {},
   "source": [
    "## Instantiate model  "
   ]
  },
  {
   "cell_type": "code",
   "execution_count": 28,
   "id": "3b69e175-1e5e-4723-aa8b-2281e409dd6c",
   "metadata": {},
   "outputs": [],
   "source": [
    "modelCNN = (first_CNN().double()).to(device)"
   ]
  },
  {
   "cell_type": "code",
   "execution_count": 29,
   "id": "e024a638-c5fa-461e-805b-e56b350e2cd0",
   "metadata": {},
   "outputs": [
    {
     "name": "stdout",
     "output_type": "stream",
     "text": [
      "first_CNN(\n",
      "  (conv1): Conv2d(2, 32, kernel_size=(3, 3), stride=(1, 1), padding=same, padding_mode=replicate)\n",
      "  (conv2): Conv2d(32, 64, kernel_size=(3, 3), stride=(1, 1), padding=same, padding_mode=replicate)\n",
      "  (conv3): Conv2d(64, 128, kernel_size=(3, 3), stride=(1, 1), padding=same, padding_mode=replicate)\n",
      "  (conv4): Conv2d(128, 64, kernel_size=(3, 3), stride=(1, 1), padding=same, padding_mode=replicate)\n",
      "  (conv5): Conv2d(64, 1, kernel_size=(3, 3), stride=(1, 1), padding=same, padding_mode=replicate)\n",
      "  (batch_norm1): BatchNorm2d(32, eps=1e-05, momentum=0.1, affine=True, track_running_stats=True)\n",
      "  (batch_norm2): BatchNorm2d(64, eps=1e-05, momentum=0.1, affine=True, track_running_stats=True)\n",
      ")\n"
     ]
    }
   ],
   "source": [
    "print(modelCNN)"
   ]
  },
  {
   "cell_type": "code",
   "execution_count": 30,
   "id": "0ea2cd42-5901-4c40-8277-a0c50c0c0f6d",
   "metadata": {},
   "outputs": [
    {
     "name": "stdout",
     "output_type": "stream",
     "text": [
      "+--------------------+------------+\n",
      "|      Modules       | Parameters |\n",
      "+--------------------+------------+\n",
      "|    conv1.weight    |    576     |\n",
      "|     conv1.bias     |     32     |\n",
      "|    conv2.weight    |   18432    |\n",
      "|     conv2.bias     |     64     |\n",
      "|    conv3.weight    |   73728    |\n",
      "|     conv3.bias     |    128     |\n",
      "|    conv4.weight    |   73728    |\n",
      "|     conv4.bias     |     64     |\n",
      "|    conv5.weight    |    576     |\n",
      "|     conv5.bias     |     1      |\n",
      "| batch_norm1.weight |     32     |\n",
      "|  batch_norm1.bias  |     32     |\n",
      "| batch_norm2.weight |     64     |\n",
      "|  batch_norm2.bias  |     64     |\n",
      "+--------------------+------------+\n",
      "Total Trainable Params: 167521\n"
     ]
    },
    {
     "data": {
      "text/plain": [
       "167521"
      ]
     },
     "execution_count": 30,
     "metadata": {},
     "output_type": "execute_result"
    }
   ],
   "source": [
    "count_parameters(modelCNN)"
   ]
  },
  {
   "cell_type": "code",
   "execution_count": 31,
   "id": "14bcf03a-6105-456c-a483-3b2acf5b3a5c",
   "metadata": {},
   "outputs": [],
   "source": [
    "def transform_input_CNN(sample) :\n",
    "    return torch.transpose(torch.stack([sample[key] for key in keys_input_CNN]), 0, 1)\n",
    "def transform_target_CNN(sample) : \n",
    "    return sample['sigma0_delta'].view(batch_size, 1, h, w)"
   ]
  },
  {
   "cell_type": "code",
   "execution_count": 32,
   "id": "2112af8c-9487-491c-ab98-616e9ec79136",
   "metadata": {},
   "outputs": [],
   "source": [
    "# Loss and Optimizer\n",
    "criterion = nn.MSELoss()  # softmax is already here!\n",
    "optimizer = torch.optim.Adam(modelCNN.parameters(), lr=0.001)"
   ]
  },
  {
   "cell_type": "markdown",
   "id": "9f0dce01-c767-4376-ae50-0f64088919f1",
   "metadata": {},
   "source": [
    "## Training"
   ]
  },
  {
   "cell_type": "markdown",
   "id": "cbdcad7b-b044-44db-9002-6507bb777916",
   "metadata": {},
   "source": [
    "Training data set size:"
   ]
  },
  {
   "cell_type": "code",
   "execution_count": 33,
   "id": "405af6ae-6201-4580-878d-6eb8e69be9ef",
   "metadata": {},
   "outputs": [
    {
     "name": "stdout",
     "output_type": "stream",
     "text": [
      "Input data for training contains 256 batches, each batch contains 5 instanteneous 2D maps of 2 channels: {'rho_ct_ct', 'sosstsst'} of size 20x20 pixels.\n"
     ]
    }
   ],
   "source": [
    "print('Input data for training contains ' + str(len(train_data_loader)) + ' batches, each batch contains ' + str(batch_size) + \\\n",
    "      ' instanteneous 2D maps of ' +str(len(keys_input_CNN)) + ' channels: ' + str(keys_input_CNN) + ' of size ' + str(h)+'x'+str(w) + ' pixels.')"
   ]
  },
  {
   "cell_type": "code",
   "execution_count": 34,
   "id": "22c9e46e-f1e4-4eb8-b72f-fa673fc4bb09",
   "metadata": {},
   "outputs": [
    {
     "data": {
      "image/png": "[encoded data removed]",
      "text/plain": [
       "<Figure size 288x252 with 1 Axes>"
      ]
     },
     "metadata": {
      "needs_background": "light"
     },
     "output_type": "display_data"
    },
    {
     "name": "stdout",
     "output_type": "stream",
     "text": [
      "CPU times: user 1h 1min 49s, sys: 58min 36s, total: 2h 25s\n",
      "Wall time: 29min 40s\n"
     ]
    }
   ],
   "source": [
    "%%time\n",
    "nb_of_epochs = 50\n",
    "\n",
    "epoch_training_losses = np.empty(nb_of_epochs)\n",
    "epoch_test_losses = np.empty(nb_of_epochs)\n",
    "\n",
    "# Iterate through train set minibatchs\n",
    "for epoch in tqdm(range(nb_of_epochs)):  \n",
    "    print('Epoch ' + str(epoch))\n",
    "    # Train\n",
    "    training_losses = list()\n",
    "    for sample in tqdm(train_data_loader, desc='Training', ascii=True):\n",
    "        # Zero out the gradients\n",
    "        optimizer.zero_grad()\n",
    "\n",
    "        # Forward pass\n",
    "        x = transform_input_CNN(sample)\n",
    "        y = modelCNN(x)\n",
    "        loss = criterion(y, transform_target_CNN(sample))\n",
    "        # Backward pass\n",
    "        loss.backward()\n",
    "        optimizer.step()\n",
    "        training_losses = np.append(training_losses, loss.detach().numpy())\n",
    "    epoch_training_losses[epoch] = np.mean(training_losses)\n",
    "    # Test\n",
    "    with torch.no_grad():\n",
    "        test_losses = list()\n",
    "        for sample in tqdm(test_data_loader, desc='Testing', ascii=True):\n",
    "            # Forward pass\n",
    "            x = torch.transpose(torch.stack([sample[key] for key in keys_input_CNN]), 0, 1)\n",
    "            y = modelCNN(x)\n",
    "\n",
    "            loss = criterion(y, sample['sigma0_delta'].view(batch_size, 1, h, w))\n",
    "            test_losses = np.append(test_losses, loss.detach().numpy())\n",
    "        epoch_test_losses[epoch] = np.mean(test_losses)\n",
    "    fig, ax = plt.subplots(ncols=1, nrows=1, figsize=(4,3.5), constrained_layout=True)\n",
    "    \n",
    "    ax.plot(epoch_training_losses[0:epoch+1], '.-', label='Trainig')\n",
    "    ax.plot(epoch_test_losses[0:epoch+1], '.-', label='Test')\n",
    "    ax.set(yscale='linear', xlabel='Epoch', ylabel='Loss')\n",
    "    ax.legend()\n",
    "    \n",
    "    display.display(plt.gcf())\n",
    "    display.clear_output(wait=True)\n",
    "    \n",
    "    plt.show()"
   ]
  },
  {
   "cell_type": "markdown",
   "id": "8114268f-9bf0-4847-b33f-1ffab1fc9d84",
   "metadata": {},
   "source": [
    "# Compare results with deterministic parametrization"
   ]
  },
  {
   "cell_type": "markdown",
   "id": "605d9f59-5959-4160-9db6-524e43e68940",
   "metadata": {},
   "source": [
    "Deterministic parametrization:"
   ]
  },
  {
   "cell_type": "code",
   "execution_count": 35,
   "id": "3e82dc7d-bcb8-46d3-901c-bcbb4d1e8a06",
   "metadata": {},
   "outputs": [],
   "source": [
    "def determ_param(diff_T_sqr, deriv_rho_TT, c) :\n",
    "    return 0.5*c*deriv_rho_TT*diff_T_sqr"
   ]
  },
  {
   "cell_type": "markdown",
   "id": "31563401-1b09-48a0-80d1-a7638b4ccfcd",
   "metadata": {},
   "source": [
    "Functions for normalization and restoring units in data:"
   ]
  },
  {
   "cell_type": "code",
   "execution_count": 36,
   "id": "fff65e17-231d-495b-99a5-4384c8ee47ca",
   "metadata": {},
   "outputs": [],
   "source": [
    "def restore_units(sample, data, variable, index_in_batch=0) :\n",
    "    return (sample['std_'+variable][index_in_batch]*data[index_in_batch]+sample['mean_'+variable][index_in_batch])\n",
    "def normalize(sample, data, variable, index_in_batch=0) :\n",
    "    return (data[index_in_batch]-sample['mean_'+variable][index_in_batch])/(sample['std_'+variable][index_in_batch])"
   ]
  },
  {
   "cell_type": "code",
   "execution_count": 37,
   "id": "4c779848-969d-43af-9e04-1383ccbb40e6",
   "metadata": {},
   "outputs": [],
   "source": [
    "# coefficient c in the deterministic parametrization (the one thar is calibrated)\n",
    "coef_determ_param = 0.1"
   ]
  },
  {
   "cell_type": "code",
   "execution_count": 47,
   "id": "e7a798e7-d7b4-4d14-9770-99aaa2f32e9f",
   "metadata": {},
   "outputs": [],
   "source": [
    "sample = test_data_iterator.next()\n",
    "index_in_batch = 0\n",
    "\n",
    "snapshot = dict()\n",
    "snapshot['true_error'] = np.squeeze(restore_units(sample,sample['sigma0_delta'],'sigma0_delta',index_in_batch).numpy())\n",
    "snapshot['FCNN'] = restore_units(sample, modelFCNN(transform_input(sample)).view(batch_size,w,h),'sigma0_delta',index_in_batch).detach().cpu().numpy()\n",
    "snapshot['CNN'] = restore_units(sample, modelCNN(transform_input_CNN(sample)).view(batch_size,w,h),'sigma0_delta',index_in_batch).detach().cpu().numpy()\n",
    "snapshot['determ_param'] = determ_param(restore_units(sample,sample['diff_T_sqr'],'diff_T_sqr',index_in_batch), \\\n",
    "                                        restore_units(sample,sample['rho_ct_ct'],'rho_ct_ct',index_in_batch), \\\n",
    "                                        coef_determ_param).numpy()"
   ]
  },
  {
   "cell_type": "code",
   "execution_count": 48,
   "id": "79d05058-d6de-4980-8523-078e3faf4238",
   "metadata": {},
   "outputs": [
    {
     "data": {
      "image/png": "[encoded data removed]",
      "text/plain": [
       "<Figure size 1080x252 with 8 Axes>"
      ]
     },
     "metadata": {
      "needs_background": "light"
     },
     "output_type": "display_data"
    }
   ],
   "source": [
    "fig, ax = plt.subplots(ncols=len(snapshot.keys()), nrows=1, figsize=(15,3.5), constrained_layout=True)\n",
    "fig.suptitle('Example of density error fields')\n",
    "for i, key in enumerate(snapshot.keys()) :\n",
    "    if i == 0 :\n",
    "        img = ax[i].imshow(snapshot[key], cmap='ocean')\n",
    "        fig.colorbar(img, ax=ax[i])\n",
    "        color_min = img.colorbar.vmin\n",
    "        color_max = img.colorbar.vmax\n",
    "    else :\n",
    "        img = ax[i].imshow(snapshot[key], cmap='ocean', vmin=color_min, vmax=color_max)\n",
    "        fig.colorbar(img, ax=ax[i])\n",
    "    ax[i].set(title=key, xlabel='x', ylabel='y')\n",
    "plt.show()"
   ]
  },
  {
   "cell_type": "code",
   "execution_count": 52,
   "id": "32996a8a-c1dd-4319-8f82-6a38cac9c905",
   "metadata": {},
   "outputs": [
    {
     "data": {
      "image/png": "[encoded data removed]",
      "text/plain": [
       "<Figure size 324x252 with 2 Axes>"
      ]
     },
     "metadata": {
      "needs_background": "light"
     },
     "output_type": "display_data"
    }
   ],
   "source": [
    "fig, ax = plt.subplots(ncols=1, nrows=1, figsize=(4.5,3.5), constrained_layout=True)\n",
    "data = np.squeeze(restore_units(sample,sample['rho_ct_ct'],'rho_ct_ct',index_in_batch).numpy())\n",
    "img = ax.imshow(data, cmap='ocean')\n",
    "fig.colorbar(img, ax=ax)\n",
    "ax.set(title=r'$\\partial^2 \\rho/\\partial T^2$', xlabel='x', ylabel='y')\n",
    "plt.show()"
   ]
  },
  {
   "cell_type": "markdown",
   "id": "e99129a2-b669-4e1f-9b14-b5075af48830",
   "metadata": {},
   "source": [
    "# Evaluation"
   ]
  },
  {
   "cell_type": "markdown",
   "id": "2bec9f6e-aa61-473a-b22f-91a1495513ff",
   "metadata": {},
   "source": [
    "## Total MSE on a dataset"
   ]
  },
  {
   "cell_type": "code",
   "execution_count": 40,
   "id": "af6ac593-242b-4cd0-8591-5672761b085b",
   "metadata": {},
   "outputs": [],
   "source": [
    "eval_loss = nn.MSELoss(reduction='none') "
   ]
  },
  {
   "cell_type": "code",
   "execution_count": 41,
   "id": "0790a91c-832b-4a26-ad85-5975636c5dae",
   "metadata": {},
   "outputs": [],
   "source": [
    "MSE = dict({'determ_param': [], 'FCNN': []})\n",
    "MSE['determ_param'] = [ list() for i in range(len(list_of_datasets))]\n",
    "MSE['FCNN' ] = [ list() for i in range(len(list_of_datasets))]\n",
    "MSE['CNN' ] = [ list() for i in range(len(list_of_datasets))]\n",
    "labels = ['' for i in range(len(list_of_datasets))]"
   ]
  },
  {
   "cell_type": "code",
   "execution_count": 42,
   "id": "36460afa-6adc-4d20-b111-c8622f18ed87",
   "metadata": {},
   "outputs": [
    {
     "name": "stdout",
     "output_type": "stream",
     "text": [
      "CPU times: user 26.8 s, sys: 22.3 s, total: 49.1 s\n",
      "Wall time: 10.4 s\n"
     ]
    }
   ],
   "source": [
    "%%time\n",
    "for i in range(len(list_of_datasets)) :\n",
    "    single_dataset = SalinityTemperatureDensityDataset(list_of_netcdf_files = [list_of_datasets[i]], select='Last', \\\n",
    "                                                 portion_of_time_series=0.2, transform=ToTensor(), normalize=True)\n",
    "    eval_data_loader = DataLoader(dataset=single_dataset, batch_size=1, shuffle=False)\n",
    "    current_list_FCNN = []; current_list_CNN = []; current_list_param = []\n",
    "    for j, sample in enumerate(eval_data_loader) :\n",
    "        true_error = restore_units(sample,sample['sigma0_delta'],'sigma0_delta',0).view(-1,1)\n",
    "        FCNN_error = restore_units(sample, modelFCNN(transform_input(sample)).view(1,w,h),'sigma0_delta',0).view(-1,1)\n",
    "        CNN_error = restore_units(sample, modelCNN(transform_input_CNN(sample)).view(1,w,h),'sigma0_delta',0).view(-1,1)\n",
    "        determ_param_error = determ_param(restore_units(sample,sample['diff_T_sqr'],'diff_T_sqr',0), \\\n",
    "                                        restore_units(sample,sample['rho_ct_ct'],'rho_ct_ct',0), \\\n",
    "                                        coef_determ_param).view(-1,1)\n",
    "        current_list_FCNN = current_list_FCNN + list(np.squeeze(eval_loss(FCNN_error, true_error).detach().numpy()))\n",
    "        current_list_CNN = current_list_CNN + list(np.squeeze(eval_loss(CNN_error, true_error).detach().numpy()))\n",
    "        current_list_param = current_list_param + list(np.squeeze(eval_loss(determ_param_error, true_error).detach().numpy()))\n",
    "    MSE['FCNN'][i] = current_list_FCNN\n",
    "    MSE['CNN'][i] = current_list_CNN\n",
    "    MSE['determ_param'][i] = current_list_param\n",
    "    labels[i] = 'Reg ' + sample['dataset_region'][0] + ' ' + sample['dataset_season'][0]"
   ]
  },
  {
   "cell_type": "code",
   "execution_count": 43,
   "id": "bedf4264-1537-440d-aaf1-9feffa5ec690",
   "metadata": {},
   "outputs": [
    {
     "data": {
      "image/png": "[encoded data removed]",
      "text/plain": [
       "<Figure size 432x252 with 1 Axes>"
      ]
     },
     "metadata": {
      "needs_background": "light"
     },
     "output_type": "display_data"
    }
   ],
   "source": [
    "fig, ax = plt.subplots(1, 1, constrained_layout=True, figsize=(6, 3.5))\n",
    "#fig.suptitle(r'Spatial correlation coefficient averaged in time: $R(\\rho_c, parametrization)$')\n",
    "x = np.arange(len(list_of_datasets))\n",
    "bar_width = 0.2\n",
    "\n",
    "for i, key in enumerate(['determ_param', 'FCNN', 'CNN']) :\n",
    "    ax.bar(x+i*bar_width, [np.mean(MSE[key][region]) for region in range(len(list_of_datasets))], width=bar_width, label=key)\n",
    "ax.legend(['Deterministic parametrization', 'Fully connected NN', 'Convolutional NN'])\n",
    "ax.set_xticks(x+bar_width)\n",
    "#ax.axhline(y=1., color='k')\n",
    "ax.set_xticklabels(labels,fontsize=10)\n",
    "ax.set_xlabel('data set')\n",
    "ax.xaxis.set_tick_params(labelsize='small')\n",
    "ax.set(yscale='log')\n",
    "plt.show()"
   ]
  },
  {
   "cell_type": "markdown",
   "id": "d27cd398-c77f-4808-b74b-90c1e6243dc2",
   "metadata": {},
   "source": [
    "## Histograms of MSE"
   ]
  },
  {
   "cell_type": "code",
   "execution_count": 45,
   "id": "44852cac-927b-4ac6-a286-9c9d42e0db5e",
   "metadata": {},
   "outputs": [
    {
     "data": {
      "image/png": "[encoded data removed]",
      "text/plain": [
       "<Figure size 1080x216 with 6 Axes>"
      ]
     },
     "metadata": {
      "needs_background": "light"
     },
     "output_type": "display_data"
    }
   ],
   "source": [
    "fig, ax = plt.subplots(1, 6, constrained_layout=True, figsize=(15, 3))\n",
    "fig.suptitle('Histograms of MSE by dataset')\n",
    "for key in ['determ_param', 'FCNN', 'CNN'] :\n",
    "    for i in range(len(list_of_datasets)) :\n",
    "        ax[i].hist(MSE[key][i], bins=20, histtype='step', density=False, label=key)\n",
    "        ax[i].set(yscale='log', title=labels[i], xlabel='Bins MSE')\n",
    "ax[0].set(ylabel='counts')\n",
    "ax[-1].legend(bbox_to_anchor=(1.05, 1), loc='upper left')\n",
    "plt.show()"
   ]
  },
  {
   "cell_type": "code",
   "execution_count": null,
   "id": "a4d2db4e-1ee3-45c9-8737-d3d17e4ace91",
   "metadata": {},
   "outputs": [],
   "source": []
  },
  {
   "cell_type": "code",
   "execution_count": null,
   "id": "e1fcddf1-f020-4989-9e74-dc738234b686",
   "metadata": {},
   "outputs": [],
   "source": []
  }
 ],
 "metadata": {
  "kernelspec": {
   "display_name": "new_pytorch",
   "language": "python",
   "name": "new_pytorch"
  },
  "language_info": {
   "codemirror_mode": {
    "name": "ipython",
    "version": 3
   },
   "file_extension": ".py",
   "mimetype": "text/x-python",
   "name": "python",
   "nbconvert_exporter": "python",
   "pygments_lexer": "ipython3",
   "version": "3.10.4"
  }
 },
 "nbformat": 4,
 "nbformat_minor": 5
}
