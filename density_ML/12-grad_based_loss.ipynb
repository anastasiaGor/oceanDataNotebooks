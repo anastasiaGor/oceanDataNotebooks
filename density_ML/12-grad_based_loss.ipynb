{
 "cells": [
  {
   "cell_type": "markdown",
   "id": "ea54da1f-c0d2-4ed2-8dea-5f96a68745f0",
   "metadata": {},
   "source": [
    "# Import"
   ]
  },
  {
   "cell_type": "code",
   "execution_count": 1,
   "id": "e9303f7b-4813-46e3-9398-9b53578b9437",
   "metadata": {},
   "outputs": [],
   "source": [
    "import glob, os\n",
    "from IPython.display import clear_output\n",
    "import torch\n",
    "import numpy as np\n",
    "import matplotlib.pyplot as plt\n",
    "from tqdm.autonotebook import tqdm, trange\n",
    "import xarray as xr\n",
    "import dask\n",
    "import pandas as pd\n",
    "from IPython import display\n",
    "import pytorch_lightning as pl\n",
    "from pytorch_lightning import loggers as pl_loggers\n",
    "from pytorch_lightning.callbacks import EarlyStopping,ModelCheckpoint\n",
    "import inspect\n",
    "import tensorboard\n",
    "from tensorboard.backend.event_processing.event_file_loader import EventFileLoader\n",
    "import itertools\n",
    "import matplotlib.colors as mcolors"
   ]
  },
  {
   "cell_type": "code",
   "execution_count": 2,
   "id": "f35b7a49-5de9-488e-bd54-3d661a09fe11",
   "metadata": {},
   "outputs": [],
   "source": [
    "import gsw\n",
    "import xesmf as xe\n",
    "import xgcm"
   ]
  },
  {
   "cell_type": "code",
   "execution_count": 3,
   "id": "73a3cd49-1fc5-4a2f-89e9-3da31ccbce6d",
   "metadata": {},
   "outputs": [
    {
     "name": "stdout",
     "output_type": "stream",
     "text": [
      "0.7.0\n"
     ]
    }
   ],
   "source": [
    "print(xgcm.__version__)"
   ]
  },
  {
   "cell_type": "code",
   "execution_count": 4,
   "id": "d054e80f-2a15-4119-a699-f8b309c1c1c6",
   "metadata": {
    "tags": []
   },
   "outputs": [],
   "source": [
    "import logging\n",
    "logging.getLogger('lightning').setLevel(0)\n",
    "pl.utilities.distributed.log.setLevel(logging.ERROR)"
   ]
  },
  {
   "cell_type": "code",
   "execution_count": 5,
   "id": "cb00724f-4c87-407a-a426-1969274ebfb7",
   "metadata": {},
   "outputs": [
    {
     "name": "stdout",
     "output_type": "stream",
     "text": [
      "Linux-5.10.133+-x86_64-with-glibc2.35\n"
     ]
    }
   ],
   "source": [
    "import platform\n",
    "print(platform.platform())"
   ]
  },
  {
   "cell_type": "code",
   "execution_count": 6,
   "id": "09185b24-5c66-4f85-92d2-edd901e130b7",
   "metadata": {},
   "outputs": [],
   "source": [
    "import warnings\n",
    "\n",
    "warnings.filterwarnings(\"ignore\", \".*Consider increasing the value of the `num_workers` argument*\")\n",
    "warnings.simplefilter(action='ignore', category=FutureWarning)"
   ]
  },
  {
   "cell_type": "code",
   "execution_count": 7,
   "id": "4a9ce1d1-def2-46f4-ac7e-cd0f134285ae",
   "metadata": {},
   "outputs": [],
   "source": [
    "from dask.distributed import Client\n",
    "\n",
    "client = Client(\"tcp://127.0.0.1:40557\")"
   ]
  },
  {
   "cell_type": "markdown",
   "id": "663bea15-b554-420c-b3eb-9bf7c7aedf43",
   "metadata": {},
   "source": [
    "# Useful functions"
   ]
  },
  {
   "cell_type": "code",
   "execution_count": 8,
   "id": "4ac6ae3f-8287-49ea-88ea-0f83143a0476",
   "metadata": {},
   "outputs": [],
   "source": [
    "line_styles = ['solid', 'dashed', 'dotted', 'dashdot']"
   ]
  },
  {
   "cell_type": "code",
   "execution_count": 9,
   "id": "97e96c0b-e2d6-44d2-85e6-a1f3736de932",
   "metadata": {},
   "outputs": [],
   "source": [
    "def central_diffs_x(dataArray) :\n",
    "    return 0.5*(torch.roll(dataArray, shifts=-1, dims=0) - torch.roll(dataArray, shifts=1, dims=0))\n",
    "def central_diffs_y(dataArray) :\n",
    "    return 0.5*(torch.roll(dataArray, shifts=-1, dims=1) - torch.roll(dataArray, shifts=1, dims=1))"
   ]
  },
  {
   "cell_type": "code",
   "execution_count": 10,
   "id": "f4fd517d-4777-44a2-b629-c724381aca43",
   "metadata": {},
   "outputs": [],
   "source": [
    "def central_diffs_x_2(dataArray) :\n",
    "    return (torch.roll(dataArray, shifts=-1, dims=0) - 2.*dataArray.clone() + torch.roll(dataArray, shifts=1, dims=0))\n",
    "def central_diffs_y_2(dataArray) :\n",
    "    return (torch.roll(dataArray, shifts=-1, dims=1) - 2.*dataArray.clone() + torch.roll(dataArray, shifts=1, dims=1))"
   ]
  },
  {
   "cell_type": "code",
   "execution_count": 11,
   "id": "e0c7025d-2a5d-4ecd-88d8-f391227abf1b",
   "metadata": {},
   "outputs": [],
   "source": [
    "def finite_diffs_sqr_2d_array(dataArray) :\n",
    "    return torch.pow(central_diffs_x(dataArray),2) + torch.pow(central_diffs_y(dataArray),2)\n",
    "    #return (central_diffs_y(dataArray)).clone()\n",
    "    #return torch.pow(central_diffs_x_2(dataArray),2) + torch.pow(central_diffs_y_2(dataArray),2)"
   ]
  },
  {
   "cell_type": "markdown",
   "id": "495d3fb6-4797-428e-8f3f-147be557c9f1",
   "metadata": {},
   "source": [
    "A function that allows to read the logs in tensorboars format and returns them as a python dictionary:"
   ]
  },
  {
   "cell_type": "code",
   "execution_count": 12,
   "id": "e90511bd-8b38-479d-9a13-1584d813bf5e",
   "metadata": {},
   "outputs": [],
   "source": [
    "def get_logs_from_tb(exp_name, version_name, directory='logs/') :\n",
    "    dictionary = dict()\n",
    "    # for var in list_of_vars :\n",
    "    #     dictionary[var] = list()\n",
    "    file_name = glob.glob(directory + '/' + exp_name + '/' + version_name + '/events.out.*')[-1]\n",
    "    print(file_name)\n",
    "    for event in EventFileLoader(file_name).Load() :\n",
    "        if (len(event.summary.value) > 0) :\n",
    "            if (event.summary.value[0].tag not in dictionary) :\n",
    "                dictionary[event.summary.value[0].tag] = []\n",
    "            (dictionary[event.summary.value[0].tag]).append(event.summary.value[0].tensor.float_val)\n",
    "    return dictionary"
   ]
  },
  {
   "cell_type": "markdown",
   "id": "aa5e6455-af8c-4c0b-b55d-8a9a0df5c51e",
   "metadata": {},
   "source": [
    "## Coarse-graining"
   ]
  },
  {
   "cell_type": "code",
   "execution_count": 13,
   "id": "b128e1fe-7581-4acc-b814-c2745f96623f",
   "metadata": {},
   "outputs": [],
   "source": [
    "metrics = {\n",
    "    ('X',): ['e1t'], # X distances\n",
    "    ('Y',): ['e2t'], # Y distances\n",
    "    ('X', 'Y',): ['area_t'] # Areas \n",
    "}"
   ]
  },
  {
   "cell_type": "code",
   "execution_count": 14,
   "id": "a2d1d541-922e-4dd3-b5e2-df28f9f62fa1",
   "metadata": {},
   "outputs": [],
   "source": [
    "eORCA025_global_mesh = xr.open_dataset('../global_eORCA025_mesh.nc').load()"
   ]
  },
  {
   "cell_type": "code",
   "execution_count": 15,
   "id": "649e901c-d1cd-4c2f-8604-ea72fafada82",
   "metadata": {},
   "outputs": [],
   "source": [
    "def coarsen(XdataSet) :\n",
    "    # prepare input dataset for coarseinig\n",
    "    input_ds = XdataSet\n",
    "    # generate corner lat lon\n",
    "    input_ds = xgcm.autogenerate.generate_grid_ds(input_ds, axes_dims_dict={'X' : 'x', 'Y' : 'y'}, position=('center', 'right'))\n",
    "    input_ds = xgcm.autogenerate.generate_grid_ds(input_ds, axes_dims_dict={'X' : 'x', 'Y' : 'y'}, axes_coords_dict={'X' : 'lon', 'Y' : 'lat'}, position=('center', 'outer'))\n",
    "    # adjust names of coords for regridder\n",
    "    input_ds = input_ds.rename({'x_outer': 'x_b','y_outer': 'y_b', 'x_right' : 'x_r', 'y_right' : 'y_r'})\n",
    "    input_ds.coords['mask'] = input_ds['tmask']\n",
    "    input_ds.coords['area_t'] = input_ds['e1t']*input_ds['e2t']\n",
    "    input_ds.coords['area_u'] = input_ds['e1u']*input_ds['e2u']\n",
    "    input_ds.coords['area_v'] = input_ds['e1v']*input_ds['e2v']\n",
    "    input_ds.coords['area_f'] = input_ds['e1f']*input_ds['e2f']\n",
    "    xgcm_grid_HR = xgcm.Grid(input_ds, metrics=metrics, periodic=False, coords={'X' : {'center' : 'x', 'outer' : 'x_b', 'right' : 'x_r'}, \\\n",
    "                                           'Y' : {'center' : 'y', 'outer' : 'y_b', 'right' : 'y_r'}})\n",
    "    input_ds.coords['lon_b'] = xgcm_grid_HR.interp(da=input_ds['lon_outer'], axis='Y', to='outer',boundary='extend')\n",
    "    input_ds.coords['lat_b'] = xgcm_grid_HR.interp(da=input_ds['lat_outer'], axis='X', to='outer',boundary='extend')\n",
    "    \n",
    "    # prepare output grid\n",
    "    grid_LR = eORCA025_global_mesh # - quarter degree global grid\n",
    "    # to take a part of the global grid corresponding to the data cut\n",
    "    selection = grid_LR.lon.where((grid_LR.lon>=input_ds.lon.min().values) & (grid_LR.lon<=input_ds.lon.max().values) &\\\n",
    "                                  (grid_LR.lat>=input_ds.lat.min().values) & (grid_LR.lat<=input_ds.lat.max().values), drop=True)\n",
    "    selected_x = list(selection.x.values)\n",
    "    selected_y = list(selection.y.values)\n",
    "    #selected_x_b = [ (element - 0.5) for element in range(selected_x[0], selected_x[-1]+2)]\n",
    "    #selected_y_b = [ (element - 0.5) for element in range(selected_y[0], selected_y[-1]+2)]\n",
    "    grid_LR = grid_LR.isel(x=selected_x[0:-1], x_b=selected_x, y=selected_y[0:-1], y_b=selected_y)\n",
    "    # reinit x and y arrays\n",
    "    grid_LR.coords['x'] = np.arange(1,len(selected_x))\n",
    "    grid_LR.coords['y'] = np.arange(1,len(selected_y))\n",
    "    grid_LR.coords['x_b'] = np.arange(1,len(selected_x)+1)-0.5\n",
    "    grid_LR.coords['y_b'] = np.arange(1,len(selected_y)+1)-0.5\n",
    "    # create regridder, i.e. compute weights\n",
    "    # TODO : save weights and reuse them (can accelerate pre-treatment)\n",
    "    regridder_with_mask = xe.Regridder(input_ds, grid_LR, method=\"conservative_normed\")\n",
    "    # perform regridding\n",
    "    coarsened_ds = regridder_with_mask(input_ds).drop(['x_b', 'y_b', 'x_r', 'y_r', 'lon_b', 'lat_b', 'tmask'])\n",
    "    coarsened_ds.coords['mask'] = grid_LR['mask']\n",
    "    coarsened_ds.coords['e1t'] = grid_LR['e1t']\n",
    "    coarsened_ds.coords['e2t'] = grid_LR['e2t']\n",
    "    coarsened_ds.coords['area_t'] = coarsened_ds.coords['e1t']*coarsened_ds.coords['e2t']\n",
    "    coarsened_ds = xgcm.autogenerate.generate_grid_ds(coarsened_ds, axes_dims_dict={'X' : 'x', 'Y' : 'y'}, position=('center', 'right'))\n",
    "    return coarsened_ds"
   ]
  },
  {
   "cell_type": "markdown",
   "id": "751ea4e3-ee81-4e2b-b07f-7099893b75c0",
   "metadata": {},
   "source": [
    "# Data properties"
   ]
  },
  {
   "cell_type": "code",
   "execution_count": 16,
   "id": "b5e40cb5-9ac5-4acc-89a9-bd81870f9cda",
   "metadata": {},
   "outputs": [],
   "source": [
    "h = 20 # height of images\n",
    "w = 20 # width of images"
   ]
  },
  {
   "cell_type": "code",
   "execution_count": 17,
   "id": "8c3db48a-360a-41a8-aeb4-7811d22d028e",
   "metadata": {},
   "outputs": [],
   "source": [
    "batch_size = 4"
   ]
  },
  {
   "cell_type": "code",
   "execution_count": 18,
   "id": "ff3448d6-c461-4901-be5d-2b62631d4479",
   "metadata": {},
   "outputs": [],
   "source": [
    "import sys\n",
    "sys.path.insert(1, '..')"
   ]
  },
  {
   "cell_type": "code",
   "execution_count": 19,
   "id": "8bf16c33-6cdd-4585-a32f-6724140161d0",
   "metadata": {},
   "outputs": [],
   "source": [
    "import s3fs\n",
    "from validate_catalog import all_params\n",
    "params_dict, cat = all_params()"
   ]
  },
  {
   "cell_type": "code",
   "execution_count": 20,
   "id": "b56c1e03-08eb-42f3-bc84-69907348ca2d",
   "metadata": {},
   "outputs": [],
   "source": [
    "data_dict=[dict() for i in range(6)]\n",
    "data_dict[0] = dict({'region' : '1', 'season' : 'fma', 'label' : 'GULFSTR FMA', 'xy_slice' : dict(x=slice(-380,-10),y=slice(-385,-15))})\n",
    "data_dict[1] = dict({'region' : '1', 'season' : 'aso', 'label' : 'GULFSTR ASO', 'xy_slice' : dict(x=slice(-380,-10),y=slice(-385,-15))})\n",
    "data_dict[2] = dict({'region' : '2', 'season' : 'fma', 'label' : 'AÇORES FMA', 'xy_slice' : dict(x=slice(-565,-195),y=slice(-385,-15))})\n",
    "data_dict[3] = dict({'region' : '2', 'season' : 'aso', 'label' : 'AÇORES ASO', 'xy_slice' : dict(x=slice(-565,-195),y=slice(-385,-15))})\n",
    "data_dict[4] = dict({'region' : '3', 'season' : 'fma', 'label' : 'WESTMED FMA', 'xy_slice' : dict(x=slice(-370,None),y=slice(120,490))})\n",
    "data_dict[5] = dict({'region' : '3', 'season' : 'aso', 'label' : 'WESTMED ASO', 'xy_slice' : dict(x=slice(-370,None),y=slice(120,490))})"
   ]
  },
  {
   "cell_type": "code",
   "execution_count": 21,
   "id": "b76b91a9-7aa4-43ef-98fd-5bcaa85e2297",
   "metadata": {},
   "outputs": [],
   "source": [
    "time_slice = dict(time_counter=slice(0,-1,None))"
   ]
  },
  {
   "cell_type": "code",
   "execution_count": 22,
   "id": "878f2708-915a-41fc-b4ed-30cff8f87e43",
   "metadata": {},
   "outputs": [],
   "source": [
    "features_to_add_to_sample = ['sigma0_model', 'sosstsst', 'sosaline', 'diff_sosaline_sqr', 'rho_sa_sa', 'rho_sa_ct', 'diff_sosstsst_sqr', 'rho_ct_ct',\\\n",
    "                             'diff_sigma0_delta_sqr',\\\n",
    "                             'predictor_T', 'predictor_S', 'predictor_TS',\\\n",
    "                             'sigma0_delta']"
   ]
  },
  {
   "cell_type": "markdown",
   "id": "131461f8-98f0-45be-b5ed-55e73a58fdd5",
   "metadata": {},
   "source": [
    "Evaluation loss function:"
   ]
  },
  {
   "cell_type": "code",
   "execution_count": 23,
   "id": "6718577f-7e9d-46ad-9d4a-dc3822508f14",
   "metadata": {},
   "outputs": [],
   "source": [
    "eval_loss = torch.nn.MSELoss(reduction='none') \n",
    "#eval_loss = torch.nn.L1Loss(reduction='none') "
   ]
  },
  {
   "cell_type": "markdown",
   "id": "7a404186-310e-42d9-acab-bd1f17d2a126",
   "metadata": {},
   "source": [
    "# Data classes"
   ]
  },
  {
   "cell_type": "markdown",
   "id": "fe641c3e-a3b8-4402-a55f-94346bd3fab9",
   "metadata": {},
   "source": [
    "## Pytorch dataset"
   ]
  },
  {
   "cell_type": "code",
   "execution_count": 24,
   "id": "16efd56f-6208-4fa3-b5e9-230764684a54",
   "metadata": {},
   "outputs": [],
   "source": [
    "class SalinityTemperatureDensityDataset(torch.utils.data.Dataset):\n",
    "    \"\"\"Dataset of 2D maps of surface temperature, salinity\"\"\"\n",
    "\n",
    "    def __init__(self, xarray_dataset, select='All', portion_of_time_series=0.5, transform=None):\n",
    "        self.transform = transform\n",
    "        full_data_file_len = len(xarray_dataset['time_counter'])\n",
    "        if (select == 'All') :\n",
    "            time_index_range = np.arange(0, data_file_len)\n",
    "        elif (select == 'First') :\n",
    "            time_index_range = np.arange(0, int(portion_of_time_series*full_data_file_len)+1)\n",
    "        elif (select == 'Last') :\n",
    "            time_index_range = np.arange(int((1-portion_of_time_series)*full_data_file_len), full_data_file_len)\n",
    "        self.data = xarray_dataset.isel(time_counter=time_index_range)\n",
    "        self.data_file_len = len(self.data['time_counter'])\n",
    "        \n",
    "        # mean and std of the dataset (to avoid batch avg) for normalization and nan filling\n",
    "        for feature in features_to_add_to_sample :\n",
    "            self.data.attrs['mean_'+feature] = (self.data[feature].mean()).values\n",
    "            self.data.attrs['std_'+feature] = (self.data[feature].std()).values\n",
    "            self.data.attrs['median_'+feature] = (self.data[feature].median()).values\n",
    "            self.data[feature] = (self.data[feature].fillna(self.data.attrs['median_'+feature])) # fill nans\n",
    "            self.data['normalized_'+feature] = ((self.data[feature]-self.data.attrs['mean_'+feature])/self.data.attrs['std_'+feature])\n",
    "        \n",
    "    def __len__(self):\n",
    "        return self.data_file_len\n",
    "\n",
    "    def __getitem__(self, idx):\n",
    "        if torch.is_tensor(idx):\n",
    "            list_idx = idx.tolist()\n",
    "        else :\n",
    "            list_idx = idx\n",
    "        selected_time_frames = self.data.isel(time_counter=list_idx)\n",
    "        \n",
    "        # create dictionary of a sample (a batch) containig different features. \n",
    "        # This dictionary is sort of an intermediate step, preparing xArray data for trasform into pytorch tensors\n",
    "        sample = dict()\n",
    "        for feature in features_to_add_to_sample :\n",
    "            sample['mean_'+feature] = self.data.attrs['mean_'+feature]\n",
    "            sample['std_'+feature] = self.data.attrs['std_'+feature]\n",
    "            sample[feature] = selected_time_frames[feature].values\n",
    "            sample['normalized_'+feature] = selected_time_frames['normalized_'+feature].values\n",
    "        if self.transform:\n",
    "            sample = self.transform(sample)\n",
    "        return sample\n",
    "    \n",
    "    def restore_units(tensor, sample, reference_feature) :\n",
    "        return tensor*(sample['std_'+reference_feature].view(-1,1,1))+sample['mean_'+reference_feature].view(-1,1,1)\n",
    "                \n",
    "    def normalize(tensor, sample, reference_feature) :\n",
    "        return (tensor-sample['mean_'+reference_feature].view(-1,1,1))/(sample['std_'+reference_feature].view(-1,1,1))"
   ]
  },
  {
   "cell_type": "code",
   "execution_count": 25,
   "id": "5d3b1afc-6b46-4ddc-907c-6c028a959939",
   "metadata": {},
   "outputs": [],
   "source": [
    "class ToTensor(object):\n",
    "    \"\"\"Convert each numpy array in sample to Tensors.\"\"\"\n",
    "\n",
    "    def __call__(self, sample):\n",
    "        transformed_sample=sample.copy()\n",
    "        for feature in features_to_add_to_sample :\n",
    "            transformed_sample[feature] = torch.tensor(sample[feature])\n",
    "        return transformed_sample"
   ]
  },
  {
   "cell_type": "markdown",
   "id": "0d0f87c0-6323-4f4e-8c7c-2b7b484058db",
   "metadata": {},
   "source": [
    "## PyLi data module"
   ]
  },
  {
   "cell_type": "markdown",
   "id": "5391569d-168f-4acb-9d27-cc1ce6ed53d9",
   "metadata": {},
   "source": [
    "A DataModule standardizes the training, val, test splits, data preparation and transforms. The main advantage is consistent data splits, data preparation and transforms across models."
   ]
  },
  {
   "cell_type": "code",
   "execution_count": 26,
   "id": "9f8da6e8-5a28-4e31-8f1f-f1d22cae38b4",
   "metadata": {
    "tags": []
   },
   "outputs": [],
   "source": [
    "# only xarray data pretreatment here: slicing, filtering, computation of some variables\n",
    "def xr_data_prep_pipeline(in_xr_dataset, data_dict_entity) :\n",
    "    # drop not used variables\n",
    "    HR_data = in_xr_dataset.drop(['fmask','qt_oce', 'somecrty','sometauy','sossheig','sowaflup','sozocrtx','sozotaux','umask','vmask'],errors='ignore')\n",
    "    # time and space slicing\n",
    "    data_slice = dict(time_slice | data_dict_entity['xy_slice'])\n",
    "    HR_data=HR_data.isel(data_slice)\n",
    "    \n",
    "    # compute \"true\" density (before filtering\n",
    "    # density anomaly (sigma0). denoted as 'true' since is computed on the basis of original (non-filtered) HR data\n",
    "    HR_data['sigma0_true'] = xr.apply_ufunc(gsw.density.sigma0, HR_data['sosaline'], HR_data['sosstsst'], dask='parallelized')\n",
    "    # sqr of conservative temperature (to compute the subgrid variance further)\n",
    "    HR_data['sst_sqr'] = HR_data['sosstsst']**2\n",
    "    HR_data['sal_sqr'] = HR_data['sosaline']**2\n",
    "    \n",
    "    # apply filtering/coarsening\n",
    "    LR_data = coarsen(HR_data)\n",
    "    \n",
    "    # variables to compute after filtering:\n",
    "    LR_data = LR_data.assign(var_T = LR_data['sst_sqr'] - LR_data['sosstsst']**2)\n",
    "    LR_data = LR_data.assign(var_S = LR_data['sal_sqr'] - LR_data['sosaline']**2)\n",
    "    LR_data = LR_data.assign(sigma0_model = xr.apply_ufunc(gsw.density.sigma0, LR_data['sosaline'], LR_data['sosstsst'], dask='parallelized'))\n",
    "    LR_data = LR_data.assign(sigma0_delta = LR_data['sigma0_true'] - LR_data['sigma0_model'])\n",
    "    \n",
    "    # density derivative (EOS)\n",
    "    # a weird round-about because of issues in implementation of gsw python (does not support dask, needs numpy input/output)\n",
    "    LR_data = LR_data.assign(pressure = xr.zeros_like(LR_data.sosstsst))\n",
    "    temp_array = xr.apply_ufunc(gsw.rho_second_derivatives, LR_data.sosaline, LR_data.sosstsst, LR_data.pressure, \\\n",
    "                            input_core_dims = [('time_counter', 'y', 'x') for i in range(3)],\\\n",
    "                           output_core_dims = [('time_counter', 'y', 'x') for i in range(5)],\\\n",
    "                           dask='parallelized', dask_gufunc_kwargs=dict({'allow_rechunk' : True})) \n",
    "    LR_data = LR_data.assign(rho_sa_sa = xr.DataArray(temp_array[0], dims=['time_counter', 'y', 'x']))\n",
    "    LR_data = LR_data.assign(rho_sa_ct = xr.DataArray(temp_array[1], dims=['time_counter', 'y', 'x']))\n",
    "    LR_data = LR_data.assign(rho_ct_ct = xr.DataArray(temp_array[2], dims=['time_counter', 'y', 'x']))\n",
    "    LR_data = LR_data.assign(rho_sa_p = xr.DataArray(temp_array[3], dims=['time_counter', 'y', 'x']))\n",
    "    LR_data = LR_data.assign(rho_ct_p = xr.DataArray(temp_array[4], dims=['time_counter', 'y', 'x']))\n",
    "    del temp_array\n",
    "    \n",
    "    # spatial finite differences\n",
    "    LR_data = xgcm.autogenerate.generate_grid_ds(LR_data, axes_dims_dict={'X' : 'x', 'Y' : 'y'}, position=('center', 'right'))\n",
    "    xgcm_grid_LR = xgcm.Grid(LR_data, metrics=metrics, periodic=False, coords={'X' : {'center' : 'x', 'right' : 'x_right'}, \\\n",
    "                                                                                  'Y' : {'center' : 'y', 'right' : 'y_right'}})\n",
    "    for var in ['sosstsst', 'sosaline', 'sigma0_delta'] :\n",
    "        LR_data['diff_'+var+'_sqr'] = xgcm_grid_LR.interp(xgcm_grid_LR.diff(LR_data[var], 'X', boundary='extend')**2, 'X') + \\\n",
    "                                   xgcm_grid_LR.interp(xgcm_grid_LR.diff(LR_data[var], 'Y', boundary='extend')**2, 'Y')\n",
    "    \n",
    "    # predictors for the parametrization\n",
    "    LR_data = LR_data.assign(predictor_T = 0.5*LR_data['rho_ct_ct']*LR_data['diff_sosstsst_sqr'])\n",
    "    LR_data = LR_data.assign(predictor_S = 0.5*LR_data['rho_sa_sa']*LR_data['diff_sosaline_sqr'])\n",
    "    LR_data = LR_data.assign(predictor_TS = 0.5*LR_data['rho_sa_ct']*np.sqrt(LR_data['diff_sosstsst_sqr']*LR_data['diff_sosaline_sqr']))\n",
    "        \n",
    "    # cut a slice in space (to make samples from different datasets of the same size)\n",
    "    LR_data = LR_data.isel(x=slice(None,w), y=slice(None,h))\n",
    "\n",
    "    # again drop non-used vars and coords\n",
    "    LR_data = LR_data.drop(['time_centered', 'tmask', 'nav_lat', 'nav_lon', 'depth', 'e1f', 'e2f', 'e1u', 'e2u', \\\n",
    "                                      'e1v', 'e2v', 'e1t', 'e2t', 'sigma0_true', 'sst_sqr', 'sal_sqr'], errors='ignore')\n",
    "    return LR_data"
   ]
  },
  {
   "cell_type": "code",
   "execution_count": 27,
   "id": "f7b55d39-928a-47df-8135-f194744b4eb3",
   "metadata": {},
   "outputs": [],
   "source": [
    "from pytorch_lightning.trainer.supporters import CombinedLoader\n",
    "\n",
    "class PyLiDataModule(pl.LightningDataModule):\n",
    "    def __init__(self, cloud_data_sets, batch_size):\n",
    "        super().__init__()\n",
    "        self.cloud_data_sets = cloud_data_sets\n",
    "        self.batch_size = batch_size\n",
    "        self.list_of_xr_datasets = [xr.Dataset() for i in range(len(self.cloud_data_sets))]\n",
    "        for i, dictionary in enumerate(self.cloud_data_sets) :\n",
    "            temp_xr_ds = cat.eNATL60(region=dictionary['region'],datatype='surface_hourly', season=dictionary['season']).to_dask()\n",
    "            temp_xr_ds = xr_data_prep_pipeline(temp_xr_ds, dictionary)\n",
    "            temp_xr_ds = temp_xr_ds[features_to_add_to_sample].load()\n",
    "            self.list_of_xr_datasets[i] = temp_xr_ds\n",
    "    # def prepare_data(self):\n",
    "    #     for ds in self.list_of_xr_datasets :\n",
    "    #         for feature in features_to_add_to_sample :\n",
    "    #             #ds.attrs['mean_'+feature] = ds.data_vars[feature].mean(skipna=True).compute()\n",
    "    #             #ds.attrs['std_'+feature] = ds.data_vars[feature].std(skipna=True).compute()  \n",
    "    #             ds.attrs['median_'+feature] = ds.data_vars[feature].median(skipna=True).compute()  \n",
    "    #             ds[feature] = ds[feature].fillna(ds.attrs['median_'+feature])\n",
    "                \n",
    "    def train_dataloader(self):\n",
    "        # takes first 60% of time snapshots for training\n",
    "        train_datasets = torch.utils.data.ConcatDataset([SalinityTemperatureDensityDataset(xr_dataset, select='First', portion_of_time_series=0.6, transform=ToTensor()) \\\n",
    "                           for xr_dataset in self.list_of_xr_datasets])\n",
    "        return torch.utils.data.DataLoader(train_datasets, batch_size=self.batch_size, shuffle=True, drop_last=True)\n",
    "    def val_dataloader(self):\n",
    "        # takes last 20% of time snapshots for validation\n",
    "        val_datasets = torch.utils.data.ConcatDataset([SalinityTemperatureDensityDataset(xr_dataset, select='Last', portion_of_time_series=0.2, transform=ToTensor()) \\\n",
    "                          for xr_dataset in self.list_of_xr_datasets])\n",
    "        return torch.utils.data.DataLoader(val_datasets, batch_size=self.batch_size, drop_last=True) \n",
    "    def test_dataloader(self):\n",
    "        test_datasets = [SalinityTemperatureDensityDataset(xr_dataset, select='Last', portion_of_time_series=0.2, transform=ToTensor()) \\\n",
    "                          for xr_dataset in self.list_of_xr_datasets]\n",
    "        return [torch.utils.data.DataLoader(dataset, batch_size=1, drop_last=True) for dataset in test_datasets]\n",
    "    \n",
    "    # def setup(self, stage):\n",
    "    #     make assignments here (val/train/test split)\n",
    "    #     called on every process in DDP\n",
    "    #def teardown(self):\n",
    "        # clean up after fit or test\n",
    "        # called on every process in DDP"
   ]
  },
  {
   "cell_type": "markdown",
   "id": "f1cadc89-bd9b-4402-87c6-ec0248f80b63",
   "metadata": {},
   "source": [
    "## Initialize datamodule"
   ]
  },
  {
   "cell_type": "code",
   "execution_count": 28,
   "id": "6aeb365d-6edd-47c0-8173-9cccf9273641",
   "metadata": {},
   "outputs": [
    {
     "name": "stdout",
     "output_type": "stream",
     "text": [
      "CPU times: user 33 s, sys: 2.95 s, total: 36 s\n",
      "Wall time: 2min 35s\n"
     ]
    }
   ],
   "source": [
    "%%time\n",
    "datamodule = PyLiDataModule(data_dict, batch_size=batch_size)"
   ]
  },
  {
   "cell_type": "markdown",
   "id": "3cc4cd42-6b2f-449e-a4d7-1ac538d47b5a",
   "metadata": {},
   "source": [
    "# Experiment class"
   ]
  },
  {
   "cell_type": "markdown",
   "id": "6a613b0a-8834-429a-9d38-3475a41cdf69",
   "metadata": {},
   "source": [
    "This class collects all information needed for an experiment:"
   ]
  },
  {
   "cell_type": "code",
   "execution_count": 29,
   "id": "3b0a26a9-a388-491a-916f-0ef415904050",
   "metadata": {},
   "outputs": [],
   "source": [
    "class Experiment :\n",
    "    log_directory='logs/'\n",
    "    \n",
    "    def __init__(self, pl_class, model, label, version_name, datamodule, input_features, target_features, \\\n",
    "                 max_epochs=None, limit_train_batches=1.0, **kwargs) :\n",
    "        super().__init__()\n",
    "        self.pl_class = pl_class  # pytorch lightning module class\n",
    "        self.model = model\n",
    "        self.label = label\n",
    "        self.version_name = version_name\n",
    "        self.datamodule = datamodule\n",
    "        self.input_features = input_features\n",
    "        self.target_features = target_features\n",
    "        self.max_epochs = max_epochs\n",
    "        self.limit_train_batches = limit_train_batches\n",
    "        self.kwargs = kwargs\n",
    "        \n",
    "        self.NN = self.pl_class(self.model, self.input_features, self.target_features, **self.kwargs)\n",
    "        self.logger = pl_loggers.TensorBoardLogger(save_dir=self.log_directory, name=self.label, version=self.version_name)\n",
    "\n",
    "    def run(self) :\n",
    "        self.checkpoint_callback = ModelCheckpoint(dirpath=self.log_directory + self.label + \"/\" + self.version_name, \\\n",
    "                                              save_top_k=2, monitor=\"loss_val\", save_last=True)\n",
    "    \n",
    "        self.trainer = pl.Trainer(max_epochs=self.max_epochs, logger=self.logger, limit_train_batches=self.limit_train_batches, \\\n",
    "                                  callbacks=[EarlyStopping(monitor=\"loss_val\", mode=\"min\"), self.checkpoint_callback],\\\n",
    "                                  accelerator='gpu', devices=(1 if torch.cuda.is_available() else None))  \n",
    "        self.trainer.fit(model = self.NN, datamodule=self.datamodule)\n",
    "        self.logs = get_logs_from_tb(exp_name=self.label, version_name=self.version_name, directory=self.log_directory)\n",
    "        \n",
    "    def get_logs(self) :\n",
    "        self.logs = get_logs_from_tb(exp_name=self.label, version_name=self.version_name, directory=self.log_directory)\n",
    "        \n",
    "    def get_checkpoint_path(self) :\n",
    "        #file = glob.glob(self.log_directory + self.label + \"/\" + self.version_name + '/*.ckpt')[-1]\n",
    "        #print(file)\n",
    "        file = self.log_directory + self.label + \"/\" + self.version_name + '/last.ckpt'\n",
    "        return file\n",
    "        \n",
    "    def test(self) :\n",
    "        return self.trainer.test(self.NN, datamodule=self.datamodule)"
   ]
  },
  {
   "cell_type": "markdown",
   "id": "da614535-daa6-4d43-bbdd-983e1a44596e",
   "metadata": {},
   "source": [
    "# Data structure for experiments"
   ]
  },
  {
   "cell_type": "markdown",
   "id": "db2eb2d7-faeb-4fd9-abca-059e2becad21",
   "metadata": {},
   "source": [
    "Dictionary of dictionaries"
   ]
  },
  {
   "cell_type": "code",
   "execution_count": 30,
   "id": "d1a5f2ea-c257-4f05-8775-e9a1ba9b2bff",
   "metadata": {},
   "outputs": [],
   "source": [
    "exp = dict()"
   ]
  },
  {
   "cell_type": "code",
   "execution_count": 31,
   "id": "fc0e0c15-8938-4bd3-932d-91e9bb339272",
   "metadata": {},
   "outputs": [],
   "source": [
    "exp['LinReg'] = dict()\n",
    "exp['FCNN'] = dict()\n",
    "exp['CNN'] = dict()"
   ]
  },
  {
   "cell_type": "markdown",
   "id": "3cb3578c-4153-4251-af78-641b70d64919",
   "metadata": {},
   "source": [
    "# Linear regression (deterministic parametrization)"
   ]
  },
  {
   "cell_type": "code",
   "execution_count": 32,
   "id": "d3b26655-9f65-402a-a620-93580ea0785d",
   "metadata": {},
   "outputs": [],
   "source": [
    "class LitLinRegression(pl.LightningModule):\n",
    "    def __init__(self, nnModel, inputs, outputs):\n",
    "        super().__init__()\n",
    "        self.nnModel = nnModel\n",
    "        self.inputs = inputs\n",
    "        self.outputs = outputs\n",
    "        #nnModel.weight.data = torch.Tensor([1.0])\n",
    "        self.loss = torch.nn.HuberLoss(reduction='mean', delta=0.9)\n",
    "        self.save_hyperparameters(ignore=['nnModel'])\n",
    "\n",
    "    def training_step(self, batch, batch_idx) :\n",
    "        x = self.transform_input(batch)\n",
    "        y_true = self.transform_target(batch)\n",
    "        y_model = self.nnModel(x)\n",
    "        loss = self.loss(y_model, y_true)  \n",
    "        self.log_dict({'loss_train' : loss, 'coef_train' : self.nnModel.weight.data[:,0]}, on_step=False, on_epoch=True)\n",
    "        return loss\n",
    "\n",
    "    # validation logics (is evaluated during the training, but the data is not used to the optimization loop)\n",
    "    def validation_step(self, batch, batch_idx) :\n",
    "        x = self.transform_input(batch)\n",
    "        y_true = self.transform_target(batch)\n",
    "        y_model = self.nnModel(x)\n",
    "        loss = self.loss(y_model, y_true)  \n",
    "        self.log('loss_val', loss, on_step=False, on_epoch=True) \n",
    "    \n",
    "    # gives model output in a form of a dictionary of 2d variables\n",
    "    def predict_step(self, batch, batch_idx, dataloader_idx) :\n",
    "        output_h = h-2\n",
    "        output_w = w-2\n",
    "        batch_len = len(batch[self.outputs[0]])\n",
    "        x = self.transform_input(batch)\n",
    "        tensor_model_output = self.nnModel(x)\n",
    "        output_unflatten = torch.permute(tensor_model_output.unflatten(dim=0, sizes=[batch_len,-1]),dims=(0,2,1))\n",
    "        output_4d = torch.nn.functional.fold(output_unflatten, output_size=(output_h,output_w), kernel_size=1, dilation=1, padding=0, stride=1)\n",
    "        pred = dict()\n",
    "        for i, feature in enumerate(self.outputs) :\n",
    "            pred[feature] = output_4d[:,i].view(-1,output_h,output_w)\n",
    "            # if outputs are normalized then compute also result in the restored units (not normalized)\n",
    "            if feature.startswith('normalized_') :\n",
    "                not_normalized_feature = feature.replace(\"normalized_\", \"\")\n",
    "                pred[not_normalized_feature] = SalinityTemperatureDensityDataset.restore_units(pred[feature], batch, not_normalized_feature)\n",
    "        return pred\n",
    "        \n",
    "    # testing logic - to evaluate the model after training\n",
    "    def test_step(self, batch, batch_idx, dataloader_idx) :\n",
    "        model_output = self.predict_step(batch, batch_idx, dataloader_idx)\n",
    "        loss = dict(); loss_grad=dict()\n",
    "        for i, feature in enumerate(self.outputs) : \n",
    "            if feature.startswith('normalized_') :\n",
    "                # compute also non-normalized error\n",
    "                not_normalized_feature = feature.replace(\"normalized_\", \"\")\n",
    "                loss[not_normalized_feature] = eval_loss(model_output[not_normalized_feature], batch[not_normalized_feature][:,1:-1,1:-1])\n",
    "                loss_grad[not_normalized_feature] = eval_loss(finite_diffs_sqr_2d_array(model_output[not_normalized_feature]), \\\n",
    "                                                              finite_diffs_sqr_2d_array(batch[not_normalized_feature])[:,1:-1,1:-1])\n",
    "                self.log_dict({'loss_test_'+not_normalized_feature : loss[not_normalized_feature].mean(),\\\n",
    "                               'loss_grad_test_'+not_normalized_feature : loss_grad[not_normalized_feature].mean()})\n",
    "            loss[feature] = eval_loss(model_output[feature], batch[feature][:,1:-1,1:-1])\n",
    "            loss_grad[feature] = eval_loss(finite_diffs_sqr_2d_array(model_output[feature]), \\\n",
    "                                           finite_diffs_sqr_2d_array(batch[feature])[:,1:-1,1:-1])\n",
    "            self.log_dict({'loss_test_'+feature : loss[feature].mean(), 'loss_grad_test_'+feature : loss_grad[feature].mean()})\n",
    "\n",
    "    def configure_optimizers(self) :\n",
    "        optimizer = torch.optim.Adam(self.parameters(), lr=1e-3)\n",
    "        #optimizer = torch.optim.SGD(self.parameters(), lr=0.001)\n",
    "        return optimizer\n",
    "    \n",
    "    def transform_input(self, batch) :\n",
    "        # since the data is treated pixel-by-pixel, the actual batch for training will actually consist of all points of all batches. \n",
    "        # this part flattens the 2d maps of different variables \n",
    "        # transform = torch.hstack([(batch[key][:,1:-1,1:-1]).view(-1,1) for key in self.inputs]).to(torch.float32)\n",
    "        input_4d = torch.transpose(torch.stack([batch[key][:,1:-1,1:-1] for key in self.inputs]), 0, 1)\n",
    "        transform = torch.flatten(torch.permute(torch.nn.functional.unfold(input_4d, kernel_size=1, dilation=1, padding=0, stride=1), \\\n",
    "                                                dims=(0,2,1)), end_dim=1).to(torch.float32)\n",
    "        return transform\n",
    "    \n",
    "    def transform_target(self, batch) : \n",
    "        #transform = torch.hstack([(batch[key][:,1:-1,1:-1]).view(-1,1) for key in self.outputs]).to(torch.float32)\n",
    "        input_4d = torch.transpose(torch.stack([batch[key][:,1:-1,1:-1] for key in self.outputs]), 0, 1)\n",
    "        transform = torch.flatten(torch.permute(torch.nn.functional.unfold(input_4d, kernel_size=1, dilation=1, padding=0, stride=1), \\\n",
    "                                                dims=(0,2,1)), end_dim=1).to(torch.float32)\n",
    "        return transform"
   ]
  },
  {
   "cell_type": "markdown",
   "id": "0756c694-4154-4481-9d55-a7910e43a3b7",
   "metadata": {},
   "source": [
    "## Experiments"
   ]
  },
  {
   "cell_type": "code",
   "execution_count": 33,
   "id": "b47da3b3-4c1f-4df1-955d-8771a7f10369",
   "metadata": {},
   "outputs": [],
   "source": [
    "model_name = 'LinReg'"
   ]
  },
  {
   "cell_type": "code",
   "execution_count": 34,
   "id": "028c1261-74cd-4ed0-a7f4-e5abf2cd9767",
   "metadata": {},
   "outputs": [],
   "source": [
    "list_of_exps = ['train_full']"
   ]
  },
  {
   "cell_type": "code",
   "execution_count": 35,
   "id": "3c5a5d19-dbbe-4a4d-8925-c27d65b4e980",
   "metadata": {},
   "outputs": [],
   "source": [
    "for exp_name in list_of_exps :\n",
    "    exp[model_name][exp_name] = dict()"
   ]
  },
  {
   "cell_type": "code",
   "execution_count": 96,
   "id": "b63006a8-3ec7-40b9-aa1e-8aaf7f76c5ca",
   "metadata": {},
   "outputs": [],
   "source": [
    "exp['LinReg']['train_full']['exp'] = Experiment(pl_class=LitLinRegression, \\\n",
    "                      model=torch.nn.Linear(3, 1, bias=False), \\\n",
    "                      label='2d_linear_reg', \\\n",
    "                      version_name='3vars_norm_batch4_out_grad', \\\n",
    "                      input_features=['normalized_predictor_T', 'normalized_predictor_S', 'normalized_predictor_TS'], \\\n",
    "                      target_features=['normalized_diff_sigma0_delta_sqr'], \n",
    "                      datamodule=datamodule,\\\n",
    "                      max_epochs=70, \\\n",
    "                      limit_train_batches=1.0) "
   ]
  },
  {
   "cell_type": "code",
   "execution_count": 97,
   "id": "aed55e71-d66c-415a-9c80-84e8971956fd",
   "metadata": {},
   "outputs": [
    {
     "name": "stderr",
     "output_type": "stream",
     "text": [
      "GPU available: True (cuda), used: True\n",
      "TPU available: False, using: 0 TPU cores\n",
      "IPU available: False, using: 0 IPUs\n",
      "HPU available: False, using: 0 HPUs\n",
      "`Trainer(limit_train_batches=1.0)` was configured so 100% of the batches per epoch will be used..\n",
      "LOCAL_RANK: 0 - CUDA_VISIBLE_DEVICES: [0]\n",
      "\n",
      "  | Name    | Type      | Params\n",
      "--------------------------------------\n",
      "0 | nnModel | Linear    | 3     \n",
      "1 | loss    | HuberLoss | 0     \n",
      "--------------------------------------\n",
      "3         Trainable params\n",
      "0         Non-trainable params\n",
      "3         Total params\n",
      "0.000     Total estimated model params size (MB)\n"
     ]
    },
    {
     "data": {
      "application/vnd.jupyter.widget-view+json": {
       "model_id": "",
       "version_major": 2,
       "version_minor": 0
      },
      "text/plain": [
       "Sanity Checking: 0it [00:00, ?it/s]"
      ]
     },
     "metadata": {},
     "output_type": "display_data"
    },
    {
     "data": {
      "application/vnd.jupyter.widget-view+json": {
       "model_id": "8b0c30f0c11947bd89b16f6d6ed4218e",
       "version_major": 2,
       "version_minor": 0
      },
      "text/plain": [
       "Training: 0it [00:00, ?it/s]"
      ]
     },
     "metadata": {},
     "output_type": "display_data"
    },
    {
     "data": {
      "application/vnd.jupyter.widget-view+json": {
       "model_id": "",
       "version_major": 2,
       "version_minor": 0
      },
      "text/plain": [
       "Validation: 0it [00:00, ?it/s]"
      ]
     },
     "metadata": {},
     "output_type": "display_data"
    },
    {
     "data": {
      "application/vnd.jupyter.widget-view+json": {
       "model_id": "",
       "version_major": 2,
       "version_minor": 0
      },
      "text/plain": [
       "Validation: 0it [00:00, ?it/s]"
      ]
     },
     "metadata": {},
     "output_type": "display_data"
    },
    {
     "data": {
      "application/vnd.jupyter.widget-view+json": {
       "model_id": "",
       "version_major": 2,
       "version_minor": 0
      },
      "text/plain": [
       "Validation: 0it [00:00, ?it/s]"
      ]
     },
     "metadata": {},
     "output_type": "display_data"
    },
    {
     "data": {
      "application/vnd.jupyter.widget-view+json": {
       "model_id": "",
       "version_major": 2,
       "version_minor": 0
      },
      "text/plain": [
       "Validation: 0it [00:00, ?it/s]"
      ]
     },
     "metadata": {},
     "output_type": "display_data"
    },
    {
     "data": {
      "application/vnd.jupyter.widget-view+json": {
       "model_id": "",
       "version_major": 2,
       "version_minor": 0
      },
      "text/plain": [
       "Validation: 0it [00:00, ?it/s]"
      ]
     },
     "metadata": {},
     "output_type": "display_data"
    },
    {
     "data": {
      "application/vnd.jupyter.widget-view+json": {
       "model_id": "",
       "version_major": 2,
       "version_minor": 0
      },
      "text/plain": [
       "Validation: 0it [00:00, ?it/s]"
      ]
     },
     "metadata": {},
     "output_type": "display_data"
    },
    {
     "data": {
      "application/vnd.jupyter.widget-view+json": {
       "model_id": "",
       "version_major": 2,
       "version_minor": 0
      },
      "text/plain": [
       "Validation: 0it [00:00, ?it/s]"
      ]
     },
     "metadata": {},
     "output_type": "display_data"
    },
    {
     "name": "stdout",
     "output_type": "stream",
     "text": [
      "logs//2d_linear_reg/3vars_norm_batch4_out_grad/events.out.tfevents.1665764960.jupyter-anastasiagor.5037.7\n"
     ]
    }
   ],
   "source": [
    "exp['LinReg']['train_full']['exp'].run()\n",
    "clear_output(wait=True)"
   ]
  },
  {
   "cell_type": "code",
   "execution_count": 98,
   "id": "505ce039-57fd-467f-b11f-697ac9a614da",
   "metadata": {},
   "outputs": [
    {
     "name": "stdout",
     "output_type": "stream",
     "text": [
      "logs//2d_linear_reg/3vars_norm_batch4_out_grad/events.out.tfevents.1665764960.jupyter-anastasiagor.5037.7\n"
     ]
    },
    {
     "data": {
      "image/png": "[encoded data removed]",
      "text/plain": [
       "<Figure size 700x250 with 2 Axes>"
      ]
     },
     "metadata": {},
     "output_type": "display_data"
    }
   ],
   "source": [
    "fig, ax = plt.subplots(1, 2, constrained_layout=True, figsize=(7, 2.5))\n",
    "exp_model = exp['LinReg']\n",
    "\n",
    "for i, exp_name in enumerate(exp_model) :\n",
    "    experiment = exp_model[exp_name]['exp']\n",
    "    experiment.get_logs()\n",
    "    ax[0].plot(experiment.logs['loss_train'], color=list(mcolors.TABLEAU_COLORS.values())[0], ls=line_styles[i], marker='.', label='Training ' + exp_name)\n",
    "    ax[0].plot(experiment.logs['loss_val'], color=list(mcolors.TABLEAU_COLORS.values())[1], ls=line_styles[i], marker='.', label='Validation ' + exp_name)\n",
    "    ax[1].plot(experiment.logs['coef_train'], color=list(mcolors.TABLEAU_COLORS.values())[0], ls=line_styles[i], marker='.')\n",
    "ax[0].set(xlabel='Epoch', ylabel='MSE'); ax[0].grid(True)\n",
    "ax[0].set(ylabel='MSE')\n",
    "ax[0].legend(bbox_to_anchor=(1.05, 1), loc='upper left')\n",
    "\n",
    "ax[1].set(title='first coef', ylabel='c', xlabel='Epoch', yscale='linear');ax[1].grid()\n",
    "plt.show()"
   ]
  },
  {
   "cell_type": "markdown",
   "id": "ff56d616-ef48-44ed-8de0-a84d0486862b",
   "metadata": {},
   "source": [
    "# Fully-connected NN"
   ]
  },
  {
   "cell_type": "markdown",
   "id": "ab11e8cd-d6bd-4ccd-b3f6-fffbdc59f010",
   "metadata": {},
   "source": [
    "## Model"
   ]
  },
  {
   "cell_type": "markdown",
   "id": "ce56e2f8-3394-4af0-a48f-cacb91df0a6f",
   "metadata": {},
   "source": [
    "The pytorch lightning class describing a model that treats the inputs/outputs by patches of pixels. "
   ]
  },
  {
   "cell_type": "code",
   "execution_count": 38,
   "id": "6d931779-e63e-4d3e-bb6a-74eaaa1f7484",
   "metadata": {
    "tags": []
   },
   "outputs": [],
   "source": [
    "class LitPixelModel(pl.LightningModule):\n",
    "    def __init__(self, nnModel, inputs, outputs, **kwargs):\n",
    "        super().__init__()\n",
    "        self.nnModel = nnModel\n",
    "        # initialization of model parameters with random numbers \n",
    "        # for name, param in nnModel.named_parameters():\n",
    "        #     param.data.normal_(mean=0.0, std=1.0)\n",
    "        self.inputs = inputs\n",
    "        self.outputs = outputs\n",
    "        self.input_patch_size = kwargs['input_patch_size']\n",
    "        self.output_patch_size = kwargs['output_patch_size']\n",
    "        self.save_hyperparameters(ignore=['nnModel'])\n",
    "\n",
    "    def training_step(self, batch, batch_idx) :\n",
    "        x = self.transform_input(batch)\n",
    "        y_true = self.transform_target(batch)\n",
    "        y_model = self.nnModel(x)\n",
    "        loss = torch.nn.functional.mse_loss(y_model, y_true)  \n",
    "        self.log('loss_train', loss, on_step=False, on_epoch=True)\n",
    "        return loss\n",
    "\n",
    "    # validation logics (is evaluated during the training, but the data is not used to the optimization loop)\n",
    "    def validation_step(self, batch, batch_idx) :\n",
    "        x = self.transform_input(batch)\n",
    "        y_true = self.transform_target(batch)\n",
    "        y_model = self.nnModel(x)\n",
    "        loss = torch.nn.functional.mse_loss(y_model, y_true)  \n",
    "        self.log('loss_val', loss, on_step=False, on_epoch=True) \n",
    "    \n",
    "    # gives model output in a form of a dictionary of 2d variables\n",
    "    def predict_step(self, batch, batch_idx, dataloader_idx) :\n",
    "        output_h = h-2*(self.input_patch_size//2 - self.output_patch_size//2)\n",
    "        output_w = w-2*(self.input_patch_size//2 - self.output_patch_size//2)\n",
    "        batch_len = len(batch[self.outputs[0]])\n",
    "        x = self.transform_input(batch)\n",
    "        tensor_model_output = self.nnModel(x)\n",
    "        output_unflatten = torch.permute(tensor_model_output.unflatten(dim=0, sizes=[batch_len,-1]),dims=(0,2,1))\n",
    "        output_4d = torch.nn.functional.fold(output_unflatten, output_size=(output_h,output_w), kernel_size=self.output_patch_size, \\\n",
    "                                             dilation=1, padding=0, stride=1)\n",
    "        mask_ones = torch.ones((1,1,output_h,output_w))\n",
    "        mask_ones = mask_ones.to(batch[self.outputs[0]].device)\n",
    "        divisor = torch.nn.functional.fold(torch.nn.functional.unfold(mask_ones, kernel_size=self.output_patch_size), \\\n",
    "                                           kernel_size=self.output_patch_size, output_size=(output_h,output_w))\n",
    "        pred = dict()\n",
    "        for i, feature in enumerate(self.outputs) :\n",
    "            pred[feature] = output_4d[:,i].view(-1,output_h,output_w)/divisor.view(1,output_h,output_w)\n",
    "            # if outputs are normalized then compute also result in the restored units (not normalized)\n",
    "            if feature.startswith('normalized_') :\n",
    "                not_normalized_feature = feature.replace(\"normalized_\", \"\")\n",
    "                pred[not_normalized_feature] = SalinityTemperatureDensityDataset.restore_units(pred[feature], batch, \\\n",
    "                                                                                               not_normalized_feature)\n",
    "        return pred\n",
    "        \n",
    "    # testing logic - to evaluate the model after training\n",
    "    def test_step(self, batch, batch_idx, dataloader_idx) :\n",
    "        nb_border_pix = self.input_patch_size//2 - self.output_patch_size//2\n",
    "        model_output = self.predict_step(batch, batch_idx, dataloader_idx)\n",
    "        loss = dict(); loss_grad=dict()\n",
    "    \n",
    "        #construct list of features\n",
    "        list_of_features = list()\n",
    "        for i, feature in enumerate(self.outputs) :\n",
    "            list_of_features.append(feature)\n",
    "            if feature.startswith('normalized_') :\n",
    "                # compute also for the non-normalized feature\n",
    "                not_normalized_feature = feature.replace(\"normalized_\", \"\")\n",
    "                list_of_features.append(not_normalized_feature)\n",
    "\n",
    "        for i, feature in enumerate(list_of_features) :\n",
    "            truth = batch[feature][:,nb_border_pix:-nb_border_pix,nb_border_pix:-nb_border_pix]\n",
    "            model = model_output[feature]\n",
    "            loss[feature] = eval_loss(model, truth)\n",
    "            loss_grad[feature] = eval_loss(finite_diffs_sqr_2d_array(model)[:,1:-1,1:-1], finite_diffs_sqr_2d_array(truth)[:,1:-1,1:-1])\n",
    "            self.log_dict({'loss_test_'+feature : loss[feature].mean(), 'loss_grad_test_'+feature : loss_grad[feature].mean()})\n",
    "            \n",
    "    def configure_optimizers(self) :\n",
    "        optimizer = torch.optim.Adam(self.parameters(), lr=1e-4)\n",
    "        #optimizer = torch.optim.SGD(self.parameters(), lr=0.001)\n",
    "        return optimizer\n",
    "    \n",
    "    def transform_input(self, batch) :\n",
    "        input_4d = torch.transpose(torch.stack([batch[key] for key in self.inputs]), 0, 1)\n",
    "        # zero padding - will remove border pixels\n",
    "        # create patches of size 'input_patch_size' and join them into batches\n",
    "        transform = torch.flatten(torch.permute(torch.nn.functional.unfold(input_4d, kernel_size=self.input_patch_size, \\\n",
    "                                                                           dilation=1, padding=0, stride=1), \\\n",
    "                                                dims=(0,2,1)), end_dim=1).to(torch.float32)\n",
    "        return transform\n",
    "    \n",
    "    def transform_target(self, batch) : \n",
    "        # cut-off borders (depends on the size of the inpute patch)\n",
    "        nb_border_pix = self.input_patch_size//2 - self.output_patch_size//2\n",
    "        # tranform data into a 4d tensor\n",
    "        input_4d = torch.transpose(torch.stack([batch[key][:, nb_border_pix:-nb_border_pix, nb_border_pix:-nb_border_pix] \\\n",
    "                                                for key in self.outputs]), 0, 1)\n",
    "        # create patches of size 'output_patch_size' and join them into batches\n",
    "        transform = torch.flatten(torch.permute(torch.nn.functional.unfold(input_4d, kernel_size=self.output_patch_size, \\\n",
    "                                                                           dilation=1, padding=0, stride=1), \n",
    "                                                dims=(0,2,1)), end_dim=1).to(torch.float32)\n",
    "        return transform"
   ]
  },
  {
   "cell_type": "code",
   "execution_count": 39,
   "id": "9ca64492-abe7-4de7-bb19-56bc3b56e92d",
   "metadata": {},
   "outputs": [],
   "source": [
    "class FCNN(torch.nn.Module):\n",
    "    def __init__(self, size_of_input, size_of_output):\n",
    "        super().__init__()\n",
    "        self.lin1 = torch.nn.Linear(size_of_input, 50, bias=True)\n",
    "        self.lin2 = torch.nn.Linear(50, size_of_output, bias=True)\n",
    "\n",
    "    def forward(self, x):\n",
    "        res = self.lin1(x)\n",
    "        res = torch.nn.functional.relu(res)\n",
    "        res = self.lin2(res)\n",
    "        return res"
   ]
  },
  {
   "cell_type": "code",
   "execution_count": 40,
   "id": "56cfc94e-ad64-4d60-ae35-21d7702e5287",
   "metadata": {},
   "outputs": [],
   "source": [
    "class FCNN0(torch.nn.Module):\n",
    "    def __init__(self, size_of_input, size_of_output):\n",
    "        super().__init__()\n",
    "        self.lin1 = torch.nn.Linear(size_of_input, size_of_output)\n",
    "\n",
    "    def forward(self, x):\n",
    "        res = self.lin1(x)\n",
    "        return res"
   ]
  },
  {
   "cell_type": "markdown",
   "id": "e71931f3-b9ed-4602-9af1-118a067838a3",
   "metadata": {},
   "source": [
    "## Experiments"
   ]
  },
  {
   "cell_type": "code",
   "execution_count": 41,
   "id": "7722f2d2-cc07-446c-8f25-a58a1855a6b6",
   "metadata": {},
   "outputs": [],
   "source": [
    "model_name = 'FCNN'"
   ]
  },
  {
   "cell_type": "code",
   "execution_count": 42,
   "id": "322b155c-db04-4c1c-ab7a-2f8c897f2c0c",
   "metadata": {},
   "outputs": [],
   "source": [
    "list_of_exps = ['patch_1-3', 'patch_3-5']"
   ]
  },
  {
   "cell_type": "code",
   "execution_count": 43,
   "id": "329fc887-fdc9-4af9-9792-d17585360b48",
   "metadata": {},
   "outputs": [],
   "source": [
    "for exp_name in list_of_exps :\n",
    "    exp[model_name][exp_name] = dict()"
   ]
  },
  {
   "cell_type": "code",
   "execution_count": 44,
   "id": "8c14469b-b5a5-4f81-acb7-59483f63df2b",
   "metadata": {},
   "outputs": [],
   "source": [
    "exp['FCNN']['patch_1-3']['exp'] = Experiment(pl_class=LitPixelModel, \\\n",
    "                      model=FCNN(2*9,1), \\\n",
    "                      label='FCNN_patched', \\\n",
    "                      version_name='patch_1-3_batch4_grad_loss', \\\n",
    "                      input_features=['normalized_sosstsst', 'normalized_rho_ct_ct'], \\\n",
    "                      target_features=['normalized_diff_sigma0_delta_sqr'], \n",
    "                      datamodule=datamodule,\\\n",
    "                      max_epochs=50, \\\n",
    "                      limit_train_batches=1.0,\\\n",
    "                      **dict(input_patch_size=3, output_patch_size=1)) "
   ]
  },
  {
   "cell_type": "code",
   "execution_count": 45,
   "id": "a9a5f2fc-ca84-4f29-b993-17a14ab259e7",
   "metadata": {},
   "outputs": [],
   "source": [
    "exp['FCNN']['patch_3-5']['exp'] = Experiment(pl_class=LitPixelModel, \\\n",
    "                      model=FCNN(2*25,9), \\\n",
    "                      label='FCNN_patched', \\\n",
    "                      version_name='patch_3-5_batch4_grad_loss', \\\n",
    "                      input_features=['normalized_sosstsst', 'normalized_rho_ct_ct'], \\\n",
    "                      target_features=['normalized_diff_sigma0_delta_sqr'], \n",
    "                      datamodule=datamodule,\\\n",
    "                      max_epochs=50, \\\n",
    "                      limit_train_batches=1.0,\\\n",
    "                      **dict(input_patch_size=5, output_patch_size=3)) "
   ]
  },
  {
   "cell_type": "markdown",
   "id": "373cfc20-e0be-45d1-b311-5404f7ac3cd0",
   "metadata": {},
   "source": [
    "## Training"
   ]
  },
  {
   "cell_type": "code",
   "execution_count": 46,
   "id": "f3c59d25-be2a-4384-a133-cc2ef8a2ec78",
   "metadata": {},
   "outputs": [],
   "source": [
    "# exp['FCNN']['patch_1-3']['exp'].run()\n",
    "# clear_output(wait=True)"
   ]
  },
  {
   "cell_type": "code",
   "execution_count": 47,
   "id": "b4979a60-c4c2-4e6e-a8c6-797e7774b39b",
   "metadata": {},
   "outputs": [],
   "source": [
    "# exp['FCNN']['patch_3-5']['exp'].run()\n",
    "# clear_output(wait=True)"
   ]
  },
  {
   "cell_type": "code",
   "execution_count": 48,
   "id": "9618a831-1a2c-4348-949b-ded7ae9dce94",
   "metadata": {},
   "outputs": [
    {
     "name": "stdout",
     "output_type": "stream",
     "text": [
      "logs//FCNN_patched/patch_1-3_batch4_grad_loss/events.out.tfevents.1665680476.jupyter-anastasiagor.8118.0\n",
      "logs//FCNN_patched/patch_3-5_batch4_grad_loss/events.out.tfevents.1665680747.jupyter-anastasiagor.8118.1\n"
     ]
    },
    {
     "data": {
      "image/png": "[encoded data removed]",
      "text/plain": [
       "<Figure size 1000x350 with 2 Axes>"
      ]
     },
     "metadata": {},
     "output_type": "display_data"
    }
   ],
   "source": [
    "fig, ax = plt.subplots(1, 2, constrained_layout=True, figsize=(10, 3.5))\n",
    "exp_model = exp['FCNN']\n",
    "\n",
    "for i, exp_name in enumerate(['patch_1-3', 'patch_3-5']) :\n",
    "    experiment = exp_model[exp_name]['exp']\n",
    "    experiment.get_logs()\n",
    "    ax[0].plot(experiment.logs['loss_train'], color=list(mcolors.TABLEAU_COLORS.values())[0], \\\n",
    "               ls=line_styles[i], marker='.', label='Training ' + exp_name)\n",
    "    ax[0].plot(experiment.logs['loss_val'], color=list(mcolors.TABLEAU_COLORS.values())[1], \\\n",
    "               ls=line_styles[i], marker='.', label='Validation ' + exp_name)\n",
    "ax[0].set(xlabel='Epoch', ylabel='MSE'); ax[0].grid(True)\n",
    "ax[0].set(ylabel='MSE')\n",
    "ax[0].legend(bbox_to_anchor=(1.05, 1), loc='upper left')\n",
    "plt.show()"
   ]
  },
  {
   "cell_type": "markdown",
   "id": "cc6ef334-f6c1-4205-a07c-8a27faa4e0f1",
   "metadata": {},
   "source": [
    "# Convolutional NN model"
   ]
  },
  {
   "cell_type": "markdown",
   "id": "ffd0c852-9e4b-4327-b273-d4dee6aa74b6",
   "metadata": {},
   "source": [
    "## Model"
   ]
  },
  {
   "cell_type": "code",
   "execution_count": 93,
   "id": "bdaa2e39-a1cb-4212-862f-7f7716ce6bc1",
   "metadata": {},
   "outputs": [],
   "source": [
    "class CNN(torch.nn.Module):\n",
    "    def __init__(self, len_keys_input_CNN, len_keys_targets_CNN, padding1='same', padding2='same', padding_mode='replicate', kernel_size=3):\n",
    "        super().__init__()\n",
    "        self.padding1 = padding1\n",
    "        self.padding2 = padding2\n",
    "        self.kernel_size = kernel_size\n",
    "        self.padding_mode = 'replicate'\n",
    "        \n",
    "        self.conv1 = torch.nn.Conv2d(in_channels=len_keys_input_CNN, out_channels=64, kernel_size=self.kernel_size, \\\n",
    "                                     padding=self.padding1,  padding_mode=self.padding_mode) \n",
    "        self.conv2 = torch.nn.Conv2d(64, 64, kernel_size=self.kernel_size, padding='same', padding_mode=self.padding_mode) \n",
    "        self.conv3 = torch.nn.Conv2d(64, 64, kernel_size=self.kernel_size, padding='same', padding_mode=self.padding_mode) \n",
    "        self.conv4 = torch.nn.Conv2d(64, 64, kernel_size=self.kernel_size, padding='same', padding_mode=self.padding_mode) \n",
    "        self.conv5 = torch.nn.Conv2d(64, len_keys_targets_CNN, kernel_size=self.kernel_size, padding='same', padding_mode=self.padding_mode)\n",
    "\n",
    "    def forward(self, x):\n",
    "        x = self.conv1(x)\n",
    "        x = torch.nn.functional.relu(x)\n",
    "        \n",
    "        x = self.conv2(x)\n",
    "        x = torch.nn.functional.relu(x)\n",
    "\n",
    "        x = self.conv3(x)\n",
    "        x = torch.nn.functional.relu(x)\n",
    "    \n",
    "        x = self.conv4(x)\n",
    "        x = torch.nn.functional.relu(x)\n",
    "    \n",
    "        x = self.conv5(x)\n",
    "        \n",
    "        return x        "
   ]
  },
  {
   "cell_type": "code",
   "execution_count": 94,
   "id": "bd1c571d-8818-484c-a983-9d19202cdcf3",
   "metadata": {},
   "outputs": [],
   "source": [
    "class CNN_Model_Class(pl.LightningModule):\n",
    "    def __init__(self, nnModel, inputs, outputs):\n",
    "        super().__init__()\n",
    "        self.nnModel = nnModel\n",
    "        # for name, param in nnModel.named_parameters():\n",
    "        #     param.data.normal_(mean=0.0, std=0.1)\n",
    "        self.inputs = inputs\n",
    "        self.outputs = outputs\n",
    "        self.save_hyperparameters(ignore=['nnModel'])\n",
    "        \n",
    "        # find how many pixels to cut on the borders\n",
    "        if self.nnModel.padding1 == 'same' :\n",
    "            self.border_pix_cut = 0\n",
    "        if self.nnModel.padding1 == 'valid' :\n",
    "            self.border_pix_cut = self.nnModel.kernel_size//2\n",
    "        # if self.outputs[0].startswith('diff_') or self.outputs[0].startwith('normalized_diff_') :\n",
    "        #     self.border_pix_cut+=1       \n",
    "\n",
    "    def training_step(self, batch, batch_idx) :\n",
    "        x = self.transform_input(batch)\n",
    "        y_true = self.transform_target(batch)\n",
    "        y_model = self.nnModel(x)\n",
    "        loss = torch.nn.functional.mse_loss(y_model, y_true)  \n",
    "        self.log('loss_train', loss, on_step=False, on_epoch=True)\n",
    "        return loss\n",
    "\n",
    "    def validation_step(self, batch, batch_idx) :\n",
    "        x = self.transform_input(batch)\n",
    "        y_true = self.transform_target(batch)\n",
    "        y_model = self.nnModel(x)\n",
    "        loss = torch.nn.functional.mse_loss(y_model, y_true)  \n",
    "        self.log('loss_val', loss, on_step=False, on_epoch=True) \n",
    "    \n",
    "    def predict_step(self, batch, batch_idx, dataloader_idx) :        \n",
    "        x = self.transform_input(batch)\n",
    "        tensor_model_output = self.nnModel(x)\n",
    "        pred = dict()\n",
    "        for i, feature in enumerate(self.outputs) :\n",
    "            pred[feature] = tensor_model_output[:,i,:,:]\n",
    "            # if outputs are normalized then compute also result in the restored units (not normalized)\n",
    "            if feature.startswith('normalized_') :\n",
    "                not_normalized_feature = feature.replace(\"normalized_\", \"\")\n",
    "                pred[not_normalized_feature] = SalinityTemperatureDensityDataset.restore_units(pred[feature], batch, not_normalized_feature)\n",
    "        return pred\n",
    "        \n",
    "    def test_step(self, batch, batch_idx, dataloader_idx) :\n",
    "        list_of_features = list()\n",
    "        model_output = self.predict_step(batch, batch_idx, dataloader_idx)\n",
    "        loss = dict(); loss_grad=dict()  \n",
    "        \n",
    "        #construct list of features\n",
    "        for i, feature in enumerate(self.outputs) :\n",
    "            list_of_features.append(feature)\n",
    "            if feature.startswith('normalized_') :\n",
    "                not_normalized_feature = feature.replace(\"normalized_\", \"\")\n",
    "                list_of_features.append(not_normalized_feature)\n",
    "                \n",
    "        for i, feature in enumerate(list_of_features) :\n",
    "            truth = batch[feature][:,self.border_pix_cut:-self.border_pix_cut,self.border_pix_cut:-self.border_pix_cut]\n",
    "            model = model_output[feature]\n",
    "            loss[feature] = eval_loss(model, truth)\n",
    "            loss_grad[feature] = eval_loss(finite_diffs_sqr_2d_array(model)[:,1:-1,1:-1], finite_diffs_sqr_2d_array(truth)[:,1:-1,1:-1])\n",
    "            self.log_dict({'loss_test_'+feature : loss[feature].mean(), 'loss_grad_test_'+feature : loss_grad[feature].mean()})\n",
    "            \n",
    "    def configure_optimizers(self) :\n",
    "        optimizer = torch.optim.Adam(self.parameters(), lr=1e-3)\n",
    "        #optimizer = torch.optim.SGD(self.parameters(), lr=0.001)\n",
    "        return optimizer\n",
    "\n",
    "    def transform_input(self, batch) :\n",
    "        return torch.transpose(torch.stack([batch[key] for key in self.inputs]), 0, 1)\n",
    "\n",
    "    def transform_target(self, batch) : \n",
    "        return torch.transpose(torch.stack([batch[key][:,self.border_pix_cut:-self.border_pix_cut,self.border_pix_cut:-self.border_pix_cut] \\\n",
    "                                                for key in self.outputs]), 0, 1)"
   ]
  },
  {
   "cell_type": "markdown",
   "id": "af34d0d2-8569-42f0-8126-a5be8438486b",
   "metadata": {},
   "source": [
    "## Experiments"
   ]
  },
  {
   "cell_type": "code",
   "execution_count": 84,
   "id": "ff276ea9-3277-4de0-a44f-6d6297abc3ab",
   "metadata": {},
   "outputs": [],
   "source": [
    "model_name = 'CNN'"
   ]
  },
  {
   "cell_type": "code",
   "execution_count": 85,
   "id": "382b2075-81f9-4b75-912e-c0f3ce358101",
   "metadata": {},
   "outputs": [],
   "source": [
    "list_of_exps = ['kernel3', 'kernel5']"
   ]
  },
  {
   "cell_type": "code",
   "execution_count": 86,
   "id": "51af6973-554e-4bb9-b57b-f70b18cda63e",
   "metadata": {},
   "outputs": [],
   "source": [
    "for exp_name in list_of_exps :\n",
    "    exp[model_name][exp_name] = dict()"
   ]
  },
  {
   "cell_type": "code",
   "execution_count": 92,
   "id": "b6f299e2-6ad2-48e3-85d5-036af6f9dd53",
   "metadata": {},
   "outputs": [],
   "source": [
    "exp['CNN']['kernel3']['exp'] = Experiment(pl_class=CNN_Model_Class, \\\n",
    "                      model=CNN(2,1, padding1='valid', kernel_size=3).double(),\\\n",
    "                      label='CNN', \\\n",
    "                      version_name='kernel3_batch4_grad_loss', \\\n",
    "                      input_features=['normalized_sosstsst', 'normalized_rho_ct_ct'], \\\n",
    "                      target_features=['normalized_diff_sigma0_delta_sqr'], \n",
    "                      datamodule=datamodule,\n",
    "                      max_epochs=50, \\\n",
    "                      limit_train_batches=1.0) "
   ]
  },
  {
   "cell_type": "code",
   "execution_count": 88,
   "id": "6021f365-ce4b-4cb9-9f15-48e411308bc9",
   "metadata": {},
   "outputs": [],
   "source": [
    "exp['CNN']['kernel5']['exp'] = Experiment(pl_class=CNN_Model_Class, \\\n",
    "                      model=CNN(2, 1, padding1='valid', kernel_size=5).double(),\\\n",
    "                      label='CNN', \\\n",
    "                      version_name='kernel5_batch4_grad_loss', \\\n",
    "                      input_features=['normalized_sosstsst', 'normalized_rho_ct_ct'], \\\n",
    "                      target_features=['normalized_diff_sigma0_delta_sqr'], \n",
    "                      datamodule=datamodule,\n",
    "                      max_epochs=50, \\\n",
    "                      limit_train_batches=1.0) "
   ]
  },
  {
   "cell_type": "markdown",
   "id": "e3a5023d-ce80-4cb6-bbb9-7131af36450a",
   "metadata": {},
   "source": [
    "## Training"
   ]
  },
  {
   "cell_type": "code",
   "execution_count": 89,
   "id": "17a79e26-ea74-47d4-afd1-5aa4379309d9",
   "metadata": {},
   "outputs": [
    {
     "name": "stderr",
     "output_type": "stream",
     "text": [
      "GPU available: True (cuda), used: True\n",
      "TPU available: False, using: 0 TPU cores\n",
      "IPU available: False, using: 0 IPUs\n",
      "HPU available: False, using: 0 HPUs\n",
      "`Trainer(limit_train_batches=1.0)` was configured so 100% of the batches per epoch will be used..\n",
      "/srv/conda/envs/notebook/lib/python3.9/site-packages/pytorch_lightning/callbacks/model_checkpoint.py:616: UserWarning: Checkpoint directory /home/jovyan/oceanDataNotebooks/density_ML/logs/CNN/kernel3_batch4_grad_loss exists and is not empty.\n",
      "  rank_zero_warn(f\"Checkpoint directory {dirpath} exists and is not empty.\")\n",
      "LOCAL_RANK: 0 - CUDA_VISIBLE_DEVICES: [0]\n",
      "\n",
      "  | Name    | Type | Params\n",
      "---------------------------------\n",
      "0 | nnModel | CNN  | 112 K \n",
      "---------------------------------\n",
      "112 K     Trainable params\n",
      "0         Non-trainable params\n",
      "112 K     Total params\n",
      "0.450     Total estimated model params size (MB)\n"
     ]
    },
    {
     "data": {
      "application/vnd.jupyter.widget-view+json": {
       "model_id": "f60b2a53e3ae4e2b8aaf05f25f0676f4",
       "version_major": 2,
       "version_minor": 0
      },
      "text/plain": [
       "Sanity Checking: 0it [00:00, ?it/s]"
      ]
     },
     "metadata": {},
     "output_type": "display_data"
    },
    {
     "ename": "AttributeError",
     "evalue": "'str' object has no attribute 'startwith'",
     "output_type": "error",
     "traceback": [
      "\u001b[0;31m---------------------------------------------------------------------------\u001b[0m",
      "\u001b[0;31mAttributeError\u001b[0m                            Traceback (most recent call last)",
      "Cell \u001b[0;32mIn [89], line 1\u001b[0m\n\u001b[0;32m----> 1\u001b[0m exp[\u001b[38;5;124m'\u001b[39m\u001b[38;5;124mCNN\u001b[39m\u001b[38;5;124m'\u001b[39m][\u001b[38;5;124m'\u001b[39m\u001b[38;5;124mkernel3\u001b[39m\u001b[38;5;124m'\u001b[39m][\u001b[38;5;124m'\u001b[39m\u001b[38;5;124mexp\u001b[39m\u001b[38;5;124m'\u001b[39m]\u001b[38;5;241m.\u001b[39mrun()\n\u001b[1;32m      2\u001b[0m clear_output(wait\u001b[38;5;241m=\u001b[39m\u001b[38;5;28;01mTrue\u001b[39;00m)\n",
      "Cell \u001b[0;32mIn [29], line 28\u001b[0m, in \u001b[0;36mExperiment.run\u001b[0;34m(self)\u001b[0m\n\u001b[1;32m     22\u001b[0m \u001b[38;5;28mself\u001b[39m\u001b[38;5;241m.\u001b[39mcheckpoint_callback \u001b[38;5;241m=\u001b[39m ModelCheckpoint(dirpath\u001b[38;5;241m=\u001b[39m\u001b[38;5;28mself\u001b[39m\u001b[38;5;241m.\u001b[39mlog_directory \u001b[38;5;241m+\u001b[39m \u001b[38;5;28mself\u001b[39m\u001b[38;5;241m.\u001b[39mlabel \u001b[38;5;241m+\u001b[39m \u001b[38;5;124m\"\u001b[39m\u001b[38;5;124m/\u001b[39m\u001b[38;5;124m\"\u001b[39m \u001b[38;5;241m+\u001b[39m \u001b[38;5;28mself\u001b[39m\u001b[38;5;241m.\u001b[39mversion_name, \\\n\u001b[1;32m     23\u001b[0m                                       save_top_k\u001b[38;5;241m=\u001b[39m\u001b[38;5;241m2\u001b[39m, monitor\u001b[38;5;241m=\u001b[39m\u001b[38;5;124m\"\u001b[39m\u001b[38;5;124mloss_val\u001b[39m\u001b[38;5;124m\"\u001b[39m, save_last\u001b[38;5;241m=\u001b[39m\u001b[38;5;28;01mTrue\u001b[39;00m)\n\u001b[1;32m     25\u001b[0m \u001b[38;5;28mself\u001b[39m\u001b[38;5;241m.\u001b[39mtrainer \u001b[38;5;241m=\u001b[39m pl\u001b[38;5;241m.\u001b[39mTrainer(max_epochs\u001b[38;5;241m=\u001b[39m\u001b[38;5;28mself\u001b[39m\u001b[38;5;241m.\u001b[39mmax_epochs, logger\u001b[38;5;241m=\u001b[39m\u001b[38;5;28mself\u001b[39m\u001b[38;5;241m.\u001b[39mlogger, limit_train_batches\u001b[38;5;241m=\u001b[39m\u001b[38;5;28mself\u001b[39m\u001b[38;5;241m.\u001b[39mlimit_train_batches, \\\n\u001b[1;32m     26\u001b[0m                           callbacks\u001b[38;5;241m=\u001b[39m[EarlyStopping(monitor\u001b[38;5;241m=\u001b[39m\u001b[38;5;124m\"\u001b[39m\u001b[38;5;124mloss_val\u001b[39m\u001b[38;5;124m\"\u001b[39m, mode\u001b[38;5;241m=\u001b[39m\u001b[38;5;124m\"\u001b[39m\u001b[38;5;124mmin\u001b[39m\u001b[38;5;124m\"\u001b[39m), \u001b[38;5;28mself\u001b[39m\u001b[38;5;241m.\u001b[39mcheckpoint_callback],\\\n\u001b[1;32m     27\u001b[0m                           accelerator\u001b[38;5;241m=\u001b[39m\u001b[38;5;124m'\u001b[39m\u001b[38;5;124mgpu\u001b[39m\u001b[38;5;124m'\u001b[39m, devices\u001b[38;5;241m=\u001b[39m(\u001b[38;5;241m1\u001b[39m \u001b[38;5;28;01mif\u001b[39;00m torch\u001b[38;5;241m.\u001b[39mcuda\u001b[38;5;241m.\u001b[39mis_available() \u001b[38;5;28;01melse\u001b[39;00m \u001b[38;5;28;01mNone\u001b[39;00m))  \n\u001b[0;32m---> 28\u001b[0m \u001b[38;5;28;43mself\u001b[39;49m\u001b[38;5;241;43m.\u001b[39;49m\u001b[43mtrainer\u001b[49m\u001b[38;5;241;43m.\u001b[39;49m\u001b[43mfit\u001b[49m\u001b[43m(\u001b[49m\u001b[43mmodel\u001b[49m\u001b[43m \u001b[49m\u001b[38;5;241;43m=\u001b[39;49m\u001b[43m \u001b[49m\u001b[38;5;28;43mself\u001b[39;49m\u001b[38;5;241;43m.\u001b[39;49m\u001b[43mNN\u001b[49m\u001b[43m,\u001b[49m\u001b[43m \u001b[49m\u001b[43mdatamodule\u001b[49m\u001b[38;5;241;43m=\u001b[39;49m\u001b[38;5;28;43mself\u001b[39;49m\u001b[38;5;241;43m.\u001b[39;49m\u001b[43mdatamodule\u001b[49m\u001b[43m)\u001b[49m\n\u001b[1;32m     29\u001b[0m \u001b[38;5;28mself\u001b[39m\u001b[38;5;241m.\u001b[39mlogs \u001b[38;5;241m=\u001b[39m get_logs_from_tb(exp_name\u001b[38;5;241m=\u001b[39m\u001b[38;5;28mself\u001b[39m\u001b[38;5;241m.\u001b[39mlabel, version_name\u001b[38;5;241m=\u001b[39m\u001b[38;5;28mself\u001b[39m\u001b[38;5;241m.\u001b[39mversion_name, directory\u001b[38;5;241m=\u001b[39m\u001b[38;5;28mself\u001b[39m\u001b[38;5;241m.\u001b[39mlog_directory)\n",
      "File \u001b[0;32m/srv/conda/envs/notebook/lib/python3.9/site-packages/pytorch_lightning/trainer/trainer.py:696\u001b[0m, in \u001b[0;36mTrainer.fit\u001b[0;34m(self, model, train_dataloaders, val_dataloaders, datamodule, ckpt_path)\u001b[0m\n\u001b[1;32m    677\u001b[0m \u001b[38;5;124mr\u001b[39m\u001b[38;5;124;03m\"\"\"\u001b[39;00m\n\u001b[1;32m    678\u001b[0m \u001b[38;5;124;03mRuns the full optimization routine.\u001b[39;00m\n\u001b[1;32m    679\u001b[0m \n\u001b[0;32m   (...)\u001b[0m\n\u001b[1;32m    693\u001b[0m \u001b[38;5;124;03m    datamodule: An instance of :class:`~pytorch_lightning.core.datamodule.LightningDataModule`.\u001b[39;00m\n\u001b[1;32m    694\u001b[0m \u001b[38;5;124;03m\"\"\"\u001b[39;00m\n\u001b[1;32m    695\u001b[0m \u001b[38;5;28mself\u001b[39m\u001b[38;5;241m.\u001b[39mstrategy\u001b[38;5;241m.\u001b[39mmodel \u001b[38;5;241m=\u001b[39m model\n\u001b[0;32m--> 696\u001b[0m \u001b[38;5;28;43mself\u001b[39;49m\u001b[38;5;241;43m.\u001b[39;49m\u001b[43m_call_and_handle_interrupt\u001b[49m\u001b[43m(\u001b[49m\n\u001b[1;32m    697\u001b[0m \u001b[43m    \u001b[49m\u001b[38;5;28;43mself\u001b[39;49m\u001b[38;5;241;43m.\u001b[39;49m\u001b[43m_fit_impl\u001b[49m\u001b[43m,\u001b[49m\u001b[43m \u001b[49m\u001b[43mmodel\u001b[49m\u001b[43m,\u001b[49m\u001b[43m \u001b[49m\u001b[43mtrain_dataloaders\u001b[49m\u001b[43m,\u001b[49m\u001b[43m \u001b[49m\u001b[43mval_dataloaders\u001b[49m\u001b[43m,\u001b[49m\u001b[43m \u001b[49m\u001b[43mdatamodule\u001b[49m\u001b[43m,\u001b[49m\u001b[43m \u001b[49m\u001b[43mckpt_path\u001b[49m\n\u001b[1;32m    698\u001b[0m \u001b[43m\u001b[49m\u001b[43m)\u001b[49m\n",
      "File \u001b[0;32m/srv/conda/envs/notebook/lib/python3.9/site-packages/pytorch_lightning/trainer/trainer.py:650\u001b[0m, in \u001b[0;36mTrainer._call_and_handle_interrupt\u001b[0;34m(self, trainer_fn, *args, **kwargs)\u001b[0m\n\u001b[1;32m    648\u001b[0m         \u001b[38;5;28;01mreturn\u001b[39;00m \u001b[38;5;28mself\u001b[39m\u001b[38;5;241m.\u001b[39mstrategy\u001b[38;5;241m.\u001b[39mlauncher\u001b[38;5;241m.\u001b[39mlaunch(trainer_fn, \u001b[38;5;241m*\u001b[39margs, trainer\u001b[38;5;241m=\u001b[39m\u001b[38;5;28mself\u001b[39m, \u001b[38;5;241m*\u001b[39m\u001b[38;5;241m*\u001b[39mkwargs)\n\u001b[1;32m    649\u001b[0m     \u001b[38;5;28;01melse\u001b[39;00m:\n\u001b[0;32m--> 650\u001b[0m         \u001b[38;5;28;01mreturn\u001b[39;00m \u001b[43mtrainer_fn\u001b[49m\u001b[43m(\u001b[49m\u001b[38;5;241;43m*\u001b[39;49m\u001b[43margs\u001b[49m\u001b[43m,\u001b[49m\u001b[43m \u001b[49m\u001b[38;5;241;43m*\u001b[39;49m\u001b[38;5;241;43m*\u001b[39;49m\u001b[43mkwargs\u001b[49m\u001b[43m)\u001b[49m\n\u001b[1;32m    651\u001b[0m \u001b[38;5;66;03m# TODO(awaelchli): Unify both exceptions below, where `KeyboardError` doesn't re-raise\u001b[39;00m\n\u001b[1;32m    652\u001b[0m \u001b[38;5;28;01mexcept\u001b[39;00m \u001b[38;5;167;01mKeyboardInterrupt\u001b[39;00m \u001b[38;5;28;01mas\u001b[39;00m exception:\n",
      "File \u001b[0;32m/srv/conda/envs/notebook/lib/python3.9/site-packages/pytorch_lightning/trainer/trainer.py:735\u001b[0m, in \u001b[0;36mTrainer._fit_impl\u001b[0;34m(self, model, train_dataloaders, val_dataloaders, datamodule, ckpt_path)\u001b[0m\n\u001b[1;32m    731\u001b[0m ckpt_path \u001b[38;5;241m=\u001b[39m ckpt_path \u001b[38;5;129;01mor\u001b[39;00m \u001b[38;5;28mself\u001b[39m\u001b[38;5;241m.\u001b[39mresume_from_checkpoint\n\u001b[1;32m    732\u001b[0m \u001b[38;5;28mself\u001b[39m\u001b[38;5;241m.\u001b[39m_ckpt_path \u001b[38;5;241m=\u001b[39m \u001b[38;5;28mself\u001b[39m\u001b[38;5;241m.\u001b[39m__set_ckpt_path(\n\u001b[1;32m    733\u001b[0m     ckpt_path, model_provided\u001b[38;5;241m=\u001b[39m\u001b[38;5;28;01mTrue\u001b[39;00m, model_connected\u001b[38;5;241m=\u001b[39m\u001b[38;5;28mself\u001b[39m\u001b[38;5;241m.\u001b[39mlightning_module \u001b[38;5;129;01mis\u001b[39;00m \u001b[38;5;129;01mnot\u001b[39;00m \u001b[38;5;28;01mNone\u001b[39;00m\n\u001b[1;32m    734\u001b[0m )\n\u001b[0;32m--> 735\u001b[0m results \u001b[38;5;241m=\u001b[39m \u001b[38;5;28;43mself\u001b[39;49m\u001b[38;5;241;43m.\u001b[39;49m\u001b[43m_run\u001b[49m\u001b[43m(\u001b[49m\u001b[43mmodel\u001b[49m\u001b[43m,\u001b[49m\u001b[43m \u001b[49m\u001b[43mckpt_path\u001b[49m\u001b[38;5;241;43m=\u001b[39;49m\u001b[38;5;28;43mself\u001b[39;49m\u001b[38;5;241;43m.\u001b[39;49m\u001b[43mckpt_path\u001b[49m\u001b[43m)\u001b[49m\n\u001b[1;32m    737\u001b[0m \u001b[38;5;28;01massert\u001b[39;00m \u001b[38;5;28mself\u001b[39m\u001b[38;5;241m.\u001b[39mstate\u001b[38;5;241m.\u001b[39mstopped\n\u001b[1;32m    738\u001b[0m \u001b[38;5;28mself\u001b[39m\u001b[38;5;241m.\u001b[39mtraining \u001b[38;5;241m=\u001b[39m \u001b[38;5;28;01mFalse\u001b[39;00m\n",
      "File \u001b[0;32m/srv/conda/envs/notebook/lib/python3.9/site-packages/pytorch_lightning/trainer/trainer.py:1166\u001b[0m, in \u001b[0;36mTrainer._run\u001b[0;34m(self, model, ckpt_path)\u001b[0m\n\u001b[1;32m   1162\u001b[0m \u001b[38;5;28mself\u001b[39m\u001b[38;5;241m.\u001b[39m_checkpoint_connector\u001b[38;5;241m.\u001b[39mrestore_training_state()\n\u001b[1;32m   1164\u001b[0m \u001b[38;5;28mself\u001b[39m\u001b[38;5;241m.\u001b[39m_checkpoint_connector\u001b[38;5;241m.\u001b[39mresume_end()\n\u001b[0;32m-> 1166\u001b[0m results \u001b[38;5;241m=\u001b[39m \u001b[38;5;28;43mself\u001b[39;49m\u001b[38;5;241;43m.\u001b[39;49m\u001b[43m_run_stage\u001b[49m\u001b[43m(\u001b[49m\u001b[43m)\u001b[49m\n\u001b[1;32m   1168\u001b[0m log\u001b[38;5;241m.\u001b[39mdetail(\u001b[38;5;124mf\u001b[39m\u001b[38;5;124m\"\u001b[39m\u001b[38;5;132;01m{\u001b[39;00m\u001b[38;5;28mself\u001b[39m\u001b[38;5;241m.\u001b[39m\u001b[38;5;18m__class__\u001b[39m\u001b[38;5;241m.\u001b[39m\u001b[38;5;18m__name__\u001b[39m\u001b[38;5;132;01m}\u001b[39;00m\u001b[38;5;124m: trainer tearing down\u001b[39m\u001b[38;5;124m\"\u001b[39m)\n\u001b[1;32m   1169\u001b[0m \u001b[38;5;28mself\u001b[39m\u001b[38;5;241m.\u001b[39m_teardown()\n",
      "File \u001b[0;32m/srv/conda/envs/notebook/lib/python3.9/site-packages/pytorch_lightning/trainer/trainer.py:1252\u001b[0m, in \u001b[0;36mTrainer._run_stage\u001b[0;34m(self)\u001b[0m\n\u001b[1;32m   1250\u001b[0m \u001b[38;5;28;01mif\u001b[39;00m \u001b[38;5;28mself\u001b[39m\u001b[38;5;241m.\u001b[39mpredicting:\n\u001b[1;32m   1251\u001b[0m     \u001b[38;5;28;01mreturn\u001b[39;00m \u001b[38;5;28mself\u001b[39m\u001b[38;5;241m.\u001b[39m_run_predict()\n\u001b[0;32m-> 1252\u001b[0m \u001b[38;5;28;01mreturn\u001b[39;00m \u001b[38;5;28;43mself\u001b[39;49m\u001b[38;5;241;43m.\u001b[39;49m\u001b[43m_run_train\u001b[49m\u001b[43m(\u001b[49m\u001b[43m)\u001b[49m\n",
      "File \u001b[0;32m/srv/conda/envs/notebook/lib/python3.9/site-packages/pytorch_lightning/trainer/trainer.py:1274\u001b[0m, in \u001b[0;36mTrainer._run_train\u001b[0;34m(self)\u001b[0m\n\u001b[1;32m   1271\u001b[0m \u001b[38;5;28mself\u001b[39m\u001b[38;5;241m.\u001b[39m_pre_training_routine()\n\u001b[1;32m   1273\u001b[0m \u001b[38;5;28;01mwith\u001b[39;00m isolate_rng():\n\u001b[0;32m-> 1274\u001b[0m     \u001b[38;5;28;43mself\u001b[39;49m\u001b[38;5;241;43m.\u001b[39;49m\u001b[43m_run_sanity_check\u001b[49m\u001b[43m(\u001b[49m\u001b[43m)\u001b[49m\n\u001b[1;32m   1276\u001b[0m \u001b[38;5;66;03m# enable train mode\u001b[39;00m\n\u001b[1;32m   1277\u001b[0m \u001b[38;5;28mself\u001b[39m\u001b[38;5;241m.\u001b[39mmodel\u001b[38;5;241m.\u001b[39mtrain()\n",
      "File \u001b[0;32m/srv/conda/envs/notebook/lib/python3.9/site-packages/pytorch_lightning/trainer/trainer.py:1343\u001b[0m, in \u001b[0;36mTrainer._run_sanity_check\u001b[0;34m(self)\u001b[0m\n\u001b[1;32m   1341\u001b[0m \u001b[38;5;66;03m# run eval step\u001b[39;00m\n\u001b[1;32m   1342\u001b[0m \u001b[38;5;28;01mwith\u001b[39;00m torch\u001b[38;5;241m.\u001b[39mno_grad():\n\u001b[0;32m-> 1343\u001b[0m     \u001b[43mval_loop\u001b[49m\u001b[38;5;241;43m.\u001b[39;49m\u001b[43mrun\u001b[49m\u001b[43m(\u001b[49m\u001b[43m)\u001b[49m\n\u001b[1;32m   1345\u001b[0m \u001b[38;5;28mself\u001b[39m\u001b[38;5;241m.\u001b[39m_call_callback_hooks(\u001b[38;5;124m\"\u001b[39m\u001b[38;5;124mon_sanity_check_end\u001b[39m\u001b[38;5;124m\"\u001b[39m)\n\u001b[1;32m   1347\u001b[0m \u001b[38;5;66;03m# reset logger connector\u001b[39;00m\n",
      "File \u001b[0;32m/srv/conda/envs/notebook/lib/python3.9/site-packages/pytorch_lightning/loops/loop.py:200\u001b[0m, in \u001b[0;36mLoop.run\u001b[0;34m(self, *args, **kwargs)\u001b[0m\n\u001b[1;32m    198\u001b[0m \u001b[38;5;28;01mtry\u001b[39;00m:\n\u001b[1;32m    199\u001b[0m     \u001b[38;5;28mself\u001b[39m\u001b[38;5;241m.\u001b[39mon_advance_start(\u001b[38;5;241m*\u001b[39margs, \u001b[38;5;241m*\u001b[39m\u001b[38;5;241m*\u001b[39mkwargs)\n\u001b[0;32m--> 200\u001b[0m     \u001b[38;5;28;43mself\u001b[39;49m\u001b[38;5;241;43m.\u001b[39;49m\u001b[43madvance\u001b[49m\u001b[43m(\u001b[49m\u001b[38;5;241;43m*\u001b[39;49m\u001b[43margs\u001b[49m\u001b[43m,\u001b[49m\u001b[43m \u001b[49m\u001b[38;5;241;43m*\u001b[39;49m\u001b[38;5;241;43m*\u001b[39;49m\u001b[43mkwargs\u001b[49m\u001b[43m)\u001b[49m\n\u001b[1;32m    201\u001b[0m     \u001b[38;5;28mself\u001b[39m\u001b[38;5;241m.\u001b[39mon_advance_end()\n\u001b[1;32m    202\u001b[0m     \u001b[38;5;28mself\u001b[39m\u001b[38;5;241m.\u001b[39m_restarting \u001b[38;5;241m=\u001b[39m \u001b[38;5;28;01mFalse\u001b[39;00m\n",
      "File \u001b[0;32m/srv/conda/envs/notebook/lib/python3.9/site-packages/pytorch_lightning/loops/dataloader/evaluation_loop.py:155\u001b[0m, in \u001b[0;36mEvaluationLoop.advance\u001b[0;34m(self, *args, **kwargs)\u001b[0m\n\u001b[1;32m    153\u001b[0m \u001b[38;5;28;01mif\u001b[39;00m \u001b[38;5;28mself\u001b[39m\u001b[38;5;241m.\u001b[39mnum_dataloaders \u001b[38;5;241m>\u001b[39m \u001b[38;5;241m1\u001b[39m:\n\u001b[1;32m    154\u001b[0m     kwargs[\u001b[38;5;124m\"\u001b[39m\u001b[38;5;124mdataloader_idx\u001b[39m\u001b[38;5;124m\"\u001b[39m] \u001b[38;5;241m=\u001b[39m dataloader_idx\n\u001b[0;32m--> 155\u001b[0m dl_outputs \u001b[38;5;241m=\u001b[39m \u001b[38;5;28;43mself\u001b[39;49m\u001b[38;5;241;43m.\u001b[39;49m\u001b[43mepoch_loop\u001b[49m\u001b[38;5;241;43m.\u001b[39;49m\u001b[43mrun\u001b[49m\u001b[43m(\u001b[49m\u001b[38;5;28;43mself\u001b[39;49m\u001b[38;5;241;43m.\u001b[39;49m\u001b[43m_data_fetcher\u001b[49m\u001b[43m,\u001b[49m\u001b[43m \u001b[49m\u001b[43mdl_max_batches\u001b[49m\u001b[43m,\u001b[49m\u001b[43m \u001b[49m\u001b[43mkwargs\u001b[49m\u001b[43m)\u001b[49m\n\u001b[1;32m    157\u001b[0m \u001b[38;5;66;03m# store batch level output per dataloader\u001b[39;00m\n\u001b[1;32m    158\u001b[0m \u001b[38;5;28mself\u001b[39m\u001b[38;5;241m.\u001b[39m_outputs\u001b[38;5;241m.\u001b[39mappend(dl_outputs)\n",
      "File \u001b[0;32m/srv/conda/envs/notebook/lib/python3.9/site-packages/pytorch_lightning/loops/loop.py:200\u001b[0m, in \u001b[0;36mLoop.run\u001b[0;34m(self, *args, **kwargs)\u001b[0m\n\u001b[1;32m    198\u001b[0m \u001b[38;5;28;01mtry\u001b[39;00m:\n\u001b[1;32m    199\u001b[0m     \u001b[38;5;28mself\u001b[39m\u001b[38;5;241m.\u001b[39mon_advance_start(\u001b[38;5;241m*\u001b[39margs, \u001b[38;5;241m*\u001b[39m\u001b[38;5;241m*\u001b[39mkwargs)\n\u001b[0;32m--> 200\u001b[0m     \u001b[38;5;28;43mself\u001b[39;49m\u001b[38;5;241;43m.\u001b[39;49m\u001b[43madvance\u001b[49m\u001b[43m(\u001b[49m\u001b[38;5;241;43m*\u001b[39;49m\u001b[43margs\u001b[49m\u001b[43m,\u001b[49m\u001b[43m \u001b[49m\u001b[38;5;241;43m*\u001b[39;49m\u001b[38;5;241;43m*\u001b[39;49m\u001b[43mkwargs\u001b[49m\u001b[43m)\u001b[49m\n\u001b[1;32m    201\u001b[0m     \u001b[38;5;28mself\u001b[39m\u001b[38;5;241m.\u001b[39mon_advance_end()\n\u001b[1;32m    202\u001b[0m     \u001b[38;5;28mself\u001b[39m\u001b[38;5;241m.\u001b[39m_restarting \u001b[38;5;241m=\u001b[39m \u001b[38;5;28;01mFalse\u001b[39;00m\n",
      "File \u001b[0;32m/srv/conda/envs/notebook/lib/python3.9/site-packages/pytorch_lightning/loops/epoch/evaluation_epoch_loop.py:143\u001b[0m, in \u001b[0;36mEvaluationEpochLoop.advance\u001b[0;34m(self, data_fetcher, dl_max_batches, kwargs)\u001b[0m\n\u001b[1;32m    140\u001b[0m \u001b[38;5;28mself\u001b[39m\u001b[38;5;241m.\u001b[39mbatch_progress\u001b[38;5;241m.\u001b[39mincrement_started()\n\u001b[1;32m    142\u001b[0m \u001b[38;5;66;03m# lightning module methods\u001b[39;00m\n\u001b[0;32m--> 143\u001b[0m output \u001b[38;5;241m=\u001b[39m \u001b[38;5;28;43mself\u001b[39;49m\u001b[38;5;241;43m.\u001b[39;49m\u001b[43m_evaluation_step\u001b[49m\u001b[43m(\u001b[49m\u001b[38;5;241;43m*\u001b[39;49m\u001b[38;5;241;43m*\u001b[39;49m\u001b[43mkwargs\u001b[49m\u001b[43m)\u001b[49m\n\u001b[1;32m    144\u001b[0m output \u001b[38;5;241m=\u001b[39m \u001b[38;5;28mself\u001b[39m\u001b[38;5;241m.\u001b[39m_evaluation_step_end(output)\n\u001b[1;32m    146\u001b[0m \u001b[38;5;28mself\u001b[39m\u001b[38;5;241m.\u001b[39mbatch_progress\u001b[38;5;241m.\u001b[39mincrement_processed()\n",
      "File \u001b[0;32m/srv/conda/envs/notebook/lib/python3.9/site-packages/pytorch_lightning/loops/epoch/evaluation_epoch_loop.py:240\u001b[0m, in \u001b[0;36mEvaluationEpochLoop._evaluation_step\u001b[0;34m(self, **kwargs)\u001b[0m\n\u001b[1;32m    229\u001b[0m \u001b[38;5;124;03m\"\"\"The evaluation step (validation_step or test_step depending on the trainer's state).\u001b[39;00m\n\u001b[1;32m    230\u001b[0m \n\u001b[1;32m    231\u001b[0m \u001b[38;5;124;03mArgs:\u001b[39;00m\n\u001b[0;32m   (...)\u001b[0m\n\u001b[1;32m    237\u001b[0m \u001b[38;5;124;03m    the outputs of the step\u001b[39;00m\n\u001b[1;32m    238\u001b[0m \u001b[38;5;124;03m\"\"\"\u001b[39;00m\n\u001b[1;32m    239\u001b[0m hook_name \u001b[38;5;241m=\u001b[39m \u001b[38;5;124m\"\u001b[39m\u001b[38;5;124mtest_step\u001b[39m\u001b[38;5;124m\"\u001b[39m \u001b[38;5;28;01mif\u001b[39;00m \u001b[38;5;28mself\u001b[39m\u001b[38;5;241m.\u001b[39mtrainer\u001b[38;5;241m.\u001b[39mtesting \u001b[38;5;28;01melse\u001b[39;00m \u001b[38;5;124m\"\u001b[39m\u001b[38;5;124mvalidation_step\u001b[39m\u001b[38;5;124m\"\u001b[39m\n\u001b[0;32m--> 240\u001b[0m output \u001b[38;5;241m=\u001b[39m \u001b[38;5;28;43mself\u001b[39;49m\u001b[38;5;241;43m.\u001b[39;49m\u001b[43mtrainer\u001b[49m\u001b[38;5;241;43m.\u001b[39;49m\u001b[43m_call_strategy_hook\u001b[49m\u001b[43m(\u001b[49m\u001b[43mhook_name\u001b[49m\u001b[43m,\u001b[49m\u001b[43m \u001b[49m\u001b[38;5;241;43m*\u001b[39;49m\u001b[43mkwargs\u001b[49m\u001b[38;5;241;43m.\u001b[39;49m\u001b[43mvalues\u001b[49m\u001b[43m(\u001b[49m\u001b[43m)\u001b[49m\u001b[43m)\u001b[49m\n\u001b[1;32m    242\u001b[0m \u001b[38;5;28;01mreturn\u001b[39;00m output\n",
      "File \u001b[0;32m/srv/conda/envs/notebook/lib/python3.9/site-packages/pytorch_lightning/trainer/trainer.py:1704\u001b[0m, in \u001b[0;36mTrainer._call_strategy_hook\u001b[0;34m(self, hook_name, *args, **kwargs)\u001b[0m\n\u001b[1;32m   1701\u001b[0m     \u001b[38;5;28;01mreturn\u001b[39;00m\n\u001b[1;32m   1703\u001b[0m \u001b[38;5;28;01mwith\u001b[39;00m \u001b[38;5;28mself\u001b[39m\u001b[38;5;241m.\u001b[39mprofiler\u001b[38;5;241m.\u001b[39mprofile(\u001b[38;5;124mf\u001b[39m\u001b[38;5;124m\"\u001b[39m\u001b[38;5;124m[Strategy]\u001b[39m\u001b[38;5;132;01m{\u001b[39;00m\u001b[38;5;28mself\u001b[39m\u001b[38;5;241m.\u001b[39mstrategy\u001b[38;5;241m.\u001b[39m\u001b[38;5;18m__class__\u001b[39m\u001b[38;5;241m.\u001b[39m\u001b[38;5;18m__name__\u001b[39m\u001b[38;5;132;01m}\u001b[39;00m\u001b[38;5;124m.\u001b[39m\u001b[38;5;132;01m{\u001b[39;00mhook_name\u001b[38;5;132;01m}\u001b[39;00m\u001b[38;5;124m\"\u001b[39m):\n\u001b[0;32m-> 1704\u001b[0m     output \u001b[38;5;241m=\u001b[39m \u001b[43mfn\u001b[49m\u001b[43m(\u001b[49m\u001b[38;5;241;43m*\u001b[39;49m\u001b[43margs\u001b[49m\u001b[43m,\u001b[49m\u001b[43m \u001b[49m\u001b[38;5;241;43m*\u001b[39;49m\u001b[38;5;241;43m*\u001b[39;49m\u001b[43mkwargs\u001b[49m\u001b[43m)\u001b[49m\n\u001b[1;32m   1706\u001b[0m \u001b[38;5;66;03m# restore current_fx when nested context\u001b[39;00m\n\u001b[1;32m   1707\u001b[0m pl_module\u001b[38;5;241m.\u001b[39m_current_fx_name \u001b[38;5;241m=\u001b[39m prev_fx_name\n",
      "File \u001b[0;32m/srv/conda/envs/notebook/lib/python3.9/site-packages/pytorch_lightning/strategies/strategy.py:370\u001b[0m, in \u001b[0;36mStrategy.validation_step\u001b[0;34m(self, *args, **kwargs)\u001b[0m\n\u001b[1;32m    368\u001b[0m \u001b[38;5;28;01mwith\u001b[39;00m \u001b[38;5;28mself\u001b[39m\u001b[38;5;241m.\u001b[39mprecision_plugin\u001b[38;5;241m.\u001b[39mval_step_context():\n\u001b[1;32m    369\u001b[0m     \u001b[38;5;28;01massert\u001b[39;00m \u001b[38;5;28misinstance\u001b[39m(\u001b[38;5;28mself\u001b[39m\u001b[38;5;241m.\u001b[39mmodel, ValidationStep)\n\u001b[0;32m--> 370\u001b[0m     \u001b[38;5;28;01mreturn\u001b[39;00m \u001b[38;5;28;43mself\u001b[39;49m\u001b[38;5;241;43m.\u001b[39;49m\u001b[43mmodel\u001b[49m\u001b[38;5;241;43m.\u001b[39;49m\u001b[43mvalidation_step\u001b[49m\u001b[43m(\u001b[49m\u001b[38;5;241;43m*\u001b[39;49m\u001b[43margs\u001b[49m\u001b[43m,\u001b[49m\u001b[43m \u001b[49m\u001b[38;5;241;43m*\u001b[39;49m\u001b[38;5;241;43m*\u001b[39;49m\u001b[43mkwargs\u001b[49m\u001b[43m)\u001b[49m\n",
      "Cell \u001b[0;32mIn [83], line 21\u001b[0m, in \u001b[0;36mCNN_Model_Class.validation_step\u001b[0;34m(self, batch, batch_idx)\u001b[0m\n\u001b[1;32m     19\u001b[0m \u001b[38;5;28;01mdef\u001b[39;00m \u001b[38;5;21mvalidation_step\u001b[39m(\u001b[38;5;28mself\u001b[39m, batch, batch_idx) :\n\u001b[1;32m     20\u001b[0m     x \u001b[38;5;241m=\u001b[39m \u001b[38;5;28mself\u001b[39m\u001b[38;5;241m.\u001b[39mtransform_input(batch)\n\u001b[0;32m---> 21\u001b[0m     y_true \u001b[38;5;241m=\u001b[39m \u001b[38;5;28;43mself\u001b[39;49m\u001b[38;5;241;43m.\u001b[39;49m\u001b[43mtransform_target\u001b[49m\u001b[43m(\u001b[49m\u001b[43mbatch\u001b[49m\u001b[43m)\u001b[49m\n\u001b[1;32m     22\u001b[0m     y_model \u001b[38;5;241m=\u001b[39m \u001b[38;5;28mself\u001b[39m\u001b[38;5;241m.\u001b[39mnnModel(x)\n\u001b[1;32m     23\u001b[0m     loss \u001b[38;5;241m=\u001b[39m torch\u001b[38;5;241m.\u001b[39mnn\u001b[38;5;241m.\u001b[39mfunctional\u001b[38;5;241m.\u001b[39mmse_loss(y_model, y_true)  \n",
      "Cell \u001b[0;32mIn [83], line 75\u001b[0m, in \u001b[0;36mCNN_Model_Class.transform_target\u001b[0;34m(self, batch)\u001b[0m\n\u001b[1;32m     73\u001b[0m \u001b[38;5;28;01mif\u001b[39;00m \u001b[38;5;28mself\u001b[39m\u001b[38;5;241m.\u001b[39mnnModel\u001b[38;5;241m.\u001b[39mpadding \u001b[38;5;241m==\u001b[39m \u001b[38;5;124m'\u001b[39m\u001b[38;5;124mvalid\u001b[39m\u001b[38;5;124m'\u001b[39m :\n\u001b[1;32m     74\u001b[0m     border_pix_cut \u001b[38;5;241m=\u001b[39m \u001b[38;5;28mself\u001b[39m\u001b[38;5;241m.\u001b[39mnnModel\u001b[38;5;241m.\u001b[39mkernel_size\u001b[38;5;241m/\u001b[39m\u001b[38;5;241m/\u001b[39m\u001b[38;5;241m2\u001b[39m\n\u001b[0;32m---> 75\u001b[0m \u001b[38;5;28;01mif\u001b[39;00m \u001b[38;5;28;43mself\u001b[39;49m\u001b[38;5;241;43m.\u001b[39;49m\u001b[43moutputs\u001b[49m\u001b[43m[\u001b[49m\u001b[38;5;241;43m0\u001b[39;49m\u001b[43m]\u001b[49m\u001b[38;5;241;43m.\u001b[39;49m\u001b[43mstartwith\u001b[49m(\u001b[38;5;124m'\u001b[39m\u001b[38;5;124mdiff_\u001b[39m\u001b[38;5;124m'\u001b[39m) \u001b[38;5;129;01mor\u001b[39;00m \u001b[38;5;28mself\u001b[39m\u001b[38;5;241m.\u001b[39moutputs[\u001b[38;5;241m0\u001b[39m]\u001b[38;5;241m.\u001b[39mstartwith(\u001b[38;5;124m'\u001b[39m\u001b[38;5;124mnormalized_diff_\u001b[39m\u001b[38;5;124m'\u001b[39m) :\n\u001b[1;32m     76\u001b[0m     border_pix_cut\u001b[38;5;241m+\u001b[39m\u001b[38;5;241m=\u001b[39m\u001b[38;5;241m1\u001b[39m\n\u001b[1;32m     77\u001b[0m \u001b[38;5;28;01mreturn\u001b[39;00m torch\u001b[38;5;241m.\u001b[39mtranspose(torch\u001b[38;5;241m.\u001b[39mstack([batch[key][:,border_pix_cut:\u001b[38;5;241m-\u001b[39mborder_pix_cut,border_pix_cut:\u001b[38;5;241m-\u001b[39mborder_pix_cut] \\\n\u001b[1;32m     78\u001b[0m                                         \u001b[38;5;28;01mfor\u001b[39;00m key \u001b[38;5;129;01min\u001b[39;00m \u001b[38;5;28mself\u001b[39m\u001b[38;5;241m.\u001b[39moutputs]), \u001b[38;5;241m0\u001b[39m, \u001b[38;5;241m1\u001b[39m)\n",
      "\u001b[0;31mAttributeError\u001b[0m: 'str' object has no attribute 'startwith'"
     ]
    }
   ],
   "source": [
    "exp['CNN']['kernel3']['exp'].run()\n",
    "clear_output(wait=True)"
   ]
  },
  {
   "cell_type": "code",
   "execution_count": 57,
   "id": "cf7c4f58-d798-4905-bf27-a5706b1bd962",
   "metadata": {},
   "outputs": [],
   "source": [
    "exp['CNN']['kernel5']['exp'].run()\n",
    "clear_output(wait=True)"
   ]
  },
  {
   "cell_type": "code",
   "execution_count": 58,
   "id": "0d62fad3-9fef-425e-84e7-7b042dd1ad41",
   "metadata": {},
   "outputs": [
    {
     "name": "stdout",
     "output_type": "stream",
     "text": [
      "logs//CNN/kernel3_batch4_grad_loss/events.out.tfevents.1665681103.jupyter-anastasiagor.8118.2\n",
      "logs//CNN/kernel5_batch4_grad_loss/events.out.tfevents.1665681368.jupyter-anastasiagor.8118.3\n"
     ]
    },
    {
     "data": {
      "image/png": "[encoded data removed]",
      "text/plain": [
       "<Figure size 1000x350 with 2 Axes>"
      ]
     },
     "metadata": {},
     "output_type": "display_data"
    }
   ],
   "source": [
    "fig, ax = plt.subplots(1, 2, constrained_layout=True, figsize=(10, 3.5))\n",
    "exp_model = exp['CNN']\n",
    "\n",
    "for i, exp_name in enumerate(['kernel3', 'kernel5']) :\n",
    "    experiment = exp_model[exp_name]['exp']\n",
    "    experiment.get_logs()\n",
    "    ax[0].plot(experiment.logs['loss_train'], color=list(mcolors.TABLEAU_COLORS.values())[0], \\\n",
    "               ls=line_styles[i], marker='.', label='Training ' + exp_name)\n",
    "    ax[0].plot(experiment.logs['loss_val'], color=list(mcolors.TABLEAU_COLORS.values())[1], \\\n",
    "               ls=line_styles[i], marker='.', label='Validation ' + exp_name)\n",
    "ax[0].set(xlabel='Epoch', ylabel='MSE'); ax[0].grid(True)\n",
    "ax[0].set(ylabel='MSE')\n",
    "ax[0].legend(bbox_to_anchor=(1.05, 1), loc='upper left')\n",
    "plt.show()"
   ]
  },
  {
   "cell_type": "markdown",
   "id": "8114268f-9bf0-4847-b33f-1ffab1fc9d84",
   "metadata": {},
   "source": [
    "# Compare results"
   ]
  },
  {
   "cell_type": "code",
   "execution_count": 59,
   "id": "cf4e2f98-3bf2-4a48-8096-0e8b3b554655",
   "metadata": {},
   "outputs": [
    {
     "name": "stdout",
     "output_type": "stream",
     "text": [
      "CPU times: user 4 µs, sys: 0 ns, total: 4 µs\n",
      "Wall time: 8.58 µs\n"
     ]
    }
   ],
   "source": [
    "%%time\n",
    "test_datamodule = datamodule"
   ]
  },
  {
   "cell_type": "code",
   "execution_count": 60,
   "id": "4a375163-e540-439d-8a83-c1e5915a11ab",
   "metadata": {},
   "outputs": [],
   "source": [
    "list_of_models = ['LinReg']"
   ]
  },
  {
   "cell_type": "code",
   "execution_count": 61,
   "id": "04b24f7f-dd2b-480b-ba7e-b53af440aa84",
   "metadata": {},
   "outputs": [
    {
     "name": "stderr",
     "output_type": "stream",
     "text": [
      "GPU available: True (cuda), used: True\n",
      "TPU available: False, using: 0 TPU cores\n",
      "IPU available: False, using: 0 IPUs\n",
      "HPU available: False, using: 0 HPUs\n"
     ]
    },
    {
     "name": "stdout",
     "output_type": "stream",
     "text": [
      "LinReg train_full\n"
     ]
    },
    {
     "name": "stderr",
     "output_type": "stream",
     "text": [
      "LOCAL_RANK: 0 - CUDA_VISIBLE_DEVICES: [0]\n"
     ]
    },
    {
     "data": {
      "application/vnd.jupyter.widget-view+json": {
       "model_id": "a1c964dd42574b4fa8620360c27752f3",
       "version_major": 2,
       "version_minor": 0
      },
      "text/plain": [
       "Testing: 0it [00:00, ?it/s]"
      ]
     },
     "metadata": {},
     "output_type": "display_data"
    },
    {
     "name": "stdout",
     "output_type": "stream",
     "text": [
      "────────────────────────────────────────────────────────────────────────────────────────────────────────────────────────\n",
      "             Test metric                           DataLoader 0                          DataLoader 1\n",
      "────────────────────────────────────────────────────────────────────────────────────────────────────────────────────────\n",
      "loss_grad_test_normalized_sigma0_delta          4.638755254801249                     4.654347929886165\n",
      "     loss_grad_test_sigma0_delta              1.349393745652915e-08                 5.830598980144477e-10\n",
      "  loss_test_normalized_sigma0_delta             0.583592467706944                     0.5180394186139946\n",
      "        loss_test_sigma0_delta                3.147590998987283e-05                 5.798156998383908e-06\n",
      "────────────────────────────────────────────────────────────────────────────────────────────────────────────────────────\n",
      "────────────────────────────────────────────────────────────────────────────────────────────────────────────────────────\n",
      "             Test metric                           DataLoader 2                          DataLoader 3\n",
      "────────────────────────────────────────────────────────────────────────────────────────────────────────────────────────\n",
      "loss_grad_test_normalized_sigma0_delta           8.79363367014089                     7.549226258663396\n",
      "     loss_grad_test_sigma0_delta              1.7791567416671193e-09                3.797340977329737e-11\n",
      "  loss_test_normalized_sigma0_delta             0.367444471390153                    0.30613342661605586\n",
      "        loss_test_sigma0_delta                5.226544326655962e-06                 6.865929340524549e-07\n",
      "────────────────────────────────────────────────────────────────────────────────────────────────────────────────────────\n",
      "────────────────────────────────────────────────────────────────────────────────────────────────────────────────────────\n",
      "             Test metric                           DataLoader 4                          DataLoader 5\n",
      "────────────────────────────────────────────────────────────────────────────────────────────────────────────────────────\n",
      "loss_grad_test_normalized_sigma0_delta          2.391102581100236                     3.999968200750336\n",
      "     loss_grad_test_sigma0_delta              4.736784022807415e-17                 1.2406315727187392e-15\n",
      "  loss_test_normalized_sigma0_delta            0.39872297783073096                    0.4949679603189337\n",
      "        loss_test_sigma0_delta                1.7746550597783277e-09                8.717063966886589e-09\n",
      "────────────────────────────────────────────────────────────────────────────────────────────────────────────────────────\n"
     ]
    }
   ],
   "source": [
    "for i, model_name in enumerate(list_of_models) :\n",
    "    for j, exp_name in enumerate(list(exp[model_name].keys())) :\n",
    "        exp_dict = exp[model_name][exp_name]\n",
    "        model = exp_dict['exp'].NN\n",
    "        exp_dict['best_model'] = model.load_from_checkpoint(nnModel=model.nnModel, \\\n",
    "                                                            checkpoint_path=exp_dict['exp'].get_checkpoint_path(), \\\n",
    "                                                            **exp_dict['exp'].kwargs)\n",
    "        trainer = pl.Trainer(accelerator='gpu', devices=1)\n",
    "        print(model_name + ' ' + exp_name)\n",
    "        test_dict = trainer.test(exp_dict['best_model'], datamodule=test_datamodule)\n",
    "        exp_dict['loss_vs_dataset'] = dict()\n",
    "        exp_dict['loss_diffs_vs_dataset'] = dict()\n",
    "        for feature in ['sigma0_delta', 'normalized_sigma0_delta'] :\n",
    "            if 'loss_test_'+feature+'/dataloader_idx_0' in test_dict[0] :\n",
    "                exp_dict['loss_vs_dataset'][feature] = [test_dict[ds]['loss_test_'+feature+'/dataloader_idx_'+str(ds)] \\\n",
    "                                                        for ds in range(len(data_dict))]\n",
    "            if 'loss_grad_test_'+feature+'/dataloader_idx_0' in test_dict[0] :\n",
    "                exp_dict['loss_diffs_vs_dataset'][feature] = [test_dict[ds]['loss_grad_test_'+feature+'/dataloader_idx_'+str(ds)] \\\n",
    "                                                              for ds in range(len(data_dict))]"
   ]
  },
  {
   "cell_type": "code",
   "execution_count": 62,
   "id": "f3006617-06a3-403f-91b4-fcef207458f4",
   "metadata": {},
   "outputs": [],
   "source": [
    "list_of_models = ['CNN', 'FCNN']"
   ]
  },
  {
   "cell_type": "code",
   "execution_count": 63,
   "id": "46c14530-9aa8-48fe-adff-ef0fa4a4e43d",
   "metadata": {},
   "outputs": [
    {
     "name": "stderr",
     "output_type": "stream",
     "text": [
      "GPU available: True (cuda), used: True\n",
      "TPU available: False, using: 0 TPU cores\n",
      "IPU available: False, using: 0 IPUs\n",
      "HPU available: False, using: 0 HPUs\n"
     ]
    },
    {
     "name": "stdout",
     "output_type": "stream",
     "text": [
      "CNN kernel3\n"
     ]
    },
    {
     "name": "stderr",
     "output_type": "stream",
     "text": [
      "LOCAL_RANK: 0 - CUDA_VISIBLE_DEVICES: [0]\n"
     ]
    },
    {
     "data": {
      "application/vnd.jupyter.widget-view+json": {
       "model_id": "9b5cbbd5aa4346b5bde67ae58d6ba2de",
       "version_major": 2,
       "version_minor": 0
      },
      "text/plain": [
       "Testing: 0it [00:00, ?it/s]"
      ]
     },
     "metadata": {},
     "output_type": "display_data"
    },
    {
     "name": "stdout",
     "output_type": "stream",
     "text": [
      "────────────────────────────────────────────────────────────────────────────────────────────────────────────────────────\n",
      "                  Test metric                                   DataLoader 0\n",
      "────────────────────────────────────────────────────────────────────────────────────────────────────────────────────────\n",
      "     loss_grad_test_diff_sigma0_delta_sqr                   2.950187308199442e-13\n",
      "loss_grad_test_normalized_diff_sigma0_delta_sqr               5.525512868919068\n",
      "        loss_test_diff_sigma0_delta_sqr                     8.384235158366742e-08\n",
      "  loss_test_normalized_diff_sigma0_delta_sqr                 0.3628481832602335\n",
      "────────────────────────────────────────────────────────────────────────────────────────────────────────────────────────\n",
      "────────────────────────────────────────────────────────────────────────────────────────────────────────────────────────\n",
      "                  Test metric                                   DataLoader 1\n",
      "────────────────────────────────────────────────────────────────────────────────────────────────────────────────────────\n",
      "     loss_grad_test_diff_sigma0_delta_sqr                  1.3742578096382228e-15\n",
      "loss_grad_test_normalized_diff_sigma0_delta_sqr               6.892251239424192\n",
      "        loss_test_diff_sigma0_delta_sqr                     4.68109258821318e-09\n",
      "  loss_test_normalized_diff_sigma0_delta_sqr                 0.33150774133354205\n",
      "────────────────────────────────────────────────────────────────────────────────────────────────────────────────────────\n",
      "────────────────────────────────────────────────────────────────────────────────────────────────────────────────────────\n",
      "                  Test metric                                   DataLoader 2\n",
      "────────────────────────────────────────────────────────────────────────────────────────────────────────────────────────\n",
      "     loss_grad_test_diff_sigma0_delta_sqr                  1.4253253559757195e-14\n",
      "loss_grad_test_normalized_diff_sigma0_delta_sqr               8.438438937601411\n",
      "        loss_test_diff_sigma0_delta_sqr                     2.833659351096937e-08\n",
      "  loss_test_normalized_diff_sigma0_delta_sqr                 0.6894800282223219\n",
      "────────────────────────────────────────────────────────────────────────────────────────────────────────────────────────\n",
      "────────────────────────────────────────────────────────────────────────────────────────────────────────────────────────\n",
      "                  Test metric                                   DataLoader 3\n",
      "────────────────────────────────────────────────────────────────────────────────────────────────────────────────────────\n",
      "     loss_grad_test_diff_sigma0_delta_sqr                  5.1654971460540674e-17\n",
      "loss_grad_test_normalized_diff_sigma0_delta_sqr              19.549304782702876\n",
      "        loss_test_diff_sigma0_delta_sqr                     1.080511866057362e-09\n",
      "  loss_test_normalized_diff_sigma0_delta_sqr                 0.6647205976113815\n",
      "────────────────────────────────────────────────────────────────────────────────────────────────────────────────────────\n",
      "────────────────────────────────────────────────────────────────────────────────────────────────────────────────────────\n",
      "                  Test metric                                   DataLoader 4\n",
      "────────────────────────────────────────────────────────────────────────────────────────────────────────────────────────\n",
      "     loss_grad_test_diff_sigma0_delta_sqr                   7.006800267383253e-30\n",
      "loss_grad_test_normalized_diff_sigma0_delta_sqr               2.913164985468557\n",
      "        loss_test_diff_sigma0_delta_sqr                     7.575915501168377e-16\n",
      "  loss_test_normalized_diff_sigma0_delta_sqr                 0.48849238030000564\n",
      "────────────────────────────────────────────────────────────────────────────────────────────────────────────────────────\n",
      "────────────────────────────────────────────────────────────────────────────────────────────────────────────────────────\n",
      "                  Test metric                                   DataLoader 5\n",
      "────────────────────────────────────────────────────────────────────────────────────────────────────────────────────────\n",
      "     loss_grad_test_diff_sigma0_delta_sqr                  1.3131559294597168e-27\n",
      "loss_grad_test_normalized_diff_sigma0_delta_sqr              1.4144423322892308\n",
      "        loss_test_diff_sigma0_delta_sqr                     8.785872650912186e-15\n",
      "  loss_test_normalized_diff_sigma0_delta_sqr                 0.28834961594591185\n",
      "────────────────────────────────────────────────────────────────────────────────────────────────────────────────────────\n"
     ]
    },
    {
     "name": "stderr",
     "output_type": "stream",
     "text": [
      "GPU available: True (cuda), used: True\n",
      "TPU available: False, using: 0 TPU cores\n",
      "IPU available: False, using: 0 IPUs\n",
      "HPU available: False, using: 0 HPUs\n"
     ]
    },
    {
     "name": "stdout",
     "output_type": "stream",
     "text": [
      "CNN kernel5\n"
     ]
    },
    {
     "name": "stderr",
     "output_type": "stream",
     "text": [
      "LOCAL_RANK: 0 - CUDA_VISIBLE_DEVICES: [0]\n"
     ]
    },
    {
     "data": {
      "application/vnd.jupyter.widget-view+json": {
       "model_id": "741f2550c1e045038e9f740b7f8810e7",
       "version_major": 2,
       "version_minor": 0
      },
      "text/plain": [
       "Testing: 0it [00:00, ?it/s]"
      ]
     },
     "metadata": {},
     "output_type": "display_data"
    },
    {
     "name": "stdout",
     "output_type": "stream",
     "text": [
      "────────────────────────────────────────────────────────────────────────────────────────────────────────────────────────\n",
      "                  Test metric                                   DataLoader 0\n",
      "────────────────────────────────────────────────────────────────────────────────────────────────────────────────────────\n",
      "     loss_grad_test_diff_sigma0_delta_sqr                   2.479466452949236e-13\n",
      "loss_grad_test_normalized_diff_sigma0_delta_sqr               4.643882697124649\n",
      "        loss_test_diff_sigma0_delta_sqr                    1.1453247838161166e-07\n",
      "  loss_test_normalized_diff_sigma0_delta_sqr                 0.49566717679177436\n",
      "────────────────────────────────────────────────────────────────────────────────────────────────────────────────────────\n",
      "────────────────────────────────────────────────────────────────────────────────────────────────────────────────────────\n",
      "                  Test metric                                   DataLoader 1\n",
      "────────────────────────────────────────────────────────────────────────────────────────────────────────────────────────\n",
      "     loss_grad_test_diff_sigma0_delta_sqr                   1.620760695952792e-15\n",
      "loss_grad_test_normalized_diff_sigma0_delta_sqr               8.128525693757107\n",
      "        loss_test_diff_sigma0_delta_sqr                    6.0332954256540604e-09\n",
      "  loss_test_normalized_diff_sigma0_delta_sqr                 0.4272686561237247\n",
      "────────────────────────────────────────────────────────────────────────────────────────────────────────────────────────\n",
      "────────────────────────────────────────────────────────────────────────────────────────────────────────────────────────\n",
      "                  Test metric                                   DataLoader 2\n",
      "────────────────────────────────────────────────────────────────────────────────────────────────────────────────────────\n",
      "     loss_grad_test_diff_sigma0_delta_sqr                   2.470465398837305e-14\n",
      "loss_grad_test_normalized_diff_sigma0_delta_sqr              14.626044031381722\n",
      "        loss_test_diff_sigma0_delta_sqr                     3.963475525455246e-08\n",
      "  loss_test_normalized_diff_sigma0_delta_sqr                 0.9643845214109785\n",
      "────────────────────────────────────────────────────────────────────────────────────────────────────────────────────────\n",
      "────────────────────────────────────────────────────────────────────────────────────────────────────────────────────────\n",
      "                  Test metric                                   DataLoader 3\n",
      "────────────────────────────────────────────────────────────────────────────────────────────────────────────────────────\n",
      "     loss_grad_test_diff_sigma0_delta_sqr                   2.540162335287267e-18\n",
      "loss_grad_test_normalized_diff_sigma0_delta_sqr              0.9613480810459316\n",
      "        loss_test_diff_sigma0_delta_sqr                     2.992604460505843e-10\n",
      "  loss_test_normalized_diff_sigma0_delta_sqr                 0.18410217304326423\n",
      "────────────────────────────────────────────────────────────────────────────────────────────────────────────────────────\n",
      "────────────────────────────────────────────────────────────────────────────────────────────────────────────────────────\n",
      "                  Test metric                                   DataLoader 4\n",
      "────────────────────────────────────────────────────────────────────────────────────────────────────────────────────────\n",
      "     loss_grad_test_diff_sigma0_delta_sqr                   4.469280499460789e-31\n",
      "loss_grad_test_normalized_diff_sigma0_delta_sqr              0.18581593544022787\n",
      "        loss_test_diff_sigma0_delta_sqr                     2.45954509804647e-16\n",
      "  loss_test_normalized_diff_sigma0_delta_sqr                 0.15859060719653453\n",
      "────────────────────────────────────────────────────────────────────────────────────────────────────────────────────────\n",
      "────────────────────────────────────────────────────────────────────────────────────────────────────────────────────────\n",
      "                  Test metric                                   DataLoader 5\n",
      "────────────────────────────────────────────────────────────────────────────────────────────────────────────────────────\n",
      "     loss_grad_test_diff_sigma0_delta_sqr                  1.9383103114716388e-28\n",
      "loss_grad_test_normalized_diff_sigma0_delta_sqr              0.20878161505056164\n",
      "        loss_test_diff_sigma0_delta_sqr                     5.355359500602328e-15\n",
      "  loss_test_normalized_diff_sigma0_delta_sqr                 0.1757612381384388\n",
      "────────────────────────────────────────────────────────────────────────────────────────────────────────────────────────\n"
     ]
    },
    {
     "name": "stderr",
     "output_type": "stream",
     "text": [
      "GPU available: True (cuda), used: True\n",
      "TPU available: False, using: 0 TPU cores\n",
      "IPU available: False, using: 0 IPUs\n",
      "HPU available: False, using: 0 HPUs\n"
     ]
    },
    {
     "name": "stdout",
     "output_type": "stream",
     "text": [
      "FCNN patch_1-3\n"
     ]
    },
    {
     "name": "stderr",
     "output_type": "stream",
     "text": [
      "LOCAL_RANK: 0 - CUDA_VISIBLE_DEVICES: [0]\n"
     ]
    },
    {
     "data": {
      "application/vnd.jupyter.widget-view+json": {
       "model_id": "84e58c34745b440d910c41db8ae9362e",
       "version_major": 2,
       "version_minor": 0
      },
      "text/plain": [
       "Testing: 0it [00:00, ?it/s]"
      ]
     },
     "metadata": {},
     "output_type": "display_data"
    },
    {
     "name": "stdout",
     "output_type": "stream",
     "text": [
      "────────────────────────────────────────────────────────────────────────────────────────────────────────────────────────\n",
      "                  Test metric                                   DataLoader 0\n",
      "────────────────────────────────────────────────────────────────────────────────────────────────────────────────────────\n",
      "     loss_grad_test_diff_sigma0_delta_sqr                  4.5316868469025863e-13\n",
      "loss_grad_test_normalized_diff_sigma0_delta_sqr               8.487560746637389\n",
      "        loss_test_diff_sigma0_delta_sqr                    1.5043650973300117e-07\n",
      "  loss_test_normalized_diff_sigma0_delta_sqr                 0.6510506113149547\n",
      "────────────────────────────────────────────────────────────────────────────────────────────────────────────────────────\n",
      "────────────────────────────────────────────────────────────────────────────────────────────────────────────────────────\n",
      "                  Test metric                                   DataLoader 1\n",
      "────────────────────────────────────────────────────────────────────────────────────────────────────────────────────────\n",
      "     loss_grad_test_diff_sigma0_delta_sqr                   2.027721798700976e-15\n",
      "loss_grad_test_normalized_diff_sigma0_delta_sqr              10.169538771529803\n",
      "        loss_test_diff_sigma0_delta_sqr                     8.17051039246972e-09\n",
      "  loss_test_normalized_diff_sigma0_delta_sqr                 0.5786229164896243\n",
      "────────────────────────────────────────────────────────────────────────────────────────────────────────────────────────\n",
      "────────────────────────────────────────────────────────────────────────────────────────────────────────────────────────\n",
      "                  Test metric                                   DataLoader 2\n",
      "────────────────────────────────────────────────────────────────────────────────────────────────────────────────────────\n",
      "     loss_grad_test_diff_sigma0_delta_sqr                  1.0988086566845586e-14\n",
      "loss_grad_test_normalized_diff_sigma0_delta_sqr               6.505342608103832\n",
      "        loss_test_diff_sigma0_delta_sqr                    2.5208846079555315e-08\n",
      "  loss_test_normalized_diff_sigma0_delta_sqr                 0.6133763361377794\n",
      "────────────────────────────────────────────────────────────────────────────────────────────────────────────────────────\n",
      "────────────────────────────────────────────────────────────────────────────────────────────────────────────────────────\n",
      "                  Test metric                                   DataLoader 3\n",
      "────────────────────────────────────────────────────────────────────────────────────────────────────────────────────────\n",
      "     loss_grad_test_diff_sigma0_delta_sqr                    4.9695941718796e-17\n",
      "loss_grad_test_normalized_diff_sigma0_delta_sqr              18.807891740352133\n",
      "        loss_test_diff_sigma0_delta_sqr                     7.972454483453543e-10\n",
      "  loss_test_normalized_diff_sigma0_delta_sqr                 0.49045779830329367\n",
      "────────────────────────────────────────────────────────────────────────────────────────────────────────────────────────\n",
      "────────────────────────────────────────────────────────────────────────────────────────────────────────────────────────\n",
      "                  Test metric                                   DataLoader 4\n",
      "────────────────────────────────────────────────────────────────────────────────────────────────────────────────────────\n",
      "     loss_grad_test_diff_sigma0_delta_sqr                   6.998500228602412e-30\n",
      "loss_grad_test_normalized_diff_sigma0_delta_sqr               2.909714140503336\n",
      "        loss_test_diff_sigma0_delta_sqr                     7.226600531176566e-16\n",
      "  loss_test_normalized_diff_sigma0_delta_sqr                 0.4659686732788002\n",
      "────────────────────────────────────────────────────────────────────────────────────────────────────────────────────────\n",
      "────────────────────────────────────────────────────────────────────────────────────────────────────────────────────────\n",
      "                  Test metric                                   DataLoader 5\n",
      "────────────────────────────────────────────────────────────────────────────────────────────────────────────────────────\n",
      "     loss_grad_test_diff_sigma0_delta_sqr                  1.3054159106259226e-27\n",
      "loss_grad_test_normalized_diff_sigma0_delta_sqr              1.4061053100234246\n",
      "        loss_test_diff_sigma0_delta_sqr                     8.417997790621205e-15\n",
      "  loss_test_normalized_diff_sigma0_delta_sqr                 0.27627607710739416\n",
      "────────────────────────────────────────────────────────────────────────────────────────────────────────────────────────\n"
     ]
    },
    {
     "name": "stderr",
     "output_type": "stream",
     "text": [
      "GPU available: True (cuda), used: True\n",
      "TPU available: False, using: 0 TPU cores\n",
      "IPU available: False, using: 0 IPUs\n",
      "HPU available: False, using: 0 HPUs\n"
     ]
    },
    {
     "name": "stdout",
     "output_type": "stream",
     "text": [
      "FCNN patch_3-5\n"
     ]
    },
    {
     "name": "stderr",
     "output_type": "stream",
     "text": [
      "LOCAL_RANK: 0 - CUDA_VISIBLE_DEVICES: [0]\n"
     ]
    },
    {
     "data": {
      "application/vnd.jupyter.widget-view+json": {
       "model_id": "5100101bd78c435daca28c7ff6430aa9",
       "version_major": 2,
       "version_minor": 0
      },
      "text/plain": [
       "Testing: 0it [00:00, ?it/s]"
      ]
     },
     "metadata": {},
     "output_type": "display_data"
    },
    {
     "name": "stdout",
     "output_type": "stream",
     "text": [
      "────────────────────────────────────────────────────────────────────────────────────────────────────────────────────────\n",
      "                  Test metric                                   DataLoader 0\n",
      "────────────────────────────────────────────────────────────────────────────────────────────────────────────────────────\n",
      "     loss_grad_test_diff_sigma0_delta_sqr                   4.65266277507191e-13\n",
      "loss_grad_test_normalized_diff_sigma0_delta_sqr               8.714140951766602\n",
      "        loss_test_diff_sigma0_delta_sqr                     1.555708685340702e-07\n",
      "  loss_test_normalized_diff_sigma0_delta_sqr                 0.6732707987021719\n",
      "────────────────────────────────────────────────────────────────────────────────────────────────────────────────────────\n",
      "────────────────────────────────────────────────────────────────────────────────────────────────────────────────────────\n",
      "                  Test metric                                   DataLoader 1\n",
      "────────────────────────────────────────────────────────────────────────────────────────────────────────────────────────\n",
      "     loss_grad_test_diff_sigma0_delta_sqr                  2.1297027709976225e-15\n",
      "loss_grad_test_normalized_diff_sigma0_delta_sqr              10.680999198094414\n",
      "        loss_test_diff_sigma0_delta_sqr                     8.660784097365893e-09\n",
      "  loss_test_normalized_diff_sigma0_delta_sqr                 0.6133433424334735\n",
      "────────────────────────────────────────────────────────────────────────────────────────────────────────────────────────\n",
      "────────────────────────────────────────────────────────────────────────────────────────────────────────────────────────\n",
      "                  Test metric                                   DataLoader 2\n",
      "────────────────────────────────────────────────────────────────────────────────────────────────────────────────────────\n",
      "     loss_grad_test_diff_sigma0_delta_sqr                  1.0974482601098186e-14\n",
      "loss_grad_test_normalized_diff_sigma0_delta_sqr              6.4972885472579405\n",
      "        loss_test_diff_sigma0_delta_sqr                     2.374230068707495e-08\n",
      "  loss_test_normalized_diff_sigma0_delta_sqr                 0.5776926623678439\n",
      "────────────────────────────────────────────────────────────────────────────────────────────────────────────────────────\n",
      "────────────────────────────────────────────────────────────────────────────────────────────────────────────────────────\n",
      "                  Test metric                                   DataLoader 3\n",
      "────────────────────────────────────────────────────────────────────────────────────────────────────────────────────────\n",
      "     loss_grad_test_diff_sigma0_delta_sqr                  5.0822848184683975e-17\n",
      "loss_grad_test_normalized_diff_sigma0_delta_sqr              19.234379982280082\n",
      "        loss_test_diff_sigma0_delta_sqr                     8.434508602896853e-10\n",
      "  loss_test_normalized_diff_sigma0_delta_sqr                 0.5188829271753951\n",
      "────────────────────────────────────────────────────────────────────────────────────────────────────────────────────────\n",
      "────────────────────────────────────────────────────────────────────────────────────────────────────────────────────────\n",
      "                  Test metric                                   DataLoader 4\n",
      "────────────────────────────────────────────────────────────────────────────────────────────────────────────────────────\n",
      "     loss_grad_test_diff_sigma0_delta_sqr                   6.976498647006157e-30\n",
      "loss_grad_test_normalized_diff_sigma0_delta_sqr               2.900566707201908\n",
      "        loss_test_diff_sigma0_delta_sqr                     6.881874621885889e-16\n",
      "  loss_test_normalized_diff_sigma0_delta_sqr                 0.44374086728564727\n",
      "────────────────────────────────────────────────────────────────────────────────────────────────────────────────────────\n",
      "────────────────────────────────────────────────────────────────────────────────────────────────────────────────────────\n",
      "                  Test metric                                   DataLoader 5\n",
      "────────────────────────────────────────────────────────────────────────────────────────────────────────────────────────\n",
      "     loss_grad_test_diff_sigma0_delta_sqr                  1.2948185495975236e-27\n",
      "loss_grad_test_normalized_diff_sigma0_delta_sqr              1.3946905528248352\n",
      "        loss_test_diff_sigma0_delta_sqr                     8.04168398565042e-15\n",
      "  loss_test_normalized_diff_sigma0_delta_sqr                 0.2639255747213613\n",
      "────────────────────────────────────────────────────────────────────────────────────────────────────────────────────────\n"
     ]
    }
   ],
   "source": [
    "for i, model_name in enumerate(list_of_models) :\n",
    "    for j, exp_name in enumerate(list(exp[model_name].keys())) :\n",
    "        exp_dict = exp[model_name][exp_name]\n",
    "        model = exp_dict['exp'].NN\n",
    "        exp_dict['best_model'] = model.load_from_checkpoint(nnModel=model.nnModel, \\\n",
    "                                                            checkpoint_path=exp_dict['exp'].get_checkpoint_path(), \\\n",
    "                                                            **exp_dict['exp'].kwargs)\n",
    "        trainer = pl.Trainer(accelerator='gpu', devices=1)\n",
    "        print(model_name + ' ' + exp_name)\n",
    "        test_dict = trainer.test(exp_dict['best_model'], datamodule=test_datamodule)\n",
    "        exp_dict['loss_vs_dataset'] = dict()\n",
    "        exp_dict['loss_diffs_vs_dataset'] = dict()\n",
    "        for feature in ['diff_sigma0_delta_sqr', 'normalized_diff_sigma0_delta_sqr'] :\n",
    "            if 'loss_test_'+feature+'/dataloader_idx_0' in test_dict[0] :\n",
    "                exp_dict['loss_vs_dataset'][feature] = [test_dict[ds]['loss_test_'+feature+'/dataloader_idx_'+str(ds)] \\\n",
    "                                                        for ds in range(len(data_dict))]\n",
    "            if 'loss_grad_test_'+feature+'/dataloader_idx_0' in test_dict[0] :\n",
    "                exp_dict['loss_diffs_vs_dataset'][feature] = [test_dict[ds]['loss_grad_test_'+feature+'/dataloader_idx_'+str(ds)] \\\n",
    "                                                              for ds in range(len(data_dict))]"
   ]
  },
  {
   "cell_type": "markdown",
   "id": "f2dd0730-cc10-4612-93db-c1055c9867d3",
   "metadata": {},
   "source": [
    "## Image example"
   ]
  },
  {
   "cell_type": "code",
   "execution_count": 64,
   "id": "15472240-224d-4318-8875-e2e40742c42c",
   "metadata": {},
   "outputs": [],
   "source": [
    "test_dl = test_datamodule.test_dataloader()[0]"
   ]
  },
  {
   "cell_type": "code",
   "execution_count": 65,
   "id": "40d4e6dd-25d8-4b6a-87e0-31b322fae6ea",
   "metadata": {},
   "outputs": [],
   "source": [
    "test_di = iter(test_dl)"
   ]
  },
  {
   "cell_type": "code",
   "execution_count": 66,
   "id": "bde95b13-dd99-40a1-a28e-b3e7faf2e880",
   "metadata": {},
   "outputs": [],
   "source": [
    "sample = next(test_di)"
   ]
  },
  {
   "cell_type": "code",
   "execution_count": 67,
   "id": "f54df71a-6ade-4d9d-8e1e-82cb6b2e50d6",
   "metadata": {},
   "outputs": [],
   "source": [
    "idx = 0 #index inside the batch"
   ]
  },
  {
   "cell_type": "code",
   "execution_count": 68,
   "id": "a4a235cd-51de-47df-9cf7-daa7f0ca8c86",
   "metadata": {},
   "outputs": [],
   "source": [
    "snapshot_true_error = np.squeeze(sample['diff_sigma0_delta_sqr'][idx])"
   ]
  },
  {
   "cell_type": "code",
   "execution_count": 69,
   "id": "efa95cc5-fa3e-480a-a27b-822e0a93cac2",
   "metadata": {},
   "outputs": [],
   "source": [
    "for i, model_name in enumerate(list_of_models) :\n",
    "    for j, exp_name in enumerate(list(exp[model_name].keys())) :\n",
    "        exp_dict = exp[model_name][exp_name]\n",
    "        model = exp_dict['best_model']\n",
    "        exp_dict['snapshot'] = np.squeeze((model.predict_step(sample, idx, 0)['diff_sigma0_delta_sqr'][idx]).detach().numpy())"
   ]
  },
  {
   "cell_type": "code",
   "execution_count": 70,
   "id": "e29a27df-3947-426b-8248-f5635fd6c096",
   "metadata": {},
   "outputs": [
    {
     "data": {
      "image/png": "[encoded data removed]",
      "text/plain": [
       "<Figure size 1000x800 with 15 Axes>"
      ]
     },
     "metadata": {},
     "output_type": "display_data"
    }
   ],
   "source": [
    "fig, ax = plt.subplots(ncols=3, nrows=3, figsize=(10,8), constrained_layout=True)\n",
    "fig.suptitle('Example of density error fields (dimensional)')\n",
    "\n",
    "for i, model_name in enumerate(list_of_models) :\n",
    "    img = ax[i,0].imshow(snapshot_true_error, cmap='ocean_r')\n",
    "    fig.colorbar(img, ax=ax[i,0])\n",
    "    ax[i,0].set(title='True density error')\n",
    "    color_min = img.colorbar.vmin\n",
    "    color_max = img.colorbar.vmax\n",
    "    for j, exp_name in enumerate(list(exp[model_name].keys())) :\n",
    "        exp_dict = exp[model_name][exp_name]\n",
    "        img = ax[i,j+1].imshow(exp_dict['snapshot'], cmap='ocean_r', vmin=color_min, vmax=color_max)\n",
    "        fig.colorbar(img, ax=ax[i,j+1])\n",
    "        ax[i,j+1].set(title=model_name+' '+exp_name, xlabel='x')\n",
    "plt.show()"
   ]
  },
  {
   "cell_type": "markdown",
   "id": "b26272bd-f578-476e-8553-8d9d1a1c3f8a",
   "metadata": {},
   "source": [
    "## Compare MSE across datasets"
   ]
  },
  {
   "cell_type": "markdown",
   "id": "571a3078-4855-4a84-a0a2-cc66670f7c44",
   "metadata": {},
   "source": [
    "### MSE "
   ]
  },
  {
   "cell_type": "code",
   "execution_count": 72,
   "id": "71a93ab5-908a-4952-b5bf-7f39dfec9ac8",
   "metadata": {},
   "outputs": [
    {
     "data": {
      "image/png": "[encoded data removed]",
      "text/plain": [
       "<Figure size 1500x300 with 6 Axes>"
      ]
     },
     "metadata": {},
     "output_type": "display_data"
    }
   ],
   "source": [
    "fig, ax = plt.subplots(1, 6, constrained_layout=True, figsize=(15, 3.0))\n",
    "fig.suptitle('MSE of absolute (non-normalized) values of density error')\n",
    "x = np.arange(len(list_of_models))\n",
    "xlabels=list_of_models\n",
    "bar_width = 0.2\n",
    "feature = 'diff_sigma0_delta_sqr'\n",
    "\n",
    "for region in range(len(data_dict)) :\n",
    "    ax[region].bar(0, exp['LinReg']['train_full']['loss_diffs_vs_dataset']['sigma0_delta'][region], \\\n",
    "                   width=bar_width, color=list(mcolors.TABLEAU_COLORS.values())[0], label='LinReg')\n",
    "    bar_counter=1\n",
    "    for i, model_name in enumerate(list_of_models) :\n",
    "        for j, exp_name in enumerate(list(exp[model_name].keys())) :\n",
    "            exp_dict = exp[model_name][exp_name]\n",
    "            if (feature in exp_dict['loss_vs_dataset'].keys()) :\n",
    "                ax[region].bar(1+x[i]+j*bar_width, exp_dict['loss_vs_dataset'][feature][region], width=bar_width, color=list(mcolors.TABLEAU_COLORS.values())[bar_counter],\\\n",
    "                              label=exp_name)\n",
    "                bar_counter+=1\n",
    "    ax[region].set_xticks(x, xlabels, rotation='vertical')\n",
    "    ax[region].set(title=data_dict[region]['label'])\n",
    "ax[0].set(ylabel='MSE')\n",
    "ax[-1].legend(bbox_to_anchor=(1.05, 1), loc='upper left')\n",
    "plt.show()"
   ]
  },
  {
   "cell_type": "code",
   "execution_count": null,
   "id": "fd6a11b9-1249-4c91-8bed-278372272367",
   "metadata": {},
   "outputs": [],
   "source": []
  }
 ],
 "metadata": {
  "kernelspec": {
   "display_name": "Python 3 (ipykernel)",
   "language": "python",
   "name": "python3"
  },
  "language_info": {
   "codemirror_mode": {
    "name": "ipython",
    "version": 3
   },
   "file_extension": ".py",
   "mimetype": "text/x-python",
   "name": "python",
   "nbconvert_exporter": "python",
   "pygments_lexer": "ipython3",
   "version": "3.9.13"
  },
  "toc-autonumbering": true,
  "toc-showcode": false,
  "toc-showmarkdowntxt": false,
  "toc-showtags": false
 },
 "nbformat": 4,
 "nbformat_minor": 5
}
