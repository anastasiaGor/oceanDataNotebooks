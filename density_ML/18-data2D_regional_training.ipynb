{
 "cells": [
  {
   "cell_type": "code",
   "execution_count": 70,
   "id": "2a97e84d-7c27-4e99-8c71-becd4f2a0e77",
   "metadata": {},
   "outputs": [],
   "source": [
    "from dask.distributed import Client\n",
    "\n",
    "client = Client(\"tcp://127.0.0.1:36433\")"
   ]
  },
  {
   "cell_type": "markdown",
   "id": "ea54da1f-c0d2-4ed2-8dea-5f96a68745f0",
   "metadata": {},
   "source": [
    "# Import"
   ]
  },
  {
   "cell_type": "code",
   "execution_count": 71,
   "id": "e9303f7b-4813-46e3-9398-9b53578b9437",
   "metadata": {},
   "outputs": [],
   "source": [
    "from IPython.display import clear_output\n",
    "import torch\n",
    "import numpy as np\n",
    "import matplotlib.pyplot as plt\n",
    "from tqdm.autonotebook import tqdm, trange\n",
    "import xarray as xr\n",
    "from IPython import display\n",
    "import pytorch_lightning as pl\n",
    "from pytorch_lightning import loggers as pl_loggers\n",
    "from pytorch_lightning.callbacks import EarlyStopping,ModelCheckpoint\n",
    "import inspect\n",
    "import tensorboard\n",
    "from tensorboard.backend.event_processing.event_file_loader import EventFileLoader\n",
    "import itertools\n",
    "import matplotlib.colors as mcolors\n",
    "import glob, os\n",
    "from scipy import ndimage\n",
    "from random import randrange"
   ]
  },
  {
   "cell_type": "code",
   "execution_count": 72,
   "id": "d054e80f-2a15-4119-a699-f8b309c1c1c6",
   "metadata": {
    "tags": []
   },
   "outputs": [],
   "source": [
    "import logging\n",
    "logging.getLogger('lightning').setLevel(0)\n",
    "pl.utilities.distributed.log.setLevel(logging.ERROR)"
   ]
  },
  {
   "cell_type": "code",
   "execution_count": 73,
   "id": "cb00724f-4c87-407a-a426-1969274ebfb7",
   "metadata": {},
   "outputs": [
    {
     "name": "stdout",
     "output_type": "stream",
     "text": [
      "Linux-5.10.133+-x86_64-with-glibc2.35\n"
     ]
    }
   ],
   "source": [
    "import platform\n",
    "print(platform.platform())"
   ]
  },
  {
   "cell_type": "code",
   "execution_count": 74,
   "id": "94d6f76d-7224-49fb-8ea8-69e231ac84be",
   "metadata": {},
   "outputs": [
    {
     "name": "stdout",
     "output_type": "stream",
     "text": [
      "1.12.1.post201\n"
     ]
    }
   ],
   "source": [
    "print(torch.__version__)"
   ]
  },
  {
   "cell_type": "code",
   "execution_count": 75,
   "id": "09185b24-5c66-4f85-92d2-edd901e130b7",
   "metadata": {},
   "outputs": [],
   "source": [
    "import warnings\n",
    "\n",
    "warnings.simplefilter(action='ignore', category=FutureWarning)\n",
    "warnings.filterwarnings(\"ignore\", \".*Consider increasing the value of the `num_workers` argument*\")"
   ]
  },
  {
   "cell_type": "markdown",
   "id": "663bea15-b554-420c-b3eb-9bf7c7aedf43",
   "metadata": {},
   "source": [
    "# Useful functions"
   ]
  },
  {
   "cell_type": "code",
   "execution_count": 76,
   "id": "4ac6ae3f-8287-49ea-88ea-0f83143a0476",
   "metadata": {},
   "outputs": [],
   "source": [
    "line_styles = ['solid', 'dashed', 'dotted', 'dashdot']"
   ]
  },
  {
   "cell_type": "markdown",
   "id": "5d78ccba-db20-4ee1-bf81-588f38579cc8",
   "metadata": {},
   "source": [
    "For testing"
   ]
  },
  {
   "cell_type": "markdown",
   "id": "495d3fb6-4797-428e-8f3f-147be557c9f1",
   "metadata": {},
   "source": [
    "A function that allows to read the logs in tensorboars format and returns them as a python dictionary:"
   ]
  },
  {
   "cell_type": "code",
   "execution_count": 77,
   "id": "e90511bd-8b38-479d-9a13-1584d813bf5e",
   "metadata": {},
   "outputs": [],
   "source": [
    "def get_logs_from_tb(exp_name, version_name, directory='logs/') :\n",
    "    dictionary = dict()\n",
    "    # for var in list_of_vars :\n",
    "    #     dictionary[var] = list()\n",
    "    file_name = glob.glob(directory + '/' + exp_name + '/' + version_name + '/events.out.*')[-1]\n",
    "    print(file_name)\n",
    "    for event in EventFileLoader(file_name).Load() :\n",
    "        if (len(event.summary.value) > 0) :\n",
    "            if (event.summary.value[0].tag not in dictionary) :\n",
    "                dictionary[event.summary.value[0].tag] = []\n",
    "            (dictionary[event.summary.value[0].tag]).append(event.summary.value[0].tensor.float_val)\n",
    "    return dictionary"
   ]
  },
  {
   "cell_type": "markdown",
   "id": "751ea4e3-ee81-4e2b-b07f-7099893b75c0",
   "metadata": {},
   "source": [
    "# Data properties"
   ]
  },
  {
   "cell_type": "code",
   "execution_count": 78,
   "id": "4241ea57-8775-4386-8329-8d5c5453718c",
   "metadata": {},
   "outputs": [],
   "source": [
    "SCRATCH_BUCKET = os.environ['SCRATCH_BUCKET'] "
   ]
  },
  {
   "cell_type": "code",
   "execution_count": 79,
   "id": "14277ad7-8350-4756-a398-d9645f781f09",
   "metadata": {},
   "outputs": [],
   "source": [
    "data_dict=[dict() for i in range(6)]\n",
    "data_dict[0] = dict({'region' : '1', 'season' : 'fma', 'label' : 'GULFSTR FMA'})\n",
    "data_dict[1] = dict({'region' : '1', 'season' : 'aso', 'label' : 'GULFSTR ASO'})\n",
    "data_dict[2] = dict({'region' : '2', 'season' : 'fma', 'label' : 'MIDATL FMA'})\n",
    "data_dict[3] = dict({'region' : '2', 'season' : 'aso', 'label' : 'MIDATL ASO'})\n",
    "data_dict[4] = dict({'region' : '3', 'season' : 'fma', 'label' : 'WESTMED FMA'})\n",
    "data_dict[5] = dict({'region' : '3', 'season' : 'aso', 'label' : 'WESTMED ASO'})"
   ]
  },
  {
   "cell_type": "code",
   "execution_count": 80,
   "id": "878f2708-915a-41fc-b4ed-30cff8f87e43",
   "metadata": {},
   "outputs": [],
   "source": [
    "features_to_add_to_sample = ['sosstsst', 'sosstsst_var', 'diff_sosstsst_sqr', 'rho_ct_ct']"
   ]
  },
  {
   "cell_type": "code",
   "execution_count": 81,
   "id": "b5e40cb5-9ac5-4acc-89a9-bd81870f9cda",
   "metadata": {},
   "outputs": [],
   "source": [
    "h = 45 # height of images\n",
    "w = 40 # width of images"
   ]
  },
  {
   "cell_type": "code",
   "execution_count": 82,
   "id": "8c3db48a-360a-41a8-aeb4-7811d22d028e",
   "metadata": {},
   "outputs": [],
   "source": [
    "batch_size = 20"
   ]
  },
  {
   "cell_type": "markdown",
   "id": "7a404186-310e-42d9-acab-bd1f17d2a126",
   "metadata": {},
   "source": [
    "# Data classes"
   ]
  },
  {
   "cell_type": "markdown",
   "id": "fe641c3e-a3b8-4402-a55f-94346bd3fab9",
   "metadata": {},
   "source": [
    "## Pytorch dataset (from xarray to torch tensors)"
   ]
  },
  {
   "cell_type": "code",
   "execution_count": 83,
   "id": "16efd56f-6208-4fa3-b5e9-230764684a54",
   "metadata": {},
   "outputs": [],
   "source": [
    "# iterates over time snapshots in an xarray data file and transforms it into a dictionary of pytorch tensors, also performs normalization\n",
    "class torchDataset(torch.utils.data.Dataset):\n",
    "    \"\"\"Dataset of 2D maps of surface temperature, salinity\"\"\"\n",
    "\n",
    "    def __init__(self, xarray_dataset, transform=None):\n",
    "        self.transform = transform\n",
    "        full_data_file_len = len(xarray_dataset.t)\n",
    "        self.data = (xarray_dataset.isel(x_c=slice(None,w), y_c=slice(None,h))).load()\n",
    "        self.data_file_len = len(self.data.t)\n",
    "        \n",
    "    def __len__(self):\n",
    "        return self.data_file_len\n",
    "\n",
    "    def __getitem__(self, idx):\n",
    "        if torch.is_tensor(idx):\n",
    "            list_idx = idx.tolist()\n",
    "        else :\n",
    "            list_idx = idx\n",
    "        selected_time_frames = self.data.isel(t=list_idx)\n",
    "        \n",
    "        # create dictionary of a sample (a batch) containig different features in numpy format. \n",
    "        # This dictionary is an intermediate step, preparing xArray data for trasform into pytorch tensors\n",
    "        sample = dict()\n",
    "        sample['mask'] = (selected_time_frames['mask'].values).astype(bool)\n",
    "        #sample['mask'] = selected_time_frames['votemper'].where(not(selected_time_frames['votemper'].isnan())).values.astype(bool)\n",
    "        erosion_structure_matrix = np.array([(0,0,1,0,0), (0,1,1,1,0), (1,1,1,1,1), (0,1,1,1,0), (0,0,1,0,0)])\n",
    "        sample['eroded_mask'] = ndimage.binary_erosion(selected_time_frames['mask'].values, structure=erosion_structure_matrix)\n",
    "        for feature in features_to_add_to_sample :\n",
    "            sample['mean_'+feature] = self.data['mean_'+feature].values\n",
    "            sample['std_'+feature] = self.data['std_'+feature].values\n",
    "            sample[feature] = selected_time_frames[feature].values\n",
    "            sample['normalized_'+feature] = selected_time_frames['normalized_'+feature].values\n",
    "        if self.transform:\n",
    "            sample = self.transform(sample)\n",
    "        return sample"
   ]
  },
  {
   "cell_type": "code",
   "execution_count": 84,
   "id": "5d3b1afc-6b46-4ddc-907c-6c028a959939",
   "metadata": {},
   "outputs": [],
   "source": [
    "class ToTensor(object):\n",
    "    \"\"\"Convert each numpy array in sample to Tensors.\"\"\"\n",
    "\n",
    "    def __call__(self, sample):\n",
    "        transformed_sample=sample.copy()\n",
    "        for feature in features_to_add_to_sample :\n",
    "            transformed_sample[feature] = torch.tensor(sample[feature])\n",
    "        return transformed_sample"
   ]
  },
  {
   "cell_type": "markdown",
   "id": "0d0f87c0-6323-4f4e-8c7c-2b7b484058db",
   "metadata": {},
   "source": [
    "## Lightning data module (split trainig, validation and test data)"
   ]
  },
  {
   "cell_type": "markdown",
   "id": "5391569d-168f-4acb-9d27-cc1ce6ed53d9",
   "metadata": {},
   "source": [
    "A DataModule standardizes the training, val, test splits, data preparation and transforms. The main advantage is consistent data splits, data preparation and transforms across models, which enabeles simple procedure of comparison."
   ]
  },
  {
   "cell_type": "code",
   "execution_count": 85,
   "id": "f7b55d39-928a-47df-8135-f194744b4eb3",
   "metadata": {},
   "outputs": [],
   "source": [
    "class PyLiDataModule(pl.LightningDataModule):\n",
    "    def __init__(self, cloud_data_sets, batch_size) :\n",
    "        super().__init__()\n",
    "        self.cloud_data_sets = cloud_data_sets\n",
    "        self.batch_size = batch_size\n",
    "        self.list_of_xr_datasets = [xr.Dataset() for i in range(len(self.cloud_data_sets))]\n",
    "        self.list_of_torch_datasets = [{} for i in range(len(self.cloud_data_sets))]\n",
    "        \n",
    "    #def prepare_data(self) :\n",
    "        #client.restart()\n",
    "        # preparation of data: mean and std of the dataset (to avoid batch avg), normalization and nan filling\n",
    "        for i in range(len(self.cloud_data_sets)) :\n",
    "            # read file\n",
    "            xr_dataset = xr.open_zarr(f'{SCRATCH_BUCKET}/data'+str(i)+'.zarr', chunks='auto')[features_to_add_to_sample + ['mask']]\n",
    "            for feature in features_to_add_to_sample :\n",
    "                # reapply mask (to avoid issues with nans written in netcdf files)\n",
    "                xr_dataset[feature] = xr_dataset[feature].where(xr_dataset.mask>0)\n",
    "                # compute mean, median and std for each level (since temperature/salinity may change a lot with the depth)\n",
    "                xr_dataset['mean_'+feature] = (xr_dataset[feature].mean())\n",
    "                xr_dataset['std_'+feature] = (xr_dataset[feature].std())\n",
    "                # fill nans with mean (doesn't the number to be fillted in matter since they will be masked, \n",
    "                # but they have to be filled with any numbers so that nans do not propagate everywhere) \n",
    "                xr_dataset[feature] = xr_dataset[feature].fillna(xr_dataset['mean_'+feature])\n",
    "                # normalize data by shifting with mean value and dividing by std (mean and std are computed above for each vertical level)\n",
    "                xr_dataset['normalized_'+feature] = ((xr_dataset[feature]-xr_dataset['mean_'+feature])/xr_dataset['std_'+feature]) \n",
    "            # save result in a list\n",
    "            self.list_of_xr_datasets[i] = xr_dataset\n",
    "            self.list_of_torch_datasets[i] = torchDataset(xr_dataset, transform=ToTensor())\n",
    "            \n",
    "    def setup(self, stage: str) :\n",
    "        if (stage == 'fit') :\n",
    "        # takes first 60% of time snapshots for training\n",
    "            self.train_dataset = torch.utils.data.ConcatDataset([torch.utils.data.Subset(dataset, \\\n",
    "                                                                                     indices=range(0,int(0.6*len(dataset)))) \\\n",
    "                                                                                     for dataset in self.list_of_torch_datasets])\n",
    "        # takes last 20% of time snapshots for validation (we keep a gap to have validation data decorrelated from trainig data)\n",
    "            self.val_dataset = torch.utils.data.ConcatDataset([torch.utils.data.Subset(dataset, \\\n",
    "                                                                                     indices=range(int(0.8*len(dataset)),len(dataset))) \\\n",
    "                                                                                     for dataset in self.list_of_torch_datasets])\n",
    "        # same for test\n",
    "        if (stage == 'test') :\n",
    "            self.test_datasets = [torch.utils.data.Subset(dataset, indices=range(int(0.8*len(dataset)),len(dataset))) \\\n",
    "                                                               for dataset in self.list_of_torch_datasets]\n",
    "            \n",
    "                \n",
    "    def train_dataloader(self) :\n",
    "        # create training dataloadder from train_dataset with shuffling with given batch size\n",
    "        return torch.utils.data.DataLoader(self.train_dataset, \\\n",
    "                                           batch_size=self.batch_size, shuffle=True, drop_last=True, num_workers=0)\n",
    "    \n",
    "    def val_dataloader(self) :\n",
    "        # create training dataloadder from val_dataset without shuffling with the same batch size\n",
    "        return torch.utils.data.DataLoader(self.val_dataset, batch_size=self.batch_size, drop_last=True, num_workers=0) \n",
    "    \n",
    "    def test_dataloader(self) :\n",
    "        # create a LIST of dataloaders (a dataloader for each dataset) - to enable diagnostics in each region/season individually \n",
    "        # batch size is equal to the dataset length, i.e. there is ONLY 1 batch with all dataset inside (can be better since there is no optimisation in testing)\n",
    "        return [torch.utils.data.DataLoader(dataset, batch_size=len(dataset), drop_last=True, num_workers=0) for dataset in self.test_datasets]\n",
    "    \n",
    "    def teardown(self, stage : str) :\n",
    "        if (stage == 'fit') :\n",
    "            # clean train and val datasets to free memory\n",
    "            del self.train_dataset, self.val_dataset\n",
    "        # if (stage == 'test') :\n",
    "        #     del self.test_datasets   \n",
    "        # if (stage == 'predict') :\n",
    "        #     del self.test_datasets   \n",
    "        \n",
    "    def tensor_restore_units(tensor, sample, reference_feature) :\n",
    "        return tensor*(sample['std_'+reference_feature][:,None,None])+sample['mean_'+reference_feature][:,None,None]\n",
    "\n",
    "    def tensor_normalize(tensor, sample, reference_feature) :\n",
    "        return (tensor-sample['mean_'+reference_feature][:,None,None])/(sample['std_'+reference_feature][:,None,None])"
   ]
  },
  {
   "cell_type": "markdown",
   "id": "c48780e7-a3d0-4f4a-9542-9b2993e79347",
   "metadata": {},
   "source": [
    "## Initialize datamodules"
   ]
  },
  {
   "cell_type": "code",
   "execution_count": 174,
   "id": "ab82f969-3b41-46fe-9c4f-5097a46fec21",
   "metadata": {},
   "outputs": [
    {
     "data": {
      "text/plain": [
       "[{'region': '2', 'season': 'fma', 'label': 'MIDATL FMA'},\n",
       " {'region': '2', 'season': 'aso', 'label': 'MIDATL ASO'}]"
      ]
     },
     "execution_count": 174,
     "metadata": {},
     "output_type": "execute_result"
    }
   ],
   "source": [
    "data_dict[2:4]"
   ]
  },
  {
   "cell_type": "code",
   "execution_count": 175,
   "id": "6aeb365d-6edd-47c0-8173-9cccf9273641",
   "metadata": {},
   "outputs": [
    {
     "name": "stdout",
     "output_type": "stream",
     "text": [
      "CPU times: user 10.4 s, sys: 2.03 s, total: 12.4 s\n",
      "Wall time: 14 s\n"
     ]
    }
   ],
   "source": [
    "%%time\n",
    "datamodule_GF = PyLiDataModule(data_dict[0:2], batch_size=batch_size)\n",
    "datamodule_MIDATL = PyLiDataModule(data_dict[2:4], batch_size=batch_size)\n",
    "datamodule_fma = PyLiDataModule(data_dict[slice(0,None,2)], batch_size=batch_size)\n",
    "datamodule_aso = PyLiDataModule(data_dict[slice(1,None,2)], batch_size=batch_size)"
   ]
  },
  {
   "cell_type": "markdown",
   "id": "603fd524-f01c-4cec-a352-29deddad3869",
   "metadata": {},
   "source": [
    "# Grad-based loss function"
   ]
  },
  {
   "cell_type": "code",
   "execution_count": 176,
   "id": "97e96c0b-e2d6-44d2-85e6-a1f3736de932",
   "metadata": {},
   "outputs": [],
   "source": [
    "def central_diffs(dataArray, dim) :\n",
    "    res = 0.5*(torch.roll(dataArray, shifts=-1, dims=dim) - torch.roll(dataArray, shifts=1, dims=dim))\n",
    "    return res"
   ]
  },
  {
   "cell_type": "code",
   "execution_count": 177,
   "id": "e0c7025d-2a5d-4ecd-88d8-f391227abf1b",
   "metadata": {},
   "outputs": [],
   "source": [
    "def finite_diffs_sqr_2d_array(dataArray, dim_x, dim_y) :\n",
    "    res = torch.pow(central_diffs(dataArray, dim_x),2) + torch.pow(central_diffs(dataArray, dim_y),2)\n",
    "    # cut the borders of the image\n",
    "    res = torch.narrow(res, dim=dim_x, start=1, length=res.shape[dim_x]-2)\n",
    "    res = torch.narrow(res, dim=dim_y, start=1, length=res.shape[dim_y]-2)\n",
    "    return res"
   ]
  },
  {
   "cell_type": "code",
   "execution_count": 178,
   "id": "de543096-5958-4c5d-9a51-65df1de96cc9",
   "metadata": {},
   "outputs": [],
   "source": [
    "def gradient_based_MSEloss(outputs, targets, reduction='mean') :\n",
    "        if (len(outputs.shape) == 3) : # 3D cube (single feature)\n",
    "            dim_x = 2\n",
    "            dim_y = 1\n",
    "        if (len(outputs.shape) == 4) : # 3D cube (multiple features/channels)\n",
    "            dim_x = 3\n",
    "            dim_y = 2\n",
    "        outputs_grad = finite_diffs_sqr_2d_array(outputs, dim_x=dim_x, dim_y=dim_y)\n",
    "        targets_grad = finite_diffs_sqr_2d_array(targets, dim_x=dim_x, dim_y=dim_y)\n",
    "        \n",
    "        value_loss = torch.nn.functional.mse_loss(outputs, targets, reduction=reduction)\n",
    "        grad_loss = torch.nn.functional.mse_loss(outputs_grad, targets_grad, reduction=reduction)\n",
    "\n",
    "        return (value_loss+0.1*grad_loss)    "
   ]
  },
  {
   "cell_type": "markdown",
   "id": "d902bf8a-1532-4473-b9ab-f62877c4ccf6",
   "metadata": {
    "tags": []
   },
   "source": [
    "# Generic PyTorch Lightning Module"
   ]
  },
  {
   "cell_type": "markdown",
   "id": "1bd42796-5341-4c52-943d-171b547e6cc9",
   "metadata": {},
   "source": [
    "Logic of trainig, validation and test common for all models"
   ]
  },
  {
   "cell_type": "code",
   "execution_count": 179,
   "id": "9a1d0a14-922c-48a6-927a-a4595ffce148",
   "metadata": {},
   "outputs": [],
   "source": [
    "class GenericPyLiModule(pl.LightningModule):\n",
    "    def __init__(self, torch_model, inputs, outputs, loss, optimizer, learning_rate):\n",
    "        super().__init__()\n",
    "        self.torch_model = torch_model\n",
    "        self.inputs = inputs\n",
    "        self.outputs = outputs\n",
    "        self.loss = loss\n",
    "        self.save_hyperparameters(ignore=['torch_model', 'loss'])\n",
    "        self.optimizer = optimizer\n",
    "        self.learning_rate = learning_rate\n",
    "        \n",
    "        ## initialization of weights\n",
    "        #torch_model.weight.data = torch.Tensor([1.0])\n",
    "\n",
    "        #construct list of names of features to be predicted\n",
    "        self.list_of_features_to_predict=list()\n",
    "        for i, feature in enumerate(self.outputs) :\n",
    "            self.list_of_features_to_predict.append(feature)\n",
    "            if feature.startswith('normalized_') :\n",
    "                # if model output is a normalized feature then compute also the non-normalized feature for the diagnostics \n",
    "                not_normalized_feature = feature.replace(\"normalized_\", \"\")\n",
    "                self.list_of_features_to_predict.append(not_normalized_feature)\n",
    "        \n",
    "    def cut_bords(self, tensor, nb_of_border_pix) :\n",
    "        if nb_of_border_pix is None :\n",
    "            return tensor\n",
    "        else :\n",
    "            return tensor[:, nb_of_border_pix:-nb_of_border_pix, nb_of_border_pix:-nb_of_border_pix] \n",
    "\n",
    "    def transform_input(self, batch) :\n",
    "        # transform dictionary issued from the data loader into 4D torch arrays of shape [N,C,H,W]\n",
    "        stacked_channels = torch.stack([self.cut_bords(batch[key], self.torch_model.cut_border_pix_input) for key in self.inputs])\n",
    "        transform = torch.permute(stacked_channels, (1,0,2,3)).to(torch.float32)\n",
    "        return transform\n",
    "    \n",
    "    def transform_target(self, batch) :\n",
    "        stacked_channels = torch.stack([self.cut_bords(batch[key], self.torch_model.cut_border_pix_output) for key in self.outputs])\n",
    "        transform = torch.permute(stacked_channels, (1,0,2,3)).to(torch.float32)\n",
    "        return transform\n",
    "    \n",
    "    def transform_mask(self, batch, key='eroded_mask') : \n",
    "        nb_of_border_pix = self.torch_model.cut_border_pix_output\n",
    "        if nb_of_border_pix is None :\n",
    "            return batch[key]\n",
    "        else :\n",
    "            return batch[key][:, nb_of_border_pix:-nb_of_border_pix, nb_of_border_pix:-nb_of_border_pix] \n",
    "\n",
    "    def evaluate_tensor_metrics_with_mask(self, metrics, mask, truth, model_output, reduction='mean') :\n",
    "        if (len(model_output.shape) == 3) : # 1 feature (1 channel) - 3D tensor\n",
    "            batch_len, output_h, output_w = model_output.shape  \n",
    "            valid_mask_counts = torch.count_nonzero(mask)\n",
    "            \n",
    "        if (len(model_output.shape) == 4) : # 4D tensor [N,C,H,W]\n",
    "            batch_len, nb_of_channels, output_h, output_w = model_output.shape  \n",
    "            valid_mask_counts = torch.count_nonzero(mask)*nb_of_channels\n",
    "            mask = mask[:,None,:,:]\n",
    "            \n",
    "        if (reduction=='none') : \n",
    "            return metrics(model_output*mask, truth*mask, reduction='none')\n",
    "    \n",
    "        total_metrics = metrics(model_output*mask, truth*mask, reduction='sum')\n",
    "        if (reduction=='mean') : \n",
    "            return (total_metrics/valid_mask_counts)\n",
    "        if (reduction=='sum') : \n",
    "            return (total_metrics)\n",
    "        \n",
    "    def training_step(self, batch, batch_idx) :\n",
    "        x = self.transform_input(batch)\n",
    "        y_true = self.transform_target(batch)\n",
    "        mask = self.transform_mask(batch)\n",
    "        \n",
    "        y_model = self.torch_model(x)\n",
    "        loss_val = self.evaluate_tensor_metrics_with_mask(self.loss, mask, y_model, y_true)  \n",
    "        self.log_dict({'loss_train' : loss_val}, on_step=False, on_epoch=True)\n",
    "        return loss_val\n",
    "\n",
    "    # validation logics (is evaluated during the training, but the data is not used to the optimization loop)\n",
    "    def validation_step(self, batch, batch_idx) :\n",
    "        x = self.transform_input(batch)\n",
    "        y_true = self.transform_target(batch)\n",
    "        mask = self.transform_mask(batch)\n",
    "        y_model = self.torch_model(x)\n",
    "        \n",
    "        loss_val = self.evaluate_tensor_metrics_with_mask(self.loss, mask, y_model, y_true)  \n",
    "        self.log('loss_val', loss_val, on_step=False, on_epoch=True) \n",
    "    \n",
    "    # gives model output in a form of a dictionary of batches of 2d fields\n",
    "    def predict_step(self, batch, batch_idx, dataloader_idx) :\n",
    "        x = self.transform_input(batch)\n",
    "        \n",
    "        output_4d_tensor = self.torch_model(x)\n",
    "        batch_len, nb_of_channels, output_h, output_w = output_4d_tensor.shape\n",
    "        \n",
    "        mask = self.transform_mask(batch, key='mask')\n",
    "        #mask = mask[:,None,:,:]\n",
    "            \n",
    "        # construct the dictionary of the predicted features by decomposing the channels in the 4d torch tensor\n",
    "        pred = dict()\n",
    "        for i, feature in enumerate(self.outputs) :\n",
    "            # 1 feature = 1 channel of 4D tensor\n",
    "            pred[feature] = output_4d_tensor[:, i, :, :]\n",
    "            # if some outputs are normalized then compute also result in the restored units (not normalized)\n",
    "            if feature.startswith('normalized_') :\n",
    "                not_normalized_feature = feature.replace(\"normalized_\", \"\")\n",
    "                pred[not_normalized_feature] = PyLiDataModule.tensor_restore_units(pred[feature], batch, not_normalized_feature)\n",
    "                \n",
    "        for i, feature in enumerate(self.list_of_features_to_predict):\n",
    "            pred['mask'] = mask\n",
    "            pred[feature+'_masked'] = pred[feature].where(mask, torch.ones_like(pred[feature])*np.nan)\n",
    "        return pred \n",
    "    \n",
    "    # testing logic - to evaluate the model after training\n",
    "    def test_step(self, batch, batch_idx, dataloader_idx) :\n",
    "        pred = self.predict_step(batch, batch_idx, dataloader_idx)\n",
    "        mask = self.transform_mask(batch, key='eroded_mask')\n",
    "        \n",
    "        test_dict = dict({'loss_val' : dict(), 'loss_grad' : dict(), 'corr_coef' : dict(), 'corr_coef_grad' : dict()})\n",
    "        dict_for_log = dict()\n",
    "        for i, feature in enumerate(self.list_of_features_to_predict) :\n",
    "            truth = self.cut_bords(batch[feature], self.torch_model.cut_border_pix_output)\n",
    "            model_output = pred[feature]\n",
    "            \n",
    "            test_dict['loss_val'][feature] = self.evaluate_tensor_metrics_with_mask(torch.nn.functional.mse_loss, mask, \\\n",
    "                                                                                    model_output, truth, reduction='mean')\n",
    "            test_dict['corr_coef'][feature] = torch.corrcoef(torch.vstack((torch.flatten(model_output).view(1,-1), \\\n",
    "                                                              torch.flatten(truth).view(1,-1))))[1,0]\n",
    "            # metrics on horizontal gradients\n",
    "            model_output_grad = finite_diffs_sqr_2d_array(model_output, dim_x=2, dim_y=1)\n",
    "            truth_grad = finite_diffs_sqr_2d_array(truth, dim_x=2, dim_y=1)\n",
    "            test_dict['loss_grad'][feature] = self.evaluate_tensor_metrics_with_mask(torch.nn.functional.mse_loss, mask[:,1:-1,1:-1], \\\n",
    "                                                                         model_output_grad, \\\n",
    "                                                                         truth_grad, reduction='mean')\n",
    "            test_dict['corr_coef_grad'][feature] = torch.corrcoef(torch.vstack((torch.flatten(model_output_grad).view(1,-1), \\\n",
    "                                                              torch.flatten(truth_grad).view(1,-1))))[1,0]\n",
    "            for metrics in list(test_dict.keys()) : \n",
    "                dict_for_log.update({(metrics+'_'+feature) : test_dict[metrics][feature]})\n",
    "        self.log_dict(dict_for_log)\n",
    "\n",
    "    def configure_optimizers(self) :\n",
    "        optimizer = self.optimizer(self.parameters(), lr=self.learning_rate)\n",
    "        return optimizer"
   ]
  },
  {
   "cell_type": "markdown",
   "id": "3cc4cd42-6b2f-449e-a4d7-1ac538d47b5a",
   "metadata": {},
   "source": [
    "# Experiment class"
   ]
  },
  {
   "cell_type": "markdown",
   "id": "6a613b0a-8834-429a-9d38-3475a41cdf69",
   "metadata": {},
   "source": [
    "This class collects all information needed for an experiment:"
   ]
  },
  {
   "cell_type": "code",
   "execution_count": 180,
   "id": "3b0a26a9-a388-491a-916f-0ef415904050",
   "metadata": {},
   "outputs": [],
   "source": [
    "class Experiment :\n",
    "    log_directory='logs/'\n",
    "    \n",
    "    def __init__(self, pl_class, torch_model, label, version_name, datamodule, input_features, target_features, loss, optimizer, \\\n",
    "                 learning_rate=0.001, max_epochs=None, limit_train_batches=1.0, **kwargs) :\n",
    "        super().__init__()\n",
    "        self.label = label\n",
    "        self.version_name = version_name\n",
    "        \n",
    "        self.pl_class = pl_class  # pytorch lightning module class\n",
    "        self.torch_model = torch_model\n",
    "        self.datamodule = datamodule\n",
    "        self.input_features = input_features\n",
    "        self.target_features = target_features\n",
    "        self.loss=loss\n",
    "        self.optimizer = optimizer\n",
    "        self.learning_rate = learning_rate\n",
    "        self.max_epochs = max_epochs\n",
    "        self.limit_train_batches = limit_train_batches\n",
    "        self.kwargs = kwargs\n",
    "        \n",
    "        # Instantiate pytorch lightning module\n",
    "        self.pylight_model = self.pl_class(self.torch_model, self.input_features, self.target_features, loss=self.loss, \\\n",
    "                                           optimizer=self.optimizer, learning_rate=self.learning_rate, **self.kwargs)\n",
    "        self.logger = pl_loggers.TensorBoardLogger(save_dir=self.log_directory, name=self.label, version=self.version_name)\n",
    "\n",
    "    def run(self) :\n",
    "        self.checkpoint_callback = ModelCheckpoint(dirpath=self.log_directory + self.label + \"/\" + self.version_name, \\\n",
    "                                              save_top_k=2, monitor=\"loss_val\", save_last=True)\n",
    "    \n",
    "        self.trainer = pl.Trainer(max_epochs=self.max_epochs, logger=self.logger, limit_train_batches=self.limit_train_batches, \\\n",
    "                                  callbacks=[EarlyStopping(monitor=\"loss_val\", mode=\"min\"), self.checkpoint_callback],\\\n",
    "                                  accelerator='gpu', devices=(1 if torch.cuda.is_available() else None))  \n",
    "        self.trainer.fit(model = self.pylight_model, datamodule=self.datamodule)\n",
    "        self.logs = get_logs_from_tb(exp_name=self.label, version_name=self.version_name, directory=self.log_directory)\n",
    "        \n",
    "    def get_logs(self) :\n",
    "        self.logs = get_logs_from_tb(exp_name=self.label, version_name=self.version_name, directory=self.log_directory)\n",
    "        \n",
    "    def get_checkpoint_path(self) :\n",
    "        #file = glob.glob(self.log_directory + self.label + \"/\" + self.version_name + '/*.ckpt')[-1]\n",
    "        #print(file)\n",
    "        file = self.log_directory + self.label + \"/\" + self.version_name + '/last.ckpt'\n",
    "        return file\n",
    "        \n",
    "    def test(self) :\n",
    "        return self.trainer.test(self.pylight_model, datamodule=self.datamodule)"
   ]
  },
  {
   "cell_type": "markdown",
   "id": "da614535-daa6-4d43-bbdd-983e1a44596e",
   "metadata": {},
   "source": [
    "# Data structure for experiments"
   ]
  },
  {
   "cell_type": "markdown",
   "id": "db2eb2d7-faeb-4fd9-abca-059e2becad21",
   "metadata": {},
   "source": [
    "Dictionary of dictionaries for arranging experiments"
   ]
  },
  {
   "cell_type": "code",
   "execution_count": 181,
   "id": "d1a5f2ea-c257-4f05-8775-e9a1ba9b2bff",
   "metadata": {},
   "outputs": [],
   "source": [
    "exp = dict()"
   ]
  },
  {
   "cell_type": "code",
   "execution_count": 182,
   "id": "fc0e0c15-8938-4bd3-932d-91e9bb339272",
   "metadata": {},
   "outputs": [],
   "source": [
    "exp['LinReg'] = dict()\n",
    "exp['FCNN'] = dict()\n",
    "exp['CNN'] = dict()"
   ]
  },
  {
   "cell_type": "markdown",
   "id": "3cb3578c-4153-4251-af78-641b70d64919",
   "metadata": {},
   "source": [
    "# Linear regression"
   ]
  },
  {
   "cell_type": "markdown",
   "id": "e46f6515-ca0f-487f-bb21-9c05b3d45960",
   "metadata": {},
   "source": [
    "## Model"
   ]
  },
  {
   "cell_type": "markdown",
   "id": "fe4eef53-41b0-4219-9ae7-f6a272a32a7b",
   "metadata": {},
   "source": [
    " Torch analog of the deterministic parametrization - linear regreaaion with only 1 parameter aimig to find coefficient $c$ in the parametrization of the form :\n",
    " $$ \\sigma_T^2 \\approx c |\\delta \\textbf{x} \\cdot \\nabla T|^2 $$\n",
    " where gradient norm is approximated by central finite difference scheme: \n",
    " $$ |\\delta \\textbf{x} \\cdot \\nabla T|^2 = \\frac{1}{4} \\big[ T(x+\\delta x,y) - T(x-\\delta x, y) \\big]^2 + \\frac{1}{4} \\big[ T(x,y+\\delta y) - T(x, y-\\delta y) \\big]^2 $$"
   ]
  },
  {
   "cell_type": "code",
   "execution_count": 183,
   "id": "0408a7a5-d9ad-45dd-87c3-a6f860bec278",
   "metadata": {},
   "outputs": [],
   "source": [
    "class lin_regr_model(torch.nn.Module):\n",
    "    def __init__(self, nb_of_input_features, nb_of_output_features):\n",
    "        super().__init__()\n",
    "        self.nb_of_input_features = nb_of_input_features\n",
    "        self.nb_of_output_features = nb_of_output_features\n",
    "        \n",
    "        self.cut_border_pix_output = None\n",
    "        self.cut_border_pix_input = None\n",
    "        \n",
    "        self.lin1 = torch.nn.Linear(self.nb_of_input_features, self.nb_of_output_features, bias=False)\n",
    "        \n",
    "        # initialization \n",
    "        self.lin1.weight.data = torch.Tensor([[0.1]])\n",
    "\n",
    "    def forward(self, x):\n",
    "        batch_len, nb_of_channels, output_h, output_w = x.shape\n",
    "        \n",
    "        # first split the input 4D torch tensor into individual pixels (equivalent to patches of size 1x1)\n",
    "        res = torch.nn.functional.unfold(x, kernel_size=1, dilation=1, padding=0, stride=1) #[N,C,HxW]\n",
    "        res = torch.permute(res, dims=(0,2,1))  #[N,HxW,C]\n",
    "        res = torch.flatten(res, end_dim=1).to(torch.float32)  #[NxHxW,C]\n",
    "        \n",
    "        # perform linear regression\n",
    "        res = self.lin1(res)\n",
    "        \n",
    "        # reshape the model output back to a 4D torch tensor\n",
    "        res = res.unflatten(dim=0, sizes=[batch_len,-1])  #[N,HxW,C]\n",
    "        res = torch.permute(res,dims=(0,2,1))     # [N,C,HxW]\n",
    "        res = torch.nn.functional.fold(res, output_size=(output_h,output_w), kernel_size=1, dilation=1, padding=0, stride=1) # [N,C,H,W]\n",
    "\n",
    "        return res"
   ]
  },
  {
   "cell_type": "markdown",
   "id": "0756c694-4154-4481-9d55-a7910e43a3b7",
   "metadata": {},
   "source": [
    "## Experiments"
   ]
  },
  {
   "cell_type": "code",
   "execution_count": 184,
   "id": "b47da3b3-4c1f-4df1-955d-8771a7f10369",
   "metadata": {},
   "outputs": [],
   "source": [
    "model_name = 'LinReg'"
   ]
  },
  {
   "cell_type": "code",
   "execution_count": 185,
   "id": "028c1261-74cd-4ed0-a7f4-e5abf2cd9767",
   "metadata": {},
   "outputs": [],
   "source": [
    "list_of_exps = ['aso', 'fma', 'GF', 'MIDATL']"
   ]
  },
  {
   "cell_type": "code",
   "execution_count": 186,
   "id": "3c5a5d19-dbbe-4a4d-8925-c27d65b4e980",
   "metadata": {},
   "outputs": [],
   "source": [
    "for exp_name in list_of_exps :\n",
    "    exp[model_name][exp_name] = dict()"
   ]
  },
  {
   "cell_type": "code",
   "execution_count": 187,
   "id": "da73eec8-99ed-41a0-bf0d-03fb07dc18e2",
   "metadata": {},
   "outputs": [],
   "source": [
    "input_features_LinReg = ['diff_sosstsst_sqr']\n",
    "output_features_LinReg = ['sosstsst_var']"
   ]
  },
  {
   "cell_type": "code",
   "execution_count": 188,
   "id": "b63006a8-3ec7-40b9-aa1e-8aaf7f76c5ca",
   "metadata": {},
   "outputs": [],
   "source": [
    "exp['LinReg']['aso']['exp'] = Experiment(\\\n",
    "                      pl_class=GenericPyLiModule, \\\n",
    "                      torch_model=lin_regr_model(len(input_features_LinReg), len(output_features_LinReg)), \\\n",
    "                      label='2d_linear_reg', \\\n",
    "                      version_name='masked_temp_var2D_aso', \\\n",
    "                      input_features=input_features_LinReg, \\\n",
    "                      target_features=output_features_LinReg, \n",
    "                      datamodule=datamodule_aso,\\\n",
    "                      loss = torch.nn.functional.huber_loss, \\\n",
    "                      optimizer = torch.optim.SGD,\\\n",
    "                      learning_rate = 1e-3,\\\n",
    "                      max_epochs=100, \n",
    "                      limit_train_batches=1.0) "
   ]
  },
  {
   "cell_type": "code",
   "execution_count": 189,
   "id": "25f9660c-3e8c-4f81-8d4e-43663c190803",
   "metadata": {},
   "outputs": [],
   "source": [
    "exp['LinReg']['fma']['exp'] = Experiment(\\\n",
    "                      pl_class=GenericPyLiModule, \\\n",
    "                      torch_model=lin_regr_model(len(input_features_LinReg), len(output_features_LinReg)), \\\n",
    "                      label='2d_linear_reg', \\\n",
    "                      version_name='masked_temp_var2D_fma', \\\n",
    "                      input_features=input_features_LinReg, \\\n",
    "                      target_features=output_features_LinReg, \n",
    "                      datamodule=datamodule_fma,\\\n",
    "                      loss = torch.nn.functional.huber_loss, \\\n",
    "                      optimizer = torch.optim.SGD,\\\n",
    "                      learning_rate = 1e-3,\\\n",
    "                      max_epochs=100, \n",
    "                      limit_train_batches=1.0) "
   ]
  },
  {
   "cell_type": "code",
   "execution_count": 190,
   "id": "4ba247de-b2dd-4482-83a7-b64eaaa2a49c",
   "metadata": {},
   "outputs": [],
   "source": [
    "exp['LinReg']['GF']['exp'] = Experiment(\\\n",
    "                      pl_class=GenericPyLiModule, \\\n",
    "                      torch_model=lin_regr_model(len(input_features_LinReg), len(output_features_LinReg)), \\\n",
    "                      label='2d_linear_reg', \\\n",
    "                      version_name='masked_temp_var2D_GF', \\\n",
    "                      input_features=input_features_LinReg, \\\n",
    "                      target_features=output_features_LinReg, \n",
    "                      datamodule=datamodule_GF,\\\n",
    "                      loss = torch.nn.functional.huber_loss, \\\n",
    "                      optimizer = torch.optim.SGD,\\\n",
    "                      learning_rate = 1e-3,\\\n",
    "                      max_epochs=100, \n",
    "                      limit_train_batches=1.0) "
   ]
  },
  {
   "cell_type": "code",
   "execution_count": 191,
   "id": "5e910403-22b6-4b8d-a097-71de871eb419",
   "metadata": {},
   "outputs": [],
   "source": [
    "exp['LinReg']['MIDATL']['exp'] = Experiment(\\\n",
    "                      pl_class=GenericPyLiModule, \\\n",
    "                      torch_model=lin_regr_model(len(input_features_LinReg), len(output_features_LinReg)), \\\n",
    "                      label='2d_linear_reg', \\\n",
    "                      version_name='masked_temp_var2D_MIDATL', \\\n",
    "                      input_features=input_features_LinReg, \\\n",
    "                      target_features=output_features_LinReg, \n",
    "                      datamodule=datamodule_MIDATL,\\\n",
    "                      loss = torch.nn.functional.huber_loss, \\\n",
    "                      optimizer = torch.optim.SGD,\\\n",
    "                      learning_rate = 1e-3,\\\n",
    "                      max_epochs=100, \n",
    "                      limit_train_batches=1.0) "
   ]
  },
  {
   "cell_type": "markdown",
   "id": "7246735b-d68f-4ca6-b03e-e8f41b10741b",
   "metadata": {},
   "source": [
    "## Training"
   ]
  },
  {
   "cell_type": "code",
   "execution_count": 192,
   "id": "aed55e71-d66c-415a-9c80-84e8971956fd",
   "metadata": {},
   "outputs": [],
   "source": [
    "# exp['LinReg']['aso']['exp'].run()\n",
    "# clear_output(wait=True)"
   ]
  },
  {
   "cell_type": "code",
   "execution_count": 193,
   "id": "df843464-3968-4da3-8dcf-fb1eae5592a2",
   "metadata": {},
   "outputs": [],
   "source": [
    "# exp['LinReg']['fma']['exp'].run()\n",
    "# clear_output(wait=True)"
   ]
  },
  {
   "cell_type": "code",
   "execution_count": 194,
   "id": "7ffe42fc-79a8-4630-9576-2f06b5cb80ce",
   "metadata": {},
   "outputs": [
    {
     "name": "stderr",
     "output_type": "stream",
     "text": [
      "GPU available: True (cuda), used: True\n",
      "TPU available: False, using: 0 TPU cores\n",
      "IPU available: False, using: 0 IPUs\n",
      "HPU available: False, using: 0 HPUs\n",
      "`Trainer(limit_train_batches=1.0)` was configured so 100% of the batches per epoch will be used..\n",
      "LOCAL_RANK: 0 - CUDA_VISIBLE_DEVICES: [0]\n",
      "\n",
      "  | Name        | Type           | Params\n",
      "-----------------------------------------------\n",
      "0 | torch_model | lin_regr_model | 1     \n",
      "-----------------------------------------------\n",
      "1         Trainable params\n",
      "0         Non-trainable params\n",
      "1         Total params\n",
      "0.000     Total estimated model params size (MB)\n"
     ]
    },
    {
     "data": {
      "application/vnd.jupyter.widget-view+json": {
       "model_id": "",
       "version_major": 2,
       "version_minor": 0
      },
      "text/plain": [
       "Sanity Checking: 0it [00:00, ?it/s]"
      ]
     },
     "metadata": {},
     "output_type": "display_data"
    },
    {
     "data": {
      "application/vnd.jupyter.widget-view+json": {
       "model_id": "c62bec06bcf44e629f019af0f4a67bd2",
       "version_major": 2,
       "version_minor": 0
      },
      "text/plain": [
       "Training: 0it [00:00, ?it/s]"
      ]
     },
     "metadata": {},
     "output_type": "display_data"
    },
    {
     "data": {
      "application/vnd.jupyter.widget-view+json": {
       "model_id": "",
       "version_major": 2,
       "version_minor": 0
      },
      "text/plain": [
       "Validation: 0it [00:00, ?it/s]"
      ]
     },
     "metadata": {},
     "output_type": "display_data"
    },
    {
     "data": {
      "application/vnd.jupyter.widget-view+json": {
       "model_id": "",
       "version_major": 2,
       "version_minor": 0
      },
      "text/plain": [
       "Validation: 0it [00:00, ?it/s]"
      ]
     },
     "metadata": {},
     "output_type": "display_data"
    },
    {
     "data": {
      "application/vnd.jupyter.widget-view+json": {
       "model_id": "",
       "version_major": 2,
       "version_minor": 0
      },
      "text/plain": [
       "Validation: 0it [00:00, ?it/s]"
      ]
     },
     "metadata": {},
     "output_type": "display_data"
    },
    {
     "data": {
      "application/vnd.jupyter.widget-view+json": {
       "model_id": "",
       "version_major": 2,
       "version_minor": 0
      },
      "text/plain": [
       "Validation: 0it [00:00, ?it/s]"
      ]
     },
     "metadata": {},
     "output_type": "display_data"
    },
    {
     "data": {
      "application/vnd.jupyter.widget-view+json": {
       "model_id": "",
       "version_major": 2,
       "version_minor": 0
      },
      "text/plain": [
       "Validation: 0it [00:00, ?it/s]"
      ]
     },
     "metadata": {},
     "output_type": "display_data"
    },
    {
     "data": {
      "application/vnd.jupyter.widget-view+json": {
       "model_id": "",
       "version_major": 2,
       "version_minor": 0
      },
      "text/plain": [
       "Validation: 0it [00:00, ?it/s]"
      ]
     },
     "metadata": {},
     "output_type": "display_data"
    },
    {
     "data": {
      "application/vnd.jupyter.widget-view+json": {
       "model_id": "",
       "version_major": 2,
       "version_minor": 0
      },
      "text/plain": [
       "Validation: 0it [00:00, ?it/s]"
      ]
     },
     "metadata": {},
     "output_type": "display_data"
    },
    {
     "data": {
      "application/vnd.jupyter.widget-view+json": {
       "model_id": "",
       "version_major": 2,
       "version_minor": 0
      },
      "text/plain": [
       "Validation: 0it [00:00, ?it/s]"
      ]
     },
     "metadata": {},
     "output_type": "display_data"
    },
    {
     "data": {
      "application/vnd.jupyter.widget-view+json": {
       "model_id": "",
       "version_major": 2,
       "version_minor": 0
      },
      "text/plain": [
       "Validation: 0it [00:00, ?it/s]"
      ]
     },
     "metadata": {},
     "output_type": "display_data"
    },
    {
     "data": {
      "application/vnd.jupyter.widget-view+json": {
       "model_id": "",
       "version_major": 2,
       "version_minor": 0
      },
      "text/plain": [
       "Validation: 0it [00:00, ?it/s]"
      ]
     },
     "metadata": {},
     "output_type": "display_data"
    },
    {
     "data": {
      "application/vnd.jupyter.widget-view+json": {
       "model_id": "",
       "version_major": 2,
       "version_minor": 0
      },
      "text/plain": [
       "Validation: 0it [00:00, ?it/s]"
      ]
     },
     "metadata": {},
     "output_type": "display_data"
    },
    {
     "data": {
      "application/vnd.jupyter.widget-view+json": {
       "model_id": "",
       "version_major": 2,
       "version_minor": 0
      },
      "text/plain": [
       "Validation: 0it [00:00, ?it/s]"
      ]
     },
     "metadata": {},
     "output_type": "display_data"
    },
    {
     "data": {
      "application/vnd.jupyter.widget-view+json": {
       "model_id": "",
       "version_major": 2,
       "version_minor": 0
      },
      "text/plain": [
       "Validation: 0it [00:00, ?it/s]"
      ]
     },
     "metadata": {},
     "output_type": "display_data"
    },
    {
     "data": {
      "application/vnd.jupyter.widget-view+json": {
       "model_id": "",
       "version_major": 2,
       "version_minor": 0
      },
      "text/plain": [
       "Validation: 0it [00:00, ?it/s]"
      ]
     },
     "metadata": {},
     "output_type": "display_data"
    },
    {
     "data": {
      "application/vnd.jupyter.widget-view+json": {
       "model_id": "",
       "version_major": 2,
       "version_minor": 0
      },
      "text/plain": [
       "Validation: 0it [00:00, ?it/s]"
      ]
     },
     "metadata": {},
     "output_type": "display_data"
    },
    {
     "data": {
      "application/vnd.jupyter.widget-view+json": {
       "model_id": "",
       "version_major": 2,
       "version_minor": 0
      },
      "text/plain": [
       "Validation: 0it [00:00, ?it/s]"
      ]
     },
     "metadata": {},
     "output_type": "display_data"
    },
    {
     "data": {
      "application/vnd.jupyter.widget-view+json": {
       "model_id": "",
       "version_major": 2,
       "version_minor": 0
      },
      "text/plain": [
       "Validation: 0it [00:00, ?it/s]"
      ]
     },
     "metadata": {},
     "output_type": "display_data"
    },
    {
     "data": {
      "application/vnd.jupyter.widget-view+json": {
       "model_id": "",
       "version_major": 2,
       "version_minor": 0
      },
      "text/plain": [
       "Validation: 0it [00:00, ?it/s]"
      ]
     },
     "metadata": {},
     "output_type": "display_data"
    },
    {
     "name": "stdout",
     "output_type": "stream",
     "text": [
      "logs//2d_linear_reg/masked_temp_var2D_GF/events.out.tfevents.1674443689.jupyter-anastasiagor.1528.36\n"
     ]
    }
   ],
   "source": [
    "exp['LinReg']['GF']['exp'].run()\n",
    "clear_output(wait=True)"
   ]
  },
  {
   "cell_type": "code",
   "execution_count": 195,
   "id": "c726e34c-6c76-41b6-b3d3-cc66c4354bf7",
   "metadata": {},
   "outputs": [],
   "source": [
    "# exp['LinReg']['MIDATL']['exp'].run()\n",
    "# clear_output(wait=True)"
   ]
  },
  {
   "cell_type": "code",
   "execution_count": 196,
   "id": "505ce039-57fd-467f-b11f-697ac9a614da",
   "metadata": {},
   "outputs": [
    {
     "name": "stdout",
     "output_type": "stream",
     "text": [
      "logs//2d_linear_reg/masked_temp_var2D_aso/events.out.tfevents.1674439338.jupyter-anastasiagor.1528.0\n",
      "logs//2d_linear_reg/masked_temp_var2D_fma/events.out.tfevents.1674439404.jupyter-anastasiagor.1528.1\n",
      "logs//2d_linear_reg/masked_temp_var2D_GF/events.out.tfevents.1674443689.jupyter-anastasiagor.1528.36\n",
      "logs//2d_linear_reg/masked_temp_var2D_MIDATL/events.out.tfevents.1674439520.jupyter-anastasiagor.1528.3\n"
     ]
    },
    {
     "data": {
      "image/png": "[encoded data removed]",
      "text/plain": [
       "<Figure size 1500x250 with 4 Axes>"
      ]
     },
     "metadata": {},
     "output_type": "display_data"
    }
   ],
   "source": [
    "fig, ax = plt.subplots(1, 4, constrained_layout=True, figsize=(15, 2.5), sharex=False, sharey=False)\n",
    "exp_model = exp['LinReg']\n",
    "\n",
    "for i, exp_name in enumerate(exp_model) :\n",
    "    experiment = exp_model[exp_name]['exp']\n",
    "    experiment.get_logs()\n",
    "    ax[i].plot(experiment.logs['loss_train'], color=list(mcolors.TABLEAU_COLORS.values())[0],marker='.', label='Training')\n",
    "    ax[i].plot(experiment.logs['loss_val'], color=list(mcolors.TABLEAU_COLORS.values())[1], marker='.', label='Validation')\n",
    "    ax[i].set(title=exp_name, xlabel='Epoch', yscale='linear')\n",
    "    ax[i].grid(True)\n",
    "ax[0].set(ylabel='Loss')\n",
    "ax[-1].legend(bbox_to_anchor=(1.05, 1), loc='upper left')\n",
    "plt.show()"
   ]
  },
  {
   "cell_type": "code",
   "execution_count": 197,
   "id": "e2a7a1cc-78e2-46ff-b09d-29294f9fc71a",
   "metadata": {},
   "outputs": [
    {
     "name": "stdout",
     "output_type": "stream",
     "text": [
      "aso :tensor([0.1324], grad_fn=<SelectBackward0>)\n",
      "fma :tensor([0.1324], grad_fn=<SelectBackward0>)\n",
      "GF :tensor([0.1324], grad_fn=<SelectBackward0>)\n",
      "MIDATL :tensor([0.1324], grad_fn=<SelectBackward0>)\n"
     ]
    }
   ],
   "source": [
    "for i, exp_name in enumerate(exp_model) :\n",
    "    experiment = exp['LinReg'][exp_name]['exp']\n",
    "    model = experiment.pylight_model\n",
    "    exp['LinReg'][exp_name]['best_model'] = model.load_from_checkpoint(torch_model=model.torch_model, loss=model.loss,\\\n",
    "                                                            checkpoint_path=experiment.get_checkpoint_path(), \\\n",
    "                                                            **experiment.kwargs)\n",
    "    coef = exp['LinReg'][exp_name]['best_model']\n",
    "    print(exp_name + ' :' + str(exp['LinReg'][exp_name]['best_model'].torch_model.lin1.weight[0]))"
   ]
  },
  {
   "cell_type": "markdown",
   "id": "ff56d616-ef48-44ed-8de0-a84d0486862b",
   "metadata": {
    "tags": []
   },
   "source": [
    "# Fully-connected NN for patches"
   ]
  },
  {
   "cell_type": "markdown",
   "id": "ab11e8cd-d6bd-4ccd-b3f6-fffbdc59f010",
   "metadata": {},
   "source": [
    "## Model"
   ]
  },
  {
   "cell_type": "markdown",
   "id": "ce56e2f8-3394-4af0-a48f-cacb91df0a6f",
   "metadata": {},
   "source": [
    "The torch module class describing a model that treats the inputs/outputs by patches of pixels. "
   ]
  },
  {
   "cell_type": "code",
   "execution_count": 198,
   "id": "9ca64492-abe7-4de7-bb19-56bc3b56e92d",
   "metadata": {},
   "outputs": [],
   "source": [
    "class FCNN(torch.nn.Module):\n",
    "    def __init__(self, nb_of_input_features, nb_of_output_features, input_patch_size, output_patch_size):\n",
    "        super().__init__()\n",
    "        self.input_patch_size = input_patch_size\n",
    "        self.output_patch_size = output_patch_size\n",
    "        \n",
    "        self.lin1 = torch.nn.Linear(nb_of_input_features*input_patch_size**2, 50, bias=True)\n",
    "        self.lin2 = torch.nn.Linear(50, 50, bias=True)\n",
    "        self.lin3 = torch.nn.Linear(50, nb_of_output_features*output_patch_size**2, bias=True)\n",
    "        \n",
    "        self.cut_border_pix_output = self.input_patch_size//2 - self.output_patch_size//2\n",
    "        self.cut_border_pix_input = None\n",
    "\n",
    "    def forward(self, x):\n",
    "        batch_len, nb_of_channels = x.shape[0:2]\n",
    "        output_h = x.shape[2]-2*(self.cut_border_pix_output)\n",
    "        output_w = x.shape[3]-2*(self.cut_border_pix_output)\n",
    "        # x -> [N,C,H,W]\n",
    "        # create patches of size 'input_patch_size' and join them into batches (zero padding - will remove border pixels)\n",
    "        res = torch.nn.functional.unfold(x, kernel_size=self.input_patch_size, dilation=1, padding=0, stride=1) #[N,Cx9,Nb_of_patches]\n",
    "        res = torch.permute(res, dims=(0,2,1))   #[N,Nb_of_patches,Cx9]\n",
    "        res = torch.flatten(res, end_dim=1)      #[NxNb_of_patches,Cx9]\n",
    "        \n",
    "        # pass though the FCNN\n",
    "        res = self.lin1(res)\n",
    "        res = torch.nn.functional.relu(res)\n",
    "        res = self.lin2(res)\n",
    "        res = torch.nn.functional.relu(res)\n",
    "        res = self.lin3(res)\n",
    "        \n",
    "        # reshape the output patches back into a 4D torch tensor\n",
    "        res = res.unflatten(dim=0, sizes=(batch_len,-1)) #[N,Nb_of_patches,Cx9]\n",
    "        res = torch.permute(res,dims=(0,2,1))   #[N,Cx9,Nb_of_patches]\n",
    "        res = torch.nn.functional.fold(res, output_size=(output_h,output_w), \\\n",
    "                                       kernel_size=self.output_patch_size, dilation=1, padding=0, stride=1) #[N,C,H,W]\n",
    "        # compute the divider needed to get correct values in case of overlapping patches (will give mean over all overlapping patches)\n",
    "        mask_ones = torch.ones((1,1,output_h,output_w)).to(x.device)\n",
    "        divisor = torch.nn.functional.fold(torch.nn.functional.unfold(mask_ones, kernel_size=self.output_patch_size), \\\n",
    "                                           kernel_size=self.output_patch_size, output_size=(output_h,output_w))   \n",
    "        res = res/divisor.view(1,1,output_h,output_w)\n",
    "        \n",
    "        return res"
   ]
  },
  {
   "cell_type": "markdown",
   "id": "e71931f3-b9ed-4602-9af1-118a067838a3",
   "metadata": {},
   "source": [
    "## Experiments"
   ]
  },
  {
   "cell_type": "code",
   "execution_count": 199,
   "id": "7722f2d2-cc07-446c-8f25-a58a1855a6b6",
   "metadata": {},
   "outputs": [],
   "source": [
    "model_name = 'FCNN'"
   ]
  },
  {
   "cell_type": "code",
   "execution_count": 200,
   "id": "322b155c-db04-4c1c-ab7a-2f8c897f2c0c",
   "metadata": {},
   "outputs": [],
   "source": [
    "list_of_exps = ['aso', 'fma', 'GF', 'MIDATL']"
   ]
  },
  {
   "cell_type": "code",
   "execution_count": 201,
   "id": "329fc887-fdc9-4af9-9792-d17585360b48",
   "metadata": {},
   "outputs": [],
   "source": [
    "for exp_name in list_of_exps :\n",
    "    exp[model_name][exp_name] = dict()"
   ]
  },
  {
   "cell_type": "code",
   "execution_count": 202,
   "id": "c46e1ad3-61e1-41d6-9852-6d0e93e16c74",
   "metadata": {},
   "outputs": [],
   "source": [
    "input_features_FCNN = ['sosstsst']\n",
    "output_features_FCNN = ['sosstsst_var']"
   ]
  },
  {
   "cell_type": "code",
   "execution_count": 203,
   "id": "8c14469b-b5a5-4f81-acb7-59483f63df2b",
   "metadata": {},
   "outputs": [],
   "source": [
    "exp['FCNN']['aso']['exp'] = Experiment(pl_class=GenericPyLiModule, \\\n",
    "                      torch_model=FCNN(nb_of_input_features=len(input_features_FCNN), nb_of_output_features=len(output_features_FCNN), \\\n",
    "                                       input_patch_size=3, output_patch_size=1), \\\n",
    "                      label='FCNN_patched', \\\n",
    "                      version_name='mask_var_patch_3-1_2D_aso', \\\n",
    "                      input_features=input_features_FCNN, \\\n",
    "                      target_features=output_features_FCNN, \\\n",
    "                      datamodule=datamodule_aso,\\\n",
    "                      max_epochs=50, \\\n",
    "                      limit_train_batches=1.0,\n",
    "                      loss = torch.nn.functional.mse_loss,\\\n",
    "                      optimizer = torch.optim.Adam,\\\n",
    "                      learning_rate=1e-4) "
   ]
  },
  {
   "cell_type": "code",
   "execution_count": 204,
   "id": "a9a5f2fc-ca84-4f29-b993-17a14ab259e7",
   "metadata": {},
   "outputs": [],
   "source": [
    "exp['FCNN']['fma']['exp'] = Experiment(pl_class=GenericPyLiModule, \\\n",
    "                      torch_model=FCNN(nb_of_input_features=len(input_features_FCNN), nb_of_output_features=len(output_features_FCNN), \\\n",
    "                                       input_patch_size=3, output_patch_size=1), \\\n",
    "                      label='FCNN_patched', \\\n",
    "                      version_name='mask_var_patch_3-1_2D_fma', \\\n",
    "                      input_features=input_features_FCNN, \\\n",
    "                      target_features=output_features_FCNN, \\\n",
    "                      datamodule=datamodule_fma,\\\n",
    "                      max_epochs=50, \\\n",
    "                      limit_train_batches=1.0,\n",
    "                      loss = torch.nn.functional.mse_loss,\\\n",
    "                      optimizer = torch.optim.Adam,\\\n",
    "                      learning_rate=1e-4) "
   ]
  },
  {
   "cell_type": "code",
   "execution_count": 205,
   "id": "79d65a13-861e-4eef-86fa-fa786bcb63df",
   "metadata": {},
   "outputs": [],
   "source": [
    "exp['FCNN']['GF']['exp'] = Experiment(pl_class=GenericPyLiModule, \\\n",
    "                      torch_model=FCNN(nb_of_input_features=len(input_features_FCNN), nb_of_output_features=len(output_features_FCNN), \\\n",
    "                                       input_patch_size=3, output_patch_size=1), \\\n",
    "                      label='FCNN_patched', \\\n",
    "                      version_name='mask_var_patch_3-1_2D_GF', \\\n",
    "                      input_features=input_features_FCNN, \\\n",
    "                      target_features=output_features_FCNN, \\\n",
    "                      datamodule=datamodule_GF,\\\n",
    "                      max_epochs=50, \\\n",
    "                      limit_train_batches=1.0,\n",
    "                      loss = torch.nn.functional.mse_loss,\\\n",
    "                      optimizer = torch.optim.Adam,\\\n",
    "                      learning_rate=1e-4) "
   ]
  },
  {
   "cell_type": "code",
   "execution_count": 206,
   "id": "cadce99e-2ecb-4a6d-ac41-3d79a01966a5",
   "metadata": {},
   "outputs": [],
   "source": [
    "exp['FCNN']['MIDATL']['exp'] = Experiment(pl_class=GenericPyLiModule, \\\n",
    "                      torch_model=FCNN(nb_of_input_features=len(input_features_FCNN), nb_of_output_features=len(output_features_FCNN), \\\n",
    "                                       input_patch_size=3, output_patch_size=1), \\\n",
    "                      label='FCNN_patched', \\\n",
    "                      version_name='mask_var_patch_3-1_2D_MIDATL', \\\n",
    "                      input_features=input_features_FCNN, \\\n",
    "                      target_features=output_features_FCNN, \\\n",
    "                      datamodule=datamodule_MIDATL,\\\n",
    "                      max_epochs=50, \\\n",
    "                      limit_train_batches=1.0,\n",
    "                      loss = torch.nn.functional.mse_loss,\\\n",
    "                      optimizer = torch.optim.Adam,\\\n",
    "                      learning_rate=1e-4) "
   ]
  },
  {
   "cell_type": "markdown",
   "id": "373cfc20-e0be-45d1-b311-5404f7ac3cd0",
   "metadata": {},
   "source": [
    "## Training"
   ]
  },
  {
   "cell_type": "code",
   "execution_count": 207,
   "id": "f3c59d25-be2a-4384-a133-cc2ef8a2ec78",
   "metadata": {},
   "outputs": [],
   "source": [
    "# exp['FCNN']['aso']['exp'].run()\n",
    "# clear_output(wait=True)"
   ]
  },
  {
   "cell_type": "code",
   "execution_count": 208,
   "id": "b4979a60-c4c2-4e6e-a8c6-797e7774b39b",
   "metadata": {},
   "outputs": [],
   "source": [
    "# exp['FCNN']['fma']['exp'].run()\n",
    "# clear_output(wait=True)"
   ]
  },
  {
   "cell_type": "code",
   "execution_count": 209,
   "id": "e31e06ec-aea1-4262-8a92-6d3c6fca45ca",
   "metadata": {},
   "outputs": [],
   "source": [
    "# exp['FCNN']['MIDATL']['exp'].run()\n",
    "# clear_output(wait=True)"
   ]
  },
  {
   "cell_type": "code",
   "execution_count": 210,
   "id": "f6d05add-e7f5-42e0-b5af-748c5bbf32ae",
   "metadata": {},
   "outputs": [
    {
     "name": "stderr",
     "output_type": "stream",
     "text": [
      "GPU available: True (cuda), used: True\n",
      "TPU available: False, using: 0 TPU cores\n",
      "IPU available: False, using: 0 IPUs\n",
      "HPU available: False, using: 0 HPUs\n",
      "`Trainer(limit_train_batches=1.0)` was configured so 100% of the batches per epoch will be used..\n",
      "LOCAL_RANK: 0 - CUDA_VISIBLE_DEVICES: [0]\n",
      "\n",
      "  | Name        | Type | Params\n",
      "-------------------------------------\n",
      "0 | torch_model | FCNN | 3.1 K \n",
      "-------------------------------------\n",
      "3.1 K     Trainable params\n",
      "0         Non-trainable params\n",
      "3.1 K     Total params\n",
      "0.012     Total estimated model params size (MB)\n"
     ]
    },
    {
     "data": {
      "application/vnd.jupyter.widget-view+json": {
       "model_id": "",
       "version_major": 2,
       "version_minor": 0
      },
      "text/plain": [
       "Sanity Checking: 0it [00:00, ?it/s]"
      ]
     },
     "metadata": {},
     "output_type": "display_data"
    },
    {
     "data": {
      "application/vnd.jupyter.widget-view+json": {
       "model_id": "ad30ff93bf7e46bbbb75b1f20fe1ff23",
       "version_major": 2,
       "version_minor": 0
      },
      "text/plain": [
       "Training: 0it [00:00, ?it/s]"
      ]
     },
     "metadata": {},
     "output_type": "display_data"
    },
    {
     "data": {
      "application/vnd.jupyter.widget-view+json": {
       "model_id": "",
       "version_major": 2,
       "version_minor": 0
      },
      "text/plain": [
       "Validation: 0it [00:00, ?it/s]"
      ]
     },
     "metadata": {},
     "output_type": "display_data"
    },
    {
     "data": {
      "application/vnd.jupyter.widget-view+json": {
       "model_id": "",
       "version_major": 2,
       "version_minor": 0
      },
      "text/plain": [
       "Validation: 0it [00:00, ?it/s]"
      ]
     },
     "metadata": {},
     "output_type": "display_data"
    },
    {
     "data": {
      "application/vnd.jupyter.widget-view+json": {
       "model_id": "",
       "version_major": 2,
       "version_minor": 0
      },
      "text/plain": [
       "Validation: 0it [00:00, ?it/s]"
      ]
     },
     "metadata": {},
     "output_type": "display_data"
    },
    {
     "data": {
      "application/vnd.jupyter.widget-view+json": {
       "model_id": "",
       "version_major": 2,
       "version_minor": 0
      },
      "text/plain": [
       "Validation: 0it [00:00, ?it/s]"
      ]
     },
     "metadata": {},
     "output_type": "display_data"
    },
    {
     "data": {
      "application/vnd.jupyter.widget-view+json": {
       "model_id": "",
       "version_major": 2,
       "version_minor": 0
      },
      "text/plain": [
       "Validation: 0it [00:00, ?it/s]"
      ]
     },
     "metadata": {},
     "output_type": "display_data"
    },
    {
     "data": {
      "application/vnd.jupyter.widget-view+json": {
       "model_id": "",
       "version_major": 2,
       "version_minor": 0
      },
      "text/plain": [
       "Validation: 0it [00:00, ?it/s]"
      ]
     },
     "metadata": {},
     "output_type": "display_data"
    },
    {
     "data": {
      "application/vnd.jupyter.widget-view+json": {
       "model_id": "",
       "version_major": 2,
       "version_minor": 0
      },
      "text/plain": [
       "Validation: 0it [00:00, ?it/s]"
      ]
     },
     "metadata": {},
     "output_type": "display_data"
    },
    {
     "data": {
      "application/vnd.jupyter.widget-view+json": {
       "model_id": "",
       "version_major": 2,
       "version_minor": 0
      },
      "text/plain": [
       "Validation: 0it [00:00, ?it/s]"
      ]
     },
     "metadata": {},
     "output_type": "display_data"
    },
    {
     "data": {
      "application/vnd.jupyter.widget-view+json": {
       "model_id": "",
       "version_major": 2,
       "version_minor": 0
      },
      "text/plain": [
       "Validation: 0it [00:00, ?it/s]"
      ]
     },
     "metadata": {},
     "output_type": "display_data"
    },
    {
     "data": {
      "application/vnd.jupyter.widget-view+json": {
       "model_id": "",
       "version_major": 2,
       "version_minor": 0
      },
      "text/plain": [
       "Validation: 0it [00:00, ?it/s]"
      ]
     },
     "metadata": {},
     "output_type": "display_data"
    },
    {
     "data": {
      "application/vnd.jupyter.widget-view+json": {
       "model_id": "",
       "version_major": 2,
       "version_minor": 0
      },
      "text/plain": [
       "Validation: 0it [00:00, ?it/s]"
      ]
     },
     "metadata": {},
     "output_type": "display_data"
    },
    {
     "data": {
      "application/vnd.jupyter.widget-view+json": {
       "model_id": "",
       "version_major": 2,
       "version_minor": 0
      },
      "text/plain": [
       "Validation: 0it [00:00, ?it/s]"
      ]
     },
     "metadata": {},
     "output_type": "display_data"
    },
    {
     "data": {
      "application/vnd.jupyter.widget-view+json": {
       "model_id": "",
       "version_major": 2,
       "version_minor": 0
      },
      "text/plain": [
       "Validation: 0it [00:00, ?it/s]"
      ]
     },
     "metadata": {},
     "output_type": "display_data"
    },
    {
     "data": {
      "application/vnd.jupyter.widget-view+json": {
       "model_id": "",
       "version_major": 2,
       "version_minor": 0
      },
      "text/plain": [
       "Validation: 0it [00:00, ?it/s]"
      ]
     },
     "metadata": {},
     "output_type": "display_data"
    },
    {
     "data": {
      "application/vnd.jupyter.widget-view+json": {
       "model_id": "",
       "version_major": 2,
       "version_minor": 0
      },
      "text/plain": [
       "Validation: 0it [00:00, ?it/s]"
      ]
     },
     "metadata": {},
     "output_type": "display_data"
    },
    {
     "data": {
      "application/vnd.jupyter.widget-view+json": {
       "model_id": "",
       "version_major": 2,
       "version_minor": 0
      },
      "text/plain": [
       "Validation: 0it [00:00, ?it/s]"
      ]
     },
     "metadata": {},
     "output_type": "display_data"
    },
    {
     "data": {
      "application/vnd.jupyter.widget-view+json": {
       "model_id": "",
       "version_major": 2,
       "version_minor": 0
      },
      "text/plain": [
       "Validation: 0it [00:00, ?it/s]"
      ]
     },
     "metadata": {},
     "output_type": "display_data"
    },
    {
     "data": {
      "application/vnd.jupyter.widget-view+json": {
       "model_id": "",
       "version_major": 2,
       "version_minor": 0
      },
      "text/plain": [
       "Validation: 0it [00:00, ?it/s]"
      ]
     },
     "metadata": {},
     "output_type": "display_data"
    },
    {
     "data": {
      "application/vnd.jupyter.widget-view+json": {
       "model_id": "",
       "version_major": 2,
       "version_minor": 0
      },
      "text/plain": [
       "Validation: 0it [00:00, ?it/s]"
      ]
     },
     "metadata": {},
     "output_type": "display_data"
    },
    {
     "data": {
      "application/vnd.jupyter.widget-view+json": {
       "model_id": "",
       "version_major": 2,
       "version_minor": 0
      },
      "text/plain": [
       "Validation: 0it [00:00, ?it/s]"
      ]
     },
     "metadata": {},
     "output_type": "display_data"
    },
    {
     "data": {
      "application/vnd.jupyter.widget-view+json": {
       "model_id": "",
       "version_major": 2,
       "version_minor": 0
      },
      "text/plain": [
       "Validation: 0it [00:00, ?it/s]"
      ]
     },
     "metadata": {},
     "output_type": "display_data"
    },
    {
     "data": {
      "application/vnd.jupyter.widget-view+json": {
       "model_id": "",
       "version_major": 2,
       "version_minor": 0
      },
      "text/plain": [
       "Validation: 0it [00:00, ?it/s]"
      ]
     },
     "metadata": {},
     "output_type": "display_data"
    },
    {
     "data": {
      "application/vnd.jupyter.widget-view+json": {
       "model_id": "",
       "version_major": 2,
       "version_minor": 0
      },
      "text/plain": [
       "Validation: 0it [00:00, ?it/s]"
      ]
     },
     "metadata": {},
     "output_type": "display_data"
    },
    {
     "data": {
      "application/vnd.jupyter.widget-view+json": {
       "model_id": "",
       "version_major": 2,
       "version_minor": 0
      },
      "text/plain": [
       "Validation: 0it [00:00, ?it/s]"
      ]
     },
     "metadata": {},
     "output_type": "display_data"
    },
    {
     "data": {
      "application/vnd.jupyter.widget-view+json": {
       "model_id": "",
       "version_major": 2,
       "version_minor": 0
      },
      "text/plain": [
       "Validation: 0it [00:00, ?it/s]"
      ]
     },
     "metadata": {},
     "output_type": "display_data"
    },
    {
     "data": {
      "application/vnd.jupyter.widget-view+json": {
       "model_id": "",
       "version_major": 2,
       "version_minor": 0
      },
      "text/plain": [
       "Validation: 0it [00:00, ?it/s]"
      ]
     },
     "metadata": {},
     "output_type": "display_data"
    },
    {
     "data": {
      "application/vnd.jupyter.widget-view+json": {
       "model_id": "",
       "version_major": 2,
       "version_minor": 0
      },
      "text/plain": [
       "Validation: 0it [00:00, ?it/s]"
      ]
     },
     "metadata": {},
     "output_type": "display_data"
    },
    {
     "data": {
      "application/vnd.jupyter.widget-view+json": {
       "model_id": "",
       "version_major": 2,
       "version_minor": 0
      },
      "text/plain": [
       "Validation: 0it [00:00, ?it/s]"
      ]
     },
     "metadata": {},
     "output_type": "display_data"
    },
    {
     "data": {
      "application/vnd.jupyter.widget-view+json": {
       "model_id": "",
       "version_major": 2,
       "version_minor": 0
      },
      "text/plain": [
       "Validation: 0it [00:00, ?it/s]"
      ]
     },
     "metadata": {},
     "output_type": "display_data"
    },
    {
     "data": {
      "application/vnd.jupyter.widget-view+json": {
       "model_id": "",
       "version_major": 2,
       "version_minor": 0
      },
      "text/plain": [
       "Validation: 0it [00:00, ?it/s]"
      ]
     },
     "metadata": {},
     "output_type": "display_data"
    },
    {
     "data": {
      "application/vnd.jupyter.widget-view+json": {
       "model_id": "",
       "version_major": 2,
       "version_minor": 0
      },
      "text/plain": [
       "Validation: 0it [00:00, ?it/s]"
      ]
     },
     "metadata": {},
     "output_type": "display_data"
    },
    {
     "data": {
      "application/vnd.jupyter.widget-view+json": {
       "model_id": "",
       "version_major": 2,
       "version_minor": 0
      },
      "text/plain": [
       "Validation: 0it [00:00, ?it/s]"
      ]
     },
     "metadata": {},
     "output_type": "display_data"
    },
    {
     "data": {
      "application/vnd.jupyter.widget-view+json": {
       "model_id": "",
       "version_major": 2,
       "version_minor": 0
      },
      "text/plain": [
       "Validation: 0it [00:00, ?it/s]"
      ]
     },
     "metadata": {},
     "output_type": "display_data"
    },
    {
     "data": {
      "application/vnd.jupyter.widget-view+json": {
       "model_id": "",
       "version_major": 2,
       "version_minor": 0
      },
      "text/plain": [
       "Validation: 0it [00:00, ?it/s]"
      ]
     },
     "metadata": {},
     "output_type": "display_data"
    },
    {
     "data": {
      "application/vnd.jupyter.widget-view+json": {
       "model_id": "",
       "version_major": 2,
       "version_minor": 0
      },
      "text/plain": [
       "Validation: 0it [00:00, ?it/s]"
      ]
     },
     "metadata": {},
     "output_type": "display_data"
    },
    {
     "data": {
      "application/vnd.jupyter.widget-view+json": {
       "model_id": "",
       "version_major": 2,
       "version_minor": 0
      },
      "text/plain": [
       "Validation: 0it [00:00, ?it/s]"
      ]
     },
     "metadata": {},
     "output_type": "display_data"
    },
    {
     "data": {
      "application/vnd.jupyter.widget-view+json": {
       "model_id": "",
       "version_major": 2,
       "version_minor": 0
      },
      "text/plain": [
       "Validation: 0it [00:00, ?it/s]"
      ]
     },
     "metadata": {},
     "output_type": "display_data"
    },
    {
     "data": {
      "application/vnd.jupyter.widget-view+json": {
       "model_id": "",
       "version_major": 2,
       "version_minor": 0
      },
      "text/plain": [
       "Validation: 0it [00:00, ?it/s]"
      ]
     },
     "metadata": {},
     "output_type": "display_data"
    },
    {
     "data": {
      "application/vnd.jupyter.widget-view+json": {
       "model_id": "",
       "version_major": 2,
       "version_minor": 0
      },
      "text/plain": [
       "Validation: 0it [00:00, ?it/s]"
      ]
     },
     "metadata": {},
     "output_type": "display_data"
    },
    {
     "data": {
      "application/vnd.jupyter.widget-view+json": {
       "model_id": "",
       "version_major": 2,
       "version_minor": 0
      },
      "text/plain": [
       "Validation: 0it [00:00, ?it/s]"
      ]
     },
     "metadata": {},
     "output_type": "display_data"
    },
    {
     "data": {
      "application/vnd.jupyter.widget-view+json": {
       "model_id": "",
       "version_major": 2,
       "version_minor": 0
      },
      "text/plain": [
       "Validation: 0it [00:00, ?it/s]"
      ]
     },
     "metadata": {},
     "output_type": "display_data"
    },
    {
     "data": {
      "application/vnd.jupyter.widget-view+json": {
       "model_id": "",
       "version_major": 2,
       "version_minor": 0
      },
      "text/plain": [
       "Validation: 0it [00:00, ?it/s]"
      ]
     },
     "metadata": {},
     "output_type": "display_data"
    },
    {
     "data": {
      "application/vnd.jupyter.widget-view+json": {
       "model_id": "",
       "version_major": 2,
       "version_minor": 0
      },
      "text/plain": [
       "Validation: 0it [00:00, ?it/s]"
      ]
     },
     "metadata": {},
     "output_type": "display_data"
    },
    {
     "data": {
      "application/vnd.jupyter.widget-view+json": {
       "model_id": "",
       "version_major": 2,
       "version_minor": 0
      },
      "text/plain": [
       "Validation: 0it [00:00, ?it/s]"
      ]
     },
     "metadata": {},
     "output_type": "display_data"
    },
    {
     "data": {
      "application/vnd.jupyter.widget-view+json": {
       "model_id": "",
       "version_major": 2,
       "version_minor": 0
      },
      "text/plain": [
       "Validation: 0it [00:00, ?it/s]"
      ]
     },
     "metadata": {},
     "output_type": "display_data"
    },
    {
     "data": {
      "application/vnd.jupyter.widget-view+json": {
       "model_id": "",
       "version_major": 2,
       "version_minor": 0
      },
      "text/plain": [
       "Validation: 0it [00:00, ?it/s]"
      ]
     },
     "metadata": {},
     "output_type": "display_data"
    },
    {
     "data": {
      "application/vnd.jupyter.widget-view+json": {
       "model_id": "",
       "version_major": 2,
       "version_minor": 0
      },
      "text/plain": [
       "Validation: 0it [00:00, ?it/s]"
      ]
     },
     "metadata": {},
     "output_type": "display_data"
    },
    {
     "data": {
      "application/vnd.jupyter.widget-view+json": {
       "model_id": "717dc84ec06a4a78b28b53b35edc21fb",
       "version_major": 2,
       "version_minor": 0
      },
      "text/plain": [
       "Validation: 0it [00:00, ?it/s]"
      ]
     },
     "metadata": {},
     "output_type": "display_data"
    },
    {
     "data": {
      "application/vnd.jupyter.widget-view+json": {
       "model_id": "c15b046aff034fd69259f380f7260e0b",
       "version_major": 2,
       "version_minor": 0
      },
      "text/plain": [
       "Validation: 0it [00:00, ?it/s]"
      ]
     },
     "metadata": {},
     "output_type": "display_data"
    },
    {
     "data": {
      "application/vnd.jupyter.widget-view+json": {
       "model_id": "669f08fe1d4943f2af33abe8498ccae3",
       "version_major": 2,
       "version_minor": 0
      },
      "text/plain": [
       "Validation: 0it [00:00, ?it/s]"
      ]
     },
     "metadata": {},
     "output_type": "display_data"
    },
    {
     "name": "stderr",
     "output_type": "stream",
     "text": [
      "`Trainer.fit` stopped: `max_epochs=50` reached.\n"
     ]
    },
    {
     "name": "stdout",
     "output_type": "stream",
     "text": [
      "logs//FCNN_patched/mask_var_patch_3-1_2D_GF/events.out.tfevents.1674443784.jupyter-anastasiagor.1528.37\n"
     ]
    }
   ],
   "source": [
    "exp['FCNN']['GF']['exp'].run()\n",
    "clear_output(wait=True)"
   ]
  },
  {
   "cell_type": "code",
   "execution_count": 211,
   "id": "9618a831-1a2c-4348-949b-ded7ae9dce94",
   "metadata": {
    "tags": []
   },
   "outputs": [
    {
     "name": "stdout",
     "output_type": "stream",
     "text": [
      "logs//FCNN_patched/mask_var_patch_3-1_2D_aso/events.out.tfevents.1674440864.jupyter-anastasiagor.1528.4\n",
      "logs//FCNN_patched/mask_var_patch_3-1_2D_fma/events.out.tfevents.1674441140.jupyter-anastasiagor.1528.5\n",
      "logs//FCNN_patched/mask_var_patch_3-1_2D_GF/events.out.tfevents.1674443784.jupyter-anastasiagor.1528.37\n",
      "logs//FCNN_patched/mask_var_patch_3-1_2D_MIDATL/events.out.tfevents.1674441310.jupyter-anastasiagor.1528.6\n"
     ]
    },
    {
     "data": {
      "image/png": "[encoded data removed]",
      "text/plain": [
       "<Figure size 1200x250 with 4 Axes>"
      ]
     },
     "metadata": {},
     "output_type": "display_data"
    }
   ],
   "source": [
    "fig, ax = plt.subplots(1, 4, constrained_layout=True, figsize=(12, 2.5), sharex=True)\n",
    "exp_model = exp['FCNN']\n",
    "\n",
    "for i, exp_name in enumerate(list_of_exps) :\n",
    "    experiment = exp_model[exp_name]['exp']\n",
    "    experiment.get_logs()\n",
    "    ax[i].plot(experiment.logs['loss_train'], color=list(mcolors.TABLEAU_COLORS.values())[0], \\\n",
    "               marker='.', label='Training')\n",
    "    ax[i].plot(experiment.logs['loss_val'], color=list(mcolors.TABLEAU_COLORS.values())[1], \\\n",
    "               marker='.', label='Validation')\n",
    "    ax[i].set(title=exp_name, xlabel='Epoch'); ax[i].grid(True)\n",
    "ax[0].set(ylabel='MSE')\n",
    "ax[-1].legend(bbox_to_anchor=(1.05, 1), loc='upper left')\n",
    "plt.show()"
   ]
  },
  {
   "cell_type": "markdown",
   "id": "cc6ef334-f6c1-4205-a07c-8a27faa4e0f1",
   "metadata": {},
   "source": [
    "# Convolutional NN model"
   ]
  },
  {
   "cell_type": "markdown",
   "id": "ffd0c852-9e4b-4327-b273-d4dee6aa74b6",
   "metadata": {},
   "source": [
    "## Model"
   ]
  },
  {
   "cell_type": "code",
   "execution_count": 212,
   "id": "bdaa2e39-a1cb-4212-862f-7f7716ce6bc1",
   "metadata": {},
   "outputs": [],
   "source": [
    "class CNN(torch.nn.Module):\n",
    "    def __init__(self, nb_of_input_features, nb_of_output_features, padding='same', padding_mode='replicate', kernel_size=3):\n",
    "        super().__init__()\n",
    "        self.padding = padding\n",
    "        self.kernel_size = kernel_size\n",
    "        self.padding_mode = 'replicate'\n",
    "        \n",
    "        self.cut_border_pix_input = None\n",
    "        if self.padding == 'same' :\n",
    "            self.cut_border_pix_output = self.cut_border_pix_input\n",
    "        if self.padding == 'valid' :\n",
    "            self.cut_border_pix_output = (self.cut_border_pix_input or 0) + self.kernel_size//2\n",
    "        \n",
    "        self.conv1 = torch.nn.Conv2d(in_channels=nb_of_input_features, out_channels=64, kernel_size=self.kernel_size, \\\n",
    "                                     padding=self.padding,  padding_mode=self.padding_mode) \n",
    "        self.conv2 = torch.nn.Conv2d(64, 64, kernel_size=self.kernel_size, padding='same', padding_mode=self.padding_mode) \n",
    "        self.conv3 = torch.nn.Conv2d(64, nb_of_output_features, kernel_size=self.kernel_size, padding='same', \\\n",
    "                                     padding_mode=self.padding_mode)\n",
    "\n",
    "    def forward(self, x):\n",
    "        batch_len = x.shape[0]\n",
    "        \n",
    "        res = self.conv1(x)\n",
    "        res = torch.nn.functional.relu(res)\n",
    "        res = self.conv2(res)\n",
    "        res = torch.nn.functional.relu(res)\n",
    "        res = self.conv3(res)\n",
    "        return res        "
   ]
  },
  {
   "cell_type": "markdown",
   "id": "af34d0d2-8569-42f0-8126-a5be8438486b",
   "metadata": {},
   "source": [
    "## Experiments"
   ]
  },
  {
   "cell_type": "code",
   "execution_count": 213,
   "id": "ff276ea9-3277-4de0-a44f-6d6297abc3ab",
   "metadata": {},
   "outputs": [],
   "source": [
    "model_name = 'CNN'"
   ]
  },
  {
   "cell_type": "code",
   "execution_count": 214,
   "id": "382b2075-81f9-4b75-912e-c0f3ce358101",
   "metadata": {},
   "outputs": [],
   "source": [
    "list_of_exps = ['aso', 'fma', 'GF', 'MIDATL']"
   ]
  },
  {
   "cell_type": "code",
   "execution_count": 215,
   "id": "51af6973-554e-4bb9-b57b-f70b18cda63e",
   "metadata": {},
   "outputs": [],
   "source": [
    "for exp_name in list_of_exps :\n",
    "    exp[model_name][exp_name] = dict()"
   ]
  },
  {
   "cell_type": "code",
   "execution_count": 216,
   "id": "7dd6d81a-b4a4-4caa-9114-0425e2de7032",
   "metadata": {},
   "outputs": [],
   "source": [
    "input_features_CNN = input_features_FCNN\n",
    "output_features_CNN = output_features_FCNN"
   ]
  },
  {
   "cell_type": "code",
   "execution_count": 217,
   "id": "b6f299e2-6ad2-48e3-85d5-036af6f9dd53",
   "metadata": {},
   "outputs": [],
   "source": [
    "exp['CNN']['aso']['exp'] = Experiment(pl_class=GenericPyLiModule, \\\n",
    "                      torch_model=CNN(len(input_features_LinReg),len(output_features_CNN), padding='valid', kernel_size=3),\\\n",
    "                      label='CNN', \\\n",
    "                      version_name='mask_kernel3_2D_aso', \\\n",
    "                      input_features=input_features_CNN, \\\n",
    "                      target_features=output_features_CNN, \n",
    "                      datamodule=datamodule_aso,\n",
    "                      max_epochs=50, \\\n",
    "                      limit_train_batches=1.0,\\\n",
    "                      loss = torch.nn.functional.mse_loss,\\\n",
    "                      optimizer = torch.optim.Adam,\\\n",
    "                      learning_rate=1e-4) "
   ]
  },
  {
   "cell_type": "code",
   "execution_count": 218,
   "id": "6021f365-ce4b-4cb9-9f15-48e411308bc9",
   "metadata": {},
   "outputs": [],
   "source": [
    "exp['CNN']['fma']['exp'] = Experiment(pl_class=GenericPyLiModule, \\\n",
    "                      torch_model=CNN(len(input_features_LinReg),len(output_features_CNN), padding='valid', kernel_size=3),\\\n",
    "                      label='CNN', \\\n",
    "                      version_name='mask_kernel5_2D_fma', \\\n",
    "                      input_features=input_features_CNN, \\\n",
    "                      target_features=output_features_CNN, \n",
    "                      datamodule=datamodule_fma,\n",
    "                      max_epochs=50, \\\n",
    "                      limit_train_batches=1.0,\\\n",
    "                      loss = torch.nn.functional.mse_loss,\\\n",
    "                      optimizer = torch.optim.Adam,\\\n",
    "                      learning_rate=1e-4) "
   ]
  },
  {
   "cell_type": "code",
   "execution_count": 219,
   "id": "00013c9e-3a52-4a08-99f1-48a9edbb9a0b",
   "metadata": {},
   "outputs": [],
   "source": [
    "exp['CNN']['GF']['exp'] = Experiment(pl_class=GenericPyLiModule, \\\n",
    "                      torch_model=CNN(len(input_features_LinReg),len(output_features_CNN), padding='valid', kernel_size=3),\\\n",
    "                      label='CNN', \\\n",
    "                      version_name='mask_kernel5_2D_GF', \\\n",
    "                      input_features=input_features_CNN, \\\n",
    "                      target_features=output_features_CNN, \n",
    "                      datamodule=datamodule_GF,\n",
    "                      max_epochs=50, \\\n",
    "                      limit_train_batches=1.0,\\\n",
    "                      loss = torch.nn.functional.mse_loss,\\\n",
    "                      optimizer = torch.optim.Adam,\\\n",
    "                      learning_rate=1e-4) "
   ]
  },
  {
   "cell_type": "code",
   "execution_count": 220,
   "id": "e6aa051f-3f0a-4820-9661-98738225b301",
   "metadata": {},
   "outputs": [],
   "source": [
    "exp['CNN']['MIDATL']['exp'] = Experiment(pl_class=GenericPyLiModule, \\\n",
    "                      torch_model=CNN(len(input_features_LinReg),len(output_features_CNN), padding='valid', kernel_size=3),\\\n",
    "                      label='CNN', \\\n",
    "                      version_name='mask_kernel5_2D_MIDATL', \\\n",
    "                      input_features=input_features_CNN, \\\n",
    "                      target_features=output_features_CNN, \n",
    "                      datamodule=datamodule_MIDATL,\n",
    "                      max_epochs=50, \\\n",
    "                      limit_train_batches=1.0,\\\n",
    "                      loss = torch.nn.functional.mse_loss,\\\n",
    "                      optimizer = torch.optim.Adam,\\\n",
    "                      learning_rate=1e-4) "
   ]
  },
  {
   "cell_type": "markdown",
   "id": "e3a5023d-ce80-4cb6-bbb9-7131af36450a",
   "metadata": {},
   "source": [
    "## Training"
   ]
  },
  {
   "cell_type": "code",
   "execution_count": 221,
   "id": "17a79e26-ea74-47d4-afd1-5aa4379309d9",
   "metadata": {},
   "outputs": [],
   "source": [
    "# exp['CNN']['aso']['exp'].run()\n",
    "# clear_output(wait=True)"
   ]
  },
  {
   "cell_type": "code",
   "execution_count": 222,
   "id": "cf7c4f58-d798-4905-bf27-a5706b1bd962",
   "metadata": {},
   "outputs": [],
   "source": [
    "# exp['CNN']['fma']['exp'].run()\n",
    "# clear_output(wait=True)"
   ]
  },
  {
   "cell_type": "code",
   "execution_count": 223,
   "id": "37e77678-bffa-40f7-a7a2-5f30c3339fb2",
   "metadata": {},
   "outputs": [
    {
     "name": "stderr",
     "output_type": "stream",
     "text": [
      "GPU available: True (cuda), used: True\n",
      "TPU available: False, using: 0 TPU cores\n",
      "IPU available: False, using: 0 IPUs\n",
      "HPU available: False, using: 0 HPUs\n",
      "`Trainer(limit_train_batches=1.0)` was configured so 100% of the batches per epoch will be used..\n",
      "LOCAL_RANK: 0 - CUDA_VISIBLE_DEVICES: [0]\n",
      "\n",
      "  | Name        | Type | Params\n",
      "-------------------------------------\n",
      "0 | torch_model | CNN  | 38.1 K\n",
      "-------------------------------------\n",
      "38.1 K    Trainable params\n",
      "0         Non-trainable params\n",
      "38.1 K    Total params\n",
      "0.153     Total estimated model params size (MB)\n"
     ]
    },
    {
     "data": {
      "application/vnd.jupyter.widget-view+json": {
       "model_id": "",
       "version_major": 2,
       "version_minor": 0
      },
      "text/plain": [
       "Sanity Checking: 0it [00:00, ?it/s]"
      ]
     },
     "metadata": {},
     "output_type": "display_data"
    },
    {
     "data": {
      "application/vnd.jupyter.widget-view+json": {
       "model_id": "ff4c0d2e081b4fa2b46ed28a1679cd48",
       "version_major": 2,
       "version_minor": 0
      },
      "text/plain": [
       "Training: 0it [00:00, ?it/s]"
      ]
     },
     "metadata": {},
     "output_type": "display_data"
    },
    {
     "data": {
      "application/vnd.jupyter.widget-view+json": {
       "model_id": "",
       "version_major": 2,
       "version_minor": 0
      },
      "text/plain": [
       "Validation: 0it [00:00, ?it/s]"
      ]
     },
     "metadata": {},
     "output_type": "display_data"
    },
    {
     "data": {
      "application/vnd.jupyter.widget-view+json": {
       "model_id": "",
       "version_major": 2,
       "version_minor": 0
      },
      "text/plain": [
       "Validation: 0it [00:00, ?it/s]"
      ]
     },
     "metadata": {},
     "output_type": "display_data"
    },
    {
     "data": {
      "application/vnd.jupyter.widget-view+json": {
       "model_id": "",
       "version_major": 2,
       "version_minor": 0
      },
      "text/plain": [
       "Validation: 0it [00:00, ?it/s]"
      ]
     },
     "metadata": {},
     "output_type": "display_data"
    },
    {
     "data": {
      "application/vnd.jupyter.widget-view+json": {
       "model_id": "",
       "version_major": 2,
       "version_minor": 0
      },
      "text/plain": [
       "Validation: 0it [00:00, ?it/s]"
      ]
     },
     "metadata": {},
     "output_type": "display_data"
    },
    {
     "data": {
      "application/vnd.jupyter.widget-view+json": {
       "model_id": "",
       "version_major": 2,
       "version_minor": 0
      },
      "text/plain": [
       "Validation: 0it [00:00, ?it/s]"
      ]
     },
     "metadata": {},
     "output_type": "display_data"
    },
    {
     "data": {
      "application/vnd.jupyter.widget-view+json": {
       "model_id": "",
       "version_major": 2,
       "version_minor": 0
      },
      "text/plain": [
       "Validation: 0it [00:00, ?it/s]"
      ]
     },
     "metadata": {},
     "output_type": "display_data"
    },
    {
     "data": {
      "application/vnd.jupyter.widget-view+json": {
       "model_id": "",
       "version_major": 2,
       "version_minor": 0
      },
      "text/plain": [
       "Validation: 0it [00:00, ?it/s]"
      ]
     },
     "metadata": {},
     "output_type": "display_data"
    },
    {
     "data": {
      "application/vnd.jupyter.widget-view+json": {
       "model_id": "",
       "version_major": 2,
       "version_minor": 0
      },
      "text/plain": [
       "Validation: 0it [00:00, ?it/s]"
      ]
     },
     "metadata": {},
     "output_type": "display_data"
    },
    {
     "data": {
      "application/vnd.jupyter.widget-view+json": {
       "model_id": "",
       "version_major": 2,
       "version_minor": 0
      },
      "text/plain": [
       "Validation: 0it [00:00, ?it/s]"
      ]
     },
     "metadata": {},
     "output_type": "display_data"
    },
    {
     "data": {
      "application/vnd.jupyter.widget-view+json": {
       "model_id": "",
       "version_major": 2,
       "version_minor": 0
      },
      "text/plain": [
       "Validation: 0it [00:00, ?it/s]"
      ]
     },
     "metadata": {},
     "output_type": "display_data"
    },
    {
     "data": {
      "application/vnd.jupyter.widget-view+json": {
       "model_id": "",
       "version_major": 2,
       "version_minor": 0
      },
      "text/plain": [
       "Validation: 0it [00:00, ?it/s]"
      ]
     },
     "metadata": {},
     "output_type": "display_data"
    },
    {
     "data": {
      "application/vnd.jupyter.widget-view+json": {
       "model_id": "",
       "version_major": 2,
       "version_minor": 0
      },
      "text/plain": [
       "Validation: 0it [00:00, ?it/s]"
      ]
     },
     "metadata": {},
     "output_type": "display_data"
    },
    {
     "data": {
      "application/vnd.jupyter.widget-view+json": {
       "model_id": "",
       "version_major": 2,
       "version_minor": 0
      },
      "text/plain": [
       "Validation: 0it [00:00, ?it/s]"
      ]
     },
     "metadata": {},
     "output_type": "display_data"
    },
    {
     "data": {
      "application/vnd.jupyter.widget-view+json": {
       "model_id": "",
       "version_major": 2,
       "version_minor": 0
      },
      "text/plain": [
       "Validation: 0it [00:00, ?it/s]"
      ]
     },
     "metadata": {},
     "output_type": "display_data"
    },
    {
     "data": {
      "application/vnd.jupyter.widget-view+json": {
       "model_id": "",
       "version_major": 2,
       "version_minor": 0
      },
      "text/plain": [
       "Validation: 0it [00:00, ?it/s]"
      ]
     },
     "metadata": {},
     "output_type": "display_data"
    },
    {
     "data": {
      "application/vnd.jupyter.widget-view+json": {
       "model_id": "",
       "version_major": 2,
       "version_minor": 0
      },
      "text/plain": [
       "Validation: 0it [00:00, ?it/s]"
      ]
     },
     "metadata": {},
     "output_type": "display_data"
    },
    {
     "data": {
      "application/vnd.jupyter.widget-view+json": {
       "model_id": "",
       "version_major": 2,
       "version_minor": 0
      },
      "text/plain": [
       "Validation: 0it [00:00, ?it/s]"
      ]
     },
     "metadata": {},
     "output_type": "display_data"
    },
    {
     "data": {
      "application/vnd.jupyter.widget-view+json": {
       "model_id": "",
       "version_major": 2,
       "version_minor": 0
      },
      "text/plain": [
       "Validation: 0it [00:00, ?it/s]"
      ]
     },
     "metadata": {},
     "output_type": "display_data"
    },
    {
     "data": {
      "application/vnd.jupyter.widget-view+json": {
       "model_id": "",
       "version_major": 2,
       "version_minor": 0
      },
      "text/plain": [
       "Validation: 0it [00:00, ?it/s]"
      ]
     },
     "metadata": {},
     "output_type": "display_data"
    },
    {
     "data": {
      "application/vnd.jupyter.widget-view+json": {
       "model_id": "",
       "version_major": 2,
       "version_minor": 0
      },
      "text/plain": [
       "Validation: 0it [00:00, ?it/s]"
      ]
     },
     "metadata": {},
     "output_type": "display_data"
    },
    {
     "data": {
      "application/vnd.jupyter.widget-view+json": {
       "model_id": "",
       "version_major": 2,
       "version_minor": 0
      },
      "text/plain": [
       "Validation: 0it [00:00, ?it/s]"
      ]
     },
     "metadata": {},
     "output_type": "display_data"
    },
    {
     "data": {
      "application/vnd.jupyter.widget-view+json": {
       "model_id": "",
       "version_major": 2,
       "version_minor": 0
      },
      "text/plain": [
       "Validation: 0it [00:00, ?it/s]"
      ]
     },
     "metadata": {},
     "output_type": "display_data"
    },
    {
     "data": {
      "application/vnd.jupyter.widget-view+json": {
       "model_id": "",
       "version_major": 2,
       "version_minor": 0
      },
      "text/plain": [
       "Validation: 0it [00:00, ?it/s]"
      ]
     },
     "metadata": {},
     "output_type": "display_data"
    },
    {
     "name": "stdout",
     "output_type": "stream",
     "text": [
      "logs//CNN/mask_kernel5_2D_GF/events.out.tfevents.1674444059.jupyter-anastasiagor.1528.38\n"
     ]
    }
   ],
   "source": [
    "exp['CNN']['GF']['exp'].run()\n",
    "clear_output(wait=True)"
   ]
  },
  {
   "cell_type": "code",
   "execution_count": 224,
   "id": "db303b1b-813d-45c0-b692-22a3d7202ad3",
   "metadata": {},
   "outputs": [],
   "source": [
    "# exp['CNN']['MIDATL']['exp'].run()\n",
    "# clear_output(wait=True)"
   ]
  },
  {
   "cell_type": "code",
   "execution_count": 225,
   "id": "0d62fad3-9fef-425e-84e7-7b042dd1ad41",
   "metadata": {},
   "outputs": [
    {
     "name": "stdout",
     "output_type": "stream",
     "text": [
      "logs//CNN/mask_kernel3_2D_aso/events.out.tfevents.1674442379.jupyter-anastasiagor.1528.8\n",
      "logs//CNN/mask_kernel5_2D_fma/events.out.tfevents.1674442628.jupyter-anastasiagor.1528.9\n",
      "logs//CNN/mask_kernel5_2D_GF/events.out.tfevents.1674444059.jupyter-anastasiagor.1528.38\n",
      "logs//CNN/mask_kernel5_2D_MIDATL/events.out.tfevents.1674442965.jupyter-anastasiagor.1528.11\n"
     ]
    },
    {
     "data": {
      "image/png": "[encoded data removed]",
      "text/plain": [
       "<Figure size 1200x250 with 4 Axes>"
      ]
     },
     "metadata": {},
     "output_type": "display_data"
    }
   ],
   "source": [
    "fig, ax = plt.subplots(1, 4, constrained_layout=True, figsize=(12, 2.5), sharex=True, sharey=True)\n",
    "exp_model = exp['CNN']\n",
    "\n",
    "for i, exp_name in enumerate(list_of_exps) :\n",
    "    experiment = exp_model[exp_name]['exp']\n",
    "    experiment.get_logs()\n",
    "    ax[i].plot(experiment.logs['loss_train'], color=list(mcolors.TABLEAU_COLORS.values())[0], \\\n",
    "               marker='.', label='Training')\n",
    "    ax[i].plot(experiment.logs['loss_val'], color=list(mcolors.TABLEAU_COLORS.values())[1], \\\n",
    "               marker='.', label='Validation')\n",
    "    ax[i].set(title=exp_name, xlabel='Epoch'); ax[i].grid(True)\n",
    "ax[0].set(ylabel='MSE')\n",
    "ax[-1].legend(bbox_to_anchor=(1.05, 1), loc='upper left')\n",
    "plt.show()"
   ]
  },
  {
   "cell_type": "markdown",
   "id": "8114268f-9bf0-4847-b33f-1ffab1fc9d84",
   "metadata": {},
   "source": [
    "# Evaluation and comparison"
   ]
  },
  {
   "cell_type": "code",
   "execution_count": 226,
   "id": "cf4e2f98-3bf2-4a48-8096-0e8b3b554655",
   "metadata": {},
   "outputs": [
    {
     "name": "stdout",
     "output_type": "stream",
     "text": [
      "CPU times: user 6.06 s, sys: 1.15 s, total: 7.21 s\n",
      "Wall time: 9.54 s\n"
     ]
    }
   ],
   "source": [
    "%%time\n",
    "test_datamodule = PyLiDataModule(data_dict, batch_size=batch_size)\n",
    "test_datamodule.setup(stage='test')"
   ]
  },
  {
   "cell_type": "code",
   "execution_count": 227,
   "id": "f3006617-06a3-403f-91b4-fcef207458f4",
   "metadata": {},
   "outputs": [],
   "source": [
    "list_of_models = ['LinReg', 'CNN', 'FCNN']"
   ]
  },
  {
   "cell_type": "code",
   "execution_count": 228,
   "id": "46c14530-9aa8-48fe-adff-ef0fa4a4e43d",
   "metadata": {},
   "outputs": [
    {
     "name": "stderr",
     "output_type": "stream",
     "text": [
      "GPU available: True (cuda), used: True\n",
      "TPU available: False, using: 0 TPU cores\n",
      "IPU available: False, using: 0 IPUs\n",
      "HPU available: False, using: 0 HPUs\n"
     ]
    },
    {
     "name": "stdout",
     "output_type": "stream",
     "text": [
      "LinReg aso\n"
     ]
    },
    {
     "name": "stderr",
     "output_type": "stream",
     "text": [
      "LOCAL_RANK: 0 - CUDA_VISIBLE_DEVICES: [0]\n"
     ]
    },
    {
     "data": {
      "application/vnd.jupyter.widget-view+json": {
       "model_id": "3e18c527c0194fbb9e4d3b2102016316",
       "version_major": 2,
       "version_minor": 0
      },
      "text/plain": [
       "Testing: 0it [00:00, ?it/s]"
      ]
     },
     "metadata": {},
     "output_type": "display_data"
    },
    {
     "name": "stdout",
     "output_type": "stream",
     "text": [
      "────────────────────────────────────────────────────────────────────────────────────────────────────────────────────────\n",
      "        Test metric               DataLoader 0               DataLoader 1               DataLoader 2\n",
      "────────────────────────────────────────────────────────────────────────────────────────────────────────────────────────\n",
      "corr_coef_grad_sosstsst_var    0.7017509341239929         0.7641277313232422         0.5873861312866211\n",
      "  corr_coef_sosstsst_var       0.7137861847877502         0.7573875188827515         0.7858014106750488\n",
      "  loss_grad_sosstsst_var       22.574230194091797         1.2407642602920532         1.2419686317443848\n",
      "   loss_val_sosstsst_var       0.5895699262619019         0.11331195384263992        0.04878847673535347\n",
      "────────────────────────────────────────────────────────────────────────────────────────────────────────────────────────\n",
      "────────────────────────────────────────────────────────────────────────────────────────────────────────────────────────\n",
      "        Test metric               DataLoader 3               DataLoader 4               DataLoader 5\n",
      "────────────────────────────────────────────────────────────────────────────────────────────────────────────────────────\n",
      "corr_coef_grad_sosstsst_var    0.6714106798171997         0.23809920251369476        0.5250306129455566\n",
      "  corr_coef_sosstsst_var       0.8019295930862427         0.49192437529563904        0.5965464115142822\n",
      "  loss_grad_sosstsst_var       0.03596385940909386       1.482331413171778e-06     2.4593340640421957e-05\n",
      "   loss_val_sosstsst_var      0.008552022278308868       0.000162068972713314       0.0009615665185265243\n",
      "────────────────────────────────────────────────────────────────────────────────────────────────────────────────────────\n"
     ]
    },
    {
     "name": "stderr",
     "output_type": "stream",
     "text": [
      "LOCAL_RANK: 0 - CUDA_VISIBLE_DEVICES: [0]\n"
     ]
    },
    {
     "data": {
      "application/vnd.jupyter.widget-view+json": {
       "model_id": "eb1caa8efcd0433fbad63eba7909ffe2",
       "version_major": 2,
       "version_minor": 0
      },
      "text/plain": [
       "Predicting: 0it [00:00, ?it/s]"
      ]
     },
     "metadata": {},
     "output_type": "display_data"
    },
    {
     "name": "stderr",
     "output_type": "stream",
     "text": [
      "GPU available: True (cuda), used: True\n",
      "TPU available: False, using: 0 TPU cores\n",
      "IPU available: False, using: 0 IPUs\n",
      "HPU available: False, using: 0 HPUs\n"
     ]
    },
    {
     "name": "stdout",
     "output_type": "stream",
     "text": [
      "LinReg fma\n"
     ]
    },
    {
     "name": "stderr",
     "output_type": "stream",
     "text": [
      "LOCAL_RANK: 0 - CUDA_VISIBLE_DEVICES: [0]\n"
     ]
    },
    {
     "data": {
      "application/vnd.jupyter.widget-view+json": {
       "model_id": "6fdca949a34b4389b057218ea9b9604a",
       "version_major": 2,
       "version_minor": 0
      },
      "text/plain": [
       "Testing: 0it [00:00, ?it/s]"
      ]
     },
     "metadata": {},
     "output_type": "display_data"
    },
    {
     "name": "stdout",
     "output_type": "stream",
     "text": [
      "────────────────────────────────────────────────────────────────────────────────────────────────────────────────────────\n",
      "        Test metric               DataLoader 0               DataLoader 1               DataLoader 2\n",
      "────────────────────────────────────────────────────────────────────────────────────────────────────────────────────────\n",
      "corr_coef_grad_sosstsst_var    0.7017502188682556         0.7641271352767944          0.587386429309845\n",
      "  corr_coef_sosstsst_var       0.7137861847877502         0.7573876976966858          0.785801112651825\n",
      "  loss_grad_sosstsst_var       22.575611114501953         1.2408710718154907         1.2420358657836914\n",
      "   loss_val_sosstsst_var       0.5895984172821045         0.11331828683614731       0.048788875341415405\n",
      "────────────────────────────────────────────────────────────────────────────────────────────────────────────────────────\n",
      "────────────────────────────────────────────────────────────────────────────────────────────────────────────────────────\n",
      "        Test metric               DataLoader 3               DataLoader 4               DataLoader 5\n",
      "────────────────────────────────────────────────────────────────────────────────────────────────────────────────────────\n",
      "corr_coef_grad_sosstsst_var    0.6714110374450684         0.23809915781021118        0.5250332355499268\n",
      "  corr_coef_sosstsst_var       0.8019294142723083         0.49192455410957336        0.5965462923049927\n",
      "  loss_grad_sosstsst_var      0.035967107862234116       1.48241713304742e-06      2.4594366550445557e-05\n",
      "   loss_val_sosstsst_var      0.008551837876439095      0.00016207701992243528      0.0009615994640626013\n",
      "────────────────────────────────────────────────────────────────────────────────────────────────────────────────────────\n"
     ]
    },
    {
     "name": "stderr",
     "output_type": "stream",
     "text": [
      "LOCAL_RANK: 0 - CUDA_VISIBLE_DEVICES: [0]\n"
     ]
    },
    {
     "data": {
      "application/vnd.jupyter.widget-view+json": {
       "model_id": "7fe99f8bc6fb4fc4b245bd6fea9089d6",
       "version_major": 2,
       "version_minor": 0
      },
      "text/plain": [
       "Predicting: 0it [00:00, ?it/s]"
      ]
     },
     "metadata": {},
     "output_type": "display_data"
    },
    {
     "name": "stderr",
     "output_type": "stream",
     "text": [
      "GPU available: True (cuda), used: True\n",
      "TPU available: False, using: 0 TPU cores\n",
      "IPU available: False, using: 0 IPUs\n",
      "HPU available: False, using: 0 HPUs\n"
     ]
    },
    {
     "name": "stdout",
     "output_type": "stream",
     "text": [
      "LinReg GF\n"
     ]
    },
    {
     "name": "stderr",
     "output_type": "stream",
     "text": [
      "LOCAL_RANK: 0 - CUDA_VISIBLE_DEVICES: [0]\n"
     ]
    },
    {
     "data": {
      "application/vnd.jupyter.widget-view+json": {
       "model_id": "cc4e2412f4834808905ff0a69a7f2e53",
       "version_major": 2,
       "version_minor": 0
      },
      "text/plain": [
       "Testing: 0it [00:00, ?it/s]"
      ]
     },
     "metadata": {},
     "output_type": "display_data"
    },
    {
     "name": "stdout",
     "output_type": "stream",
     "text": [
      "────────────────────────────────────────────────────────────────────────────────────────────────────────────────────────\n",
      "        Test metric               DataLoader 0               DataLoader 1               DataLoader 2\n",
      "────────────────────────────────────────────────────────────────────────────────────────────────────────────────────────\n",
      "corr_coef_grad_sosstsst_var     0.701748251914978         0.7641299962997437         0.5873860120773315\n",
      "  corr_coef_sosstsst_var       0.7137854099273682         0.7573875188827515         0.7858012914657593\n",
      "  loss_grad_sosstsst_var        22.58170509338379         1.2413415908813477          1.242332100868225\n",
      "   loss_val_sosstsst_var       0.5897242426872253         0.11334624886512756        0.04879065230488777\n",
      "────────────────────────────────────────────────────────────────────────────────────────────────────────────────────────\n",
      "────────────────────────────────────────────────────────────────────────────────────────────────────────────────────────\n",
      "        Test metric               DataLoader 3               DataLoader 4               DataLoader 5\n",
      "────────────────────────────────────────────────────────────────────────────────────────────────────────────────────────\n",
      "corr_coef_grad_sosstsst_var    0.6714110970497131         0.2380991131067276         0.5250304937362671\n",
      "  corr_coef_sosstsst_var       0.8019294142723083         0.4919249415397644         0.5965461134910583\n",
      "  loss_grad_sosstsst_var        0.035981435328722       1.4827953691565199e-06     2.4598904929007404e-05\n",
      "   loss_val_sosstsst_var      0.008551034145057201       0.0001621125265955925      0.0009617453324608505\n",
      "────────────────────────────────────────────────────────────────────────────────────────────────────────────────────────\n"
     ]
    },
    {
     "name": "stderr",
     "output_type": "stream",
     "text": [
      "LOCAL_RANK: 0 - CUDA_VISIBLE_DEVICES: [0]\n"
     ]
    },
    {
     "data": {
      "application/vnd.jupyter.widget-view+json": {
       "model_id": "40f51176f18a44fd9399aa2058dcb975",
       "version_major": 2,
       "version_minor": 0
      },
      "text/plain": [
       "Predicting: 0it [00:00, ?it/s]"
      ]
     },
     "metadata": {},
     "output_type": "display_data"
    },
    {
     "name": "stderr",
     "output_type": "stream",
     "text": [
      "GPU available: True (cuda), used: True\n",
      "TPU available: False, using: 0 TPU cores\n",
      "IPU available: False, using: 0 IPUs\n",
      "HPU available: False, using: 0 HPUs\n"
     ]
    },
    {
     "name": "stdout",
     "output_type": "stream",
     "text": [
      "LinReg MIDATL\n"
     ]
    },
    {
     "name": "stderr",
     "output_type": "stream",
     "text": [
      "LOCAL_RANK: 0 - CUDA_VISIBLE_DEVICES: [0]\n"
     ]
    },
    {
     "data": {
      "application/vnd.jupyter.widget-view+json": {
       "model_id": "5fad5064c0bb4fc6bfc8acc7ce4445a0",
       "version_major": 2,
       "version_minor": 0
      },
      "text/plain": [
       "Testing: 0it [00:00, ?it/s]"
      ]
     },
     "metadata": {},
     "output_type": "display_data"
    },
    {
     "name": "stdout",
     "output_type": "stream",
     "text": [
      "────────────────────────────────────────────────────────────────────────────────────────────────────────────────────────\n",
      "        Test metric               DataLoader 0               DataLoader 1               DataLoader 2\n",
      "────────────────────────────────────────────────────────────────────────────────────────────────────────────────────────\n",
      "corr_coef_grad_sosstsst_var    0.7017487287521362         0.7641285061836243         0.5873858332633972\n",
      "  corr_coef_sosstsst_var       0.7137859463691711         0.7573875188827515         0.7858012914657593\n",
      "  loss_grad_sosstsst_var       22.578243255615234         1.2410743236541748         1.2421637773513794\n",
      "   loss_val_sosstsst_var       0.5896527767181396         0.11333037167787552        0.04878963530063629\n",
      "────────────────────────────────────────────────────────────────────────────────────────────────────────────────────────\n",
      "────────────────────────────────────────────────────────────────────────────────────────────────────────────────────────\n",
      "        Test metric               DataLoader 3               DataLoader 4               DataLoader 5\n",
      "────────────────────────────────────────────────────────────────────────────────────────────────────────────────────────\n",
      "corr_coef_grad_sosstsst_var     0.671411395072937         0.23809930682182312        0.5250306129455566\n",
      "  corr_coef_sosstsst_var       0.8019294142723083         0.4919247627258301         0.5965461134910583\n",
      "  loss_grad_sosstsst_var       0.03597329556941986      1.4825806147200637e-06      2.459632742102258e-05\n",
      "   loss_val_sosstsst_var      0.008551490493118763      0.00016209234308917075      0.0009616624447517097\n",
      "────────────────────────────────────────────────────────────────────────────────────────────────────────────────────────\n"
     ]
    },
    {
     "name": "stderr",
     "output_type": "stream",
     "text": [
      "LOCAL_RANK: 0 - CUDA_VISIBLE_DEVICES: [0]\n"
     ]
    },
    {
     "data": {
      "application/vnd.jupyter.widget-view+json": {
       "model_id": "6a5645050a8044ac8263da1bf43ca576",
       "version_major": 2,
       "version_minor": 0
      },
      "text/plain": [
       "Predicting: 0it [00:00, ?it/s]"
      ]
     },
     "metadata": {},
     "output_type": "display_data"
    },
    {
     "name": "stderr",
     "output_type": "stream",
     "text": [
      "GPU available: True (cuda), used: True\n",
      "TPU available: False, using: 0 TPU cores\n",
      "IPU available: False, using: 0 IPUs\n",
      "HPU available: False, using: 0 HPUs\n"
     ]
    },
    {
     "name": "stdout",
     "output_type": "stream",
     "text": [
      "CNN aso\n"
     ]
    },
    {
     "name": "stderr",
     "output_type": "stream",
     "text": [
      "LOCAL_RANK: 0 - CUDA_VISIBLE_DEVICES: [0]\n"
     ]
    },
    {
     "data": {
      "application/vnd.jupyter.widget-view+json": {
       "model_id": "2e04520ab5904f9fa70e9c59c0ce6719",
       "version_major": 2,
       "version_minor": 0
      },
      "text/plain": [
       "Testing: 0it [00:00, ?it/s]"
      ]
     },
     "metadata": {},
     "output_type": "display_data"
    },
    {
     "name": "stdout",
     "output_type": "stream",
     "text": [
      "────────────────────────────────────────────────────────────────────────────────────────────────────────────────────────\n",
      "        Test metric               DataLoader 0               DataLoader 1               DataLoader 2\n",
      "────────────────────────────────────────────────────────────────────────────────────────────────────────────────────────\n",
      "corr_coef_grad_sosstsst_var    0.7321320176124573         0.7310733199119568         0.46146926283836365\n",
      "  corr_coef_sosstsst_var       0.6620821952819824         0.6500585675239563         0.6427385210990906\n",
      "  loss_grad_sosstsst_var        12.81519889831543         0.6817632913589478         1.4245489835739136\n",
      "   loss_val_sosstsst_var       0.2664512097835541         0.0533243827521801         0.08325368911027908\n",
      "────────────────────────────────────────────────────────────────────────────────────────────────────────────────────────\n",
      "────────────────────────────────────────────────────────────────────────────────────────────────────────────────────────\n",
      "        Test metric               DataLoader 3               DataLoader 4               DataLoader 5\n",
      "────────────────────────────────────────────────────────────────────────────────────────────────────────────────────────\n",
      "corr_coef_grad_sosstsst_var    0.6984974145889282         0.1670442819595337        0.023290561512112617\n",
      "  corr_coef_sosstsst_var        0.798564076423645         0.11852089315652847        0.06956537812948227\n",
      "  loss_grad_sosstsst_var      0.033723268657922745       0.0002943661529570818      0.0013173844199627638\n",
      "   loss_val_sosstsst_var      0.009480549022555351       0.0012500676093623042      0.003463133703917265\n",
      "────────────────────────────────────────────────────────────────────────────────────────────────────────────────────────\n"
     ]
    },
    {
     "name": "stderr",
     "output_type": "stream",
     "text": [
      "LOCAL_RANK: 0 - CUDA_VISIBLE_DEVICES: [0]\n"
     ]
    },
    {
     "data": {
      "application/vnd.jupyter.widget-view+json": {
       "model_id": "ffb506650b95450981cf46a33b5a7a3f",
       "version_major": 2,
       "version_minor": 0
      },
      "text/plain": [
       "Predicting: 0it [00:00, ?it/s]"
      ]
     },
     "metadata": {},
     "output_type": "display_data"
    },
    {
     "name": "stderr",
     "output_type": "stream",
     "text": [
      "GPU available: True (cuda), used: True\n",
      "TPU available: False, using: 0 TPU cores\n",
      "IPU available: False, using: 0 IPUs\n",
      "HPU available: False, using: 0 HPUs\n"
     ]
    },
    {
     "name": "stdout",
     "output_type": "stream",
     "text": [
      "CNN fma\n"
     ]
    },
    {
     "name": "stderr",
     "output_type": "stream",
     "text": [
      "LOCAL_RANK: 0 - CUDA_VISIBLE_DEVICES: [0]\n"
     ]
    },
    {
     "data": {
      "application/vnd.jupyter.widget-view+json": {
       "model_id": "e9a013bfa0ad4d559b7cf5180e8c0040",
       "version_major": 2,
       "version_minor": 0
      },
      "text/plain": [
       "Testing: 0it [00:00, ?it/s]"
      ]
     },
     "metadata": {},
     "output_type": "display_data"
    },
    {
     "name": "stdout",
     "output_type": "stream",
     "text": [
      "────────────────────────────────────────────────────────────────────────────────────────────────────────────────────────\n",
      "        Test metric               DataLoader 0               DataLoader 1               DataLoader 2\n",
      "────────────────────────────────────────────────────────────────────────────────────────────────────────────────────────\n",
      "corr_coef_grad_sosstsst_var    0.7631787061691284         0.7352455258369446         0.4923257529735565\n",
      "  corr_coef_sosstsst_var       0.6702253222465515         0.6735150814056396         0.6216316223144531\n",
      "  loss_grad_sosstsst_var       11.542630195617676         0.7060567736625671         1.4110057353973389\n",
      "   loss_val_sosstsst_var       0.26316243410110474        0.0558832623064518         0.0985029861330986\n",
      "────────────────────────────────────────────────────────────────────────────────────────────────────────────────────────\n",
      "────────────────────────────────────────────────────────────────────────────────────────────────────────────────────────\n",
      "        Test metric               DataLoader 3               DataLoader 4               DataLoader 5\n",
      "────────────────────────────────────────────────────────────────────────────────────────────────────────────────────────\n",
      "corr_coef_grad_sosstsst_var    0.7229406833648682         0.2133559286594391         0.01335805095732212\n",
      "  corr_coef_sosstsst_var        0.820719838142395         0.12698107957839966        0.10842103511095047\n",
      "  loss_grad_sosstsst_var      0.028697431087493896      4.1962637624237686e-05      0.000160574636538513\n",
      "   loss_val_sosstsst_var      0.011653890833258629       0.003444993868470192       0.005156707484275103\n",
      "────────────────────────────────────────────────────────────────────────────────────────────────────────────────────────\n"
     ]
    },
    {
     "name": "stderr",
     "output_type": "stream",
     "text": [
      "LOCAL_RANK: 0 - CUDA_VISIBLE_DEVICES: [0]\n"
     ]
    },
    {
     "data": {
      "application/vnd.jupyter.widget-view+json": {
       "model_id": "3e9910d2f7d84cc18c0e96aaffeb3d5a",
       "version_major": 2,
       "version_minor": 0
      },
      "text/plain": [
       "Predicting: 0it [00:00, ?it/s]"
      ]
     },
     "metadata": {},
     "output_type": "display_data"
    },
    {
     "name": "stderr",
     "output_type": "stream",
     "text": [
      "GPU available: True (cuda), used: True\n",
      "TPU available: False, using: 0 TPU cores\n",
      "IPU available: False, using: 0 IPUs\n",
      "HPU available: False, using: 0 HPUs\n"
     ]
    },
    {
     "name": "stdout",
     "output_type": "stream",
     "text": [
      "CNN GF\n"
     ]
    },
    {
     "name": "stderr",
     "output_type": "stream",
     "text": [
      "LOCAL_RANK: 0 - CUDA_VISIBLE_DEVICES: [0]\n"
     ]
    },
    {
     "data": {
      "application/vnd.jupyter.widget-view+json": {
       "model_id": "840d21e2507f46789e5649ee39609b24",
       "version_major": 2,
       "version_minor": 0
      },
      "text/plain": [
       "Testing: 0it [00:00, ?it/s]"
      ]
     },
     "metadata": {},
     "output_type": "display_data"
    },
    {
     "name": "stdout",
     "output_type": "stream",
     "text": [
      "────────────────────────────────────────────────────────────────────────────────────────────────────────────────────────\n",
      "        Test metric               DataLoader 0               DataLoader 1               DataLoader 2\n",
      "────────────────────────────────────────────────────────────────────────────────────────────────────────────────────────\n",
      "corr_coef_grad_sosstsst_var     0.748611330986023         0.7455347776412964         0.5262513160705566\n",
      "  corr_coef_sosstsst_var       0.6857683062553406         0.6791696548461914         0.5493141412734985\n",
      "  loss_grad_sosstsst_var       13.209238052368164         0.6924846768379211         1.3216500282287598\n",
      "   loss_val_sosstsst_var       0.2749355733394623         0.05143077298998833        0.10750453919172287\n",
      "────────────────────────────────────────────────────────────────────────────────────────────────────────────────────────\n",
      "────────────────────────────────────────────────────────────────────────────────────────────────────────────────────────\n",
      "        Test metric               DataLoader 3               DataLoader 4               DataLoader 5\n",
      "────────────────────────────────────────────────────────────────────────────────────────────────────────────────────────\n",
      "corr_coef_grad_sosstsst_var     0.672410786151886         0.1844266802072525         0.01698329672217369\n",
      "  corr_coef_sosstsst_var       0.7445597648620605         0.10756810009479523        0.08278325200080872\n",
      "  loss_grad_sosstsst_var       0.03230655938386917      2.6038518626592122e-05      0.000526535848621279\n",
      "   loss_val_sosstsst_var      0.012159428559243679       0.001062433235347271       0.003447012510150671\n",
      "────────────────────────────────────────────────────────────────────────────────────────────────────────────────────────\n"
     ]
    },
    {
     "name": "stderr",
     "output_type": "stream",
     "text": [
      "LOCAL_RANK: 0 - CUDA_VISIBLE_DEVICES: [0]\n"
     ]
    },
    {
     "data": {
      "application/vnd.jupyter.widget-view+json": {
       "model_id": "77c26373a9be448dbf91047b22f5bc4c",
       "version_major": 2,
       "version_minor": 0
      },
      "text/plain": [
       "Predicting: 0it [00:00, ?it/s]"
      ]
     },
     "metadata": {},
     "output_type": "display_data"
    },
    {
     "name": "stderr",
     "output_type": "stream",
     "text": [
      "GPU available: True (cuda), used: True\n",
      "TPU available: False, using: 0 TPU cores\n",
      "IPU available: False, using: 0 IPUs\n",
      "HPU available: False, using: 0 HPUs\n"
     ]
    },
    {
     "name": "stdout",
     "output_type": "stream",
     "text": [
      "CNN MIDATL\n"
     ]
    },
    {
     "name": "stderr",
     "output_type": "stream",
     "text": [
      "LOCAL_RANK: 0 - CUDA_VISIBLE_DEVICES: [0]\n"
     ]
    },
    {
     "data": {
      "application/vnd.jupyter.widget-view+json": {
       "model_id": "1c8c3b457bc240a0af604814b117f49f",
       "version_major": 2,
       "version_minor": 0
      },
      "text/plain": [
       "Testing: 0it [00:00, ?it/s]"
      ]
     },
     "metadata": {},
     "output_type": "display_data"
    },
    {
     "name": "stdout",
     "output_type": "stream",
     "text": [
      "────────────────────────────────────────────────────────────────────────────────────────────────────────────────────────\n",
      "        Test metric               DataLoader 0               DataLoader 1               DataLoader 2\n",
      "────────────────────────────────────────────────────────────────────────────────────────────────────────────────────────\n",
      "corr_coef_grad_sosstsst_var    0.6694546341896057         0.6731857657432556         0.5547531843185425\n",
      "  corr_coef_sosstsst_var       0.6577684283256531         0.6558116674423218         0.6282256245613098\n",
      "  loss_grad_sosstsst_var       13.280470848083496         0.8703830242156982          1.304364800453186\n",
      "   loss_val_sosstsst_var       0.2806650400161743         0.05958898738026619        0.09508858621120453\n",
      "────────────────────────────────────────────────────────────────────────────────────────────────────────────────────────\n",
      "────────────────────────────────────────────────────────────────────────────────────────────────────────────────────────\n",
      "        Test metric               DataLoader 3               DataLoader 4               DataLoader 5\n",
      "────────────────────────────────────────────────────────────────────────────────────────────────────────────────────────\n",
      "corr_coef_grad_sosstsst_var    0.7312613129615784         0.2208552062511444        0.010259530507028103\n",
      "  corr_coef_sosstsst_var       0.8076044321060181         0.14084331691265106        0.09631103277206421\n",
      "  loss_grad_sosstsst_var      0.027569308876991272      2.2417598302126862e-05     0.00030976589187048376\n",
      "   loss_val_sosstsst_var      0.009599869139492512        0.0013837133301422        0.0035681570880115032\n",
      "────────────────────────────────────────────────────────────────────────────────────────────────────────────────────────\n"
     ]
    },
    {
     "name": "stderr",
     "output_type": "stream",
     "text": [
      "LOCAL_RANK: 0 - CUDA_VISIBLE_DEVICES: [0]\n"
     ]
    },
    {
     "data": {
      "application/vnd.jupyter.widget-view+json": {
       "model_id": "71f05fe85a7a4bb4ac1b57ff7d76d0c6",
       "version_major": 2,
       "version_minor": 0
      },
      "text/plain": [
       "Predicting: 0it [00:00, ?it/s]"
      ]
     },
     "metadata": {},
     "output_type": "display_data"
    },
    {
     "name": "stderr",
     "output_type": "stream",
     "text": [
      "GPU available: True (cuda), used: True\n",
      "TPU available: False, using: 0 TPU cores\n",
      "IPU available: False, using: 0 IPUs\n",
      "HPU available: False, using: 0 HPUs\n"
     ]
    },
    {
     "name": "stdout",
     "output_type": "stream",
     "text": [
      "FCNN aso\n"
     ]
    },
    {
     "name": "stderr",
     "output_type": "stream",
     "text": [
      "LOCAL_RANK: 0 - CUDA_VISIBLE_DEVICES: [0]\n"
     ]
    },
    {
     "data": {
      "application/vnd.jupyter.widget-view+json": {
       "model_id": "b494ce70497e4f109d6416d6fa350f2d",
       "version_major": 2,
       "version_minor": 0
      },
      "text/plain": [
       "Testing: 0it [00:00, ?it/s]"
      ]
     },
     "metadata": {},
     "output_type": "display_data"
    },
    {
     "name": "stdout",
     "output_type": "stream",
     "text": [
      "────────────────────────────────────────────────────────────────────────────────────────────────────────────────────────\n",
      "        Test metric               DataLoader 0               DataLoader 1               DataLoader 2\n",
      "────────────────────────────────────────────────────────────────────────────────────────────────────────────────────────\n",
      "corr_coef_grad_sosstsst_var    0.6782920956611633         0.7497978210449219         0.6058730483055115\n",
      "  corr_coef_sosstsst_var       0.6445912718772888         0.6758204698562622         0.7593303918838501\n",
      "  loss_grad_sosstsst_var       15.686341285705566         0.8663570880889893         1.1586272716522217\n",
      "   loss_val_sosstsst_var       0.37585675716400146        0.07718385010957718       0.056053657084703445\n",
      "────────────────────────────────────────────────────────────────────────────────────────────────────────────────────────\n",
      "────────────────────────────────────────────────────────────────────────────────────────────────────────────────────────\n",
      "        Test metric               DataLoader 3               DataLoader 4               DataLoader 5\n",
      "────────────────────────────────────────────────────────────────────────────────────────────────────────────────────────\n",
      "corr_coef_grad_sosstsst_var    0.7700717449188232         0.1888095736503601        0.0034006619825959206\n",
      "  corr_coef_sosstsst_var       0.8470234870910645          0.162932887673378         0.06390966475009918\n",
      "  loss_grad_sosstsst_var       0.02401912398636341      5.9832684200955555e-05      0.0031428912188857794\n",
      "   loss_val_sosstsst_var      0.008058053441345692       0.0006863285670988262      0.0017212600214406848\n",
      "────────────────────────────────────────────────────────────────────────────────────────────────────────────────────────\n"
     ]
    },
    {
     "name": "stderr",
     "output_type": "stream",
     "text": [
      "LOCAL_RANK: 0 - CUDA_VISIBLE_DEVICES: [0]\n"
     ]
    },
    {
     "data": {
      "application/vnd.jupyter.widget-view+json": {
       "model_id": "92fe44840e0e40c8bb3c66088cd6c684",
       "version_major": 2,
       "version_minor": 0
      },
      "text/plain": [
       "Predicting: 0it [00:00, ?it/s]"
      ]
     },
     "metadata": {},
     "output_type": "display_data"
    },
    {
     "name": "stderr",
     "output_type": "stream",
     "text": [
      "GPU available: True (cuda), used: True\n",
      "TPU available: False, using: 0 TPU cores\n",
      "IPU available: False, using: 0 IPUs\n",
      "HPU available: False, using: 0 HPUs\n"
     ]
    },
    {
     "name": "stdout",
     "output_type": "stream",
     "text": [
      "FCNN fma\n"
     ]
    },
    {
     "name": "stderr",
     "output_type": "stream",
     "text": [
      "LOCAL_RANK: 0 - CUDA_VISIBLE_DEVICES: [0]\n"
     ]
    },
    {
     "data": {
      "application/vnd.jupyter.widget-view+json": {
       "model_id": "06b3b49c4f77473eae8b33e3d88b5320",
       "version_major": 2,
       "version_minor": 0
      },
      "text/plain": [
       "Testing: 0it [00:00, ?it/s]"
      ]
     },
     "metadata": {},
     "output_type": "display_data"
    },
    {
     "name": "stdout",
     "output_type": "stream",
     "text": [
      "────────────────────────────────────────────────────────────────────────────────────────────────────────────────────────\n",
      "        Test metric               DataLoader 0               DataLoader 1               DataLoader 2\n",
      "────────────────────────────────────────────────────────────────────────────────────────────────────────────────────────\n",
      "corr_coef_grad_sosstsst_var    0.7390913367271423         0.7379022240638733          0.395078182220459\n",
      "  corr_coef_sosstsst_var       0.6833718419075012         0.6718429923057556         0.6536169052124023\n",
      "  loss_grad_sosstsst_var        17.86298942565918         1.2430548667907715          1.534603238105774\n",
      "   loss_val_sosstsst_var       0.4939277768135071         0.10037607699632645        0.07722436636686325\n",
      "────────────────────────────────────────────────────────────────────────────────────────────────────────────────────────\n",
      "────────────────────────────────────────────────────────────────────────────────────────────────────────────────────────\n",
      "        Test metric               DataLoader 3               DataLoader 4               DataLoader 5\n",
      "────────────────────────────────────────────────────────────────────────────────────────────────────────────────────────\n",
      "corr_coef_grad_sosstsst_var    0.5844980478286743         0.14775678515434265        0.04526664689183235\n",
      "  corr_coef_sosstsst_var       0.6407566666603088         0.12023113667964935        0.09263401478528976\n",
      "  loss_grad_sosstsst_var       0.04809325560927391      3.9331967855105177e-05     0.00040403660386800766\n",
      "   loss_val_sosstsst_var      0.014573544263839722       0.001041657873429358       0.0033276428002864122\n",
      "────────────────────────────────────────────────────────────────────────────────────────────────────────────────────────\n"
     ]
    },
    {
     "name": "stderr",
     "output_type": "stream",
     "text": [
      "LOCAL_RANK: 0 - CUDA_VISIBLE_DEVICES: [0]\n"
     ]
    },
    {
     "data": {
      "application/vnd.jupyter.widget-view+json": {
       "model_id": "63a99722ad6b445db43409c95d511463",
       "version_major": 2,
       "version_minor": 0
      },
      "text/plain": [
       "Predicting: 0it [00:00, ?it/s]"
      ]
     },
     "metadata": {},
     "output_type": "display_data"
    },
    {
     "name": "stderr",
     "output_type": "stream",
     "text": [
      "GPU available: True (cuda), used: True\n",
      "TPU available: False, using: 0 TPU cores\n",
      "IPU available: False, using: 0 IPUs\n",
      "HPU available: False, using: 0 HPUs\n"
     ]
    },
    {
     "name": "stdout",
     "output_type": "stream",
     "text": [
      "FCNN GF\n"
     ]
    },
    {
     "name": "stderr",
     "output_type": "stream",
     "text": [
      "LOCAL_RANK: 0 - CUDA_VISIBLE_DEVICES: [0]\n"
     ]
    },
    {
     "data": {
      "application/vnd.jupyter.widget-view+json": {
       "model_id": "d2ba882b6bd84d99bf6bc0effa69f2a9",
       "version_major": 2,
       "version_minor": 0
      },
      "text/plain": [
       "Testing: 0it [00:00, ?it/s]"
      ]
     },
     "metadata": {},
     "output_type": "display_data"
    },
    {
     "name": "stdout",
     "output_type": "stream",
     "text": [
      "────────────────────────────────────────────────────────────────────────────────────────────────────────────────────────\n",
      "        Test metric               DataLoader 0               DataLoader 1               DataLoader 2\n",
      "────────────────────────────────────────────────────────────────────────────────────────────────────────────────────────\n",
      "corr_coef_grad_sosstsst_var    0.7584302425384521         0.7737398743629456         0.5562351942062378\n",
      "  corr_coef_sosstsst_var       0.6923853754997253         0.6875446438789368         0.6847723126411438\n",
      "  loss_grad_sosstsst_var       15.788922309875488         0.8892381191253662         1.2496446371078491\n",
      "   loss_val_sosstsst_var       0.3899526596069336         0.07833612710237503        0.07026728987693787\n",
      "────────────────────────────────────────────────────────────────────────────────────────────────────────────────────────\n",
      "────────────────────────────────────────────────────────────────────────────────────────────────────────────────────────\n",
      "        Test metric               DataLoader 3               DataLoader 4               DataLoader 5\n",
      "────────────────────────────────────────────────────────────────────────────────────────────────────────────────────────\n",
      "corr_coef_grad_sosstsst_var    0.7314844727516174         0.27451008558273315       0.009522895328700542\n",
      "  corr_coef_sosstsst_var       0.8061783313751221         0.13180102407932281        0.05565504729747772\n",
      "  loss_grad_sosstsst_var      0.029770415276288986       5.759860414400464e-06      0.002287299605086446\n",
      "   loss_val_sosstsst_var      0.008590221405029297       0.0009823916479945183      0.0019072380382567644\n",
      "────────────────────────────────────────────────────────────────────────────────────────────────────────────────────────\n"
     ]
    },
    {
     "name": "stderr",
     "output_type": "stream",
     "text": [
      "LOCAL_RANK: 0 - CUDA_VISIBLE_DEVICES: [0]\n"
     ]
    },
    {
     "data": {
      "application/vnd.jupyter.widget-view+json": {
       "model_id": "663f4dfe1ffd4f438b0d968a9ec95b20",
       "version_major": 2,
       "version_minor": 0
      },
      "text/plain": [
       "Predicting: 0it [00:00, ?it/s]"
      ]
     },
     "metadata": {},
     "output_type": "display_data"
    },
    {
     "name": "stderr",
     "output_type": "stream",
     "text": [
      "GPU available: True (cuda), used: True\n",
      "TPU available: False, using: 0 TPU cores\n",
      "IPU available: False, using: 0 IPUs\n",
      "HPU available: False, using: 0 HPUs\n"
     ]
    },
    {
     "name": "stdout",
     "output_type": "stream",
     "text": [
      "FCNN MIDATL\n"
     ]
    },
    {
     "name": "stderr",
     "output_type": "stream",
     "text": [
      "LOCAL_RANK: 0 - CUDA_VISIBLE_DEVICES: [0]\n"
     ]
    },
    {
     "data": {
      "application/vnd.jupyter.widget-view+json": {
       "model_id": "4fa015da79914e869b2858e2218cc2a7",
       "version_major": 2,
       "version_minor": 0
      },
      "text/plain": [
       "Testing: 0it [00:00, ?it/s]"
      ]
     },
     "metadata": {},
     "output_type": "display_data"
    },
    {
     "name": "stdout",
     "output_type": "stream",
     "text": [
      "────────────────────────────────────────────────────────────────────────────────────────────────────────────────────────\n",
      "        Test metric               DataLoader 0               DataLoader 1               DataLoader 2\n",
      "────────────────────────────────────────────────────────────────────────────────────────────────────────────────────────\n",
      "corr_coef_grad_sosstsst_var    0.7536253929138184         0.7743304967880249         0.48165881633758545\n",
      "  corr_coef_sosstsst_var       0.7305395007133484         0.7470759749412537         0.5499364733695984\n",
      "  loss_grad_sosstsst_var        15.49382495880127         0.8618798851966858         1.3888261318206787\n",
      "   loss_val_sosstsst_var       0.42194920778274536        0.07724908739328384        0.0932045727968216\n",
      "────────────────────────────────────────────────────────────────────────────────────────────────────────────────────────\n",
      "────────────────────────────────────────────────────────────────────────────────────────────────────────────────────────\n",
      "        Test metric               DataLoader 3               DataLoader 4               DataLoader 5\n",
      "────────────────────────────────────────────────────────────────────────────────────────────────────────────────────────\n",
      "corr_coef_grad_sosstsst_var    0.6678776741027832         0.28468334674835205        0.0339617021381855\n",
      "  corr_coef_sosstsst_var       0.6825428009033203         0.18158219754695892        0.08742731809616089\n",
      "  loss_grad_sosstsst_var       0.03622069209814072       7.43705913919257e-06      0.00033197569428011775\n",
      "   loss_val_sosstsst_var      0.014945861883461475       0.002538548316806555       0.0050676604732871056\n",
      "────────────────────────────────────────────────────────────────────────────────────────────────────────────────────────\n"
     ]
    },
    {
     "name": "stderr",
     "output_type": "stream",
     "text": [
      "LOCAL_RANK: 0 - CUDA_VISIBLE_DEVICES: [0]\n"
     ]
    },
    {
     "data": {
      "application/vnd.jupyter.widget-view+json": {
       "model_id": "e966b1d803a4427386a50dea47daffbd",
       "version_major": 2,
       "version_minor": 0
      },
      "text/plain": [
       "Predicting: 0it [00:00, ?it/s]"
      ]
     },
     "metadata": {},
     "output_type": "display_data"
    },
    {
     "name": "stdout",
     "output_type": "stream",
     "text": [
      "CPU times: user 1min 22s, sys: 7.16 s, total: 1min 29s\n",
      "Wall time: 1min 32s\n"
     ]
    }
   ],
   "source": [
    "%%time\n",
    "for i, model_name in enumerate(list_of_models) :\n",
    "    for j, exp_name in enumerate(list(exp[model_name].keys())) :\n",
    "        exp_dict = exp[model_name][exp_name]\n",
    "        model = exp_dict['exp'].pylight_model\n",
    "        exp_dict['best_model'] = model.load_from_checkpoint(torch_model=model.torch_model, loss=model.loss,\\\n",
    "                                                            checkpoint_path=exp_dict['exp'].get_checkpoint_path(), \\\n",
    "                                                            **exp_dict['exp'].kwargs)\n",
    "        trainer = pl.Trainer(accelerator='gpu', devices=1)\n",
    "        print(model_name + ' ' + exp_name)\n",
    "        test_dict = trainer.test(exp_dict['best_model'], datamodule=test_datamodule)\n",
    "        test_dict_metrics_keys = ['loss_val', 'loss_grad', 'corr_coef', 'corr_coef_grad']\n",
    "        for key in test_dict_metrics_keys : \n",
    "            exp_dict.update({key : dict()})\n",
    "            for feature in ['sosstsst_var'] :\n",
    "                exp_dict[key][feature] = [test_dict[ds][key+'_'+feature+'/dataloader_idx_'+str(ds)] for ds in range(len(data_dict))]\n",
    "        \n",
    "        # save prediction\n",
    "        prediction_dict = trainer.predict(exp_dict['best_model'], dataloaders=test_datamodule.test_dataloader())\n",
    "        exp_dict['pred'] = dict()\n",
    "        for feature in list(prediction_dict[0][0].keys()) :\n",
    "            exp_dict['pred'][feature] = [prediction_dict[ds][0][feature] for ds in range(len(data_dict))]\n",
    "        del prediction_dict"
   ]
  },
  {
   "cell_type": "markdown",
   "id": "f2dd0730-cc10-4612-93db-c1055c9867d3",
   "metadata": {},
   "source": [
    "## Image examples"
   ]
  },
  {
   "cell_type": "markdown",
   "id": "75520493-e340-4422-a7a1-7f1638c41983",
   "metadata": {},
   "source": [
    "True fields:"
   ]
  },
  {
   "cell_type": "code",
   "execution_count": 229,
   "id": "0eec4b47-b82d-46bc-b51f-bd85fee74f7f",
   "metadata": {},
   "outputs": [],
   "source": [
    "truth = dict()\n",
    "for feature in ['sosstsst_var'] :\n",
    "    truth[feature] = [torch.Tensor() for i in range(len(test_datamodule.test_dataloader()))]"
   ]
  },
  {
   "cell_type": "code",
   "execution_count": 230,
   "id": "3abaa6ef-af63-4076-b9fc-9c21fb598d9f",
   "metadata": {},
   "outputs": [],
   "source": [
    "for i, dataloader in enumerate(test_datamodule.test_dataloader()) :\n",
    "    iterator = iter(dataloader)\n",
    "    sample = next(iterator)\n",
    "    for feature in ['sosstsst_var'] :\n",
    "        truth[feature][i] = sample[feature].where(sample['mask'][:,:,:], torch.ones_like(sample['mask'][:,:,:])*np.nan)"
   ]
  },
  {
   "cell_type": "code",
   "execution_count": 231,
   "id": "ca69ba50-d193-4512-a091-2d7d06c6b589",
   "metadata": {},
   "outputs": [],
   "source": [
    "idx_batch = 0"
   ]
  },
  {
   "cell_type": "code",
   "execution_count": 232,
   "id": "a69c75b6-263a-4a7f-92e2-3b3cb7a2febe",
   "metadata": {},
   "outputs": [],
   "source": [
    "feature = 'sosstsst_var_masked'"
   ]
  },
  {
   "cell_type": "code",
   "execution_count": 233,
   "id": "0f688ef2-1241-48d9-aa77-785a47f2bdf9",
   "metadata": {},
   "outputs": [],
   "source": [
    "selected_idx_region = [0,3,5]"
   ]
  },
  {
   "cell_type": "code",
   "execution_count": 234,
   "id": "c7c503cd-a64f-4674-81d2-db900ce37ec3",
   "metadata": {},
   "outputs": [
    {
     "data": {
      "image/png": "[encoded data removed]",
      "text/plain": [
       "<Figure size 1500x1000 with 27 Axes>"
      ]
     },
     "metadata": {},
     "output_type": "display_data"
    }
   ],
   "source": [
    "fig, axs = plt.subplots(nrows=3, ncols=1, constrained_layout=True, figsize=(15,10),sharex=True, sharey=True)\n",
    "fig.suptitle('Examples of sub-grid temperature variance (dimensional units)')\n",
    "\n",
    "# clear subplots\n",
    "for ax in axs:\n",
    "    ax.remove()\n",
    "\n",
    "# add subfigure per subplot\n",
    "gridspec = axs[0].get_subplotspec().get_gridspec()\n",
    "subfigs = [fig.add_subfigure(gs) for gs in gridspec]\n",
    "\n",
    "for row, subfig in enumerate(subfigs):\n",
    "    idx_region = selected_idx_region[row]\n",
    "    axs = subfig.subplots(ncols=7, nrows=1)\n",
    "    img = axs[0].imshow(truth['sosstsst_var'][idx_region][idx_batch,:,:], \\\n",
    "                        #cmap=('ocean_r' if (row==0) else current_cmap), \\\n",
    "                        cmap='ocean_r', \\\n",
    "                        #vmin=(None if (row==0) else color_min), vmax=(None if (row==0) else color_max), \\\n",
    "                        origin='lower')\n",
    "    fig.colorbar(img, location='left',  shrink=0.8)\n",
    "    axs[0].set(title='Truth')\n",
    "    #if (row == 0) :\n",
    "    color_min = img.colorbar.vmin\n",
    "    color_max = img.colorbar.vmax\n",
    "    current_cmap = img.cmap\n",
    "    current_cmap.set_bad(color='silver')\n",
    "    ax_index = 1\n",
    "    for i, model_name in enumerate(list_of_models) :\n",
    "        for j, exp_name in enumerate(['GF', 'MIDATL']) :\n",
    "            exp_dict = exp[model_name][exp_name]\n",
    "            img = axs[ax_index].imshow(exp_dict['pred']['sosstsst_var_masked'][idx_region][idx_batch,:,:], cmap=current_cmap, \\\n",
    "                                       vmin=color_min, vmax=color_max, origin='lower')\n",
    "            axs[ax_index].set(title=model_name+' '+exp_name)\n",
    "            ax_index+=1\n",
    "    fig.colorbar(img, ax=axs[-1], shrink=0.8)\n",
    "    subfigs[row].suptitle(data_dict[idx_region]['label'])\n",
    "plt.show()"
   ]
  },
  {
   "cell_type": "code",
   "execution_count": 235,
   "id": "77a6a7a7-65b2-4aa1-b3a1-8a9df1ea5572",
   "metadata": {},
   "outputs": [],
   "source": [
    "# fig, axs = plt.subplots(nrows=3, ncols=1, constrained_layout=True, figsize=(12,10),sharex=True, sharey=True)\n",
    "# fig.suptitle('Examples of sub-grid temperature variance (dimensional units)')\n",
    "\n",
    "# # clear subplots\n",
    "# for ax in axs:\n",
    "#     ax.remove()\n",
    "\n",
    "# # add subfigure per subplot\n",
    "# gridspec = axs[0].get_subplotspec().get_gridspec()\n",
    "# subfigs = [fig.add_subfigure(gs) for gs in gridspec]\n",
    "# idx_batch = 100\n",
    "# for row, subfig in enumerate(subfigs):\n",
    "#     idx_region = selected_idx_region[row]\n",
    "#     axs = subfig.subplots(ncols=4, nrows=1)\n",
    "#     img = axs[0].imshow(truth['sosstsst_var'][idx_region][idx_batch,:,:], \\\n",
    "#                         #cmap=('ocean_r' if (row==0) else current_cmap), \\\n",
    "#                         cmap='ocean_r', \\\n",
    "#                         #vmin=(None if (row==0) else color_min), vmax=(None if (row==0) else color_max), \\\n",
    "#                         origin='lower')\n",
    "#     fig.colorbar(img, location='left',  shrink=0.8)\n",
    "#     axs[0].set(title='Truth')\n",
    "#     #if (row == 0) :\n",
    "#     color_min = img.colorbar.vmin\n",
    "#     color_max = img.colorbar.vmax\n",
    "#     current_cmap = img.cmap\n",
    "#     current_cmap.set_bad(color='silver')\n",
    "#     ax_index = 1\n",
    "#     for i, model_name in enumerate(list_of_models) :\n",
    "#         for j, exp_name in enumerate(list(exp[model_name].keys())[0:1]) :\n",
    "#             exp_dict = exp[model_name][exp_name]\n",
    "#             img = axs[ax_index].imshow(exp_dict['pred']['sosstsst_var_masked'][idx_region][idx_batch,:,:], cmap=current_cmap, \\\n",
    "#                                        vmin=color_min, vmax=color_max, origin='lower')\n",
    "#             axs[ax_index].set(title=model_name+' '+exp_name)\n",
    "#             ax_index+=1\n",
    "#     fig.colorbar(img, ax=axs[-1], shrink=0.8)\n",
    "#     subfigs[row].suptitle(data_dict[idx_region]['label'])\n",
    "# plt.show()"
   ]
  },
  {
   "cell_type": "markdown",
   "id": "b477b050-1b88-46bf-bedb-1fe2817aacbf",
   "metadata": {},
   "source": [
    "## Metrics over all datasets"
   ]
  },
  {
   "cell_type": "code",
   "execution_count": 236,
   "id": "d3d4504c-6d9a-47da-900f-ecd0ec4a6c96",
   "metadata": {},
   "outputs": [],
   "source": [
    "bar_colors = list(mcolors.TABLEAU_COLORS.values()) + list(mcolors.BASE_COLORS.values())"
   ]
  },
  {
   "cell_type": "code",
   "execution_count": 237,
   "id": "324e9f47-1ee4-4788-802a-86ac81f87cc4",
   "metadata": {},
   "outputs": [],
   "source": [
    "metrics_list = ['loss_val', 'loss_grad', 'corr_coef', 'corr_coef_grad']"
   ]
  },
  {
   "cell_type": "code",
   "execution_count": 238,
   "id": "9ccdf2ab-19ab-4893-8fc4-40e5aa5250b1",
   "metadata": {},
   "outputs": [
    {
     "data": {
      "image/png": "[encoded data removed]",
      "text/plain": [
       "<Figure size 1200x400 with 4 Axes>"
      ]
     },
     "metadata": {},
     "output_type": "display_data"
    }
   ],
   "source": [
    "fig, ax = plt.subplots(1, len(metrics_list), constrained_layout=True, figsize=(3.0*len(metrics_list), 4.))\n",
    "fig.suptitle('Metrics for non-normalized sub-grid temperature variance averaged over all datasets')\n",
    "x = np.arange(len(list_of_models))\n",
    "xlabels=list_of_models\n",
    "bar_width = 0.2\n",
    "feature = 'sosstsst_var'\n",
    "for idx, metrics in enumerate(metrics_list) :\n",
    "    bar_counter = 0\n",
    "    for i, model_name in enumerate(list_of_models) :\n",
    "        for j, exp_name in enumerate(list(exp[model_name].keys())) :\n",
    "            exp_dict = exp[model_name][exp_name]\n",
    "\n",
    "            ax[idx].bar(x[i]+j*bar_width, np.mean(exp_dict[metrics][feature]), width=bar_width, \\\n",
    "                           color=bar_colors[bar_counter],label=model_name+' '+exp_name)\n",
    "            bar_counter+=1\n",
    "    ax[idx].set_xticks(x, xlabels, rotation='vertical') \n",
    "ax[-1].legend(bbox_to_anchor=(1.05, 1), loc='upper left')\n",
    "for axis in ax[2::] :\n",
    "    axis.set(ylim=[0,1])\n",
    "\n",
    "ax[0].set(title=r'MSE on value of $\\sigma_T^2$')\n",
    "ax[1].set(title=r'MSE on grad $|\\delta x \\cdot \\nabla \\sigma_T^2|$')\n",
    "ax[2].set(title=r'Corr coef on $\\sigma_T^2$')\n",
    "ax[3].set(title=r'Corr coef on grad $|\\delta x \\cdot \\nabla \\sigma_T^2|$')\n",
    "plt.show()"
   ]
  },
  {
   "cell_type": "markdown",
   "id": "b26272bd-f578-476e-8553-8d9d1a1c3f8a",
   "metadata": {},
   "source": [
    "## Compare MSE across datasets (by region/season)"
   ]
  },
  {
   "cell_type": "markdown",
   "id": "571a3078-4855-4a84-a0a2-cc66670f7c44",
   "metadata": {},
   "source": [
    "### MSE of subgrid variance"
   ]
  },
  {
   "cell_type": "code",
   "execution_count": 239,
   "id": "71a93ab5-908a-4952-b5bf-7f39dfec9ac8",
   "metadata": {},
   "outputs": [
    {
     "data": {
      "image/png": "[encoded data removed]",
      "text/plain": [
       "<Figure size 1500x300 with 6 Axes>"
      ]
     },
     "metadata": {},
     "output_type": "display_data"
    }
   ],
   "source": [
    "fig, ax = plt.subplots(1, 6, constrained_layout=True, figsize=(15, 3.0), sharex=True, sharey=True)\n",
    "fig.suptitle('MSE of subgrid temperature variance')\n",
    "x = np.arange(len(list_of_models))\n",
    "xlabels=list_of_models\n",
    "bar_width = 0.2\n",
    "feature = 'sosstsst_var'\n",
    "\n",
    "for region in range(len(data_dict)) :\n",
    "    bar_counter = 0\n",
    "    for i, model_name in enumerate(list_of_models) :\n",
    "        for j, exp_name in enumerate(list(exp[model_name].keys())) :\n",
    "            exp_dict = exp[model_name][exp_name]\n",
    "            if (feature in exp_dict['loss_val'].keys()) :\n",
    "                ax[region].bar(x[i]+j*bar_width, exp_dict['loss_val'][feature][region], width=bar_width, \\\n",
    "                               color=bar_colors[bar_counter],\\\n",
    "                              label=model_name+' '+exp_name)\n",
    "                bar_counter+=1\n",
    "    ax[region].set_xticks(x, xlabels, rotation='vertical')\n",
    "    ax[region].set(title=data_dict[region]['label'])\n",
    "ax[0].set(ylabel='MSE')\n",
    "ax[-1].legend(bbox_to_anchor=(1.05, 1), loc='upper left')\n",
    "plt.show()"
   ]
  },
  {
   "cell_type": "code",
   "execution_count": 241,
   "id": "c93c71a4-fb55-4a68-aa0c-b0ba768367c2",
   "metadata": {},
   "outputs": [
    {
     "data": {
      "image/png": "[encoded data removed]",
      "text/plain": [
       "<Figure size 1500x300 with 6 Axes>"
      ]
     },
     "metadata": {},
     "output_type": "display_data"
    }
   ],
   "source": [
    "fig, ax = plt.subplots(1, 6, constrained_layout=True, figsize=(15, 3.0), sharey=True)\n",
    "fig.suptitle('Relative MSE of values of subgrid temperature variance (with respect to the std)')\n",
    "x = np.arange(len(list_of_models))\n",
    "xlabels=list_of_models\n",
    "bar_width = 0.2\n",
    "feature = 'sosstsst_var'\n",
    "\n",
    "for region in range(len(data_dict)) :\n",
    "    bar_counter = 0\n",
    "    for i, model_name in enumerate(list_of_models) :\n",
    "        for j, exp_name in enumerate(list(exp[model_name].keys())) :\n",
    "            exp_dict = exp[model_name][exp_name]\n",
    "            if (feature in exp_dict['loss_val'].keys()) :\n",
    "                ax[region].bar(x[i]+j*bar_width, \\\n",
    "                               exp_dict['loss_val'][feature][region]/test_datamodule.list_of_xr_datasets[region]['std_sosstsst_var'], \\\n",
    "                               width=bar_width, \\\n",
    "                               color=bar_colors[bar_counter],\\\n",
    "                              label=model_name+' '+exp_name)\n",
    "                bar_counter+=1\n",
    "    ax[region].set_xticks(x, xlabels, rotation='vertical')\n",
    "    ax[region].set(title=data_dict[region]['label'])\n",
    "ax[0].set(ylabel='MSE')\n",
    "ax[-1].legend(bbox_to_anchor=(1.05, 1), loc='upper left')\n",
    "plt.show()"
   ]
  },
  {
   "cell_type": "code",
   "execution_count": 242,
   "id": "77eb70b2-8ce8-4af3-a887-1275444972e7",
   "metadata": {},
   "outputs": [
    {
     "data": {
      "image/png": "[encoded data removed]",
      "text/plain": [
       "<Figure size 1500x300 with 6 Axes>"
      ]
     },
     "metadata": {},
     "output_type": "display_data"
    }
   ],
   "source": [
    "fig, ax = plt.subplots(1, 6, constrained_layout=True, figsize=(15, 3.0))\n",
    "fig.suptitle('Relative MSE of values of subgrid temperature variance (with respect to the mean)')\n",
    "x = np.arange(len(list_of_models))\n",
    "xlabels=list_of_models\n",
    "bar_width = 0.2\n",
    "feature = 'sosstsst_var'\n",
    "\n",
    "for region in range(len(data_dict)) :\n",
    "    bar_counter = 0\n",
    "    for i, model_name in enumerate(list_of_models) :\n",
    "        for j, exp_name in enumerate(list(exp[model_name].keys())) :\n",
    "            exp_dict = exp[model_name][exp_name]\n",
    "            if (feature in exp_dict['loss_val'].keys()) :\n",
    "                ax[region].bar(x[i]+j*bar_width, \\\n",
    "                               exp_dict['loss_val'][feature][region]/test_datamodule.list_of_xr_datasets[region]['mean_sosstsst_var'], \\\n",
    "                               width=bar_width, \\\n",
    "                               color=bar_colors[bar_counter],\\\n",
    "                              label=model_name+' '+exp_name)\n",
    "                bar_counter+=1\n",
    "    ax[region].set_xticks(x, xlabels, rotation='vertical')\n",
    "    ax[region].set(title=data_dict[region]['label'])\n",
    "ax[0].set(ylabel='MSE')\n",
    "ax[-1].legend(bbox_to_anchor=(1.05, 1), loc='upper left')\n",
    "plt.show()"
   ]
  },
  {
   "cell_type": "markdown",
   "id": "41e4b938-4160-4355-8ff0-030e7c32bfca",
   "metadata": {},
   "source": [
    "### MSE of horizontal gradient of the subgrid variance"
   ]
  },
  {
   "cell_type": "code",
   "execution_count": 243,
   "id": "411f194f-da78-4421-ad2e-c1fa9334f52e",
   "metadata": {},
   "outputs": [
    {
     "data": {
      "image/png": "[encoded data removed]",
      "text/plain": [
       "<Figure size 1500x300 with 6 Axes>"
      ]
     },
     "metadata": {},
     "output_type": "display_data"
    }
   ],
   "source": [
    "fig, ax = plt.subplots(1, 6, constrained_layout=True, figsize=(15, 3.0))\n",
    "fig.suptitle('MSE of modulus of horizontal gradient of the subgrid temperature variance')\n",
    "x = np.arange(len(list_of_models))\n",
    "xlabels=list_of_models\n",
    "bar_width = 0.2\n",
    "feature = 'sosstsst_var'\n",
    "\n",
    "for region in range(len(data_dict)) :\n",
    "    bar_counter = 0\n",
    "    for i, model_name in enumerate(list_of_models) :\n",
    "        for j, exp_name in enumerate(list(exp[model_name].keys())) :\n",
    "            exp_dict = exp[model_name][exp_name]\n",
    "            if (feature in exp_dict['loss_grad'].keys()) :\n",
    "                ax[region].bar(x[i]+j*bar_width, exp_dict['loss_grad'][feature][region], width=bar_width, \\\n",
    "                               color=bar_colors[bar_counter],\\\n",
    "                              label=model_name+' '+exp_name)\n",
    "                bar_counter+=1\n",
    "    ax[region].set_xticks(x, xlabels, rotation='vertical')\n",
    "    ax[region].set(title=data_dict[region]['label'])\n",
    "ax[0].set(ylabel='MSE')\n",
    "ax[-1].legend(bbox_to_anchor=(1.05, 1), loc='upper left')\n",
    "plt.show()"
   ]
  },
  {
   "cell_type": "code",
   "execution_count": null,
   "id": "517de3c7-8f13-4a7a-a8ad-56005000931a",
   "metadata": {},
   "outputs": [],
   "source": []
  },
  {
   "cell_type": "code",
   "execution_count": null,
   "id": "abe41ef7-d387-4d4f-a51a-92d45c51ae29",
   "metadata": {},
   "outputs": [],
   "source": []
  },
  {
   "cell_type": "code",
   "execution_count": null,
   "id": "7c7de624-7d71-480c-b37c-88ff81c23ae8",
   "metadata": {},
   "outputs": [],
   "source": []
  },
  {
   "cell_type": "code",
   "execution_count": null,
   "id": "cea2998f-91ce-42c6-8c5c-b89ec0ebc4ca",
   "metadata": {},
   "outputs": [],
   "source": []
  }
 ],
 "metadata": {
  "kernelspec": {
   "display_name": "Python 3 (ipykernel)",
   "language": "python",
   "name": "python3"
  },
  "language_info": {
   "codemirror_mode": {
    "name": "ipython",
    "version": 3
   },
   "file_extension": ".py",
   "mimetype": "text/x-python",
   "name": "python",
   "nbconvert_exporter": "python",
   "pygments_lexer": "ipython3",
   "version": "3.9.13"
  },
  "toc-autonumbering": true,
  "toc-showcode": false,
  "toc-showmarkdowntxt": false,
  "toc-showtags": false
 },
 "nbformat": 4,
 "nbformat_minor": 5
}
