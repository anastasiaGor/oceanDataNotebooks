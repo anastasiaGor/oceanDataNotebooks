{
 "cells": [
  {
   "cell_type": "markdown",
   "id": "8e4b6b22-c323-4b3d-99d8-fd4d4009d465",
   "metadata": {},
   "source": [
    "# Import"
   ]
  },
  {
   "cell_type": "code",
   "execution_count": 1,
   "id": "305093cc-0f53-4784-bde1-385844ca3aaf",
   "metadata": {},
   "outputs": [],
   "source": [
    "import glob, os\n",
    "import torch\n",
    "import numpy as np\n",
    "import matplotlib.pyplot as plt\n",
    "from torch.utils.data import Dataset, DataLoader\n",
    "from tqdm.autonotebook import tqdm, trange\n",
    "import torch.nn.functional as F\n",
    "import xarray as xr\n",
    "import dask\n",
    "from IPython import display"
   ]
  },
  {
   "cell_type": "code",
   "execution_count": 2,
   "id": "d387a407-c92f-43d6-b672-ef9b0cb73a8a",
   "metadata": {},
   "outputs": [
    {
     "name": "stdout",
     "output_type": "stream",
     "text": [
      "macOS-12.4-arm64-arm-64bit\n"
     ]
    }
   ],
   "source": [
    "import platform\n",
    "print(platform.platform())"
   ]
  },
  {
   "cell_type": "code",
   "execution_count": 3,
   "id": "29ab9ac8-0e06-45f8-b65b-a9d178eb57e3",
   "metadata": {},
   "outputs": [],
   "source": [
    "#device = torch.device(\"mps\")\n",
    "device = torch.device(\"cpu\")"
   ]
  },
  {
   "cell_type": "markdown",
   "id": "6ef62a83-1341-4937-92ef-feb71964f399",
   "metadata": {},
   "source": [
    "# Dataset definitions"
   ]
  },
  {
   "cell_type": "code",
   "execution_count": 4,
   "id": "3cb95753-6842-48e8-9bc1-cf9a22512fa4",
   "metadata": {},
   "outputs": [],
   "source": [
    "keys_to_add_to_sample = ['sosstsst', 'sosaline', 'rho_sa_sa', 'rho_sa_ct', 'rho_ct_ct', 'sigma0_delta']"
   ]
  },
  {
   "cell_type": "code",
   "execution_count": 5,
   "id": "ca283745-1fbe-44e8-96ce-95d55a3151a0",
   "metadata": {},
   "outputs": [],
   "source": [
    "class SalinityTemperatureDensityDataset(Dataset):\n",
    "    \"\"\"Dataset of 2D maps of surface temperature, salinity\"\"\"\n",
    "\n",
    "    def __init__(self, list_of_netcdf_files, select='All', portion_of_time_series=0.5, transform=None, normalize=False):\n",
    "        self.data = [xr.DataArray() for i in range(len(list_of_netcdf_files))]\n",
    "        for i, datasetNetcdfFile in enumerate(list_of_netcdf_files) :\n",
    "            self.data[i] = xr.open_mfdataset(datasetNetcdfFile, parallel=True)\n",
    "        data_file_len = len(self.data[0]['time_counter'])\n",
    "        if (select == 'All') :\n",
    "            time_index_range = np.arange(0, data_file_len)\n",
    "        elif (select == 'First') :\n",
    "            time_index_range = np.arange(0, int(portion_of_time_series*data_file_len)+1)\n",
    "        elif (select == 'Last') :\n",
    "            time_index_range = np.arange(int((1-portion_of_time_series)*data_file_len), data_file_len)\n",
    "        self.total_len = len(self.data)*len(time_index_range)\n",
    "        self.index_table = np.transpose(np.stack([np.concatenate([np.full(len(time_index_range), i) for i in range(len(self.data))]),\\\n",
    "         np.concatenate([time_index_range for i in range(len(self.data))])]))\n",
    "        self.transform = transform\n",
    "        self.normalize = normalize\n",
    "        if (normalize) :\n",
    "            for i in range(len(list_of_netcdf_files)) :\n",
    "                for key in self.data[i].data_vars :\n",
    "                    self.data[i].attrs['mean_'+key] = self.data[i].data_vars[key].mean().compute()\n",
    "                    self.data[i].attrs['std_'+key] = self.data[i].data_vars[key].std().compute()\n",
    "        \n",
    "    def __len__(self):\n",
    "        return self.total_len\n",
    "\n",
    "    def __getitem__(self, idx):\n",
    "        if torch.is_tensor(idx):\n",
    "            idx = idx.tolist()\n",
    "        \n",
    "        [index_of_dataset, index_of_time_counter] = self.index_table[idx]\n",
    "        current_dataframe = self.data[index_of_dataset].isel(time_counter=index_of_time_counter).load()\n",
    "        \n",
    "        sample = dict()\n",
    "        for key in keys_to_add_to_sample :\n",
    "            if self.normalize :\n",
    "                sample[key] = ((current_dataframe[key]-current_dataframe.attrs['mean_'+key])/current_dataframe.attrs['std_'+key]).values\n",
    "            else : \n",
    "                sample[key] = current_dataframe[key].values\n",
    "\n",
    "        if self.transform:\n",
    "            sample = self.transform(sample)\n",
    "\n",
    "        return sample"
   ]
  },
  {
   "cell_type": "code",
   "execution_count": 6,
   "id": "d72fb62c-d6db-4b58-8d10-94457be25865",
   "metadata": {},
   "outputs": [],
   "source": [
    "class ToTensor(object):\n",
    "    \"\"\"Convert each numpy array in sample to Tensors.\"\"\"\n",
    "\n",
    "    def __call__(self, sample):\n",
    "        transformed_sample=dict()\n",
    "        for key in sample.keys() :\n",
    "            transformed_sample[key] = torch.from_numpy(sample[key]).double() \n",
    "        return transformed_sample"
   ]
  },
  {
   "cell_type": "markdown",
   "id": "18d92e88-320f-4c2f-92fb-409153e2a2a6",
   "metadata": {},
   "source": [
    "# Data Loader"
   ]
  },
  {
   "cell_type": "code",
   "execution_count": 150,
   "id": "91247865-c6fe-489b-98fd-caf191b20f92",
   "metadata": {},
   "outputs": [],
   "source": [
    "list_of_datasets = glob.glob('datasets/dataset*.nc')"
   ]
  },
  {
   "cell_type": "code",
   "execution_count": 165,
   "id": "feb1bc61-9bad-45d9-8df1-b4fa6fdba15d",
   "metadata": {},
   "outputs": [],
   "source": [
    "batch_size = 40"
   ]
  },
  {
   "cell_type": "code",
   "execution_count": 166,
   "id": "d60f5f3d-0d61-4932-ac92-aed1e32ecfd3",
   "metadata": {},
   "outputs": [],
   "source": [
    "train_dataset = SalinityTemperatureDensityDataset(list_of_netcdf_files = list_of_datasets, select='First', portion_of_time_series=0.6, transform=ToTensor(), normalize=True)\n",
    "test_dataset = SalinityTemperatureDensityDataset(list_of_netcdf_files = list_of_datasets, select='Last', portion_of_time_series=0.2, transform=ToTensor(), normalize=True)"
   ]
  },
  {
   "cell_type": "code",
   "execution_count": 167,
   "id": "b72048eb-ae57-48fc-bcd4-5b0abff3de29",
   "metadata": {},
   "outputs": [],
   "source": [
    "train_data_loader = DataLoader(dataset=train_dataset, batch_size=batch_size, shuffle=True, drop_last=True)\n",
    "test_data_loader = DataLoader(dataset=test_dataset, batch_size=batch_size, shuffle=True, drop_last=True)"
   ]
  },
  {
   "cell_type": "code",
   "execution_count": 168,
   "id": "4d222f93-853c-4c2b-b6f6-f01b5ca79820",
   "metadata": {},
   "outputs": [],
   "source": [
    "train_data_iterator = iter(train_data_loader)"
   ]
  },
  {
   "cell_type": "code",
   "execution_count": 169,
   "id": "f85661e3-88cc-4eb9-b572-fae9f6ca97f2",
   "metadata": {},
   "outputs": [],
   "source": [
    "test_data_iterator = iter(test_data_loader)"
   ]
  },
  {
   "cell_type": "markdown",
   "id": "53c0b73b-a1a8-4c53-9680-59b224435500",
   "metadata": {},
   "source": [
    "# Model"
   ]
  },
  {
   "cell_type": "code",
   "execution_count": 170,
   "id": "f08eda02-3a2e-49b7-a3fa-a4b200635d8c",
   "metadata": {},
   "outputs": [],
   "source": [
    "h = 20 # height of images\n",
    "w = 20 # width of images"
   ]
  },
  {
   "cell_type": "code",
   "execution_count": 171,
   "id": "56b46669-9bf5-4acc-8e60-060e35e13120",
   "metadata": {},
   "outputs": [],
   "source": [
    "keys_input = {'sosstsst', 'rho_ct_ct'}\n",
    "keys_targets = {'sigma0_delta'}"
   ]
  },
  {
   "cell_type": "code",
   "execution_count": 172,
   "id": "7b272b9b-1f15-490b-8800-3c0362e31a91",
   "metadata": {},
   "outputs": [],
   "source": [
    "import torch.nn as nn\n",
    "\n",
    "class first_CNN(nn.Module):\n",
    "    def __init__(self):\n",
    "        super().__init__()\n",
    "        self.conv1 = nn.Conv2d(len(keys_input), 32, kernel_size=3, padding='same', padding_mode='replicate') \n",
    "        self.conv2 = nn.Conv2d(32, 64, kernel_size=3, padding='same', padding_mode='replicate') \n",
    "        self.conv3 = nn.Conv2d(64, 128, kernel_size=3, padding='same', padding_mode='replicate') \n",
    "        self.conv4 = nn.Conv2d(128, 64, kernel_size=3, padding='same', padding_mode='replicate')\n",
    "        self.conv5 = nn.Conv2d(64, len(keys_targets), kernel_size=3, padding='same', padding_mode='replicate')\n",
    "        self.batch_norm1 = nn.BatchNorm2d(32)\n",
    "        self.batch_norm2 = nn.BatchNorm2d(64)\n",
    "\n",
    "    def forward(self, x):\n",
    "        # conv layer 1\n",
    "        x = self.conv1(x)\n",
    "        x = F.relu(x)\n",
    "        #x = self.batch_norm1(x)\n",
    "        \n",
    "        # conv layer 2\n",
    "        x = self.conv2(x)\n",
    "        x = F.relu(x)\n",
    "        #x = self.batch_norm2(x)\n",
    "        \n",
    "        # conv layer 3\n",
    "        x = self.conv3(x)\n",
    "        x = F.relu(x)\n",
    "        #x = self.batch_norm2(x)\n",
    "        \n",
    "        # conv layer 4 \n",
    "        x = self.conv4(x)\n",
    "        x = F.relu(x)\n",
    "        #x = self.batch_norm2(x)\n",
    "        \n",
    "        # conv layer 5 \n",
    "        x = self.conv5(x)\n",
    "        \n",
    "        return x        "
   ]
  },
  {
   "cell_type": "markdown",
   "id": "e22d1a03-855f-4a16-980d-168b03f9a31c",
   "metadata": {},
   "source": [
    "# Training"
   ]
  },
  {
   "cell_type": "code",
   "execution_count": 173,
   "id": "2ff9d1c5-3dea-4ca6-bf88-d4a965e335e3",
   "metadata": {},
   "outputs": [],
   "source": [
    "# Instantiate model  \n",
    "model = (first_CNN().double()).to(device)"
   ]
  },
  {
   "cell_type": "code",
   "execution_count": 174,
   "id": "8e9afb99-4c7b-4ca3-b32d-9006b945dd33",
   "metadata": {},
   "outputs": [
    {
     "name": "stdout",
     "output_type": "stream",
     "text": [
      "first_CNN(\n",
      "  (conv1): Conv2d(2, 32, kernel_size=(3, 3), stride=(1, 1), padding=same, padding_mode=replicate)\n",
      "  (conv2): Conv2d(32, 64, kernel_size=(3, 3), stride=(1, 1), padding=same, padding_mode=replicate)\n",
      "  (conv3): Conv2d(64, 128, kernel_size=(3, 3), stride=(1, 1), padding=same, padding_mode=replicate)\n",
      "  (conv4): Conv2d(128, 64, kernel_size=(3, 3), stride=(1, 1), padding=same, padding_mode=replicate)\n",
      "  (conv5): Conv2d(64, 1, kernel_size=(3, 3), stride=(1, 1), padding=same, padding_mode=replicate)\n",
      "  (batch_norm1): BatchNorm2d(32, eps=1e-05, momentum=0.1, affine=True, track_running_stats=True)\n",
      "  (batch_norm2): BatchNorm2d(64, eps=1e-05, momentum=0.1, affine=True, track_running_stats=True)\n",
      ")\n"
     ]
    }
   ],
   "source": [
    "print(model)"
   ]
  },
  {
   "cell_type": "code",
   "execution_count": 175,
   "id": "a022b542-3cee-4554-b192-46c9b15a4ef9",
   "metadata": {},
   "outputs": [],
   "source": [
    "# Loss and Optimizer\n",
    "criterion = nn.MSELoss()  # softmax is already here!\n",
    "optimizer = torch.optim.Adam(model.parameters(), lr=0.001)"
   ]
  },
  {
   "cell_type": "code",
   "execution_count": 176,
   "id": "61649578-2d17-4dc3-ad44-971f8c9e8a40",
   "metadata": {},
   "outputs": [
    {
     "data": {
      "image/png": "[encoded data removed]",
      "text/plain": [
       "<Figure size 288x252 with 1 Axes>"
      ]
     },
     "metadata": {
      "needs_background": "light"
     },
     "output_type": "display_data"
    },
    {
     "name": "stdout",
     "output_type": "stream",
     "text": [
      "CPU times: user 12min 14s, sys: 5min 38s, total: 17min 53s\n",
      "Wall time: 9min 3s\n"
     ]
    }
   ],
   "source": [
    "%%time\n",
    "nb_of_epochs = 50\n",
    "\n",
    "epoch_training_losses = np.empty(nb_of_epochs)\n",
    "epoch_test_losses = np.empty(nb_of_epochs)\n",
    "\n",
    "# Iterate through train set minibatchs\n",
    "for epoch in tqdm(range(nb_of_epochs)):  \n",
    "    print('Epoch ' + str(epoch))\n",
    "    # Train\n",
    "    training_losses = list()\n",
    "    for sample in tqdm(train_data_loader, desc='Training', ascii=True):\n",
    "        # Zero out the gradients\n",
    "        optimizer.zero_grad()\n",
    "\n",
    "        # Forward pass\n",
    "        x = torch.transpose(torch.stack([sample[key] for key in keys_input]), 0, 1)\n",
    "        y = model(x)\n",
    "        loss = criterion(y, sample['sigma0_delta'].view(batch_size, 1, h, w))\n",
    "        # Backward pass\n",
    "        loss.backward()\n",
    "        optimizer.step()\n",
    "        training_losses = np.append(training_losses, loss.detach().numpy())\n",
    "    epoch_training_losses[epoch] = np.mean(training_losses)\n",
    "    # Test\n",
    "    with torch.no_grad():\n",
    "        test_losses = list()\n",
    "        for sample in tqdm(test_data_loader, desc='Testing', ascii=True):\n",
    "            # Forward pass\n",
    "            x = torch.transpose(torch.stack([sample[key] for key in keys_input]), 0, 1)\n",
    "            y = model(x)\n",
    "\n",
    "            loss = criterion(y, sample['sigma0_delta'].view(batch_size, 1, h, w))\n",
    "            test_losses = np.append(test_losses, loss.detach().numpy())\n",
    "        epoch_test_losses[epoch] = np.mean(test_losses)\n",
    "    fig, ax = plt.subplots(ncols=1, nrows=1, figsize=(4,3.5), constrained_layout=True)\n",
    "    \n",
    "    ax.plot(epoch_training_losses[0:epoch+1], '.-', label='Trainig')\n",
    "    ax.plot(epoch_test_losses[0:epoch+1], '.-', label='Test')\n",
    "    ax.set(yscale='log', xlabel='Epoch', ylabel='Loss')\n",
    "    ax.legend()\n",
    "    \n",
    "    display.display(plt.gcf())\n",
    "    display.clear_output(wait=True)\n",
    "    \n",
    "    plt.show()"
   ]
  },
  {
   "cell_type": "code",
   "execution_count": 181,
   "id": "522b2f52-5775-4c50-a964-3a287cd1e12c",
   "metadata": {},
   "outputs": [],
   "source": [
    "sample = test_data_iterator.next()"
   ]
  },
  {
   "cell_type": "code",
   "execution_count": 182,
   "id": "a5f88570-bb8f-4c2b-961c-c4ab8d35f57f",
   "metadata": {},
   "outputs": [
    {
     "data": {
      "text/plain": [
       "<matplotlib.colorbar.Colorbar at 0x29c2a42e0>"
      ]
     },
     "execution_count": 182,
     "metadata": {},
     "output_type": "execute_result"
    },
    {
     "data": {
      "image/png": "[encoded data removed]",
      "text/plain": [
       "<Figure size 504x252 with 4 Axes>"
      ]
     },
     "metadata": {
      "needs_background": "light"
     },
     "output_type": "display_data"
    }
   ],
   "source": [
    "index_in_batch = 6\n",
    "\n",
    "fig, ax = plt.subplots(ncols=2, nrows=1, figsize=(7,3.5), constrained_layout=True)\n",
    "img1 = ax[0].imshow(np.squeeze(sample['sigma0_delta'][index_in_batch].numpy()), cmap='ocean')\n",
    "fig.colorbar(img1, ax=ax[0])\n",
    "cmax = img1.colorbar.vmax\n",
    "img2 = ax[1].imshow(np.squeeze(model(torch.transpose(torch.stack([sample[key] for key in keys_input]), 0, 1)).detach().numpy()[index_in_batch]), cmap='ocean', vmin=img1.colorbar.vmin, vmax=img1.colorbar.vmax)\n",
    "ax[0].set(title='True density error')\n",
    "ax[1].set(title='Model')\n",
    "fig.colorbar(img2, ax=ax[1])"
   ]
  },
  {
   "cell_type": "code",
   "execution_count": null,
   "id": "8adf7a2a-955d-4d69-93ef-239c3ae33ef5",
   "metadata": {},
   "outputs": [],
   "source": []
  },
  {
   "cell_type": "code",
   "execution_count": null,
   "id": "36e945a4-ad83-4392-ae24-560371e7d9a9",
   "metadata": {},
   "outputs": [],
   "source": []
  }
 ],
 "metadata": {
  "kernelspec": {
   "display_name": "new_pytorch",
   "language": "python",
   "name": "new_pytorch"
  },
  "language_info": {
   "codemirror_mode": {
    "name": "ipython",
    "version": 3
   },
   "file_extension": ".py",
   "mimetype": "text/x-python",
   "name": "python",
   "nbconvert_exporter": "python",
   "pygments_lexer": "ipython3",
   "version": "3.10.4"
  }
 },
 "nbformat": 4,
 "nbformat_minor": 5
}
