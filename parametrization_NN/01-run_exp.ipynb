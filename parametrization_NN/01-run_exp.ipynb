{
 "cells": [
  {
   "cell_type": "code",
   "execution_count": 1,
   "id": "dcb7152a-adfe-4999-8ca0-77e6536009a2",
   "metadata": {},
   "outputs": [
    {
     "name": "stdout",
     "output_type": "stream",
     "text": [
      "Note: you may need to restart the kernel to use updated packages.\n"
     ]
    }
   ],
   "source": [
    "pip install wandb -q"
   ]
  },
  {
   "cell_type": "code",
   "execution_count": 2,
   "id": "a9032ac0-1107-4896-9181-de7ef2615615",
   "metadata": {},
   "outputs": [],
   "source": [
    "from dask.distributed import Client\n",
    "\n",
    "client = Client(\"tcp://127.0.0.1:42433\")"
   ]
  },
  {
   "cell_type": "markdown",
   "id": "c36532fb-c2ed-43b3-8bd0-7c1086407d8a",
   "metadata": {},
   "source": [
    "# Import"
   ]
  },
  {
   "cell_type": "code",
   "execution_count": 3,
   "id": "07708f7a-4d51-459b-ac79-fe856c93a8cc",
   "metadata": {},
   "outputs": [],
   "source": [
    "import numpy as np\n",
    "import xarray as xr\n",
    "import torch\n",
    "import pytorch_lightning as pl\n",
    "from scipy import ndimage\n",
    "import itertools\n",
    "import os\n",
    "from pytorch_lightning.loggers import WandbLogger\n",
    "import wandb\n",
    "from pytorch_lightning.callbacks import EarlyStopping,ModelCheckpoint,Callback\n",
    "import myParam"
   ]
  },
  {
   "cell_type": "code",
   "execution_count": 4,
   "id": "bf9717e6-2e96-4ad4-bc6e-2490ad6ee7e5",
   "metadata": {},
   "outputs": [
    {
     "name": "stdout",
     "output_type": "stream",
     "text": [
      "Linux-5.10.133+-x86_64-with-glibc2.35\n"
     ]
    }
   ],
   "source": [
    "import platform\n",
    "print(platform.platform())"
   ]
  },
  {
   "cell_type": "code",
   "execution_count": 5,
   "id": "bf23faa3-d7e0-4a71-bf09-67a11edff645",
   "metadata": {},
   "outputs": [
    {
     "name": "stdout",
     "output_type": "stream",
     "text": [
      "1.13.1.post200\n"
     ]
    }
   ],
   "source": [
    "print(torch.__version__)"
   ]
  },
  {
   "cell_type": "code",
   "execution_count": 6,
   "id": "8d23fce9-db7f-4af5-926b-085a045bc183",
   "metadata": {},
   "outputs": [],
   "source": [
    "import warnings\n",
    "\n",
    "warnings.simplefilter(action='ignore', category=FutureWarning)\n",
    "warnings.filterwarnings(\"ignore\", \".*Consider increasing the value of the `num_workers` argument*\")"
   ]
  },
  {
   "cell_type": "code",
   "execution_count": 7,
   "id": "bd59d6c6-f6d4-4e66-a28b-24498138c634",
   "metadata": {},
   "outputs": [],
   "source": [
    "import importlib"
   ]
  },
  {
   "cell_type": "code",
   "execution_count": 8,
   "id": "25838b91-9cc2-47e8-a6b9-96068624f037",
   "metadata": {},
   "outputs": [
    {
     "data": {
      "text/plain": [
       "<module 'myParam' from '/home/jovyan/oceanDataNotebooks/parametrization_NN/myParam.py'>"
      ]
     },
     "execution_count": 8,
     "metadata": {},
     "output_type": "execute_result"
    }
   ],
   "source": [
    "importlib.reload(myParam)"
   ]
  },
  {
   "cell_type": "markdown",
   "id": "6c33c792-b54c-46ab-8257-4a3233c69083",
   "metadata": {},
   "source": [
    "## Open data"
   ]
  },
  {
   "cell_type": "code",
   "execution_count": 9,
   "id": "76db4448-d28a-4270-bb64-6de61cd4e044",
   "metadata": {},
   "outputs": [],
   "source": [
    "PERSISTENT_BUCKET = os.environ['PERSISTENT_BUCKET'] "
   ]
  },
  {
   "cell_type": "code",
   "execution_count": 10,
   "id": "30f449a2-50f9-494d-bf4c-77f853392e10",
   "metadata": {},
   "outputs": [],
   "source": [
    "data_dict=[dict() for i in range(6)]\n",
    "data_dict[0] = dict({'region' : '1', 'season' : 'fma', 'label' : 'GULFSTR FMA'})\n",
    "data_dict[1] = dict({'region' : '1', 'season' : 'aso', 'label' : 'GULFSTR ASO'})\n",
    "data_dict[2] = dict({'region' : '2', 'season' : 'fma', 'label' : 'MIDATL FMA'})\n",
    "data_dict[3] = dict({'region' : '2', 'season' : 'aso', 'label' : 'MIDATL ASO'})\n",
    "data_dict[4] = dict({'region' : '3', 'season' : 'fma', 'label' : 'WESTMED FMA'})\n",
    "data_dict[5] = dict({'region' : '3', 'season' : 'aso', 'label' : 'WESTMED ASO'})"
   ]
  },
  {
   "cell_type": "code",
   "execution_count": 11,
   "id": "7aa0e4b6-6c0d-4cce-95c0-223506fa3928",
   "metadata": {},
   "outputs": [],
   "source": [
    "batch_size = 4\n",
    "height = 45\n",
    "width = 40"
   ]
  },
  {
   "cell_type": "code",
   "execution_count": 12,
   "id": "34bb9812-17c9-41ee-83d6-46221e925bdd",
   "metadata": {},
   "outputs": [
    {
     "name": "stdout",
     "output_type": "stream",
     "text": [
      "CPU times: user 17.8 s, sys: 3.46 s, total: 21.2 s\n",
      "Wall time: 1min 23s\n"
     ]
    }
   ],
   "source": [
    "%%time\n",
    "features_to_add_to_sample = ['votemper', 'votemper_var', 'rho_ct_ct', 'diff_votemper_sqr']\n",
    "auxiliary_features = ['z_l', 'f', 'e1t', 'e2t']\n",
    "all_data_3D = myParam.PyLiDataModule(data_dict, '3D', features_to_add_to_sample, auxiliary_features, height, width, batch_size=batch_size)"
   ]
  },
  {
   "cell_type": "code",
   "execution_count": 13,
   "id": "b42b115b-6c02-4dd4-8e95-4059c37b917b",
   "metadata": {},
   "outputs": [
    {
     "name": "stdout",
     "output_type": "stream",
     "text": [
      "CPU times: user 1.98 s, sys: 481 ms, total: 2.46 s\n",
      "Wall time: 12.6 s\n"
     ]
    }
   ],
   "source": [
    "%%time\n",
    "features_to_add_to_sample = ['sosstsst', 'sosstsst_var', 'rho_ct_ct', 'diff_sosstsst_sqr']\n",
    "auxiliary_features = ['e1t', 'e2t']\n",
    "all_data_2D = myParam.PyLiDataModule(data_dict, '2D', features_to_add_to_sample, auxiliary_features, height, width, batch_size=batch_size)"
   ]
  },
  {
   "cell_type": "markdown",
   "id": "13d97b74-61d1-43d2-9d9e-3b825250c8b6",
   "metadata": {},
   "source": [
    "# Run experiment routine"
   ]
  },
  {
   "cell_type": "code",
   "execution_count": 14,
   "id": "1c71bf7a-9728-4235-a85e-a6c03599113e",
   "metadata": {},
   "outputs": [],
   "source": [
    "def run_experiment(config, project) :\n",
    "    wandb_logger = WandbLogger(name=config['model_label']+'_'+config['version'], \\\n",
    "                               version=config['model_label']+'_'+config['version'],\\\n",
    "                               project=project, config=config, resume=False, log_model=True, offline=False)\n",
    "    \n",
    "    torch_model = eval(config['torch_model'])(**config['torch_model_params'])\n",
    "    pylight_module = myParam.GenericPyLiModule(torch_model, **config['module_params'])\n",
    "    \n",
    "    # Callbacks\n",
    "    checkpoint_callback = ModelCheckpoint(monitor=\"loss_train\", save_last=True)    \n",
    "    early_stopping_callback = EarlyStopping(monitor=\"loss_train\", mode=\"min\")\n",
    "    \n",
    "    trainer = pl.Trainer(**config['training_params'], logger=wandb_logger, \n",
    "                     callbacks=[early_stopping_callback, checkpoint_callback],\n",
    "                     accelerator='gpu', devices=(1 if torch.cuda.is_available() else None))  \n",
    "    trainer.fit(model = pylight_module, datamodule=eval(config['datamodule']))\n",
    "    #tests\n",
    "    test_datamodule = eval(config['datamodule'])\n",
    "    test_datamodule.setup(stage='test')\n",
    "    trainer.test(model = pylight_module, datamodule=test_datamodule)\n",
    "    wandb.finish()"
   ]
  },
  {
   "cell_type": "markdown",
   "id": "bb222872-8f0c-49b1-a4bb-609b91832511",
   "metadata": {},
   "source": [
    "# Runs"
   ]
  },
  {
   "cell_type": "code",
   "execution_count": 15,
   "id": "6dcb94fb-1f4c-44fc-a746-fd938e31bceb",
   "metadata": {},
   "outputs": [],
   "source": [
    "wandb.finish()"
   ]
  },
  {
   "cell_type": "code",
   "execution_count": 16,
   "id": "62aaf6ff-5b20-46a9-833c-a3d7326f87a1",
   "metadata": {},
   "outputs": [],
   "source": [
    "project_name = 'tests'"
   ]
  },
  {
   "cell_type": "markdown",
   "id": "fdb6e82b-a269-45fe-95f0-bad0b35389f3",
   "metadata": {},
   "source": [
    "## Linear regression"
   ]
  },
  {
   "cell_type": "code",
   "execution_count": 17,
   "id": "3cebc87e-7278-4bdf-a1f1-a65f2b48d45a",
   "metadata": {},
   "outputs": [
    {
     "name": "stderr",
     "output_type": "stream",
     "text": [
      "Failed to detect the name of this notebook, you can set it manually with the WANDB_NOTEBOOK_NAME environment variable to enable code saving.\n",
      "\u001b[34m\u001b[1mwandb\u001b[0m: Currently logged in as: \u001b[33managorb63\u001b[0m. Use \u001b[1m`wandb login --relogin`\u001b[0m to force relogin\n"
     ]
    },
    {
     "data": {
      "text/html": [
       "Tracking run with wandb version 0.13.11"
      ],
      "text/plain": [
       "<IPython.core.display.HTML object>"
      ]
     },
     "metadata": {},
     "output_type": "display_data"
    },
    {
     "data": {
      "text/html": [
       "Run data is saved locally in <code>./wandb/run-20230314_194905-LinReg_HuberLoss2D</code>"
      ],
      "text/plain": [
       "<IPython.core.display.HTML object>"
      ]
     },
     "metadata": {},
     "output_type": "display_data"
    },
    {
     "data": {
      "text/html": [
       "Syncing run <strong><a href='https://wandb.ai/anagorb63/tests/runs/LinReg_HuberLoss2D' target=\"_blank\">LinReg_HuberLoss2D</a></strong> to <a href='https://wandb.ai/anagorb63/tests' target=\"_blank\">Weights & Biases</a> (<a href='https://wandb.me/run' target=\"_blank\">docs</a>)<br/>"
      ],
      "text/plain": [
       "<IPython.core.display.HTML object>"
      ]
     },
     "metadata": {},
     "output_type": "display_data"
    },
    {
     "data": {
      "text/html": [
       " View project at <a href='https://wandb.ai/anagorb63/tests' target=\"_blank\">https://wandb.ai/anagorb63/tests</a>"
      ],
      "text/plain": [
       "<IPython.core.display.HTML object>"
      ]
     },
     "metadata": {},
     "output_type": "display_data"
    },
    {
     "data": {
      "text/html": [
       " View run at <a href='https://wandb.ai/anagorb63/tests/runs/LinReg_HuberLoss2D' target=\"_blank\">https://wandb.ai/anagorb63/tests/runs/LinReg_HuberLoss2D</a>"
      ],
      "text/plain": [
       "<IPython.core.display.HTML object>"
      ]
     },
     "metadata": {},
     "output_type": "display_data"
    },
    {
     "name": "stderr",
     "output_type": "stream",
     "text": [
      "/srv/conda/envs/notebook/lib/python3.10/site-packages/pytorch_lightning/utilities/parsing.py:262: UserWarning: Attribute 'torch_model' is an instance of `nn.Module` and is already saved during checkpointing. It is recommended to ignore them using `self.save_hyperparameters(ignore=['torch_model'])`.\n",
      "  rank_zero_warn(\n",
      "GPU available: True (cuda), used: True\n",
      "TPU available: False, using: 0 TPU cores\n",
      "IPU available: False, using: 0 IPUs\n",
      "HPU available: False, using: 0 HPUs\n",
      "`Trainer(limit_train_batches=1.0)` was configured so 100% of the batches per epoch will be used..\n",
      "/srv/conda/envs/notebook/lib/python3.10/site-packages/pytorch_lightning/callbacks/model_checkpoint.py:604: UserWarning: Checkpoint directory ./tests/LinReg_HuberLoss2D/checkpoints exists and is not empty.\n",
      "  rank_zero_warn(f\"Checkpoint directory {dirpath} exists and is not empty.\")\n",
      "LOCAL_RANK: 0 - CUDA_VISIBLE_DEVICES: [0]\n",
      "\n",
      "  | Name        | Type           | Params\n",
      "-----------------------------------------------\n",
      "0 | torch_model | lin_regr_model | 1     \n",
      "-----------------------------------------------\n",
      "1         Trainable params\n",
      "0         Non-trainable params\n",
      "1         Total params\n",
      "0.000     Total estimated model params size (MB)\n"
     ]
    },
    {
     "data": {
      "application/vnd.jupyter.widget-view+json": {
       "model_id": "",
       "version_major": 2,
       "version_minor": 0
      },
      "text/plain": [
       "Sanity Checking: 0it [00:00, ?it/s]"
      ]
     },
     "metadata": {},
     "output_type": "display_data"
    },
    {
     "data": {
      "application/vnd.jupyter.widget-view+json": {
       "model_id": "b724ce856df44801a32e701f22297c43",
       "version_major": 2,
       "version_minor": 0
      },
      "text/plain": [
       "Training: 0it [00:00, ?it/s]"
      ]
     },
     "metadata": {},
     "output_type": "display_data"
    },
    {
     "data": {
      "application/vnd.jupyter.widget-view+json": {
       "model_id": "",
       "version_major": 2,
       "version_minor": 0
      },
      "text/plain": [
       "Validation: 0it [00:00, ?it/s]"
      ]
     },
     "metadata": {},
     "output_type": "display_data"
    },
    {
     "data": {
      "application/vnd.jupyter.widget-view+json": {
       "model_id": "",
       "version_major": 2,
       "version_minor": 0
      },
      "text/plain": [
       "Validation: 0it [00:00, ?it/s]"
      ]
     },
     "metadata": {},
     "output_type": "display_data"
    },
    {
     "data": {
      "application/vnd.jupyter.widget-view+json": {
       "model_id": "",
       "version_major": 2,
       "version_minor": 0
      },
      "text/plain": [
       "Validation: 0it [00:00, ?it/s]"
      ]
     },
     "metadata": {},
     "output_type": "display_data"
    },
    {
     "data": {
      "application/vnd.jupyter.widget-view+json": {
       "model_id": "",
       "version_major": 2,
       "version_minor": 0
      },
      "text/plain": [
       "Validation: 0it [00:00, ?it/s]"
      ]
     },
     "metadata": {},
     "output_type": "display_data"
    },
    {
     "data": {
      "application/vnd.jupyter.widget-view+json": {
       "model_id": "",
       "version_major": 2,
       "version_minor": 0
      },
      "text/plain": [
       "Validation: 0it [00:00, ?it/s]"
      ]
     },
     "metadata": {},
     "output_type": "display_data"
    },
    {
     "data": {
      "application/vnd.jupyter.widget-view+json": {
       "model_id": "",
       "version_major": 2,
       "version_minor": 0
      },
      "text/plain": [
       "Validation: 0it [00:00, ?it/s]"
      ]
     },
     "metadata": {},
     "output_type": "display_data"
    },
    {
     "data": {
      "application/vnd.jupyter.widget-view+json": {
       "model_id": "",
       "version_major": 2,
       "version_minor": 0
      },
      "text/plain": [
       "Validation: 0it [00:00, ?it/s]"
      ]
     },
     "metadata": {},
     "output_type": "display_data"
    },
    {
     "name": "stderr",
     "output_type": "stream",
     "text": [
      "LOCAL_RANK: 0 - CUDA_VISIBLE_DEVICES: [0]\n"
     ]
    },
    {
     "data": {
      "application/vnd.jupyter.widget-view+json": {
       "model_id": "4525312e913c45c7b542e02dec024841",
       "version_major": 2,
       "version_minor": 0
      },
      "text/plain": [
       "Testing: 0it [00:00, ?it/s]"
      ]
     },
     "metadata": {},
     "output_type": "display_data"
    },
    {
     "data": {
      "text/html": [
       "<pre style=\"white-space:pre;overflow-x:auto;line-height:normal;font-family:Menlo,'DejaVu Sans Mono',consolas,'Courier New',monospace\">┏━━━━━━━━━━━━━━━━━━━━━━━━━━━┳━━━━━━━━━━━━━━━━━━━━━━━━━━━━┳━━━━━━━━━━━━━━━━━━━━━━━━━━━┳━━━━━━━━━━━━━━━━━━━━━━━━━━━━┓\n",
       "┃<span style=\"font-weight: bold\">        Test metric        </span>┃<span style=\"font-weight: bold\">        DataLoader 0        </span>┃<span style=\"font-weight: bold\">       DataLoader 1        </span>┃<span style=\"font-weight: bold\">        DataLoader 2        </span>┃\n",
       "┡━━━━━━━━━━━━━━━━━━━━━━━━━━━╇━━━━━━━━━━━━━━━━━━━━━━━━━━━━╇━━━━━━━━━━━━━━━━━━━━━━━━━━━╇━━━━━━━━━━━━━━━━━━━━━━━━━━━━┩\n",
       "│<span style=\"color: #008080; text-decoration-color: #008080\"> corr_coef_grad_sosstsst_… </span>│<span style=\"color: #800080; text-decoration-color: #800080\">     0.7017475366592407     </span>│<span style=\"color: #800080; text-decoration-color: #800080\">    0.7641322612762451     </span>│<span style=\"color: #800080; text-decoration-color: #800080\">     0.5873867869377136     </span>│\n",
       "│<span style=\"color: #008080; text-decoration-color: #008080\">  corr_coef_sosstsst_var   </span>│<span style=\"color: #800080; text-decoration-color: #800080\">     0.7137863636016846     </span>│<span style=\"color: #800080; text-decoration-color: #800080\">    0.7573875784873962     </span>│<span style=\"color: #800080; text-decoration-color: #800080\">     0.7858012914657593     </span>│\n",
       "│<span style=\"color: #008080; text-decoration-color: #008080\">  loss_grad_sosstsst_var   </span>│<span style=\"color: #800080; text-decoration-color: #800080\">     22.566877365112305     </span>│<span style=\"color: #800080; text-decoration-color: #800080\">    1.2401963472366333     </span>│<span style=\"color: #800080; text-decoration-color: #800080\">     1.2416118383407593     </span>│\n",
       "│<span style=\"color: #008080; text-decoration-color: #008080\">   loss_val_sosstsst_var   </span>│<span style=\"color: #800080; text-decoration-color: #800080\">     0.5894184708595276     </span>│<span style=\"color: #800080; text-decoration-color: #800080\">    0.11327831447124481    </span>│<span style=\"color: #800080; text-decoration-color: #800080\">    0.048786409199237823    </span>│\n",
       "└───────────────────────────┴────────────────────────────┴───────────────────────────┴────────────────────────────┘\n",
       "</pre>\n"
      ],
      "text/plain": [
       "┏━━━━━━━━━━━━━━━━━━━━━━━━━━━┳━━━━━━━━━━━━━━━━━━━━━━━━━━━━┳━━━━━━━━━━━━━━━━━━━━━━━━━━━┳━━━━━━━━━━━━━━━━━━━━━━━━━━━━┓\n",
       "┃\u001b[1m \u001b[0m\u001b[1m       Test metric       \u001b[0m\u001b[1m \u001b[0m┃\u001b[1m \u001b[0m\u001b[1m       DataLoader 0       \u001b[0m\u001b[1m \u001b[0m┃\u001b[1m \u001b[0m\u001b[1m      DataLoader 1       \u001b[0m\u001b[1m \u001b[0m┃\u001b[1m \u001b[0m\u001b[1m       DataLoader 2       \u001b[0m\u001b[1m \u001b[0m┃\n",
       "┡━━━━━━━━━━━━━━━━━━━━━━━━━━━╇━━━━━━━━━━━━━━━━━━━━━━━━━━━━╇━━━━━━━━━━━━━━━━━━━━━━━━━━━╇━━━━━━━━━━━━━━━━━━━━━━━━━━━━┩\n",
       "│\u001b[36m \u001b[0m\u001b[36mcorr_coef_grad_sosstsst_…\u001b[0m\u001b[36m \u001b[0m│\u001b[35m \u001b[0m\u001b[35m    0.7017475366592407    \u001b[0m\u001b[35m \u001b[0m│\u001b[35m \u001b[0m\u001b[35m   0.7641322612762451    \u001b[0m\u001b[35m \u001b[0m│\u001b[35m \u001b[0m\u001b[35m    0.5873867869377136    \u001b[0m\u001b[35m \u001b[0m│\n",
       "│\u001b[36m \u001b[0m\u001b[36m corr_coef_sosstsst_var  \u001b[0m\u001b[36m \u001b[0m│\u001b[35m \u001b[0m\u001b[35m    0.7137863636016846    \u001b[0m\u001b[35m \u001b[0m│\u001b[35m \u001b[0m\u001b[35m   0.7573875784873962    \u001b[0m\u001b[35m \u001b[0m│\u001b[35m \u001b[0m\u001b[35m    0.7858012914657593    \u001b[0m\u001b[35m \u001b[0m│\n",
       "│\u001b[36m \u001b[0m\u001b[36m loss_grad_sosstsst_var  \u001b[0m\u001b[36m \u001b[0m│\u001b[35m \u001b[0m\u001b[35m    22.566877365112305    \u001b[0m\u001b[35m \u001b[0m│\u001b[35m \u001b[0m\u001b[35m   1.2401963472366333    \u001b[0m\u001b[35m \u001b[0m│\u001b[35m \u001b[0m\u001b[35m    1.2416118383407593    \u001b[0m\u001b[35m \u001b[0m│\n",
       "│\u001b[36m \u001b[0m\u001b[36m  loss_val_sosstsst_var  \u001b[0m\u001b[36m \u001b[0m│\u001b[35m \u001b[0m\u001b[35m    0.5894184708595276    \u001b[0m\u001b[35m \u001b[0m│\u001b[35m \u001b[0m\u001b[35m   0.11327831447124481   \u001b[0m\u001b[35m \u001b[0m│\u001b[35m \u001b[0m\u001b[35m   0.048786409199237823   \u001b[0m\u001b[35m \u001b[0m│\n",
       "└───────────────────────────┴────────────────────────────┴───────────────────────────┴────────────────────────────┘\n"
      ]
     },
     "metadata": {},
     "output_type": "display_data"
    },
    {
     "data": {
      "text/html": [
       "<pre style=\"white-space:pre;overflow-x:auto;line-height:normal;font-family:Menlo,'DejaVu Sans Mono',consolas,'Courier New',monospace\">┏━━━━━━━━━━━━━━━━━━━━━━━━━━━┳━━━━━━━━━━━━━━━━━━━━━━━━━━━━┳━━━━━━━━━━━━━━━━━━━━━━━━━━━┳━━━━━━━━━━━━━━━━━━━━━━━━━━━━┓\n",
       "┃<span style=\"font-weight: bold\">        Test metric        </span>┃<span style=\"font-weight: bold\">        DataLoader 3        </span>┃<span style=\"font-weight: bold\">       DataLoader 4        </span>┃<span style=\"font-weight: bold\">        DataLoader 5        </span>┃\n",
       "┡━━━━━━━━━━━━━━━━━━━━━━━━━━━╇━━━━━━━━━━━━━━━━━━━━━━━━━━━━╇━━━━━━━━━━━━━━━━━━━━━━━━━━━╇━━━━━━━━━━━━━━━━━━━━━━━━━━━━┩\n",
       "│<span style=\"color: #008080; text-decoration-color: #008080\"> corr_coef_grad_sosstsst_… </span>│<span style=\"color: #800080; text-decoration-color: #800080\">     0.6714096665382385     </span>│<span style=\"color: #800080; text-decoration-color: #800080\">    0.2380993664264679     </span>│<span style=\"color: #800080; text-decoration-color: #800080\">     0.525032103061676      </span>│\n",
       "│<span style=\"color: #008080; text-decoration-color: #008080\">  corr_coef_sosstsst_var   </span>│<span style=\"color: #800080; text-decoration-color: #800080\">     0.8019290566444397     </span>│<span style=\"color: #800080; text-decoration-color: #800080\">    0.49192318320274353    </span>│<span style=\"color: #800080; text-decoration-color: #800080\">     0.5965465307235718     </span>│\n",
       "│<span style=\"color: #008080; text-decoration-color: #008080\">  loss_grad_sosstsst_var   </span>│<span style=\"color: #800080; text-decoration-color: #800080\">    0.03594658896327019     </span>│<span style=\"color: #800080; text-decoration-color: #800080\">  1.4818753015788388e-06   </span>│<span style=\"color: #800080; text-decoration-color: #800080\">   2.458786366332788e-05    </span>│\n",
       "│<span style=\"color: #008080; text-decoration-color: #008080\">   loss_val_sosstsst_var   </span>│<span style=\"color: #800080; text-decoration-color: #800080\">    0.00855300948023796     </span>│<span style=\"color: #800080; text-decoration-color: #800080\">  0.00016202623373828828   </span>│<span style=\"color: #800080; text-decoration-color: #800080\">    0.000961391138844192    </span>│\n",
       "└───────────────────────────┴────────────────────────────┴───────────────────────────┴────────────────────────────┘\n",
       "</pre>\n"
      ],
      "text/plain": [
       "┏━━━━━━━━━━━━━━━━━━━━━━━━━━━┳━━━━━━━━━━━━━━━━━━━━━━━━━━━━┳━━━━━━━━━━━━━━━━━━━━━━━━━━━┳━━━━━━━━━━━━━━━━━━━━━━━━━━━━┓\n",
       "┃\u001b[1m \u001b[0m\u001b[1m       Test metric       \u001b[0m\u001b[1m \u001b[0m┃\u001b[1m \u001b[0m\u001b[1m       DataLoader 3       \u001b[0m\u001b[1m \u001b[0m┃\u001b[1m \u001b[0m\u001b[1m      DataLoader 4       \u001b[0m\u001b[1m \u001b[0m┃\u001b[1m \u001b[0m\u001b[1m       DataLoader 5       \u001b[0m\u001b[1m \u001b[0m┃\n",
       "┡━━━━━━━━━━━━━━━━━━━━━━━━━━━╇━━━━━━━━━━━━━━━━━━━━━━━━━━━━╇━━━━━━━━━━━━━━━━━━━━━━━━━━━╇━━━━━━━━━━━━━━━━━━━━━━━━━━━━┩\n",
       "│\u001b[36m \u001b[0m\u001b[36mcorr_coef_grad_sosstsst_…\u001b[0m\u001b[36m \u001b[0m│\u001b[35m \u001b[0m\u001b[35m    0.6714096665382385    \u001b[0m\u001b[35m \u001b[0m│\u001b[35m \u001b[0m\u001b[35m   0.2380993664264679    \u001b[0m\u001b[35m \u001b[0m│\u001b[35m \u001b[0m\u001b[35m    0.525032103061676     \u001b[0m\u001b[35m \u001b[0m│\n",
       "│\u001b[36m \u001b[0m\u001b[36m corr_coef_sosstsst_var  \u001b[0m\u001b[36m \u001b[0m│\u001b[35m \u001b[0m\u001b[35m    0.8019290566444397    \u001b[0m\u001b[35m \u001b[0m│\u001b[35m \u001b[0m\u001b[35m   0.49192318320274353   \u001b[0m\u001b[35m \u001b[0m│\u001b[35m \u001b[0m\u001b[35m    0.5965465307235718    \u001b[0m\u001b[35m \u001b[0m│\n",
       "│\u001b[36m \u001b[0m\u001b[36m loss_grad_sosstsst_var  \u001b[0m\u001b[36m \u001b[0m│\u001b[35m \u001b[0m\u001b[35m   0.03594658896327019    \u001b[0m\u001b[35m \u001b[0m│\u001b[35m \u001b[0m\u001b[35m 1.4818753015788388e-06  \u001b[0m\u001b[35m \u001b[0m│\u001b[35m \u001b[0m\u001b[35m  2.458786366332788e-05   \u001b[0m\u001b[35m \u001b[0m│\n",
       "│\u001b[36m \u001b[0m\u001b[36m  loss_val_sosstsst_var  \u001b[0m\u001b[36m \u001b[0m│\u001b[35m \u001b[0m\u001b[35m   0.00855300948023796    \u001b[0m\u001b[35m \u001b[0m│\u001b[35m \u001b[0m\u001b[35m 0.00016202623373828828  \u001b[0m\u001b[35m \u001b[0m│\u001b[35m \u001b[0m\u001b[35m   0.000961391138844192   \u001b[0m\u001b[35m \u001b[0m│\n",
       "└───────────────────────────┴────────────────────────────┴───────────────────────────┴────────────────────────────┘\n"
      ]
     },
     "metadata": {},
     "output_type": "display_data"
    },
    {
     "data": {
      "text/html": [
       "Waiting for W&B process to finish... <strong style=\"color:green\">(success).</strong>"
      ],
      "text/plain": [
       "<IPython.core.display.HTML object>"
      ]
     },
     "metadata": {},
     "output_type": "display_data"
    },
    {
     "data": {
      "application/vnd.jupyter.widget-view+json": {
       "model_id": "74da62bc3a5f4c6fa382499724a62745",
       "version_major": 2,
       "version_minor": 0
      },
      "text/plain": [
       "VBox(children=(Label(value='0.012 MB of 0.012 MB uploaded (0.000 MB deduped)\\r'), FloatProgress(value=1.0, max…"
      ]
     },
     "metadata": {},
     "output_type": "display_data"
    },
    {
     "data": {
      "text/html": [
       "<style>\n",
       "    table.wandb td:nth-child(1) { padding: 0 10px; text-align: left ; width: auto;} td:nth-child(2) {text-align: left ; width: 100%}\n",
       "    .wandb-row { display: flex; flex-direction: row; flex-wrap: wrap; justify-content: flex-start; width: 100% }\n",
       "    .wandb-col { display: flex; flex-direction: column; flex-basis: 100%; flex: 1; padding: 10px; }\n",
       "    </style>\n",
       "<div class=\"wandb-row\"><div class=\"wandb-col\"><h3>Run history:</h3><br/><table class=\"wandb\"><tr><td>corr_coef_grad_sosstsst_var/dataloader_idx_0</td><td>▁</td></tr><tr><td>corr_coef_grad_sosstsst_var/dataloader_idx_1</td><td>▁</td></tr><tr><td>corr_coef_grad_sosstsst_var/dataloader_idx_2</td><td>▁</td></tr><tr><td>corr_coef_grad_sosstsst_var/dataloader_idx_3</td><td>▁</td></tr><tr><td>corr_coef_grad_sosstsst_var/dataloader_idx_4</td><td>▁</td></tr><tr><td>corr_coef_grad_sosstsst_var/dataloader_idx_5</td><td>▁</td></tr><tr><td>corr_coef_sosstsst_var/dataloader_idx_0</td><td>▁</td></tr><tr><td>corr_coef_sosstsst_var/dataloader_idx_1</td><td>▁</td></tr><tr><td>corr_coef_sosstsst_var/dataloader_idx_2</td><td>▁</td></tr><tr><td>corr_coef_sosstsst_var/dataloader_idx_3</td><td>▁</td></tr><tr><td>corr_coef_sosstsst_var/dataloader_idx_4</td><td>▁</td></tr><tr><td>corr_coef_sosstsst_var/dataloader_idx_5</td><td>▁</td></tr><tr><td>epoch</td><td>▁▁▂▂▃▃▄▄▅▅▆▆▇▇█</td></tr><tr><td>first_weight</td><td>▁██████</td></tr><tr><td>loss_grad_sosstsst_var/dataloader_idx_0</td><td>▁</td></tr><tr><td>loss_grad_sosstsst_var/dataloader_idx_1</td><td>▁</td></tr><tr><td>loss_grad_sosstsst_var/dataloader_idx_2</td><td>▁</td></tr><tr><td>loss_grad_sosstsst_var/dataloader_idx_3</td><td>▁</td></tr><tr><td>loss_grad_sosstsst_var/dataloader_idx_4</td><td>▁</td></tr><tr><td>loss_grad_sosstsst_var/dataloader_idx_5</td><td>▁</td></tr><tr><td>loss_train</td><td>█▃▅▁▃▂▃</td></tr><tr><td>loss_val_sosstsst_var/dataloader_idx_0</td><td>▁</td></tr><tr><td>loss_val_sosstsst_var/dataloader_idx_1</td><td>▁</td></tr><tr><td>loss_val_sosstsst_var/dataloader_idx_2</td><td>▁</td></tr><tr><td>loss_val_sosstsst_var/dataloader_idx_3</td><td>▁</td></tr><tr><td>loss_val_sosstsst_var/dataloader_idx_4</td><td>▁</td></tr><tr><td>loss_val_sosstsst_var/dataloader_idx_5</td><td>▁</td></tr><tr><td>loss_validation</td><td>▁█▅▂▄█▄</td></tr><tr><td>trainer/global_step</td><td>▁▁▂▂▃▃▄▄▆▆▇▇███</td></tr></table><br/></div><div class=\"wandb-col\"><h3>Run summary:</h3><br/><table class=\"wandb\"><tr><td>corr_coef_grad_sosstsst_var/dataloader_idx_0</td><td>0.70175</td></tr><tr><td>corr_coef_grad_sosstsst_var/dataloader_idx_1</td><td>0.76413</td></tr><tr><td>corr_coef_grad_sosstsst_var/dataloader_idx_2</td><td>0.58739</td></tr><tr><td>corr_coef_grad_sosstsst_var/dataloader_idx_3</td><td>0.67141</td></tr><tr><td>corr_coef_grad_sosstsst_var/dataloader_idx_4</td><td>0.2381</td></tr><tr><td>corr_coef_grad_sosstsst_var/dataloader_idx_5</td><td>0.52503</td></tr><tr><td>corr_coef_sosstsst_var/dataloader_idx_0</td><td>0.71379</td></tr><tr><td>corr_coef_sosstsst_var/dataloader_idx_1</td><td>0.75739</td></tr><tr><td>corr_coef_sosstsst_var/dataloader_idx_2</td><td>0.7858</td></tr><tr><td>corr_coef_sosstsst_var/dataloader_idx_3</td><td>0.80193</td></tr><tr><td>corr_coef_sosstsst_var/dataloader_idx_4</td><td>0.49192</td></tr><tr><td>corr_coef_sosstsst_var/dataloader_idx_5</td><td>0.59655</td></tr><tr><td>epoch</td><td>7</td></tr><tr><td>first_weight</td><td>0.13275</td></tr><tr><td>loss_grad_sosstsst_var/dataloader_idx_0</td><td>22.56688</td></tr><tr><td>loss_grad_sosstsst_var/dataloader_idx_1</td><td>1.2402</td></tr><tr><td>loss_grad_sosstsst_var/dataloader_idx_2</td><td>1.24161</td></tr><tr><td>loss_grad_sosstsst_var/dataloader_idx_3</td><td>0.03595</td></tr><tr><td>loss_grad_sosstsst_var/dataloader_idx_4</td><td>0.0</td></tr><tr><td>loss_grad_sosstsst_var/dataloader_idx_5</td><td>2e-05</td></tr><tr><td>loss_train</td><td>0.02981</td></tr><tr><td>loss_val_sosstsst_var/dataloader_idx_0</td><td>0.58942</td></tr><tr><td>loss_val_sosstsst_var/dataloader_idx_1</td><td>0.11328</td></tr><tr><td>loss_val_sosstsst_var/dataloader_idx_2</td><td>0.04879</td></tr><tr><td>loss_val_sosstsst_var/dataloader_idx_3</td><td>0.00855</td></tr><tr><td>loss_val_sosstsst_var/dataloader_idx_4</td><td>0.00016</td></tr><tr><td>loss_val_sosstsst_var/dataloader_idx_5</td><td>0.00096</td></tr><tr><td>loss_validation</td><td>0.02731</td></tr><tr><td>trainer/global_step</td><td>13671</td></tr></table><br/></div></div>"
      ],
      "text/plain": [
       "<IPython.core.display.HTML object>"
      ]
     },
     "metadata": {},
     "output_type": "display_data"
    },
    {
     "data": {
      "text/html": [
       " View run <strong style=\"color:#cdcd00\">LinReg_HuberLoss2D</strong> at: <a href='https://wandb.ai/anagorb63/tests/runs/LinReg_HuberLoss2D' target=\"_blank\">https://wandb.ai/anagorb63/tests/runs/LinReg_HuberLoss2D</a><br/>Synced 6 W&B file(s), 0 media file(s), 2 artifact file(s) and 0 other file(s)"
      ],
      "text/plain": [
       "<IPython.core.display.HTML object>"
      ]
     },
     "metadata": {},
     "output_type": "display_data"
    },
    {
     "data": {
      "text/html": [
       "Find logs at: <code>./wandb/run-20230314_194905-LinReg_HuberLoss2D/logs</code>"
      ],
      "text/plain": [
       "<IPython.core.display.HTML object>"
      ]
     },
     "metadata": {},
     "output_type": "display_data"
    }
   ],
   "source": [
    "config=dict({'model_label' : 'LinReg',\n",
    "                'version' : 'HuberLoss2D',\n",
    "                'torch_model' : 'myParam.lin_regr_model',\n",
    "                'datamodule' : 'all_data_2D',\n",
    "                'torch_model_params' : dict({'data_geometry' : '2D',\\\n",
    "                                            'nb_of_input_features' : 1, \\\n",
    "                                            'nb_of_output_features' : 1}),\n",
    "                'module_params' : dict({'input_features'  : ['diff_sosstsst_sqr'],\n",
    "                                        'output_features'  : ['sosstsst_var'],\n",
    "                                        'output_units' : None,\n",
    "                                        'loss' : torch.nn.functional.huber_loss,\n",
    "                                        'optimizer' : torch.optim.SGD,\n",
    "                                        'learning_rate' : 1e-3,}),\n",
    "                'training_params' : dict({'max_epochs' : 100,\n",
    "                                          'limit_train_batches' : 1.0})\n",
    "               })\n",
    "run_experiment(config, project_name)"
   ]
  },
  {
   "cell_type": "code",
   "execution_count": 18,
   "id": "e77c0afd-9160-45d4-9917-648ee21e7c28",
   "metadata": {},
   "outputs": [
    {
     "data": {
      "application/vnd.jupyter.widget-view+json": {
       "model_id": "7d11029c7ff24d3db1017319e1bbf719",
       "version_major": 2,
       "version_minor": 0
      },
      "text/plain": [
       "VBox(children=(Label(value='Waiting for wandb.init()...\\r'), FloatProgress(value=0.01666890131667363, max=1.0)…"
      ]
     },
     "metadata": {},
     "output_type": "display_data"
    },
    {
     "data": {
      "text/html": [
       "Tracking run with wandb version 0.13.11"
      ],
      "text/plain": [
       "<IPython.core.display.HTML object>"
      ]
     },
     "metadata": {},
     "output_type": "display_data"
    },
    {
     "data": {
      "text/html": [
       "Run data is saved locally in <code>./wandb/run-20230314_195427-LinReg_HuberLoss3D</code>"
      ],
      "text/plain": [
       "<IPython.core.display.HTML object>"
      ]
     },
     "metadata": {},
     "output_type": "display_data"
    },
    {
     "data": {
      "text/html": [
       "Syncing run <strong><a href='https://wandb.ai/anagorb63/tests/runs/LinReg_HuberLoss3D' target=\"_blank\">LinReg_HuberLoss3D</a></strong> to <a href='https://wandb.ai/anagorb63/tests' target=\"_blank\">Weights & Biases</a> (<a href='https://wandb.me/run' target=\"_blank\">docs</a>)<br/>"
      ],
      "text/plain": [
       "<IPython.core.display.HTML object>"
      ]
     },
     "metadata": {},
     "output_type": "display_data"
    },
    {
     "data": {
      "text/html": [
       " View project at <a href='https://wandb.ai/anagorb63/tests' target=\"_blank\">https://wandb.ai/anagorb63/tests</a>"
      ],
      "text/plain": [
       "<IPython.core.display.HTML object>"
      ]
     },
     "metadata": {},
     "output_type": "display_data"
    },
    {
     "data": {
      "text/html": [
       " View run at <a href='https://wandb.ai/anagorb63/tests/runs/LinReg_HuberLoss3D' target=\"_blank\">https://wandb.ai/anagorb63/tests/runs/LinReg_HuberLoss3D</a>"
      ],
      "text/plain": [
       "<IPython.core.display.HTML object>"
      ]
     },
     "metadata": {},
     "output_type": "display_data"
    },
    {
     "name": "stderr",
     "output_type": "stream",
     "text": [
      "/srv/conda/envs/notebook/lib/python3.10/site-packages/pytorch_lightning/utilities/parsing.py:262: UserWarning: Attribute 'torch_model' is an instance of `nn.Module` and is already saved during checkpointing. It is recommended to ignore them using `self.save_hyperparameters(ignore=['torch_model'])`.\n",
      "  rank_zero_warn(\n",
      "GPU available: True (cuda), used: True\n",
      "TPU available: False, using: 0 TPU cores\n",
      "IPU available: False, using: 0 IPUs\n",
      "HPU available: False, using: 0 HPUs\n",
      "`Trainer(limit_train_batches=1.0)` was configured so 100% of the batches per epoch will be used..\n",
      "/srv/conda/envs/notebook/lib/python3.10/site-packages/pytorch_lightning/callbacks/model_checkpoint.py:604: UserWarning: Checkpoint directory ./tests/LinReg_HuberLoss3D/checkpoints exists and is not empty.\n",
      "  rank_zero_warn(f\"Checkpoint directory {dirpath} exists and is not empty.\")\n",
      "LOCAL_RANK: 0 - CUDA_VISIBLE_DEVICES: [0]\n",
      "\n",
      "  | Name        | Type           | Params\n",
      "-----------------------------------------------\n",
      "0 | torch_model | lin_regr_model | 1     \n",
      "-----------------------------------------------\n",
      "1         Trainable params\n",
      "0         Non-trainable params\n",
      "1         Total params\n",
      "0.000     Total estimated model params size (MB)\n"
     ]
    },
    {
     "data": {
      "application/vnd.jupyter.widget-view+json": {
       "model_id": "",
       "version_major": 2,
       "version_minor": 0
      },
      "text/plain": [
       "Sanity Checking: 0it [00:00, ?it/s]"
      ]
     },
     "metadata": {},
     "output_type": "display_data"
    },
    {
     "data": {
      "application/vnd.jupyter.widget-view+json": {
       "model_id": "3c8d5e96dbdd40ce8625580bf271daaf",
       "version_major": 2,
       "version_minor": 0
      },
      "text/plain": [
       "Training: 0it [00:00, ?it/s]"
      ]
     },
     "metadata": {},
     "output_type": "display_data"
    },
    {
     "data": {
      "application/vnd.jupyter.widget-view+json": {
       "model_id": "",
       "version_major": 2,
       "version_minor": 0
      },
      "text/plain": [
       "Validation: 0it [00:00, ?it/s]"
      ]
     },
     "metadata": {},
     "output_type": "display_data"
    },
    {
     "data": {
      "application/vnd.jupyter.widget-view+json": {
       "model_id": "",
       "version_major": 2,
       "version_minor": 0
      },
      "text/plain": [
       "Validation: 0it [00:00, ?it/s]"
      ]
     },
     "metadata": {},
     "output_type": "display_data"
    },
    {
     "data": {
      "application/vnd.jupyter.widget-view+json": {
       "model_id": "",
       "version_major": 2,
       "version_minor": 0
      },
      "text/plain": [
       "Validation: 0it [00:00, ?it/s]"
      ]
     },
     "metadata": {},
     "output_type": "display_data"
    },
    {
     "data": {
      "application/vnd.jupyter.widget-view+json": {
       "model_id": "",
       "version_major": 2,
       "version_minor": 0
      },
      "text/plain": [
       "Validation: 0it [00:00, ?it/s]"
      ]
     },
     "metadata": {},
     "output_type": "display_data"
    },
    {
     "data": {
      "application/vnd.jupyter.widget-view+json": {
       "model_id": "",
       "version_major": 2,
       "version_minor": 0
      },
      "text/plain": [
       "Validation: 0it [00:00, ?it/s]"
      ]
     },
     "metadata": {},
     "output_type": "display_data"
    },
    {
     "data": {
      "application/vnd.jupyter.widget-view+json": {
       "model_id": "",
       "version_major": 2,
       "version_minor": 0
      },
      "text/plain": [
       "Validation: 0it [00:00, ?it/s]"
      ]
     },
     "metadata": {},
     "output_type": "display_data"
    },
    {
     "data": {
      "application/vnd.jupyter.widget-view+json": {
       "model_id": "",
       "version_major": 2,
       "version_minor": 0
      },
      "text/plain": [
       "Validation: 0it [00:00, ?it/s]"
      ]
     },
     "metadata": {},
     "output_type": "display_data"
    },
    {
     "name": "stderr",
     "output_type": "stream",
     "text": [
      "LOCAL_RANK: 0 - CUDA_VISIBLE_DEVICES: [0]\n"
     ]
    },
    {
     "data": {
      "application/vnd.jupyter.widget-view+json": {
       "model_id": "252208f53b60411f8a5659fa73938e96",
       "version_major": 2,
       "version_minor": 0
      },
      "text/plain": [
       "Testing: 0it [00:00, ?it/s]"
      ]
     },
     "metadata": {},
     "output_type": "display_data"
    },
    {
     "data": {
      "text/html": [
       "<pre style=\"white-space:pre;overflow-x:auto;line-height:normal;font-family:Menlo,'DejaVu Sans Mono',consolas,'Courier New',monospace\">┏━━━━━━━━━━━━━━━━━━━━━━━━━━━┳━━━━━━━━━━━━━━━━━━━━━━━━━━━━┳━━━━━━━━━━━━━━━━━━━━━━━━━━━┳━━━━━━━━━━━━━━━━━━━━━━━━━━━━┓\n",
       "┃<span style=\"font-weight: bold\">        Test metric        </span>┃<span style=\"font-weight: bold\">        DataLoader 0        </span>┃<span style=\"font-weight: bold\">       DataLoader 1        </span>┃<span style=\"font-weight: bold\">        DataLoader 2        </span>┃\n",
       "┡━━━━━━━━━━━━━━━━━━━━━━━━━━━╇━━━━━━━━━━━━━━━━━━━━━━━━━━━━╇━━━━━━━━━━━━━━━━━━━━━━━━━━━╇━━━━━━━━━━━━━━━━━━━━━━━━━━━━┩\n",
       "│<span style=\"color: #008080; text-decoration-color: #008080\"> corr_coef_grad_votemper_… </span>│<span style=\"color: #800080; text-decoration-color: #800080\">     0.6990418434143066     </span>│<span style=\"color: #800080; text-decoration-color: #800080\">    0.6940702795982361     </span>│<span style=\"color: #800080; text-decoration-color: #800080\">     0.6482260227203369     </span>│\n",
       "│<span style=\"color: #008080; text-decoration-color: #008080\">  corr_coef_votemper_var   </span>│<span style=\"color: #800080; text-decoration-color: #800080\">     0.7958126664161682     </span>│<span style=\"color: #800080; text-decoration-color: #800080\">    0.7883097529411316     </span>│<span style=\"color: #800080; text-decoration-color: #800080\">     0.8395946621894836     </span>│\n",
       "│<span style=\"color: #008080; text-decoration-color: #008080\">  loss_grad_votemper_var   </span>│<span style=\"color: #800080; text-decoration-color: #800080\">     1.1463968753814697     </span>│<span style=\"color: #800080; text-decoration-color: #800080\">     0.524319589138031     </span>│<span style=\"color: #800080; text-decoration-color: #800080\">     0.3721678555011749     </span>│\n",
       "│<span style=\"color: #008080; text-decoration-color: #008080\">  loss_val_pressure_grad   </span>│<span style=\"color: #800080; text-decoration-color: #800080\">   1.131532676567395e-08    </span>│<span style=\"color: #800080; text-decoration-color: #800080\">  1.2215566271819545e-08   </span>│<span style=\"color: #800080; text-decoration-color: #800080\">   1.2847153504039265e-08   </span>│\n",
       "│<span style=\"color: #008080; text-decoration-color: #008080\"> loss_val_pressure_grad_x  </span>│<span style=\"color: #800080; text-decoration-color: #800080\">   4.620095751535802e-09    </span>│<span style=\"color: #800080; text-decoration-color: #800080\">   5.423403217702738e-09   </span>│<span style=\"color: #800080; text-decoration-color: #800080\">   6.9798197235695395e-09   </span>│\n",
       "│<span style=\"color: #008080; text-decoration-color: #008080\"> loss_val_pressure_grad_y  </span>│<span style=\"color: #800080; text-decoration-color: #800080\">   6.695231014138148e-09    </span>│<span style=\"color: #800080; text-decoration-color: #800080\">   6.792163054116806e-09   </span>│<span style=\"color: #800080; text-decoration-color: #800080\">   5.867333780469726e-09    </span>│\n",
       "│<span style=\"color: #008080; text-decoration-color: #008080\">   loss_val_votemper_var   </span>│<span style=\"color: #800080; text-decoration-color: #800080\">    0.07995761930942535     </span>│<span style=\"color: #800080; text-decoration-color: #800080\">   0.046734586358070374    </span>│<span style=\"color: #800080; text-decoration-color: #800080\">    0.01815192960202694     </span>│\n",
       "└───────────────────────────┴────────────────────────────┴───────────────────────────┴────────────────────────────┘\n",
       "</pre>\n"
      ],
      "text/plain": [
       "┏━━━━━━━━━━━━━━━━━━━━━━━━━━━┳━━━━━━━━━━━━━━━━━━━━━━━━━━━━┳━━━━━━━━━━━━━━━━━━━━━━━━━━━┳━━━━━━━━━━━━━━━━━━━━━━━━━━━━┓\n",
       "┃\u001b[1m \u001b[0m\u001b[1m       Test metric       \u001b[0m\u001b[1m \u001b[0m┃\u001b[1m \u001b[0m\u001b[1m       DataLoader 0       \u001b[0m\u001b[1m \u001b[0m┃\u001b[1m \u001b[0m\u001b[1m      DataLoader 1       \u001b[0m\u001b[1m \u001b[0m┃\u001b[1m \u001b[0m\u001b[1m       DataLoader 2       \u001b[0m\u001b[1m \u001b[0m┃\n",
       "┡━━━━━━━━━━━━━━━━━━━━━━━━━━━╇━━━━━━━━━━━━━━━━━━━━━━━━━━━━╇━━━━━━━━━━━━━━━━━━━━━━━━━━━╇━━━━━━━━━━━━━━━━━━━━━━━━━━━━┩\n",
       "│\u001b[36m \u001b[0m\u001b[36mcorr_coef_grad_votemper_…\u001b[0m\u001b[36m \u001b[0m│\u001b[35m \u001b[0m\u001b[35m    0.6990418434143066    \u001b[0m\u001b[35m \u001b[0m│\u001b[35m \u001b[0m\u001b[35m   0.6940702795982361    \u001b[0m\u001b[35m \u001b[0m│\u001b[35m \u001b[0m\u001b[35m    0.6482260227203369    \u001b[0m\u001b[35m \u001b[0m│\n",
       "│\u001b[36m \u001b[0m\u001b[36m corr_coef_votemper_var  \u001b[0m\u001b[36m \u001b[0m│\u001b[35m \u001b[0m\u001b[35m    0.7958126664161682    \u001b[0m\u001b[35m \u001b[0m│\u001b[35m \u001b[0m\u001b[35m   0.7883097529411316    \u001b[0m\u001b[35m \u001b[0m│\u001b[35m \u001b[0m\u001b[35m    0.8395946621894836    \u001b[0m\u001b[35m \u001b[0m│\n",
       "│\u001b[36m \u001b[0m\u001b[36m loss_grad_votemper_var  \u001b[0m\u001b[36m \u001b[0m│\u001b[35m \u001b[0m\u001b[35m    1.1463968753814697    \u001b[0m\u001b[35m \u001b[0m│\u001b[35m \u001b[0m\u001b[35m    0.524319589138031    \u001b[0m\u001b[35m \u001b[0m│\u001b[35m \u001b[0m\u001b[35m    0.3721678555011749    \u001b[0m\u001b[35m \u001b[0m│\n",
       "│\u001b[36m \u001b[0m\u001b[36m loss_val_pressure_grad  \u001b[0m\u001b[36m \u001b[0m│\u001b[35m \u001b[0m\u001b[35m  1.131532676567395e-08   \u001b[0m\u001b[35m \u001b[0m│\u001b[35m \u001b[0m\u001b[35m 1.2215566271819545e-08  \u001b[0m\u001b[35m \u001b[0m│\u001b[35m \u001b[0m\u001b[35m  1.2847153504039265e-08  \u001b[0m\u001b[35m \u001b[0m│\n",
       "│\u001b[36m \u001b[0m\u001b[36mloss_val_pressure_grad_x \u001b[0m\u001b[36m \u001b[0m│\u001b[35m \u001b[0m\u001b[35m  4.620095751535802e-09   \u001b[0m\u001b[35m \u001b[0m│\u001b[35m \u001b[0m\u001b[35m  5.423403217702738e-09  \u001b[0m\u001b[35m \u001b[0m│\u001b[35m \u001b[0m\u001b[35m  6.9798197235695395e-09  \u001b[0m\u001b[35m \u001b[0m│\n",
       "│\u001b[36m \u001b[0m\u001b[36mloss_val_pressure_grad_y \u001b[0m\u001b[36m \u001b[0m│\u001b[35m \u001b[0m\u001b[35m  6.695231014138148e-09   \u001b[0m\u001b[35m \u001b[0m│\u001b[35m \u001b[0m\u001b[35m  6.792163054116806e-09  \u001b[0m\u001b[35m \u001b[0m│\u001b[35m \u001b[0m\u001b[35m  5.867333780469726e-09   \u001b[0m\u001b[35m \u001b[0m│\n",
       "│\u001b[36m \u001b[0m\u001b[36m  loss_val_votemper_var  \u001b[0m\u001b[36m \u001b[0m│\u001b[35m \u001b[0m\u001b[35m   0.07995761930942535    \u001b[0m\u001b[35m \u001b[0m│\u001b[35m \u001b[0m\u001b[35m  0.046734586358070374   \u001b[0m\u001b[35m \u001b[0m│\u001b[35m \u001b[0m\u001b[35m   0.01815192960202694    \u001b[0m\u001b[35m \u001b[0m│\n",
       "└───────────────────────────┴────────────────────────────┴───────────────────────────┴────────────────────────────┘\n"
      ]
     },
     "metadata": {},
     "output_type": "display_data"
    },
    {
     "data": {
      "text/html": [
       "<pre style=\"white-space:pre;overflow-x:auto;line-height:normal;font-family:Menlo,'DejaVu Sans Mono',consolas,'Courier New',monospace\">┏━━━━━━━━━━━━━━━━━━━━━━━━━━━┳━━━━━━━━━━━━━━━━━━━━━━━━━━━━┳━━━━━━━━━━━━━━━━━━━━━━━━━━━┳━━━━━━━━━━━━━━━━━━━━━━━━━━━━┓\n",
       "┃<span style=\"font-weight: bold\">        Test metric        </span>┃<span style=\"font-weight: bold\">        DataLoader 3        </span>┃<span style=\"font-weight: bold\">       DataLoader 4        </span>┃<span style=\"font-weight: bold\">        DataLoader 5        </span>┃\n",
       "┡━━━━━━━━━━━━━━━━━━━━━━━━━━━╇━━━━━━━━━━━━━━━━━━━━━━━━━━━━╇━━━━━━━━━━━━━━━━━━━━━━━━━━━╇━━━━━━━━━━━━━━━━━━━━━━━━━━━━┩\n",
       "│<span style=\"color: #008080; text-decoration-color: #008080\"> corr_coef_grad_votemper_… </span>│<span style=\"color: #800080; text-decoration-color: #800080\">     0.7831739187240601     </span>│<span style=\"color: #800080; text-decoration-color: #800080\">    0.5086860060691833     </span>│<span style=\"color: #800080; text-decoration-color: #800080\">     0.5103292465209961     </span>│\n",
       "│<span style=\"color: #008080; text-decoration-color: #008080\">  corr_coef_votemper_var   </span>│<span style=\"color: #800080; text-decoration-color: #800080\">     0.857978105545044      </span>│<span style=\"color: #800080; text-decoration-color: #800080\">    0.7896470427513123     </span>│<span style=\"color: #800080; text-decoration-color: #800080\">     0.7639338374137878     </span>│\n",
       "│<span style=\"color: #008080; text-decoration-color: #008080\">  loss_grad_votemper_var   </span>│<span style=\"color: #800080; text-decoration-color: #800080\">    0.36409473419189453     </span>│<span style=\"color: #800080; text-decoration-color: #800080\">  2.3510430935402837e-07   </span>│<span style=\"color: #800080; text-decoration-color: #800080\">   0.00014089093019720167   </span>│\n",
       "│<span style=\"color: #008080; text-decoration-color: #008080\">  loss_val_pressure_grad   </span>│<span style=\"color: #800080; text-decoration-color: #800080\">   6.268158523727805e-09    </span>│<span style=\"color: #800080; text-decoration-color: #800080\">   8.639746168194157e-12   </span>│<span style=\"color: #800080; text-decoration-color: #800080\">   5.4026837169430826e-11   </span>│\n",
       "│<span style=\"color: #008080; text-decoration-color: #008080\"> loss_val_pressure_grad_x  </span>│<span style=\"color: #800080; text-decoration-color: #800080\">   3.079886542018138e-09    </span>│<span style=\"color: #800080; text-decoration-color: #800080\">   4.060544594440221e-12   </span>│<span style=\"color: #800080; text-decoration-color: #800080\">   2.633084947061313e-11    </span>│\n",
       "│<span style=\"color: #008080; text-decoration-color: #008080\"> loss_val_pressure_grad_y  </span>│<span style=\"color: #800080; text-decoration-color: #800080\">   3.1882719817096673e-09   </span>│<span style=\"color: #800080; text-decoration-color: #800080\">  4.5792015737539354e-12   </span>│<span style=\"color: #800080; text-decoration-color: #800080\">   2.7695987698817706e-11   </span>│\n",
       "│<span style=\"color: #008080; text-decoration-color: #008080\">   loss_val_votemper_var   </span>│<span style=\"color: #800080; text-decoration-color: #800080\">    0.012032397091388702    </span>│<span style=\"color: #800080; text-decoration-color: #800080\">   6.161496276035905e-05   </span>│<span style=\"color: #800080; text-decoration-color: #800080\">   0.0008162074955180287    </span>│\n",
       "└───────────────────────────┴────────────────────────────┴───────────────────────────┴────────────────────────────┘\n",
       "</pre>\n"
      ],
      "text/plain": [
       "┏━━━━━━━━━━━━━━━━━━━━━━━━━━━┳━━━━━━━━━━━━━━━━━━━━━━━━━━━━┳━━━━━━━━━━━━━━━━━━━━━━━━━━━┳━━━━━━━━━━━━━━━━━━━━━━━━━━━━┓\n",
       "┃\u001b[1m \u001b[0m\u001b[1m       Test metric       \u001b[0m\u001b[1m \u001b[0m┃\u001b[1m \u001b[0m\u001b[1m       DataLoader 3       \u001b[0m\u001b[1m \u001b[0m┃\u001b[1m \u001b[0m\u001b[1m      DataLoader 4       \u001b[0m\u001b[1m \u001b[0m┃\u001b[1m \u001b[0m\u001b[1m       DataLoader 5       \u001b[0m\u001b[1m \u001b[0m┃\n",
       "┡━━━━━━━━━━━━━━━━━━━━━━━━━━━╇━━━━━━━━━━━━━━━━━━━━━━━━━━━━╇━━━━━━━━━━━━━━━━━━━━━━━━━━━╇━━━━━━━━━━━━━━━━━━━━━━━━━━━━┩\n",
       "│\u001b[36m \u001b[0m\u001b[36mcorr_coef_grad_votemper_…\u001b[0m\u001b[36m \u001b[0m│\u001b[35m \u001b[0m\u001b[35m    0.7831739187240601    \u001b[0m\u001b[35m \u001b[0m│\u001b[35m \u001b[0m\u001b[35m   0.5086860060691833    \u001b[0m\u001b[35m \u001b[0m│\u001b[35m \u001b[0m\u001b[35m    0.5103292465209961    \u001b[0m\u001b[35m \u001b[0m│\n",
       "│\u001b[36m \u001b[0m\u001b[36m corr_coef_votemper_var  \u001b[0m\u001b[36m \u001b[0m│\u001b[35m \u001b[0m\u001b[35m    0.857978105545044     \u001b[0m\u001b[35m \u001b[0m│\u001b[35m \u001b[0m\u001b[35m   0.7896470427513123    \u001b[0m\u001b[35m \u001b[0m│\u001b[35m \u001b[0m\u001b[35m    0.7639338374137878    \u001b[0m\u001b[35m \u001b[0m│\n",
       "│\u001b[36m \u001b[0m\u001b[36m loss_grad_votemper_var  \u001b[0m\u001b[36m \u001b[0m│\u001b[35m \u001b[0m\u001b[35m   0.36409473419189453    \u001b[0m\u001b[35m \u001b[0m│\u001b[35m \u001b[0m\u001b[35m 2.3510430935402837e-07  \u001b[0m\u001b[35m \u001b[0m│\u001b[35m \u001b[0m\u001b[35m  0.00014089093019720167  \u001b[0m\u001b[35m \u001b[0m│\n",
       "│\u001b[36m \u001b[0m\u001b[36m loss_val_pressure_grad  \u001b[0m\u001b[36m \u001b[0m│\u001b[35m \u001b[0m\u001b[35m  6.268158523727805e-09   \u001b[0m\u001b[35m \u001b[0m│\u001b[35m \u001b[0m\u001b[35m  8.639746168194157e-12  \u001b[0m\u001b[35m \u001b[0m│\u001b[35m \u001b[0m\u001b[35m  5.4026837169430826e-11  \u001b[0m\u001b[35m \u001b[0m│\n",
       "│\u001b[36m \u001b[0m\u001b[36mloss_val_pressure_grad_x \u001b[0m\u001b[36m \u001b[0m│\u001b[35m \u001b[0m\u001b[35m  3.079886542018138e-09   \u001b[0m\u001b[35m \u001b[0m│\u001b[35m \u001b[0m\u001b[35m  4.060544594440221e-12  \u001b[0m\u001b[35m \u001b[0m│\u001b[35m \u001b[0m\u001b[35m  2.633084947061313e-11   \u001b[0m\u001b[35m \u001b[0m│\n",
       "│\u001b[36m \u001b[0m\u001b[36mloss_val_pressure_grad_y \u001b[0m\u001b[36m \u001b[0m│\u001b[35m \u001b[0m\u001b[35m  3.1882719817096673e-09  \u001b[0m\u001b[35m \u001b[0m│\u001b[35m \u001b[0m\u001b[35m 4.5792015737539354e-12  \u001b[0m\u001b[35m \u001b[0m│\u001b[35m \u001b[0m\u001b[35m  2.7695987698817706e-11  \u001b[0m\u001b[35m \u001b[0m│\n",
       "│\u001b[36m \u001b[0m\u001b[36m  loss_val_votemper_var  \u001b[0m\u001b[36m \u001b[0m│\u001b[35m \u001b[0m\u001b[35m   0.012032397091388702   \u001b[0m\u001b[35m \u001b[0m│\u001b[35m \u001b[0m\u001b[35m  6.161496276035905e-05  \u001b[0m\u001b[35m \u001b[0m│\u001b[35m \u001b[0m\u001b[35m  0.0008162074955180287   \u001b[0m\u001b[35m \u001b[0m│\n",
       "└───────────────────────────┴────────────────────────────┴───────────────────────────┴────────────────────────────┘\n"
      ]
     },
     "metadata": {},
     "output_type": "display_data"
    },
    {
     "data": {
      "text/html": [
       "Waiting for W&B process to finish... <strong style=\"color:green\">(success).</strong>"
      ],
      "text/plain": [
       "<IPython.core.display.HTML object>"
      ]
     },
     "metadata": {},
     "output_type": "display_data"
    },
    {
     "data": {
      "text/html": [
       "<style>\n",
       "    table.wandb td:nth-child(1) { padding: 0 10px; text-align: left ; width: auto;} td:nth-child(2) {text-align: left ; width: 100%}\n",
       "    .wandb-row { display: flex; flex-direction: row; flex-wrap: wrap; justify-content: flex-start; width: 100% }\n",
       "    .wandb-col { display: flex; flex-direction: column; flex-basis: 100%; flex: 1; padding: 10px; }\n",
       "    </style>\n",
       "<div class=\"wandb-row\"><div class=\"wandb-col\"><h3>Run history:</h3><br/><table class=\"wandb\"><tr><td>corr_coef_grad_votemper_var/dataloader_idx_0</td><td>▁</td></tr><tr><td>corr_coef_grad_votemper_var/dataloader_idx_1</td><td>▁</td></tr><tr><td>corr_coef_grad_votemper_var/dataloader_idx_2</td><td>▁</td></tr><tr><td>corr_coef_grad_votemper_var/dataloader_idx_3</td><td>▁</td></tr><tr><td>corr_coef_grad_votemper_var/dataloader_idx_4</td><td>▁</td></tr><tr><td>corr_coef_grad_votemper_var/dataloader_idx_5</td><td>▁</td></tr><tr><td>corr_coef_votemper_var/dataloader_idx_0</td><td>▁</td></tr><tr><td>corr_coef_votemper_var/dataloader_idx_1</td><td>▁</td></tr><tr><td>corr_coef_votemper_var/dataloader_idx_2</td><td>▁</td></tr><tr><td>corr_coef_votemper_var/dataloader_idx_3</td><td>▁</td></tr><tr><td>corr_coef_votemper_var/dataloader_idx_4</td><td>▁</td></tr><tr><td>corr_coef_votemper_var/dataloader_idx_5</td><td>▁</td></tr><tr><td>epoch</td><td>▁▁▂▂▃▃▄▄▅▅▆▆▇▇█</td></tr><tr><td>first_weight</td><td>▁▃▅▆▇▇█</td></tr><tr><td>loss_grad_votemper_var/dataloader_idx_0</td><td>▁</td></tr><tr><td>loss_grad_votemper_var/dataloader_idx_1</td><td>▁</td></tr><tr><td>loss_grad_votemper_var/dataloader_idx_2</td><td>▁</td></tr><tr><td>loss_grad_votemper_var/dataloader_idx_3</td><td>▁</td></tr><tr><td>loss_grad_votemper_var/dataloader_idx_4</td><td>▁</td></tr><tr><td>loss_grad_votemper_var/dataloader_idx_5</td><td>▁</td></tr><tr><td>loss_train</td><td>██▄▁▆▆▆</td></tr><tr><td>loss_val_pressure_grad/dataloader_idx_0</td><td>▁</td></tr><tr><td>loss_val_pressure_grad/dataloader_idx_1</td><td>▁</td></tr><tr><td>loss_val_pressure_grad/dataloader_idx_2</td><td>▁</td></tr><tr><td>loss_val_pressure_grad/dataloader_idx_3</td><td>▁</td></tr><tr><td>loss_val_pressure_grad/dataloader_idx_4</td><td>▁</td></tr><tr><td>loss_val_pressure_grad/dataloader_idx_5</td><td>▁</td></tr><tr><td>loss_val_pressure_grad_x/dataloader_idx_0</td><td>▁</td></tr><tr><td>loss_val_pressure_grad_x/dataloader_idx_1</td><td>▁</td></tr><tr><td>loss_val_pressure_grad_x/dataloader_idx_2</td><td>▁</td></tr><tr><td>loss_val_pressure_grad_x/dataloader_idx_3</td><td>▁</td></tr><tr><td>loss_val_pressure_grad_x/dataloader_idx_4</td><td>▁</td></tr><tr><td>loss_val_pressure_grad_x/dataloader_idx_5</td><td>▁</td></tr><tr><td>loss_val_pressure_grad_y/dataloader_idx_0</td><td>▁</td></tr><tr><td>loss_val_pressure_grad_y/dataloader_idx_1</td><td>▁</td></tr><tr><td>loss_val_pressure_grad_y/dataloader_idx_2</td><td>▁</td></tr><tr><td>loss_val_pressure_grad_y/dataloader_idx_3</td><td>▁</td></tr><tr><td>loss_val_pressure_grad_y/dataloader_idx_4</td><td>▁</td></tr><tr><td>loss_val_pressure_grad_y/dataloader_idx_5</td><td>▁</td></tr><tr><td>loss_val_votemper_var/dataloader_idx_0</td><td>▁</td></tr><tr><td>loss_val_votemper_var/dataloader_idx_1</td><td>▁</td></tr><tr><td>loss_val_votemper_var/dataloader_idx_2</td><td>▁</td></tr><tr><td>loss_val_votemper_var/dataloader_idx_3</td><td>▁</td></tr><tr><td>loss_val_votemper_var/dataloader_idx_4</td><td>▁</td></tr><tr><td>loss_val_votemper_var/dataloader_idx_5</td><td>▁</td></tr><tr><td>loss_validation</td><td>█▅▃▂▁▁▁</td></tr><tr><td>trainer/global_step</td><td>▁▁▂▂▃▃▄▄▆▆▇▇███</td></tr></table><br/></div><div class=\"wandb-col\"><h3>Run summary:</h3><br/><table class=\"wandb\"><tr><td>corr_coef_grad_votemper_var/dataloader_idx_0</td><td>0.69904</td></tr><tr><td>corr_coef_grad_votemper_var/dataloader_idx_1</td><td>0.69407</td></tr><tr><td>corr_coef_grad_votemper_var/dataloader_idx_2</td><td>0.64823</td></tr><tr><td>corr_coef_grad_votemper_var/dataloader_idx_3</td><td>0.78317</td></tr><tr><td>corr_coef_grad_votemper_var/dataloader_idx_4</td><td>0.50869</td></tr><tr><td>corr_coef_grad_votemper_var/dataloader_idx_5</td><td>0.51033</td></tr><tr><td>corr_coef_votemper_var/dataloader_idx_0</td><td>0.79581</td></tr><tr><td>corr_coef_votemper_var/dataloader_idx_1</td><td>0.78831</td></tr><tr><td>corr_coef_votemper_var/dataloader_idx_2</td><td>0.83959</td></tr><tr><td>corr_coef_votemper_var/dataloader_idx_3</td><td>0.85798</td></tr><tr><td>corr_coef_votemper_var/dataloader_idx_4</td><td>0.78965</td></tr><tr><td>corr_coef_votemper_var/dataloader_idx_5</td><td>0.76393</td></tr><tr><td>epoch</td><td>7</td></tr><tr><td>first_weight</td><td>0.10558</td></tr><tr><td>loss_grad_votemper_var/dataloader_idx_0</td><td>1.1464</td></tr><tr><td>loss_grad_votemper_var/dataloader_idx_1</td><td>0.52432</td></tr><tr><td>loss_grad_votemper_var/dataloader_idx_2</td><td>0.37217</td></tr><tr><td>loss_grad_votemper_var/dataloader_idx_3</td><td>0.36409</td></tr><tr><td>loss_grad_votemper_var/dataloader_idx_4</td><td>0.0</td></tr><tr><td>loss_grad_votemper_var/dataloader_idx_5</td><td>0.00014</td></tr><tr><td>loss_train</td><td>0.0085</td></tr><tr><td>loss_val_pressure_grad/dataloader_idx_0</td><td>0.0</td></tr><tr><td>loss_val_pressure_grad/dataloader_idx_1</td><td>0.0</td></tr><tr><td>loss_val_pressure_grad/dataloader_idx_2</td><td>0.0</td></tr><tr><td>loss_val_pressure_grad/dataloader_idx_3</td><td>0.0</td></tr><tr><td>loss_val_pressure_grad/dataloader_idx_4</td><td>0.0</td></tr><tr><td>loss_val_pressure_grad/dataloader_idx_5</td><td>0.0</td></tr><tr><td>loss_val_pressure_grad_x/dataloader_idx_0</td><td>0.0</td></tr><tr><td>loss_val_pressure_grad_x/dataloader_idx_1</td><td>0.0</td></tr><tr><td>loss_val_pressure_grad_x/dataloader_idx_2</td><td>0.0</td></tr><tr><td>loss_val_pressure_grad_x/dataloader_idx_3</td><td>0.0</td></tr><tr><td>loss_val_pressure_grad_x/dataloader_idx_4</td><td>0.0</td></tr><tr><td>loss_val_pressure_grad_x/dataloader_idx_5</td><td>0.0</td></tr><tr><td>loss_val_pressure_grad_y/dataloader_idx_0</td><td>0.0</td></tr><tr><td>loss_val_pressure_grad_y/dataloader_idx_1</td><td>0.0</td></tr><tr><td>loss_val_pressure_grad_y/dataloader_idx_2</td><td>0.0</td></tr><tr><td>loss_val_pressure_grad_y/dataloader_idx_3</td><td>0.0</td></tr><tr><td>loss_val_pressure_grad_y/dataloader_idx_4</td><td>0.0</td></tr><tr><td>loss_val_pressure_grad_y/dataloader_idx_5</td><td>0.0</td></tr><tr><td>loss_val_votemper_var/dataloader_idx_0</td><td>0.07996</td></tr><tr><td>loss_val_votemper_var/dataloader_idx_1</td><td>0.04673</td></tr><tr><td>loss_val_votemper_var/dataloader_idx_2</td><td>0.01815</td></tr><tr><td>loss_val_votemper_var/dataloader_idx_3</td><td>0.01203</td></tr><tr><td>loss_val_votemper_var/dataloader_idx_4</td><td>6e-05</td></tr><tr><td>loss_val_votemper_var/dataloader_idx_5</td><td>0.00082</td></tr><tr><td>loss_validation</td><td>0.00839</td></tr><tr><td>trainer/global_step</td><td>553</td></tr></table><br/></div></div>"
      ],
      "text/plain": [
       "<IPython.core.display.HTML object>"
      ]
     },
     "metadata": {},
     "output_type": "display_data"
    },
    {
     "data": {
      "text/html": [
       " View run <strong style=\"color:#cdcd00\">LinReg_HuberLoss3D</strong> at: <a href='https://wandb.ai/anagorb63/tests/runs/LinReg_HuberLoss3D' target=\"_blank\">https://wandb.ai/anagorb63/tests/runs/LinReg_HuberLoss3D</a><br/>Synced 6 W&B file(s), 0 media file(s), 2 artifact file(s) and 0 other file(s)"
      ],
      "text/plain": [
       "<IPython.core.display.HTML object>"
      ]
     },
     "metadata": {},
     "output_type": "display_data"
    },
    {
     "data": {
      "text/html": [
       "Find logs at: <code>./wandb/run-20230314_195427-LinReg_HuberLoss3D/logs</code>"
      ],
      "text/plain": [
       "<IPython.core.display.HTML object>"
      ]
     },
     "metadata": {},
     "output_type": "display_data"
    }
   ],
   "source": [
    "config=dict({'model_label' : 'LinReg',\n",
    "                'version' : 'HuberLoss3D',\n",
    "                'torch_model' : 'myParam.lin_regr_model',\n",
    "                'datamodule' : 'all_data_3D',\n",
    "                'torch_model_params' : dict({'data_geometry' : '3D',\\\n",
    "                                            'nb_of_input_features' : 1, \\\n",
    "                                            'nb_of_output_features' : 1}),\n",
    "                'module_params' : dict({'input_features'  : ['diff_votemper_sqr'],\n",
    "                                        'output_features'  : ['votemper_var'],\n",
    "                                        'output_units' : None,\n",
    "                                        'loss' : torch.nn.functional.huber_loss,\n",
    "                                        'optimizer' : torch.optim.SGD,\n",
    "                                        'learning_rate' : 1e-3,}),\n",
    "                'training_params' : dict({'max_epochs' : 100,\n",
    "                                          'limit_train_batches' : 1.0})\n",
    "               })\n",
    "run_experiment(config, project_name)"
   ]
  },
  {
   "cell_type": "code",
   "execution_count": 19,
   "id": "0e42f5e8-9011-497a-9824-c8753a1703e5",
   "metadata": {},
   "outputs": [
    {
     "data": {
      "application/vnd.jupyter.widget-view+json": {
       "model_id": "5ecdbd4e0aca4b7eb24d7149192a209d",
       "version_major": 2,
       "version_minor": 0
      },
      "text/plain": [
       "VBox(children=(Label(value='Waiting for wandb.init()...\\r'), FloatProgress(value=0.01666892013333078, max=1.0)…"
      ]
     },
     "metadata": {},
     "output_type": "display_data"
    },
    {
     "data": {
      "text/html": [
       "Tracking run with wandb version 0.13.11"
      ],
      "text/plain": [
       "<IPython.core.display.HTML object>"
      ]
     },
     "metadata": {},
     "output_type": "display_data"
    },
    {
     "data": {
      "text/html": [
       "Run data is saved locally in <code>./wandb/run-20230314_195522-LinReg_MSELoss2D</code>"
      ],
      "text/plain": [
       "<IPython.core.display.HTML object>"
      ]
     },
     "metadata": {},
     "output_type": "display_data"
    },
    {
     "data": {
      "text/html": [
       "Syncing run <strong><a href='https://wandb.ai/anagorb63/tests/runs/LinReg_MSELoss2D' target=\"_blank\">LinReg_MSELoss2D</a></strong> to <a href='https://wandb.ai/anagorb63/tests' target=\"_blank\">Weights & Biases</a> (<a href='https://wandb.me/run' target=\"_blank\">docs</a>)<br/>"
      ],
      "text/plain": [
       "<IPython.core.display.HTML object>"
      ]
     },
     "metadata": {},
     "output_type": "display_data"
    },
    {
     "data": {
      "text/html": [
       " View project at <a href='https://wandb.ai/anagorb63/tests' target=\"_blank\">https://wandb.ai/anagorb63/tests</a>"
      ],
      "text/plain": [
       "<IPython.core.display.HTML object>"
      ]
     },
     "metadata": {},
     "output_type": "display_data"
    },
    {
     "data": {
      "text/html": [
       " View run at <a href='https://wandb.ai/anagorb63/tests/runs/LinReg_MSELoss2D' target=\"_blank\">https://wandb.ai/anagorb63/tests/runs/LinReg_MSELoss2D</a>"
      ],
      "text/plain": [
       "<IPython.core.display.HTML object>"
      ]
     },
     "metadata": {},
     "output_type": "display_data"
    },
    {
     "name": "stderr",
     "output_type": "stream",
     "text": [
      "/srv/conda/envs/notebook/lib/python3.10/site-packages/pytorch_lightning/utilities/parsing.py:262: UserWarning: Attribute 'torch_model' is an instance of `nn.Module` and is already saved during checkpointing. It is recommended to ignore them using `self.save_hyperparameters(ignore=['torch_model'])`.\n",
      "  rank_zero_warn(\n",
      "GPU available: True (cuda), used: True\n",
      "TPU available: False, using: 0 TPU cores\n",
      "IPU available: False, using: 0 IPUs\n",
      "HPU available: False, using: 0 HPUs\n",
      "`Trainer(limit_train_batches=1.0)` was configured so 100% of the batches per epoch will be used..\n",
      "/srv/conda/envs/notebook/lib/python3.10/site-packages/pytorch_lightning/callbacks/model_checkpoint.py:604: UserWarning: Checkpoint directory ./tests/LinReg_MSELoss2D/checkpoints exists and is not empty.\n",
      "  rank_zero_warn(f\"Checkpoint directory {dirpath} exists and is not empty.\")\n",
      "LOCAL_RANK: 0 - CUDA_VISIBLE_DEVICES: [0]\n",
      "\n",
      "  | Name        | Type           | Params\n",
      "-----------------------------------------------\n",
      "0 | torch_model | lin_regr_model | 1     \n",
      "-----------------------------------------------\n",
      "1         Trainable params\n",
      "0         Non-trainable params\n",
      "1         Total params\n",
      "0.000     Total estimated model params size (MB)\n"
     ]
    },
    {
     "data": {
      "application/vnd.jupyter.widget-view+json": {
       "model_id": "",
       "version_major": 2,
       "version_minor": 0
      },
      "text/plain": [
       "Sanity Checking: 0it [00:00, ?it/s]"
      ]
     },
     "metadata": {},
     "output_type": "display_data"
    },
    {
     "data": {
      "application/vnd.jupyter.widget-view+json": {
       "model_id": "3ac689f03b9c4f59a0c9eb6efe192a44",
       "version_major": 2,
       "version_minor": 0
      },
      "text/plain": [
       "Training: 0it [00:00, ?it/s]"
      ]
     },
     "metadata": {},
     "output_type": "display_data"
    },
    {
     "data": {
      "application/vnd.jupyter.widget-view+json": {
       "model_id": "",
       "version_major": 2,
       "version_minor": 0
      },
      "text/plain": [
       "Validation: 0it [00:00, ?it/s]"
      ]
     },
     "metadata": {},
     "output_type": "display_data"
    },
    {
     "data": {
      "application/vnd.jupyter.widget-view+json": {
       "model_id": "",
       "version_major": 2,
       "version_minor": 0
      },
      "text/plain": [
       "Validation: 0it [00:00, ?it/s]"
      ]
     },
     "metadata": {},
     "output_type": "display_data"
    },
    {
     "data": {
      "application/vnd.jupyter.widget-view+json": {
       "model_id": "",
       "version_major": 2,
       "version_minor": 0
      },
      "text/plain": [
       "Validation: 0it [00:00, ?it/s]"
      ]
     },
     "metadata": {},
     "output_type": "display_data"
    },
    {
     "data": {
      "application/vnd.jupyter.widget-view+json": {
       "model_id": "",
       "version_major": 2,
       "version_minor": 0
      },
      "text/plain": [
       "Validation: 0it [00:00, ?it/s]"
      ]
     },
     "metadata": {},
     "output_type": "display_data"
    },
    {
     "data": {
      "application/vnd.jupyter.widget-view+json": {
       "model_id": "",
       "version_major": 2,
       "version_minor": 0
      },
      "text/plain": [
       "Validation: 0it [00:00, ?it/s]"
      ]
     },
     "metadata": {},
     "output_type": "display_data"
    },
    {
     "data": {
      "application/vnd.jupyter.widget-view+json": {
       "model_id": "",
       "version_major": 2,
       "version_minor": 0
      },
      "text/plain": [
       "Validation: 0it [00:00, ?it/s]"
      ]
     },
     "metadata": {},
     "output_type": "display_data"
    },
    {
     "data": {
      "application/vnd.jupyter.widget-view+json": {
       "model_id": "",
       "version_major": 2,
       "version_minor": 0
      },
      "text/plain": [
       "Validation: 0it [00:00, ?it/s]"
      ]
     },
     "metadata": {},
     "output_type": "display_data"
    },
    {
     "data": {
      "application/vnd.jupyter.widget-view+json": {
       "model_id": "",
       "version_major": 2,
       "version_minor": 0
      },
      "text/plain": [
       "Validation: 0it [00:00, ?it/s]"
      ]
     },
     "metadata": {},
     "output_type": "display_data"
    },
    {
     "data": {
      "application/vnd.jupyter.widget-view+json": {
       "model_id": "",
       "version_major": 2,
       "version_minor": 0
      },
      "text/plain": [
       "Validation: 0it [00:00, ?it/s]"
      ]
     },
     "metadata": {},
     "output_type": "display_data"
    },
    {
     "data": {
      "application/vnd.jupyter.widget-view+json": {
       "model_id": "",
       "version_major": 2,
       "version_minor": 0
      },
      "text/plain": [
       "Validation: 0it [00:00, ?it/s]"
      ]
     },
     "metadata": {},
     "output_type": "display_data"
    },
    {
     "name": "stderr",
     "output_type": "stream",
     "text": [
      "LOCAL_RANK: 0 - CUDA_VISIBLE_DEVICES: [0]\n"
     ]
    },
    {
     "data": {
      "application/vnd.jupyter.widget-view+json": {
       "model_id": "e729d0842b51439c874336e084ed3b69",
       "version_major": 2,
       "version_minor": 0
      },
      "text/plain": [
       "Testing: 0it [00:00, ?it/s]"
      ]
     },
     "metadata": {},
     "output_type": "display_data"
    },
    {
     "data": {
      "text/html": [
       "<pre style=\"white-space:pre;overflow-x:auto;line-height:normal;font-family:Menlo,'DejaVu Sans Mono',consolas,'Courier New',monospace\">┏━━━━━━━━━━━━━━━━━━━━━━━━━━━┳━━━━━━━━━━━━━━━━━━━━━━━━━━━━┳━━━━━━━━━━━━━━━━━━━━━━━━━━━┳━━━━━━━━━━━━━━━━━━━━━━━━━━━━┓\n",
       "┃<span style=\"font-weight: bold\">        Test metric        </span>┃<span style=\"font-weight: bold\">        DataLoader 0        </span>┃<span style=\"font-weight: bold\">       DataLoader 1        </span>┃<span style=\"font-weight: bold\">        DataLoader 2        </span>┃\n",
       "┡━━━━━━━━━━━━━━━━━━━━━━━━━━━╇━━━━━━━━━━━━━━━━━━━━━━━━━━━━╇━━━━━━━━━━━━━━━━━━━━━━━━━━━╇━━━━━━━━━━━━━━━━━━━━━━━━━━━━┩\n",
       "│<span style=\"color: #008080; text-decoration-color: #008080\"> corr_coef_grad_sosstsst_… </span>│<span style=\"color: #800080; text-decoration-color: #800080\">     0.701748251914978      </span>│<span style=\"color: #800080; text-decoration-color: #800080\">    0.7641282677650452     </span>│<span style=\"color: #800080; text-decoration-color: #800080\">     0.587380588054657      </span>│\n",
       "│<span style=\"color: #008080; text-decoration-color: #008080\">  corr_coef_sosstsst_var   </span>│<span style=\"color: #800080; text-decoration-color: #800080\">     0.7137874960899353     </span>│<span style=\"color: #800080; text-decoration-color: #800080\">    0.7573866844177246     </span>│<span style=\"color: #800080; text-decoration-color: #800080\">     0.7858011722564697     </span>│\n",
       "│<span style=\"color: #008080; text-decoration-color: #008080\">  loss_grad_sosstsst_var   </span>│<span style=\"color: #800080; text-decoration-color: #800080\">     18.930721282958984     </span>│<span style=\"color: #800080; text-decoration-color: #800080\">    0.9677502512931824     </span>│<span style=\"color: #800080; text-decoration-color: #800080\">     1.185933232307434      </span>│\n",
       "│<span style=\"color: #008080; text-decoration-color: #008080\">   loss_val_sosstsst_var   </span>│<span style=\"color: #800080; text-decoration-color: #800080\">     0.5531823635101318     </span>│<span style=\"color: #800080; text-decoration-color: #800080\">    0.10663110762834549    </span>│<span style=\"color: #800080; text-decoration-color: #800080\">    0.05596914142370224     </span>│\n",
       "└───────────────────────────┴────────────────────────────┴───────────────────────────┴────────────────────────────┘\n",
       "</pre>\n"
      ],
      "text/plain": [
       "┏━━━━━━━━━━━━━━━━━━━━━━━━━━━┳━━━━━━━━━━━━━━━━━━━━━━━━━━━━┳━━━━━━━━━━━━━━━━━━━━━━━━━━━┳━━━━━━━━━━━━━━━━━━━━━━━━━━━━┓\n",
       "┃\u001b[1m \u001b[0m\u001b[1m       Test metric       \u001b[0m\u001b[1m \u001b[0m┃\u001b[1m \u001b[0m\u001b[1m       DataLoader 0       \u001b[0m\u001b[1m \u001b[0m┃\u001b[1m \u001b[0m\u001b[1m      DataLoader 1       \u001b[0m\u001b[1m \u001b[0m┃\u001b[1m \u001b[0m\u001b[1m       DataLoader 2       \u001b[0m\u001b[1m \u001b[0m┃\n",
       "┡━━━━━━━━━━━━━━━━━━━━━━━━━━━╇━━━━━━━━━━━━━━━━━━━━━━━━━━━━╇━━━━━━━━━━━━━━━━━━━━━━━━━━━╇━━━━━━━━━━━━━━━━━━━━━━━━━━━━┩\n",
       "│\u001b[36m \u001b[0m\u001b[36mcorr_coef_grad_sosstsst_…\u001b[0m\u001b[36m \u001b[0m│\u001b[35m \u001b[0m\u001b[35m    0.701748251914978     \u001b[0m\u001b[35m \u001b[0m│\u001b[35m \u001b[0m\u001b[35m   0.7641282677650452    \u001b[0m\u001b[35m \u001b[0m│\u001b[35m \u001b[0m\u001b[35m    0.587380588054657     \u001b[0m\u001b[35m \u001b[0m│\n",
       "│\u001b[36m \u001b[0m\u001b[36m corr_coef_sosstsst_var  \u001b[0m\u001b[36m \u001b[0m│\u001b[35m \u001b[0m\u001b[35m    0.7137874960899353    \u001b[0m\u001b[35m \u001b[0m│\u001b[35m \u001b[0m\u001b[35m   0.7573866844177246    \u001b[0m\u001b[35m \u001b[0m│\u001b[35m \u001b[0m\u001b[35m    0.7858011722564697    \u001b[0m\u001b[35m \u001b[0m│\n",
       "│\u001b[36m \u001b[0m\u001b[36m loss_grad_sosstsst_var  \u001b[0m\u001b[36m \u001b[0m│\u001b[35m \u001b[0m\u001b[35m    18.930721282958984    \u001b[0m\u001b[35m \u001b[0m│\u001b[35m \u001b[0m\u001b[35m   0.9677502512931824    \u001b[0m\u001b[35m \u001b[0m│\u001b[35m \u001b[0m\u001b[35m    1.185933232307434     \u001b[0m\u001b[35m \u001b[0m│\n",
       "│\u001b[36m \u001b[0m\u001b[36m  loss_val_sosstsst_var  \u001b[0m\u001b[36m \u001b[0m│\u001b[35m \u001b[0m\u001b[35m    0.5531823635101318    \u001b[0m\u001b[35m \u001b[0m│\u001b[35m \u001b[0m\u001b[35m   0.10663110762834549   \u001b[0m\u001b[35m \u001b[0m│\u001b[35m \u001b[0m\u001b[35m   0.05596914142370224    \u001b[0m\u001b[35m \u001b[0m│\n",
       "└───────────────────────────┴────────────────────────────┴───────────────────────────┴────────────────────────────┘\n"
      ]
     },
     "metadata": {},
     "output_type": "display_data"
    },
    {
     "data": {
      "text/html": [
       "<pre style=\"white-space:pre;overflow-x:auto;line-height:normal;font-family:Menlo,'DejaVu Sans Mono',consolas,'Courier New',monospace\">┏━━━━━━━━━━━━━━━━━━━━━━━━━━━┳━━━━━━━━━━━━━━━━━━━━━━━━━━━━┳━━━━━━━━━━━━━━━━━━━━━━━━━━━┳━━━━━━━━━━━━━━━━━━━━━━━━━━━━┓\n",
       "┃<span style=\"font-weight: bold\">        Test metric        </span>┃<span style=\"font-weight: bold\">        DataLoader 3        </span>┃<span style=\"font-weight: bold\">       DataLoader 4        </span>┃<span style=\"font-weight: bold\">        DataLoader 5        </span>┃\n",
       "┡━━━━━━━━━━━━━━━━━━━━━━━━━━━╇━━━━━━━━━━━━━━━━━━━━━━━━━━━━╇━━━━━━━━━━━━━━━━━━━━━━━━━━━╇━━━━━━━━━━━━━━━━━━━━━━━━━━━━┩\n",
       "│<span style=\"color: #008080; text-decoration-color: #008080\"> corr_coef_grad_sosstsst_… </span>│<span style=\"color: #800080; text-decoration-color: #800080\">     0.6714114546775818     </span>│<span style=\"color: #800080; text-decoration-color: #800080\">    0.23809805512428284    </span>│<span style=\"color: #800080; text-decoration-color: #800080\">     0.5250321626663208     </span>│\n",
       "│<span style=\"color: #008080; text-decoration-color: #008080\">  corr_coef_sosstsst_var   </span>│<span style=\"color: #800080; text-decoration-color: #800080\">     0.8019294142723083     </span>│<span style=\"color: #800080; text-decoration-color: #800080\">    0.49191802740097046    </span>│<span style=\"color: #800080; text-decoration-color: #800080\">     0.5965473055839539     </span>│\n",
       "│<span style=\"color: #008080; text-decoration-color: #008080\">  loss_grad_sosstsst_var   </span>│<span style=\"color: #800080; text-decoration-color: #800080\">    0.031341638416051865    </span>│<span style=\"color: #800080; text-decoration-color: #800080\">   1.260864905816561e-06   </span>│<span style=\"color: #800080; text-decoration-color: #800080\">   2.1941195882391185e-05   </span>│\n",
       "│<span style=\"color: #008080; text-decoration-color: #008080\">   loss_val_sosstsst_var   </span>│<span style=\"color: #800080; text-decoration-color: #800080\">    0.01093300525099039     </span>│<span style=\"color: #800080; text-decoration-color: #800080\">   0.0001534304319648072   </span>│<span style=\"color: #800080; text-decoration-color: #800080\">   0.0009503160836175084    </span>│\n",
       "└───────────────────────────┴────────────────────────────┴───────────────────────────┴────────────────────────────┘\n",
       "</pre>\n"
      ],
      "text/plain": [
       "┏━━━━━━━━━━━━━━━━━━━━━━━━━━━┳━━━━━━━━━━━━━━━━━━━━━━━━━━━━┳━━━━━━━━━━━━━━━━━━━━━━━━━━━┳━━━━━━━━━━━━━━━━━━━━━━━━━━━━┓\n",
       "┃\u001b[1m \u001b[0m\u001b[1m       Test metric       \u001b[0m\u001b[1m \u001b[0m┃\u001b[1m \u001b[0m\u001b[1m       DataLoader 3       \u001b[0m\u001b[1m \u001b[0m┃\u001b[1m \u001b[0m\u001b[1m      DataLoader 4       \u001b[0m\u001b[1m \u001b[0m┃\u001b[1m \u001b[0m\u001b[1m       DataLoader 5       \u001b[0m\u001b[1m \u001b[0m┃\n",
       "┡━━━━━━━━━━━━━━━━━━━━━━━━━━━╇━━━━━━━━━━━━━━━━━━━━━━━━━━━━╇━━━━━━━━━━━━━━━━━━━━━━━━━━━╇━━━━━━━━━━━━━━━━━━━━━━━━━━━━┩\n",
       "│\u001b[36m \u001b[0m\u001b[36mcorr_coef_grad_sosstsst_…\u001b[0m\u001b[36m \u001b[0m│\u001b[35m \u001b[0m\u001b[35m    0.6714114546775818    \u001b[0m\u001b[35m \u001b[0m│\u001b[35m \u001b[0m\u001b[35m   0.23809805512428284   \u001b[0m\u001b[35m \u001b[0m│\u001b[35m \u001b[0m\u001b[35m    0.5250321626663208    \u001b[0m\u001b[35m \u001b[0m│\n",
       "│\u001b[36m \u001b[0m\u001b[36m corr_coef_sosstsst_var  \u001b[0m\u001b[36m \u001b[0m│\u001b[35m \u001b[0m\u001b[35m    0.8019294142723083    \u001b[0m\u001b[35m \u001b[0m│\u001b[35m \u001b[0m\u001b[35m   0.49191802740097046   \u001b[0m\u001b[35m \u001b[0m│\u001b[35m \u001b[0m\u001b[35m    0.5965473055839539    \u001b[0m\u001b[35m \u001b[0m│\n",
       "│\u001b[36m \u001b[0m\u001b[36m loss_grad_sosstsst_var  \u001b[0m\u001b[36m \u001b[0m│\u001b[35m \u001b[0m\u001b[35m   0.031341638416051865   \u001b[0m\u001b[35m \u001b[0m│\u001b[35m \u001b[0m\u001b[35m  1.260864905816561e-06  \u001b[0m\u001b[35m \u001b[0m│\u001b[35m \u001b[0m\u001b[35m  2.1941195882391185e-05  \u001b[0m\u001b[35m \u001b[0m│\n",
       "│\u001b[36m \u001b[0m\u001b[36m  loss_val_sosstsst_var  \u001b[0m\u001b[36m \u001b[0m│\u001b[35m \u001b[0m\u001b[35m   0.01093300525099039    \u001b[0m\u001b[35m \u001b[0m│\u001b[35m \u001b[0m\u001b[35m  0.0001534304319648072  \u001b[0m\u001b[35m \u001b[0m│\u001b[35m \u001b[0m\u001b[35m  0.0009503160836175084   \u001b[0m\u001b[35m \u001b[0m│\n",
       "└───────────────────────────┴────────────────────────────┴───────────────────────────┴────────────────────────────┘\n"
      ]
     },
     "metadata": {},
     "output_type": "display_data"
    },
    {
     "data": {
      "text/html": [
       "Waiting for W&B process to finish... <strong style=\"color:green\">(success).</strong>"
      ],
      "text/plain": [
       "<IPython.core.display.HTML object>"
      ]
     },
     "metadata": {},
     "output_type": "display_data"
    },
    {
     "data": {
      "application/vnd.jupyter.widget-view+json": {
       "model_id": "16f8ddad45c94a07adf281a0a2c82a61",
       "version_major": 2,
       "version_minor": 0
      },
      "text/plain": [
       "VBox(children=(Label(value='0.012 MB of 0.012 MB uploaded (0.000 MB deduped)\\r'), FloatProgress(value=1.0, max…"
      ]
     },
     "metadata": {},
     "output_type": "display_data"
    },
    {
     "data": {
      "text/html": [
       "<style>\n",
       "    table.wandb td:nth-child(1) { padding: 0 10px; text-align: left ; width: auto;} td:nth-child(2) {text-align: left ; width: 100%}\n",
       "    .wandb-row { display: flex; flex-direction: row; flex-wrap: wrap; justify-content: flex-start; width: 100% }\n",
       "    .wandb-col { display: flex; flex-direction: column; flex-basis: 100%; flex: 1; padding: 10px; }\n",
       "    </style>\n",
       "<div class=\"wandb-row\"><div class=\"wandb-col\"><h3>Run history:</h3><br/><table class=\"wandb\"><tr><td>corr_coef_grad_sosstsst_var/dataloader_idx_0</td><td>▁</td></tr><tr><td>corr_coef_grad_sosstsst_var/dataloader_idx_1</td><td>▁</td></tr><tr><td>corr_coef_grad_sosstsst_var/dataloader_idx_2</td><td>▁</td></tr><tr><td>corr_coef_grad_sosstsst_var/dataloader_idx_3</td><td>▁</td></tr><tr><td>corr_coef_grad_sosstsst_var/dataloader_idx_4</td><td>▁</td></tr><tr><td>corr_coef_grad_sosstsst_var/dataloader_idx_5</td><td>▁</td></tr><tr><td>corr_coef_sosstsst_var/dataloader_idx_0</td><td>▁</td></tr><tr><td>corr_coef_sosstsst_var/dataloader_idx_1</td><td>▁</td></tr><tr><td>corr_coef_sosstsst_var/dataloader_idx_2</td><td>▁</td></tr><tr><td>corr_coef_sosstsst_var/dataloader_idx_3</td><td>▁</td></tr><tr><td>corr_coef_sosstsst_var/dataloader_idx_4</td><td>▁</td></tr><tr><td>corr_coef_sosstsst_var/dataloader_idx_5</td><td>▁</td></tr><tr><td>epoch</td><td>▁▁▂▂▂▂▃▃▄▄▅▅▅▅▆▆▇▇▇▇█</td></tr><tr><td>first_weight</td><td>▁█▇▇██▇█▇█</td></tr><tr><td>loss_grad_sosstsst_var/dataloader_idx_0</td><td>▁</td></tr><tr><td>loss_grad_sosstsst_var/dataloader_idx_1</td><td>▁</td></tr><tr><td>loss_grad_sosstsst_var/dataloader_idx_2</td><td>▁</td></tr><tr><td>loss_grad_sosstsst_var/dataloader_idx_3</td><td>▁</td></tr><tr><td>loss_grad_sosstsst_var/dataloader_idx_4</td><td>▁</td></tr><tr><td>loss_grad_sosstsst_var/dataloader_idx_5</td><td>▁</td></tr><tr><td>loss_train</td><td>▅▄▄▂▃█▁▅▆▅</td></tr><tr><td>loss_val_sosstsst_var/dataloader_idx_0</td><td>▁</td></tr><tr><td>loss_val_sosstsst_var/dataloader_idx_1</td><td>▁</td></tr><tr><td>loss_val_sosstsst_var/dataloader_idx_2</td><td>▁</td></tr><tr><td>loss_val_sosstsst_var/dataloader_idx_3</td><td>▁</td></tr><tr><td>loss_val_sosstsst_var/dataloader_idx_4</td><td>▁</td></tr><tr><td>loss_val_sosstsst_var/dataloader_idx_5</td><td>▁</td></tr><tr><td>loss_validation</td><td>▅▅▄█▁▃▅▂▄▁</td></tr><tr><td>trainer/global_step</td><td>▁▁▂▂▃▃▃▃▄▄▅▅▆▆▆▆▇▇███</td></tr></table><br/></div><div class=\"wandb-col\"><h3>Run summary:</h3><br/><table class=\"wandb\"><tr><td>corr_coef_grad_sosstsst_var/dataloader_idx_0</td><td>0.70175</td></tr><tr><td>corr_coef_grad_sosstsst_var/dataloader_idx_1</td><td>0.76413</td></tr><tr><td>corr_coef_grad_sosstsst_var/dataloader_idx_2</td><td>0.58738</td></tr><tr><td>corr_coef_grad_sosstsst_var/dataloader_idx_3</td><td>0.67141</td></tr><tr><td>corr_coef_grad_sosstsst_var/dataloader_idx_4</td><td>0.2381</td></tr><tr><td>corr_coef_grad_sosstsst_var/dataloader_idx_5</td><td>0.52503</td></tr><tr><td>corr_coef_sosstsst_var/dataloader_idx_0</td><td>0.71379</td></tr><tr><td>corr_coef_sosstsst_var/dataloader_idx_1</td><td>0.75739</td></tr><tr><td>corr_coef_sosstsst_var/dataloader_idx_2</td><td>0.7858</td></tr><tr><td>corr_coef_sosstsst_var/dataloader_idx_3</td><td>0.80193</td></tr><tr><td>corr_coef_sosstsst_var/dataloader_idx_4</td><td>0.49192</td></tr><tr><td>corr_coef_sosstsst_var/dataloader_idx_5</td><td>0.59655</td></tr><tr><td>epoch</td><td>10</td></tr><tr><td>first_weight</td><td>0.18068</td></tr><tr><td>loss_grad_sosstsst_var/dataloader_idx_0</td><td>18.93072</td></tr><tr><td>loss_grad_sosstsst_var/dataloader_idx_1</td><td>0.96775</td></tr><tr><td>loss_grad_sosstsst_var/dataloader_idx_2</td><td>1.18593</td></tr><tr><td>loss_grad_sosstsst_var/dataloader_idx_3</td><td>0.03134</td></tr><tr><td>loss_grad_sosstsst_var/dataloader_idx_4</td><td>0.0</td></tr><tr><td>loss_grad_sosstsst_var/dataloader_idx_5</td><td>2e-05</td></tr><tr><td>loss_train</td><td>0.20093</td></tr><tr><td>loss_val_sosstsst_var/dataloader_idx_0</td><td>0.55318</td></tr><tr><td>loss_val_sosstsst_var/dataloader_idx_1</td><td>0.10663</td></tr><tr><td>loss_val_sosstsst_var/dataloader_idx_2</td><td>0.05597</td></tr><tr><td>loss_val_sosstsst_var/dataloader_idx_3</td><td>0.01093</td></tr><tr><td>loss_val_sosstsst_var/dataloader_idx_4</td><td>0.00015</td></tr><tr><td>loss_val_sosstsst_var/dataloader_idx_5</td><td>0.00095</td></tr><tr><td>loss_validation</td><td>0.12003</td></tr><tr><td>trainer/global_step</td><td>19530</td></tr></table><br/></div></div>"
      ],
      "text/plain": [
       "<IPython.core.display.HTML object>"
      ]
     },
     "metadata": {},
     "output_type": "display_data"
    },
    {
     "data": {
      "text/html": [
       " View run <strong style=\"color:#cdcd00\">LinReg_MSELoss2D</strong> at: <a href='https://wandb.ai/anagorb63/tests/runs/LinReg_MSELoss2D' target=\"_blank\">https://wandb.ai/anagorb63/tests/runs/LinReg_MSELoss2D</a><br/>Synced 6 W&B file(s), 0 media file(s), 2 artifact file(s) and 0 other file(s)"
      ],
      "text/plain": [
       "<IPython.core.display.HTML object>"
      ]
     },
     "metadata": {},
     "output_type": "display_data"
    },
    {
     "data": {
      "text/html": [
       "Find logs at: <code>./wandb/run-20230314_195522-LinReg_MSELoss2D/logs</code>"
      ],
      "text/plain": [
       "<IPython.core.display.HTML object>"
      ]
     },
     "metadata": {},
     "output_type": "display_data"
    }
   ],
   "source": [
    "config=dict({'model_label' : 'LinReg',\n",
    "                'version' : 'MSELoss2D',\n",
    "                'torch_model' : 'myParam.lin_regr_model',\n",
    "                'datamodule' : 'all_data_2D',\n",
    "                'torch_model_params' : dict({'data_geometry' : '2D',\\\n",
    "                                            'nb_of_input_features' : 1, \\\n",
    "                                            'nb_of_output_features' : 1}),\n",
    "                'module_params' : dict({'input_features'  : ['diff_sosstsst_sqr'],\n",
    "                                        'output_features'  : ['sosstsst_var'],\n",
    "                                        'output_units' : None,\n",
    "                                        'loss' : torch.nn.functional.mse_loss,\n",
    "                                        'optimizer' : torch.optim.SGD,\n",
    "                                        'learning_rate' : 1e-3,}),\n",
    "                'training_params' : dict({'max_epochs' : 100,\n",
    "                                          'limit_train_batches' : 1.0})\n",
    "               })\n",
    "run_experiment(config, project_name)"
   ]
  },
  {
   "cell_type": "code",
   "execution_count": 20,
   "id": "755998d8-0013-4fc7-90fa-6b0686535602",
   "metadata": {},
   "outputs": [
    {
     "data": {
      "application/vnd.jupyter.widget-view+json": {
       "model_id": "ad72fee6c6d54411a74896a0b8df5181",
       "version_major": 2,
       "version_minor": 0
      },
      "text/plain": [
       "VBox(children=(Label(value='Waiting for wandb.init()...\\r'), FloatProgress(value=0.016670565633345784, max=1.0…"
      ]
     },
     "metadata": {},
     "output_type": "display_data"
    },
    {
     "data": {
      "text/html": [
       "Tracking run with wandb version 0.13.11"
      ],
      "text/plain": [
       "<IPython.core.display.HTML object>"
      ]
     },
     "metadata": {},
     "output_type": "display_data"
    },
    {
     "data": {
      "text/html": [
       "Run data is saved locally in <code>./wandb/run-20230314_200245-LinReg_MSELoss3D</code>"
      ],
      "text/plain": [
       "<IPython.core.display.HTML object>"
      ]
     },
     "metadata": {},
     "output_type": "display_data"
    },
    {
     "data": {
      "text/html": [
       "Syncing run <strong><a href='https://wandb.ai/anagorb63/tests/runs/LinReg_MSELoss3D' target=\"_blank\">LinReg_MSELoss3D</a></strong> to <a href='https://wandb.ai/anagorb63/tests' target=\"_blank\">Weights & Biases</a> (<a href='https://wandb.me/run' target=\"_blank\">docs</a>)<br/>"
      ],
      "text/plain": [
       "<IPython.core.display.HTML object>"
      ]
     },
     "metadata": {},
     "output_type": "display_data"
    },
    {
     "data": {
      "text/html": [
       " View project at <a href='https://wandb.ai/anagorb63/tests' target=\"_blank\">https://wandb.ai/anagorb63/tests</a>"
      ],
      "text/plain": [
       "<IPython.core.display.HTML object>"
      ]
     },
     "metadata": {},
     "output_type": "display_data"
    },
    {
     "data": {
      "text/html": [
       " View run at <a href='https://wandb.ai/anagorb63/tests/runs/LinReg_MSELoss3D' target=\"_blank\">https://wandb.ai/anagorb63/tests/runs/LinReg_MSELoss3D</a>"
      ],
      "text/plain": [
       "<IPython.core.display.HTML object>"
      ]
     },
     "metadata": {},
     "output_type": "display_data"
    },
    {
     "name": "stderr",
     "output_type": "stream",
     "text": [
      "/srv/conda/envs/notebook/lib/python3.10/site-packages/pytorch_lightning/utilities/parsing.py:262: UserWarning: Attribute 'torch_model' is an instance of `nn.Module` and is already saved during checkpointing. It is recommended to ignore them using `self.save_hyperparameters(ignore=['torch_model'])`.\n",
      "  rank_zero_warn(\n",
      "GPU available: True (cuda), used: True\n",
      "TPU available: False, using: 0 TPU cores\n",
      "IPU available: False, using: 0 IPUs\n",
      "HPU available: False, using: 0 HPUs\n",
      "`Trainer(limit_train_batches=1.0)` was configured so 100% of the batches per epoch will be used..\n",
      "/srv/conda/envs/notebook/lib/python3.10/site-packages/pytorch_lightning/callbacks/model_checkpoint.py:604: UserWarning: Checkpoint directory ./tests/LinReg_MSELoss3D/checkpoints exists and is not empty.\n",
      "  rank_zero_warn(f\"Checkpoint directory {dirpath} exists and is not empty.\")\n",
      "LOCAL_RANK: 0 - CUDA_VISIBLE_DEVICES: [0]\n",
      "\n",
      "  | Name        | Type           | Params\n",
      "-----------------------------------------------\n",
      "0 | torch_model | lin_regr_model | 1     \n",
      "-----------------------------------------------\n",
      "1         Trainable params\n",
      "0         Non-trainable params\n",
      "1         Total params\n",
      "0.000     Total estimated model params size (MB)\n"
     ]
    },
    {
     "data": {
      "application/vnd.jupyter.widget-view+json": {
       "model_id": "",
       "version_major": 2,
       "version_minor": 0
      },
      "text/plain": [
       "Sanity Checking: 0it [00:00, ?it/s]"
      ]
     },
     "metadata": {},
     "output_type": "display_data"
    },
    {
     "data": {
      "application/vnd.jupyter.widget-view+json": {
       "model_id": "3fb223bccf4c4c618a2b09269928d902",
       "version_major": 2,
       "version_minor": 0
      },
      "text/plain": [
       "Training: 0it [00:00, ?it/s]"
      ]
     },
     "metadata": {},
     "output_type": "display_data"
    },
    {
     "data": {
      "application/vnd.jupyter.widget-view+json": {
       "model_id": "",
       "version_major": 2,
       "version_minor": 0
      },
      "text/plain": [
       "Validation: 0it [00:00, ?it/s]"
      ]
     },
     "metadata": {},
     "output_type": "display_data"
    },
    {
     "data": {
      "application/vnd.jupyter.widget-view+json": {
       "model_id": "",
       "version_major": 2,
       "version_minor": 0
      },
      "text/plain": [
       "Validation: 0it [00:00, ?it/s]"
      ]
     },
     "metadata": {},
     "output_type": "display_data"
    },
    {
     "data": {
      "application/vnd.jupyter.widget-view+json": {
       "model_id": "",
       "version_major": 2,
       "version_minor": 0
      },
      "text/plain": [
       "Validation: 0it [00:00, ?it/s]"
      ]
     },
     "metadata": {},
     "output_type": "display_data"
    },
    {
     "data": {
      "application/vnd.jupyter.widget-view+json": {
       "model_id": "",
       "version_major": 2,
       "version_minor": 0
      },
      "text/plain": [
       "Validation: 0it [00:00, ?it/s]"
      ]
     },
     "metadata": {},
     "output_type": "display_data"
    },
    {
     "data": {
      "application/vnd.jupyter.widget-view+json": {
       "model_id": "",
       "version_major": 2,
       "version_minor": 0
      },
      "text/plain": [
       "Validation: 0it [00:00, ?it/s]"
      ]
     },
     "metadata": {},
     "output_type": "display_data"
    },
    {
     "data": {
      "application/vnd.jupyter.widget-view+json": {
       "model_id": "",
       "version_major": 2,
       "version_minor": 0
      },
      "text/plain": [
       "Validation: 0it [00:00, ?it/s]"
      ]
     },
     "metadata": {},
     "output_type": "display_data"
    },
    {
     "name": "stderr",
     "output_type": "stream",
     "text": [
      "LOCAL_RANK: 0 - CUDA_VISIBLE_DEVICES: [0]\n"
     ]
    },
    {
     "data": {
      "application/vnd.jupyter.widget-view+json": {
       "model_id": "fca0628b3fb14acf8c0e23f28058eebb",
       "version_major": 2,
       "version_minor": 0
      },
      "text/plain": [
       "Testing: 0it [00:00, ?it/s]"
      ]
     },
     "metadata": {},
     "output_type": "display_data"
    },
    {
     "data": {
      "text/html": [
       "<pre style=\"white-space:pre;overflow-x:auto;line-height:normal;font-family:Menlo,'DejaVu Sans Mono',consolas,'Courier New',monospace\">┏━━━━━━━━━━━━━━━━━━━━━━━━━━━┳━━━━━━━━━━━━━━━━━━━━━━━━━━━━┳━━━━━━━━━━━━━━━━━━━━━━━━━━━┳━━━━━━━━━━━━━━━━━━━━━━━━━━━━┓\n",
       "┃<span style=\"font-weight: bold\">        Test metric        </span>┃<span style=\"font-weight: bold\">        DataLoader 0        </span>┃<span style=\"font-weight: bold\">       DataLoader 1        </span>┃<span style=\"font-weight: bold\">        DataLoader 2        </span>┃\n",
       "┡━━━━━━━━━━━━━━━━━━━━━━━━━━━╇━━━━━━━━━━━━━━━━━━━━━━━━━━━━╇━━━━━━━━━━━━━━━━━━━━━━━━━━━╇━━━━━━━━━━━━━━━━━━━━━━━━━━━━┩\n",
       "│<span style=\"color: #008080; text-decoration-color: #008080\"> corr_coef_grad_votemper_… </span>│<span style=\"color: #800080; text-decoration-color: #800080\">     0.6990439891815186     </span>│<span style=\"color: #800080; text-decoration-color: #800080\">    0.6940703392028809     </span>│<span style=\"color: #800080; text-decoration-color: #800080\">     0.6482446789741516     </span>│\n",
       "│<span style=\"color: #008080; text-decoration-color: #008080\">  corr_coef_votemper_var   </span>│<span style=\"color: #800080; text-decoration-color: #800080\">     0.7958106398582458     </span>│<span style=\"color: #800080; text-decoration-color: #800080\">     0.788307785987854     </span>│<span style=\"color: #800080; text-decoration-color: #800080\">     0.8395931124687195     </span>│\n",
       "│<span style=\"color: #008080; text-decoration-color: #008080\">  loss_grad_votemper_var   </span>│<span style=\"color: #800080; text-decoration-color: #800080\">     1.010498285293579      </span>│<span style=\"color: #800080; text-decoration-color: #800080\">    0.4460529088973999     </span>│<span style=\"color: #800080; text-decoration-color: #800080\">     0.3404309153556824     </span>│\n",
       "│<span style=\"color: #008080; text-decoration-color: #008080\">  loss_val_pressure_grad   </span>│<span style=\"color: #800080; text-decoration-color: #800080\">   1.0524437062796312e-08   </span>│<span style=\"color: #800080; text-decoration-color: #800080\">   1.000193218099007e-08   </span>│<span style=\"color: #800080; text-decoration-color: #800080\">   1.277788078683281e-08    </span>│\n",
       "│<span style=\"color: #008080; text-decoration-color: #008080\"> loss_val_pressure_grad_x  </span>│<span style=\"color: #800080; text-decoration-color: #800080\">   4.321333148244329e-09    </span>│<span style=\"color: #800080; text-decoration-color: #800080\">   4.57481468623353e-09    </span>│<span style=\"color: #800080; text-decoration-color: #800080\">   6.847951751491284e-09    </span>│\n",
       "│<span style=\"color: #008080; text-decoration-color: #008080\"> loss_val_pressure_grad_y  </span>│<span style=\"color: #800080; text-decoration-color: #800080\">   6.203103914551984e-09    </span>│<span style=\"color: #800080; text-decoration-color: #800080\">   5.427117494756541e-09   </span>│<span style=\"color: #800080; text-decoration-color: #800080\">   5.929929035341526e-09    </span>│\n",
       "│<span style=\"color: #008080; text-decoration-color: #008080\">   loss_val_votemper_var   </span>│<span style=\"color: #800080; text-decoration-color: #800080\">    0.07706894725561142     </span>│<span style=\"color: #800080; text-decoration-color: #800080\">   0.045105911791324615    </span>│<span style=\"color: #800080; text-decoration-color: #800080\">    0.01743333600461483     </span>│\n",
       "└───────────────────────────┴────────────────────────────┴───────────────────────────┴────────────────────────────┘\n",
       "</pre>\n"
      ],
      "text/plain": [
       "┏━━━━━━━━━━━━━━━━━━━━━━━━━━━┳━━━━━━━━━━━━━━━━━━━━━━━━━━━━┳━━━━━━━━━━━━━━━━━━━━━━━━━━━┳━━━━━━━━━━━━━━━━━━━━━━━━━━━━┓\n",
       "┃\u001b[1m \u001b[0m\u001b[1m       Test metric       \u001b[0m\u001b[1m \u001b[0m┃\u001b[1m \u001b[0m\u001b[1m       DataLoader 0       \u001b[0m\u001b[1m \u001b[0m┃\u001b[1m \u001b[0m\u001b[1m      DataLoader 1       \u001b[0m\u001b[1m \u001b[0m┃\u001b[1m \u001b[0m\u001b[1m       DataLoader 2       \u001b[0m\u001b[1m \u001b[0m┃\n",
       "┡━━━━━━━━━━━━━━━━━━━━━━━━━━━╇━━━━━━━━━━━━━━━━━━━━━━━━━━━━╇━━━━━━━━━━━━━━━━━━━━━━━━━━━╇━━━━━━━━━━━━━━━━━━━━━━━━━━━━┩\n",
       "│\u001b[36m \u001b[0m\u001b[36mcorr_coef_grad_votemper_…\u001b[0m\u001b[36m \u001b[0m│\u001b[35m \u001b[0m\u001b[35m    0.6990439891815186    \u001b[0m\u001b[35m \u001b[0m│\u001b[35m \u001b[0m\u001b[35m   0.6940703392028809    \u001b[0m\u001b[35m \u001b[0m│\u001b[35m \u001b[0m\u001b[35m    0.6482446789741516    \u001b[0m\u001b[35m \u001b[0m│\n",
       "│\u001b[36m \u001b[0m\u001b[36m corr_coef_votemper_var  \u001b[0m\u001b[36m \u001b[0m│\u001b[35m \u001b[0m\u001b[35m    0.7958106398582458    \u001b[0m\u001b[35m \u001b[0m│\u001b[35m \u001b[0m\u001b[35m    0.788307785987854    \u001b[0m\u001b[35m \u001b[0m│\u001b[35m \u001b[0m\u001b[35m    0.8395931124687195    \u001b[0m\u001b[35m \u001b[0m│\n",
       "│\u001b[36m \u001b[0m\u001b[36m loss_grad_votemper_var  \u001b[0m\u001b[36m \u001b[0m│\u001b[35m \u001b[0m\u001b[35m    1.010498285293579     \u001b[0m\u001b[35m \u001b[0m│\u001b[35m \u001b[0m\u001b[35m   0.4460529088973999    \u001b[0m\u001b[35m \u001b[0m│\u001b[35m \u001b[0m\u001b[35m    0.3404309153556824    \u001b[0m\u001b[35m \u001b[0m│\n",
       "│\u001b[36m \u001b[0m\u001b[36m loss_val_pressure_grad  \u001b[0m\u001b[36m \u001b[0m│\u001b[35m \u001b[0m\u001b[35m  1.0524437062796312e-08  \u001b[0m\u001b[35m \u001b[0m│\u001b[35m \u001b[0m\u001b[35m  1.000193218099007e-08  \u001b[0m\u001b[35m \u001b[0m│\u001b[35m \u001b[0m\u001b[35m  1.277788078683281e-08   \u001b[0m\u001b[35m \u001b[0m│\n",
       "│\u001b[36m \u001b[0m\u001b[36mloss_val_pressure_grad_x \u001b[0m\u001b[36m \u001b[0m│\u001b[35m \u001b[0m\u001b[35m  4.321333148244329e-09   \u001b[0m\u001b[35m \u001b[0m│\u001b[35m \u001b[0m\u001b[35m  4.57481468623353e-09   \u001b[0m\u001b[35m \u001b[0m│\u001b[35m \u001b[0m\u001b[35m  6.847951751491284e-09   \u001b[0m\u001b[35m \u001b[0m│\n",
       "│\u001b[36m \u001b[0m\u001b[36mloss_val_pressure_grad_y \u001b[0m\u001b[36m \u001b[0m│\u001b[35m \u001b[0m\u001b[35m  6.203103914551984e-09   \u001b[0m\u001b[35m \u001b[0m│\u001b[35m \u001b[0m\u001b[35m  5.427117494756541e-09  \u001b[0m\u001b[35m \u001b[0m│\u001b[35m \u001b[0m\u001b[35m  5.929929035341526e-09   \u001b[0m\u001b[35m \u001b[0m│\n",
       "│\u001b[36m \u001b[0m\u001b[36m  loss_val_votemper_var  \u001b[0m\u001b[36m \u001b[0m│\u001b[35m \u001b[0m\u001b[35m   0.07706894725561142    \u001b[0m\u001b[35m \u001b[0m│\u001b[35m \u001b[0m\u001b[35m  0.045105911791324615   \u001b[0m\u001b[35m \u001b[0m│\u001b[35m \u001b[0m\u001b[35m   0.01743333600461483    \u001b[0m\u001b[35m \u001b[0m│\n",
       "└───────────────────────────┴────────────────────────────┴───────────────────────────┴────────────────────────────┘\n"
      ]
     },
     "metadata": {},
     "output_type": "display_data"
    },
    {
     "data": {
      "text/html": [
       "<pre style=\"white-space:pre;overflow-x:auto;line-height:normal;font-family:Menlo,'DejaVu Sans Mono',consolas,'Courier New',monospace\">┏━━━━━━━━━━━━━━━━━━━━━━━━━━━┳━━━━━━━━━━━━━━━━━━━━━━━━━━━━┳━━━━━━━━━━━━━━━━━━━━━━━━━━━┳━━━━━━━━━━━━━━━━━━━━━━━━━━━━┓\n",
       "┃<span style=\"font-weight: bold\">        Test metric        </span>┃<span style=\"font-weight: bold\">        DataLoader 3        </span>┃<span style=\"font-weight: bold\">       DataLoader 4        </span>┃<span style=\"font-weight: bold\">        DataLoader 5        </span>┃\n",
       "┡━━━━━━━━━━━━━━━━━━━━━━━━━━━╇━━━━━━━━━━━━━━━━━━━━━━━━━━━━╇━━━━━━━━━━━━━━━━━━━━━━━━━━━╇━━━━━━━━━━━━━━━━━━━━━━━━━━━━┩\n",
       "│<span style=\"color: #008080; text-decoration-color: #008080\"> corr_coef_grad_votemper_… </span>│<span style=\"color: #800080; text-decoration-color: #800080\">     0.7831082344055176     </span>│<span style=\"color: #800080; text-decoration-color: #800080\">    0.5086991786956787     </span>│<span style=\"color: #800080; text-decoration-color: #800080\">     0.510320782661438      </span>│\n",
       "│<span style=\"color: #008080; text-decoration-color: #008080\">  corr_coef_votemper_var   </span>│<span style=\"color: #800080; text-decoration-color: #800080\">     0.8579773902893066     </span>│<span style=\"color: #800080; text-decoration-color: #800080\">    0.7896402478218079     </span>│<span style=\"color: #800080; text-decoration-color: #800080\">     0.7639501094818115     </span>│\n",
       "│<span style=\"color: #008080; text-decoration-color: #008080\">  loss_grad_votemper_var   </span>│<span style=\"color: #800080; text-decoration-color: #800080\">    0.30711647868156433     </span>│<span style=\"color: #800080; text-decoration-color: #800080\">  2.0970760772343056e-07   </span>│<span style=\"color: #800080; text-decoration-color: #800080\">   0.00012198056356282905   </span>│\n",
       "│<span style=\"color: #008080; text-decoration-color: #008080\">  loss_val_pressure_grad   </span>│<span style=\"color: #800080; text-decoration-color: #800080\">   5.797247171440368e-09    </span>│<span style=\"color: #800080; text-decoration-color: #800080\">   7.997597387121102e-12   </span>│<span style=\"color: #800080; text-decoration-color: #800080\">   5.1177471732213666e-11   </span>│\n",
       "│<span style=\"color: #008080; text-decoration-color: #008080\"> loss_val_pressure_grad_x  </span>│<span style=\"color: #800080; text-decoration-color: #800080\">   2.878587289345786e-09    </span>│<span style=\"color: #800080; text-decoration-color: #800080\">   3.824321950558324e-12   </span>│<span style=\"color: #800080; text-decoration-color: #800080\">   2.4924629651314188e-11   </span>│\n",
       "│<span style=\"color: #008080; text-decoration-color: #008080\"> loss_val_pressure_grad_y  </span>│<span style=\"color: #800080; text-decoration-color: #800080\">   2.9186598820945824e-09   </span>│<span style=\"color: #800080; text-decoration-color: #800080\">   4.173275436562778e-12   </span>│<span style=\"color: #800080; text-decoration-color: #800080\">   2.6252842080899475e-11   </span>│\n",
       "│<span style=\"color: #008080; text-decoration-color: #008080\">   loss_val_votemper_var   </span>│<span style=\"color: #800080; text-decoration-color: #800080\">    0.012013738043606281    </span>│<span style=\"color: #800080; text-decoration-color: #800080\">   5.933816282777116e-05   </span>│<span style=\"color: #800080; text-decoration-color: #800080\">   0.0007790336385369301    </span>│\n",
       "└───────────────────────────┴────────────────────────────┴───────────────────────────┴────────────────────────────┘\n",
       "</pre>\n"
      ],
      "text/plain": [
       "┏━━━━━━━━━━━━━━━━━━━━━━━━━━━┳━━━━━━━━━━━━━━━━━━━━━━━━━━━━┳━━━━━━━━━━━━━━━━━━━━━━━━━━━┳━━━━━━━━━━━━━━━━━━━━━━━━━━━━┓\n",
       "┃\u001b[1m \u001b[0m\u001b[1m       Test metric       \u001b[0m\u001b[1m \u001b[0m┃\u001b[1m \u001b[0m\u001b[1m       DataLoader 3       \u001b[0m\u001b[1m \u001b[0m┃\u001b[1m \u001b[0m\u001b[1m      DataLoader 4       \u001b[0m\u001b[1m \u001b[0m┃\u001b[1m \u001b[0m\u001b[1m       DataLoader 5       \u001b[0m\u001b[1m \u001b[0m┃\n",
       "┡━━━━━━━━━━━━━━━━━━━━━━━━━━━╇━━━━━━━━━━━━━━━━━━━━━━━━━━━━╇━━━━━━━━━━━━━━━━━━━━━━━━━━━╇━━━━━━━━━━━━━━━━━━━━━━━━━━━━┩\n",
       "│\u001b[36m \u001b[0m\u001b[36mcorr_coef_grad_votemper_…\u001b[0m\u001b[36m \u001b[0m│\u001b[35m \u001b[0m\u001b[35m    0.7831082344055176    \u001b[0m\u001b[35m \u001b[0m│\u001b[35m \u001b[0m\u001b[35m   0.5086991786956787    \u001b[0m\u001b[35m \u001b[0m│\u001b[35m \u001b[0m\u001b[35m    0.510320782661438     \u001b[0m\u001b[35m \u001b[0m│\n",
       "│\u001b[36m \u001b[0m\u001b[36m corr_coef_votemper_var  \u001b[0m\u001b[36m \u001b[0m│\u001b[35m \u001b[0m\u001b[35m    0.8579773902893066    \u001b[0m\u001b[35m \u001b[0m│\u001b[35m \u001b[0m\u001b[35m   0.7896402478218079    \u001b[0m\u001b[35m \u001b[0m│\u001b[35m \u001b[0m\u001b[35m    0.7639501094818115    \u001b[0m\u001b[35m \u001b[0m│\n",
       "│\u001b[36m \u001b[0m\u001b[36m loss_grad_votemper_var  \u001b[0m\u001b[36m \u001b[0m│\u001b[35m \u001b[0m\u001b[35m   0.30711647868156433    \u001b[0m\u001b[35m \u001b[0m│\u001b[35m \u001b[0m\u001b[35m 2.0970760772343056e-07  \u001b[0m\u001b[35m \u001b[0m│\u001b[35m \u001b[0m\u001b[35m  0.00012198056356282905  \u001b[0m\u001b[35m \u001b[0m│\n",
       "│\u001b[36m \u001b[0m\u001b[36m loss_val_pressure_grad  \u001b[0m\u001b[36m \u001b[0m│\u001b[35m \u001b[0m\u001b[35m  5.797247171440368e-09   \u001b[0m\u001b[35m \u001b[0m│\u001b[35m \u001b[0m\u001b[35m  7.997597387121102e-12  \u001b[0m\u001b[35m \u001b[0m│\u001b[35m \u001b[0m\u001b[35m  5.1177471732213666e-11  \u001b[0m\u001b[35m \u001b[0m│\n",
       "│\u001b[36m \u001b[0m\u001b[36mloss_val_pressure_grad_x \u001b[0m\u001b[36m \u001b[0m│\u001b[35m \u001b[0m\u001b[35m  2.878587289345786e-09   \u001b[0m\u001b[35m \u001b[0m│\u001b[35m \u001b[0m\u001b[35m  3.824321950558324e-12  \u001b[0m\u001b[35m \u001b[0m│\u001b[35m \u001b[0m\u001b[35m  2.4924629651314188e-11  \u001b[0m\u001b[35m \u001b[0m│\n",
       "│\u001b[36m \u001b[0m\u001b[36mloss_val_pressure_grad_y \u001b[0m\u001b[36m \u001b[0m│\u001b[35m \u001b[0m\u001b[35m  2.9186598820945824e-09  \u001b[0m\u001b[35m \u001b[0m│\u001b[35m \u001b[0m\u001b[35m  4.173275436562778e-12  \u001b[0m\u001b[35m \u001b[0m│\u001b[35m \u001b[0m\u001b[35m  2.6252842080899475e-11  \u001b[0m\u001b[35m \u001b[0m│\n",
       "│\u001b[36m \u001b[0m\u001b[36m  loss_val_votemper_var  \u001b[0m\u001b[36m \u001b[0m│\u001b[35m \u001b[0m\u001b[35m   0.012013738043606281   \u001b[0m\u001b[35m \u001b[0m│\u001b[35m \u001b[0m\u001b[35m  5.933816282777116e-05  \u001b[0m\u001b[35m \u001b[0m│\u001b[35m \u001b[0m\u001b[35m  0.0007790336385369301   \u001b[0m\u001b[35m \u001b[0m│\n",
       "└───────────────────────────┴────────────────────────────┴───────────────────────────┴────────────────────────────┘\n"
      ]
     },
     "metadata": {},
     "output_type": "display_data"
    },
    {
     "data": {
      "text/html": [
       "Waiting for W&B process to finish... <strong style=\"color:green\">(success).</strong>"
      ],
      "text/plain": [
       "<IPython.core.display.HTML object>"
      ]
     },
     "metadata": {},
     "output_type": "display_data"
    },
    {
     "data": {
      "application/vnd.jupyter.widget-view+json": {
       "model_id": "a467c5b4e4754ff98a61ee99d21e9683",
       "version_major": 2,
       "version_minor": 0
      },
      "text/plain": [
       "VBox(children=(Label(value='0.012 MB of 0.012 MB uploaded (0.000 MB deduped)\\r'), FloatProgress(value=1.0, max…"
      ]
     },
     "metadata": {},
     "output_type": "display_data"
    },
    {
     "data": {
      "text/html": [
       "<style>\n",
       "    table.wandb td:nth-child(1) { padding: 0 10px; text-align: left ; width: auto;} td:nth-child(2) {text-align: left ; width: 100%}\n",
       "    .wandb-row { display: flex; flex-direction: row; flex-wrap: wrap; justify-content: flex-start; width: 100% }\n",
       "    .wandb-col { display: flex; flex-direction: column; flex-basis: 100%; flex: 1; padding: 10px; }\n",
       "    </style>\n",
       "<div class=\"wandb-row\"><div class=\"wandb-col\"><h3>Run history:</h3><br/><table class=\"wandb\"><tr><td>corr_coef_grad_votemper_var/dataloader_idx_0</td><td>▁</td></tr><tr><td>corr_coef_grad_votemper_var/dataloader_idx_1</td><td>▁</td></tr><tr><td>corr_coef_grad_votemper_var/dataloader_idx_2</td><td>▁</td></tr><tr><td>corr_coef_grad_votemper_var/dataloader_idx_3</td><td>▁</td></tr><tr><td>corr_coef_grad_votemper_var/dataloader_idx_4</td><td>▁</td></tr><tr><td>corr_coef_grad_votemper_var/dataloader_idx_5</td><td>▁</td></tr><tr><td>corr_coef_votemper_var/dataloader_idx_0</td><td>▁</td></tr><tr><td>corr_coef_votemper_var/dataloader_idx_1</td><td>▁</td></tr><tr><td>corr_coef_votemper_var/dataloader_idx_2</td><td>▁</td></tr><tr><td>corr_coef_votemper_var/dataloader_idx_3</td><td>▁</td></tr><tr><td>corr_coef_votemper_var/dataloader_idx_4</td><td>▁</td></tr><tr><td>corr_coef_votemper_var/dataloader_idx_5</td><td>▁</td></tr><tr><td>epoch</td><td>▁▁▂▂▃▃▅▅▆▆▇▇█</td></tr><tr><td>first_weight</td><td>▁▅▇▇██</td></tr><tr><td>loss_grad_votemper_var/dataloader_idx_0</td><td>▁</td></tr><tr><td>loss_grad_votemper_var/dataloader_idx_1</td><td>▁</td></tr><tr><td>loss_grad_votemper_var/dataloader_idx_2</td><td>▁</td></tr><tr><td>loss_grad_votemper_var/dataloader_idx_3</td><td>▁</td></tr><tr><td>loss_grad_votemper_var/dataloader_idx_4</td><td>▁</td></tr><tr><td>loss_grad_votemper_var/dataloader_idx_5</td><td>▁</td></tr><tr><td>loss_train</td><td>█▄▁▇▄▃</td></tr><tr><td>loss_val_pressure_grad/dataloader_idx_0</td><td>▁</td></tr><tr><td>loss_val_pressure_grad/dataloader_idx_1</td><td>▁</td></tr><tr><td>loss_val_pressure_grad/dataloader_idx_2</td><td>▁</td></tr><tr><td>loss_val_pressure_grad/dataloader_idx_3</td><td>▁</td></tr><tr><td>loss_val_pressure_grad/dataloader_idx_4</td><td>▁</td></tr><tr><td>loss_val_pressure_grad/dataloader_idx_5</td><td>▁</td></tr><tr><td>loss_val_pressure_grad_x/dataloader_idx_0</td><td>▁</td></tr><tr><td>loss_val_pressure_grad_x/dataloader_idx_1</td><td>▁</td></tr><tr><td>loss_val_pressure_grad_x/dataloader_idx_2</td><td>▁</td></tr><tr><td>loss_val_pressure_grad_x/dataloader_idx_3</td><td>▁</td></tr><tr><td>loss_val_pressure_grad_x/dataloader_idx_4</td><td>▁</td></tr><tr><td>loss_val_pressure_grad_x/dataloader_idx_5</td><td>▁</td></tr><tr><td>loss_val_pressure_grad_y/dataloader_idx_0</td><td>▁</td></tr><tr><td>loss_val_pressure_grad_y/dataloader_idx_1</td><td>▁</td></tr><tr><td>loss_val_pressure_grad_y/dataloader_idx_2</td><td>▁</td></tr><tr><td>loss_val_pressure_grad_y/dataloader_idx_3</td><td>▁</td></tr><tr><td>loss_val_pressure_grad_y/dataloader_idx_4</td><td>▁</td></tr><tr><td>loss_val_pressure_grad_y/dataloader_idx_5</td><td>▁</td></tr><tr><td>loss_val_votemper_var/dataloader_idx_0</td><td>▁</td></tr><tr><td>loss_val_votemper_var/dataloader_idx_1</td><td>▁</td></tr><tr><td>loss_val_votemper_var/dataloader_idx_2</td><td>▁</td></tr><tr><td>loss_val_votemper_var/dataloader_idx_3</td><td>▁</td></tr><tr><td>loss_val_votemper_var/dataloader_idx_4</td><td>▁</td></tr><tr><td>loss_val_votemper_var/dataloader_idx_5</td><td>▁</td></tr><tr><td>loss_validation</td><td>█▂▁▁▂▂</td></tr><tr><td>trainer/global_step</td><td>▁▁▂▂▄▄▅▅▇▇███</td></tr></table><br/></div><div class=\"wandb-col\"><h3>Run summary:</h3><br/><table class=\"wandb\"><tr><td>corr_coef_grad_votemper_var/dataloader_idx_0</td><td>0.69904</td></tr><tr><td>corr_coef_grad_votemper_var/dataloader_idx_1</td><td>0.69407</td></tr><tr><td>corr_coef_grad_votemper_var/dataloader_idx_2</td><td>0.64824</td></tr><tr><td>corr_coef_grad_votemper_var/dataloader_idx_3</td><td>0.78311</td></tr><tr><td>corr_coef_grad_votemper_var/dataloader_idx_4</td><td>0.5087</td></tr><tr><td>corr_coef_grad_votemper_var/dataloader_idx_5</td><td>0.51032</td></tr><tr><td>corr_coef_votemper_var/dataloader_idx_0</td><td>0.79581</td></tr><tr><td>corr_coef_votemper_var/dataloader_idx_1</td><td>0.78831</td></tr><tr><td>corr_coef_votemper_var/dataloader_idx_2</td><td>0.83959</td></tr><tr><td>corr_coef_votemper_var/dataloader_idx_3</td><td>0.85798</td></tr><tr><td>corr_coef_votemper_var/dataloader_idx_4</td><td>0.78964</td></tr><tr><td>corr_coef_votemper_var/dataloader_idx_5</td><td>0.76395</td></tr><tr><td>epoch</td><td>6</td></tr><tr><td>first_weight</td><td>0.12256</td></tr><tr><td>loss_grad_votemper_var/dataloader_idx_0</td><td>1.0105</td></tr><tr><td>loss_grad_votemper_var/dataloader_idx_1</td><td>0.44605</td></tr><tr><td>loss_grad_votemper_var/dataloader_idx_2</td><td>0.34043</td></tr><tr><td>loss_grad_votemper_var/dataloader_idx_3</td><td>0.30712</td></tr><tr><td>loss_grad_votemper_var/dataloader_idx_4</td><td>0.0</td></tr><tr><td>loss_grad_votemper_var/dataloader_idx_5</td><td>0.00012</td></tr><tr><td>loss_train</td><td>0.0299</td></tr><tr><td>loss_val_pressure_grad/dataloader_idx_0</td><td>0.0</td></tr><tr><td>loss_val_pressure_grad/dataloader_idx_1</td><td>0.0</td></tr><tr><td>loss_val_pressure_grad/dataloader_idx_2</td><td>0.0</td></tr><tr><td>loss_val_pressure_grad/dataloader_idx_3</td><td>0.0</td></tr><tr><td>loss_val_pressure_grad/dataloader_idx_4</td><td>0.0</td></tr><tr><td>loss_val_pressure_grad/dataloader_idx_5</td><td>0.0</td></tr><tr><td>loss_val_pressure_grad_x/dataloader_idx_0</td><td>0.0</td></tr><tr><td>loss_val_pressure_grad_x/dataloader_idx_1</td><td>0.0</td></tr><tr><td>loss_val_pressure_grad_x/dataloader_idx_2</td><td>0.0</td></tr><tr><td>loss_val_pressure_grad_x/dataloader_idx_3</td><td>0.0</td></tr><tr><td>loss_val_pressure_grad_x/dataloader_idx_4</td><td>0.0</td></tr><tr><td>loss_val_pressure_grad_x/dataloader_idx_5</td><td>0.0</td></tr><tr><td>loss_val_pressure_grad_y/dataloader_idx_0</td><td>0.0</td></tr><tr><td>loss_val_pressure_grad_y/dataloader_idx_1</td><td>0.0</td></tr><tr><td>loss_val_pressure_grad_y/dataloader_idx_2</td><td>0.0</td></tr><tr><td>loss_val_pressure_grad_y/dataloader_idx_3</td><td>0.0</td></tr><tr><td>loss_val_pressure_grad_y/dataloader_idx_4</td><td>0.0</td></tr><tr><td>loss_val_pressure_grad_y/dataloader_idx_5</td><td>0.0</td></tr><tr><td>loss_val_votemper_var/dataloader_idx_0</td><td>0.07707</td></tr><tr><td>loss_val_votemper_var/dataloader_idx_1</td><td>0.04511</td></tr><tr><td>loss_val_votemper_var/dataloader_idx_2</td><td>0.01743</td></tr><tr><td>loss_val_votemper_var/dataloader_idx_3</td><td>0.01201</td></tr><tr><td>loss_val_votemper_var/dataloader_idx_4</td><td>6e-05</td></tr><tr><td>loss_val_votemper_var/dataloader_idx_5</td><td>0.00078</td></tr><tr><td>loss_validation</td><td>0.02595</td></tr><tr><td>trainer/global_step</td><td>474</td></tr></table><br/></div></div>"
      ],
      "text/plain": [
       "<IPython.core.display.HTML object>"
      ]
     },
     "metadata": {},
     "output_type": "display_data"
    },
    {
     "data": {
      "text/html": [
       " View run <strong style=\"color:#cdcd00\">LinReg_MSELoss3D</strong> at: <a href='https://wandb.ai/anagorb63/tests/runs/LinReg_MSELoss3D' target=\"_blank\">https://wandb.ai/anagorb63/tests/runs/LinReg_MSELoss3D</a><br/>Synced 6 W&B file(s), 0 media file(s), 2 artifact file(s) and 0 other file(s)"
      ],
      "text/plain": [
       "<IPython.core.display.HTML object>"
      ]
     },
     "metadata": {},
     "output_type": "display_data"
    },
    {
     "data": {
      "text/html": [
       "Find logs at: <code>./wandb/run-20230314_200245-LinReg_MSELoss3D/logs</code>"
      ],
      "text/plain": [
       "<IPython.core.display.HTML object>"
      ]
     },
     "metadata": {},
     "output_type": "display_data"
    }
   ],
   "source": [
    "config=dict({'model_label' : 'LinReg',\n",
    "                'version' : 'MSELoss3D',\n",
    "                'torch_model' : 'myParam.lin_regr_model',\n",
    "                'datamodule' : 'all_data_3D',\n",
    "                'torch_model_params' : dict({'data_geometry' : '3D',\\\n",
    "                                            'nb_of_input_features' : 1, \\\n",
    "                                            'nb_of_output_features' : 1}),\n",
    "                'module_params' : dict({'input_features'  : ['diff_votemper_sqr'],\n",
    "                                        'output_features'  : ['votemper_var'],\n",
    "                                        'output_units' : None,\n",
    "                                        'loss' : torch.nn.functional.mse_loss,\n",
    "                                        'optimizer' : torch.optim.SGD,\n",
    "                                        'learning_rate' : 1e-3,}),\n",
    "                'training_params' : dict({'max_epochs' : 100,\n",
    "                                          'limit_train_batches' : 1.0})\n",
    "               })\n",
    "run_experiment(config, project_name)"
   ]
  },
  {
   "cell_type": "markdown",
   "id": "3bb75fab-8a76-49eb-b102-5b3d71e2f405",
   "metadata": {},
   "source": [
    "## FCNN"
   ]
  },
  {
   "cell_type": "code",
   "execution_count": 21,
   "id": "1ac0c84c-840b-452d-a87e-95cebcbc2872",
   "metadata": {},
   "outputs": [
    {
     "data": {
      "application/vnd.jupyter.widget-view+json": {
       "model_id": "994aa78f934b44919d19b3e8694d7bea",
       "version_major": 2,
       "version_minor": 0
      },
      "text/plain": [
       "VBox(children=(Label(value='Waiting for wandb.init()...\\r'), FloatProgress(value=0.01666875116667749, max=1.0)…"
      ]
     },
     "metadata": {},
     "output_type": "display_data"
    },
    {
     "data": {
      "text/html": [
       "Tracking run with wandb version 0.13.11"
      ],
      "text/plain": [
       "<IPython.core.display.HTML object>"
      ]
     },
     "metadata": {},
     "output_type": "display_data"
    },
    {
     "data": {
      "text/html": [
       "Run data is saved locally in <code>./wandb/run-20230314_200331-FCNN_patch_in3_out1_val_loss3D_nn_nf</code>"
      ],
      "text/plain": [
       "<IPython.core.display.HTML object>"
      ]
     },
     "metadata": {},
     "output_type": "display_data"
    },
    {
     "data": {
      "text/html": [
       "Syncing run <strong><a href='https://wandb.ai/anagorb63/tests/runs/FCNN_patch_in3_out1_val_loss3D_nn_nf' target=\"_blank\">FCNN_patch_in3_out1_val_loss3D_nn_nf</a></strong> to <a href='https://wandb.ai/anagorb63/tests' target=\"_blank\">Weights & Biases</a> (<a href='https://wandb.me/run' target=\"_blank\">docs</a>)<br/>"
      ],
      "text/plain": [
       "<IPython.core.display.HTML object>"
      ]
     },
     "metadata": {},
     "output_type": "display_data"
    },
    {
     "data": {
      "text/html": [
       " View project at <a href='https://wandb.ai/anagorb63/tests' target=\"_blank\">https://wandb.ai/anagorb63/tests</a>"
      ],
      "text/plain": [
       "<IPython.core.display.HTML object>"
      ]
     },
     "metadata": {},
     "output_type": "display_data"
    },
    {
     "data": {
      "text/html": [
       " View run at <a href='https://wandb.ai/anagorb63/tests/runs/FCNN_patch_in3_out1_val_loss3D_nn_nf' target=\"_blank\">https://wandb.ai/anagorb63/tests/runs/FCNN_patch_in3_out1_val_loss3D_nn_nf</a>"
      ],
      "text/plain": [
       "<IPython.core.display.HTML object>"
      ]
     },
     "metadata": {},
     "output_type": "display_data"
    },
    {
     "name": "stderr",
     "output_type": "stream",
     "text": [
      "/srv/conda/envs/notebook/lib/python3.10/site-packages/pytorch_lightning/utilities/parsing.py:262: UserWarning: Attribute 'torch_model' is an instance of `nn.Module` and is already saved during checkpointing. It is recommended to ignore them using `self.save_hyperparameters(ignore=['torch_model'])`.\n",
      "  rank_zero_warn(\n",
      "GPU available: True (cuda), used: True\n",
      "TPU available: False, using: 0 TPU cores\n",
      "IPU available: False, using: 0 IPUs\n",
      "HPU available: False, using: 0 HPUs\n",
      "`Trainer(limit_train_batches=1.0)` was configured so 100% of the batches per epoch will be used..\n",
      "LOCAL_RANK: 0 - CUDA_VISIBLE_DEVICES: [0]\n",
      "\n",
      "  | Name        | Type | Params\n",
      "-------------------------------------\n",
      "0 | torch_model | FCNN | 3.1 K \n",
      "-------------------------------------\n",
      "3.1 K     Trainable params\n",
      "0         Non-trainable params\n",
      "3.1 K     Total params\n",
      "0.012     Total estimated model params size (MB)\n"
     ]
    },
    {
     "data": {
      "application/vnd.jupyter.widget-view+json": {
       "model_id": "",
       "version_major": 2,
       "version_minor": 0
      },
      "text/plain": [
       "Sanity Checking: 0it [00:00, ?it/s]"
      ]
     },
     "metadata": {},
     "output_type": "display_data"
    },
    {
     "data": {
      "application/vnd.jupyter.widget-view+json": {
       "model_id": "43f14afad71a4be8af0e2207569f37d8",
       "version_major": 2,
       "version_minor": 0
      },
      "text/plain": [
       "Training: 0it [00:00, ?it/s]"
      ]
     },
     "metadata": {},
     "output_type": "display_data"
    },
    {
     "data": {
      "application/vnd.jupyter.widget-view+json": {
       "model_id": "",
       "version_major": 2,
       "version_minor": 0
      },
      "text/plain": [
       "Validation: 0it [00:00, ?it/s]"
      ]
     },
     "metadata": {},
     "output_type": "display_data"
    },
    {
     "data": {
      "application/vnd.jupyter.widget-view+json": {
       "model_id": "",
       "version_major": 2,
       "version_minor": 0
      },
      "text/plain": [
       "Validation: 0it [00:00, ?it/s]"
      ]
     },
     "metadata": {},
     "output_type": "display_data"
    },
    {
     "data": {
      "application/vnd.jupyter.widget-view+json": {
       "model_id": "",
       "version_major": 2,
       "version_minor": 0
      },
      "text/plain": [
       "Validation: 0it [00:00, ?it/s]"
      ]
     },
     "metadata": {},
     "output_type": "display_data"
    },
    {
     "data": {
      "application/vnd.jupyter.widget-view+json": {
       "model_id": "",
       "version_major": 2,
       "version_minor": 0
      },
      "text/plain": [
       "Validation: 0it [00:00, ?it/s]"
      ]
     },
     "metadata": {},
     "output_type": "display_data"
    },
    {
     "data": {
      "application/vnd.jupyter.widget-view+json": {
       "model_id": "",
       "version_major": 2,
       "version_minor": 0
      },
      "text/plain": [
       "Validation: 0it [00:00, ?it/s]"
      ]
     },
     "metadata": {},
     "output_type": "display_data"
    },
    {
     "data": {
      "application/vnd.jupyter.widget-view+json": {
       "model_id": "",
       "version_major": 2,
       "version_minor": 0
      },
      "text/plain": [
       "Validation: 0it [00:00, ?it/s]"
      ]
     },
     "metadata": {},
     "output_type": "display_data"
    },
    {
     "data": {
      "application/vnd.jupyter.widget-view+json": {
       "model_id": "",
       "version_major": 2,
       "version_minor": 0
      },
      "text/plain": [
       "Validation: 0it [00:00, ?it/s]"
      ]
     },
     "metadata": {},
     "output_type": "display_data"
    },
    {
     "data": {
      "application/vnd.jupyter.widget-view+json": {
       "model_id": "",
       "version_major": 2,
       "version_minor": 0
      },
      "text/plain": [
       "Validation: 0it [00:00, ?it/s]"
      ]
     },
     "metadata": {},
     "output_type": "display_data"
    },
    {
     "data": {
      "application/vnd.jupyter.widget-view+json": {
       "model_id": "",
       "version_major": 2,
       "version_minor": 0
      },
      "text/plain": [
       "Validation: 0it [00:00, ?it/s]"
      ]
     },
     "metadata": {},
     "output_type": "display_data"
    },
    {
     "data": {
      "application/vnd.jupyter.widget-view+json": {
       "model_id": "",
       "version_major": 2,
       "version_minor": 0
      },
      "text/plain": [
       "Validation: 0it [00:00, ?it/s]"
      ]
     },
     "metadata": {},
     "output_type": "display_data"
    },
    {
     "data": {
      "application/vnd.jupyter.widget-view+json": {
       "model_id": "",
       "version_major": 2,
       "version_minor": 0
      },
      "text/plain": [
       "Validation: 0it [00:00, ?it/s]"
      ]
     },
     "metadata": {},
     "output_type": "display_data"
    },
    {
     "data": {
      "application/vnd.jupyter.widget-view+json": {
       "model_id": "",
       "version_major": 2,
       "version_minor": 0
      },
      "text/plain": [
       "Validation: 0it [00:00, ?it/s]"
      ]
     },
     "metadata": {},
     "output_type": "display_data"
    },
    {
     "data": {
      "application/vnd.jupyter.widget-view+json": {
       "model_id": "",
       "version_major": 2,
       "version_minor": 0
      },
      "text/plain": [
       "Validation: 0it [00:00, ?it/s]"
      ]
     },
     "metadata": {},
     "output_type": "display_data"
    },
    {
     "name": "stderr",
     "output_type": "stream",
     "text": [
      "LOCAL_RANK: 0 - CUDA_VISIBLE_DEVICES: [0]\n"
     ]
    },
    {
     "data": {
      "application/vnd.jupyter.widget-view+json": {
       "model_id": "737cc5ab3dee4c9ebffd2189b4b232bd",
       "version_major": 2,
       "version_minor": 0
      },
      "text/plain": [
       "Testing: 0it [00:00, ?it/s]"
      ]
     },
     "metadata": {},
     "output_type": "display_data"
    },
    {
     "data": {
      "text/html": [
       "<pre style=\"white-space:pre;overflow-x:auto;line-height:normal;font-family:Menlo,'DejaVu Sans Mono',consolas,'Courier New',monospace\">┏━━━━━━━━━━━━━━━━━━━━━━━━━━━┳━━━━━━━━━━━━━━━━━━━━━━━━━━━━┳━━━━━━━━━━━━━━━━━━━━━━━━━━━┳━━━━━━━━━━━━━━━━━━━━━━━━━━━━┓\n",
       "┃<span style=\"font-weight: bold\">        Test metric        </span>┃<span style=\"font-weight: bold\">        DataLoader 0        </span>┃<span style=\"font-weight: bold\">       DataLoader 1        </span>┃<span style=\"font-weight: bold\">        DataLoader 2        </span>┃\n",
       "┡━━━━━━━━━━━━━━━━━━━━━━━━━━━╇━━━━━━━━━━━━━━━━━━━━━━━━━━━━╇━━━━━━━━━━━━━━━━━━━━━━━━━━━╇━━━━━━━━━━━━━━━━━━━━━━━━━━━━┩\n",
       "│<span style=\"color: #008080; text-decoration-color: #008080\"> corr_coef_grad_votemper_… </span>│<span style=\"color: #800080; text-decoration-color: #800080\">     0.6576245427131653     </span>│<span style=\"color: #800080; text-decoration-color: #800080\">    0.5826008319854736     </span>│<span style=\"color: #800080; text-decoration-color: #800080\">     0.5378803610801697     </span>│\n",
       "│<span style=\"color: #008080; text-decoration-color: #008080\">  corr_coef_votemper_var   </span>│<span style=\"color: #800080; text-decoration-color: #800080\">     0.8254888653755188     </span>│<span style=\"color: #800080; text-decoration-color: #800080\">    0.8173369765281677     </span>│<span style=\"color: #800080; text-decoration-color: #800080\">     0.7789085507392883     </span>│\n",
       "│<span style=\"color: #008080; text-decoration-color: #008080\">  loss_grad_votemper_var   </span>│<span style=\"color: #800080; text-decoration-color: #800080\">     0.801144540309906      </span>│<span style=\"color: #800080; text-decoration-color: #800080\">    0.4878673553466797     </span>│<span style=\"color: #800080; text-decoration-color: #800080\">    0.39402973651885986     </span>│\n",
       "│<span style=\"color: #008080; text-decoration-color: #008080\">  loss_val_pressure_grad   </span>│<span style=\"color: #800080; text-decoration-color: #800080\">   1.6250481751568312e-08   </span>│<span style=\"color: #800080; text-decoration-color: #800080\">  1.6060057959420397e-08   </span>│<span style=\"color: #800080; text-decoration-color: #800080\">   2.4736964745741803e-08   </span>│\n",
       "│<span style=\"color: #008080; text-decoration-color: #008080\"> loss_val_pressure_grad_x  </span>│<span style=\"color: #800080; text-decoration-color: #800080\">   8.584784071453151e-09    </span>│<span style=\"color: #800080; text-decoration-color: #800080\">   9.536615473800787e-09   </span>│<span style=\"color: #800080; text-decoration-color: #800080\">   1.2809833305476424e-08   </span>│\n",
       "│<span style=\"color: #008080; text-decoration-color: #008080\"> loss_val_pressure_grad_y  </span>│<span style=\"color: #800080; text-decoration-color: #800080\">   7.665697680115162e-09    </span>│<span style=\"color: #800080; text-decoration-color: #800080\">  6.5234424856196085e-09   </span>│<span style=\"color: #800080; text-decoration-color: #800080\">   1.1927131440265377e-08   </span>│\n",
       "│<span style=\"color: #008080; text-decoration-color: #008080\">   loss_val_votemper_var   </span>│<span style=\"color: #800080; text-decoration-color: #800080\">    0.05621855705976486     </span>│<span style=\"color: #800080; text-decoration-color: #800080\">   0.024662019684910774    </span>│<span style=\"color: #800080; text-decoration-color: #800080\">    0.025645434856414795    </span>│\n",
       "└───────────────────────────┴────────────────────────────┴───────────────────────────┴────────────────────────────┘\n",
       "</pre>\n"
      ],
      "text/plain": [
       "┏━━━━━━━━━━━━━━━━━━━━━━━━━━━┳━━━━━━━━━━━━━━━━━━━━━━━━━━━━┳━━━━━━━━━━━━━━━━━━━━━━━━━━━┳━━━━━━━━━━━━━━━━━━━━━━━━━━━━┓\n",
       "┃\u001b[1m \u001b[0m\u001b[1m       Test metric       \u001b[0m\u001b[1m \u001b[0m┃\u001b[1m \u001b[0m\u001b[1m       DataLoader 0       \u001b[0m\u001b[1m \u001b[0m┃\u001b[1m \u001b[0m\u001b[1m      DataLoader 1       \u001b[0m\u001b[1m \u001b[0m┃\u001b[1m \u001b[0m\u001b[1m       DataLoader 2       \u001b[0m\u001b[1m \u001b[0m┃\n",
       "┡━━━━━━━━━━━━━━━━━━━━━━━━━━━╇━━━━━━━━━━━━━━━━━━━━━━━━━━━━╇━━━━━━━━━━━━━━━━━━━━━━━━━━━╇━━━━━━━━━━━━━━━━━━━━━━━━━━━━┩\n",
       "│\u001b[36m \u001b[0m\u001b[36mcorr_coef_grad_votemper_…\u001b[0m\u001b[36m \u001b[0m│\u001b[35m \u001b[0m\u001b[35m    0.6576245427131653    \u001b[0m\u001b[35m \u001b[0m│\u001b[35m \u001b[0m\u001b[35m   0.5826008319854736    \u001b[0m\u001b[35m \u001b[0m│\u001b[35m \u001b[0m\u001b[35m    0.5378803610801697    \u001b[0m\u001b[35m \u001b[0m│\n",
       "│\u001b[36m \u001b[0m\u001b[36m corr_coef_votemper_var  \u001b[0m\u001b[36m \u001b[0m│\u001b[35m \u001b[0m\u001b[35m    0.8254888653755188    \u001b[0m\u001b[35m \u001b[0m│\u001b[35m \u001b[0m\u001b[35m   0.8173369765281677    \u001b[0m\u001b[35m \u001b[0m│\u001b[35m \u001b[0m\u001b[35m    0.7789085507392883    \u001b[0m\u001b[35m \u001b[0m│\n",
       "│\u001b[36m \u001b[0m\u001b[36m loss_grad_votemper_var  \u001b[0m\u001b[36m \u001b[0m│\u001b[35m \u001b[0m\u001b[35m    0.801144540309906     \u001b[0m\u001b[35m \u001b[0m│\u001b[35m \u001b[0m\u001b[35m   0.4878673553466797    \u001b[0m\u001b[35m \u001b[0m│\u001b[35m \u001b[0m\u001b[35m   0.39402973651885986    \u001b[0m\u001b[35m \u001b[0m│\n",
       "│\u001b[36m \u001b[0m\u001b[36m loss_val_pressure_grad  \u001b[0m\u001b[36m \u001b[0m│\u001b[35m \u001b[0m\u001b[35m  1.6250481751568312e-08  \u001b[0m\u001b[35m \u001b[0m│\u001b[35m \u001b[0m\u001b[35m 1.6060057959420397e-08  \u001b[0m\u001b[35m \u001b[0m│\u001b[35m \u001b[0m\u001b[35m  2.4736964745741803e-08  \u001b[0m\u001b[35m \u001b[0m│\n",
       "│\u001b[36m \u001b[0m\u001b[36mloss_val_pressure_grad_x \u001b[0m\u001b[36m \u001b[0m│\u001b[35m \u001b[0m\u001b[35m  8.584784071453151e-09   \u001b[0m\u001b[35m \u001b[0m│\u001b[35m \u001b[0m\u001b[35m  9.536615473800787e-09  \u001b[0m\u001b[35m \u001b[0m│\u001b[35m \u001b[0m\u001b[35m  1.2809833305476424e-08  \u001b[0m\u001b[35m \u001b[0m│\n",
       "│\u001b[36m \u001b[0m\u001b[36mloss_val_pressure_grad_y \u001b[0m\u001b[36m \u001b[0m│\u001b[35m \u001b[0m\u001b[35m  7.665697680115162e-09   \u001b[0m\u001b[35m \u001b[0m│\u001b[35m \u001b[0m\u001b[35m 6.5234424856196085e-09  \u001b[0m\u001b[35m \u001b[0m│\u001b[35m \u001b[0m\u001b[35m  1.1927131440265377e-08  \u001b[0m\u001b[35m \u001b[0m│\n",
       "│\u001b[36m \u001b[0m\u001b[36m  loss_val_votemper_var  \u001b[0m\u001b[36m \u001b[0m│\u001b[35m \u001b[0m\u001b[35m   0.05621855705976486    \u001b[0m\u001b[35m \u001b[0m│\u001b[35m \u001b[0m\u001b[35m  0.024662019684910774   \u001b[0m\u001b[35m \u001b[0m│\u001b[35m \u001b[0m\u001b[35m   0.025645434856414795   \u001b[0m\u001b[35m \u001b[0m│\n",
       "└───────────────────────────┴────────────────────────────┴───────────────────────────┴────────────────────────────┘\n"
      ]
     },
     "metadata": {},
     "output_type": "display_data"
    },
    {
     "data": {
      "text/html": [
       "<pre style=\"white-space:pre;overflow-x:auto;line-height:normal;font-family:Menlo,'DejaVu Sans Mono',consolas,'Courier New',monospace\">┏━━━━━━━━━━━━━━━━━━━━━━━━━━━┳━━━━━━━━━━━━━━━━━━━━━━━━━━━━┳━━━━━━━━━━━━━━━━━━━━━━━━━━━┳━━━━━━━━━━━━━━━━━━━━━━━━━━━━┓\n",
       "┃<span style=\"font-weight: bold\">        Test metric        </span>┃<span style=\"font-weight: bold\">        DataLoader 3        </span>┃<span style=\"font-weight: bold\">       DataLoader 4        </span>┃<span style=\"font-weight: bold\">        DataLoader 5        </span>┃\n",
       "┡━━━━━━━━━━━━━━━━━━━━━━━━━━━╇━━━━━━━━━━━━━━━━━━━━━━━━━━━━╇━━━━━━━━━━━━━━━━━━━━━━━━━━━╇━━━━━━━━━━━━━━━━━━━━━━━━━━━━┩\n",
       "│<span style=\"color: #008080; text-decoration-color: #008080\"> corr_coef_grad_votemper_… </span>│<span style=\"color: #800080; text-decoration-color: #800080\">     0.6239852905273438     </span>│<span style=\"color: #800080; text-decoration-color: #800080\">    0.5324996709823608     </span>│<span style=\"color: #800080; text-decoration-color: #800080\">     0.4917779266834259     </span>│\n",
       "│<span style=\"color: #008080; text-decoration-color: #008080\">  corr_coef_votemper_var   </span>│<span style=\"color: #800080; text-decoration-color: #800080\">     0.8068744540214539     </span>│<span style=\"color: #800080; text-decoration-color: #800080\">    0.7824996709823608     </span>│<span style=\"color: #800080; text-decoration-color: #800080\">     0.7471328973770142     </span>│\n",
       "│<span style=\"color: #008080; text-decoration-color: #008080\">  loss_grad_votemper_var   </span>│<span style=\"color: #800080; text-decoration-color: #800080\">     0.4394199848175049     </span>│<span style=\"color: #800080; text-decoration-color: #800080\">   2.675211874247907e-07   </span>│<span style=\"color: #800080; text-decoration-color: #800080\">   0.00012246696860529482   </span>│\n",
       "│<span style=\"color: #008080; text-decoration-color: #008080\">  loss_val_pressure_grad   </span>│<span style=\"color: #800080; text-decoration-color: #800080\">   1.1871614799045005e-08   </span>│<span style=\"color: #800080; text-decoration-color: #800080\">  1.0631012781870262e-11   </span>│<span style=\"color: #800080; text-decoration-color: #800080\">   5.686801982540598e-11    </span>│\n",
       "│<span style=\"color: #008080; text-decoration-color: #008080\"> loss_val_pressure_grad_x  </span>│<span style=\"color: #800080; text-decoration-color: #800080\">   6.482037006688402e-09    </span>│<span style=\"color: #800080; text-decoration-color: #800080\">   4.816222425610848e-12   </span>│<span style=\"color: #800080; text-decoration-color: #800080\">   2.7305782717624966e-11   </span>│\n",
       "│<span style=\"color: #008080; text-decoration-color: #008080\"> loss_val_pressure_grad_y  </span>│<span style=\"color: #800080; text-decoration-color: #800080\">   5.389577792356603e-09    </span>│<span style=\"color: #800080; text-decoration-color: #800080\">  5.8147903562594145e-12   </span>│<span style=\"color: #800080; text-decoration-color: #800080\">   2.9562237107781024e-11   </span>│\n",
       "│<span style=\"color: #008080; text-decoration-color: #008080\">   loss_val_votemper_var   </span>│<span style=\"color: #800080; text-decoration-color: #800080\">    0.020174290984869003    </span>│<span style=\"color: #800080; text-decoration-color: #800080\">   7.080581417540088e-05   </span>│<span style=\"color: #800080; text-decoration-color: #800080\">   0.0008680668543092906    </span>│\n",
       "└───────────────────────────┴────────────────────────────┴───────────────────────────┴────────────────────────────┘\n",
       "</pre>\n"
      ],
      "text/plain": [
       "┏━━━━━━━━━━━━━━━━━━━━━━━━━━━┳━━━━━━━━━━━━━━━━━━━━━━━━━━━━┳━━━━━━━━━━━━━━━━━━━━━━━━━━━┳━━━━━━━━━━━━━━━━━━━━━━━━━━━━┓\n",
       "┃\u001b[1m \u001b[0m\u001b[1m       Test metric       \u001b[0m\u001b[1m \u001b[0m┃\u001b[1m \u001b[0m\u001b[1m       DataLoader 3       \u001b[0m\u001b[1m \u001b[0m┃\u001b[1m \u001b[0m\u001b[1m      DataLoader 4       \u001b[0m\u001b[1m \u001b[0m┃\u001b[1m \u001b[0m\u001b[1m       DataLoader 5       \u001b[0m\u001b[1m \u001b[0m┃\n",
       "┡━━━━━━━━━━━━━━━━━━━━━━━━━━━╇━━━━━━━━━━━━━━━━━━━━━━━━━━━━╇━━━━━━━━━━━━━━━━━━━━━━━━━━━╇━━━━━━━━━━━━━━━━━━━━━━━━━━━━┩\n",
       "│\u001b[36m \u001b[0m\u001b[36mcorr_coef_grad_votemper_…\u001b[0m\u001b[36m \u001b[0m│\u001b[35m \u001b[0m\u001b[35m    0.6239852905273438    \u001b[0m\u001b[35m \u001b[0m│\u001b[35m \u001b[0m\u001b[35m   0.5324996709823608    \u001b[0m\u001b[35m \u001b[0m│\u001b[35m \u001b[0m\u001b[35m    0.4917779266834259    \u001b[0m\u001b[35m \u001b[0m│\n",
       "│\u001b[36m \u001b[0m\u001b[36m corr_coef_votemper_var  \u001b[0m\u001b[36m \u001b[0m│\u001b[35m \u001b[0m\u001b[35m    0.8068744540214539    \u001b[0m\u001b[35m \u001b[0m│\u001b[35m \u001b[0m\u001b[35m   0.7824996709823608    \u001b[0m\u001b[35m \u001b[0m│\u001b[35m \u001b[0m\u001b[35m    0.7471328973770142    \u001b[0m\u001b[35m \u001b[0m│\n",
       "│\u001b[36m \u001b[0m\u001b[36m loss_grad_votemper_var  \u001b[0m\u001b[36m \u001b[0m│\u001b[35m \u001b[0m\u001b[35m    0.4394199848175049    \u001b[0m\u001b[35m \u001b[0m│\u001b[35m \u001b[0m\u001b[35m  2.675211874247907e-07  \u001b[0m\u001b[35m \u001b[0m│\u001b[35m \u001b[0m\u001b[35m  0.00012246696860529482  \u001b[0m\u001b[35m \u001b[0m│\n",
       "│\u001b[36m \u001b[0m\u001b[36m loss_val_pressure_grad  \u001b[0m\u001b[36m \u001b[0m│\u001b[35m \u001b[0m\u001b[35m  1.1871614799045005e-08  \u001b[0m\u001b[35m \u001b[0m│\u001b[35m \u001b[0m\u001b[35m 1.0631012781870262e-11  \u001b[0m\u001b[35m \u001b[0m│\u001b[35m \u001b[0m\u001b[35m  5.686801982540598e-11   \u001b[0m\u001b[35m \u001b[0m│\n",
       "│\u001b[36m \u001b[0m\u001b[36mloss_val_pressure_grad_x \u001b[0m\u001b[36m \u001b[0m│\u001b[35m \u001b[0m\u001b[35m  6.482037006688402e-09   \u001b[0m\u001b[35m \u001b[0m│\u001b[35m \u001b[0m\u001b[35m  4.816222425610848e-12  \u001b[0m\u001b[35m \u001b[0m│\u001b[35m \u001b[0m\u001b[35m  2.7305782717624966e-11  \u001b[0m\u001b[35m \u001b[0m│\n",
       "│\u001b[36m \u001b[0m\u001b[36mloss_val_pressure_grad_y \u001b[0m\u001b[36m \u001b[0m│\u001b[35m \u001b[0m\u001b[35m  5.389577792356603e-09   \u001b[0m\u001b[35m \u001b[0m│\u001b[35m \u001b[0m\u001b[35m 5.8147903562594145e-12  \u001b[0m\u001b[35m \u001b[0m│\u001b[35m \u001b[0m\u001b[35m  2.9562237107781024e-11  \u001b[0m\u001b[35m \u001b[0m│\n",
       "│\u001b[36m \u001b[0m\u001b[36m  loss_val_votemper_var  \u001b[0m\u001b[36m \u001b[0m│\u001b[35m \u001b[0m\u001b[35m   0.020174290984869003   \u001b[0m\u001b[35m \u001b[0m│\u001b[35m \u001b[0m\u001b[35m  7.080581417540088e-05  \u001b[0m\u001b[35m \u001b[0m│\u001b[35m \u001b[0m\u001b[35m  0.0008680668543092906   \u001b[0m\u001b[35m \u001b[0m│\n",
       "└───────────────────────────┴────────────────────────────┴───────────────────────────┴────────────────────────────┘\n"
      ]
     },
     "metadata": {},
     "output_type": "display_data"
    },
    {
     "data": {
      "text/html": [
       "Waiting for W&B process to finish... <strong style=\"color:green\">(success).</strong>"
      ],
      "text/plain": [
       "<IPython.core.display.HTML object>"
      ]
     },
     "metadata": {},
     "output_type": "display_data"
    },
    {
     "data": {
      "application/vnd.jupyter.widget-view+json": {
       "model_id": "2510281a97a0443cb139f15c0f76a412",
       "version_major": 2,
       "version_minor": 0
      },
      "text/plain": [
       "VBox(children=(Label(value='0.097 MB of 0.097 MB uploaded (0.000 MB deduped)\\r'), FloatProgress(value=1.0, max…"
      ]
     },
     "metadata": {},
     "output_type": "display_data"
    },
    {
     "data": {
      "text/html": [
       "<style>\n",
       "    table.wandb td:nth-child(1) { padding: 0 10px; text-align: left ; width: auto;} td:nth-child(2) {text-align: left ; width: 100%}\n",
       "    .wandb-row { display: flex; flex-direction: row; flex-wrap: wrap; justify-content: flex-start; width: 100% }\n",
       "    .wandb-col { display: flex; flex-direction: column; flex-basis: 100%; flex: 1; padding: 10px; }\n",
       "    </style>\n",
       "<div class=\"wandb-row\"><div class=\"wandb-col\"><h3>Run history:</h3><br/><table class=\"wandb\"><tr><td>corr_coef_grad_votemper_var/dataloader_idx_0</td><td>▁</td></tr><tr><td>corr_coef_grad_votemper_var/dataloader_idx_1</td><td>▁</td></tr><tr><td>corr_coef_grad_votemper_var/dataloader_idx_2</td><td>▁</td></tr><tr><td>corr_coef_grad_votemper_var/dataloader_idx_3</td><td>▁</td></tr><tr><td>corr_coef_grad_votemper_var/dataloader_idx_4</td><td>▁</td></tr><tr><td>corr_coef_grad_votemper_var/dataloader_idx_5</td><td>▁</td></tr><tr><td>corr_coef_votemper_var/dataloader_idx_0</td><td>▁</td></tr><tr><td>corr_coef_votemper_var/dataloader_idx_1</td><td>▁</td></tr><tr><td>corr_coef_votemper_var/dataloader_idx_2</td><td>▁</td></tr><tr><td>corr_coef_votemper_var/dataloader_idx_3</td><td>▁</td></tr><tr><td>corr_coef_votemper_var/dataloader_idx_4</td><td>▁</td></tr><tr><td>corr_coef_votemper_var/dataloader_idx_5</td><td>▁</td></tr><tr><td>epoch</td><td>▁▁▂▂▂▂▃▃▃▃▄▄▄▄▅▅▅▅▆▆▆▆▇▇▇▇█</td></tr><tr><td>first_weight</td><td>▅▆▆█▂▁▁▁▁▁▁▁▂</td></tr><tr><td>loss_grad_votemper_var/dataloader_idx_0</td><td>▁</td></tr><tr><td>loss_grad_votemper_var/dataloader_idx_1</td><td>▁</td></tr><tr><td>loss_grad_votemper_var/dataloader_idx_2</td><td>▁</td></tr><tr><td>loss_grad_votemper_var/dataloader_idx_3</td><td>▁</td></tr><tr><td>loss_grad_votemper_var/dataloader_idx_4</td><td>▁</td></tr><tr><td>loss_grad_votemper_var/dataloader_idx_5</td><td>▁</td></tr><tr><td>loss_train</td><td>█▂▁▂▂▁▂▁▁▁▁▁▆</td></tr><tr><td>loss_val_pressure_grad/dataloader_idx_0</td><td>▁</td></tr><tr><td>loss_val_pressure_grad/dataloader_idx_1</td><td>▁</td></tr><tr><td>loss_val_pressure_grad/dataloader_idx_2</td><td>▁</td></tr><tr><td>loss_val_pressure_grad/dataloader_idx_3</td><td>▁</td></tr><tr><td>loss_val_pressure_grad/dataloader_idx_4</td><td>▁</td></tr><tr><td>loss_val_pressure_grad/dataloader_idx_5</td><td>▁</td></tr><tr><td>loss_val_pressure_grad_x/dataloader_idx_0</td><td>▁</td></tr><tr><td>loss_val_pressure_grad_x/dataloader_idx_1</td><td>▁</td></tr><tr><td>loss_val_pressure_grad_x/dataloader_idx_2</td><td>▁</td></tr><tr><td>loss_val_pressure_grad_x/dataloader_idx_3</td><td>▁</td></tr><tr><td>loss_val_pressure_grad_x/dataloader_idx_4</td><td>▁</td></tr><tr><td>loss_val_pressure_grad_x/dataloader_idx_5</td><td>▁</td></tr><tr><td>loss_val_pressure_grad_y/dataloader_idx_0</td><td>▁</td></tr><tr><td>loss_val_pressure_grad_y/dataloader_idx_1</td><td>▁</td></tr><tr><td>loss_val_pressure_grad_y/dataloader_idx_2</td><td>▁</td></tr><tr><td>loss_val_pressure_grad_y/dataloader_idx_3</td><td>▁</td></tr><tr><td>loss_val_pressure_grad_y/dataloader_idx_4</td><td>▁</td></tr><tr><td>loss_val_pressure_grad_y/dataloader_idx_5</td><td>▁</td></tr><tr><td>loss_val_votemper_var/dataloader_idx_0</td><td>▁</td></tr><tr><td>loss_val_votemper_var/dataloader_idx_1</td><td>▁</td></tr><tr><td>loss_val_votemper_var/dataloader_idx_2</td><td>▁</td></tr><tr><td>loss_val_votemper_var/dataloader_idx_3</td><td>▁</td></tr><tr><td>loss_val_votemper_var/dataloader_idx_4</td><td>▁</td></tr><tr><td>loss_val_votemper_var/dataloader_idx_5</td><td>▁</td></tr><tr><td>loss_validation</td><td>█▇▃▅▃▃▅▂▂▁▄▁▂</td></tr><tr><td>trainer/global_step</td><td>▁▁▂▂▂▂▃▃▃▃▄▄▄▄▅▅▆▆▆▆▇▇▇▇███</td></tr></table><br/></div><div class=\"wandb-col\"><h3>Run summary:</h3><br/><table class=\"wandb\"><tr><td>corr_coef_grad_votemper_var/dataloader_idx_0</td><td>0.65762</td></tr><tr><td>corr_coef_grad_votemper_var/dataloader_idx_1</td><td>0.5826</td></tr><tr><td>corr_coef_grad_votemper_var/dataloader_idx_2</td><td>0.53788</td></tr><tr><td>corr_coef_grad_votemper_var/dataloader_idx_3</td><td>0.62399</td></tr><tr><td>corr_coef_grad_votemper_var/dataloader_idx_4</td><td>0.5325</td></tr><tr><td>corr_coef_grad_votemper_var/dataloader_idx_5</td><td>0.49178</td></tr><tr><td>corr_coef_votemper_var/dataloader_idx_0</td><td>0.82549</td></tr><tr><td>corr_coef_votemper_var/dataloader_idx_1</td><td>0.81734</td></tr><tr><td>corr_coef_votemper_var/dataloader_idx_2</td><td>0.77891</td></tr><tr><td>corr_coef_votemper_var/dataloader_idx_3</td><td>0.80687</td></tr><tr><td>corr_coef_votemper_var/dataloader_idx_4</td><td>0.7825</td></tr><tr><td>corr_coef_votemper_var/dataloader_idx_5</td><td>0.74713</td></tr><tr><td>epoch</td><td>13</td></tr><tr><td>first_weight</td><td>0.0712</td></tr><tr><td>loss_grad_votemper_var/dataloader_idx_0</td><td>0.80114</td></tr><tr><td>loss_grad_votemper_var/dataloader_idx_1</td><td>0.48787</td></tr><tr><td>loss_grad_votemper_var/dataloader_idx_2</td><td>0.39403</td></tr><tr><td>loss_grad_votemper_var/dataloader_idx_3</td><td>0.43942</td></tr><tr><td>loss_grad_votemper_var/dataloader_idx_4</td><td>0.0</td></tr><tr><td>loss_grad_votemper_var/dataloader_idx_5</td><td>0.00012</td></tr><tr><td>loss_train</td><td>0.09326</td></tr><tr><td>loss_val_pressure_grad/dataloader_idx_0</td><td>0.0</td></tr><tr><td>loss_val_pressure_grad/dataloader_idx_1</td><td>0.0</td></tr><tr><td>loss_val_pressure_grad/dataloader_idx_2</td><td>0.0</td></tr><tr><td>loss_val_pressure_grad/dataloader_idx_3</td><td>0.0</td></tr><tr><td>loss_val_pressure_grad/dataloader_idx_4</td><td>0.0</td></tr><tr><td>loss_val_pressure_grad/dataloader_idx_5</td><td>0.0</td></tr><tr><td>loss_val_pressure_grad_x/dataloader_idx_0</td><td>0.0</td></tr><tr><td>loss_val_pressure_grad_x/dataloader_idx_1</td><td>0.0</td></tr><tr><td>loss_val_pressure_grad_x/dataloader_idx_2</td><td>0.0</td></tr><tr><td>loss_val_pressure_grad_x/dataloader_idx_3</td><td>0.0</td></tr><tr><td>loss_val_pressure_grad_x/dataloader_idx_4</td><td>0.0</td></tr><tr><td>loss_val_pressure_grad_x/dataloader_idx_5</td><td>0.0</td></tr><tr><td>loss_val_pressure_grad_y/dataloader_idx_0</td><td>0.0</td></tr><tr><td>loss_val_pressure_grad_y/dataloader_idx_1</td><td>0.0</td></tr><tr><td>loss_val_pressure_grad_y/dataloader_idx_2</td><td>0.0</td></tr><tr><td>loss_val_pressure_grad_y/dataloader_idx_3</td><td>0.0</td></tr><tr><td>loss_val_pressure_grad_y/dataloader_idx_4</td><td>0.0</td></tr><tr><td>loss_val_pressure_grad_y/dataloader_idx_5</td><td>0.0</td></tr><tr><td>loss_val_votemper_var/dataloader_idx_0</td><td>0.05622</td></tr><tr><td>loss_val_votemper_var/dataloader_idx_1</td><td>0.02466</td></tr><tr><td>loss_val_votemper_var/dataloader_idx_2</td><td>0.02565</td></tr><tr><td>loss_val_votemper_var/dataloader_idx_3</td><td>0.02017</td></tr><tr><td>loss_val_votemper_var/dataloader_idx_4</td><td>7e-05</td></tr><tr><td>loss_val_votemper_var/dataloader_idx_5</td><td>0.00087</td></tr><tr><td>loss_validation</td><td>0.02186</td></tr><tr><td>trainer/global_step</td><td>1027</td></tr></table><br/></div></div>"
      ],
      "text/plain": [
       "<IPython.core.display.HTML object>"
      ]
     },
     "metadata": {},
     "output_type": "display_data"
    },
    {
     "data": {
      "text/html": [
       " View run <strong style=\"color:#cdcd00\">FCNN_patch_in3_out1_val_loss3D_nn_nf</strong> at: <a href='https://wandb.ai/anagorb63/tests/runs/FCNN_patch_in3_out1_val_loss3D_nn_nf' target=\"_blank\">https://wandb.ai/anagorb63/tests/runs/FCNN_patch_in3_out1_val_loss3D_nn_nf</a><br/>Synced 6 W&B file(s), 0 media file(s), 2 artifact file(s) and 0 other file(s)"
      ],
      "text/plain": [
       "<IPython.core.display.HTML object>"
      ]
     },
     "metadata": {},
     "output_type": "display_data"
    },
    {
     "data": {
      "text/html": [
       "Find logs at: <code>./wandb/run-20230314_200331-FCNN_patch_in3_out1_val_loss3D_nn_nf/logs</code>"
      ],
      "text/plain": [
       "<IPython.core.display.HTML object>"
      ]
     },
     "metadata": {},
     "output_type": "display_data"
    }
   ],
   "source": [
    "config = dict({'model_label' : 'FCNN',\n",
    "                'version' : 'patch_in3_out1_val_loss3D_nn_nf',\n",
    "                'torch_model' : 'myParam.FCNN',\n",
    "                'datamodule' : 'all_data_3D',\n",
    "                'torch_model_params' : dict({'data_geometry' : '3D',\\\n",
    "                                            'nb_of_input_features' : 1, \\\n",
    "                                            'nb_of_output_features' : 1, \\\n",
    "                                            'input_patch_size' : 3,\n",
    "                                            'output_patch_size' : 1, \n",
    "                                            'int_layer_width' : 50}),\n",
    "                'module_params' : dict({'input_features'  : ['votemper'],\n",
    "                                        'output_features'  : ['votemper_var'],\n",
    "                                        'output_units' : ['diff_votemper_sqr'],\n",
    "                                        'loss' : torch.nn.functional.mse_loss,\n",
    "                                        'optimizer' : torch.optim.Adam,\n",
    "                                        'learning_rate' : 1e-3,}),\n",
    "                'training_params' : dict({'max_epochs' : 100,\n",
    "                                          'limit_train_batches' : 1.0})\n",
    "               })\n",
    "run_experiment(config, project_name)"
   ]
  },
  {
   "cell_type": "code",
   "execution_count": 22,
   "id": "b3c1fd91-b91c-4291-a092-098c6be49667",
   "metadata": {},
   "outputs": [
    {
     "data": {
      "application/vnd.jupyter.widget-view+json": {
       "model_id": "3a9326da562e4a189caa42ff3c482da7",
       "version_major": 2,
       "version_minor": 0
      },
      "text/plain": [
       "VBox(children=(Label(value='Waiting for wandb.init()...\\r'), FloatProgress(value=0.016669171449999947, max=1.0…"
      ]
     },
     "metadata": {},
     "output_type": "display_data"
    },
    {
     "data": {
      "text/html": [
       "Tracking run with wandb version 0.13.11"
      ],
      "text/plain": [
       "<IPython.core.display.HTML object>"
      ]
     },
     "metadata": {},
     "output_type": "display_data"
    },
    {
     "data": {
      "text/html": [
       "Run data is saved locally in <code>./wandb/run-20230314_200505-FCNN_patch_in3_out1_val_loss2D_nn_nf</code>"
      ],
      "text/plain": [
       "<IPython.core.display.HTML object>"
      ]
     },
     "metadata": {},
     "output_type": "display_data"
    },
    {
     "data": {
      "text/html": [
       "Syncing run <strong><a href='https://wandb.ai/anagorb63/tests/runs/FCNN_patch_in3_out1_val_loss2D_nn_nf' target=\"_blank\">FCNN_patch_in3_out1_val_loss2D_nn_nf</a></strong> to <a href='https://wandb.ai/anagorb63/tests' target=\"_blank\">Weights & Biases</a> (<a href='https://wandb.me/run' target=\"_blank\">docs</a>)<br/>"
      ],
      "text/plain": [
       "<IPython.core.display.HTML object>"
      ]
     },
     "metadata": {},
     "output_type": "display_data"
    },
    {
     "data": {
      "text/html": [
       " View project at <a href='https://wandb.ai/anagorb63/tests' target=\"_blank\">https://wandb.ai/anagorb63/tests</a>"
      ],
      "text/plain": [
       "<IPython.core.display.HTML object>"
      ]
     },
     "metadata": {},
     "output_type": "display_data"
    },
    {
     "data": {
      "text/html": [
       " View run at <a href='https://wandb.ai/anagorb63/tests/runs/FCNN_patch_in3_out1_val_loss2D_nn_nf' target=\"_blank\">https://wandb.ai/anagorb63/tests/runs/FCNN_patch_in3_out1_val_loss2D_nn_nf</a>"
      ],
      "text/plain": [
       "<IPython.core.display.HTML object>"
      ]
     },
     "metadata": {},
     "output_type": "display_data"
    },
    {
     "name": "stderr",
     "output_type": "stream",
     "text": [
      "/srv/conda/envs/notebook/lib/python3.10/site-packages/pytorch_lightning/utilities/parsing.py:262: UserWarning: Attribute 'torch_model' is an instance of `nn.Module` and is already saved during checkpointing. It is recommended to ignore them using `self.save_hyperparameters(ignore=['torch_model'])`.\n",
      "  rank_zero_warn(\n",
      "GPU available: True (cuda), used: True\n",
      "TPU available: False, using: 0 TPU cores\n",
      "IPU available: False, using: 0 IPUs\n",
      "HPU available: False, using: 0 HPUs\n",
      "`Trainer(limit_train_batches=1.0)` was configured so 100% of the batches per epoch will be used..\n",
      "LOCAL_RANK: 0 - CUDA_VISIBLE_DEVICES: [0]\n",
      "\n",
      "  | Name        | Type | Params\n",
      "-------------------------------------\n",
      "0 | torch_model | FCNN | 3.1 K \n",
      "-------------------------------------\n",
      "3.1 K     Trainable params\n",
      "0         Non-trainable params\n",
      "3.1 K     Total params\n",
      "0.012     Total estimated model params size (MB)\n"
     ]
    },
    {
     "data": {
      "application/vnd.jupyter.widget-view+json": {
       "model_id": "",
       "version_major": 2,
       "version_minor": 0
      },
      "text/plain": [
       "Sanity Checking: 0it [00:00, ?it/s]"
      ]
     },
     "metadata": {},
     "output_type": "display_data"
    },
    {
     "data": {
      "application/vnd.jupyter.widget-view+json": {
       "model_id": "896f8df70c4b4bf3ad788b88cbc0147f",
       "version_major": 2,
       "version_minor": 0
      },
      "text/plain": [
       "Training: 0it [00:00, ?it/s]"
      ]
     },
     "metadata": {},
     "output_type": "display_data"
    },
    {
     "data": {
      "application/vnd.jupyter.widget-view+json": {
       "model_id": "",
       "version_major": 2,
       "version_minor": 0
      },
      "text/plain": [
       "Validation: 0it [00:00, ?it/s]"
      ]
     },
     "metadata": {},
     "output_type": "display_data"
    },
    {
     "data": {
      "application/vnd.jupyter.widget-view+json": {
       "model_id": "",
       "version_major": 2,
       "version_minor": 0
      },
      "text/plain": [
       "Validation: 0it [00:00, ?it/s]"
      ]
     },
     "metadata": {},
     "output_type": "display_data"
    },
    {
     "data": {
      "application/vnd.jupyter.widget-view+json": {
       "model_id": "",
       "version_major": 2,
       "version_minor": 0
      },
      "text/plain": [
       "Validation: 0it [00:00, ?it/s]"
      ]
     },
     "metadata": {},
     "output_type": "display_data"
    },
    {
     "data": {
      "application/vnd.jupyter.widget-view+json": {
       "model_id": "",
       "version_major": 2,
       "version_minor": 0
      },
      "text/plain": [
       "Validation: 0it [00:00, ?it/s]"
      ]
     },
     "metadata": {},
     "output_type": "display_data"
    },
    {
     "data": {
      "application/vnd.jupyter.widget-view+json": {
       "model_id": "",
       "version_major": 2,
       "version_minor": 0
      },
      "text/plain": [
       "Validation: 0it [00:00, ?it/s]"
      ]
     },
     "metadata": {},
     "output_type": "display_data"
    },
    {
     "data": {
      "application/vnd.jupyter.widget-view+json": {
       "model_id": "",
       "version_major": 2,
       "version_minor": 0
      },
      "text/plain": [
       "Validation: 0it [00:00, ?it/s]"
      ]
     },
     "metadata": {},
     "output_type": "display_data"
    },
    {
     "data": {
      "application/vnd.jupyter.widget-view+json": {
       "model_id": "",
       "version_major": 2,
       "version_minor": 0
      },
      "text/plain": [
       "Validation: 0it [00:00, ?it/s]"
      ]
     },
     "metadata": {},
     "output_type": "display_data"
    },
    {
     "data": {
      "application/vnd.jupyter.widget-view+json": {
       "model_id": "",
       "version_major": 2,
       "version_minor": 0
      },
      "text/plain": [
       "Validation: 0it [00:00, ?it/s]"
      ]
     },
     "metadata": {},
     "output_type": "display_data"
    },
    {
     "data": {
      "application/vnd.jupyter.widget-view+json": {
       "model_id": "",
       "version_major": 2,
       "version_minor": 0
      },
      "text/plain": [
       "Validation: 0it [00:00, ?it/s]"
      ]
     },
     "metadata": {},
     "output_type": "display_data"
    },
    {
     "data": {
      "application/vnd.jupyter.widget-view+json": {
       "model_id": "",
       "version_major": 2,
       "version_minor": 0
      },
      "text/plain": [
       "Validation: 0it [00:00, ?it/s]"
      ]
     },
     "metadata": {},
     "output_type": "display_data"
    },
    {
     "data": {
      "application/vnd.jupyter.widget-view+json": {
       "model_id": "",
       "version_major": 2,
       "version_minor": 0
      },
      "text/plain": [
       "Validation: 0it [00:00, ?it/s]"
      ]
     },
     "metadata": {},
     "output_type": "display_data"
    },
    {
     "data": {
      "application/vnd.jupyter.widget-view+json": {
       "model_id": "",
       "version_major": 2,
       "version_minor": 0
      },
      "text/plain": [
       "Validation: 0it [00:00, ?it/s]"
      ]
     },
     "metadata": {},
     "output_type": "display_data"
    },
    {
     "data": {
      "application/vnd.jupyter.widget-view+json": {
       "model_id": "",
       "version_major": 2,
       "version_minor": 0
      },
      "text/plain": [
       "Validation: 0it [00:00, ?it/s]"
      ]
     },
     "metadata": {},
     "output_type": "display_data"
    },
    {
     "data": {
      "application/vnd.jupyter.widget-view+json": {
       "model_id": "",
       "version_major": 2,
       "version_minor": 0
      },
      "text/plain": [
       "Validation: 0it [00:00, ?it/s]"
      ]
     },
     "metadata": {},
     "output_type": "display_data"
    },
    {
     "data": {
      "application/vnd.jupyter.widget-view+json": {
       "model_id": "",
       "version_major": 2,
       "version_minor": 0
      },
      "text/plain": [
       "Validation: 0it [00:00, ?it/s]"
      ]
     },
     "metadata": {},
     "output_type": "display_data"
    },
    {
     "data": {
      "application/vnd.jupyter.widget-view+json": {
       "model_id": "",
       "version_major": 2,
       "version_minor": 0
      },
      "text/plain": [
       "Validation: 0it [00:00, ?it/s]"
      ]
     },
     "metadata": {},
     "output_type": "display_data"
    },
    {
     "data": {
      "application/vnd.jupyter.widget-view+json": {
       "model_id": "",
       "version_major": 2,
       "version_minor": 0
      },
      "text/plain": [
       "Validation: 0it [00:00, ?it/s]"
      ]
     },
     "metadata": {},
     "output_type": "display_data"
    },
    {
     "data": {
      "application/vnd.jupyter.widget-view+json": {
       "model_id": "",
       "version_major": 2,
       "version_minor": 0
      },
      "text/plain": [
       "Validation: 0it [00:00, ?it/s]"
      ]
     },
     "metadata": {},
     "output_type": "display_data"
    },
    {
     "data": {
      "application/vnd.jupyter.widget-view+json": {
       "model_id": "",
       "version_major": 2,
       "version_minor": 0
      },
      "text/plain": [
       "Validation: 0it [00:00, ?it/s]"
      ]
     },
     "metadata": {},
     "output_type": "display_data"
    },
    {
     "data": {
      "application/vnd.jupyter.widget-view+json": {
       "model_id": "",
       "version_major": 2,
       "version_minor": 0
      },
      "text/plain": [
       "Validation: 0it [00:00, ?it/s]"
      ]
     },
     "metadata": {},
     "output_type": "display_data"
    },
    {
     "data": {
      "application/vnd.jupyter.widget-view+json": {
       "model_id": "",
       "version_major": 2,
       "version_minor": 0
      },
      "text/plain": [
       "Validation: 0it [00:00, ?it/s]"
      ]
     },
     "metadata": {},
     "output_type": "display_data"
    },
    {
     "data": {
      "application/vnd.jupyter.widget-view+json": {
       "model_id": "",
       "version_major": 2,
       "version_minor": 0
      },
      "text/plain": [
       "Validation: 0it [00:00, ?it/s]"
      ]
     },
     "metadata": {},
     "output_type": "display_data"
    },
    {
     "data": {
      "application/vnd.jupyter.widget-view+json": {
       "model_id": "",
       "version_major": 2,
       "version_minor": 0
      },
      "text/plain": [
       "Validation: 0it [00:00, ?it/s]"
      ]
     },
     "metadata": {},
     "output_type": "display_data"
    },
    {
     "data": {
      "application/vnd.jupyter.widget-view+json": {
       "model_id": "",
       "version_major": 2,
       "version_minor": 0
      },
      "text/plain": [
       "Validation: 0it [00:00, ?it/s]"
      ]
     },
     "metadata": {},
     "output_type": "display_data"
    },
    {
     "data": {
      "application/vnd.jupyter.widget-view+json": {
       "model_id": "",
       "version_major": 2,
       "version_minor": 0
      },
      "text/plain": [
       "Validation: 0it [00:00, ?it/s]"
      ]
     },
     "metadata": {},
     "output_type": "display_data"
    },
    {
     "data": {
      "application/vnd.jupyter.widget-view+json": {
       "model_id": "",
       "version_major": 2,
       "version_minor": 0
      },
      "text/plain": [
       "Validation: 0it [00:00, ?it/s]"
      ]
     },
     "metadata": {},
     "output_type": "display_data"
    },
    {
     "data": {
      "application/vnd.jupyter.widget-view+json": {
       "model_id": "",
       "version_major": 2,
       "version_minor": 0
      },
      "text/plain": [
       "Validation: 0it [00:00, ?it/s]"
      ]
     },
     "metadata": {},
     "output_type": "display_data"
    },
    {
     "data": {
      "application/vnd.jupyter.widget-view+json": {
       "model_id": "",
       "version_major": 2,
       "version_minor": 0
      },
      "text/plain": [
       "Validation: 0it [00:00, ?it/s]"
      ]
     },
     "metadata": {},
     "output_type": "display_data"
    },
    {
     "data": {
      "application/vnd.jupyter.widget-view+json": {
       "model_id": "",
       "version_major": 2,
       "version_minor": 0
      },
      "text/plain": [
       "Validation: 0it [00:00, ?it/s]"
      ]
     },
     "metadata": {},
     "output_type": "display_data"
    },
    {
     "name": "stderr",
     "output_type": "stream",
     "text": [
      "LOCAL_RANK: 0 - CUDA_VISIBLE_DEVICES: [0]\n"
     ]
    },
    {
     "data": {
      "application/vnd.jupyter.widget-view+json": {
       "model_id": "3bf6eefe17a445108546e71e383202ba",
       "version_major": 2,
       "version_minor": 0
      },
      "text/plain": [
       "Testing: 0it [00:00, ?it/s]"
      ]
     },
     "metadata": {},
     "output_type": "display_data"
    },
    {
     "data": {
      "text/html": [
       "<pre style=\"white-space:pre;overflow-x:auto;line-height:normal;font-family:Menlo,'DejaVu Sans Mono',consolas,'Courier New',monospace\">┏━━━━━━━━━━━━━━━━━━━━━━━━━━━┳━━━━━━━━━━━━━━━━━━━━━━━━━━━━┳━━━━━━━━━━━━━━━━━━━━━━━━━━━┳━━━━━━━━━━━━━━━━━━━━━━━━━━━━┓\n",
       "┃<span style=\"font-weight: bold\">        Test metric        </span>┃<span style=\"font-weight: bold\">        DataLoader 0        </span>┃<span style=\"font-weight: bold\">       DataLoader 1        </span>┃<span style=\"font-weight: bold\">        DataLoader 2        </span>┃\n",
       "┡━━━━━━━━━━━━━━━━━━━━━━━━━━━╇━━━━━━━━━━━━━━━━━━━━━━━━━━━━╇━━━━━━━━━━━━━━━━━━━━━━━━━━━╇━━━━━━━━━━━━━━━━━━━━━━━━━━━━┩\n",
       "│<span style=\"color: #008080; text-decoration-color: #008080\"> corr_coef_grad_sosstsst_… </span>│<span style=\"color: #800080; text-decoration-color: #800080\">     0.8183562159538269     </span>│<span style=\"color: #800080; text-decoration-color: #800080\">    0.7653243541717529     </span>│<span style=\"color: #800080; text-decoration-color: #800080\">     0.5693227648735046     </span>│\n",
       "│<span style=\"color: #008080; text-decoration-color: #008080\">  corr_coef_sosstsst_var   </span>│<span style=\"color: #800080; text-decoration-color: #800080\">     0.877980649471283      </span>│<span style=\"color: #800080; text-decoration-color: #800080\">    0.8652409911155701     </span>│<span style=\"color: #800080; text-decoration-color: #800080\">     0.7101638913154602     </span>│\n",
       "│<span style=\"color: #008080; text-decoration-color: #008080\">  loss_grad_sosstsst_var   </span>│<span style=\"color: #800080; text-decoration-color: #800080\">     10.218339920043945     </span>│<span style=\"color: #800080; text-decoration-color: #800080\">    0.7178873419761658     </span>│<span style=\"color: #800080; text-decoration-color: #800080\">     2.2656075954437256     </span>│\n",
       "│<span style=\"color: #008080; text-decoration-color: #008080\">   loss_val_sosstsst_var   </span>│<span style=\"color: #800080; text-decoration-color: #800080\">    0.23802074790000916     </span>│<span style=\"color: #800080; text-decoration-color: #800080\">   0.061657391488552094    </span>│<span style=\"color: #800080; text-decoration-color: #800080\">    0.09036979079246521     </span>│\n",
       "└───────────────────────────┴────────────────────────────┴───────────────────────────┴────────────────────────────┘\n",
       "</pre>\n"
      ],
      "text/plain": [
       "┏━━━━━━━━━━━━━━━━━━━━━━━━━━━┳━━━━━━━━━━━━━━━━━━━━━━━━━━━━┳━━━━━━━━━━━━━━━━━━━━━━━━━━━┳━━━━━━━━━━━━━━━━━━━━━━━━━━━━┓\n",
       "┃\u001b[1m \u001b[0m\u001b[1m       Test metric       \u001b[0m\u001b[1m \u001b[0m┃\u001b[1m \u001b[0m\u001b[1m       DataLoader 0       \u001b[0m\u001b[1m \u001b[0m┃\u001b[1m \u001b[0m\u001b[1m      DataLoader 1       \u001b[0m\u001b[1m \u001b[0m┃\u001b[1m \u001b[0m\u001b[1m       DataLoader 2       \u001b[0m\u001b[1m \u001b[0m┃\n",
       "┡━━━━━━━━━━━━━━━━━━━━━━━━━━━╇━━━━━━━━━━━━━━━━━━━━━━━━━━━━╇━━━━━━━━━━━━━━━━━━━━━━━━━━━╇━━━━━━━━━━━━━━━━━━━━━━━━━━━━┩\n",
       "│\u001b[36m \u001b[0m\u001b[36mcorr_coef_grad_sosstsst_…\u001b[0m\u001b[36m \u001b[0m│\u001b[35m \u001b[0m\u001b[35m    0.8183562159538269    \u001b[0m\u001b[35m \u001b[0m│\u001b[35m \u001b[0m\u001b[35m   0.7653243541717529    \u001b[0m\u001b[35m \u001b[0m│\u001b[35m \u001b[0m\u001b[35m    0.5693227648735046    \u001b[0m\u001b[35m \u001b[0m│\n",
       "│\u001b[36m \u001b[0m\u001b[36m corr_coef_sosstsst_var  \u001b[0m\u001b[36m \u001b[0m│\u001b[35m \u001b[0m\u001b[35m    0.877980649471283     \u001b[0m\u001b[35m \u001b[0m│\u001b[35m \u001b[0m\u001b[35m   0.8652409911155701    \u001b[0m\u001b[35m \u001b[0m│\u001b[35m \u001b[0m\u001b[35m    0.7101638913154602    \u001b[0m\u001b[35m \u001b[0m│\n",
       "│\u001b[36m \u001b[0m\u001b[36m loss_grad_sosstsst_var  \u001b[0m\u001b[36m \u001b[0m│\u001b[35m \u001b[0m\u001b[35m    10.218339920043945    \u001b[0m\u001b[35m \u001b[0m│\u001b[35m \u001b[0m\u001b[35m   0.7178873419761658    \u001b[0m\u001b[35m \u001b[0m│\u001b[35m \u001b[0m\u001b[35m    2.2656075954437256    \u001b[0m\u001b[35m \u001b[0m│\n",
       "│\u001b[36m \u001b[0m\u001b[36m  loss_val_sosstsst_var  \u001b[0m\u001b[36m \u001b[0m│\u001b[35m \u001b[0m\u001b[35m   0.23802074790000916    \u001b[0m\u001b[35m \u001b[0m│\u001b[35m \u001b[0m\u001b[35m  0.061657391488552094   \u001b[0m\u001b[35m \u001b[0m│\u001b[35m \u001b[0m\u001b[35m   0.09036979079246521    \u001b[0m\u001b[35m \u001b[0m│\n",
       "└───────────────────────────┴────────────────────────────┴───────────────────────────┴────────────────────────────┘\n"
      ]
     },
     "metadata": {},
     "output_type": "display_data"
    },
    {
     "data": {
      "text/html": [
       "<pre style=\"white-space:pre;overflow-x:auto;line-height:normal;font-family:Menlo,'DejaVu Sans Mono',consolas,'Courier New',monospace\">┏━━━━━━━━━━━━━━━━━━━━━━━━━━━┳━━━━━━━━━━━━━━━━━━━━━━━━━━━━┳━━━━━━━━━━━━━━━━━━━━━━━━━━━┳━━━━━━━━━━━━━━━━━━━━━━━━━━━━┓\n",
       "┃<span style=\"font-weight: bold\">        Test metric        </span>┃<span style=\"font-weight: bold\">        DataLoader 3        </span>┃<span style=\"font-weight: bold\">       DataLoader 4        </span>┃<span style=\"font-weight: bold\">        DataLoader 5        </span>┃\n",
       "┡━━━━━━━━━━━━━━━━━━━━━━━━━━━╇━━━━━━━━━━━━━━━━━━━━━━━━━━━━╇━━━━━━━━━━━━━━━━━━━━━━━━━━━╇━━━━━━━━━━━━━━━━━━━━━━━━━━━━┩\n",
       "│<span style=\"color: #008080; text-decoration-color: #008080\"> corr_coef_grad_sosstsst_… </span>│<span style=\"color: #800080; text-decoration-color: #800080\">     0.7553076148033142     </span>│<span style=\"color: #800080; text-decoration-color: #800080\">    0.22320424020290375    </span>│<span style=\"color: #800080; text-decoration-color: #800080\">     0.5169235467910767     </span>│\n",
       "│<span style=\"color: #008080; text-decoration-color: #008080\">  corr_coef_sosstsst_var   </span>│<span style=\"color: #800080; text-decoration-color: #800080\">     0.8420421481132507     </span>│<span style=\"color: #800080; text-decoration-color: #800080\">    0.5078906416893005     </span>│<span style=\"color: #800080; text-decoration-color: #800080\">     0.6241394281387329     </span>│\n",
       "│<span style=\"color: #008080; text-decoration-color: #008080\">  loss_grad_sosstsst_var   </span>│<span style=\"color: #800080; text-decoration-color: #800080\">    0.03545181080698967     </span>│<span style=\"color: #800080; text-decoration-color: #800080\">  1.3071473858872196e-06   </span>│<span style=\"color: #800080; text-decoration-color: #800080\">   2.1119833036209457e-05   </span>│\n",
       "│<span style=\"color: #008080; text-decoration-color: #008080\">   loss_val_sosstsst_var   </span>│<span style=\"color: #800080; text-decoration-color: #800080\">    0.009746531955897808    </span>│<span style=\"color: #800080; text-decoration-color: #800080\">  0.00014619520516134799   </span>│<span style=\"color: #800080; text-decoration-color: #800080\">   0.0008565891766920686    </span>│\n",
       "└───────────────────────────┴────────────────────────────┴───────────────────────────┴────────────────────────────┘\n",
       "</pre>\n"
      ],
      "text/plain": [
       "┏━━━━━━━━━━━━━━━━━━━━━━━━━━━┳━━━━━━━━━━━━━━━━━━━━━━━━━━━━┳━━━━━━━━━━━━━━━━━━━━━━━━━━━┳━━━━━━━━━━━━━━━━━━━━━━━━━━━━┓\n",
       "┃\u001b[1m \u001b[0m\u001b[1m       Test metric       \u001b[0m\u001b[1m \u001b[0m┃\u001b[1m \u001b[0m\u001b[1m       DataLoader 3       \u001b[0m\u001b[1m \u001b[0m┃\u001b[1m \u001b[0m\u001b[1m      DataLoader 4       \u001b[0m\u001b[1m \u001b[0m┃\u001b[1m \u001b[0m\u001b[1m       DataLoader 5       \u001b[0m\u001b[1m \u001b[0m┃\n",
       "┡━━━━━━━━━━━━━━━━━━━━━━━━━━━╇━━━━━━━━━━━━━━━━━━━━━━━━━━━━╇━━━━━━━━━━━━━━━━━━━━━━━━━━━╇━━━━━━━━━━━━━━━━━━━━━━━━━━━━┩\n",
       "│\u001b[36m \u001b[0m\u001b[36mcorr_coef_grad_sosstsst_…\u001b[0m\u001b[36m \u001b[0m│\u001b[35m \u001b[0m\u001b[35m    0.7553076148033142    \u001b[0m\u001b[35m \u001b[0m│\u001b[35m \u001b[0m\u001b[35m   0.22320424020290375   \u001b[0m\u001b[35m \u001b[0m│\u001b[35m \u001b[0m\u001b[35m    0.5169235467910767    \u001b[0m\u001b[35m \u001b[0m│\n",
       "│\u001b[36m \u001b[0m\u001b[36m corr_coef_sosstsst_var  \u001b[0m\u001b[36m \u001b[0m│\u001b[35m \u001b[0m\u001b[35m    0.8420421481132507    \u001b[0m\u001b[35m \u001b[0m│\u001b[35m \u001b[0m\u001b[35m   0.5078906416893005    \u001b[0m\u001b[35m \u001b[0m│\u001b[35m \u001b[0m\u001b[35m    0.6241394281387329    \u001b[0m\u001b[35m \u001b[0m│\n",
       "│\u001b[36m \u001b[0m\u001b[36m loss_grad_sosstsst_var  \u001b[0m\u001b[36m \u001b[0m│\u001b[35m \u001b[0m\u001b[35m   0.03545181080698967    \u001b[0m\u001b[35m \u001b[0m│\u001b[35m \u001b[0m\u001b[35m 1.3071473858872196e-06  \u001b[0m\u001b[35m \u001b[0m│\u001b[35m \u001b[0m\u001b[35m  2.1119833036209457e-05  \u001b[0m\u001b[35m \u001b[0m│\n",
       "│\u001b[36m \u001b[0m\u001b[36m  loss_val_sosstsst_var  \u001b[0m\u001b[36m \u001b[0m│\u001b[35m \u001b[0m\u001b[35m   0.009746531955897808   \u001b[0m\u001b[35m \u001b[0m│\u001b[35m \u001b[0m\u001b[35m 0.00014619520516134799  \u001b[0m\u001b[35m \u001b[0m│\u001b[35m \u001b[0m\u001b[35m  0.0008565891766920686   \u001b[0m\u001b[35m \u001b[0m│\n",
       "└───────────────────────────┴────────────────────────────┴───────────────────────────┴────────────────────────────┘\n"
      ]
     },
     "metadata": {},
     "output_type": "display_data"
    },
    {
     "data": {
      "text/html": [
       "Waiting for W&B process to finish... <strong style=\"color:green\">(success).</strong>"
      ],
      "text/plain": [
       "<IPython.core.display.HTML object>"
      ]
     },
     "metadata": {},
     "output_type": "display_data"
    },
    {
     "data": {
      "application/vnd.jupyter.widget-view+json": {
       "model_id": "273ab17960d9453e880759926724359c",
       "version_major": 2,
       "version_minor": 0
      },
      "text/plain": [
       "VBox(children=(Label(value='0.097 MB of 0.097 MB uploaded (0.000 MB deduped)\\r'), FloatProgress(value=1.0, max…"
      ]
     },
     "metadata": {},
     "output_type": "display_data"
    },
    {
     "data": {
      "text/html": [
       "<style>\n",
       "    table.wandb td:nth-child(1) { padding: 0 10px; text-align: left ; width: auto;} td:nth-child(2) {text-align: left ; width: 100%}\n",
       "    .wandb-row { display: flex; flex-direction: row; flex-wrap: wrap; justify-content: flex-start; width: 100% }\n",
       "    .wandb-col { display: flex; flex-direction: column; flex-basis: 100%; flex: 1; padding: 10px; }\n",
       "    </style>\n",
       "<div class=\"wandb-row\"><div class=\"wandb-col\"><h3>Run history:</h3><br/><table class=\"wandb\"><tr><td>corr_coef_grad_sosstsst_var/dataloader_idx_0</td><td>▁</td></tr><tr><td>corr_coef_grad_sosstsst_var/dataloader_idx_1</td><td>▁</td></tr><tr><td>corr_coef_grad_sosstsst_var/dataloader_idx_2</td><td>▁</td></tr><tr><td>corr_coef_grad_sosstsst_var/dataloader_idx_3</td><td>▁</td></tr><tr><td>corr_coef_grad_sosstsst_var/dataloader_idx_4</td><td>▁</td></tr><tr><td>corr_coef_grad_sosstsst_var/dataloader_idx_5</td><td>▁</td></tr><tr><td>corr_coef_sosstsst_var/dataloader_idx_0</td><td>▁</td></tr><tr><td>corr_coef_sosstsst_var/dataloader_idx_1</td><td>▁</td></tr><tr><td>corr_coef_sosstsst_var/dataloader_idx_2</td><td>▁</td></tr><tr><td>corr_coef_sosstsst_var/dataloader_idx_3</td><td>▁</td></tr><tr><td>corr_coef_sosstsst_var/dataloader_idx_4</td><td>▁</td></tr><tr><td>corr_coef_sosstsst_var/dataloader_idx_5</td><td>▁</td></tr><tr><td>epoch</td><td>▁▁▁▁▁▂▂▂▂▂▃▃▃▃▃▄▄▄▄▄▄▅▅▅▅▅▆▆▆▆▆▇▇▇▇▇▇███</td></tr><tr><td>first_weight</td><td>▁▁▁▁▁▁▁▁▁▁▁▁▁▁▁▁▁▁▁▁▁▁▁▁▁▁▁▁▁</td></tr><tr><td>loss_grad_sosstsst_var/dataloader_idx_0</td><td>▁</td></tr><tr><td>loss_grad_sosstsst_var/dataloader_idx_1</td><td>▁</td></tr><tr><td>loss_grad_sosstsst_var/dataloader_idx_2</td><td>▁</td></tr><tr><td>loss_grad_sosstsst_var/dataloader_idx_3</td><td>▁</td></tr><tr><td>loss_grad_sosstsst_var/dataloader_idx_4</td><td>▁</td></tr><tr><td>loss_grad_sosstsst_var/dataloader_idx_5</td><td>▁</td></tr><tr><td>loss_train</td><td>█▄▃▃▂▂▂▂▂▂▁▁▁▁▁▁▁▁▁▁▁▁▁▁▁▁▁▁▁</td></tr><tr><td>loss_val_sosstsst_var/dataloader_idx_0</td><td>▁</td></tr><tr><td>loss_val_sosstsst_var/dataloader_idx_1</td><td>▁</td></tr><tr><td>loss_val_sosstsst_var/dataloader_idx_2</td><td>▁</td></tr><tr><td>loss_val_sosstsst_var/dataloader_idx_3</td><td>▁</td></tr><tr><td>loss_val_sosstsst_var/dataloader_idx_4</td><td>▁</td></tr><tr><td>loss_val_sosstsst_var/dataloader_idx_5</td><td>▁</td></tr><tr><td>loss_validation</td><td>█▃▅▃▃▂▆▂▄▁▂▂▂▁▃▂▂▂▃▂▃▃▆▃▅▃▃▅▃</td></tr><tr><td>trainer/global_step</td><td>▁▁▁▁▁▂▂▂▂▂▃▃▃▃▃▄▄▄▄▄▄▅▅▅▅▅▆▆▆▆▆▇▇▇▇▇▇███</td></tr></table><br/></div><div class=\"wandb-col\"><h3>Run summary:</h3><br/><table class=\"wandb\"><tr><td>corr_coef_grad_sosstsst_var/dataloader_idx_0</td><td>0.81836</td></tr><tr><td>corr_coef_grad_sosstsst_var/dataloader_idx_1</td><td>0.76532</td></tr><tr><td>corr_coef_grad_sosstsst_var/dataloader_idx_2</td><td>0.56932</td></tr><tr><td>corr_coef_grad_sosstsst_var/dataloader_idx_3</td><td>0.75531</td></tr><tr><td>corr_coef_grad_sosstsst_var/dataloader_idx_4</td><td>0.2232</td></tr><tr><td>corr_coef_grad_sosstsst_var/dataloader_idx_5</td><td>0.51692</td></tr><tr><td>corr_coef_sosstsst_var/dataloader_idx_0</td><td>0.87798</td></tr><tr><td>corr_coef_sosstsst_var/dataloader_idx_1</td><td>0.86524</td></tr><tr><td>corr_coef_sosstsst_var/dataloader_idx_2</td><td>0.71016</td></tr><tr><td>corr_coef_sosstsst_var/dataloader_idx_3</td><td>0.84204</td></tr><tr><td>corr_coef_sosstsst_var/dataloader_idx_4</td><td>0.50789</td></tr><tr><td>corr_coef_sosstsst_var/dataloader_idx_5</td><td>0.62414</td></tr><tr><td>epoch</td><td>29</td></tr><tr><td>first_weight</td><td>0.07202</td></tr><tr><td>loss_grad_sosstsst_var/dataloader_idx_0</td><td>10.21834</td></tr><tr><td>loss_grad_sosstsst_var/dataloader_idx_1</td><td>0.71789</td></tr><tr><td>loss_grad_sosstsst_var/dataloader_idx_2</td><td>2.26561</td></tr><tr><td>loss_grad_sosstsst_var/dataloader_idx_3</td><td>0.03545</td></tr><tr><td>loss_grad_sosstsst_var/dataloader_idx_4</td><td>0.0</td></tr><tr><td>loss_grad_sosstsst_var/dataloader_idx_5</td><td>2e-05</td></tr><tr><td>loss_train</td><td>0.05314</td></tr><tr><td>loss_val_sosstsst_var/dataloader_idx_0</td><td>0.23802</td></tr><tr><td>loss_val_sosstsst_var/dataloader_idx_1</td><td>0.06166</td></tr><tr><td>loss_val_sosstsst_var/dataloader_idx_2</td><td>0.09037</td></tr><tr><td>loss_val_sosstsst_var/dataloader_idx_3</td><td>0.00975</td></tr><tr><td>loss_val_sosstsst_var/dataloader_idx_4</td><td>0.00015</td></tr><tr><td>loss_val_sosstsst_var/dataloader_idx_5</td><td>0.00086</td></tr><tr><td>loss_validation</td><td>0.06614</td></tr><tr><td>trainer/global_step</td><td>56637</td></tr></table><br/></div></div>"
      ],
      "text/plain": [
       "<IPython.core.display.HTML object>"
      ]
     },
     "metadata": {},
     "output_type": "display_data"
    },
    {
     "data": {
      "text/html": [
       " View run <strong style=\"color:#cdcd00\">FCNN_patch_in3_out1_val_loss2D_nn_nf</strong> at: <a href='https://wandb.ai/anagorb63/tests/runs/FCNN_patch_in3_out1_val_loss2D_nn_nf' target=\"_blank\">https://wandb.ai/anagorb63/tests/runs/FCNN_patch_in3_out1_val_loss2D_nn_nf</a><br/>Synced 6 W&B file(s), 0 media file(s), 2 artifact file(s) and 0 other file(s)"
      ],
      "text/plain": [
       "<IPython.core.display.HTML object>"
      ]
     },
     "metadata": {},
     "output_type": "display_data"
    },
    {
     "data": {
      "text/html": [
       "Find logs at: <code>./wandb/run-20230314_200505-FCNN_patch_in3_out1_val_loss2D_nn_nf/logs</code>"
      ],
      "text/plain": [
       "<IPython.core.display.HTML object>"
      ]
     },
     "metadata": {},
     "output_type": "display_data"
    }
   ],
   "source": [
    "config = dict({'model_label' : 'FCNN',\n",
    "                'version' : 'patch_in3_out1_val_loss2D_nn_nf',\n",
    "                'torch_model' : 'myParam.FCNN',\n",
    "                'datamodule' : 'all_data_2D',\n",
    "                'torch_model_params' : dict({'data_geometry' : '2D',\\\n",
    "                                            'nb_of_input_features' : 1, \\\n",
    "                                            'nb_of_output_features' : 1, \\\n",
    "                                            'input_patch_size' : 3,\n",
    "                                            'output_patch_size' : 1, \n",
    "                                            'int_layer_width' : 50}),\n",
    "                'module_params' : dict({'input_features'  : ['sosstsst'],\n",
    "                                        'output_features'  : ['sosstsst_var'],\n",
    "                                        'output_units' : ['diff_sosstsst_sqr'],\n",
    "                                        'loss' : torch.nn.functional.mse_loss,\n",
    "                                        'optimizer' : torch.optim.Adam,\n",
    "                                        'learning_rate' : 1e-3,}),\n",
    "                'training_params' : dict({'max_epochs' : 100,\n",
    "                                          'limit_train_batches' : 1.0})\n",
    "               })\n",
    "run_experiment(config, project_name)"
   ]
  },
  {
   "cell_type": "code",
   "execution_count": 23,
   "id": "c8a69997-5575-4549-bc98-98d45c9c9bdb",
   "metadata": {},
   "outputs": [
    {
     "data": {
      "application/vnd.jupyter.widget-view+json": {
       "model_id": "21d9cf0a438045368172f3706189e312",
       "version_major": 2,
       "version_minor": 0
      },
      "text/plain": [
       "VBox(children=(Label(value='Waiting for wandb.init()...\\r'), FloatProgress(value=0.016669282733346336, max=1.0…"
      ]
     },
     "metadata": {},
     "output_type": "display_data"
    },
    {
     "data": {
      "text/html": [
       "Tracking run with wandb version 0.13.11"
      ],
      "text/plain": [
       "<IPython.core.display.HTML object>"
      ]
     },
     "metadata": {},
     "output_type": "display_data"
    },
    {
     "data": {
      "text/html": [
       "Run data is saved locally in <code>./wandb/run-20230314_202750-FCNN_patch_in3_out1_val_loss2D_nor_nf</code>"
      ],
      "text/plain": [
       "<IPython.core.display.HTML object>"
      ]
     },
     "metadata": {},
     "output_type": "display_data"
    },
    {
     "data": {
      "text/html": [
       "Syncing run <strong><a href='https://wandb.ai/anagorb63/tests/runs/FCNN_patch_in3_out1_val_loss2D_nor_nf' target=\"_blank\">FCNN_patch_in3_out1_val_loss2D_nor_nf</a></strong> to <a href='https://wandb.ai/anagorb63/tests' target=\"_blank\">Weights & Biases</a> (<a href='https://wandb.me/run' target=\"_blank\">docs</a>)<br/>"
      ],
      "text/plain": [
       "<IPython.core.display.HTML object>"
      ]
     },
     "metadata": {},
     "output_type": "display_data"
    },
    {
     "data": {
      "text/html": [
       " View project at <a href='https://wandb.ai/anagorb63/tests' target=\"_blank\">https://wandb.ai/anagorb63/tests</a>"
      ],
      "text/plain": [
       "<IPython.core.display.HTML object>"
      ]
     },
     "metadata": {},
     "output_type": "display_data"
    },
    {
     "data": {
      "text/html": [
       " View run at <a href='https://wandb.ai/anagorb63/tests/runs/FCNN_patch_in3_out1_val_loss2D_nor_nf' target=\"_blank\">https://wandb.ai/anagorb63/tests/runs/FCNN_patch_in3_out1_val_loss2D_nor_nf</a>"
      ],
      "text/plain": [
       "<IPython.core.display.HTML object>"
      ]
     },
     "metadata": {},
     "output_type": "display_data"
    },
    {
     "name": "stderr",
     "output_type": "stream",
     "text": [
      "/srv/conda/envs/notebook/lib/python3.10/site-packages/pytorch_lightning/utilities/parsing.py:262: UserWarning: Attribute 'torch_model' is an instance of `nn.Module` and is already saved during checkpointing. It is recommended to ignore them using `self.save_hyperparameters(ignore=['torch_model'])`.\n",
      "  rank_zero_warn(\n",
      "GPU available: True (cuda), used: True\n",
      "TPU available: False, using: 0 TPU cores\n",
      "IPU available: False, using: 0 IPUs\n",
      "HPU available: False, using: 0 HPUs\n",
      "`Trainer(limit_train_batches=1.0)` was configured so 100% of the batches per epoch will be used..\n",
      "/srv/conda/envs/notebook/lib/python3.10/site-packages/pytorch_lightning/callbacks/model_checkpoint.py:604: UserWarning: Checkpoint directory ./tests/FCNN_patch_in3_out1_val_loss2D_nor_nf/checkpoints exists and is not empty.\n",
      "  rank_zero_warn(f\"Checkpoint directory {dirpath} exists and is not empty.\")\n",
      "LOCAL_RANK: 0 - CUDA_VISIBLE_DEVICES: [0]\n",
      "\n",
      "  | Name        | Type | Params\n",
      "-------------------------------------\n",
      "0 | torch_model | FCNN | 3.1 K \n",
      "-------------------------------------\n",
      "3.1 K     Trainable params\n",
      "0         Non-trainable params\n",
      "3.1 K     Total params\n",
      "0.012     Total estimated model params size (MB)\n"
     ]
    },
    {
     "data": {
      "application/vnd.jupyter.widget-view+json": {
       "model_id": "",
       "version_major": 2,
       "version_minor": 0
      },
      "text/plain": [
       "Sanity Checking: 0it [00:00, ?it/s]"
      ]
     },
     "metadata": {},
     "output_type": "display_data"
    },
    {
     "data": {
      "application/vnd.jupyter.widget-view+json": {
       "model_id": "fb25aaff9e8342419456418d0f7163ac",
       "version_major": 2,
       "version_minor": 0
      },
      "text/plain": [
       "Training: 0it [00:00, ?it/s]"
      ]
     },
     "metadata": {},
     "output_type": "display_data"
    },
    {
     "data": {
      "application/vnd.jupyter.widget-view+json": {
       "model_id": "",
       "version_major": 2,
       "version_minor": 0
      },
      "text/plain": [
       "Validation: 0it [00:00, ?it/s]"
      ]
     },
     "metadata": {},
     "output_type": "display_data"
    },
    {
     "data": {
      "application/vnd.jupyter.widget-view+json": {
       "model_id": "",
       "version_major": 2,
       "version_minor": 0
      },
      "text/plain": [
       "Validation: 0it [00:00, ?it/s]"
      ]
     },
     "metadata": {},
     "output_type": "display_data"
    },
    {
     "data": {
      "application/vnd.jupyter.widget-view+json": {
       "model_id": "",
       "version_major": 2,
       "version_minor": 0
      },
      "text/plain": [
       "Validation: 0it [00:00, ?it/s]"
      ]
     },
     "metadata": {},
     "output_type": "display_data"
    },
    {
     "data": {
      "application/vnd.jupyter.widget-view+json": {
       "model_id": "",
       "version_major": 2,
       "version_minor": 0
      },
      "text/plain": [
       "Validation: 0it [00:00, ?it/s]"
      ]
     },
     "metadata": {},
     "output_type": "display_data"
    },
    {
     "data": {
      "application/vnd.jupyter.widget-view+json": {
       "model_id": "",
       "version_major": 2,
       "version_minor": 0
      },
      "text/plain": [
       "Validation: 0it [00:00, ?it/s]"
      ]
     },
     "metadata": {},
     "output_type": "display_data"
    },
    {
     "data": {
      "application/vnd.jupyter.widget-view+json": {
       "model_id": "",
       "version_major": 2,
       "version_minor": 0
      },
      "text/plain": [
       "Validation: 0it [00:00, ?it/s]"
      ]
     },
     "metadata": {},
     "output_type": "display_data"
    },
    {
     "data": {
      "application/vnd.jupyter.widget-view+json": {
       "model_id": "",
       "version_major": 2,
       "version_minor": 0
      },
      "text/plain": [
       "Validation: 0it [00:00, ?it/s]"
      ]
     },
     "metadata": {},
     "output_type": "display_data"
    },
    {
     "data": {
      "application/vnd.jupyter.widget-view+json": {
       "model_id": "",
       "version_major": 2,
       "version_minor": 0
      },
      "text/plain": [
       "Validation: 0it [00:00, ?it/s]"
      ]
     },
     "metadata": {},
     "output_type": "display_data"
    },
    {
     "data": {
      "application/vnd.jupyter.widget-view+json": {
       "model_id": "",
       "version_major": 2,
       "version_minor": 0
      },
      "text/plain": [
       "Validation: 0it [00:00, ?it/s]"
      ]
     },
     "metadata": {},
     "output_type": "display_data"
    },
    {
     "data": {
      "application/vnd.jupyter.widget-view+json": {
       "model_id": "",
       "version_major": 2,
       "version_minor": 0
      },
      "text/plain": [
       "Validation: 0it [00:00, ?it/s]"
      ]
     },
     "metadata": {},
     "output_type": "display_data"
    },
    {
     "data": {
      "application/vnd.jupyter.widget-view+json": {
       "model_id": "",
       "version_major": 2,
       "version_minor": 0
      },
      "text/plain": [
       "Validation: 0it [00:00, ?it/s]"
      ]
     },
     "metadata": {},
     "output_type": "display_data"
    },
    {
     "data": {
      "application/vnd.jupyter.widget-view+json": {
       "model_id": "",
       "version_major": 2,
       "version_minor": 0
      },
      "text/plain": [
       "Validation: 0it [00:00, ?it/s]"
      ]
     },
     "metadata": {},
     "output_type": "display_data"
    },
    {
     "data": {
      "application/vnd.jupyter.widget-view+json": {
       "model_id": "",
       "version_major": 2,
       "version_minor": 0
      },
      "text/plain": [
       "Validation: 0it [00:00, ?it/s]"
      ]
     },
     "metadata": {},
     "output_type": "display_data"
    },
    {
     "data": {
      "application/vnd.jupyter.widget-view+json": {
       "model_id": "",
       "version_major": 2,
       "version_minor": 0
      },
      "text/plain": [
       "Validation: 0it [00:00, ?it/s]"
      ]
     },
     "metadata": {},
     "output_type": "display_data"
    },
    {
     "data": {
      "application/vnd.jupyter.widget-view+json": {
       "model_id": "",
       "version_major": 2,
       "version_minor": 0
      },
      "text/plain": [
       "Validation: 0it [00:00, ?it/s]"
      ]
     },
     "metadata": {},
     "output_type": "display_data"
    },
    {
     "data": {
      "application/vnd.jupyter.widget-view+json": {
       "model_id": "",
       "version_major": 2,
       "version_minor": 0
      },
      "text/plain": [
       "Validation: 0it [00:00, ?it/s]"
      ]
     },
     "metadata": {},
     "output_type": "display_data"
    },
    {
     "data": {
      "application/vnd.jupyter.widget-view+json": {
       "model_id": "",
       "version_major": 2,
       "version_minor": 0
      },
      "text/plain": [
       "Validation: 0it [00:00, ?it/s]"
      ]
     },
     "metadata": {},
     "output_type": "display_data"
    },
    {
     "data": {
      "application/vnd.jupyter.widget-view+json": {
       "model_id": "",
       "version_major": 2,
       "version_minor": 0
      },
      "text/plain": [
       "Validation: 0it [00:00, ?it/s]"
      ]
     },
     "metadata": {},
     "output_type": "display_data"
    },
    {
     "data": {
      "application/vnd.jupyter.widget-view+json": {
       "model_id": "",
       "version_major": 2,
       "version_minor": 0
      },
      "text/plain": [
       "Validation: 0it [00:00, ?it/s]"
      ]
     },
     "metadata": {},
     "output_type": "display_data"
    },
    {
     "data": {
      "application/vnd.jupyter.widget-view+json": {
       "model_id": "",
       "version_major": 2,
       "version_minor": 0
      },
      "text/plain": [
       "Validation: 0it [00:00, ?it/s]"
      ]
     },
     "metadata": {},
     "output_type": "display_data"
    },
    {
     "data": {
      "application/vnd.jupyter.widget-view+json": {
       "model_id": "",
       "version_major": 2,
       "version_minor": 0
      },
      "text/plain": [
       "Validation: 0it [00:00, ?it/s]"
      ]
     },
     "metadata": {},
     "output_type": "display_data"
    },
    {
     "data": {
      "application/vnd.jupyter.widget-view+json": {
       "model_id": "",
       "version_major": 2,
       "version_minor": 0
      },
      "text/plain": [
       "Validation: 0it [00:00, ?it/s]"
      ]
     },
     "metadata": {},
     "output_type": "display_data"
    },
    {
     "data": {
      "application/vnd.jupyter.widget-view+json": {
       "model_id": "",
       "version_major": 2,
       "version_minor": 0
      },
      "text/plain": [
       "Validation: 0it [00:00, ?it/s]"
      ]
     },
     "metadata": {},
     "output_type": "display_data"
    },
    {
     "data": {
      "application/vnd.jupyter.widget-view+json": {
       "model_id": "",
       "version_major": 2,
       "version_minor": 0
      },
      "text/plain": [
       "Validation: 0it [00:00, ?it/s]"
      ]
     },
     "metadata": {},
     "output_type": "display_data"
    },
    {
     "data": {
      "application/vnd.jupyter.widget-view+json": {
       "model_id": "",
       "version_major": 2,
       "version_minor": 0
      },
      "text/plain": [
       "Validation: 0it [00:00, ?it/s]"
      ]
     },
     "metadata": {},
     "output_type": "display_data"
    },
    {
     "data": {
      "application/vnd.jupyter.widget-view+json": {
       "model_id": "",
       "version_major": 2,
       "version_minor": 0
      },
      "text/plain": [
       "Validation: 0it [00:00, ?it/s]"
      ]
     },
     "metadata": {},
     "output_type": "display_data"
    },
    {
     "data": {
      "application/vnd.jupyter.widget-view+json": {
       "model_id": "",
       "version_major": 2,
       "version_minor": 0
      },
      "text/plain": [
       "Validation: 0it [00:00, ?it/s]"
      ]
     },
     "metadata": {},
     "output_type": "display_data"
    },
    {
     "data": {
      "application/vnd.jupyter.widget-view+json": {
       "model_id": "",
       "version_major": 2,
       "version_minor": 0
      },
      "text/plain": [
       "Validation: 0it [00:00, ?it/s]"
      ]
     },
     "metadata": {},
     "output_type": "display_data"
    },
    {
     "data": {
      "application/vnd.jupyter.widget-view+json": {
       "model_id": "",
       "version_major": 2,
       "version_minor": 0
      },
      "text/plain": [
       "Validation: 0it [00:00, ?it/s]"
      ]
     },
     "metadata": {},
     "output_type": "display_data"
    },
    {
     "data": {
      "application/vnd.jupyter.widget-view+json": {
       "model_id": "",
       "version_major": 2,
       "version_minor": 0
      },
      "text/plain": [
       "Validation: 0it [00:00, ?it/s]"
      ]
     },
     "metadata": {},
     "output_type": "display_data"
    },
    {
     "data": {
      "application/vnd.jupyter.widget-view+json": {
       "model_id": "",
       "version_major": 2,
       "version_minor": 0
      },
      "text/plain": [
       "Validation: 0it [00:00, ?it/s]"
      ]
     },
     "metadata": {},
     "output_type": "display_data"
    },
    {
     "data": {
      "application/vnd.jupyter.widget-view+json": {
       "model_id": "",
       "version_major": 2,
       "version_minor": 0
      },
      "text/plain": [
       "Validation: 0it [00:00, ?it/s]"
      ]
     },
     "metadata": {},
     "output_type": "display_data"
    },
    {
     "data": {
      "application/vnd.jupyter.widget-view+json": {
       "model_id": "",
       "version_major": 2,
       "version_minor": 0
      },
      "text/plain": [
       "Validation: 0it [00:00, ?it/s]"
      ]
     },
     "metadata": {},
     "output_type": "display_data"
    },
    {
     "data": {
      "application/vnd.jupyter.widget-view+json": {
       "model_id": "",
       "version_major": 2,
       "version_minor": 0
      },
      "text/plain": [
       "Validation: 0it [00:00, ?it/s]"
      ]
     },
     "metadata": {},
     "output_type": "display_data"
    },
    {
     "data": {
      "application/vnd.jupyter.widget-view+json": {
       "model_id": "",
       "version_major": 2,
       "version_minor": 0
      },
      "text/plain": [
       "Validation: 0it [00:00, ?it/s]"
      ]
     },
     "metadata": {},
     "output_type": "display_data"
    },
    {
     "data": {
      "application/vnd.jupyter.widget-view+json": {
       "model_id": "",
       "version_major": 2,
       "version_minor": 0
      },
      "text/plain": [
       "Validation: 0it [00:00, ?it/s]"
      ]
     },
     "metadata": {},
     "output_type": "display_data"
    },
    {
     "data": {
      "application/vnd.jupyter.widget-view+json": {
       "model_id": "",
       "version_major": 2,
       "version_minor": 0
      },
      "text/plain": [
       "Validation: 0it [00:00, ?it/s]"
      ]
     },
     "metadata": {},
     "output_type": "display_data"
    },
    {
     "data": {
      "application/vnd.jupyter.widget-view+json": {
       "model_id": "",
       "version_major": 2,
       "version_minor": 0
      },
      "text/plain": [
       "Validation: 0it [00:00, ?it/s]"
      ]
     },
     "metadata": {},
     "output_type": "display_data"
    },
    {
     "data": {
      "application/vnd.jupyter.widget-view+json": {
       "model_id": "",
       "version_major": 2,
       "version_minor": 0
      },
      "text/plain": [
       "Validation: 0it [00:00, ?it/s]"
      ]
     },
     "metadata": {},
     "output_type": "display_data"
    },
    {
     "data": {
      "application/vnd.jupyter.widget-view+json": {
       "model_id": "",
       "version_major": 2,
       "version_minor": 0
      },
      "text/plain": [
       "Validation: 0it [00:00, ?it/s]"
      ]
     },
     "metadata": {},
     "output_type": "display_data"
    },
    {
     "data": {
      "application/vnd.jupyter.widget-view+json": {
       "model_id": "",
       "version_major": 2,
       "version_minor": 0
      },
      "text/plain": [
       "Validation: 0it [00:00, ?it/s]"
      ]
     },
     "metadata": {},
     "output_type": "display_data"
    },
    {
     "data": {
      "application/vnd.jupyter.widget-view+json": {
       "model_id": "717c1220cfb7467cb57ed6ac0d917498",
       "version_major": 2,
       "version_minor": 0
      },
      "text/plain": [
       "Validation: 0it [00:00, ?it/s]"
      ]
     },
     "metadata": {},
     "output_type": "display_data"
    },
    {
     "data": {
      "application/vnd.jupyter.widget-view+json": {
       "model_id": "aa7d195974ad4ad193198fc1bf9abf26",
       "version_major": 2,
       "version_minor": 0
      },
      "text/plain": [
       "Validation: 0it [00:00, ?it/s]"
      ]
     },
     "metadata": {},
     "output_type": "display_data"
    },
    {
     "data": {
      "application/vnd.jupyter.widget-view+json": {
       "model_id": "7ee20b4d6410450ba0f5fc5f783053ad",
       "version_major": 2,
       "version_minor": 0
      },
      "text/plain": [
       "Validation: 0it [00:00, ?it/s]"
      ]
     },
     "metadata": {},
     "output_type": "display_data"
    },
    {
     "data": {
      "application/vnd.jupyter.widget-view+json": {
       "model_id": "eb0dd38b5e78423cbb48906d4c8ec980",
       "version_major": 2,
       "version_minor": 0
      },
      "text/plain": [
       "Validation: 0it [00:00, ?it/s]"
      ]
     },
     "metadata": {},
     "output_type": "display_data"
    },
    {
     "data": {
      "application/vnd.jupyter.widget-view+json": {
       "model_id": "f768ec1302e7441988ee9844dfc69605",
       "version_major": 2,
       "version_minor": 0
      },
      "text/plain": [
       "Validation: 0it [00:00, ?it/s]"
      ]
     },
     "metadata": {},
     "output_type": "display_data"
    },
    {
     "data": {
      "application/vnd.jupyter.widget-view+json": {
       "model_id": "657333f00e46480db962ce6a1722c1a9",
       "version_major": 2,
       "version_minor": 0
      },
      "text/plain": [
       "Validation: 0it [00:00, ?it/s]"
      ]
     },
     "metadata": {},
     "output_type": "display_data"
    },
    {
     "data": {
      "application/vnd.jupyter.widget-view+json": {
       "model_id": "8caec091568245a2a06409af875e08a1",
       "version_major": 2,
       "version_minor": 0
      },
      "text/plain": [
       "Validation: 0it [00:00, ?it/s]"
      ]
     },
     "metadata": {},
     "output_type": "display_data"
    },
    {
     "data": {
      "application/vnd.jupyter.widget-view+json": {
       "model_id": "93c78ae26ae04e4aa40a69cdc78dea1b",
       "version_major": 2,
       "version_minor": 0
      },
      "text/plain": [
       "Validation: 0it [00:00, ?it/s]"
      ]
     },
     "metadata": {},
     "output_type": "display_data"
    },
    {
     "data": {
      "application/vnd.jupyter.widget-view+json": {
       "model_id": "1e5ba17ff30b4c74943a38e06a0e9ae2",
       "version_major": 2,
       "version_minor": 0
      },
      "text/plain": [
       "Validation: 0it [00:00, ?it/s]"
      ]
     },
     "metadata": {},
     "output_type": "display_data"
    },
    {
     "data": {
      "application/vnd.jupyter.widget-view+json": {
       "model_id": "ec11e37bd8bf4ce5b07b2c19ec1e6cf6",
       "version_major": 2,
       "version_minor": 0
      },
      "text/plain": [
       "Validation: 0it [00:00, ?it/s]"
      ]
     },
     "metadata": {},
     "output_type": "display_data"
    },
    {
     "data": {
      "application/vnd.jupyter.widget-view+json": {
       "model_id": "34ea4f4464c34c339068e3722210b526",
       "version_major": 2,
       "version_minor": 0
      },
      "text/plain": [
       "Validation: 0it [00:00, ?it/s]"
      ]
     },
     "metadata": {},
     "output_type": "display_data"
    },
    {
     "data": {
      "application/vnd.jupyter.widget-view+json": {
       "model_id": "0405d40b5b154c4a9fb6b5c11d10ca4c",
       "version_major": 2,
       "version_minor": 0
      },
      "text/plain": [
       "Validation: 0it [00:00, ?it/s]"
      ]
     },
     "metadata": {},
     "output_type": "display_data"
    },
    {
     "data": {
      "application/vnd.jupyter.widget-view+json": {
       "model_id": "b66cc614f5a540a1b715afacd85a4202",
       "version_major": 2,
       "version_minor": 0
      },
      "text/plain": [
       "Validation: 0it [00:00, ?it/s]"
      ]
     },
     "metadata": {},
     "output_type": "display_data"
    },
    {
     "name": "stderr",
     "output_type": "stream",
     "text": [
      "LOCAL_RANK: 0 - CUDA_VISIBLE_DEVICES: [0]\n"
     ]
    },
    {
     "data": {
      "application/vnd.jupyter.widget-view+json": {
       "model_id": "5ea3bc84e8ae4b4c994c367c08a170b2",
       "version_major": 2,
       "version_minor": 0
      },
      "text/plain": [
       "Testing: 0it [00:00, ?it/s]"
      ]
     },
     "metadata": {},
     "output_type": "display_data"
    },
    {
     "data": {
      "text/html": [
       "<pre style=\"white-space:pre;overflow-x:auto;line-height:normal;font-family:Menlo,'DejaVu Sans Mono',consolas,'Courier New',monospace\">┏━━━━━━━━━━━━━━━━━━━━━━━━━━━┳━━━━━━━━━━━━━━━━━━━━━━━━━━━━┳━━━━━━━━━━━━━━━━━━━━━━━━━━━┳━━━━━━━━━━━━━━━━━━━━━━━━━━━━┓\n",
       "┃<span style=\"font-weight: bold\">        Test metric        </span>┃<span style=\"font-weight: bold\">        DataLoader 0        </span>┃<span style=\"font-weight: bold\">       DataLoader 1        </span>┃<span style=\"font-weight: bold\">        DataLoader 2        </span>┃\n",
       "┡━━━━━━━━━━━━━━━━━━━━━━━━━━━╇━━━━━━━━━━━━━━━━━━━━━━━━━━━━╇━━━━━━━━━━━━━━━━━━━━━━━━━━━╇━━━━━━━━━━━━━━━━━━━━━━━━━━━━┩\n",
       "│<span style=\"color: #008080; text-decoration-color: #008080\"> corr_coef_grad_sosstsst_… </span>│<span style=\"color: #800080; text-decoration-color: #800080\">     0.8478993773460388     </span>│<span style=\"color: #800080; text-decoration-color: #800080\">    0.8194363713264465     </span>│<span style=\"color: #800080; text-decoration-color: #800080\">     0.3646734356880188     </span>│\n",
       "│<span style=\"color: #008080; text-decoration-color: #008080\">  corr_coef_sosstsst_var   </span>│<span style=\"color: #800080; text-decoration-color: #800080\">     0.8907948136329651     </span>│<span style=\"color: #800080; text-decoration-color: #800080\">    0.8891425728797913     </span>│<span style=\"color: #800080; text-decoration-color: #800080\">     0.2915504276752472     </span>│\n",
       "│<span style=\"color: #008080; text-decoration-color: #008080\">  loss_grad_sosstsst_var   </span>│<span style=\"color: #800080; text-decoration-color: #800080\">     9.053519248962402      </span>│<span style=\"color: #800080; text-decoration-color: #800080\">    0.7390385270118713     </span>│<span style=\"color: #800080; text-decoration-color: #800080\">     465.18414306640625     </span>│\n",
       "│<span style=\"color: #008080; text-decoration-color: #008080\">   loss_val_sosstsst_var   </span>│<span style=\"color: #800080; text-decoration-color: #800080\">    0.20655885338783264     </span>│<span style=\"color: #800080; text-decoration-color: #800080\">    0.05662650614976883    </span>│<span style=\"color: #800080; text-decoration-color: #800080\">     1.3530757427215576     </span>│\n",
       "└───────────────────────────┴────────────────────────────┴───────────────────────────┴────────────────────────────┘\n",
       "</pre>\n"
      ],
      "text/plain": [
       "┏━━━━━━━━━━━━━━━━━━━━━━━━━━━┳━━━━━━━━━━━━━━━━━━━━━━━━━━━━┳━━━━━━━━━━━━━━━━━━━━━━━━━━━┳━━━━━━━━━━━━━━━━━━━━━━━━━━━━┓\n",
       "┃\u001b[1m \u001b[0m\u001b[1m       Test metric       \u001b[0m\u001b[1m \u001b[0m┃\u001b[1m \u001b[0m\u001b[1m       DataLoader 0       \u001b[0m\u001b[1m \u001b[0m┃\u001b[1m \u001b[0m\u001b[1m      DataLoader 1       \u001b[0m\u001b[1m \u001b[0m┃\u001b[1m \u001b[0m\u001b[1m       DataLoader 2       \u001b[0m\u001b[1m \u001b[0m┃\n",
       "┡━━━━━━━━━━━━━━━━━━━━━━━━━━━╇━━━━━━━━━━━━━━━━━━━━━━━━━━━━╇━━━━━━━━━━━━━━━━━━━━━━━━━━━╇━━━━━━━━━━━━━━━━━━━━━━━━━━━━┩\n",
       "│\u001b[36m \u001b[0m\u001b[36mcorr_coef_grad_sosstsst_…\u001b[0m\u001b[36m \u001b[0m│\u001b[35m \u001b[0m\u001b[35m    0.8478993773460388    \u001b[0m\u001b[35m \u001b[0m│\u001b[35m \u001b[0m\u001b[35m   0.8194363713264465    \u001b[0m\u001b[35m \u001b[0m│\u001b[35m \u001b[0m\u001b[35m    0.3646734356880188    \u001b[0m\u001b[35m \u001b[0m│\n",
       "│\u001b[36m \u001b[0m\u001b[36m corr_coef_sosstsst_var  \u001b[0m\u001b[36m \u001b[0m│\u001b[35m \u001b[0m\u001b[35m    0.8907948136329651    \u001b[0m\u001b[35m \u001b[0m│\u001b[35m \u001b[0m\u001b[35m   0.8891425728797913    \u001b[0m\u001b[35m \u001b[0m│\u001b[35m \u001b[0m\u001b[35m    0.2915504276752472    \u001b[0m\u001b[35m \u001b[0m│\n",
       "│\u001b[36m \u001b[0m\u001b[36m loss_grad_sosstsst_var  \u001b[0m\u001b[36m \u001b[0m│\u001b[35m \u001b[0m\u001b[35m    9.053519248962402     \u001b[0m\u001b[35m \u001b[0m│\u001b[35m \u001b[0m\u001b[35m   0.7390385270118713    \u001b[0m\u001b[35m \u001b[0m│\u001b[35m \u001b[0m\u001b[35m    465.18414306640625    \u001b[0m\u001b[35m \u001b[0m│\n",
       "│\u001b[36m \u001b[0m\u001b[36m  loss_val_sosstsst_var  \u001b[0m\u001b[36m \u001b[0m│\u001b[35m \u001b[0m\u001b[35m   0.20655885338783264    \u001b[0m\u001b[35m \u001b[0m│\u001b[35m \u001b[0m\u001b[35m   0.05662650614976883   \u001b[0m\u001b[35m \u001b[0m│\u001b[35m \u001b[0m\u001b[35m    1.3530757427215576    \u001b[0m\u001b[35m \u001b[0m│\n",
       "└───────────────────────────┴────────────────────────────┴───────────────────────────┴────────────────────────────┘\n"
      ]
     },
     "metadata": {},
     "output_type": "display_data"
    },
    {
     "data": {
      "text/html": [
       "<pre style=\"white-space:pre;overflow-x:auto;line-height:normal;font-family:Menlo,'DejaVu Sans Mono',consolas,'Courier New',monospace\">┏━━━━━━━━━━━━━━━━━━━━━━━━━━━┳━━━━━━━━━━━━━━━━━━━━━━━━━━━━┳━━━━━━━━━━━━━━━━━━━━━━━━━━━┳━━━━━━━━━━━━━━━━━━━━━━━━━━━━┓\n",
       "┃<span style=\"font-weight: bold\">        Test metric        </span>┃<span style=\"font-weight: bold\">        DataLoader 3        </span>┃<span style=\"font-weight: bold\">       DataLoader 4        </span>┃<span style=\"font-weight: bold\">        DataLoader 5        </span>┃\n",
       "┡━━━━━━━━━━━━━━━━━━━━━━━━━━━╇━━━━━━━━━━━━━━━━━━━━━━━━━━━━╇━━━━━━━━━━━━━━━━━━━━━━━━━━━╇━━━━━━━━━━━━━━━━━━━━━━━━━━━━┩\n",
       "│<span style=\"color: #008080; text-decoration-color: #008080\"> corr_coef_grad_sosstsst_… </span>│<span style=\"color: #800080; text-decoration-color: #800080\">     0.6888788342475891     </span>│<span style=\"color: #800080; text-decoration-color: #800080\">    0.1452183574438095     </span>│<span style=\"color: #800080; text-decoration-color: #800080\">    0.48660749197006226     </span>│\n",
       "│<span style=\"color: #008080; text-decoration-color: #008080\">  corr_coef_sosstsst_var   </span>│<span style=\"color: #800080; text-decoration-color: #800080\">     0.7512838840484619     </span>│<span style=\"color: #800080; text-decoration-color: #800080\">    0.4922787547111511     </span>│<span style=\"color: #800080; text-decoration-color: #800080\">     0.5976707935333252     </span>│\n",
       "│<span style=\"color: #008080; text-decoration-color: #008080\">  loss_grad_sosstsst_var   </span>│<span style=\"color: #800080; text-decoration-color: #800080\">    0.05634629353880882     </span>│<span style=\"color: #800080; text-decoration-color: #800080\">   1.100726512959227e-05   </span>│<span style=\"color: #800080; text-decoration-color: #800080\">   2.2843803890282288e-05   </span>│\n",
       "│<span style=\"color: #008080; text-decoration-color: #008080\">   loss_val_sosstsst_var   </span>│<span style=\"color: #800080; text-decoration-color: #800080\">    0.01308119110763073     </span>│<span style=\"color: #800080; text-decoration-color: #800080\">  0.00013807787036057562   </span>│<span style=\"color: #800080; text-decoration-color: #800080\">   0.0008342464570887387    </span>│\n",
       "└───────────────────────────┴────────────────────────────┴───────────────────────────┴────────────────────────────┘\n",
       "</pre>\n"
      ],
      "text/plain": [
       "┏━━━━━━━━━━━━━━━━━━━━━━━━━━━┳━━━━━━━━━━━━━━━━━━━━━━━━━━━━┳━━━━━━━━━━━━━━━━━━━━━━━━━━━┳━━━━━━━━━━━━━━━━━━━━━━━━━━━━┓\n",
       "┃\u001b[1m \u001b[0m\u001b[1m       Test metric       \u001b[0m\u001b[1m \u001b[0m┃\u001b[1m \u001b[0m\u001b[1m       DataLoader 3       \u001b[0m\u001b[1m \u001b[0m┃\u001b[1m \u001b[0m\u001b[1m      DataLoader 4       \u001b[0m\u001b[1m \u001b[0m┃\u001b[1m \u001b[0m\u001b[1m       DataLoader 5       \u001b[0m\u001b[1m \u001b[0m┃\n",
       "┡━━━━━━━━━━━━━━━━━━━━━━━━━━━╇━━━━━━━━━━━━━━━━━━━━━━━━━━━━╇━━━━━━━━━━━━━━━━━━━━━━━━━━━╇━━━━━━━━━━━━━━━━━━━━━━━━━━━━┩\n",
       "│\u001b[36m \u001b[0m\u001b[36mcorr_coef_grad_sosstsst_…\u001b[0m\u001b[36m \u001b[0m│\u001b[35m \u001b[0m\u001b[35m    0.6888788342475891    \u001b[0m\u001b[35m \u001b[0m│\u001b[35m \u001b[0m\u001b[35m   0.1452183574438095    \u001b[0m\u001b[35m \u001b[0m│\u001b[35m \u001b[0m\u001b[35m   0.48660749197006226    \u001b[0m\u001b[35m \u001b[0m│\n",
       "│\u001b[36m \u001b[0m\u001b[36m corr_coef_sosstsst_var  \u001b[0m\u001b[36m \u001b[0m│\u001b[35m \u001b[0m\u001b[35m    0.7512838840484619    \u001b[0m\u001b[35m \u001b[0m│\u001b[35m \u001b[0m\u001b[35m   0.4922787547111511    \u001b[0m\u001b[35m \u001b[0m│\u001b[35m \u001b[0m\u001b[35m    0.5976707935333252    \u001b[0m\u001b[35m \u001b[0m│\n",
       "│\u001b[36m \u001b[0m\u001b[36m loss_grad_sosstsst_var  \u001b[0m\u001b[36m \u001b[0m│\u001b[35m \u001b[0m\u001b[35m   0.05634629353880882    \u001b[0m\u001b[35m \u001b[0m│\u001b[35m \u001b[0m\u001b[35m  1.100726512959227e-05  \u001b[0m\u001b[35m \u001b[0m│\u001b[35m \u001b[0m\u001b[35m  2.2843803890282288e-05  \u001b[0m\u001b[35m \u001b[0m│\n",
       "│\u001b[36m \u001b[0m\u001b[36m  loss_val_sosstsst_var  \u001b[0m\u001b[36m \u001b[0m│\u001b[35m \u001b[0m\u001b[35m   0.01308119110763073    \u001b[0m\u001b[35m \u001b[0m│\u001b[35m \u001b[0m\u001b[35m 0.00013807787036057562  \u001b[0m\u001b[35m \u001b[0m│\u001b[35m \u001b[0m\u001b[35m  0.0008342464570887387   \u001b[0m\u001b[35m \u001b[0m│\n",
       "└───────────────────────────┴────────────────────────────┴───────────────────────────┴────────────────────────────┘\n"
      ]
     },
     "metadata": {},
     "output_type": "display_data"
    },
    {
     "data": {
      "text/html": [
       "Waiting for W&B process to finish... <strong style=\"color:green\">(success).</strong>"
      ],
      "text/plain": [
       "<IPython.core.display.HTML object>"
      ]
     },
     "metadata": {},
     "output_type": "display_data"
    },
    {
     "data": {
      "application/vnd.jupyter.widget-view+json": {
       "model_id": "5f370f04a7484fcab80ca41b5715a332",
       "version_major": 2,
       "version_minor": 0
      },
      "text/plain": [
       "VBox(children=(Label(value='0.098 MB of 0.098 MB uploaded (0.000 MB deduped)\\r'), FloatProgress(value=1.0, max…"
      ]
     },
     "metadata": {},
     "output_type": "display_data"
    },
    {
     "data": {
      "text/html": [
       "<style>\n",
       "    table.wandb td:nth-child(1) { padding: 0 10px; text-align: left ; width: auto;} td:nth-child(2) {text-align: left ; width: 100%}\n",
       "    .wandb-row { display: flex; flex-direction: row; flex-wrap: wrap; justify-content: flex-start; width: 100% }\n",
       "    .wandb-col { display: flex; flex-direction: column; flex-basis: 100%; flex: 1; padding: 10px; }\n",
       "    </style>\n",
       "<div class=\"wandb-row\"><div class=\"wandb-col\"><h3>Run history:</h3><br/><table class=\"wandb\"><tr><td>corr_coef_grad_sosstsst_var/dataloader_idx_0</td><td>▁</td></tr><tr><td>corr_coef_grad_sosstsst_var/dataloader_idx_1</td><td>▁</td></tr><tr><td>corr_coef_grad_sosstsst_var/dataloader_idx_2</td><td>▁</td></tr><tr><td>corr_coef_grad_sosstsst_var/dataloader_idx_3</td><td>▁</td></tr><tr><td>corr_coef_grad_sosstsst_var/dataloader_idx_4</td><td>▁</td></tr><tr><td>corr_coef_grad_sosstsst_var/dataloader_idx_5</td><td>▁</td></tr><tr><td>corr_coef_sosstsst_var/dataloader_idx_0</td><td>▁</td></tr><tr><td>corr_coef_sosstsst_var/dataloader_idx_1</td><td>▁</td></tr><tr><td>corr_coef_sosstsst_var/dataloader_idx_2</td><td>▁</td></tr><tr><td>corr_coef_sosstsst_var/dataloader_idx_3</td><td>▁</td></tr><tr><td>corr_coef_sosstsst_var/dataloader_idx_4</td><td>▁</td></tr><tr><td>corr_coef_sosstsst_var/dataloader_idx_5</td><td>▁</td></tr><tr><td>epoch</td><td>▁▁▁▂▂▂▂▂▂▃▃▃▃▃▃▄▄▄▄▄▅▅▅▅▅▅▆▆▆▆▆▆▇▇▇▇▇███</td></tr><tr><td>first_weight</td><td>▃▂▁▁▂▂▃▄▄▅▅▅▅▆▆▆▆▇▇▇▇▇▇▇▇▇███████████▇▇▇</td></tr><tr><td>loss_grad_sosstsst_var/dataloader_idx_0</td><td>▁</td></tr><tr><td>loss_grad_sosstsst_var/dataloader_idx_1</td><td>▁</td></tr><tr><td>loss_grad_sosstsst_var/dataloader_idx_2</td><td>▁</td></tr><tr><td>loss_grad_sosstsst_var/dataloader_idx_3</td><td>▁</td></tr><tr><td>loss_grad_sosstsst_var/dataloader_idx_4</td><td>▁</td></tr><tr><td>loss_grad_sosstsst_var/dataloader_idx_5</td><td>▁</td></tr><tr><td>loss_train</td><td>█▅▄▃▃▃▃▂▂▂▂▂▂▂▂▂▂▂▁▁▁▁▁▁▁▁▁▁▁▁▁▁▁▁▁▁▁▁▁▁</td></tr><tr><td>loss_val_sosstsst_var/dataloader_idx_0</td><td>▁</td></tr><tr><td>loss_val_sosstsst_var/dataloader_idx_1</td><td>▁</td></tr><tr><td>loss_val_sosstsst_var/dataloader_idx_2</td><td>▁</td></tr><tr><td>loss_val_sosstsst_var/dataloader_idx_3</td><td>▁</td></tr><tr><td>loss_val_sosstsst_var/dataloader_idx_4</td><td>▁</td></tr><tr><td>loss_val_sosstsst_var/dataloader_idx_5</td><td>▁</td></tr><tr><td>loss_validation</td><td>▂▂▃▁▃▄▂▃▂▂▄▅▅▅▅▂▆▅█▇▄▆▄▄▅▅▇▄▅▅▄▅▇█▅▇▆▇▆▆</td></tr><tr><td>trainer/global_step</td><td>▁▁▁▂▂▂▂▂▂▃▃▃▃▃▄▄▄▄▄▄▅▅▅▅▅▅▆▆▆▆▆▇▇▇▇▇▇███</td></tr></table><br/></div><div class=\"wandb-col\"><h3>Run summary:</h3><br/><table class=\"wandb\"><tr><td>corr_coef_grad_sosstsst_var/dataloader_idx_0</td><td>0.8479</td></tr><tr><td>corr_coef_grad_sosstsst_var/dataloader_idx_1</td><td>0.81944</td></tr><tr><td>corr_coef_grad_sosstsst_var/dataloader_idx_2</td><td>0.36467</td></tr><tr><td>corr_coef_grad_sosstsst_var/dataloader_idx_3</td><td>0.68888</td></tr><tr><td>corr_coef_grad_sosstsst_var/dataloader_idx_4</td><td>0.14522</td></tr><tr><td>corr_coef_grad_sosstsst_var/dataloader_idx_5</td><td>0.48661</td></tr><tr><td>corr_coef_sosstsst_var/dataloader_idx_0</td><td>0.89079</td></tr><tr><td>corr_coef_sosstsst_var/dataloader_idx_1</td><td>0.88914</td></tr><tr><td>corr_coef_sosstsst_var/dataloader_idx_2</td><td>0.29155</td></tr><tr><td>corr_coef_sosstsst_var/dataloader_idx_3</td><td>0.75128</td></tr><tr><td>corr_coef_sosstsst_var/dataloader_idx_4</td><td>0.49228</td></tr><tr><td>corr_coef_sosstsst_var/dataloader_idx_5</td><td>0.59767</td></tr><tr><td>epoch</td><td>54</td></tr><tr><td>first_weight</td><td>0.1896</td></tr><tr><td>loss_grad_sosstsst_var/dataloader_idx_0</td><td>9.05352</td></tr><tr><td>loss_grad_sosstsst_var/dataloader_idx_1</td><td>0.73904</td></tr><tr><td>loss_grad_sosstsst_var/dataloader_idx_2</td><td>465.18414</td></tr><tr><td>loss_grad_sosstsst_var/dataloader_idx_3</td><td>0.05635</td></tr><tr><td>loss_grad_sosstsst_var/dataloader_idx_4</td><td>1e-05</td></tr><tr><td>loss_grad_sosstsst_var/dataloader_idx_5</td><td>2e-05</td></tr><tr><td>loss_train</td><td>0.02871</td></tr><tr><td>loss_val_sosstsst_var/dataloader_idx_0</td><td>0.20656</td></tr><tr><td>loss_val_sosstsst_var/dataloader_idx_1</td><td>0.05663</td></tr><tr><td>loss_val_sosstsst_var/dataloader_idx_2</td><td>1.35308</td></tr><tr><td>loss_val_sosstsst_var/dataloader_idx_3</td><td>0.01308</td></tr><tr><td>loss_val_sosstsst_var/dataloader_idx_4</td><td>0.00014</td></tr><tr><td>loss_val_sosstsst_var/dataloader_idx_5</td><td>0.00083</td></tr><tr><td>loss_validation</td><td>0.26777</td></tr><tr><td>trainer/global_step</td><td>105462</td></tr></table><br/></div></div>"
      ],
      "text/plain": [
       "<IPython.core.display.HTML object>"
      ]
     },
     "metadata": {},
     "output_type": "display_data"
    },
    {
     "data": {
      "text/html": [
       " View run <strong style=\"color:#cdcd00\">FCNN_patch_in3_out1_val_loss2D_nor_nf</strong> at: <a href='https://wandb.ai/anagorb63/tests/runs/FCNN_patch_in3_out1_val_loss2D_nor_nf' target=\"_blank\">https://wandb.ai/anagorb63/tests/runs/FCNN_patch_in3_out1_val_loss2D_nor_nf</a><br/>Synced 6 W&B file(s), 0 media file(s), 2 artifact file(s) and 0 other file(s)"
      ],
      "text/plain": [
       "<IPython.core.display.HTML object>"
      ]
     },
     "metadata": {},
     "output_type": "display_data"
    },
    {
     "data": {
      "text/html": [
       "Find logs at: <code>./wandb/run-20230314_202750-FCNN_patch_in3_out1_val_loss2D_nor_nf/logs</code>"
      ],
      "text/plain": [
       "<IPython.core.display.HTML object>"
      ]
     },
     "metadata": {},
     "output_type": "display_data"
    }
   ],
   "source": [
    "config = dict({'model_label' : 'FCNN',\n",
    "                'version' : 'patch_in3_out1_val_loss2D_nor_nf',\n",
    "                'torch_model' : 'myParam.FCNN',\n",
    "                'datamodule' : 'all_data_2D',\n",
    "                'torch_model_params' : dict({'data_geometry' : '2D',\\\n",
    "                                            'nb_of_input_features' : 1, \\\n",
    "                                            'nb_of_output_features' : 1, \\\n",
    "                                            'input_patch_size' : 3,\n",
    "                                            'output_patch_size' : 1, \n",
    "                                            'int_layer_width' : 50}),\n",
    "                'module_params' : dict({'input_features'  : ['normalized_sosstsst'],\n",
    "                                        'output_features'  : ['sosstsst_var'],\n",
    "                                        'output_units' : ['diff_sosstsst_sqr'],\n",
    "                                        'loss' : torch.nn.functional.mse_loss,\n",
    "                                        'optimizer' : torch.optim.Adam,\n",
    "                                        'learning_rate' : 1e-3,}),\n",
    "                'training_params' : dict({'max_epochs' : 100,\n",
    "                                          'limit_train_batches' : 1.0})\n",
    "               })\n",
    "run_experiment(config, project_name)"
   ]
  },
  {
   "cell_type": "code",
   "execution_count": 24,
   "id": "1e763b5f-985d-4fdf-8840-8dc320001c30",
   "metadata": {},
   "outputs": [
    {
     "data": {
      "application/vnd.jupyter.widget-view+json": {
       "model_id": "2aa2dec23d7f4e3f867dee96f4797c51",
       "version_major": 2,
       "version_minor": 0
      },
      "text/plain": [
       "VBox(children=(Label(value='Waiting for wandb.init()...\\r'), FloatProgress(value=0.01666881828326344, max=1.0)…"
      ]
     },
     "metadata": {},
     "output_type": "display_data"
    },
    {
     "data": {
      "text/html": [
       "Tracking run with wandb version 0.13.11"
      ],
      "text/plain": [
       "<IPython.core.display.HTML object>"
      ]
     },
     "metadata": {},
     "output_type": "display_data"
    },
    {
     "data": {
      "text/html": [
       "Run data is saved locally in <code>./wandb/run-20230314_210928-FCNN_patch_in3_out1_val_loss2D_nor_fil</code>"
      ],
      "text/plain": [
       "<IPython.core.display.HTML object>"
      ]
     },
     "metadata": {},
     "output_type": "display_data"
    },
    {
     "data": {
      "text/html": [
       "Syncing run <strong><a href='https://wandb.ai/anagorb63/tests/runs/FCNN_patch_in3_out1_val_loss2D_nor_fil' target=\"_blank\">FCNN_patch_in3_out1_val_loss2D_nor_fil</a></strong> to <a href='https://wandb.ai/anagorb63/tests' target=\"_blank\">Weights & Biases</a> (<a href='https://wandb.me/run' target=\"_blank\">docs</a>)<br/>"
      ],
      "text/plain": [
       "<IPython.core.display.HTML object>"
      ]
     },
     "metadata": {},
     "output_type": "display_data"
    },
    {
     "data": {
      "text/html": [
       " View project at <a href='https://wandb.ai/anagorb63/tests' target=\"_blank\">https://wandb.ai/anagorb63/tests</a>"
      ],
      "text/plain": [
       "<IPython.core.display.HTML object>"
      ]
     },
     "metadata": {},
     "output_type": "display_data"
    },
    {
     "data": {
      "text/html": [
       " View run at <a href='https://wandb.ai/anagorb63/tests/runs/FCNN_patch_in3_out1_val_loss2D_nor_fil' target=\"_blank\">https://wandb.ai/anagorb63/tests/runs/FCNN_patch_in3_out1_val_loss2D_nor_fil</a>"
      ],
      "text/plain": [
       "<IPython.core.display.HTML object>"
      ]
     },
     "metadata": {},
     "output_type": "display_data"
    },
    {
     "name": "stderr",
     "output_type": "stream",
     "text": [
      "/srv/conda/envs/notebook/lib/python3.10/site-packages/pytorch_lightning/utilities/parsing.py:262: UserWarning: Attribute 'torch_model' is an instance of `nn.Module` and is already saved during checkpointing. It is recommended to ignore them using `self.save_hyperparameters(ignore=['torch_model'])`.\n",
      "  rank_zero_warn(\n",
      "GPU available: True (cuda), used: True\n",
      "TPU available: False, using: 0 TPU cores\n",
      "IPU available: False, using: 0 IPUs\n",
      "HPU available: False, using: 0 HPUs\n",
      "`Trainer(limit_train_batches=1.0)` was configured so 100% of the batches per epoch will be used..\n",
      "LOCAL_RANK: 0 - CUDA_VISIBLE_DEVICES: [0]\n",
      "\n",
      "  | Name        | Type | Params\n",
      "-------------------------------------\n",
      "0 | torch_model | FCNN | 3.1 K \n",
      "-------------------------------------\n",
      "3.1 K     Trainable params\n",
      "0         Non-trainable params\n",
      "3.1 K     Total params\n",
      "0.012     Total estimated model params size (MB)\n"
     ]
    },
    {
     "data": {
      "application/vnd.jupyter.widget-view+json": {
       "model_id": "",
       "version_major": 2,
       "version_minor": 0
      },
      "text/plain": [
       "Sanity Checking: 0it [00:00, ?it/s]"
      ]
     },
     "metadata": {},
     "output_type": "display_data"
    },
    {
     "data": {
      "application/vnd.jupyter.widget-view+json": {
       "model_id": "1083023b115e4c939fd64c1949b60215",
       "version_major": 2,
       "version_minor": 0
      },
      "text/plain": [
       "Training: 0it [00:00, ?it/s]"
      ]
     },
     "metadata": {},
     "output_type": "display_data"
    },
    {
     "data": {
      "application/vnd.jupyter.widget-view+json": {
       "model_id": "",
       "version_major": 2,
       "version_minor": 0
      },
      "text/plain": [
       "Validation: 0it [00:00, ?it/s]"
      ]
     },
     "metadata": {},
     "output_type": "display_data"
    },
    {
     "data": {
      "application/vnd.jupyter.widget-view+json": {
       "model_id": "",
       "version_major": 2,
       "version_minor": 0
      },
      "text/plain": [
       "Validation: 0it [00:00, ?it/s]"
      ]
     },
     "metadata": {},
     "output_type": "display_data"
    },
    {
     "data": {
      "application/vnd.jupyter.widget-view+json": {
       "model_id": "",
       "version_major": 2,
       "version_minor": 0
      },
      "text/plain": [
       "Validation: 0it [00:00, ?it/s]"
      ]
     },
     "metadata": {},
     "output_type": "display_data"
    },
    {
     "data": {
      "application/vnd.jupyter.widget-view+json": {
       "model_id": "",
       "version_major": 2,
       "version_minor": 0
      },
      "text/plain": [
       "Validation: 0it [00:00, ?it/s]"
      ]
     },
     "metadata": {},
     "output_type": "display_data"
    },
    {
     "data": {
      "application/vnd.jupyter.widget-view+json": {
       "model_id": "",
       "version_major": 2,
       "version_minor": 0
      },
      "text/plain": [
       "Validation: 0it [00:00, ?it/s]"
      ]
     },
     "metadata": {},
     "output_type": "display_data"
    },
    {
     "data": {
      "application/vnd.jupyter.widget-view+json": {
       "model_id": "",
       "version_major": 2,
       "version_minor": 0
      },
      "text/plain": [
       "Validation: 0it [00:00, ?it/s]"
      ]
     },
     "metadata": {},
     "output_type": "display_data"
    },
    {
     "data": {
      "application/vnd.jupyter.widget-view+json": {
       "model_id": "",
       "version_major": 2,
       "version_minor": 0
      },
      "text/plain": [
       "Validation: 0it [00:00, ?it/s]"
      ]
     },
     "metadata": {},
     "output_type": "display_data"
    },
    {
     "data": {
      "application/vnd.jupyter.widget-view+json": {
       "model_id": "",
       "version_major": 2,
       "version_minor": 0
      },
      "text/plain": [
       "Validation: 0it [00:00, ?it/s]"
      ]
     },
     "metadata": {},
     "output_type": "display_data"
    },
    {
     "data": {
      "application/vnd.jupyter.widget-view+json": {
       "model_id": "",
       "version_major": 2,
       "version_minor": 0
      },
      "text/plain": [
       "Validation: 0it [00:00, ?it/s]"
      ]
     },
     "metadata": {},
     "output_type": "display_data"
    },
    {
     "data": {
      "application/vnd.jupyter.widget-view+json": {
       "model_id": "",
       "version_major": 2,
       "version_minor": 0
      },
      "text/plain": [
       "Validation: 0it [00:00, ?it/s]"
      ]
     },
     "metadata": {},
     "output_type": "display_data"
    },
    {
     "data": {
      "application/vnd.jupyter.widget-view+json": {
       "model_id": "",
       "version_major": 2,
       "version_minor": 0
      },
      "text/plain": [
       "Validation: 0it [00:00, ?it/s]"
      ]
     },
     "metadata": {},
     "output_type": "display_data"
    },
    {
     "data": {
      "application/vnd.jupyter.widget-view+json": {
       "model_id": "",
       "version_major": 2,
       "version_minor": 0
      },
      "text/plain": [
       "Validation: 0it [00:00, ?it/s]"
      ]
     },
     "metadata": {},
     "output_type": "display_data"
    },
    {
     "data": {
      "application/vnd.jupyter.widget-view+json": {
       "model_id": "",
       "version_major": 2,
       "version_minor": 0
      },
      "text/plain": [
       "Validation: 0it [00:00, ?it/s]"
      ]
     },
     "metadata": {},
     "output_type": "display_data"
    },
    {
     "data": {
      "application/vnd.jupyter.widget-view+json": {
       "model_id": "",
       "version_major": 2,
       "version_minor": 0
      },
      "text/plain": [
       "Validation: 0it [00:00, ?it/s]"
      ]
     },
     "metadata": {},
     "output_type": "display_data"
    },
    {
     "data": {
      "application/vnd.jupyter.widget-view+json": {
       "model_id": "",
       "version_major": 2,
       "version_minor": 0
      },
      "text/plain": [
       "Validation: 0it [00:00, ?it/s]"
      ]
     },
     "metadata": {},
     "output_type": "display_data"
    },
    {
     "data": {
      "application/vnd.jupyter.widget-view+json": {
       "model_id": "",
       "version_major": 2,
       "version_minor": 0
      },
      "text/plain": [
       "Validation: 0it [00:00, ?it/s]"
      ]
     },
     "metadata": {},
     "output_type": "display_data"
    },
    {
     "data": {
      "application/vnd.jupyter.widget-view+json": {
       "model_id": "",
       "version_major": 2,
       "version_minor": 0
      },
      "text/plain": [
       "Validation: 0it [00:00, ?it/s]"
      ]
     },
     "metadata": {},
     "output_type": "display_data"
    },
    {
     "data": {
      "application/vnd.jupyter.widget-view+json": {
       "model_id": "",
       "version_major": 2,
       "version_minor": 0
      },
      "text/plain": [
       "Validation: 0it [00:00, ?it/s]"
      ]
     },
     "metadata": {},
     "output_type": "display_data"
    },
    {
     "data": {
      "application/vnd.jupyter.widget-view+json": {
       "model_id": "",
       "version_major": 2,
       "version_minor": 0
      },
      "text/plain": [
       "Validation: 0it [00:00, ?it/s]"
      ]
     },
     "metadata": {},
     "output_type": "display_data"
    },
    {
     "data": {
      "application/vnd.jupyter.widget-view+json": {
       "model_id": "",
       "version_major": 2,
       "version_minor": 0
      },
      "text/plain": [
       "Validation: 0it [00:00, ?it/s]"
      ]
     },
     "metadata": {},
     "output_type": "display_data"
    },
    {
     "data": {
      "application/vnd.jupyter.widget-view+json": {
       "model_id": "",
       "version_major": 2,
       "version_minor": 0
      },
      "text/plain": [
       "Validation: 0it [00:00, ?it/s]"
      ]
     },
     "metadata": {},
     "output_type": "display_data"
    },
    {
     "data": {
      "application/vnd.jupyter.widget-view+json": {
       "model_id": "",
       "version_major": 2,
       "version_minor": 0
      },
      "text/plain": [
       "Validation: 0it [00:00, ?it/s]"
      ]
     },
     "metadata": {},
     "output_type": "display_data"
    },
    {
     "data": {
      "application/vnd.jupyter.widget-view+json": {
       "model_id": "",
       "version_major": 2,
       "version_minor": 0
      },
      "text/plain": [
       "Validation: 0it [00:00, ?it/s]"
      ]
     },
     "metadata": {},
     "output_type": "display_data"
    },
    {
     "data": {
      "application/vnd.jupyter.widget-view+json": {
       "model_id": "",
       "version_major": 2,
       "version_minor": 0
      },
      "text/plain": [
       "Validation: 0it [00:00, ?it/s]"
      ]
     },
     "metadata": {},
     "output_type": "display_data"
    },
    {
     "data": {
      "application/vnd.jupyter.widget-view+json": {
       "model_id": "",
       "version_major": 2,
       "version_minor": 0
      },
      "text/plain": [
       "Validation: 0it [00:00, ?it/s]"
      ]
     },
     "metadata": {},
     "output_type": "display_data"
    },
    {
     "data": {
      "application/vnd.jupyter.widget-view+json": {
       "model_id": "",
       "version_major": 2,
       "version_minor": 0
      },
      "text/plain": [
       "Validation: 0it [00:00, ?it/s]"
      ]
     },
     "metadata": {},
     "output_type": "display_data"
    },
    {
     "data": {
      "application/vnd.jupyter.widget-view+json": {
       "model_id": "",
       "version_major": 2,
       "version_minor": 0
      },
      "text/plain": [
       "Validation: 0it [00:00, ?it/s]"
      ]
     },
     "metadata": {},
     "output_type": "display_data"
    },
    {
     "data": {
      "application/vnd.jupyter.widget-view+json": {
       "model_id": "",
       "version_major": 2,
       "version_minor": 0
      },
      "text/plain": [
       "Validation: 0it [00:00, ?it/s]"
      ]
     },
     "metadata": {},
     "output_type": "display_data"
    },
    {
     "data": {
      "application/vnd.jupyter.widget-view+json": {
       "model_id": "",
       "version_major": 2,
       "version_minor": 0
      },
      "text/plain": [
       "Validation: 0it [00:00, ?it/s]"
      ]
     },
     "metadata": {},
     "output_type": "display_data"
    },
    {
     "name": "stderr",
     "output_type": "stream",
     "text": [
      "LOCAL_RANK: 0 - CUDA_VISIBLE_DEVICES: [0]\n"
     ]
    },
    {
     "data": {
      "application/vnd.jupyter.widget-view+json": {
       "model_id": "f04fea658724481bb97d4c23bd50b556",
       "version_major": 2,
       "version_minor": 0
      },
      "text/plain": [
       "Testing: 0it [00:00, ?it/s]"
      ]
     },
     "metadata": {},
     "output_type": "display_data"
    },
    {
     "data": {
      "text/html": [
       "<pre style=\"white-space:pre;overflow-x:auto;line-height:normal;font-family:Menlo,'DejaVu Sans Mono',consolas,'Courier New',monospace\">┏━━━━━━━━━━━━━━━━━━━━━━━━━━━┳━━━━━━━━━━━━━━━━━━━━━━━━━━━━┳━━━━━━━━━━━━━━━━━━━━━━━━━━━┳━━━━━━━━━━━━━━━━━━━━━━━━━━━━┓\n",
       "┃<span style=\"font-weight: bold\">        Test metric        </span>┃<span style=\"font-weight: bold\">        DataLoader 0        </span>┃<span style=\"font-weight: bold\">       DataLoader 1        </span>┃<span style=\"font-weight: bold\">        DataLoader 2        </span>┃\n",
       "┡━━━━━━━━━━━━━━━━━━━━━━━━━━━╇━━━━━━━━━━━━━━━━━━━━━━━━━━━━╇━━━━━━━━━━━━━━━━━━━━━━━━━━━╇━━━━━━━━━━━━━━━━━━━━━━━━━━━━┩\n",
       "│<span style=\"color: #008080; text-decoration-color: #008080\"> corr_coef_grad_sosstsst_… </span>│<span style=\"color: #800080; text-decoration-color: #800080\">     0.8602010607719421     </span>│<span style=\"color: #800080; text-decoration-color: #800080\">    0.8339241743087769     </span>│<span style=\"color: #800080; text-decoration-color: #800080\">    0.41129690408706665     </span>│\n",
       "│<span style=\"color: #008080; text-decoration-color: #008080\">  corr_coef_sosstsst_var   </span>│<span style=\"color: #800080; text-decoration-color: #800080\">     0.8879628777503967     </span>│<span style=\"color: #800080; text-decoration-color: #800080\">    0.8877348303794861     </span>│<span style=\"color: #800080; text-decoration-color: #800080\">     0.5405120849609375     </span>│\n",
       "│<span style=\"color: #008080; text-decoration-color: #008080\">  loss_grad_sosstsst_var   </span>│<span style=\"color: #800080; text-decoration-color: #800080\">     9.325515747070312      </span>│<span style=\"color: #800080; text-decoration-color: #800080\">    0.5721104741096497     </span>│<span style=\"color: #800080; text-decoration-color: #800080\">     666.2357788085938      </span>│\n",
       "│<span style=\"color: #008080; text-decoration-color: #008080\">   loss_val_sosstsst_var   </span>│<span style=\"color: #800080; text-decoration-color: #800080\">    0.22273992002010345     </span>│<span style=\"color: #800080; text-decoration-color: #800080\">   0.052493128925561905    </span>│<span style=\"color: #800080; text-decoration-color: #800080\">     1.3945846557617188     </span>│\n",
       "└───────────────────────────┴────────────────────────────┴───────────────────────────┴────────────────────────────┘\n",
       "</pre>\n"
      ],
      "text/plain": [
       "┏━━━━━━━━━━━━━━━━━━━━━━━━━━━┳━━━━━━━━━━━━━━━━━━━━━━━━━━━━┳━━━━━━━━━━━━━━━━━━━━━━━━━━━┳━━━━━━━━━━━━━━━━━━━━━━━━━━━━┓\n",
       "┃\u001b[1m \u001b[0m\u001b[1m       Test metric       \u001b[0m\u001b[1m \u001b[0m┃\u001b[1m \u001b[0m\u001b[1m       DataLoader 0       \u001b[0m\u001b[1m \u001b[0m┃\u001b[1m \u001b[0m\u001b[1m      DataLoader 1       \u001b[0m\u001b[1m \u001b[0m┃\u001b[1m \u001b[0m\u001b[1m       DataLoader 2       \u001b[0m\u001b[1m \u001b[0m┃\n",
       "┡━━━━━━━━━━━━━━━━━━━━━━━━━━━╇━━━━━━━━━━━━━━━━━━━━━━━━━━━━╇━━━━━━━━━━━━━━━━━━━━━━━━━━━╇━━━━━━━━━━━━━━━━━━━━━━━━━━━━┩\n",
       "│\u001b[36m \u001b[0m\u001b[36mcorr_coef_grad_sosstsst_…\u001b[0m\u001b[36m \u001b[0m│\u001b[35m \u001b[0m\u001b[35m    0.8602010607719421    \u001b[0m\u001b[35m \u001b[0m│\u001b[35m \u001b[0m\u001b[35m   0.8339241743087769    \u001b[0m\u001b[35m \u001b[0m│\u001b[35m \u001b[0m\u001b[35m   0.41129690408706665    \u001b[0m\u001b[35m \u001b[0m│\n",
       "│\u001b[36m \u001b[0m\u001b[36m corr_coef_sosstsst_var  \u001b[0m\u001b[36m \u001b[0m│\u001b[35m \u001b[0m\u001b[35m    0.8879628777503967    \u001b[0m\u001b[35m \u001b[0m│\u001b[35m \u001b[0m\u001b[35m   0.8877348303794861    \u001b[0m\u001b[35m \u001b[0m│\u001b[35m \u001b[0m\u001b[35m    0.5405120849609375    \u001b[0m\u001b[35m \u001b[0m│\n",
       "│\u001b[36m \u001b[0m\u001b[36m loss_grad_sosstsst_var  \u001b[0m\u001b[36m \u001b[0m│\u001b[35m \u001b[0m\u001b[35m    9.325515747070312     \u001b[0m\u001b[35m \u001b[0m│\u001b[35m \u001b[0m\u001b[35m   0.5721104741096497    \u001b[0m\u001b[35m \u001b[0m│\u001b[35m \u001b[0m\u001b[35m    666.2357788085938     \u001b[0m\u001b[35m \u001b[0m│\n",
       "│\u001b[36m \u001b[0m\u001b[36m  loss_val_sosstsst_var  \u001b[0m\u001b[36m \u001b[0m│\u001b[35m \u001b[0m\u001b[35m   0.22273992002010345    \u001b[0m\u001b[35m \u001b[0m│\u001b[35m \u001b[0m\u001b[35m  0.052493128925561905   \u001b[0m\u001b[35m \u001b[0m│\u001b[35m \u001b[0m\u001b[35m    1.3945846557617188    \u001b[0m\u001b[35m \u001b[0m│\n",
       "└───────────────────────────┴────────────────────────────┴───────────────────────────┴────────────────────────────┘\n"
      ]
     },
     "metadata": {},
     "output_type": "display_data"
    },
    {
     "data": {
      "text/html": [
       "<pre style=\"white-space:pre;overflow-x:auto;line-height:normal;font-family:Menlo,'DejaVu Sans Mono',consolas,'Courier New',monospace\">┏━━━━━━━━━━━━━━━━━━━━━━━━━━━┳━━━━━━━━━━━━━━━━━━━━━━━━━━━━┳━━━━━━━━━━━━━━━━━━━━━━━━━━━┳━━━━━━━━━━━━━━━━━━━━━━━━━━━━┓\n",
       "┃<span style=\"font-weight: bold\">        Test metric        </span>┃<span style=\"font-weight: bold\">        DataLoader 3        </span>┃<span style=\"font-weight: bold\">       DataLoader 4        </span>┃<span style=\"font-weight: bold\">        DataLoader 5        </span>┃\n",
       "┡━━━━━━━━━━━━━━━━━━━━━━━━━━━╇━━━━━━━━━━━━━━━━━━━━━━━━━━━━╇━━━━━━━━━━━━━━━━━━━━━━━━━━━╇━━━━━━━━━━━━━━━━━━━━━━━━━━━━┩\n",
       "│<span style=\"color: #008080; text-decoration-color: #008080\"> corr_coef_grad_sosstsst_… </span>│<span style=\"color: #800080; text-decoration-color: #800080\">     0.6530531644821167     </span>│<span style=\"color: #800080; text-decoration-color: #800080\">    0.33927780389785767    </span>│<span style=\"color: #800080; text-decoration-color: #800080\">    0.34927377104759216     </span>│\n",
       "│<span style=\"color: #008080; text-decoration-color: #008080\">  corr_coef_sosstsst_var   </span>│<span style=\"color: #800080; text-decoration-color: #800080\">     0.7893475294113159     </span>│<span style=\"color: #800080; text-decoration-color: #800080\">     0.480412095785141     </span>│<span style=\"color: #800080; text-decoration-color: #800080\">     0.486918568611145      </span>│\n",
       "│<span style=\"color: #008080; text-decoration-color: #008080\">  loss_grad_sosstsst_var   </span>│<span style=\"color: #800080; text-decoration-color: #800080\">    0.11173020303249359     </span>│<span style=\"color: #800080; text-decoration-color: #800080\">  1.5195585092442343e-06   </span>│<span style=\"color: #800080; text-decoration-color: #800080\">   2.6844254534807988e-05   </span>│\n",
       "│<span style=\"color: #008080; text-decoration-color: #008080\">   loss_val_sosstsst_var   </span>│<span style=\"color: #800080; text-decoration-color: #800080\">    0.018671875819563866    </span>│<span style=\"color: #800080; text-decoration-color: #800080\">  0.00017922632105182856   </span>│<span style=\"color: #800080; text-decoration-color: #800080\">   0.0012491047382354736    </span>│\n",
       "└───────────────────────────┴────────────────────────────┴───────────────────────────┴────────────────────────────┘\n",
       "</pre>\n"
      ],
      "text/plain": [
       "┏━━━━━━━━━━━━━━━━━━━━━━━━━━━┳━━━━━━━━━━━━━━━━━━━━━━━━━━━━┳━━━━━━━━━━━━━━━━━━━━━━━━━━━┳━━━━━━━━━━━━━━━━━━━━━━━━━━━━┓\n",
       "┃\u001b[1m \u001b[0m\u001b[1m       Test metric       \u001b[0m\u001b[1m \u001b[0m┃\u001b[1m \u001b[0m\u001b[1m       DataLoader 3       \u001b[0m\u001b[1m \u001b[0m┃\u001b[1m \u001b[0m\u001b[1m      DataLoader 4       \u001b[0m\u001b[1m \u001b[0m┃\u001b[1m \u001b[0m\u001b[1m       DataLoader 5       \u001b[0m\u001b[1m \u001b[0m┃\n",
       "┡━━━━━━━━━━━━━━━━━━━━━━━━━━━╇━━━━━━━━━━━━━━━━━━━━━━━━━━━━╇━━━━━━━━━━━━━━━━━━━━━━━━━━━╇━━━━━━━━━━━━━━━━━━━━━━━━━━━━┩\n",
       "│\u001b[36m \u001b[0m\u001b[36mcorr_coef_grad_sosstsst_…\u001b[0m\u001b[36m \u001b[0m│\u001b[35m \u001b[0m\u001b[35m    0.6530531644821167    \u001b[0m\u001b[35m \u001b[0m│\u001b[35m \u001b[0m\u001b[35m   0.33927780389785767   \u001b[0m\u001b[35m \u001b[0m│\u001b[35m \u001b[0m\u001b[35m   0.34927377104759216    \u001b[0m\u001b[35m \u001b[0m│\n",
       "│\u001b[36m \u001b[0m\u001b[36m corr_coef_sosstsst_var  \u001b[0m\u001b[36m \u001b[0m│\u001b[35m \u001b[0m\u001b[35m    0.7893475294113159    \u001b[0m\u001b[35m \u001b[0m│\u001b[35m \u001b[0m\u001b[35m    0.480412095785141    \u001b[0m\u001b[35m \u001b[0m│\u001b[35m \u001b[0m\u001b[35m    0.486918568611145     \u001b[0m\u001b[35m \u001b[0m│\n",
       "│\u001b[36m \u001b[0m\u001b[36m loss_grad_sosstsst_var  \u001b[0m\u001b[36m \u001b[0m│\u001b[35m \u001b[0m\u001b[35m   0.11173020303249359    \u001b[0m\u001b[35m \u001b[0m│\u001b[35m \u001b[0m\u001b[35m 1.5195585092442343e-06  \u001b[0m\u001b[35m \u001b[0m│\u001b[35m \u001b[0m\u001b[35m  2.6844254534807988e-05  \u001b[0m\u001b[35m \u001b[0m│\n",
       "│\u001b[36m \u001b[0m\u001b[36m  loss_val_sosstsst_var  \u001b[0m\u001b[36m \u001b[0m│\u001b[35m \u001b[0m\u001b[35m   0.018671875819563866   \u001b[0m\u001b[35m \u001b[0m│\u001b[35m \u001b[0m\u001b[35m 0.00017922632105182856  \u001b[0m\u001b[35m \u001b[0m│\u001b[35m \u001b[0m\u001b[35m  0.0012491047382354736   \u001b[0m\u001b[35m \u001b[0m│\n",
       "└───────────────────────────┴────────────────────────────┴───────────────────────────┴────────────────────────────┘\n"
      ]
     },
     "metadata": {},
     "output_type": "display_data"
    },
    {
     "data": {
      "text/html": [
       "Waiting for W&B process to finish... <strong style=\"color:green\">(success).</strong>"
      ],
      "text/plain": [
       "<IPython.core.display.HTML object>"
      ]
     },
     "metadata": {},
     "output_type": "display_data"
    },
    {
     "data": {
      "text/html": [
       "<style>\n",
       "    table.wandb td:nth-child(1) { padding: 0 10px; text-align: left ; width: auto;} td:nth-child(2) {text-align: left ; width: 100%}\n",
       "    .wandb-row { display: flex; flex-direction: row; flex-wrap: wrap; justify-content: flex-start; width: 100% }\n",
       "    .wandb-col { display: flex; flex-direction: column; flex-basis: 100%; flex: 1; padding: 10px; }\n",
       "    </style>\n",
       "<div class=\"wandb-row\"><div class=\"wandb-col\"><h3>Run history:</h3><br/><table class=\"wandb\"><tr><td>corr_coef_grad_sosstsst_var/dataloader_idx_0</td><td>▁</td></tr><tr><td>corr_coef_grad_sosstsst_var/dataloader_idx_1</td><td>▁</td></tr><tr><td>corr_coef_grad_sosstsst_var/dataloader_idx_2</td><td>▁</td></tr><tr><td>corr_coef_grad_sosstsst_var/dataloader_idx_3</td><td>▁</td></tr><tr><td>corr_coef_grad_sosstsst_var/dataloader_idx_4</td><td>▁</td></tr><tr><td>corr_coef_grad_sosstsst_var/dataloader_idx_5</td><td>▁</td></tr><tr><td>corr_coef_sosstsst_var/dataloader_idx_0</td><td>▁</td></tr><tr><td>corr_coef_sosstsst_var/dataloader_idx_1</td><td>▁</td></tr><tr><td>corr_coef_sosstsst_var/dataloader_idx_2</td><td>▁</td></tr><tr><td>corr_coef_sosstsst_var/dataloader_idx_3</td><td>▁</td></tr><tr><td>corr_coef_sosstsst_var/dataloader_idx_4</td><td>▁</td></tr><tr><td>corr_coef_sosstsst_var/dataloader_idx_5</td><td>▁</td></tr><tr><td>epoch</td><td>▁▁▁▁▁▂▂▂▂▂▃▃▃▃▃▄▄▄▄▄▄▅▅▅▅▅▆▆▆▆▆▇▇▇▇▇▇███</td></tr><tr><td>first_weight</td><td>▂▃▄▆▇███▇▅▃▂▂▁▁▂▁▁▂▂▂▂▂▂▃▃▃▂▃</td></tr><tr><td>loss_grad_sosstsst_var/dataloader_idx_0</td><td>▁</td></tr><tr><td>loss_grad_sosstsst_var/dataloader_idx_1</td><td>▁</td></tr><tr><td>loss_grad_sosstsst_var/dataloader_idx_2</td><td>▁</td></tr><tr><td>loss_grad_sosstsst_var/dataloader_idx_3</td><td>▁</td></tr><tr><td>loss_grad_sosstsst_var/dataloader_idx_4</td><td>▁</td></tr><tr><td>loss_grad_sosstsst_var/dataloader_idx_5</td><td>▁</td></tr><tr><td>loss_train</td><td>█▄▃▃▂▂▂▂▂▂▁▁▁▁▁▁▁▁▁▁▁▁▁▁▁▁▁▁▁</td></tr><tr><td>loss_val_sosstsst_var/dataloader_idx_0</td><td>▁</td></tr><tr><td>loss_val_sosstsst_var/dataloader_idx_1</td><td>▁</td></tr><tr><td>loss_val_sosstsst_var/dataloader_idx_2</td><td>▁</td></tr><tr><td>loss_val_sosstsst_var/dataloader_idx_3</td><td>▁</td></tr><tr><td>loss_val_sosstsst_var/dataloader_idx_4</td><td>▁</td></tr><tr><td>loss_val_sosstsst_var/dataloader_idx_5</td><td>▁</td></tr><tr><td>loss_validation</td><td>█▅▄▄▄▄▅▃▃▃▄▃▄▃▂▅▂▂▂▁▁▂▂▁▁▂▂▁▂</td></tr><tr><td>trainer/global_step</td><td>▁▁▁▁▁▂▂▂▂▂▃▃▃▃▃▄▄▄▄▄▄▅▅▅▅▅▆▆▆▆▆▇▇▇▇▇▇███</td></tr></table><br/></div><div class=\"wandb-col\"><h3>Run summary:</h3><br/><table class=\"wandb\"><tr><td>corr_coef_grad_sosstsst_var/dataloader_idx_0</td><td>0.8602</td></tr><tr><td>corr_coef_grad_sosstsst_var/dataloader_idx_1</td><td>0.83392</td></tr><tr><td>corr_coef_grad_sosstsst_var/dataloader_idx_2</td><td>0.4113</td></tr><tr><td>corr_coef_grad_sosstsst_var/dataloader_idx_3</td><td>0.65305</td></tr><tr><td>corr_coef_grad_sosstsst_var/dataloader_idx_4</td><td>0.33928</td></tr><tr><td>corr_coef_grad_sosstsst_var/dataloader_idx_5</td><td>0.34927</td></tr><tr><td>corr_coef_sosstsst_var/dataloader_idx_0</td><td>0.88796</td></tr><tr><td>corr_coef_sosstsst_var/dataloader_idx_1</td><td>0.88773</td></tr><tr><td>corr_coef_sosstsst_var/dataloader_idx_2</td><td>0.54051</td></tr><tr><td>corr_coef_sosstsst_var/dataloader_idx_3</td><td>0.78935</td></tr><tr><td>corr_coef_sosstsst_var/dataloader_idx_4</td><td>0.48041</td></tr><tr><td>corr_coef_sosstsst_var/dataloader_idx_5</td><td>0.48692</td></tr><tr><td>epoch</td><td>29</td></tr><tr><td>first_weight</td><td>-0.07773</td></tr><tr><td>loss_grad_sosstsst_var/dataloader_idx_0</td><td>9.32552</td></tr><tr><td>loss_grad_sosstsst_var/dataloader_idx_1</td><td>0.57211</td></tr><tr><td>loss_grad_sosstsst_var/dataloader_idx_2</td><td>666.23578</td></tr><tr><td>loss_grad_sosstsst_var/dataloader_idx_3</td><td>0.11173</td></tr><tr><td>loss_grad_sosstsst_var/dataloader_idx_4</td><td>0.0</td></tr><tr><td>loss_grad_sosstsst_var/dataloader_idx_5</td><td>3e-05</td></tr><tr><td>loss_train</td><td>0.03585</td></tr><tr><td>loss_val_sosstsst_var/dataloader_idx_0</td><td>0.22274</td></tr><tr><td>loss_val_sosstsst_var/dataloader_idx_1</td><td>0.05249</td></tr><tr><td>loss_val_sosstsst_var/dataloader_idx_2</td><td>1.39458</td></tr><tr><td>loss_val_sosstsst_var/dataloader_idx_3</td><td>0.01867</td></tr><tr><td>loss_val_sosstsst_var/dataloader_idx_4</td><td>0.00018</td></tr><tr><td>loss_val_sosstsst_var/dataloader_idx_5</td><td>0.00125</td></tr><tr><td>loss_validation</td><td>0.27753</td></tr><tr><td>trainer/global_step</td><td>56637</td></tr></table><br/></div></div>"
      ],
      "text/plain": [
       "<IPython.core.display.HTML object>"
      ]
     },
     "metadata": {},
     "output_type": "display_data"
    },
    {
     "data": {
      "text/html": [
       " View run <strong style=\"color:#cdcd00\">FCNN_patch_in3_out1_val_loss2D_nor_fil</strong> at: <a href='https://wandb.ai/anagorb63/tests/runs/FCNN_patch_in3_out1_val_loss2D_nor_fil' target=\"_blank\">https://wandb.ai/anagorb63/tests/runs/FCNN_patch_in3_out1_val_loss2D_nor_fil</a><br/>Synced 6 W&B file(s), 0 media file(s), 2 artifact file(s) and 0 other file(s)"
      ],
      "text/plain": [
       "<IPython.core.display.HTML object>"
      ]
     },
     "metadata": {},
     "output_type": "display_data"
    },
    {
     "data": {
      "text/html": [
       "Find logs at: <code>./wandb/run-20230314_210928-FCNN_patch_in3_out1_val_loss2D_nor_fil/logs</code>"
      ],
      "text/plain": [
       "<IPython.core.display.HTML object>"
      ]
     },
     "metadata": {},
     "output_type": "display_data"
    }
   ],
   "source": [
    "config = dict({'model_label' : 'FCNN',\n",
    "                'version' : 'patch_in3_out1_val_loss2D_nor_fil',\n",
    "                'torch_model' : 'myParam.FCNN',\n",
    "                'datamodule' : 'all_data_2D',\n",
    "                'torch_model_params' : dict({'data_geometry' : '2D',\\\n",
    "                                            'nb_of_input_features' : 1, \\\n",
    "                                            'nb_of_output_features' : 1, \\\n",
    "                                            'input_patch_size' : 3,\n",
    "                                            'output_patch_size' : 1, \n",
    "                                            'int_layer_width' : 50}),\n",
    "                'module_params' : dict({'input_features'  : ['normalized_sosstsst'],\n",
    "                                        'output_features'  : ['sosstsst_var'],\n",
    "                                        'output_units' : ['filtered_diff_sosstsst_sqr'],\n",
    "                                        'loss' : torch.nn.functional.mse_loss,\n",
    "                                        'optimizer' : torch.optim.Adam,\n",
    "                                        'learning_rate' : 1e-3,}),\n",
    "                'training_params' : dict({'max_epochs' : 100,\n",
    "                                          'limit_train_batches' : 1.0})\n",
    "               })\n",
    "run_experiment(config, project_name)"
   ]
  },
  {
   "cell_type": "code",
   "execution_count": 25,
   "id": "fb99c055-b840-4bf3-9a27-40ecc0ae6263",
   "metadata": {},
   "outputs": [
    {
     "data": {
      "application/vnd.jupyter.widget-view+json": {
       "model_id": "458c0455f57f445a811351a3bf78e212",
       "version_major": 2,
       "version_minor": 0
      },
      "text/plain": [
       "VBox(children=(Label(value='Waiting for wandb.init()...\\r'), FloatProgress(value=0.016668773400063706, max=1.0…"
      ]
     },
     "metadata": {},
     "output_type": "display_data"
    },
    {
     "data": {
      "text/html": [
       "Tracking run with wandb version 0.13.11"
      ],
      "text/plain": [
       "<IPython.core.display.HTML object>"
      ]
     },
     "metadata": {},
     "output_type": "display_data"
    },
    {
     "data": {
      "text/html": [
       "Run data is saved locally in <code>./wandb/run-20230314_213213-FCNN_patch_in3_out1_val_loss2D_nor_dim</code>"
      ],
      "text/plain": [
       "<IPython.core.display.HTML object>"
      ]
     },
     "metadata": {},
     "output_type": "display_data"
    },
    {
     "data": {
      "text/html": [
       "Syncing run <strong><a href='https://wandb.ai/anagorb63/tests/runs/FCNN_patch_in3_out1_val_loss2D_nor_dim' target=\"_blank\">FCNN_patch_in3_out1_val_loss2D_nor_dim</a></strong> to <a href='https://wandb.ai/anagorb63/tests' target=\"_blank\">Weights & Biases</a> (<a href='https://wandb.me/run' target=\"_blank\">docs</a>)<br/>"
      ],
      "text/plain": [
       "<IPython.core.display.HTML object>"
      ]
     },
     "metadata": {},
     "output_type": "display_data"
    },
    {
     "data": {
      "text/html": [
       " View project at <a href='https://wandb.ai/anagorb63/tests' target=\"_blank\">https://wandb.ai/anagorb63/tests</a>"
      ],
      "text/plain": [
       "<IPython.core.display.HTML object>"
      ]
     },
     "metadata": {},
     "output_type": "display_data"
    },
    {
     "data": {
      "text/html": [
       " View run at <a href='https://wandb.ai/anagorb63/tests/runs/FCNN_patch_in3_out1_val_loss2D_nor_dim' target=\"_blank\">https://wandb.ai/anagorb63/tests/runs/FCNN_patch_in3_out1_val_loss2D_nor_dim</a>"
      ],
      "text/plain": [
       "<IPython.core.display.HTML object>"
      ]
     },
     "metadata": {},
     "output_type": "display_data"
    },
    {
     "name": "stderr",
     "output_type": "stream",
     "text": [
      "/srv/conda/envs/notebook/lib/python3.10/site-packages/pytorch_lightning/utilities/parsing.py:262: UserWarning: Attribute 'torch_model' is an instance of `nn.Module` and is already saved during checkpointing. It is recommended to ignore them using `self.save_hyperparameters(ignore=['torch_model'])`.\n",
      "  rank_zero_warn(\n",
      "GPU available: True (cuda), used: True\n",
      "TPU available: False, using: 0 TPU cores\n",
      "IPU available: False, using: 0 IPUs\n",
      "HPU available: False, using: 0 HPUs\n",
      "`Trainer(limit_train_batches=1.0)` was configured so 100% of the batches per epoch will be used..\n",
      "LOCAL_RANK: 0 - CUDA_VISIBLE_DEVICES: [0]\n",
      "\n",
      "  | Name        | Type | Params\n",
      "-------------------------------------\n",
      "0 | torch_model | FCNN | 3.1 K \n",
      "-------------------------------------\n",
      "3.1 K     Trainable params\n",
      "0         Non-trainable params\n",
      "3.1 K     Total params\n",
      "0.012     Total estimated model params size (MB)\n"
     ]
    },
    {
     "data": {
      "application/vnd.jupyter.widget-view+json": {
       "model_id": "",
       "version_major": 2,
       "version_minor": 0
      },
      "text/plain": [
       "Sanity Checking: 0it [00:00, ?it/s]"
      ]
     },
     "metadata": {},
     "output_type": "display_data"
    },
    {
     "data": {
      "application/vnd.jupyter.widget-view+json": {
       "model_id": "822464998bef4d0794670882dee29a90",
       "version_major": 2,
       "version_minor": 0
      },
      "text/plain": [
       "Training: 0it [00:00, ?it/s]"
      ]
     },
     "metadata": {},
     "output_type": "display_data"
    },
    {
     "data": {
      "application/vnd.jupyter.widget-view+json": {
       "model_id": "",
       "version_major": 2,
       "version_minor": 0
      },
      "text/plain": [
       "Validation: 0it [00:00, ?it/s]"
      ]
     },
     "metadata": {},
     "output_type": "display_data"
    },
    {
     "data": {
      "application/vnd.jupyter.widget-view+json": {
       "model_id": "",
       "version_major": 2,
       "version_minor": 0
      },
      "text/plain": [
       "Validation: 0it [00:00, ?it/s]"
      ]
     },
     "metadata": {},
     "output_type": "display_data"
    },
    {
     "data": {
      "application/vnd.jupyter.widget-view+json": {
       "model_id": "",
       "version_major": 2,
       "version_minor": 0
      },
      "text/plain": [
       "Validation: 0it [00:00, ?it/s]"
      ]
     },
     "metadata": {},
     "output_type": "display_data"
    },
    {
     "data": {
      "application/vnd.jupyter.widget-view+json": {
       "model_id": "",
       "version_major": 2,
       "version_minor": 0
      },
      "text/plain": [
       "Validation: 0it [00:00, ?it/s]"
      ]
     },
     "metadata": {},
     "output_type": "display_data"
    },
    {
     "data": {
      "application/vnd.jupyter.widget-view+json": {
       "model_id": "",
       "version_major": 2,
       "version_minor": 0
      },
      "text/plain": [
       "Validation: 0it [00:00, ?it/s]"
      ]
     },
     "metadata": {},
     "output_type": "display_data"
    },
    {
     "data": {
      "application/vnd.jupyter.widget-view+json": {
       "model_id": "",
       "version_major": 2,
       "version_minor": 0
      },
      "text/plain": [
       "Validation: 0it [00:00, ?it/s]"
      ]
     },
     "metadata": {},
     "output_type": "display_data"
    },
    {
     "data": {
      "application/vnd.jupyter.widget-view+json": {
       "model_id": "",
       "version_major": 2,
       "version_minor": 0
      },
      "text/plain": [
       "Validation: 0it [00:00, ?it/s]"
      ]
     },
     "metadata": {},
     "output_type": "display_data"
    },
    {
     "data": {
      "application/vnd.jupyter.widget-view+json": {
       "model_id": "",
       "version_major": 2,
       "version_minor": 0
      },
      "text/plain": [
       "Validation: 0it [00:00, ?it/s]"
      ]
     },
     "metadata": {},
     "output_type": "display_data"
    },
    {
     "data": {
      "application/vnd.jupyter.widget-view+json": {
       "model_id": "",
       "version_major": 2,
       "version_minor": 0
      },
      "text/plain": [
       "Validation: 0it [00:00, ?it/s]"
      ]
     },
     "metadata": {},
     "output_type": "display_data"
    },
    {
     "data": {
      "application/vnd.jupyter.widget-view+json": {
       "model_id": "",
       "version_major": 2,
       "version_minor": 0
      },
      "text/plain": [
       "Validation: 0it [00:00, ?it/s]"
      ]
     },
     "metadata": {},
     "output_type": "display_data"
    },
    {
     "data": {
      "application/vnd.jupyter.widget-view+json": {
       "model_id": "",
       "version_major": 2,
       "version_minor": 0
      },
      "text/plain": [
       "Validation: 0it [00:00, ?it/s]"
      ]
     },
     "metadata": {},
     "output_type": "display_data"
    },
    {
     "data": {
      "application/vnd.jupyter.widget-view+json": {
       "model_id": "",
       "version_major": 2,
       "version_minor": 0
      },
      "text/plain": [
       "Validation: 0it [00:00, ?it/s]"
      ]
     },
     "metadata": {},
     "output_type": "display_data"
    },
    {
     "data": {
      "application/vnd.jupyter.widget-view+json": {
       "model_id": "",
       "version_major": 2,
       "version_minor": 0
      },
      "text/plain": [
       "Validation: 0it [00:00, ?it/s]"
      ]
     },
     "metadata": {},
     "output_type": "display_data"
    },
    {
     "data": {
      "application/vnd.jupyter.widget-view+json": {
       "model_id": "",
       "version_major": 2,
       "version_minor": 0
      },
      "text/plain": [
       "Validation: 0it [00:00, ?it/s]"
      ]
     },
     "metadata": {},
     "output_type": "display_data"
    },
    {
     "data": {
      "application/vnd.jupyter.widget-view+json": {
       "model_id": "",
       "version_major": 2,
       "version_minor": 0
      },
      "text/plain": [
       "Validation: 0it [00:00, ?it/s]"
      ]
     },
     "metadata": {},
     "output_type": "display_data"
    },
    {
     "data": {
      "application/vnd.jupyter.widget-view+json": {
       "model_id": "",
       "version_major": 2,
       "version_minor": 0
      },
      "text/plain": [
       "Validation: 0it [00:00, ?it/s]"
      ]
     },
     "metadata": {},
     "output_type": "display_data"
    },
    {
     "data": {
      "application/vnd.jupyter.widget-view+json": {
       "model_id": "",
       "version_major": 2,
       "version_minor": 0
      },
      "text/plain": [
       "Validation: 0it [00:00, ?it/s]"
      ]
     },
     "metadata": {},
     "output_type": "display_data"
    },
    {
     "data": {
      "application/vnd.jupyter.widget-view+json": {
       "model_id": "",
       "version_major": 2,
       "version_minor": 0
      },
      "text/plain": [
       "Validation: 0it [00:00, ?it/s]"
      ]
     },
     "metadata": {},
     "output_type": "display_data"
    },
    {
     "data": {
      "application/vnd.jupyter.widget-view+json": {
       "model_id": "",
       "version_major": 2,
       "version_minor": 0
      },
      "text/plain": [
       "Validation: 0it [00:00, ?it/s]"
      ]
     },
     "metadata": {},
     "output_type": "display_data"
    },
    {
     "data": {
      "application/vnd.jupyter.widget-view+json": {
       "model_id": "",
       "version_major": 2,
       "version_minor": 0
      },
      "text/plain": [
       "Validation: 0it [00:00, ?it/s]"
      ]
     },
     "metadata": {},
     "output_type": "display_data"
    },
    {
     "data": {
      "application/vnd.jupyter.widget-view+json": {
       "model_id": "",
       "version_major": 2,
       "version_minor": 0
      },
      "text/plain": [
       "Validation: 0it [00:00, ?it/s]"
      ]
     },
     "metadata": {},
     "output_type": "display_data"
    },
    {
     "data": {
      "application/vnd.jupyter.widget-view+json": {
       "model_id": "",
       "version_major": 2,
       "version_minor": 0
      },
      "text/plain": [
       "Validation: 0it [00:00, ?it/s]"
      ]
     },
     "metadata": {},
     "output_type": "display_data"
    },
    {
     "data": {
      "application/vnd.jupyter.widget-view+json": {
       "model_id": "",
       "version_major": 2,
       "version_minor": 0
      },
      "text/plain": [
       "Validation: 0it [00:00, ?it/s]"
      ]
     },
     "metadata": {},
     "output_type": "display_data"
    },
    {
     "data": {
      "application/vnd.jupyter.widget-view+json": {
       "model_id": "",
       "version_major": 2,
       "version_minor": 0
      },
      "text/plain": [
       "Validation: 0it [00:00, ?it/s]"
      ]
     },
     "metadata": {},
     "output_type": "display_data"
    },
    {
     "data": {
      "application/vnd.jupyter.widget-view+json": {
       "model_id": "",
       "version_major": 2,
       "version_minor": 0
      },
      "text/plain": [
       "Validation: 0it [00:00, ?it/s]"
      ]
     },
     "metadata": {},
     "output_type": "display_data"
    },
    {
     "data": {
      "application/vnd.jupyter.widget-view+json": {
       "model_id": "",
       "version_major": 2,
       "version_minor": 0
      },
      "text/plain": [
       "Validation: 0it [00:00, ?it/s]"
      ]
     },
     "metadata": {},
     "output_type": "display_data"
    },
    {
     "data": {
      "application/vnd.jupyter.widget-view+json": {
       "model_id": "",
       "version_major": 2,
       "version_minor": 0
      },
      "text/plain": [
       "Validation: 0it [00:00, ?it/s]"
      ]
     },
     "metadata": {},
     "output_type": "display_data"
    },
    {
     "data": {
      "application/vnd.jupyter.widget-view+json": {
       "model_id": "",
       "version_major": 2,
       "version_minor": 0
      },
      "text/plain": [
       "Validation: 0it [00:00, ?it/s]"
      ]
     },
     "metadata": {},
     "output_type": "display_data"
    },
    {
     "data": {
      "application/vnd.jupyter.widget-view+json": {
       "model_id": "",
       "version_major": 2,
       "version_minor": 0
      },
      "text/plain": [
       "Validation: 0it [00:00, ?it/s]"
      ]
     },
     "metadata": {},
     "output_type": "display_data"
    },
    {
     "data": {
      "application/vnd.jupyter.widget-view+json": {
       "model_id": "",
       "version_major": 2,
       "version_minor": 0
      },
      "text/plain": [
       "Validation: 0it [00:00, ?it/s]"
      ]
     },
     "metadata": {},
     "output_type": "display_data"
    },
    {
     "data": {
      "application/vnd.jupyter.widget-view+json": {
       "model_id": "",
       "version_major": 2,
       "version_minor": 0
      },
      "text/plain": [
       "Validation: 0it [00:00, ?it/s]"
      ]
     },
     "metadata": {},
     "output_type": "display_data"
    },
    {
     "data": {
      "application/vnd.jupyter.widget-view+json": {
       "model_id": "",
       "version_major": 2,
       "version_minor": 0
      },
      "text/plain": [
       "Validation: 0it [00:00, ?it/s]"
      ]
     },
     "metadata": {},
     "output_type": "display_data"
    },
    {
     "data": {
      "application/vnd.jupyter.widget-view+json": {
       "model_id": "",
       "version_major": 2,
       "version_minor": 0
      },
      "text/plain": [
       "Validation: 0it [00:00, ?it/s]"
      ]
     },
     "metadata": {},
     "output_type": "display_data"
    },
    {
     "data": {
      "application/vnd.jupyter.widget-view+json": {
       "model_id": "",
       "version_major": 2,
       "version_minor": 0
      },
      "text/plain": [
       "Validation: 0it [00:00, ?it/s]"
      ]
     },
     "metadata": {},
     "output_type": "display_data"
    },
    {
     "data": {
      "application/vnd.jupyter.widget-view+json": {
       "model_id": "",
       "version_major": 2,
       "version_minor": 0
      },
      "text/plain": [
       "Validation: 0it [00:00, ?it/s]"
      ]
     },
     "metadata": {},
     "output_type": "display_data"
    },
    {
     "data": {
      "application/vnd.jupyter.widget-view+json": {
       "model_id": "",
       "version_major": 2,
       "version_minor": 0
      },
      "text/plain": [
       "Validation: 0it [00:00, ?it/s]"
      ]
     },
     "metadata": {},
     "output_type": "display_data"
    },
    {
     "data": {
      "application/vnd.jupyter.widget-view+json": {
       "model_id": "",
       "version_major": 2,
       "version_minor": 0
      },
      "text/plain": [
       "Validation: 0it [00:00, ?it/s]"
      ]
     },
     "metadata": {},
     "output_type": "display_data"
    },
    {
     "data": {
      "application/vnd.jupyter.widget-view+json": {
       "model_id": "",
       "version_major": 2,
       "version_minor": 0
      },
      "text/plain": [
       "Validation: 0it [00:00, ?it/s]"
      ]
     },
     "metadata": {},
     "output_type": "display_data"
    },
    {
     "data": {
      "application/vnd.jupyter.widget-view+json": {
       "model_id": "",
       "version_major": 2,
       "version_minor": 0
      },
      "text/plain": [
       "Validation: 0it [00:00, ?it/s]"
      ]
     },
     "metadata": {},
     "output_type": "display_data"
    },
    {
     "data": {
      "application/vnd.jupyter.widget-view+json": {
       "model_id": "",
       "version_major": 2,
       "version_minor": 0
      },
      "text/plain": [
       "Validation: 0it [00:00, ?it/s]"
      ]
     },
     "metadata": {},
     "output_type": "display_data"
    },
    {
     "data": {
      "application/vnd.jupyter.widget-view+json": {
       "model_id": "",
       "version_major": 2,
       "version_minor": 0
      },
      "text/plain": [
       "Validation: 0it [00:00, ?it/s]"
      ]
     },
     "metadata": {},
     "output_type": "display_data"
    },
    {
     "data": {
      "application/vnd.jupyter.widget-view+json": {
       "model_id": "ebab7a18b6204a44b8f848f2f1a756a0",
       "version_major": 2,
       "version_minor": 0
      },
      "text/plain": [
       "Validation: 0it [00:00, ?it/s]"
      ]
     },
     "metadata": {},
     "output_type": "display_data"
    },
    {
     "data": {
      "application/vnd.jupyter.widget-view+json": {
       "model_id": "4032c8cd62f64ed490e709f9ca29a5fa",
       "version_major": 2,
       "version_minor": 0
      },
      "text/plain": [
       "Validation: 0it [00:00, ?it/s]"
      ]
     },
     "metadata": {},
     "output_type": "display_data"
    },
    {
     "data": {
      "application/vnd.jupyter.widget-view+json": {
       "model_id": "d6b8af6803f04e9caff2f96bad31b368",
       "version_major": 2,
       "version_minor": 0
      },
      "text/plain": [
       "Validation: 0it [00:00, ?it/s]"
      ]
     },
     "metadata": {},
     "output_type": "display_data"
    },
    {
     "data": {
      "application/vnd.jupyter.widget-view+json": {
       "model_id": "f3539c3be2e44dcf8fe664097b710132",
       "version_major": 2,
       "version_minor": 0
      },
      "text/plain": [
       "Validation: 0it [00:00, ?it/s]"
      ]
     },
     "metadata": {},
     "output_type": "display_data"
    },
    {
     "data": {
      "application/vnd.jupyter.widget-view+json": {
       "model_id": "ba98f45b82a74548a506fef0bfb4dda7",
       "version_major": 2,
       "version_minor": 0
      },
      "text/plain": [
       "Validation: 0it [00:00, ?it/s]"
      ]
     },
     "metadata": {},
     "output_type": "display_data"
    },
    {
     "data": {
      "application/vnd.jupyter.widget-view+json": {
       "model_id": "2ca67ef8345b4107a6965b9d6716f4c1",
       "version_major": 2,
       "version_minor": 0
      },
      "text/plain": [
       "Validation: 0it [00:00, ?it/s]"
      ]
     },
     "metadata": {},
     "output_type": "display_data"
    },
    {
     "data": {
      "application/vnd.jupyter.widget-view+json": {
       "model_id": "22ee41ebeb0448dd956094b82b780dec",
       "version_major": 2,
       "version_minor": 0
      },
      "text/plain": [
       "Validation: 0it [00:00, ?it/s]"
      ]
     },
     "metadata": {},
     "output_type": "display_data"
    },
    {
     "data": {
      "application/vnd.jupyter.widget-view+json": {
       "model_id": "b8d9502d3f0f45158bc8272bbb1ff38c",
       "version_major": 2,
       "version_minor": 0
      },
      "text/plain": [
       "Validation: 0it [00:00, ?it/s]"
      ]
     },
     "metadata": {},
     "output_type": "display_data"
    },
    {
     "data": {
      "application/vnd.jupyter.widget-view+json": {
       "model_id": "bd3e92bb15124d08b77a18f76f609930",
       "version_major": 2,
       "version_minor": 0
      },
      "text/plain": [
       "Validation: 0it [00:00, ?it/s]"
      ]
     },
     "metadata": {},
     "output_type": "display_data"
    },
    {
     "data": {
      "application/vnd.jupyter.widget-view+json": {
       "model_id": "d70c5a862f7140abbac21392954643f4",
       "version_major": 2,
       "version_minor": 0
      },
      "text/plain": [
       "Validation: 0it [00:00, ?it/s]"
      ]
     },
     "metadata": {},
     "output_type": "display_data"
    },
    {
     "data": {
      "application/vnd.jupyter.widget-view+json": {
       "model_id": "90a547964bce420581a59d45232fd2db",
       "version_major": 2,
       "version_minor": 0
      },
      "text/plain": [
       "Validation: 0it [00:00, ?it/s]"
      ]
     },
     "metadata": {},
     "output_type": "display_data"
    },
    {
     "data": {
      "application/vnd.jupyter.widget-view+json": {
       "model_id": "d596426ad7c64a93bf359986b4fb34b3",
       "version_major": 2,
       "version_minor": 0
      },
      "text/plain": [
       "Validation: 0it [00:00, ?it/s]"
      ]
     },
     "metadata": {},
     "output_type": "display_data"
    },
    {
     "data": {
      "application/vnd.jupyter.widget-view+json": {
       "model_id": "484735799e844f1d86d83e8902c8e2ea",
       "version_major": 2,
       "version_minor": 0
      },
      "text/plain": [
       "Validation: 0it [00:00, ?it/s]"
      ]
     },
     "metadata": {},
     "output_type": "display_data"
    },
    {
     "data": {
      "application/vnd.jupyter.widget-view+json": {
       "model_id": "52770101bff04e3390f5ff94715cd4c7",
       "version_major": 2,
       "version_minor": 0
      },
      "text/plain": [
       "Validation: 0it [00:00, ?it/s]"
      ]
     },
     "metadata": {},
     "output_type": "display_data"
    },
    {
     "data": {
      "application/vnd.jupyter.widget-view+json": {
       "model_id": "79578e7e151e47c1babd584f3344efb4",
       "version_major": 2,
       "version_minor": 0
      },
      "text/plain": [
       "Validation: 0it [00:00, ?it/s]"
      ]
     },
     "metadata": {},
     "output_type": "display_data"
    },
    {
     "data": {
      "application/vnd.jupyter.widget-view+json": {
       "model_id": "87d346194fa04b088e50f21a5b1b7623",
       "version_major": 2,
       "version_minor": 0
      },
      "text/plain": [
       "Validation: 0it [00:00, ?it/s]"
      ]
     },
     "metadata": {},
     "output_type": "display_data"
    },
    {
     "data": {
      "application/vnd.jupyter.widget-view+json": {
       "model_id": "ded782faf5c84823be4463948e32693a",
       "version_major": 2,
       "version_minor": 0
      },
      "text/plain": [
       "Validation: 0it [00:00, ?it/s]"
      ]
     },
     "metadata": {},
     "output_type": "display_data"
    },
    {
     "data": {
      "application/vnd.jupyter.widget-view+json": {
       "model_id": "7f071e912eff48138979dc0760afb3dd",
       "version_major": 2,
       "version_minor": 0
      },
      "text/plain": [
       "Validation: 0it [00:00, ?it/s]"
      ]
     },
     "metadata": {},
     "output_type": "display_data"
    },
    {
     "data": {
      "application/vnd.jupyter.widget-view+json": {
       "model_id": "39815db312c34b23a46e1d01995463cf",
       "version_major": 2,
       "version_minor": 0
      },
      "text/plain": [
       "Validation: 0it [00:00, ?it/s]"
      ]
     },
     "metadata": {},
     "output_type": "display_data"
    },
    {
     "data": {
      "application/vnd.jupyter.widget-view+json": {
       "model_id": "044aeafafc24431fb17a578596f97426",
       "version_major": 2,
       "version_minor": 0
      },
      "text/plain": [
       "Validation: 0it [00:00, ?it/s]"
      ]
     },
     "metadata": {},
     "output_type": "display_data"
    },
    {
     "data": {
      "application/vnd.jupyter.widget-view+json": {
       "model_id": "0865b979e89e4d408efea979464bb4ab",
       "version_major": 2,
       "version_minor": 0
      },
      "text/plain": [
       "Validation: 0it [00:00, ?it/s]"
      ]
     },
     "metadata": {},
     "output_type": "display_data"
    },
    {
     "data": {
      "application/vnd.jupyter.widget-view+json": {
       "model_id": "f0556b4990444ddb92bbc30bdc5a9702",
       "version_major": 2,
       "version_minor": 0
      },
      "text/plain": [
       "Validation: 0it [00:00, ?it/s]"
      ]
     },
     "metadata": {},
     "output_type": "display_data"
    },
    {
     "data": {
      "application/vnd.jupyter.widget-view+json": {
       "model_id": "ed9fbea0ee6647dcaab4c0e9ed01a2c1",
       "version_major": 2,
       "version_minor": 0
      },
      "text/plain": [
       "Validation: 0it [00:00, ?it/s]"
      ]
     },
     "metadata": {},
     "output_type": "display_data"
    },
    {
     "data": {
      "application/vnd.jupyter.widget-view+json": {
       "model_id": "7b42213bbec841eabfc208b22ac1cde9",
       "version_major": 2,
       "version_minor": 0
      },
      "text/plain": [
       "Validation: 0it [00:00, ?it/s]"
      ]
     },
     "metadata": {},
     "output_type": "display_data"
    },
    {
     "data": {
      "application/vnd.jupyter.widget-view+json": {
       "model_id": "4d06b188cc7c47f8846cc4e64452dd11",
       "version_major": 2,
       "version_minor": 0
      },
      "text/plain": [
       "Validation: 0it [00:00, ?it/s]"
      ]
     },
     "metadata": {},
     "output_type": "display_data"
    },
    {
     "data": {
      "application/vnd.jupyter.widget-view+json": {
       "model_id": "3d1e2273bf6d4fad8b563ecb8e12aac1",
       "version_major": 2,
       "version_minor": 0
      },
      "text/plain": [
       "Validation: 0it [00:00, ?it/s]"
      ]
     },
     "metadata": {},
     "output_type": "display_data"
    },
    {
     "data": {
      "application/vnd.jupyter.widget-view+json": {
       "model_id": "e51fa32ed06341a59a42b7af103ef7d2",
       "version_major": 2,
       "version_minor": 0
      },
      "text/plain": [
       "Validation: 0it [00:00, ?it/s]"
      ]
     },
     "metadata": {},
     "output_type": "display_data"
    },
    {
     "name": "stderr",
     "output_type": "stream",
     "text": [
      "LOCAL_RANK: 0 - CUDA_VISIBLE_DEVICES: [0]\n"
     ]
    },
    {
     "data": {
      "application/vnd.jupyter.widget-view+json": {
       "model_id": "c3dde7fbc8ad47389e588a9270731094",
       "version_major": 2,
       "version_minor": 0
      },
      "text/plain": [
       "Testing: 0it [00:00, ?it/s]"
      ]
     },
     "metadata": {},
     "output_type": "display_data"
    },
    {
     "ename": "AttributeError",
     "evalue": "type object 'PyLiDataModule' has no attribute 'tensor_restore_norm'",
     "output_type": "error",
     "traceback": [
      "\u001b[0;31m---------------------------------------------------------------------------\u001b[0m",
      "\u001b[0;31mAttributeError\u001b[0m                            Traceback (most recent call last)",
      "Cell \u001b[0;32mIn[25], line 20\u001b[0m\n\u001b[1;32m      1\u001b[0m config \u001b[38;5;241m=\u001b[39m \u001b[38;5;28mdict\u001b[39m({\u001b[38;5;124m'\u001b[39m\u001b[38;5;124mmodel_label\u001b[39m\u001b[38;5;124m'\u001b[39m : \u001b[38;5;124m'\u001b[39m\u001b[38;5;124mFCNN\u001b[39m\u001b[38;5;124m'\u001b[39m,\n\u001b[1;32m      2\u001b[0m                 \u001b[38;5;124m'\u001b[39m\u001b[38;5;124mversion\u001b[39m\u001b[38;5;124m'\u001b[39m : \u001b[38;5;124m'\u001b[39m\u001b[38;5;124mpatch_in3_out1_val_loss2D_nor_dim\u001b[39m\u001b[38;5;124m'\u001b[39m,\n\u001b[1;32m      3\u001b[0m                 \u001b[38;5;124m'\u001b[39m\u001b[38;5;124mtorch_model\u001b[39m\u001b[38;5;124m'\u001b[39m : \u001b[38;5;124m'\u001b[39m\u001b[38;5;124mmyParam.FCNN\u001b[39m\u001b[38;5;124m'\u001b[39m,\n\u001b[0;32m   (...)\u001b[0m\n\u001b[1;32m     18\u001b[0m                                           \u001b[38;5;124m'\u001b[39m\u001b[38;5;124mlimit_train_batches\u001b[39m\u001b[38;5;124m'\u001b[39m : \u001b[38;5;241m1.0\u001b[39m})\n\u001b[1;32m     19\u001b[0m                })\n\u001b[0;32m---> 20\u001b[0m \u001b[43mrun_experiment\u001b[49m\u001b[43m(\u001b[49m\u001b[43mconfig\u001b[49m\u001b[43m,\u001b[49m\u001b[43m \u001b[49m\u001b[43mproject_name\u001b[49m\u001b[43m)\u001b[49m\n",
      "Cell \u001b[0;32mIn[14], line 20\u001b[0m, in \u001b[0;36mrun_experiment\u001b[0;34m(config, project)\u001b[0m\n\u001b[1;32m     18\u001b[0m test_datamodule \u001b[38;5;241m=\u001b[39m \u001b[38;5;28meval\u001b[39m(config[\u001b[38;5;124m'\u001b[39m\u001b[38;5;124mdatamodule\u001b[39m\u001b[38;5;124m'\u001b[39m])\n\u001b[1;32m     19\u001b[0m test_datamodule\u001b[38;5;241m.\u001b[39msetup(stage\u001b[38;5;241m=\u001b[39m\u001b[38;5;124m'\u001b[39m\u001b[38;5;124mtest\u001b[39m\u001b[38;5;124m'\u001b[39m)\n\u001b[0;32m---> 20\u001b[0m \u001b[43mtrainer\u001b[49m\u001b[38;5;241;43m.\u001b[39;49m\u001b[43mtest\u001b[49m\u001b[43m(\u001b[49m\u001b[43mmodel\u001b[49m\u001b[43m \u001b[49m\u001b[38;5;241;43m=\u001b[39;49m\u001b[43m \u001b[49m\u001b[43mpylight_module\u001b[49m\u001b[43m,\u001b[49m\u001b[43m \u001b[49m\u001b[43mdatamodule\u001b[49m\u001b[38;5;241;43m=\u001b[39;49m\u001b[43mtest_datamodule\u001b[49m\u001b[43m)\u001b[49m\n\u001b[1;32m     21\u001b[0m wandb\u001b[38;5;241m.\u001b[39mfinish()\n",
      "File \u001b[0;32m/srv/conda/envs/notebook/lib/python3.10/site-packages/pytorch_lightning/trainer/trainer.py:780\u001b[0m, in \u001b[0;36mTrainer.test\u001b[0;34m(self, model, dataloaders, ckpt_path, verbose, datamodule)\u001b[0m\n\u001b[1;32m    778\u001b[0m     \u001b[38;5;28;01mraise\u001b[39;00m \u001b[38;5;167;01mTypeError\u001b[39;00m(\u001b[38;5;124mf\u001b[39m\u001b[38;5;124m\"\u001b[39m\u001b[38;5;124m`Trainer.test()` requires a `LightningModule`, got: \u001b[39m\u001b[38;5;132;01m{\u001b[39;00mmodel\u001b[38;5;241m.\u001b[39m\u001b[38;5;18m__class__\u001b[39m\u001b[38;5;241m.\u001b[39m\u001b[38;5;18m__qualname__\u001b[39m\u001b[38;5;132;01m}\u001b[39;00m\u001b[38;5;124m\"\u001b[39m)\n\u001b[1;32m    779\u001b[0m \u001b[38;5;28mself\u001b[39m\u001b[38;5;241m.\u001b[39mstrategy\u001b[38;5;241m.\u001b[39m_lightning_module \u001b[38;5;241m=\u001b[39m model \u001b[38;5;129;01mor\u001b[39;00m \u001b[38;5;28mself\u001b[39m\u001b[38;5;241m.\u001b[39mlightning_module\n\u001b[0;32m--> 780\u001b[0m \u001b[38;5;28;01mreturn\u001b[39;00m \u001b[43mcall\u001b[49m\u001b[38;5;241;43m.\u001b[39;49m\u001b[43m_call_and_handle_interrupt\u001b[49m\u001b[43m(\u001b[49m\n\u001b[1;32m    781\u001b[0m \u001b[43m    \u001b[49m\u001b[38;5;28;43mself\u001b[39;49m\u001b[43m,\u001b[49m\u001b[43m \u001b[49m\u001b[38;5;28;43mself\u001b[39;49m\u001b[38;5;241;43m.\u001b[39;49m\u001b[43m_test_impl\u001b[49m\u001b[43m,\u001b[49m\u001b[43m \u001b[49m\u001b[43mmodel\u001b[49m\u001b[43m,\u001b[49m\u001b[43m \u001b[49m\u001b[43mdataloaders\u001b[49m\u001b[43m,\u001b[49m\u001b[43m \u001b[49m\u001b[43mckpt_path\u001b[49m\u001b[43m,\u001b[49m\u001b[43m \u001b[49m\u001b[43mverbose\u001b[49m\u001b[43m,\u001b[49m\u001b[43m \u001b[49m\u001b[43mdatamodule\u001b[49m\n\u001b[1;32m    782\u001b[0m \u001b[43m\u001b[49m\u001b[43m)\u001b[49m\n",
      "File \u001b[0;32m/srv/conda/envs/notebook/lib/python3.10/site-packages/pytorch_lightning/trainer/call.py:38\u001b[0m, in \u001b[0;36m_call_and_handle_interrupt\u001b[0;34m(trainer, trainer_fn, *args, **kwargs)\u001b[0m\n\u001b[1;32m     36\u001b[0m         \u001b[38;5;28;01mreturn\u001b[39;00m trainer\u001b[38;5;241m.\u001b[39mstrategy\u001b[38;5;241m.\u001b[39mlauncher\u001b[38;5;241m.\u001b[39mlaunch(trainer_fn, \u001b[38;5;241m*\u001b[39margs, trainer\u001b[38;5;241m=\u001b[39mtrainer, \u001b[38;5;241m*\u001b[39m\u001b[38;5;241m*\u001b[39mkwargs)\n\u001b[1;32m     37\u001b[0m     \u001b[38;5;28;01melse\u001b[39;00m:\n\u001b[0;32m---> 38\u001b[0m         \u001b[38;5;28;01mreturn\u001b[39;00m \u001b[43mtrainer_fn\u001b[49m\u001b[43m(\u001b[49m\u001b[38;5;241;43m*\u001b[39;49m\u001b[43margs\u001b[49m\u001b[43m,\u001b[49m\u001b[43m \u001b[49m\u001b[38;5;241;43m*\u001b[39;49m\u001b[38;5;241;43m*\u001b[39;49m\u001b[43mkwargs\u001b[49m\u001b[43m)\u001b[49m\n\u001b[1;32m     40\u001b[0m \u001b[38;5;28;01mexcept\u001b[39;00m _TunerExitException:\n\u001b[1;32m     41\u001b[0m     trainer\u001b[38;5;241m.\u001b[39m_call_teardown_hook()\n",
      "File \u001b[0;32m/srv/conda/envs/notebook/lib/python3.10/site-packages/pytorch_lightning/trainer/trainer.py:829\u001b[0m, in \u001b[0;36mTrainer._test_impl\u001b[0;34m(self, model, dataloaders, ckpt_path, verbose, datamodule)\u001b[0m\n\u001b[1;32m    826\u001b[0m \u001b[38;5;28mself\u001b[39m\u001b[38;5;241m.\u001b[39m_tested_ckpt_path \u001b[38;5;241m=\u001b[39m \u001b[38;5;28mself\u001b[39m\u001b[38;5;241m.\u001b[39mckpt_path  \u001b[38;5;66;03m# TODO: remove in v1.8\u001b[39;00m\n\u001b[1;32m    828\u001b[0m \u001b[38;5;66;03m# run test\u001b[39;00m\n\u001b[0;32m--> 829\u001b[0m results \u001b[38;5;241m=\u001b[39m \u001b[38;5;28;43mself\u001b[39;49m\u001b[38;5;241;43m.\u001b[39;49m\u001b[43m_run\u001b[49m\u001b[43m(\u001b[49m\u001b[43mmodel\u001b[49m\u001b[43m,\u001b[49m\u001b[43m \u001b[49m\u001b[43mckpt_path\u001b[49m\u001b[38;5;241;43m=\u001b[39;49m\u001b[38;5;28;43mself\u001b[39;49m\u001b[38;5;241;43m.\u001b[39;49m\u001b[43mckpt_path\u001b[49m\u001b[43m)\u001b[49m\n\u001b[1;32m    831\u001b[0m \u001b[38;5;28;01massert\u001b[39;00m \u001b[38;5;28mself\u001b[39m\u001b[38;5;241m.\u001b[39mstate\u001b[38;5;241m.\u001b[39mstopped\n\u001b[1;32m    832\u001b[0m \u001b[38;5;28mself\u001b[39m\u001b[38;5;241m.\u001b[39mtesting \u001b[38;5;241m=\u001b[39m \u001b[38;5;28;01mFalse\u001b[39;00m\n",
      "File \u001b[0;32m/srv/conda/envs/notebook/lib/python3.10/site-packages/pytorch_lightning/trainer/trainer.py:1098\u001b[0m, in \u001b[0;36mTrainer._run\u001b[0;34m(self, model, ckpt_path)\u001b[0m\n\u001b[1;32m   1094\u001b[0m \u001b[38;5;28mself\u001b[39m\u001b[38;5;241m.\u001b[39m_checkpoint_connector\u001b[38;5;241m.\u001b[39mrestore_training_state()\n\u001b[1;32m   1096\u001b[0m \u001b[38;5;28mself\u001b[39m\u001b[38;5;241m.\u001b[39m_checkpoint_connector\u001b[38;5;241m.\u001b[39mresume_end()\n\u001b[0;32m-> 1098\u001b[0m results \u001b[38;5;241m=\u001b[39m \u001b[38;5;28;43mself\u001b[39;49m\u001b[38;5;241;43m.\u001b[39;49m\u001b[43m_run_stage\u001b[49m\u001b[43m(\u001b[49m\u001b[43m)\u001b[49m\n\u001b[1;32m   1100\u001b[0m log\u001b[38;5;241m.\u001b[39mdetail(\u001b[38;5;124mf\u001b[39m\u001b[38;5;124m\"\u001b[39m\u001b[38;5;132;01m{\u001b[39;00m\u001b[38;5;28mself\u001b[39m\u001b[38;5;241m.\u001b[39m\u001b[38;5;18m__class__\u001b[39m\u001b[38;5;241m.\u001b[39m\u001b[38;5;18m__name__\u001b[39m\u001b[38;5;132;01m}\u001b[39;00m\u001b[38;5;124m: trainer tearing down\u001b[39m\u001b[38;5;124m\"\u001b[39m)\n\u001b[1;32m   1101\u001b[0m \u001b[38;5;28mself\u001b[39m\u001b[38;5;241m.\u001b[39m_teardown()\n",
      "File \u001b[0;32m/srv/conda/envs/notebook/lib/python3.10/site-packages/pytorch_lightning/trainer/trainer.py:1174\u001b[0m, in \u001b[0;36mTrainer._run_stage\u001b[0;34m(self)\u001b[0m\n\u001b[1;32m   1171\u001b[0m \u001b[38;5;28mself\u001b[39m\u001b[38;5;241m.\u001b[39mstrategy\u001b[38;5;241m.\u001b[39mdispatch(\u001b[38;5;28mself\u001b[39m)\n\u001b[1;32m   1173\u001b[0m \u001b[38;5;28;01mif\u001b[39;00m \u001b[38;5;28mself\u001b[39m\u001b[38;5;241m.\u001b[39mevaluating:\n\u001b[0;32m-> 1174\u001b[0m     \u001b[38;5;28;01mreturn\u001b[39;00m \u001b[38;5;28;43mself\u001b[39;49m\u001b[38;5;241;43m.\u001b[39;49m\u001b[43m_run_evaluate\u001b[49m\u001b[43m(\u001b[49m\u001b[43m)\u001b[49m\n\u001b[1;32m   1175\u001b[0m \u001b[38;5;28;01mif\u001b[39;00m \u001b[38;5;28mself\u001b[39m\u001b[38;5;241m.\u001b[39mpredicting:\n\u001b[1;32m   1176\u001b[0m     \u001b[38;5;28;01mreturn\u001b[39;00m \u001b[38;5;28mself\u001b[39m\u001b[38;5;241m.\u001b[39m_run_predict()\n",
      "File \u001b[0;32m/srv/conda/envs/notebook/lib/python3.10/site-packages/pytorch_lightning/trainer/trainer.py:1214\u001b[0m, in \u001b[0;36mTrainer._run_evaluate\u001b[0;34m(self)\u001b[0m\n\u001b[1;32m   1209\u001b[0m \u001b[38;5;28mself\u001b[39m\u001b[38;5;241m.\u001b[39m_evaluation_loop\u001b[38;5;241m.\u001b[39mtrainer \u001b[38;5;241m=\u001b[39m \u001b[38;5;28mself\u001b[39m\n\u001b[1;32m   1211\u001b[0m \u001b[38;5;28;01mwith\u001b[39;00m \u001b[38;5;28mself\u001b[39m\u001b[38;5;241m.\u001b[39mprofiler\u001b[38;5;241m.\u001b[39mprofile(\u001b[38;5;124mf\u001b[39m\u001b[38;5;124m\"\u001b[39m\u001b[38;5;124mrun_\u001b[39m\u001b[38;5;132;01m{\u001b[39;00m\u001b[38;5;28mself\u001b[39m\u001b[38;5;241m.\u001b[39mstate\u001b[38;5;241m.\u001b[39mstage\u001b[38;5;132;01m}\u001b[39;00m\u001b[38;5;124m_evaluation\u001b[39m\u001b[38;5;124m\"\u001b[39m), _evaluation_context(\n\u001b[1;32m   1212\u001b[0m     \u001b[38;5;28mself\u001b[39m\u001b[38;5;241m.\u001b[39maccelerator, \u001b[38;5;28mself\u001b[39m\u001b[38;5;241m.\u001b[39m_inference_mode\n\u001b[1;32m   1213\u001b[0m ):\n\u001b[0;32m-> 1214\u001b[0m     eval_loop_results \u001b[38;5;241m=\u001b[39m \u001b[38;5;28;43mself\u001b[39;49m\u001b[38;5;241;43m.\u001b[39;49m\u001b[43m_evaluation_loop\u001b[49m\u001b[38;5;241;43m.\u001b[39;49m\u001b[43mrun\u001b[49m\u001b[43m(\u001b[49m\u001b[43m)\u001b[49m\n\u001b[1;32m   1216\u001b[0m \u001b[38;5;66;03m# remove the tensors from the eval results\u001b[39;00m\n\u001b[1;32m   1217\u001b[0m \u001b[38;5;28;01mfor\u001b[39;00m result \u001b[38;5;129;01min\u001b[39;00m eval_loop_results:\n",
      "File \u001b[0;32m/srv/conda/envs/notebook/lib/python3.10/site-packages/pytorch_lightning/loops/loop.py:199\u001b[0m, in \u001b[0;36mLoop.run\u001b[0;34m(self, *args, **kwargs)\u001b[0m\n\u001b[1;32m    197\u001b[0m \u001b[38;5;28;01mtry\u001b[39;00m:\n\u001b[1;32m    198\u001b[0m     \u001b[38;5;28mself\u001b[39m\u001b[38;5;241m.\u001b[39mon_advance_start(\u001b[38;5;241m*\u001b[39margs, \u001b[38;5;241m*\u001b[39m\u001b[38;5;241m*\u001b[39mkwargs)\n\u001b[0;32m--> 199\u001b[0m     \u001b[38;5;28;43mself\u001b[39;49m\u001b[38;5;241;43m.\u001b[39;49m\u001b[43madvance\u001b[49m\u001b[43m(\u001b[49m\u001b[38;5;241;43m*\u001b[39;49m\u001b[43margs\u001b[49m\u001b[43m,\u001b[49m\u001b[43m \u001b[49m\u001b[38;5;241;43m*\u001b[39;49m\u001b[38;5;241;43m*\u001b[39;49m\u001b[43mkwargs\u001b[49m\u001b[43m)\u001b[49m\n\u001b[1;32m    200\u001b[0m     \u001b[38;5;28mself\u001b[39m\u001b[38;5;241m.\u001b[39mon_advance_end()\n\u001b[1;32m    201\u001b[0m     \u001b[38;5;28mself\u001b[39m\u001b[38;5;241m.\u001b[39m_restarting \u001b[38;5;241m=\u001b[39m \u001b[38;5;28;01mFalse\u001b[39;00m\n",
      "File \u001b[0;32m/srv/conda/envs/notebook/lib/python3.10/site-packages/pytorch_lightning/loops/dataloader/evaluation_loop.py:152\u001b[0m, in \u001b[0;36mEvaluationLoop.advance\u001b[0;34m(self, *args, **kwargs)\u001b[0m\n\u001b[1;32m    150\u001b[0m \u001b[38;5;28;01mif\u001b[39;00m \u001b[38;5;28mself\u001b[39m\u001b[38;5;241m.\u001b[39mnum_dataloaders \u001b[38;5;241m>\u001b[39m \u001b[38;5;241m1\u001b[39m:\n\u001b[1;32m    151\u001b[0m     kwargs[\u001b[38;5;124m\"\u001b[39m\u001b[38;5;124mdataloader_idx\u001b[39m\u001b[38;5;124m\"\u001b[39m] \u001b[38;5;241m=\u001b[39m dataloader_idx\n\u001b[0;32m--> 152\u001b[0m dl_outputs \u001b[38;5;241m=\u001b[39m \u001b[38;5;28;43mself\u001b[39;49m\u001b[38;5;241;43m.\u001b[39;49m\u001b[43mepoch_loop\u001b[49m\u001b[38;5;241;43m.\u001b[39;49m\u001b[43mrun\u001b[49m\u001b[43m(\u001b[49m\u001b[38;5;28;43mself\u001b[39;49m\u001b[38;5;241;43m.\u001b[39;49m\u001b[43m_data_fetcher\u001b[49m\u001b[43m,\u001b[49m\u001b[43m \u001b[49m\u001b[43mdl_max_batches\u001b[49m\u001b[43m,\u001b[49m\u001b[43m \u001b[49m\u001b[43mkwargs\u001b[49m\u001b[43m)\u001b[49m\n\u001b[1;32m    154\u001b[0m \u001b[38;5;66;03m# store batch level output per dataloader\u001b[39;00m\n\u001b[1;32m    155\u001b[0m \u001b[38;5;28mself\u001b[39m\u001b[38;5;241m.\u001b[39m_outputs\u001b[38;5;241m.\u001b[39mappend(dl_outputs)\n",
      "File \u001b[0;32m/srv/conda/envs/notebook/lib/python3.10/site-packages/pytorch_lightning/loops/loop.py:199\u001b[0m, in \u001b[0;36mLoop.run\u001b[0;34m(self, *args, **kwargs)\u001b[0m\n\u001b[1;32m    197\u001b[0m \u001b[38;5;28;01mtry\u001b[39;00m:\n\u001b[1;32m    198\u001b[0m     \u001b[38;5;28mself\u001b[39m\u001b[38;5;241m.\u001b[39mon_advance_start(\u001b[38;5;241m*\u001b[39margs, \u001b[38;5;241m*\u001b[39m\u001b[38;5;241m*\u001b[39mkwargs)\n\u001b[0;32m--> 199\u001b[0m     \u001b[38;5;28;43mself\u001b[39;49m\u001b[38;5;241;43m.\u001b[39;49m\u001b[43madvance\u001b[49m\u001b[43m(\u001b[49m\u001b[38;5;241;43m*\u001b[39;49m\u001b[43margs\u001b[49m\u001b[43m,\u001b[49m\u001b[43m \u001b[49m\u001b[38;5;241;43m*\u001b[39;49m\u001b[38;5;241;43m*\u001b[39;49m\u001b[43mkwargs\u001b[49m\u001b[43m)\u001b[49m\n\u001b[1;32m    200\u001b[0m     \u001b[38;5;28mself\u001b[39m\u001b[38;5;241m.\u001b[39mon_advance_end()\n\u001b[1;32m    201\u001b[0m     \u001b[38;5;28mself\u001b[39m\u001b[38;5;241m.\u001b[39m_restarting \u001b[38;5;241m=\u001b[39m \u001b[38;5;28;01mFalse\u001b[39;00m\n",
      "File \u001b[0;32m/srv/conda/envs/notebook/lib/python3.10/site-packages/pytorch_lightning/loops/epoch/evaluation_epoch_loop.py:137\u001b[0m, in \u001b[0;36mEvaluationEpochLoop.advance\u001b[0;34m(self, data_fetcher, dl_max_batches, kwargs)\u001b[0m\n\u001b[1;32m    134\u001b[0m \u001b[38;5;28mself\u001b[39m\u001b[38;5;241m.\u001b[39mbatch_progress\u001b[38;5;241m.\u001b[39mincrement_started()\n\u001b[1;32m    136\u001b[0m \u001b[38;5;66;03m# lightning module methods\u001b[39;00m\n\u001b[0;32m--> 137\u001b[0m output \u001b[38;5;241m=\u001b[39m \u001b[38;5;28;43mself\u001b[39;49m\u001b[38;5;241;43m.\u001b[39;49m\u001b[43m_evaluation_step\u001b[49m\u001b[43m(\u001b[49m\u001b[38;5;241;43m*\u001b[39;49m\u001b[38;5;241;43m*\u001b[39;49m\u001b[43mkwargs\u001b[49m\u001b[43m)\u001b[49m\n\u001b[1;32m    138\u001b[0m output \u001b[38;5;241m=\u001b[39m \u001b[38;5;28mself\u001b[39m\u001b[38;5;241m.\u001b[39m_evaluation_step_end(output)\n\u001b[1;32m    140\u001b[0m \u001b[38;5;28mself\u001b[39m\u001b[38;5;241m.\u001b[39mbatch_progress\u001b[38;5;241m.\u001b[39mincrement_processed()\n",
      "File \u001b[0;32m/srv/conda/envs/notebook/lib/python3.10/site-packages/pytorch_lightning/loops/epoch/evaluation_epoch_loop.py:234\u001b[0m, in \u001b[0;36mEvaluationEpochLoop._evaluation_step\u001b[0;34m(self, **kwargs)\u001b[0m\n\u001b[1;32m    223\u001b[0m \u001b[38;5;250m\u001b[39m\u001b[38;5;124;03m\"\"\"The evaluation step (validation_step or test_step depending on the trainer's state).\u001b[39;00m\n\u001b[1;32m    224\u001b[0m \n\u001b[1;32m    225\u001b[0m \u001b[38;5;124;03mArgs:\u001b[39;00m\n\u001b[0;32m   (...)\u001b[0m\n\u001b[1;32m    231\u001b[0m \u001b[38;5;124;03m    the outputs of the step\u001b[39;00m\n\u001b[1;32m    232\u001b[0m \u001b[38;5;124;03m\"\"\"\u001b[39;00m\n\u001b[1;32m    233\u001b[0m hook_name \u001b[38;5;241m=\u001b[39m \u001b[38;5;124m\"\u001b[39m\u001b[38;5;124mtest_step\u001b[39m\u001b[38;5;124m\"\u001b[39m \u001b[38;5;28;01mif\u001b[39;00m \u001b[38;5;28mself\u001b[39m\u001b[38;5;241m.\u001b[39mtrainer\u001b[38;5;241m.\u001b[39mtesting \u001b[38;5;28;01melse\u001b[39;00m \u001b[38;5;124m\"\u001b[39m\u001b[38;5;124mvalidation_step\u001b[39m\u001b[38;5;124m\"\u001b[39m\n\u001b[0;32m--> 234\u001b[0m output \u001b[38;5;241m=\u001b[39m \u001b[38;5;28;43mself\u001b[39;49m\u001b[38;5;241;43m.\u001b[39;49m\u001b[43mtrainer\u001b[49m\u001b[38;5;241;43m.\u001b[39;49m\u001b[43m_call_strategy_hook\u001b[49m\u001b[43m(\u001b[49m\u001b[43mhook_name\u001b[49m\u001b[43m,\u001b[49m\u001b[43m \u001b[49m\u001b[38;5;241;43m*\u001b[39;49m\u001b[43mkwargs\u001b[49m\u001b[38;5;241;43m.\u001b[39;49m\u001b[43mvalues\u001b[49m\u001b[43m(\u001b[49m\u001b[43m)\u001b[49m\u001b[43m)\u001b[49m\n\u001b[1;32m    236\u001b[0m \u001b[38;5;28;01mreturn\u001b[39;00m output\n",
      "File \u001b[0;32m/srv/conda/envs/notebook/lib/python3.10/site-packages/pytorch_lightning/trainer/trainer.py:1480\u001b[0m, in \u001b[0;36mTrainer._call_strategy_hook\u001b[0;34m(self, hook_name, *args, **kwargs)\u001b[0m\n\u001b[1;32m   1477\u001b[0m     \u001b[38;5;28;01mreturn\u001b[39;00m\n\u001b[1;32m   1479\u001b[0m \u001b[38;5;28;01mwith\u001b[39;00m \u001b[38;5;28mself\u001b[39m\u001b[38;5;241m.\u001b[39mprofiler\u001b[38;5;241m.\u001b[39mprofile(\u001b[38;5;124mf\u001b[39m\u001b[38;5;124m\"\u001b[39m\u001b[38;5;124m[Strategy]\u001b[39m\u001b[38;5;132;01m{\u001b[39;00m\u001b[38;5;28mself\u001b[39m\u001b[38;5;241m.\u001b[39mstrategy\u001b[38;5;241m.\u001b[39m\u001b[38;5;18m__class__\u001b[39m\u001b[38;5;241m.\u001b[39m\u001b[38;5;18m__name__\u001b[39m\u001b[38;5;132;01m}\u001b[39;00m\u001b[38;5;124m.\u001b[39m\u001b[38;5;132;01m{\u001b[39;00mhook_name\u001b[38;5;132;01m}\u001b[39;00m\u001b[38;5;124m\"\u001b[39m):\n\u001b[0;32m-> 1480\u001b[0m     output \u001b[38;5;241m=\u001b[39m \u001b[43mfn\u001b[49m\u001b[43m(\u001b[49m\u001b[38;5;241;43m*\u001b[39;49m\u001b[43margs\u001b[49m\u001b[43m,\u001b[49m\u001b[43m \u001b[49m\u001b[38;5;241;43m*\u001b[39;49m\u001b[38;5;241;43m*\u001b[39;49m\u001b[43mkwargs\u001b[49m\u001b[43m)\u001b[49m\n\u001b[1;32m   1482\u001b[0m \u001b[38;5;66;03m# restore current_fx when nested context\u001b[39;00m\n\u001b[1;32m   1483\u001b[0m pl_module\u001b[38;5;241m.\u001b[39m_current_fx_name \u001b[38;5;241m=\u001b[39m prev_fx_name\n",
      "File \u001b[0;32m/srv/conda/envs/notebook/lib/python3.10/site-packages/pytorch_lightning/strategies/strategy.py:399\u001b[0m, in \u001b[0;36mStrategy.test_step\u001b[0;34m(self, *args, **kwargs)\u001b[0m\n\u001b[1;32m    397\u001b[0m \u001b[38;5;28;01mwith\u001b[39;00m \u001b[38;5;28mself\u001b[39m\u001b[38;5;241m.\u001b[39mprecision_plugin\u001b[38;5;241m.\u001b[39mtest_step_context():\n\u001b[1;32m    398\u001b[0m     \u001b[38;5;28;01massert\u001b[39;00m \u001b[38;5;28misinstance\u001b[39m(\u001b[38;5;28mself\u001b[39m\u001b[38;5;241m.\u001b[39mmodel, TestStep)\n\u001b[0;32m--> 399\u001b[0m     \u001b[38;5;28;01mreturn\u001b[39;00m \u001b[38;5;28;43mself\u001b[39;49m\u001b[38;5;241;43m.\u001b[39;49m\u001b[43mmodel\u001b[49m\u001b[38;5;241;43m.\u001b[39;49m\u001b[43mtest_step\u001b[49m\u001b[43m(\u001b[49m\u001b[38;5;241;43m*\u001b[39;49m\u001b[43margs\u001b[49m\u001b[43m,\u001b[49m\u001b[43m \u001b[49m\u001b[38;5;241;43m*\u001b[39;49m\u001b[38;5;241;43m*\u001b[39;49m\u001b[43mkwargs\u001b[49m\u001b[43m)\u001b[49m\n",
      "File \u001b[0;32m~/oceanDataNotebooks/parametrization_NN/myParam.py:451\u001b[0m, in \u001b[0;36mGenericPyLiModule.test_step\u001b[0;34m(self, batch, batch_idx, dataloader_idx)\u001b[0m\n\u001b[1;32m    450\u001b[0m \u001b[38;5;28;01mdef\u001b[39;00m \u001b[38;5;21mtest_step\u001b[39m(\u001b[38;5;28mself\u001b[39m, batch, batch_idx, dataloader_idx) :\n\u001b[0;32m--> 451\u001b[0m     pred \u001b[38;5;241m=\u001b[39m \u001b[38;5;28;43mself\u001b[39;49m\u001b[38;5;241;43m.\u001b[39;49m\u001b[43mpredict_step\u001b[49m\u001b[43m(\u001b[49m\u001b[43mbatch\u001b[49m\u001b[43m,\u001b[49m\u001b[43m \u001b[49m\u001b[43mbatch_idx\u001b[49m\u001b[43m,\u001b[49m\u001b[43m \u001b[49m\u001b[43mdataloader_idx\u001b[49m\u001b[43m)\u001b[49m\n\u001b[1;32m    452\u001b[0m     mask \u001b[38;5;241m=\u001b[39m cut_bords(batch[\u001b[38;5;124m'\u001b[39m\u001b[38;5;124meroded_mask\u001b[39m\u001b[38;5;124m'\u001b[39m], \u001b[38;5;28mself\u001b[39m\u001b[38;5;241m.\u001b[39mtorch_model\u001b[38;5;241m.\u001b[39mcut_border_pix_output)\n\u001b[1;32m    454\u001b[0m     test_dict \u001b[38;5;241m=\u001b[39m \u001b[38;5;28mdict\u001b[39m({\u001b[38;5;124m'\u001b[39m\u001b[38;5;124mloss_val\u001b[39m\u001b[38;5;124m'\u001b[39m : \u001b[38;5;28mdict\u001b[39m(), \u001b[38;5;124m'\u001b[39m\u001b[38;5;124mloss_grad\u001b[39m\u001b[38;5;124m'\u001b[39m : \u001b[38;5;28mdict\u001b[39m(), \u001b[38;5;124m'\u001b[39m\u001b[38;5;124mcorr_coef\u001b[39m\u001b[38;5;124m'\u001b[39m : \u001b[38;5;28mdict\u001b[39m(), \u001b[38;5;124m'\u001b[39m\u001b[38;5;124mcorr_coef_grad\u001b[39m\u001b[38;5;124m'\u001b[39m : \u001b[38;5;28mdict\u001b[39m()})\n",
      "File \u001b[0;32m~/oceanDataNotebooks/parametrization_NN/myParam.py:437\u001b[0m, in \u001b[0;36mGenericPyLiModule.predict_step\u001b[0;34m(self, batch, batch_idx, dataloader_idx)\u001b[0m\n\u001b[1;32m    435\u001b[0m     \u001b[38;5;28;01mif\u001b[39;00m feature\u001b[38;5;241m.\u001b[39mstartswith(\u001b[38;5;124m'\u001b[39m\u001b[38;5;124mnormalized_\u001b[39m\u001b[38;5;124m'\u001b[39m) :\n\u001b[1;32m    436\u001b[0m         not_normalized_feature_name \u001b[38;5;241m=\u001b[39m feature\u001b[38;5;241m.\u001b[39mreplace(\u001b[38;5;124m\"\u001b[39m\u001b[38;5;124mnormalized_\u001b[39m\u001b[38;5;124m\"\u001b[39m, \u001b[38;5;124m\"\u001b[39m\u001b[38;5;124m\"\u001b[39m)\n\u001b[0;32m--> 437\u001b[0m         pred[not_normalized_feature_name] \u001b[38;5;241m=\u001b[39m \u001b[43mPyLiDataModule\u001b[49m\u001b[38;5;241;43m.\u001b[39;49m\u001b[43mtensor_restore_norm\u001b[49m(pred[feature], batch, not_normalized_feature)\n\u001b[1;32m    439\u001b[0m \u001b[38;5;66;03m# save the mask and masked outputs (use the eroded mask)\u001b[39;00m\n\u001b[1;32m    440\u001b[0m \u001b[38;5;28;01mfor\u001b[39;00m i, feature \u001b[38;5;129;01min\u001b[39;00m \u001b[38;5;28menumerate\u001b[39m(\u001b[38;5;28mself\u001b[39m\u001b[38;5;241m.\u001b[39mlist_of_features_to_predict) :\n",
      "\u001b[0;31mAttributeError\u001b[0m: type object 'PyLiDataModule' has no attribute 'tensor_restore_norm'"
     ]
    }
   ],
   "source": [
    "config = dict({'model_label' : 'FCNN',\n",
    "                'version' : 'patch_in3_out1_val_loss2D_nor_dim',\n",
    "                'torch_model' : 'myParam.FCNN',\n",
    "                'datamodule' : 'all_data_2D',\n",
    "                'torch_model_params' : dict({'data_geometry' : '2D',\\\n",
    "                                            'nb_of_input_features' : 1, \\\n",
    "                                            'nb_of_output_features' : 1, \\\n",
    "                                            'input_patch_size' : 3,\n",
    "                                            'output_patch_size' : 1, \n",
    "                                            'int_layer_width' : 50}),\n",
    "                'module_params' : dict({'input_features'  : ['normalized_sosstsst'],\n",
    "                                        'output_features'  : ['normalized_sosstsst_var'],\n",
    "                                        'output_units' : None,\n",
    "                                        'loss' : torch.nn.functional.mse_loss,\n",
    "                                        'optimizer' : torch.optim.Adam,\n",
    "                                        'learning_rate' : 1e-3,}),\n",
    "                'training_params' : dict({'max_epochs' : 100,\n",
    "                                          'limit_train_batches' : 1.0})\n",
    "               })\n",
    "run_experiment(config, project_name)"
   ]
  },
  {
   "cell_type": "code",
   "execution_count": null,
   "id": "f0dfd1e1-60e4-4cae-aa3d-d934920ebfee",
   "metadata": {},
   "outputs": [
    {
     "name": "stderr",
     "output_type": "stream",
     "text": [
      "/srv/conda/envs/notebook/lib/python3.10/site-packages/pytorch_lightning/loggers/wandb.py:396: UserWarning: There is a wandb run already in progress and newly created instances of `WandbLogger` will reuse this run. If this is not desired, call `wandb.finish()` before instantiating `WandbLogger`.\n",
      "  rank_zero_warn(\n",
      "GPU available: True (cuda), used: True\n",
      "TPU available: False, using: 0 TPU cores\n",
      "IPU available: False, using: 0 IPUs\n",
      "HPU available: False, using: 0 HPUs\n",
      "`Trainer(limit_train_batches=1.0)` was configured so 100% of the batches per epoch will be used..\n",
      "/srv/conda/envs/notebook/lib/python3.10/site-packages/pytorch_lightning/callbacks/model_checkpoint.py:604: UserWarning: Checkpoint directory ./tests/FCNN_patch_in3_out1_val_loss2D_nor_dim/checkpoints exists and is not empty.\n",
      "  rank_zero_warn(f\"Checkpoint directory {dirpath} exists and is not empty.\")\n",
      "LOCAL_RANK: 0 - CUDA_VISIBLE_DEVICES: [0]\n",
      "\n",
      "  | Name        | Type | Params\n",
      "-------------------------------------\n",
      "0 | torch_model | FCNN | 3.1 K \n",
      "-------------------------------------\n",
      "3.1 K     Trainable params\n",
      "0         Non-trainable params\n",
      "3.1 K     Total params\n",
      "0.012     Total estimated model params size (MB)\n"
     ]
    },
    {
     "data": {
      "application/vnd.jupyter.widget-view+json": {
       "model_id": "",
       "version_major": 2,
       "version_minor": 0
      },
      "text/plain": [
       "Sanity Checking: 0it [00:00, ?it/s]"
      ]
     },
     "metadata": {},
     "output_type": "display_data"
    },
    {
     "data": {
      "application/vnd.jupyter.widget-view+json": {
       "model_id": "8af580c0590149eb9330e58aa22161db",
       "version_major": 2,
       "version_minor": 0
      },
      "text/plain": [
       "Training: 0it [00:00, ?it/s]"
      ]
     },
     "metadata": {},
     "output_type": "display_data"
    },
    {
     "data": {
      "application/vnd.jupyter.widget-view+json": {
       "model_id": "",
       "version_major": 2,
       "version_minor": 0
      },
      "text/plain": [
       "Validation: 0it [00:00, ?it/s]"
      ]
     },
     "metadata": {},
     "output_type": "display_data"
    },
    {
     "data": {
      "application/vnd.jupyter.widget-view+json": {
       "model_id": "",
       "version_major": 2,
       "version_minor": 0
      },
      "text/plain": [
       "Validation: 0it [00:00, ?it/s]"
      ]
     },
     "metadata": {},
     "output_type": "display_data"
    },
    {
     "data": {
      "application/vnd.jupyter.widget-view+json": {
       "model_id": "",
       "version_major": 2,
       "version_minor": 0
      },
      "text/plain": [
       "Validation: 0it [00:00, ?it/s]"
      ]
     },
     "metadata": {},
     "output_type": "display_data"
    },
    {
     "data": {
      "application/vnd.jupyter.widget-view+json": {
       "model_id": "",
       "version_major": 2,
       "version_minor": 0
      },
      "text/plain": [
       "Validation: 0it [00:00, ?it/s]"
      ]
     },
     "metadata": {},
     "output_type": "display_data"
    },
    {
     "data": {
      "application/vnd.jupyter.widget-view+json": {
       "model_id": "",
       "version_major": 2,
       "version_minor": 0
      },
      "text/plain": [
       "Validation: 0it [00:00, ?it/s]"
      ]
     },
     "metadata": {},
     "output_type": "display_data"
    },
    {
     "data": {
      "application/vnd.jupyter.widget-view+json": {
       "model_id": "",
       "version_major": 2,
       "version_minor": 0
      },
      "text/plain": [
       "Validation: 0it [00:00, ?it/s]"
      ]
     },
     "metadata": {},
     "output_type": "display_data"
    },
    {
     "data": {
      "application/vnd.jupyter.widget-view+json": {
       "model_id": "",
       "version_major": 2,
       "version_minor": 0
      },
      "text/plain": [
       "Validation: 0it [00:00, ?it/s]"
      ]
     },
     "metadata": {},
     "output_type": "display_data"
    },
    {
     "data": {
      "application/vnd.jupyter.widget-view+json": {
       "model_id": "",
       "version_major": 2,
       "version_minor": 0
      },
      "text/plain": [
       "Validation: 0it [00:00, ?it/s]"
      ]
     },
     "metadata": {},
     "output_type": "display_data"
    },
    {
     "data": {
      "application/vnd.jupyter.widget-view+json": {
       "model_id": "",
       "version_major": 2,
       "version_minor": 0
      },
      "text/plain": [
       "Validation: 0it [00:00, ?it/s]"
      ]
     },
     "metadata": {},
     "output_type": "display_data"
    },
    {
     "data": {
      "application/vnd.jupyter.widget-view+json": {
       "model_id": "",
       "version_major": 2,
       "version_minor": 0
      },
      "text/plain": [
       "Validation: 0it [00:00, ?it/s]"
      ]
     },
     "metadata": {},
     "output_type": "display_data"
    },
    {
     "data": {
      "application/vnd.jupyter.widget-view+json": {
       "model_id": "",
       "version_major": 2,
       "version_minor": 0
      },
      "text/plain": [
       "Validation: 0it [00:00, ?it/s]"
      ]
     },
     "metadata": {},
     "output_type": "display_data"
    },
    {
     "data": {
      "application/vnd.jupyter.widget-view+json": {
       "model_id": "",
       "version_major": 2,
       "version_minor": 0
      },
      "text/plain": [
       "Validation: 0it [00:00, ?it/s]"
      ]
     },
     "metadata": {},
     "output_type": "display_data"
    },
    {
     "data": {
      "application/vnd.jupyter.widget-view+json": {
       "model_id": "",
       "version_major": 2,
       "version_minor": 0
      },
      "text/plain": [
       "Validation: 0it [00:00, ?it/s]"
      ]
     },
     "metadata": {},
     "output_type": "display_data"
    },
    {
     "data": {
      "application/vnd.jupyter.widget-view+json": {
       "model_id": "",
       "version_major": 2,
       "version_minor": 0
      },
      "text/plain": [
       "Validation: 0it [00:00, ?it/s]"
      ]
     },
     "metadata": {},
     "output_type": "display_data"
    },
    {
     "data": {
      "application/vnd.jupyter.widget-view+json": {
       "model_id": "",
       "version_major": 2,
       "version_minor": 0
      },
      "text/plain": [
       "Validation: 0it [00:00, ?it/s]"
      ]
     },
     "metadata": {},
     "output_type": "display_data"
    },
    {
     "data": {
      "application/vnd.jupyter.widget-view+json": {
       "model_id": "",
       "version_major": 2,
       "version_minor": 0
      },
      "text/plain": [
       "Validation: 0it [00:00, ?it/s]"
      ]
     },
     "metadata": {},
     "output_type": "display_data"
    },
    {
     "data": {
      "application/vnd.jupyter.widget-view+json": {
       "model_id": "",
       "version_major": 2,
       "version_minor": 0
      },
      "text/plain": [
       "Validation: 0it [00:00, ?it/s]"
      ]
     },
     "metadata": {},
     "output_type": "display_data"
    },
    {
     "data": {
      "application/vnd.jupyter.widget-view+json": {
       "model_id": "",
       "version_major": 2,
       "version_minor": 0
      },
      "text/plain": [
       "Validation: 0it [00:00, ?it/s]"
      ]
     },
     "metadata": {},
     "output_type": "display_data"
    },
    {
     "data": {
      "application/vnd.jupyter.widget-view+json": {
       "model_id": "",
       "version_major": 2,
       "version_minor": 0
      },
      "text/plain": [
       "Validation: 0it [00:00, ?it/s]"
      ]
     },
     "metadata": {},
     "output_type": "display_data"
    },
    {
     "data": {
      "application/vnd.jupyter.widget-view+json": {
       "model_id": "",
       "version_major": 2,
       "version_minor": 0
      },
      "text/plain": [
       "Validation: 0it [00:00, ?it/s]"
      ]
     },
     "metadata": {},
     "output_type": "display_data"
    },
    {
     "data": {
      "application/vnd.jupyter.widget-view+json": {
       "model_id": "",
       "version_major": 2,
       "version_minor": 0
      },
      "text/plain": [
       "Validation: 0it [00:00, ?it/s]"
      ]
     },
     "metadata": {},
     "output_type": "display_data"
    },
    {
     "data": {
      "application/vnd.jupyter.widget-view+json": {
       "model_id": "",
       "version_major": 2,
       "version_minor": 0
      },
      "text/plain": [
       "Validation: 0it [00:00, ?it/s]"
      ]
     },
     "metadata": {},
     "output_type": "display_data"
    },
    {
     "data": {
      "application/vnd.jupyter.widget-view+json": {
       "model_id": "",
       "version_major": 2,
       "version_minor": 0
      },
      "text/plain": [
       "Validation: 0it [00:00, ?it/s]"
      ]
     },
     "metadata": {},
     "output_type": "display_data"
    },
    {
     "data": {
      "application/vnd.jupyter.widget-view+json": {
       "model_id": "",
       "version_major": 2,
       "version_minor": 0
      },
      "text/plain": [
       "Validation: 0it [00:00, ?it/s]"
      ]
     },
     "metadata": {},
     "output_type": "display_data"
    },
    {
     "data": {
      "application/vnd.jupyter.widget-view+json": {
       "model_id": "",
       "version_major": 2,
       "version_minor": 0
      },
      "text/plain": [
       "Validation: 0it [00:00, ?it/s]"
      ]
     },
     "metadata": {},
     "output_type": "display_data"
    },
    {
     "data": {
      "application/vnd.jupyter.widget-view+json": {
       "model_id": "",
       "version_major": 2,
       "version_minor": 0
      },
      "text/plain": [
       "Validation: 0it [00:00, ?it/s]"
      ]
     },
     "metadata": {},
     "output_type": "display_data"
    },
    {
     "data": {
      "application/vnd.jupyter.widget-view+json": {
       "model_id": "",
       "version_major": 2,
       "version_minor": 0
      },
      "text/plain": [
       "Validation: 0it [00:00, ?it/s]"
      ]
     },
     "metadata": {},
     "output_type": "display_data"
    },
    {
     "data": {
      "application/vnd.jupyter.widget-view+json": {
       "model_id": "",
       "version_major": 2,
       "version_minor": 0
      },
      "text/plain": [
       "Validation: 0it [00:00, ?it/s]"
      ]
     },
     "metadata": {},
     "output_type": "display_data"
    },
    {
     "data": {
      "application/vnd.jupyter.widget-view+json": {
       "model_id": "",
       "version_major": 2,
       "version_minor": 0
      },
      "text/plain": [
       "Validation: 0it [00:00, ?it/s]"
      ]
     },
     "metadata": {},
     "output_type": "display_data"
    },
    {
     "data": {
      "application/vnd.jupyter.widget-view+json": {
       "model_id": "",
       "version_major": 2,
       "version_minor": 0
      },
      "text/plain": [
       "Validation: 0it [00:00, ?it/s]"
      ]
     },
     "metadata": {},
     "output_type": "display_data"
    },
    {
     "data": {
      "application/vnd.jupyter.widget-view+json": {
       "model_id": "",
       "version_major": 2,
       "version_minor": 0
      },
      "text/plain": [
       "Validation: 0it [00:00, ?it/s]"
      ]
     },
     "metadata": {},
     "output_type": "display_data"
    },
    {
     "data": {
      "application/vnd.jupyter.widget-view+json": {
       "model_id": "",
       "version_major": 2,
       "version_minor": 0
      },
      "text/plain": [
       "Validation: 0it [00:00, ?it/s]"
      ]
     },
     "metadata": {},
     "output_type": "display_data"
    },
    {
     "data": {
      "application/vnd.jupyter.widget-view+json": {
       "model_id": "",
       "version_major": 2,
       "version_minor": 0
      },
      "text/plain": [
       "Validation: 0it [00:00, ?it/s]"
      ]
     },
     "metadata": {},
     "output_type": "display_data"
    }
   ],
   "source": [
    "config = dict({'model_label' : 'FCNN',\n",
    "                'version' : 'patch_in3_out1_val_loss2D_nn_dim',\n",
    "                'torch_model' : 'myParam.FCNN',\n",
    "                'datamodule' : 'all_data_2D',\n",
    "                'torch_model_params' : dict({'data_geometry' : '2D',\\\n",
    "                                            'nb_of_input_features' : 1, \\\n",
    "                                            'nb_of_output_features' : 1, \\\n",
    "                                            'input_patch_size' : 3,\n",
    "                                            'output_patch_size' : 1, \n",
    "                                            'int_layer_width' : 50}),\n",
    "                'module_params' : dict({'input_features'  : ['sosstsst'],\n",
    "                                        'output_features'  : ['sosstsst_var'],\n",
    "                                        'output_units' : None,\n",
    "                                        'loss' : torch.nn.functional.mse_loss,\n",
    "                                        'optimizer' : torch.optim.Adam,\n",
    "                                        'learning_rate' : 1e-3,}),\n",
    "                'training_params' : dict({'max_epochs' : 100,\n",
    "                                          'limit_train_batches' : 1.0})\n",
    "               })\n",
    "run_experiment(config, project_name)"
   ]
  },
  {
   "cell_type": "code",
   "execution_count": null,
   "id": "e21ca773-d692-4eba-816c-9016d20e1d85",
   "metadata": {},
   "outputs": [],
   "source": [
    "config = dict({'model_label' : 'FCNN',\n",
    "                'version' : 'patch_in3_out1_val_loss2D_nn_filt',\n",
    "                'torch_model' : 'myParam.FCNN',\n",
    "                'datamodule' : 'all_data_2D',\n",
    "                'torch_model_params' : dict({'data_geometry' : '2D',\\\n",
    "                                            'nb_of_input_features' : 1, \\\n",
    "                                            'nb_of_output_features' : 1, \\\n",
    "                                            'input_patch_size' : 3,\n",
    "                                            'output_patch_size' : 1, \n",
    "                                            'int_layer_width' : 50}),\n",
    "                'module_params' : dict({'input_features'  : ['sosstsst'],\n",
    "                                        'output_features'  : ['sosstsst_var'],\n",
    "                                        'output_units' : ['filtered_diff_sosstsst_sqr'],\n",
    "                                        'loss' : torch.nn.functional.mse_loss,\n",
    "                                        'optimizer' : torch.optim.Adam,\n",
    "                                        'learning_rate' : 1e-3,}),\n",
    "                'training_params' : dict({'max_epochs' : 100,\n",
    "                                          'limit_train_batches' : 1.0})\n",
    "               })\n",
    "run_experiment(config, project_name)"
   ]
  },
  {
   "cell_type": "code",
   "execution_count": null,
   "id": "211e853c-e2da-4e1e-8f9c-771717fa3f2f",
   "metadata": {},
   "outputs": [],
   "source": [
    "config = dict({'model_label' : 'FCNN',\n",
    "                'version' : 'patch_in3_out1_val_hubloss2D_norm_filt',\n",
    "                'torch_model' : 'myParam.FCNN',\n",
    "                'datamodule' : 'all_data_2D',\n",
    "                'torch_model_params' : dict({'data_geometry' : '2D',\\\n",
    "                                            'nb_of_input_features' : 1, \\\n",
    "                                            'nb_of_output_features' : 1, \\\n",
    "                                            'input_patch_size' : 3,\n",
    "                                            'output_patch_size' : 1, \n",
    "                                            'int_layer_width' : 50}),\n",
    "                'module_params' : dict({'input_features'  : ['normalized_sosstsst'],\n",
    "                                        'output_features'  : ['sosstsst_var'],\n",
    "                                        'output_units' : ['filtered_diff_sosstsst_sqr'],\n",
    "                                        'loss' : torch.nn.functional.huber_loss,\n",
    "                                        'optimizer' : torch.optim.Adam,\n",
    "                                        'learning_rate' : 1e-3,}),\n",
    "                'training_params' : dict({'max_epochs' : 100,\n",
    "                                          'limit_train_batches' : 1.0})\n",
    "               })\n",
    "run_experiment(config, project_name)"
   ]
  },
  {
   "cell_type": "code",
   "execution_count": null,
   "id": "5727d3de-2ec2-4d73-8591-dfe23c3784b9",
   "metadata": {},
   "outputs": [],
   "source": [
    "config = dict({'model_label' : 'FCNN',\n",
    "                'version' : 'patch_in3_out1_val_hubertloss2D_norm_nf',\n",
    "                'torch_model' : 'myParam.FCNN',\n",
    "                'datamodule' : 'all_data_2D',\n",
    "                'torch_model_params' : dict({'data_geometry' : '2D',\\\n",
    "                                            'nb_of_input_features' : 1, \\\n",
    "                                            'nb_of_output_features' : 1, \\\n",
    "                                            'input_patch_size' : 3,\n",
    "                                            'output_patch_size' : 1, \n",
    "                                            'int_layer_width' : 50}),\n",
    "                'module_params' : dict({'input_features'  : ['normalized_sosstsst'],\n",
    "                                        'output_features'  : ['sosstsst_var'],\n",
    "                                        'output_units' : ['diff_sosstsst_sqr'],\n",
    "                                        'loss' : torch.nn.functional.huber_loss,\n",
    "                                        'optimizer' : torch.optim.Adam,\n",
    "                                        'learning_rate' : 1e-3,}),\n",
    "                'training_params' : dict({'max_epochs' : 100,\n",
    "                                          'limit_train_batches' : 1.0})\n",
    "               })\n",
    "run_experiment(config, project_name)"
   ]
  },
  {
   "cell_type": "code",
   "execution_count": null,
   "id": "07599a98-c9b1-4562-9776-468097ebd0af",
   "metadata": {},
   "outputs": [],
   "source": [
    "config = dict({'model_label' : 'FCNN',\n",
    "                'version' : 'patch_in3_out1_val_loss3D_nn_dim',\n",
    "                'torch_model' : 'myParam.FCNN',\n",
    "                'datamodule' : 'all_data_3D',\n",
    "                'torch_model_params' : dict({'data_geometry' : '3D',\\\n",
    "                                            'nb_of_input_features' : 1, \\\n",
    "                                            'nb_of_output_features' : 1, \\\n",
    "                                            'input_patch_size' : 3,\n",
    "                                            'output_patch_size' : 1, \n",
    "                                            'int_layer_width' : 50}),\n",
    "                'module_params' : dict({'input_features'  : ['votemper'],\n",
    "                                        'output_features'  : ['votemper_var'],\n",
    "                                        'output_units' : None,\n",
    "                                        'loss' : torch.nn.functional.mse_loss,\n",
    "                                        'optimizer' : torch.optim.Adam,\n",
    "                                        'learning_rate' : 1e-3,}),\n",
    "                'training_params' : dict({'max_epochs' : 100,\n",
    "                                          'limit_train_batches' : 1.0})\n",
    "               })\n",
    "run_experiment(config, project_name)"
   ]
  },
  {
   "cell_type": "code",
   "execution_count": null,
   "id": "0ab2a780-7b86-4093-afab-7a30eede71d5",
   "metadata": {},
   "outputs": [],
   "source": [
    "config = dict({'model_label' : 'FCNN',\n",
    "                'version' : 'patch_in3_out1_val_loss3D_nn_fil',\n",
    "                'torch_model' : 'myParam.FCNN',\n",
    "                'datamodule' : 'all_data_3D',\n",
    "                'torch_model_params' : dict({'data_geometry' : '3D',\\\n",
    "                                            'nb_of_input_features' : 1, \\\n",
    "                                            'nb_of_output_features' : 1, \\\n",
    "                                            'input_patch_size' : 3,\n",
    "                                            'output_patch_size' : 1, \n",
    "                                            'int_layer_width' : 50}),\n",
    "                'module_params' : dict({'input_features'  : ['votemper'],\n",
    "                                        'output_features'  : ['votemper_var'],\n",
    "                                        'output_units' : ['filtered_diff_votemper_sqr'],\n",
    "                                        'loss' : torch.nn.functional.mse_loss,\n",
    "                                        'optimizer' : torch.optim.Adam,\n",
    "                                        'learning_rate' : 1e-3,}),\n",
    "                'training_params' : dict({'max_epochs' : 100,\n",
    "                                          'limit_train_batches' : 1.0})\n",
    "               })\n",
    "run_experiment(config, project_name)"
   ]
  },
  {
   "cell_type": "code",
   "execution_count": null,
   "id": "759de71f-4324-437f-b799-7b84ad451e7d",
   "metadata": {},
   "outputs": [],
   "source": [
    "config = dict({'model_label' : 'FCNN',\n",
    "                'version' : 'patch_in3_out1_val_loss3D_norm_fil',\n",
    "                'torch_model' : 'myParam.FCNN',\n",
    "                'datamodule' : 'all_data_3D',\n",
    "                'torch_model_params' : dict({'data_geometry' : '3D',\\\n",
    "                                            'nb_of_input_features' : 1, \\\n",
    "                                            'nb_of_output_features' : 1, \\\n",
    "                                            'input_patch_size' : 3,\n",
    "                                            'output_patch_size' : 1, \n",
    "                                            'int_layer_width' : 50}),\n",
    "                'module_params' : dict({'input_features'  : ['normalized_votemper'],\n",
    "                                        'output_features'  : ['votemper_var'],\n",
    "                                        'output_units' : ['filtered_diff_votemper_sqr'],\n",
    "                                        'loss' : torch.nn.functional.mse_loss,\n",
    "                                        'optimizer' : torch.optim.Adam,\n",
    "                                        'learning_rate' : 1e-3,}),\n",
    "                'training_params' : dict({'max_epochs' : 100,\n",
    "                                          'limit_train_batches' : 1.0})\n",
    "               })\n",
    "run_experiment(config, project_name)"
   ]
  },
  {
   "cell_type": "code",
   "execution_count": null,
   "id": "ee0d2b79-8c9b-4973-9071-cd50782955b8",
   "metadata": {},
   "outputs": [],
   "source": [
    "config = dict({'model_label' : 'FCNN',\n",
    "                'version' : 'patch_in3_out1_val_loss3D_norm_nf',\n",
    "                'torch_model' : 'myParam.FCNN',\n",
    "                'datamodule' : 'all_data_3D',\n",
    "                'torch_model_params' : dict({'data_geometry' : '3D',\\\n",
    "                                            'nb_of_input_features' : 1, \\\n",
    "                                            'nb_of_output_features' : 1, \\\n",
    "                                            'input_patch_size' : 3,\n",
    "                                            'output_patch_size' : 1, \n",
    "                                            'int_layer_width' : 50}),\n",
    "                'module_params' : dict({'input_features'  : ['normalized_votemper'],\n",
    "                                        'output_features'  : ['votemper_var'],\n",
    "                                        'output_units' : ['diff_votemper_sqr'],\n",
    "                                        'loss' : torch.nn.functional.mse_loss,\n",
    "                                        'optimizer' : torch.optim.Adam,\n",
    "                                        'learning_rate' : 1e-3,}),\n",
    "                'training_params' : dict({'max_epochs' : 100,\n",
    "                                          'limit_train_batches' : 1.0})\n",
    "               })\n",
    "run_experiment(config, project_name)"
   ]
  },
  {
   "cell_type": "code",
   "execution_count": null,
   "id": "c043df9f-1597-4aa5-8b49-da71ab9df612",
   "metadata": {},
   "outputs": [],
   "source": [
    "config = dict({'model_label' : 'FCNN',\n",
    "                'version' : 'patch_in3_out1_val_loss3D_norm_dim',\n",
    "                'torch_model' : 'myParam.FCNN',\n",
    "                'datamodule' : 'all_data_3D',\n",
    "                'torch_model_params' : dict({'data_geometry' : '3D',\\\n",
    "                                            'nb_of_input_features' : 1, \\\n",
    "                                            'nb_of_output_features' : 1, \\\n",
    "                                            'input_patch_size' : 3,\n",
    "                                            'output_patch_size' : 1, \n",
    "                                            'int_layer_width' : 50}),\n",
    "                'module_params' : dict({'input_features'  : ['normalized_votemper'],\n",
    "                                        'output_features'  : ['votemper_var'],\n",
    "                                        'output_units' : None,\n",
    "                                        'loss' : torch.nn.functional.mse_loss,\n",
    "                                        'optimizer' : torch.optim.Adam,\n",
    "                                        'learning_rate' : 1e-3,}),\n",
    "                'training_params' : dict({'max_epochs' : 100,\n",
    "                                          'limit_train_batches' : 1.0})\n",
    "               })\n",
    "run_experiment(config, project_name)"
   ]
  },
  {
   "cell_type": "code",
   "execution_count": null,
   "id": "e8157010-40d8-4765-a6d0-efe7ec0ab05f",
   "metadata": {},
   "outputs": [],
   "source": [
    "config = dict({'model_label' : 'FCNN',\n",
    "                'version' : 'patch_in3_out1_pres_loss_3D_nn_nf',\n",
    "                'torch_model' : 'myParam.FCNN',\n",
    "                'datamodule' : 'all_data_3D',\n",
    "                'torch_model_params' : dict({'data_geometry' : '3D',\\\n",
    "                                            'nb_of_input_features' : 1, \\\n",
    "                                            'nb_of_output_features' : 1, \\\n",
    "                                            'input_patch_size' : 3,\n",
    "                                            'output_patch_size' : 1, \n",
    "                                            'int_layer_width' : 50}),\n",
    "                'module_params' : dict({'input_features'  : ['votemper'],\n",
    "                                        'output_features'  : ['votemper_var'],\n",
    "                                        'output_units' : ['diff_votemper_sqr'],\n",
    "                                        'loss' : 'pressure_based_MSEloss',\n",
    "                                        'optimizer' : torch.optim.Adam,\n",
    "                                        'learning_rate' : 1e-3,}),\n",
    "                'training_params' : dict({'max_epochs' : 100,\n",
    "                                          'limit_train_batches' : 1.0})\n",
    "               })\n",
    "run_experiment(config, project_name)"
   ]
  },
  {
   "cell_type": "code",
   "execution_count": null,
   "id": "418c92ad-5f64-4a3e-9986-248b583dce89",
   "metadata": {},
   "outputs": [],
   "source": [
    "config = dict({'model_label' : 'FCNN',\n",
    "                'version' : 'patch_in3_out1_pres_loss_3D_norm_nf',\n",
    "                'torch_model' : 'myParam.FCNN',\n",
    "                'datamodule' : 'all_data_3D',\n",
    "                'torch_model_params' : dict({'data_geometry' : '3D',\\\n",
    "                                            'nb_of_input_features' : 1, \\\n",
    "                                            'nb_of_output_features' : 1, \\\n",
    "                                            'input_patch_size' : 3,\n",
    "                                            'output_patch_size' : 1, \n",
    "                                            'int_layer_width' : 50}),\n",
    "                'module_params' : dict({'input_features'  : ['normalized_votemper'],\n",
    "                                        'output_features'  : ['votemper_var'],\n",
    "                                        'output_units' : ['diff_votemper_sqr'],\n",
    "                                        'loss' : 'pressure_based_MSEloss',\n",
    "                                        'optimizer' : torch.optim.Adam,\n",
    "                                        'learning_rate' : 1e-3,}),\n",
    "                'training_params' : dict({'max_epochs' : 100,\n",
    "                                          'limit_train_batches' : 1.0})\n",
    "               })\n",
    "run_experiment(config, project_name)"
   ]
  },
  {
   "cell_type": "code",
   "execution_count": null,
   "id": "5fe9d110-69d5-4ab8-9813-ed14b105501a",
   "metadata": {},
   "outputs": [],
   "source": [
    "config = dict({'model_label' : 'FCNN',\n",
    "                'version' : 'patch_in3_out1_pres_loss_3D_norm_fil',\n",
    "                'torch_model' : 'myParam.FCNN',\n",
    "                'datamodule' : 'all_data_3D',\n",
    "                'torch_model_params' : dict({'data_geometry' : '3D',\\\n",
    "                                            'nb_of_input_features' : 1, \\\n",
    "                                            'nb_of_output_features' : 1, \\\n",
    "                                            'input_patch_size' : 3,\n",
    "                                            'output_patch_size' : 1, \n",
    "                                            'int_layer_width' : 50}),\n",
    "                'module_params' : dict({'input_features'  : ['normalized_votemper'],\n",
    "                                        'output_features'  : ['votemper_var'],\n",
    "                                        'output_units' : ['filtered_diff_votemper_sqr'],\n",
    "                                        'loss' : 'pressure_based_MSEloss',\n",
    "                                        'optimizer' : torch.optim.Adam,\n",
    "                                        'learning_rate' : 1e-3,}),\n",
    "                'training_params' : dict({'max_epochs' : 100,\n",
    "                                          'limit_train_batches' : 1.0})\n",
    "               })\n",
    "run_experiment(config, project_name)"
   ]
  },
  {
   "cell_type": "code",
   "execution_count": null,
   "id": "3651adf3-5605-4b9c-97af-4f5907dab90a",
   "metadata": {},
   "outputs": [],
   "source": [
    "config = dict({'model_label' : 'FCNN',\n",
    "                'version' : 'patch_in3_out1_pres_loss_3D_nn_fil',\n",
    "                'torch_model' : 'myParam.FCNN',\n",
    "                'datamodule' : 'all_data_3D',\n",
    "                'torch_model_params' : dict({'data_geometry' : '3D',\\\n",
    "                                            'nb_of_input_features' : 1, \\\n",
    "                                            'nb_of_output_features' : 1, \\\n",
    "                                            'input_patch_size' : 3,\n",
    "                                            'output_patch_size' : 1, \n",
    "                                            'int_layer_width' : 50}),\n",
    "                'module_params' : dict({'input_features'  : ['votemper'],\n",
    "                                        'output_features'  : ['votemper_var'],\n",
    "                                        'output_units' : ['filtered_diff_votemper_sqr'],\n",
    "                                        'loss' : 'pressure_based_MSEloss',\n",
    "                                        'optimizer' : torch.optim.Adam,\n",
    "                                        'learning_rate' : 1e-3,}),\n",
    "                'training_params' : dict({'max_epochs' : 100,\n",
    "                                          'limit_train_batches' : 1.0})\n",
    "               })\n",
    "run_experiment(config, project_name)"
   ]
  },
  {
   "cell_type": "code",
   "execution_count": null,
   "id": "6f38ae8b-7380-4058-b352-0d12387da5d5",
   "metadata": {},
   "outputs": [],
   "source": [
    "config = dict({'model_label' : 'FCNN',\n",
    "                'version' : 'patch_in3_out1_pres_loss_3D_nn_dim',\n",
    "                'torch_model' : 'myParam.FCNN',\n",
    "                'datamodule' : 'all_data_3D',\n",
    "                'torch_model_params' : dict({'data_geometry' : '3D',\\\n",
    "                                            'nb_of_input_features' : 1, \\\n",
    "                                            'nb_of_output_features' : 1, \\\n",
    "                                            'input_patch_size' : 3,\n",
    "                                            'output_patch_size' : 1, \n",
    "                                            'int_layer_width' : 50}),\n",
    "                'module_params' : dict({'input_features'  : ['votemper'],\n",
    "                                        'output_features'  : ['votemper_var'],\n",
    "                                        'output_units' : None,\n",
    "                                        'loss' : 'pressure_based_MSEloss',\n",
    "                                        'optimizer' : torch.optim.Adam,\n",
    "                                        'learning_rate' : 1e-3,}),\n",
    "                'training_params' : dict({'max_epochs' : 100,\n",
    "                                          'limit_train_batches' : 1.0})\n",
    "               })\n",
    "run_experiment(config, project_name)"
   ]
  },
  {
   "cell_type": "code",
   "execution_count": null,
   "id": "2a063c3f-4bdd-44fe-91af-a601ec9ef497",
   "metadata": {},
   "outputs": [],
   "source": [
    "config = dict({'model_label' : 'FCNN',\n",
    "                'version' : 'patch_in3_out1_pres_loss_3D_norm_dim',\n",
    "                'torch_model' : 'myParam.FCNN',\n",
    "                'datamodule' : 'all_data_3D',\n",
    "                'torch_model_params' : dict({'data_geometry' : '3D',\\\n",
    "                                            'nb_of_input_features' : 1, \\\n",
    "                                            'nb_of_output_features' : 1, \\\n",
    "                                            'input_patch_size' : 3,\n",
    "                                            'output_patch_size' : 1, \n",
    "                                            'int_layer_width' : 50}),\n",
    "                'module_params' : dict({'input_features'  : ['normalized_votemper'],\n",
    "                                        'output_features'  : ['votemper_var'],\n",
    "                                        'output_units' : None,\n",
    "                                        'loss' : 'pressure_based_MSEloss',\n",
    "                                        'optimizer' : torch.optim.Adam,\n",
    "                                        'learning_rate' : 1e-3,}),\n",
    "                'training_params' : dict({'max_epochs' : 100,\n",
    "                                          'limit_train_batches' : 1.0})\n",
    "               })\n",
    "run_experiment(config, project_name)"
   ]
  },
  {
   "cell_type": "markdown",
   "id": "5a6f5200-890d-4397-8c08-697611c54871",
   "metadata": {},
   "source": [
    "## CNN"
   ]
  },
  {
   "cell_type": "code",
   "execution_count": null,
   "id": "a4281c72-30ef-4caa-9090-fd5b5c1b19e0",
   "metadata": {},
   "outputs": [],
   "source": [
    "config = dict({'model_label' : 'CNN',\n",
    "                'version' : 'kernel3_val_3D_nn_nf',\n",
    "                'torch_model' : 'myParam.CNN',\n",
    "                'datamodule' : 'all_data_3D',\n",
    "                'torch_model_params' : dict({'data_geometry' : '3D',\\\n",
    "                                            'nb_of_input_features' : 1, \\\n",
    "                                            'nb_of_output_features' : 1, \\\n",
    "                                             'kernel_size' : 3, \\\n",
    "                                            'int_layer_width' : 64}),\n",
    "                'module_params' : dict({'input_features'  : ['votemper'],\n",
    "                                        'output_features'  : ['votemper_var'],\n",
    "                                        'output_units' : ['diff_votemper_sqr'],\n",
    "                                        'loss' : torch.nn.functional.mse_loss,\n",
    "                                        'optimizer' : torch.optim.Adam,\n",
    "                                        'learning_rate' : 1e-3,}),\n",
    "                'training_params' : dict({'max_epochs' : 100,\n",
    "                                          'limit_train_batches' : 1.0})\n",
    "               })"
   ]
  },
  {
   "cell_type": "code",
   "execution_count": null,
   "id": "d8d1bb4d-1fe0-40c5-b7af-b40f93121ea1",
   "metadata": {},
   "outputs": [],
   "source": [
    "config = dict({'model_label' : 'CNN',\n",
    "                'version' : 'kernel3_hubval_3D_nn_nf',\n",
    "                'torch_model' : 'myParam.CNN',\n",
    "                'datamodule' : 'all_data_3D',\n",
    "                'torch_model_params' : dict({'data_geometry' : '3D',\\\n",
    "                                            'nb_of_input_features' : 1, \\\n",
    "                                            'nb_of_output_features' : 1, \\\n",
    "                                             'kernel_size' : 3, \\\n",
    "                                            'int_layer_width' : 64}),\n",
    "                'module_params' : dict({'input_features'  : ['votemper'],\n",
    "                                        'output_features'  : ['votemper_var'],\n",
    "                                        'output_units' : ['diff_votemper_sqr'],\n",
    "                                        'loss' : torch.nn.functional.huber_loss,\n",
    "                                        'optimizer' : torch.optim.Adam,\n",
    "                                        'learning_rate' : 1e-3,}),\n",
    "                'training_params' : dict({'max_epochs' : 100,\n",
    "                                          'limit_train_batches' : 1.0})\n",
    "               })"
   ]
  },
  {
   "cell_type": "code",
   "execution_count": null,
   "id": "9e908cb1-29a6-4993-97f4-abea2e9bf585",
   "metadata": {},
   "outputs": [],
   "source": [
    "config = dict({'model_label' : 'CNN',\n",
    "                'version' : 'kernel3_val_3D_norm_nf',\n",
    "                'torch_model' : 'myParam.CNN',\n",
    "                'datamodule' : 'all_data_3D',\n",
    "                'torch_model_params' : dict({'data_geometry' : '3D',\\\n",
    "                                            'nb_of_input_features' : 1, \\\n",
    "                                            'nb_of_output_features' : 1, \\\n",
    "                                             'kernel_size' : 3, \\\n",
    "                                            'int_layer_width' : 64}),\n",
    "                'module_params' : dict({'input_features'  : ['normalized_votemper'],\n",
    "                                        'output_features'  : ['votemper_var'],\n",
    "                                        'output_units' : ['diff_votemper_sqr'],\n",
    "                                        'loss' : torch.nn.functional.mse_loss,\n",
    "                                        'optimizer' : torch.optim.Adam,\n",
    "                                        'learning_rate' : 1e-3,}),\n",
    "                'training_params' : dict({'max_epochs' : 100,\n",
    "                                          'limit_train_batches' : 1.0})\n",
    "               })"
   ]
  },
  {
   "cell_type": "code",
   "execution_count": null,
   "id": "ac8676e4-a831-46b6-b2c1-680888158062",
   "metadata": {},
   "outputs": [],
   "source": [
    "config = dict({'model_label' : 'CNN',\n",
    "                'version' : 'kernel3_hubval_3D_norm_nf',\n",
    "                'torch_model' : 'myParam.CNN',\n",
    "                'datamodule' : 'all_data_3D',\n",
    "                'torch_model_params' : dict({'data_geometry' : '3D',\\\n",
    "                                            'nb_of_input_features' : 1, \\\n",
    "                                            'nb_of_output_features' : 1, \\\n",
    "                                             'kernel_size' : 3, \\\n",
    "                                            'int_layer_width' : 64}),\n",
    "                'module_params' : dict({'input_features'  : ['normalized_votemper'],\n",
    "                                        'output_features'  : ['votemper_var'],\n",
    "                                        'output_units' : ['diff_votemper_sqr'],\n",
    "                                        'loss' : torch.nn.functional.huber_loss,\n",
    "                                        'optimizer' : torch.optim.Adam,\n",
    "                                        'learning_rate' : 1e-3,}),\n",
    "                'training_params' : dict({'max_epochs' : 100,\n",
    "                                          'limit_train_batches' : 1.0})\n",
    "               })"
   ]
  },
  {
   "cell_type": "code",
   "execution_count": null,
   "id": "6216b048-68b7-4402-99a6-e103af9759a4",
   "metadata": {},
   "outputs": [],
   "source": []
  }
 ],
 "metadata": {
  "kernelspec": {
   "display_name": "Python 3 (ipykernel)",
   "language": "python",
   "name": "python3"
  },
  "language_info": {
   "codemirror_mode": {
    "name": "ipython",
    "version": 3
   },
   "file_extension": ".py",
   "mimetype": "text/x-python",
   "name": "python",
   "nbconvert_exporter": "python",
   "pygments_lexer": "ipython3",
   "version": "3.10.9"
  }
 },
 "nbformat": 4,
 "nbformat_minor": 5
}
