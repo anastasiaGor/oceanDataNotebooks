{
 "cells": [
  {
   "cell_type": "markdown",
   "id": "30ce8b5b-78f8-47b6-83c9-1ad45e72422e",
   "metadata": {},
   "source": [
    "# Pip install"
   ]
  },
  {
   "cell_type": "code",
   "execution_count": 1,
   "id": "6ab8bbe9-a4f2-4de0-993e-d55590d5f8a1",
   "metadata": {
    "tags": []
   },
   "outputs": [
    {
     "name": "stdout",
     "output_type": "stream",
     "text": [
      "Requirement already satisfied: gcm-filters in /srv/conda/envs/notebook/lib/python3.8/site-packages (0.1.3)\n",
      "Requirement already satisfied: scipy in /srv/conda/envs/notebook/lib/python3.8/site-packages (from gcm-filters) (1.7.0)\n",
      "Requirement already satisfied: dask in /srv/conda/envs/notebook/lib/python3.8/site-packages (from gcm-filters) (2021.7.0)\n",
      "Requirement already satisfied: xarray in /srv/conda/envs/notebook/lib/python3.8/site-packages (from gcm-filters) (0.18.2)\n",
      "Requirement already satisfied: pyyaml in /srv/conda/envs/notebook/lib/python3.8/site-packages (from dask->gcm-filters) (5.4.1)\n",
      "Requirement already satisfied: toolz>=0.8.2 in /srv/conda/envs/notebook/lib/python3.8/site-packages (from dask->gcm-filters) (0.11.1)\n",
      "Requirement already satisfied: partd>=0.3.10 in /srv/conda/envs/notebook/lib/python3.8/site-packages (from dask->gcm-filters) (1.2.0)\n",
      "Requirement already satisfied: cloudpickle>=1.1.1 in /srv/conda/envs/notebook/lib/python3.8/site-packages (from dask->gcm-filters) (1.6.0)\n",
      "Requirement already satisfied: fsspec>=0.6.0 in /srv/conda/envs/notebook/lib/python3.8/site-packages (from dask->gcm-filters) (2021.7.0)\n",
      "Requirement already satisfied: locket in /srv/conda/envs/notebook/lib/python3.8/site-packages (from partd>=0.3.10->dask->gcm-filters) (0.2.0)\n",
      "Requirement already satisfied: numpy<1.23.0,>=1.16.5 in /srv/conda/envs/notebook/lib/python3.8/site-packages (from scipy->gcm-filters) (1.21.1)\n",
      "Requirement already satisfied: pandas>=1.0 in /srv/conda/envs/notebook/lib/python3.8/site-packages (from xarray->gcm-filters) (1.3.0)\n",
      "Requirement already satisfied: setuptools>=40.4 in /srv/conda/envs/notebook/lib/python3.8/site-packages (from xarray->gcm-filters) (49.6.0.post20210108)\n",
      "Requirement already satisfied: python-dateutil>=2.7.3 in /srv/conda/envs/notebook/lib/python3.8/site-packages (from pandas>=1.0->xarray->gcm-filters) (2.7.5)\n",
      "Requirement already satisfied: pytz>=2017.3 in /srv/conda/envs/notebook/lib/python3.8/site-packages (from pandas>=1.0->xarray->gcm-filters) (2021.1)\n",
      "Requirement already satisfied: six>=1.5 in /srv/conda/envs/notebook/lib/python3.8/site-packages (from python-dateutil>=2.7.3->pandas>=1.0->xarray->gcm-filters) (1.16.0)\n"
     ]
    }
   ],
   "source": [
    "!pip install gcm-filters"
   ]
  },
  {
   "cell_type": "code",
   "execution_count": 35,
   "id": "338917c4-179e-4285-bdd0-7988690b2a02",
   "metadata": {},
   "outputs": [
    {
     "name": "stdout",
     "output_type": "stream",
     "text": [
      "Requirement already satisfied: gsw in /srv/conda/envs/notebook/lib/python3.8/site-packages (3.4.0)\n",
      "Requirement already satisfied: numpy in /srv/conda/envs/notebook/lib/python3.8/site-packages (from gsw) (1.21.1)\n"
     ]
    }
   ],
   "source": [
    "!pip install gsw"
   ]
  },
  {
   "cell_type": "markdown",
   "id": "16c9b2b2-5a8d-49ea-b6f6-8e02167e4a75",
   "metadata": {},
   "source": [
    "# Dask start"
   ]
  },
  {
   "cell_type": "code",
   "execution_count": 1,
   "id": "8060b79c-0944-4e27-9574-8079510acccc",
   "metadata": {},
   "outputs": [
    {
     "name": "stderr",
     "output_type": "stream",
     "text": [
      "/srv/conda/envs/notebook/lib/python3.8/site-packages/dask_gateway/client.py:21: FutureWarning: format_bytes is deprecated and will be removed in a future release. Please use dask.utils.format_bytes instead.\n",
      "  from distributed.utils import LoopRunner, format_bytes\n"
     ]
    }
   ],
   "source": [
    "from dask.distributed import Client\n",
    "from dask_gateway import Gateway"
   ]
  },
  {
   "cell_type": "code",
   "execution_count": 2,
   "id": "f873fd39-d2f1-4f60-a2c4-82696475d58a",
   "metadata": {},
   "outputs": [],
   "source": [
    "gateway = Gateway()\n",
    "cluster = gateway.new_cluster()"
   ]
  },
  {
   "cell_type": "code",
   "execution_count": 3,
   "id": "5b7bbc9a-073a-4157-8ca0-8fe008042fdf",
   "metadata": {},
   "outputs": [],
   "source": [
    "cluster.scale(8)"
   ]
  },
  {
   "cell_type": "code",
   "execution_count": 4,
   "id": "ddab5bdd-883b-4d26-8a81-545e9316fc50",
   "metadata": {
    "tags": []
   },
   "outputs": [
    {
     "data": {
      "application/vnd.jupyter.widget-view+json": {
       "model_id": "e8bfb81c784a4cbd987ce47cb5dc6bf7",
       "version_major": 2,
       "version_minor": 0
      },
      "text/plain": [
       "VBox(children=(HTML(value='<h2>GatewayCluster</h2>'), HBox(children=(HTML(value='\\n<div>\\n<style scoped>\\n    …"
      ]
     },
     "metadata": {},
     "output_type": "display_data"
    }
   ],
   "source": [
    "cluster"
   ]
  },
  {
   "cell_type": "code",
   "execution_count": 5,
   "id": "b6d9ec51-c1a2-4141-a028-5cee7ab5ec3b",
   "metadata": {},
   "outputs": [
    {
     "data": {
      "text/html": [
       "\n",
       "            <div>\n",
       "                <div style=\"\n",
       "                    width: 24px;\n",
       "                    height: 24px;\n",
       "                    background-color: #e1e1e1;\n",
       "                    border: 3px solid #9D9D9D;\n",
       "                    border-radius: 5px;\n",
       "                    position: absolute;\"> </div>\n",
       "                <div style=\"margin-left: 48px;\">\n",
       "                    <h3 style=\"margin-bottom: 0px;\">Client</h3>\n",
       "                    <p style=\"color: #9D9D9D; margin-bottom: 0px;\">Client-c102e74a-7dfa-11ec-8312-fab1639998d6</p>\n",
       "                    <table style=\"width: 100%; text-align: left;\">\n",
       "                    \n",
       "                <tr>\n",
       "                    <td style=\"text-align: left;\"><strong>Connection method:</strong> Cluster object</td>\n",
       "                    <td style=\"text-align: left;\"><strong>Cluster type:</strong> GatewayCluster</td>\n",
       "                </tr>\n",
       "                \n",
       "                <tr>\n",
       "                    <td style=\"text-align: left;\">\n",
       "                        <strong>Dashboard: </strong>\n",
       "                        <a href=\"/services/dask-gateway/clusters/prod.ff4ba0e97a0a4d519f1be3b242f0c760/status\">/services/dask-gateway/clusters/prod.ff4ba0e97a0a4d519f1be3b242f0c760/status</a>\n",
       "                    </td>\n",
       "                    <td style=\"text-align: left;\"></td>\n",
       "                </tr>\n",
       "                \n",
       "                    </table>\n",
       "                    \n",
       "                <details>\n",
       "                <summary style=\"margin-bottom: 20px;\"><h3 style=\"display: inline;\">Cluster Info</h3></summary>\n",
       "                <div style='background-color: #f2f2f2; display: inline-block; padding: 10px; border: 1px solid #999999;'>\n",
       "  <h3>GatewayCluster</h3>\n",
       "  <ul>\n",
       "    <li><b>Name: </b>prod.ff4ba0e97a0a4d519f1be3b242f0c760\n",
       "    <li><b>Dashboard: </b><a href='/services/dask-gateway/clusters/prod.ff4ba0e97a0a4d519f1be3b242f0c760/status' target='_blank'>/services/dask-gateway/clusters/prod.ff4ba0e97a0a4d519f1be3b242f0c760/status</a>\n",
       "  </ul>\n",
       "</div>\n",
       "\n",
       "                </details>\n",
       "                \n",
       "                </div>\n",
       "            </div>\n",
       "        "
      ],
      "text/plain": [
       "<Client: 'tls://10.0.70.8:8786' processes=0 threads=0, memory=0 B>"
      ]
     },
     "execution_count": 5,
     "metadata": {},
     "output_type": "execute_result"
    }
   ],
   "source": [
    "client = Client(cluster)\n",
    "client"
   ]
  },
  {
   "cell_type": "markdown",
   "id": "32ddbebe-cd37-498d-8b95-dd31ed06fbc3",
   "metadata": {},
   "source": [
    "# Import"
   ]
  },
  {
   "cell_type": "code",
   "execution_count": 39,
   "id": "9e771fc9-f92e-45af-bea6-608d27bcd6b8",
   "metadata": {},
   "outputs": [],
   "source": [
    "import s3fs\n",
    "import xarray as xr\n",
    "import numpy as np\n",
    "import matplotlib.pyplot as plt\n",
    "import matplotlib.colors as colors\n",
    "import gcm_filters\n",
    "from xhistogram.xarray import histogram\n",
    "import seawater as sw\n",
    "import gsw"
   ]
  },
  {
   "cell_type": "markdown",
   "id": "fb90c056-a431-4ee3-9a2f-36f4b76b9d9e",
   "metadata": {},
   "source": [
    "# Plotting params"
   ]
  },
  {
   "cell_type": "code",
   "execution_count": 7,
   "id": "c312e50d-9847-4899-b7f8-9673f092a238",
   "metadata": {},
   "outputs": [],
   "source": [
    "plt.rcParams['figure.figsize'] = (8,5)"
   ]
  },
  {
   "cell_type": "code",
   "execution_count": 8,
   "id": "0946957f-bc69-42bc-9c8c-990cd88da59c",
   "metadata": {},
   "outputs": [],
   "source": [
    "%matplotlib inline"
   ]
  },
  {
   "cell_type": "markdown",
   "id": "5ad72773-5347-4431-8060-3ee8b04e59bc",
   "metadata": {},
   "source": [
    "# Load data"
   ]
  },
  {
   "cell_type": "markdown",
   "id": "ec721d53-ed73-4f15-b516-5843b083e06c",
   "metadata": {},
   "source": [
    "Load Pangeo catalog"
   ]
  },
  {
   "cell_type": "code",
   "execution_count": 9,
   "id": "cec76929-7d9e-4945-a357-37d7a26e11d9",
   "metadata": {},
   "outputs": [
    {
     "data": {
      "text/plain": [
       "dict_keys(['GIGATL', 'HYCOM25', 'HYCOM50', 'eNATL60', 'FESOM', 'ORCA36', 'FIO-COM32'])"
      ]
     },
     "execution_count": 9,
     "metadata": {},
     "output_type": "execute_result"
    }
   ],
   "source": [
    "from validate_catalog import all_params\n",
    "params_dict, cat = all_params()\n",
    "params_dict.keys()"
   ]
  },
  {
   "cell_type": "markdown",
   "id": "284bbbbe-bb57-47f4-969f-3b51787a3459",
   "metadata": {},
   "source": [
    "Winter data:"
   ]
  },
  {
   "cell_type": "code",
   "execution_count": 10,
   "id": "40e55dfa-abf8-466c-80e8-42ff4767df52",
   "metadata": {},
   "outputs": [],
   "source": [
    "enatl01w = cat.eNATL60(region='1',datatype='surface_hourly', season='fma').to_dask().chunk({'time_counter':1, 'x' : -1, 'y' : -1})"
   ]
  },
  {
   "cell_type": "markdown",
   "id": "8d4c5a46-760a-48cc-ba8a-85775c8e0aab",
   "metadata": {},
   "source": [
    "Summer data:"
   ]
  },
  {
   "cell_type": "code",
   "execution_count": 11,
   "id": "b97a74bb-9011-4630-8896-629398391980",
   "metadata": {},
   "outputs": [],
   "source": [
    "enatl01s = cat.eNATL60(region='1',datatype='surface_hourly', season='aso').to_dask().chunk({'time_counter':1, 'x' : -1, 'y' : -1})"
   ]
  },
  {
   "cell_type": "code",
   "execution_count": 12,
   "id": "4956859a-c6f5-474c-b2cb-604d820e476d",
   "metadata": {},
   "outputs": [
    {
     "data": {
      "text/plain": [
       "<matplotlib.collections.QuadMesh at 0x7fab38528550>"
      ]
     },
     "execution_count": 12,
     "metadata": {},
     "output_type": "execute_result"
    },
    {
     "data": {
      "image/png": "[encoded data removed]",
      "text/plain": [
       "<Figure size 432x288 with 2 Axes>"
      ]
     },
     "metadata": {
      "needs_background": "light"
     },
     "output_type": "display_data"
    }
   ],
   "source": [
    "enatl01s.sosstsst.isel(time_counter=50).plot()"
   ]
  },
  {
   "cell_type": "markdown",
   "id": "29fd235d-9e14-46d5-8e76-e42acd730a0e",
   "metadata": {},
   "source": [
    "# Prepare data"
   ]
  },
  {
   "cell_type": "markdown",
   "id": "485c6bcc-b55a-49c5-a146-d56ce1a95e93",
   "metadata": {},
   "source": [
    "## Slicing"
   ]
  },
  {
   "cell_type": "code",
   "execution_count": 13,
   "id": "df7d44a1-579d-45ff-b7cb-7a56a8937d3c",
   "metadata": {},
   "outputs": [
    {
     "data": {
      "text/plain": [
       "2136"
      ]
     },
     "execution_count": 13,
     "metadata": {},
     "output_type": "execute_result"
    }
   ],
   "source": [
    "enatl01w.time_counter.size"
   ]
  },
  {
   "cell_type": "code",
   "execution_count": 14,
   "id": "f5214553-0cfc-4d35-97cd-168e25761e24",
   "metadata": {},
   "outputs": [],
   "source": [
    "# x_slice = slice(300,600)\n",
    "# y_slice = slice(400,700)"
   ]
  },
  {
   "cell_type": "code",
   "execution_count": 15,
   "id": "9901c2e2-dc36-439b-b48c-2ebbc8d14d26",
   "metadata": {},
   "outputs": [],
   "source": [
    "x_slice = slice(0,-1)\n",
    "y_slice = slice(0,-1)"
   ]
  },
  {
   "cell_type": "code",
   "execution_count": 16,
   "id": "9c1a9bd3-f6ae-42e8-8b9b-0a6c3a957d27",
   "metadata": {},
   "outputs": [],
   "source": [
    "data_slice = dict(time_counter=slice(0,500),y=y_slice,x=x_slice)"
   ]
  },
  {
   "cell_type": "code",
   "execution_count": 17,
   "id": "460dc8f5-6ee6-4242-baa5-5c34077f6068",
   "metadata": {},
   "outputs": [],
   "source": [
    "coord_slice = dict(y=y_slice,x=x_slice)"
   ]
  },
  {
   "cell_type": "markdown",
   "id": "f2933f8c-19ca-4bd0-a618-338d2aa9faf9",
   "metadata": {},
   "source": [
    "## Grid"
   ]
  },
  {
   "cell_type": "code",
   "execution_count": 18,
   "id": "18180ee1-1fa0-4a74-83f8-b50232c79fe6",
   "metadata": {},
   "outputs": [],
   "source": [
    "area = xr.DataArray((enatl01w.e1t[coord_slice] * enatl01w.e2t[coord_slice]), dims=['y','x'],\n",
    "                   coords={'y':np.arange(len(enatl01w.y[y_slice])),\n",
    "                           'x':np.arange(len(enatl01w.x[x_slice]))}\n",
    "                  ).load()\n",
    "# area.plot()"
   ]
  },
  {
   "cell_type": "markdown",
   "id": "de5ff7c5-ac8b-4979-895f-e77b6aa01825",
   "metadata": {},
   "source": [
    "Spacings:"
   ]
  },
  {
   "cell_type": "code",
   "execution_count": 19,
   "id": "eae0ea19-fca2-4834-aac0-c8b7053fffcd",
   "metadata": {},
   "outputs": [],
   "source": [
    "dxw = xr.DataArray(enatl01w.e1u[coord_slice], dims=['y','x'],\n",
    "                   coords={'y':np.arange(len(enatl01w.y[y_slice])),\n",
    "                           'x':np.arange(len(enatl01w.x[x_slice]))}\n",
    "                  ).load() # x-spacing centered at western cell edge\n",
    "\n",
    "dyw = xr.DataArray(enatl01w.e2u[coord_slice], dims=['y','x'],\n",
    "                   coords={'y':np.arange(len(enatl01w.y[y_slice])),\n",
    "                           'x':np.arange(len(enatl01w.x[x_slice]))}\n",
    "                  ).load() # y-spacing centered at western cell edge\n",
    "\n",
    "dxs = xr.DataArray(enatl01w.e1v[coord_slice], dims=['y','x'],\n",
    "                   coords={'y':np.arange(len(enatl01w.y[y_slice])),\n",
    "                           'x':np.arange(len(enatl01w.x[x_slice]))}\n",
    "                  ).load() # x-spacing centered at southern cell edge\n",
    "\n",
    "dys = xr.DataArray(enatl01w.e2v[coord_slice], dims=['y','x'],\n",
    "                   coords={'y':np.arange(len(enatl01w.y[y_slice])),\n",
    "                           'x':np.arange(len(enatl01w.x[x_slice]))}\n",
    "                  ).load() # y-spacing centered at southern cell edge"
   ]
  },
  {
   "cell_type": "code",
   "execution_count": 20,
   "id": "59064288-710d-49f7-8dac-fb0b874ec5df",
   "metadata": {},
   "outputs": [
    {
     "data": {
      "text/plain": [
       "array(1289.53776172)"
      ]
     },
     "execution_count": 20,
     "metadata": {},
     "output_type": "execute_result"
    }
   ],
   "source": [
    "dx_min = min(dxw.min(),dyw.min(),dxs.min(),dys.min())\n",
    "dx_min = dx_min.values\n",
    "dx_min"
   ]
  },
  {
   "cell_type": "markdown",
   "id": "70ad7089-ebbd-4288-a46b-2a1cb1b7de5a",
   "metadata": {},
   "source": [
    "Diffusivities for thefilter in the east-west and north-south directions"
   ]
  },
  {
   "cell_type": "code",
   "execution_count": 21,
   "id": "ec359dae-2287-462d-9ead-c1ab23814ffe",
   "metadata": {},
   "outputs": [],
   "source": [
    "kappa_w = xr.ones_like(dxw)\n",
    "kappa_s = xr.ones_like(dxw)"
   ]
  },
  {
   "cell_type": "markdown",
   "id": "b1fc9741-8ac0-4540-bcd7-cbcd0cfdff4d",
   "metadata": {},
   "source": [
    "## Mask"
   ]
  },
  {
   "cell_type": "code",
   "execution_count": 22,
   "id": "0c44bee8-1caa-4df1-b3ae-4f2c7cdb8f87",
   "metadata": {},
   "outputs": [],
   "source": [
    "wet_mask = xr.DataArray(enatl01w.umask[coord_slice],\n",
    "                        dims=['y','x'],\n",
    "                        coords={'y':np.arange(len(enatl01w.y[y_slice])),\n",
    "                           'x':np.arange(len(enatl01w.x[x_slice]))}\n",
    "           ).load()"
   ]
  },
  {
   "cell_type": "code",
   "execution_count": 23,
   "id": "e73cf9b7-a0cb-4b04-ac49-40bda7e30d9d",
   "metadata": {},
   "outputs": [],
   "source": [
    "#wet_mask.plot()"
   ]
  },
  {
   "cell_type": "markdown",
   "id": "d4a47b83-4665-4190-bb60-ea4d5c1e032f",
   "metadata": {},
   "source": [
    "# Filter"
   ]
  },
  {
   "cell_type": "markdown",
   "id": "021ce10b-43fb-4aa5-8979-647b04a7809c",
   "metadata": {},
   "source": [
    "## Define filter"
   ]
  },
  {
   "cell_type": "markdown",
   "id": "264265d6-261e-4b7c-92f6-5ac80a1088e7",
   "metadata": {},
   "source": [
    "Parameters (to determine) :"
   ]
  },
  {
   "cell_type": "code",
   "execution_count": 24,
   "id": "b8830471-886c-466c-94f0-5042162d7e81",
   "metadata": {},
   "outputs": [],
   "source": [
    "filter_scale=20000"
   ]
  },
  {
   "cell_type": "code",
   "execution_count": 25,
   "id": "cdea82de-cb18-4fcc-96b8-e87d8faaa207",
   "metadata": {},
   "outputs": [],
   "source": [
    "gaussian_filter = gcm_filters.Filter(\n",
    "    filter_scale=filter_scale,\n",
    "    dx_min=dx_min,\n",
    "    filter_shape=gcm_filters.FilterShape.GAUSSIAN,\n",
    "    grid_type=gcm_filters.GridType.IRREGULAR_WITH_LAND,\n",
    "    grid_vars={\n",
    "        'wet_mask': wet_mask, \n",
    "        'dxw': dxw, 'dyw': dyw, 'dxs': dxs, 'dys': dys, 'area': area, \n",
    "        'kappa_w': kappa_w, 'kappa_s': kappa_s\n",
    "    }\n",
    ")"
   ]
  },
  {
   "cell_type": "markdown",
   "id": "74cab9eb-e258-470b-9061-c654c3841e5a",
   "metadata": {},
   "source": [
    "## Apply filter to data"
   ]
  },
  {
   "cell_type": "code",
   "execution_count": 36,
   "id": "aea5b096-bba8-4b55-9f62-4ff2ee3e242f",
   "metadata": {},
   "outputs": [],
   "source": [
    "# Coordinates\n",
    "time_counter_array = enatl01w[data_slice].time_counter.load()\n",
    "x_array = np.arange(len(enatl01w.x[y_slice]))\n",
    "y_array = np.arange(len(enatl01w.y[y_slice]))\n",
    "latitude_array = enatl01w.lat[coord_slice].load()\n",
    "longitude_array = enatl01w.lon[coord_slice].load()"
   ]
  },
  {
   "cell_type": "code",
   "execution_count": 37,
   "id": "8bb54896-0665-4c1e-b76c-f864d30b6604",
   "metadata": {},
   "outputs": [],
   "source": [
    "# Data\n",
    "temperature_array = enatl01w.sosstsst[data_slice]\n",
    "salinity_array = enatl01w.sosaline[data_slice]"
   ]
  },
  {
   "cell_type": "code",
   "execution_count": 40,
   "id": "3095b2b0-9141-4810-805e-4dbb7e3111a6",
   "metadata": {},
   "outputs": [],
   "source": [
    "dataset_to_filter = xr.Dataset(\n",
    "                        {\"sst\" : temperature_array,\n",
    "                         \"sal\" : salinity_array,\n",
    "                         \"dens\" : xr.apply_ufunc(gsw.density.sigma0, salinity_array, temperature_array, dask='parallelized'),\n",
    "                         \"wet_mask\" : wet_mask},\n",
    "                        coords={'time_counter' : time_counter_array,\n",
    "                                'y': y_array, 'x': x_array, 'lat' : latitude_array,'lon' : longitude_array})"
   ]
  },
  {
   "cell_type": "code",
   "execution_count": 41,
   "id": "cbce85b2-bf0a-45a5-a2b3-99dcae7b340c",
   "metadata": {},
   "outputs": [
    {
     "data": {
      "text/plain": [
       "<matplotlib.collections.QuadMesh at 0x7faba4cd5d60>"
      ]
     },
     "execution_count": 41,
     "metadata": {},
     "output_type": "execute_result"
    },
    {
     "data": {
      "image/png": "[encoded data removed]",
      "text/plain": [
       "<Figure size 432x288 with 2 Axes>"
      ]
     },
     "metadata": {
      "needs_background": "light"
     },
     "output_type": "display_data"
    }
   ],
   "source": [
    "dataset_to_filter.isel(time_counter=0).sal.plot()"
   ]
  },
  {
   "cell_type": "code",
   "execution_count": 42,
   "id": "588ce05d-4af3-4482-b308-d13f35173991",
   "metadata": {},
   "outputs": [],
   "source": [
    "# ALLOCATION\n",
    "dataset_filtered = xr.Dataset({},\n",
    "                        coords={'time_counter' : time_counter_array,\n",
    "                                'y': y_array, 'x': x_array, 'lat' : latitude_array,'lon' : longitude_array})"
   ]
  },
  {
   "cell_type": "code",
   "execution_count": 43,
   "id": "d8822645-556e-4b0f-b2ca-631d1a236946",
   "metadata": {},
   "outputs": [
    {
     "name": "stdout",
     "output_type": "stream",
     "text": [
      "CPU times: user 61.6 ms, sys: 2.72 ms, total: 64.3 ms\n",
      "Wall time: 60.3 ms\n",
      "CPU times: user 55.5 ms, sys: 514 µs, total: 56 ms\n",
      "Wall time: 54.7 ms\n"
     ]
    }
   ],
   "source": [
    "%time dataset_filtered[\"sst\"] = gaussian_filter.apply(dataset_to_filter.sst, dims=['y', 'x'])\n",
    "%time dataset_filtered[\"sal\"] = gaussian_filter.apply(dataset_to_filter.sal, dims=['y', 'x'])"
   ]
  },
  {
   "cell_type": "markdown",
   "id": "c87b88f6-31ba-41b6-9166-917f89c4f5be",
   "metadata": {},
   "source": [
    "Apply filter to the density field evaluated with unfiltered salinity and SST:"
   ]
  },
  {
   "cell_type": "code",
   "execution_count": 44,
   "id": "b9e88e3c-2aba-4746-8d2c-1e675b9a1b03",
   "metadata": {},
   "outputs": [
    {
     "name": "stdout",
     "output_type": "stream",
     "text": [
      "CPU times: user 67.8 ms, sys: 3.18 ms, total: 71 ms\n",
      "Wall time: 65.1 ms\n"
     ]
    }
   ],
   "source": [
    "%time dataset_filtered[\"dens_filtered\"] = gaussian_filter.apply(dataset_to_filter.dens, dims=['y', 'x'])"
   ]
  },
  {
   "cell_type": "markdown",
   "id": "0afeb76d-535d-4477-a574-f0f48b1dd33b",
   "metadata": {},
   "source": [
    "Recalculate the density with the use of the filtered tempeature and salinity:"
   ]
  },
  {
   "cell_type": "code",
   "execution_count": 46,
   "id": "a5047169-7a47-434f-8ca0-be7834ad3786",
   "metadata": {},
   "outputs": [
    {
     "name": "stdout",
     "output_type": "stream",
     "text": [
      "CPU times: user 11.4 ms, sys: 1.99 ms, total: 13.3 ms\n",
      "Wall time: 11.7 ms\n"
     ]
    }
   ],
   "source": [
    "%time dataset_filtered[\"dens\"] = xr.apply_ufunc(gsw.density.sigma0, \\\n",
    "                                                dataset_filtered[\"sal\"], dataset_filtered[\"sst\"], \\\n",
    "                                                dask='parallelized')"
   ]
  },
  {
   "cell_type": "code",
   "execution_count": 47,
   "id": "eacccf8e-bd55-4885-946e-86d7b8b91dd3",
   "metadata": {},
   "outputs": [],
   "source": [
    "#%time dataset_filtered[\"dens\"] = ((\"time_counter\", \"y\", \"x\"), xr.apply_ufunc(sw.dens0, dataset_filtered[\"sal\"], dataset_filtered[\"sst\"], dask='parallelized'))"
   ]
  },
  {
   "cell_type": "code",
   "execution_count": 48,
   "id": "a2116d9e-8d92-4107-ae47-b5fe0699f68c",
   "metadata": {},
   "outputs": [],
   "source": [
    "prime = xr.Dataset( {\"sst\" : dataset_to_filter.sst-dataset_filtered.sst,\n",
    "                    \"sal\" : dataset_to_filter.sal-dataset_filtered.sal,\n",
    "                    \"dens\" : dataset_filtered.dens_filtered-dataset_filtered.dens},\n",
    "                    coords={'time_counter' : time_counter_array,\n",
    "                            'y': y_array, 'x': x_array, 'lat' : latitude_array,'lon' : longitude_array})"
   ]
  },
  {
   "cell_type": "markdown",
   "id": "71751fab-51d0-434c-b29a-88b12880463c",
   "metadata": {},
   "source": [
    "## Plot filtered fields"
   ]
  },
  {
   "cell_type": "code",
   "execution_count": null,
   "id": "2f8f9356-8e1c-44b5-9dd8-30c88c4d89d2",
   "metadata": {},
   "outputs": [],
   "source": [
    "dataset_filtered.isel(time_counter=time_counter_to_plot).sst.compute()"
   ]
  },
  {
   "cell_type": "code",
   "execution_count": 49,
   "id": "520b267f-7da4-4a65-b2df-4548e131e2d9",
   "metadata": {},
   "outputs": [],
   "source": [
    "time_counter_to_plot = [1]"
   ]
  },
  {
   "cell_type": "code",
   "execution_count": 51,
   "id": "425271f1-6703-485b-8202-d9cb879f53e2",
   "metadata": {},
   "outputs": [
    {
     "data": {
      "image/png": "[encoded data removed]",
      "text/plain": [
       "<Figure size 1008x288 with 4 Axes>"
      ]
     },
     "metadata": {
      "needs_background": "light"
     },
     "output_type": "display_data"
    }
   ],
   "source": [
    "fig, ax = plt.subplots(ncols=3, constrained_layout=True, figsize=(14,4))\n",
    "fig.suptitle('Temperature')\n",
    "(dataset_to_filter.isel(time_counter=time_counter_to_plot)).sst.plot(ax=ax[0],x='lon', y='lat')\n",
    "ax[0].set(title=r'Unfiltered: $t = T + t^\\prime$')\n",
    "#dataset_filtered.isel(time_counter=time_counter_to_plot).sst.plot(ax=ax[1],x='lon', y='lat')\n",
    "#ax[1].pcolormesh(dataset_filtered.lon, dataset_filtered.lat, dataset_filtered.sst.compute())\n",
    "ax[1].set(title=r'Filtered to %2.0f km: T' % (filter_scale*0.001))\n",
    "#(prime.isel(time_counter=time_counter_to_plot)).sst.plot(ax=ax[2], x='lon', y='lat', cmap='seismic')\n",
    "ax[2].set(title=r'Unfiltered - filtered: $t^\\prime$')\n",
    "plt.show()"
   ]
  },
  {
   "cell_type": "code",
   "execution_count": null,
   "id": "db2275ba-c2ab-4df3-a2d0-9d7089d5b3f4",
   "metadata": {},
   "outputs": [],
   "source": [
    "fig, ax = plt.subplots(ncols=3, constrained_layout=True, figsize=(14,4))\n",
    "fig.suptitle('Salinity')\n",
    "dataset_to_filter.isel(time_counter=time_counter_to_plot).sal.plot(ax=ax[0],x='lon', y='lat')\n",
    "ax[0].set(title=r'Unfiltered: $s = S + s^\\prime$')\n",
    "dataset_filtered.isel(time_counter=time_counter_to_plot).sal.plot(ax=ax[1], x='lon', y='lat')\n",
    "ax[1].set(title=r'Filtered to %2.0f km: S' % (filter_scale*0.001))\n",
    "prime.sal.isel(time_counter=time_counter_to_plot).plot(ax=ax[2], x='lon', y='lat', cmap='seismic')\n",
    "ax[2].set(title=r'Unfiltered - filtered: $s^\\prime$')\n",
    "plt.show()"
   ]
  },
  {
   "cell_type": "code",
   "execution_count": null,
   "id": "4a46294b-14de-4107-99a2-61c2bb7c19e0",
   "metadata": {},
   "outputs": [],
   "source": [
    "fig, ax = plt.subplots(ncols=4, constrained_layout=True, figsize=(18,4))\n",
    "fig.suptitle('Density')\n",
    "dataset_to_filter.isel(time_counter=time_counter_to_plot).dens.plot(ax=ax[0],x='lon', y='lat')\n",
    "ax[0].set(title=r'Computed before filter')\n",
    "\n",
    "dataset_filtered.isel(time_counter=time_counter_to_plot).dens.plot(ax=ax[1], x='lon', y='lat')\n",
    "ax[1].set(title=r'$\\pho^A - computed based on $\\bar{s}, \\bar{t}$, filter of %2.0f km' % (filter_scale*0.001))\n",
    "\n",
    "dataset_filtered.isel(time_counter=time_counter_to_plot).dens_filtered.plot(ax=ax[2], x='lon', y='lat')\n",
    "ax[2].set(title=r'$\\rho^B - R density filtered %2.0f km' % (filter_scale*0.001))\n",
    "\n",
    "prime.dens.isel(time_counter=time_counter_to_plot).plot(ax=ax[3], x='lon', y='lat', cmap='seismic')\n",
    "ax[3].set(title=r'$\\Delta \\rho = \\rho^B - \\rho^A$')\n",
    "plt.show()"
   ]
  },
  {
   "cell_type": "markdown",
   "id": "2db3586d-d954-4839-b7f1-ea0df661a048",
   "metadata": {},
   "source": [
    "Take a slice to cut-off borders"
   ]
  },
  {
   "cell_type": "code",
   "execution_count": null,
   "id": "bd1e803d-af61-44ef-8d3d-6bb7ae4d5765",
   "metadata": {},
   "outputs": [],
   "source": [
    "slice_for_filtered_data = dict(x=slice(20,-20),y=slice(20,-20))"
   ]
  },
  {
   "cell_type": "code",
   "execution_count": null,
   "id": "a62a200d-4ea0-43fb-9041-dcf5da17ebe9",
   "metadata": {},
   "outputs": [],
   "source": [
    "slice_for_filtered_data"
   ]
  },
  {
   "cell_type": "code",
   "execution_count": null,
   "id": "2009da90-7de6-441f-8890-01fe4934b27d",
   "metadata": {},
   "outputs": [],
   "source": [
    "fig, ax = plt.subplots(ncols=3, constrained_layout=True, figsize=(14,4))\n",
    "prime.sst[slice_for_filtered_data].isel(time_counter=time_counter_to_plot).where(dataset_to_filter.wet_mask > 0).plot(ax=ax[0],x='lon', y='lat', cmap='seismic')\n",
    "prime.sal[slice_for_filtered_data].isel(time_counter=time_counter_to_plot).where(dataset_to_filter.wet_mask > 0).plot(ax=ax[1],x='lon', y='lat', cmap='seismic')\n",
    "prime.dens[slice_for_filtered_data].isel(time_counter=time_counter_to_plot).where(dataset_to_filter.wet_mask > 0).plot(ax=ax[2],x='lon', y='lat', cmap='seismic')\n",
    "ax[0].set(title=r'SST $t^\\prime$')\n",
    "ax[1].set(title=r'Salinity $s^\\prime$')\n",
    "ax[2].set(title=r'Density $\\Delta \\rho$')\n",
    "plt.show()"
   ]
  },
  {
   "cell_type": "markdown",
   "id": "024aa397-b48d-4cf1-92cc-61d4de5954a2",
   "metadata": {},
   "source": [
    "# 1D Histograms"
   ]
  },
  {
   "cell_type": "code",
   "execution_count": null,
   "id": "ef49be27-54b3-4d90-a9c6-5e100a9a3279",
   "metadata": {},
   "outputs": [],
   "source": [
    "nb_of_bins = 150"
   ]
  },
  {
   "cell_type": "code",
   "execution_count": null,
   "id": "920124ae-063a-4529-8c5b-4254b7ff8be7",
   "metadata": {},
   "outputs": [],
   "source": [
    "%time binsTprime = np.linspace(prime.sst.min(), prime.sst.max(), nb_of_bins)\n",
    "histTprime = histogram(prime.sst[slice_for_filtered_data], bins=[binsTprime])"
   ]
  },
  {
   "cell_type": "code",
   "execution_count": null,
   "id": "843d7c4d-21c3-4e1a-bec1-11fb2a1d0222",
   "metadata": {},
   "outputs": [],
   "source": [
    "%time binsSprime = np.linspace(prime.sal.min(), prime.sal.max(), nb_of_bins)\n",
    "histSprime = histogram(prime.sal[slice_for_filtered_data], bins=[binsSprime])"
   ]
  },
  {
   "cell_type": "code",
   "execution_count": null,
   "id": "357e5fc5-7ac1-4ca0-af9c-5d12d5a8e77c",
   "metadata": {},
   "outputs": [],
   "source": [
    "%time binsDeltaDens = np.linspace(prime.dens.min(), prime.dens.max(), nb_of_bins)\n",
    "histDeltaDens = histogram(prime.dens[slice_for_filtered_data], bins=[binsDeltaDens])"
   ]
  },
  {
   "cell_type": "code",
   "execution_count": null,
   "id": "3d966334-36fd-4382-b30d-b0cdbd342e62",
   "metadata": {},
   "outputs": [],
   "source": [
    "fig, ax = plt.subplots(ncols=1, constrained_layout=True, figsize=(5,4))\n",
    "ax.plot((binsTprime[:-1] + np.diff(binsTprime)/2)/np.max(np.abs(binsTprime)), histTprime.values, '.-', label=r'$t^\\prime$')\n",
    "ax.plot((binsSprime[:-1] + np.diff(binsSprime)/2)/np.max(np.abs(binsSprime)), histSprime.values, '.-', label=r'$s^\\prime$')\n",
    "ax.plot((binsDeltaDens[:-1] + np.diff(binsDeltaDens)/2)/np.max(np.abs(binsDeltaDens)), histDeltaDens.values, '.-', label=r'$\\Delta \\rho$')\n",
    "ax.set(yscale='log', xlabel='Normalized bin', ylabel='Count'); ax.grid()\n",
    "ax.legend()\n",
    "plt.show()"
   ]
  },
  {
   "cell_type": "markdown",
   "id": "eeeedd0b-60c4-4346-af6d-f95b6d75c36c",
   "metadata": {},
   "source": [
    "# 2D Histograms"
   ]
  },
  {
   "cell_type": "code",
   "execution_count": null,
   "id": "fc4b00b1-64cf-472c-9dcb-3f7e3d686ec5",
   "metadata": {},
   "outputs": [],
   "source": [
    "bins_T = np.linspace(dataset_to_filter.sst.min(), dataset_to_filter.sst.max(), nb_of_bins)\n",
    "bins_S = np.linspace(dataset_to_filter.sal.min(), dataset_to_filter.sal.max(), nb_of_bins)"
   ]
  },
  {
   "cell_type": "code",
   "execution_count": null,
   "id": "70b8633d-1d7f-4f7c-935e-01bb86f7e65c",
   "metadata": {},
   "outputs": [],
   "source": [
    "%time histTS_filtered = histogram(dataset_filtered.sal[slice_for_filtered_data], dataset_filtered.sst[slice_for_filtered_data],  bins=[bins_S, bins_T])"
   ]
  },
  {
   "cell_type": "code",
   "execution_count": null,
   "id": "13affd0d-2c80-4284-96b8-950d194834db",
   "metadata": {},
   "outputs": [],
   "source": [
    "%time histTS_unfiltered = histogram(dataset_to_filter.sal[slice_for_filtered_data], dataset_to_filter.sst[slice_for_filtered_data], bins=[bins_S, bins_T])"
   ]
  },
  {
   "cell_type": "code",
   "execution_count": null,
   "id": "7e6ee3d1-a8aa-4440-9fff-36336eae3782",
   "metadata": {},
   "outputs": [],
   "source": [
    "%time histTS_prime = histogram(prime.sal[slice_for_filtered_data], prime.sst[slice_for_filtered_data], bins=[binsSprime, binsTprime])"
   ]
  },
  {
   "cell_type": "code",
   "execution_count": null,
   "id": "3ecf5cae-dc37-484b-a1de-11b96b688f7e",
   "metadata": {},
   "outputs": [],
   "source": [
    "max_counter = np.max([histTS_unfiltered.max(), histTS_filtered.max()])"
   ]
  },
  {
   "cell_type": "code",
   "execution_count": null,
   "id": "340d8a0a-e6f3-4105-9c9b-e2214a0d5c0e",
   "metadata": {},
   "outputs": [],
   "source": [
    "fig, ax = plt.subplots(ncols=3, constrained_layout=True, figsize=(15,4))\n",
    "\n",
    "#X, Y = np.meshgrid(bins_T[:-1] + np.diff(bins_T)/2, bins_S[:-1] + np.diff(bins_S)/2)\n",
    "#hist_plot0 = ax[0].pcolormesh(X, Y, histTS_unfiltered, norm=colors.LogNorm(vmin=1, vmax=histTS_unfiltered.max()), cmap='PuBuGn')\n",
    "hist_plot0 = histTS_unfiltered.T.plot(ax=ax[0], norm=colors.LogNorm(vmin=1, vmax=max_counter), cmap='PuBuGn')\n",
    "ax[0].set(xlabel=r'$s$', ylabel=r'$t$', title='Unfiltered')\n",
    "\n",
    "#hist_plot0 = ax[1].pcolormesh(X, Y, histTS_filtered, norm=hist_plot0.norm, cmap=hist_plot0.cmap)\n",
    "histTS_filtered.T.plot(ax=ax[1], norm=hist_plot0.norm, cmap=hist_plot0.cmap)\n",
    "ax[1].set(xlabel=r'$\\bar{s}$', ylabel=r'$\\bar{t}$', title='Filtered')\n",
    "ax[1].sharex(ax[0]); ax[1].sharey(ax[0])\n",
    "\n",
    "#X, Y = np.meshgrid(binsTprime[:-1] + np.diff(binsTprime)/2, binsSprime[:-1] + np.diff(binsSprime)/2)\n",
    "#hist_plot2 = ax[2].pcolormesh(X, Y, histTS_prime, norm=hist_plot0.norm, cmap=hist_plot0.cmap)\n",
    "histTS_prime.T.plot(ax=ax[2], norm=hist_plot0.norm, cmap=hist_plot0.cmap)\n",
    "ax[2].set(xlabel=r'$s^\\prime$', ylabel=r'$t^\\prime$', title='Prime')\n",
    "#plt.colorbar(hist_plot0, ax=ax[2])\n",
    "\n",
    "plt.show()"
   ]
  },
  {
   "cell_type": "markdown",
   "id": "46dd4909-de18-4024-a6dc-e4ffa77993bd",
   "metadata": {},
   "source": [
    "## Density"
   ]
  },
  {
   "cell_type": "code",
   "execution_count": null,
   "id": "e60d730d-a9c9-4d36-8e97-4830d01597b2",
   "metadata": {},
   "outputs": [],
   "source": [
    "bins_dens = np.linspace(dataset_to_filter.dens.min(), dataset_to_filter.dens.max(), nb_of_bins)"
   ]
  },
  {
   "cell_type": "code",
   "execution_count": null,
   "id": "841703fb-f857-49f1-9176-9b3ae0fe855a",
   "metadata": {},
   "outputs": [],
   "source": [
    "%time histDensT_unfiltered = histogram(dataset_to_filter.dens[slice_for_filtered_data], dataset_to_filter.sst[slice_for_filtered_data], bins=[bins_dens, bins_T])"
   ]
  },
  {
   "cell_type": "code",
   "execution_count": null,
   "id": "3eedd80b-ae38-461c-bdff-33db195954b6",
   "metadata": {},
   "outputs": [],
   "source": [
    "%time histDensT_filtered = histogram(dataset_filtered.dens[slice_for_filtered_data], dataset_filtered.sst[slice_for_filtered_data], bins=[bins_dens, bins_T])"
   ]
  },
  {
   "cell_type": "code",
   "execution_count": null,
   "id": "be8989ce-97cd-4095-9467-b1e85d84d606",
   "metadata": {},
   "outputs": [],
   "source": [
    "fig, ax = plt.subplots(ncols=2, constrained_layout=True, figsize=(10,4))\n",
    "\n",
    "fig.suptitle('Density vs. temperature')\n",
    "hist_plot0 = histDensT_unfiltered.plot(ax=ax[0], norm=colors.LogNorm(vmin=1, vmax=max_counter), cmap='PuBuGn')\n",
    "ax[0].set(xlabel=r'$t$', ylabel=r'$\\rho$', title='Unfiltered')\n",
    "\n",
    "histDensT_filtered.plot(ax=ax[1], norm=hist_plot0.norm, cmap=hist_plot0.cmap)\n",
    "ax[1].set(xlabel=r'$\\bar{t}$', ylabel=r'$\\rho$', title='Filtered')\n",
    "ax[1].sharex(ax[0]); ax[1].sharey(ax[0])\n",
    "\n",
    "plt.show()"
   ]
  },
  {
   "cell_type": "code",
   "execution_count": null,
   "id": "8dd2c5dd-f1ae-48cc-a60b-fd03865ac204",
   "metadata": {},
   "outputs": [],
   "source": [
    "fig, ax = plt.subplots(ncols=1, constrained_layout=True, figsize=(5,4))\n",
    "\n",
    "X, Y = np.meshgrid(bins_S, bins_T)\n",
    "Z = sw.dens0(X, Y)\n",
    "\n",
    "contours = ax.contourf(bins_S, bins_T,Z, levels=50)\n",
    "fig.colorbar(contours, label='Density')\n",
    "ax.set(title='Equation of state', xlabel='s', ylabel='t')\n",
    "\n",
    "plt.show()"
   ]
  },
  {
   "cell_type": "code",
   "execution_count": null,
   "id": "68760310-28e8-46bd-9eec-3768474da750",
   "metadata": {},
   "outputs": [],
   "source": [
    "%time histDensS_unfiltered = histogram(dataset_to_filter.dens[slice_for_filtered_data], dataset_to_filter.sal[slice_for_filtered_data], bins=[bins_dens, bins_S])"
   ]
  },
  {
   "cell_type": "code",
   "execution_count": null,
   "id": "a2beffa8-d363-46cd-aaa7-b03a1517d011",
   "metadata": {},
   "outputs": [],
   "source": [
    "%time histDensS_filtered = histogram(dataset_filtered.dens[slice_for_filtered_data], dataset_filtered.sal[slice_for_filtered_data], bins=[bins_dens, bins_S])"
   ]
  },
  {
   "cell_type": "code",
   "execution_count": null,
   "id": "f62f9b30-23bd-4c80-a799-a78005bbc8b4",
   "metadata": {},
   "outputs": [],
   "source": [
    "fig, ax = plt.subplots(ncols=2, constrained_layout=True, figsize=(10,4))\n",
    "\n",
    "fig.suptitle('Density vs. salinity')\n",
    "hist_plot0 = histDensS_unfiltered.plot(ax=ax[0], norm=colors.LogNorm(vmin=1, vmax=max_counter), cmap='PuBuGn')\n",
    "ax[0].set(xlabel=r'$s$', ylabel=r'$\\rho$', title='Unfiltered')\n",
    "\n",
    "histDensS_filtered.plot(ax=ax[1], norm=hist_plot0.norm, cmap=hist_plot0.cmap)\n",
    "ax[1].set(xlabel=r'$\\bar{s}$', ylabel=r'$\\rho$', title='Filtered')\n",
    "ax[1].sharex(ax[0]); ax[1].sharey(ax[0])\n",
    "\n",
    "plt.show()"
   ]
  },
  {
   "cell_type": "code",
   "execution_count": null,
   "id": "68ab382f-f117-4b4a-a925-ec90d3a39408",
   "metadata": {},
   "outputs": [],
   "source": [
    "%time histDeltaDensT = histogram(prime.dens[slice_for_filtered_data], dataset_filtered.sst[slice_for_filtered_data], bins=[binsDeltaDens, bins_T])"
   ]
  },
  {
   "cell_type": "code",
   "execution_count": null,
   "id": "64a1895f-65d0-4ebf-85a7-68eaa94840c6",
   "metadata": {},
   "outputs": [],
   "source": [
    "%time histDeltaDens_Tprime = histogram(prime.dens[slice_for_filtered_data], prime.sst[slice_for_filtered_data], bins=[binsDeltaDens, binsTprime])"
   ]
  },
  {
   "cell_type": "code",
   "execution_count": null,
   "id": "3833cf77-5359-474e-a8c9-181e562952f0",
   "metadata": {},
   "outputs": [],
   "source": [
    "%time histDeltaDensS = histogram(prime.dens[slice_for_filtered_data], dataset_filtered.sal[slice_for_filtered_data], bins=[binsDeltaDens, bins_S])"
   ]
  },
  {
   "cell_type": "code",
   "execution_count": null,
   "id": "fefc46c1-f5fc-4cfa-a9db-a0ae0eb6b2a0",
   "metadata": {},
   "outputs": [],
   "source": [
    "%time histDeltaDens_Sprime = histogram(prime.dens[slice_for_filtered_data], prime.sal[slice_for_filtered_data], bins=[binsDeltaDens, binsSprime])"
   ]
  },
  {
   "cell_type": "code",
   "execution_count": null,
   "id": "2805c81a-7081-4b8b-89e7-5ee08733a74c",
   "metadata": {},
   "outputs": [],
   "source": [
    "fig, ax = plt.subplots(ncols=2, nrows=2, constrained_layout=True, figsize=(10,8))\n",
    "\n",
    "fig.suptitle('Density diff. vs Temperature')\n",
    "\n",
    "hist_plot0 = histDeltaDensT.plot(ax=ax[0,0], norm=colors.LogNorm(vmin=1, vmax=max_counter), cmap='PuBuGn')\n",
    "ax[0,0].set(xlabel=r'$\\bar{t}$', ylabel=r'$\\Delta \\rho$', ylim=[-0.055,0.01])\n",
    "\n",
    "histDeltaDens_Tprime.plot(ax=ax[0,1], norm=hist_plot0.norm, cmap=hist_plot0.cmap)\n",
    "ax[0,1].set(xlabel=r'$t^\\prime$', ylabel=r'$\\Delta \\rho$')\n",
    "ax[0,1].sharey(ax[0,0])\n",
    "\n",
    "histDeltaDensS.plot(ax=ax[1,0], norm=hist_plot0.norm, cmap='PuBuGn')\n",
    "ax[1,0].set(xlabel=r'$\\bar{s}$', ylabel=r'$\\Delta \\rho$')\n",
    "ax[1,0].sharey(ax[0,0])\n",
    "\n",
    "histDeltaDens_Sprime.plot(ax=ax[1,1], norm=hist_plot0.norm, cmap=hist_plot0.cmap)\n",
    "ax[1,1].set(xlabel=r'$s^\\prime$', ylabel=r'$\\Delta \\rho$')\n",
    "ax[1,1].sharey(ax[0,0])\n",
    "\n",
    "plt.show()"
   ]
  },
  {
   "cell_type": "markdown",
   "id": "b49d0209-9463-45b5-b14d-9d54b2dfd220",
   "metadata": {},
   "source": [
    "# 3D Histogram"
   ]
  },
  {
   "cell_type": "code",
   "execution_count": null,
   "id": "4bdc8b48-6f33-4462-8d3d-3a124cac5004",
   "metadata": {},
   "outputs": [],
   "source": [
    "%time histDeltaDensS = histogram(prime.dens[slice_for_filtered_data], dataset_filtered.sst[slice_for_filtered_data], dataset_filtered.sal[slice_for_filtered_data], \\\n",
    "                                 bins=[binsDeltaDens, bins_T, bins_S])"
   ]
  }
 ],
 "metadata": {
  "kernelspec": {
   "display_name": "Python 3 (ipykernel)",
   "language": "python",
   "name": "python3"
  },
  "language_info": {
   "codemirror_mode": {
    "name": "ipython",
    "version": 3
   },
   "file_extension": ".py",
   "mimetype": "text/x-python",
   "name": "python",
   "nbconvert_exporter": "python",
   "pygments_lexer": "ipython3",
   "version": "3.8.10"
  }
 },
 "nbformat": 4,
 "nbformat_minor": 5
}
