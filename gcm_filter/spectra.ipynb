{
 "cells": [
  {
   "cell_type": "code",
   "execution_count": null,
   "id": "5d3b687f-8cc5-4732-be8c-c3f50187e7db",
   "metadata": {},
   "outputs": [],
   "source": [
    "!pip install gcm-filters -q"
   ]
  },
  {
   "cell_type": "code",
   "execution_count": null,
   "id": "83c075ef-864c-4589-8ae6-d57879548c75",
   "metadata": {},
   "outputs": [],
   "source": [
    "!pip install gsw -q"
   ]
  },
  {
   "cell_type": "code",
   "execution_count": null,
   "id": "f98a1971-c315-41cb-8efc-dd43389e9e2e",
   "metadata": {},
   "outputs": [],
   "source": [
    "!pip install numpy_groupies -q"
   ]
  },
  {
   "cell_type": "markdown",
   "id": "d28e2770-df9d-4a7b-91d3-1dad4698a859",
   "metadata": {
    "toc-hr-collapsed": true
   },
   "source": [
    "# Dask start"
   ]
  },
  {
   "cell_type": "code",
   "execution_count": null,
   "id": "dc2a16f5-3295-48aa-88d8-ae42dae54bfc",
   "metadata": {},
   "outputs": [],
   "source": [
    "from dask.distributed import Client\n",
    "\n",
    "client = Client(\"tcp://127.0.0.1:36939\")\n",
    "client"
   ]
  },
  {
   "cell_type": "code",
   "execution_count": null,
   "id": "092e3b1f-a8a6-46c8-aa48-7ccfd807a9e5",
   "metadata": {},
   "outputs": [],
   "source": [
    "from dask.distributed import Client, progress"
   ]
  },
  {
   "cell_type": "markdown",
   "id": "672d0eaf-cb53-4c6e-900a-c18c99f1a71f",
   "metadata": {},
   "source": [
    "# Import"
   ]
  },
  {
   "cell_type": "code",
   "execution_count": null,
   "id": "a83f8372-0598-46ab-a60a-afb86d71fef6",
   "metadata": {},
   "outputs": [],
   "source": [
    "import s3fs\n",
    "import xarray as xr\n",
    "import numpy as np\n",
    "import matplotlib.pyplot as plt\n",
    "import matplotlib.colors as colors\n",
    "import gcm_filters\n",
    "import gsw\n",
    "from xhistogram.xarray import histogram\n",
    "import eos_module\n",
    "from dask import compute\n",
    "from dask.diagnostics import ProgressBar\n",
    "from dask import delayed\n",
    "import xrft_module\n",
    "import pandas as pd\n",
    "import xesmf as xe\n",
    "import cartopy.crs as ccrs"
   ]
  },
  {
   "cell_type": "code",
   "execution_count": null,
   "id": "52661f75-5bb3-44fc-89b1-bdbabb0e1927",
   "metadata": {},
   "outputs": [],
   "source": [
    "# import imp\n",
    "# imp.reload(xrft_module)"
   ]
  },
  {
   "cell_type": "markdown",
   "id": "4de83350-61bf-49b7-becb-4988fb17abc9",
   "metadata": {},
   "source": [
    "# Load data"
   ]
  },
  {
   "cell_type": "markdown",
   "id": "ee8ebb8d-2a0a-4ba0-b213-937807f3d70c",
   "metadata": {},
   "source": [
    "Load Pangeo catalog"
   ]
  },
  {
   "cell_type": "code",
   "execution_count": null,
   "id": "6507d8d4-9e25-4b79-adec-4778869efaca",
   "metadata": {},
   "outputs": [],
   "source": [
    "from validate_catalog import all_params\n",
    "params_dict, cat = all_params()\n",
    "params_dict.keys()"
   ]
  },
  {
   "cell_type": "markdown",
   "id": "924721a8-4a7a-4071-8535-5f3264034593",
   "metadata": {},
   "source": [
    "Winter data:"
   ]
  },
  {
   "cell_type": "code",
   "execution_count": null,
   "id": "01842483-f11f-4d1a-9dcc-4747cef6984b",
   "metadata": {},
   "outputs": [],
   "source": [
    "enatl01w = cat.eNATL60(region='1',datatype='surface_hourly', season='fma').to_dask().chunk({'time_counter':100, 'x' : -1, 'y' : -1})"
   ]
  },
  {
   "cell_type": "markdown",
   "id": "d556c0ce-f263-4c7f-ae72-4671ab92057a",
   "metadata": {},
   "source": [
    "Summer data:"
   ]
  },
  {
   "cell_type": "code",
   "execution_count": null,
   "id": "73b4a39d-c51d-450e-88c4-2ef259642eb3",
   "metadata": {},
   "outputs": [],
   "source": [
    "enatl01s = cat.eNATL60(region='1',datatype='surface_hourly', season='aso').to_dask().chunk({'time_counter':100, 'x' : -1, 'y' : -1})"
   ]
  },
  {
   "cell_type": "code",
   "execution_count": null,
   "id": "967f20ce-bb6d-4b2e-b712-d503a4e023c1",
   "metadata": {},
   "outputs": [],
   "source": [
    "selected_data_set = enatl01s"
   ]
  },
  {
   "cell_type": "code",
   "execution_count": null,
   "id": "f926c307-3a91-4c8f-8f04-55f1eaa2a8b8",
   "metadata": {},
   "outputs": [],
   "source": [
    "selected_data_set"
   ]
  },
  {
   "cell_type": "markdown",
   "id": "b6870430-b82e-4dff-a109-d6d3fa32c188",
   "metadata": {
    "tags": []
   },
   "source": [
    "# Prepare data for filter"
   ]
  },
  {
   "cell_type": "markdown",
   "id": "08f3ef7d-666b-4039-946e-f943ab4ab40d",
   "metadata": {},
   "source": [
    "## Slicing"
   ]
  },
  {
   "cell_type": "code",
   "execution_count": null,
   "id": "e502526d-1ab2-421d-853c-359c464b2993",
   "metadata": {},
   "outputs": [],
   "source": [
    "selected_data_set.time_counter.size"
   ]
  },
  {
   "cell_type": "code",
   "execution_count": null,
   "id": "18f5bfaa-b889-4fa2-a726-7046dcff4391",
   "metadata": {},
   "outputs": [],
   "source": [
    "# x_slice = slice(400,700)\n",
    "# y_slice = slice(500,800)"
   ]
  },
  {
   "cell_type": "code",
   "execution_count": null,
   "id": "53ee0593-6782-426d-a9b9-b9493132d948",
   "metadata": {},
   "outputs": [],
   "source": [
    "x_slice = slice(0,-1)\n",
    "y_slice = slice(0,-1)"
   ]
  },
  {
   "cell_type": "code",
   "execution_count": null,
   "id": "b4aa33bd-3520-4649-9e37-32f05e1407c0",
   "metadata": {},
   "outputs": [],
   "source": [
    "data_slice = dict(time_counter=slice(0,-1),y=y_slice,x=x_slice)"
   ]
  },
  {
   "cell_type": "code",
   "execution_count": null,
   "id": "d96fe918-d49a-4cd0-9c57-3c96d7681900",
   "metadata": {},
   "outputs": [],
   "source": [
    "coord_slice = dict(y=y_slice,x=x_slice)"
   ]
  },
  {
   "cell_type": "code",
   "execution_count": null,
   "id": "21492bc7-4ba7-4ec9-9b51-4680a7bdb83e",
   "metadata": {},
   "outputs": [],
   "source": [
    "fig, ax = plt.subplots(ncols=1, constrained_layout=True, figsize=(5,4), subplot_kw={'projection': ccrs.PlateCarree()})\n",
    "selected_data_set.isel(time_counter=0).sosstsst[coord_slice].plot(x='lon', y='lat', ax=ax)\n",
    "#ax.coastlines()"
   ]
  },
  {
   "cell_type": "markdown",
   "id": "2cf6be6e-986d-40b1-8176-1692a9ac67d8",
   "metadata": {},
   "source": [
    "## Grid"
   ]
  },
  {
   "cell_type": "code",
   "execution_count": null,
   "id": "41f192e3-4544-4c17-983c-add0372fd231",
   "metadata": {},
   "outputs": [],
   "source": [
    "area = xr.DataArray((selected_data_set.e1t[coord_slice] * selected_data_set.e2t[coord_slice]), dims=['y','x'],\n",
    "                   coords={'y':np.arange(len(selected_data_set.y[y_slice])),\n",
    "                           'x':np.arange(len(selected_data_set.x[x_slice]))}\n",
    "                  ).load()\n",
    "# area.plot()"
   ]
  },
  {
   "cell_type": "markdown",
   "id": "1235a93e-fe4a-40f4-af2f-9a1c1971773d",
   "metadata": {},
   "source": [
    "Spacings:"
   ]
  },
  {
   "cell_type": "code",
   "execution_count": null,
   "id": "f8e9e33c-619c-4bef-a8c6-9d8e5e68bb3b",
   "metadata": {},
   "outputs": [],
   "source": [
    "dxw = xr.DataArray(selected_data_set.e1u[coord_slice], dims=['y','x'],\n",
    "                   coords={'y':np.arange(len(selected_data_set.y[y_slice])),\n",
    "                           'x':np.arange(len(selected_data_set.x[x_slice]))}\n",
    "                  ).load() # x-spacing centered at western cell edge\n",
    "\n",
    "dyw = xr.DataArray(selected_data_set.e2u[coord_slice], dims=['y','x'],\n",
    "                   coords={'y':np.arange(len(selected_data_set.y[y_slice])),\n",
    "                           'x':np.arange(len(selected_data_set.x[x_slice]))}\n",
    "                  ).load() # y-spacing centered at western cell edge\n",
    "\n",
    "dxs = xr.DataArray(selected_data_set.e1v[coord_slice], dims=['y','x'],\n",
    "                   coords={'y':np.arange(len(selected_data_set.y[y_slice])),\n",
    "                           'x':np.arange(len(selected_data_set.x[x_slice]))}\n",
    "                  ).load() # x-spacing centered at southern cell edge\n",
    "\n",
    "dys = xr.DataArray(selected_data_set.e2v[coord_slice], dims=['y','x'],\n",
    "                   coords={'y':np.arange(len(selected_data_set.y[y_slice])),\n",
    "                           'x':np.arange(len(selected_data_set.x[x_slice]))}\n",
    "                  ).load() # y-spacing centered at southern cell edge"
   ]
  },
  {
   "cell_type": "code",
   "execution_count": null,
   "id": "82a50e04-23d9-4e4d-b3db-7889a3c1df20",
   "metadata": {},
   "outputs": [],
   "source": [
    "dx_min = min(dxw.min(),dyw.min(),dxs.min(),dys.min())\n",
    "dx_min = dx_min.values\n",
    "dx_min"
   ]
  },
  {
   "cell_type": "markdown",
   "id": "80aabb48-73ee-4974-9e9d-a0df4af9a7ab",
   "metadata": {},
   "source": [
    "Diffusivities for thefilter in the east-west and north-south directions"
   ]
  },
  {
   "cell_type": "code",
   "execution_count": null,
   "id": "92a08efb-a916-4414-8dfa-e2d92137fadd",
   "metadata": {},
   "outputs": [],
   "source": [
    "kappa_w = xr.ones_like(dxw)\n",
    "kappa_s = xr.ones_like(dxw)"
   ]
  },
  {
   "cell_type": "markdown",
   "id": "aae69d1d-5461-401b-a3c2-35b27cbf5323",
   "metadata": {},
   "source": [
    "## Mask"
   ]
  },
  {
   "cell_type": "code",
   "execution_count": null,
   "id": "d962074c-450c-4251-a9dd-f96e81596fac",
   "metadata": {},
   "outputs": [],
   "source": [
    "wet_mask = xr.DataArray(selected_data_set.umask[coord_slice],\n",
    "                        dims=['y','x'],\n",
    "                        coords={'y':np.arange(len(selected_data_set.y[y_slice])),\n",
    "                           'x':np.arange(len(selected_data_set.x[x_slice]))}).load()"
   ]
  },
  {
   "cell_type": "code",
   "execution_count": null,
   "id": "4685536b-2789-4cf4-9b17-7723af20a8ba",
   "metadata": {},
   "outputs": [],
   "source": [
    "wet_mask.plot()"
   ]
  },
  {
   "cell_type": "markdown",
   "id": "3f79f3c7-dbd1-4d18-8ef2-0ce8c226dea5",
   "metadata": {},
   "source": [
    "## High-resolution dataset"
   ]
  },
  {
   "cell_type": "code",
   "execution_count": null,
   "id": "2a5a47c2-1139-4f59-ba89-a12cafc6c8e1",
   "metadata": {},
   "outputs": [],
   "source": [
    "dataHR = xr.Dataset({\"sst\" : selected_data_set.sosstsst[data_slice],\n",
    "                     \"sal\" : selected_data_set.sosaline[data_slice],\n",
    "                     \"wet_mask\" : wet_mask},\n",
    "                    coords=selected_data_set[data_slice].coords)"
   ]
  },
  {
   "cell_type": "markdown",
   "id": "b480d00b-c95f-410f-b404-cfcfe8f5715b",
   "metadata": {
    "toc-hr-collapsed": true
   },
   "source": [
    "# Filter"
   ]
  },
  {
   "cell_type": "markdown",
   "id": "4471e53e-323a-47a8-8911-cb7e7e9f6c08",
   "metadata": {},
   "source": [
    "## Define filter"
   ]
  },
  {
   "cell_type": "markdown",
   "id": "8ca4f29a-c988-42c4-85fd-0ec0444f40f2",
   "metadata": {},
   "source": [
    "Parameters (to determine) :"
   ]
  },
  {
   "cell_type": "code",
   "execution_count": null,
   "id": "7327b09f-2c13-4ded-add6-d9c4cd2c14de",
   "metadata": {},
   "outputs": [],
   "source": [
    "filter_scale = 30000"
   ]
  },
  {
   "cell_type": "code",
   "execution_count": null,
   "id": "60fa049d-d07b-43ba-b280-49054f84043b",
   "metadata": {},
   "outputs": [],
   "source": [
    "gaussian_filter = gcm_filters.Filter(\n",
    "    filter_scale=filter_scale,    \n",
    "    dx_min=dx_min,\n",
    "    filter_shape=gcm_filters.FilterShape.GAUSSIAN,\n",
    "    grid_type=gcm_filters.GridType.IRREGULAR_WITH_LAND,\n",
    "    grid_vars={\n",
    "        'wet_mask': wet_mask, \n",
    "        'dxw': dxw, 'dyw': dyw, 'dxs': dxs, 'dys': dys, 'area': area, \n",
    "        'kappa_w': kappa_w, 'kappa_s': kappa_s\n",
    "    }\n",
    ")"
   ]
  },
  {
   "cell_type": "markdown",
   "id": "4d90cd31-6d58-4138-b28d-810bbd2f71b0",
   "metadata": {},
   "source": [
    "## Apply filter to data"
   ]
  },
  {
   "cell_type": "code",
   "execution_count": null,
   "id": "112e0b12-eaab-47bc-9f0c-e545b1a25e83",
   "metadata": {},
   "outputs": [],
   "source": [
    "# intermediate dataset: HR data + filtering (result has still the spatial resoltion if HR data)\n",
    "data_filtered = xr.Dataset({}, coords=selected_data_set[data_slice].coords)"
   ]
  },
  {
   "cell_type": "markdown",
   "id": "87eeed1e-62c1-4f62-8d29-48c9a626e633",
   "metadata": {},
   "source": [
    "\"Lazy\" filter execution with Dask"
   ]
  },
  {
   "cell_type": "code",
   "execution_count": null,
   "id": "b235b4d9-7b06-47da-83e9-a19d54119d29",
   "metadata": {},
   "outputs": [],
   "source": [
    "data_filtered[\"sst\"] = gaussian_filter.apply(dataHR.sst, dims=['y', 'x'])\n",
    "data_filtered[\"sal\"] = gaussian_filter.apply(dataHR.sal, dims=['y', 'x'])"
   ]
  },
  {
   "cell_type": "markdown",
   "id": "d1605023-927d-4e25-a3f9-b758d77c3c74",
   "metadata": {},
   "source": [
    "# Spatial coarsening (downsampling)"
   ]
  },
  {
   "cell_type": "code",
   "execution_count": null,
   "id": "659c7e97-2e2a-4f45-a395-83027aa53729",
   "metadata": {},
   "outputs": [],
   "source": [
    "coarsen_window_size=12"
   ]
  },
  {
   "cell_type": "code",
   "execution_count": null,
   "id": "eb28c38c-1992-4d3d-a967-dc40e42448ad",
   "metadata": {},
   "outputs": [],
   "source": [
    "# def downsample(data, window_size) :\n",
    "#     return data.coarsen(x=window_size, boundary='pad').mean().coarsen(y=window_size,boundary='pad').mean()*\n",
    "def downsample(data, window_size, area_2d, wet_mask) :\n",
    "    area_masked = area_2d*wet_mask\n",
    "    data_weighted = area_masked*data\n",
    "    data_weighted_sums = data_weighted.coarsen(x=coarsen_window_size, y=coarsen_window_size, boundary='trim', \\\n",
    "                                           coord_func={'x':'mean', 'y':'mean', 'lat':'mean', 'lon':'mean','e1t':'sum', 'e2t':'sum'}).sum(skipna=False)\n",
    "    area_window_sums = area_masked.coarsen(x=coarsen_window_size, y=coarsen_window_size, boundary='trim').sum(skipna=False)\n",
    "    result = data_weighted_sums/area_window_sums\n",
    "    result['x'] = np.arange(len(result['x']))\n",
    "    result['y'] = np.arange(len(result['y']))\n",
    "    \n",
    "    # coarsened coordinates:\n",
    "    new_e1t = data['e1t'].coarsen(x=coarsen_window_size,boundary='trim', coord_func={'x':'sum', 'y':'sum','e1t':'sum', 'e2t':'sum'}).mean(skipna=False).coarsen(y=coarsen_window_size, boundary='trim', coord_func={'x':'sum', 'y':'sum','e1t':'sum', 'e2t':'sum'}).sum(skipna=False).\\\n",
    "drop(['depth', 'e1f', 'e1t', 'e1u', 'e1v', 'e2f', 'e2t', 'e2u', 'e2v', 'lat', 'lon', 'nav_lat', 'nav_lon'])\n",
    "    new_e2t = data['e2t'].coarsen(x=coarsen_window_size,boundary='trim', coord_func={'x':'sum', 'y':'sum','e1t':'sum', 'e2t':'sum'}).mean(skipna=False).coarsen(y=coarsen_window_size, boundary='trim', coord_func={'x':'sum', 'y':'sum','e1t':'sum', 'e2t':'sum'}).sum(skipna=False).\\\n",
    "drop(['depth', 'e1f', 'e1t', 'e1u', 'e1v', 'e2f', 'e2t', 'e2u', 'e2v', 'lat', 'lon', 'nav_lat', 'nav_lon'])\n",
    "    result['e1t'] = (['y','x'], new_e1t.values) \n",
    "    result['e2t'] = (['y','x'], new_e2t.values) \n",
    "    return result"
   ]
  },
  {
   "cell_type": "code",
   "execution_count": null,
   "id": "1e8a249c-9558-4d1f-ab87-c2978982323b",
   "metadata": {
    "tags": []
   },
   "outputs": [],
   "source": [
    "dataLR = downsample(data_filtered, coarsen_window_size, area, wet_mask)"
   ]
  },
  {
   "cell_type": "code",
   "execution_count": null,
   "id": "c097fb86-d025-4152-9542-9c3a4d70a7e4",
   "metadata": {},
   "outputs": [],
   "source": [
    "dataHR_ds = downsample(dataHR, coarsen_window_size, area, wet_mask)"
   ]
  },
  {
   "cell_type": "code",
   "execution_count": null,
   "id": "5fe1ca15-58cd-4af0-ae3c-8c0e49f65d14",
   "metadata": {},
   "outputs": [],
   "source": [
    "# choose the index of time_counter for 2D spatial plots\n",
    "it = [0]"
   ]
  },
  {
   "cell_type": "code",
   "execution_count": null,
   "id": "314b16bd-0856-4af5-8607-95bface22d61",
   "metadata": {},
   "outputs": [],
   "source": [
    "fig, ax = plt.subplots(ncols=4, constrained_layout=True, figsize=(18,4))\n",
    "fig.suptitle('Temperature')\n",
    "(dataHR.isel(time_counter=it)).sst.plot(ax=ax[0],x='lon', y='lat')\n",
    "ax[0].set(title=r'Unfiltered')\n",
    "(data_filtered.isel(time_counter=it)).sst.plot(ax=ax[1],x='lon', y='lat')\n",
    "#ax[1].pcolormesh(dataset_filtered.lon, dataset_filtered.lat, dataset_filtered.sst.compute())\n",
    "ax[1].set(title=r'Filtered')\n",
    "(dataHR_ds.isel(time_counter=it)).sst.plot(ax=ax[2],x='lon', y='lat')\n",
    "ax[2].set(title=r'Coarsened')\n",
    "(dataLR.isel(time_counter=it)).sst.plot(ax=ax[3], x='lon', y='lat')\n",
    "ax[3].set(title=r'Filtered + Coarsened')\n",
    "plt.show()"
   ]
  },
  {
   "cell_type": "markdown",
   "id": "bae291b1-4414-41e5-a4bb-9a78f12f123f",
   "metadata": {},
   "source": [
    "## ReGridder"
   ]
  },
  {
   "cell_type": "code",
   "execution_count": null,
   "id": "3746b384-263a-4b12-b436-2df9f895183a",
   "metadata": {},
   "outputs": [],
   "source": [
    "#.where((ds.nav_lon < -68) & (ds.nav_lon > -78) & (ds.nav_lat < 40) & (ds.nav_lat > 30), drop=True)"
   ]
  },
  {
   "cell_type": "code",
   "execution_count": null,
   "id": "ece3f35f-f10e-45e6-a423-c2f7675f7379",
   "metadata": {},
   "outputs": [],
   "source": [
    "data_regrid = xe.util.grid_global(0.25, 0.25)\n",
    "data_regrid  # contains lat/lon values of cell centers and boundaries."
   ]
  },
  {
   "cell_type": "code",
   "execution_count": null,
   "id": "9f77eb9d-2623-4fd2-8eec-d9cbd0e1e47c",
   "metadata": {},
   "outputs": [],
   "source": [
    "regridder = xe.Regridder(dataHR, data_regrid, \"bilinear\")\n",
    "data_regrid = regridder(dataHR)"
   ]
  },
  {
   "cell_type": "code",
   "execution_count": null,
   "id": "22a7c86a-6e52-4e7d-bd9a-4d6ba178f4e5",
   "metadata": {},
   "outputs": [],
   "source": [
    "data_regrid = data_regrid.where((data_regrid.lon < -68) & (data_regrid.lon > -78) & (data_regrid.lat < 39) & (data_regrid.lat > 30), drop=True)"
   ]
  },
  {
   "cell_type": "code",
   "execution_count": null,
   "id": "1440495e-a4b3-4deb-ad71-7e9f2f49e83b",
   "metadata": {},
   "outputs": [],
   "source": [
    "data_regrid.isel(time_counter=it).sst.plot()"
   ]
  },
  {
   "cell_type": "markdown",
   "id": "15022a6a-cb01-4170-a3ef-f96f44fa2a91",
   "metadata": {},
   "source": [
    "# Spatial spectra"
   ]
  },
  {
   "cell_type": "markdown",
   "id": "63e92ef3-9ffb-4574-b305-43881debc573",
   "metadata": {},
   "source": [
    "## Interpolation on a spatially uniform grid "
   ]
  },
  {
   "cell_type": "code",
   "execution_count": null,
   "id": "2c77b988-ba90-4c3c-b94a-f8c0b316ff99",
   "metadata": {},
   "outputs": [],
   "source": [
    "def uniform_grid_interpolation(data) :\n",
    "    # first fill in nans\n",
    "    data_filled_nans = data.interpolate_na(dim=\"x\", method=\"linear\")\n",
    "    data_filled_nans = data_filled_nans.interpolate_na(dim=\"y\", method=\"linear\")\n",
    "    data_filled_nans = data_filled_nans.interpolate_na(dim=\"x\", method=\"nearest\", fill_value=\"extrapolate\")\n",
    "    \n",
    "    # transform coordinates to uniform spacings\n",
    "    delta_x_min_m = data['e1t'].min().values\n",
    "    delta_y_min_m = data['e2t'].min().values\n",
    "    delta_min = np.min([delta_x_min_m, delta_y_min_m])\n",
    "    new_x = np.cumsum(delta_min/data['e1t'], axis=1)\n",
    "    new_y = np.cumsum(delta_min/data['e2t'], axis=0)\n",
    "    interpolated_field = data_filled_nans.interp(x=new_x, y=new_y).\\\n",
    "drop(['depth', 'e1f', 'e1t', 'e1u', 'e1v', 'e2f', 'e2t', 'e2u', 'e2v', 'lat', 'lon', 'nav_lat', 'nav_lon'])\n",
    "    interpolated_field.attrs['delta_min'] = delta_min\n",
    "    return interpolated_field"
   ]
  },
  {
   "cell_type": "code",
   "execution_count": null,
   "id": "1f0c3378-399e-410d-8ff9-598b67f12a11",
   "metadata": {},
   "outputs": [],
   "source": [
    "fig, ax = plt.subplots(ncols=2, constrained_layout=True, figsize=(10,4))\n",
    "(dataLR.isel(time_counter=it)).sst.plot(ax=ax[0])\n",
    "(uniform_grid_interpolation(dataLR).isel(time_counter=it)).sst.plot(ax=ax[1])\n",
    "ax[0].set(title='Original filtered data')\n",
    "ax[1].set(title='Interpolated and filled data')\n",
    "plt.show()"
   ]
  },
  {
   "cell_type": "code",
   "execution_count": null,
   "id": "8342cbad-3256-47a7-8a66-223885985383",
   "metadata": {},
   "outputs": [],
   "source": [
    "dataLR"
   ]
  },
  {
   "cell_type": "markdown",
   "id": "e54ea3f8-d50f-4cfd-a2e3-18052811d678",
   "metadata": {},
   "source": [
    "## Isotropic power spectra"
   ]
  },
  {
   "cell_type": "code",
   "execution_count": null,
   "id": "6f10fe93-ee37-4e5d-b527-941cf4fe709e",
   "metadata": {},
   "outputs": [],
   "source": [
    "def wrapper_xrtf_isotropic_PS(data, variable, binning_factor=4) :\n",
    "    interpolated_data = uniform_grid_interpolation(data[variable])\n",
    "    isotropic_power_spec = xrft_module.isotropic_power_spectrum(interpolated_data, dim=['x','y'], detrend='linear',scaling=\"spectrum\", nfactor=4, truncate=True)\n",
    "    Nmin = min([len(data['x']), len(data['y'])])\n",
    "    isotropic_power_spec.coords['wavenumber'] = ('freq_r', isotropic_power_spec['freq_r']/(Nmin*interpolated_data.attrs['delta_min']*0.001))\n",
    "    return isotropic_power_spec.rename('Spatial spectrum')"
   ]
  },
  {
   "cell_type": "code",
   "execution_count": null,
   "id": "3c924c61-9674-488f-96c5-0c9b58895179",
   "metadata": {},
   "outputs": [],
   "source": [
    "# spec_temp_variance_HR = wrapper_xrtf_isotropic_PS(dataHR, 'sst', binning_factor = 4)\n",
    "# %time mean_spec_temp_variance_HR = spec_temp_variance_HR.mean(dim='time_counter').compute()"
   ]
  },
  {
   "cell_type": "code",
   "execution_count": null,
   "id": "3457296c-51ec-4753-8586-e213c947099f",
   "metadata": {},
   "outputs": [],
   "source": [
    "# spec_temp_variance_filtered = wrapper_xrtf_isotropic_PS(data_filtered, 'sst', binning_factor = 4)\n",
    "# %time mean_spec_temp_variance_filtered = spec_temp_variance_filtered.mean(dim='time_counter').compute()"
   ]
  },
  {
   "cell_type": "code",
   "execution_count": null,
   "id": "2c06c86a-e409-4a32-b312-c7f5a53a2557",
   "metadata": {},
   "outputs": [],
   "source": [
    "# spec_temp_variance_LR = wrapper_xrtf_isotropic_PS(dataLR, 'sst', binning_factor = 2)\n",
    "# %time mean_spec_temp_variance_LR = spec_temp_variance_LR.mean(dim='time_counter').compute()"
   ]
  },
  {
   "cell_type": "code",
   "execution_count": null,
   "id": "0df0cbb6-7942-445a-a8dc-cb53aca4d4f1",
   "metadata": {},
   "outputs": [],
   "source": [
    "spec_temp_variance_HR_ds = wrapper_xrtf_isotropic_PS(dataHR_ds, 'sst', binning_factor = 2)\n",
    "%time mean_spec_temp_variance_HR_ds = spec_temp_variance_HR_ds.mean(dim='time_counter').compute()"
   ]
  },
  {
   "cell_type": "code",
   "execution_count": null,
   "id": "0f450986-1645-4776-b4ea-edff09358673",
   "metadata": {},
   "outputs": [],
   "source": [
    "# mean_spec_temp_variance_LR.to_netcdf(\"Data/region1_filter_30km_coarse_12/mean_spec_temp_variance_LR_summer.nc\")\n",
    "# mean_spec_temp_variance_filtered.to_netcdf(\"Data/region1_filter_30km_coarse_12/mean_spec_temp_variance_filtered_summer.nc\")\n",
    "# mean_spec_temp_variance_HR.to_netcdf(\"Data/region1_filter_30km_coarse_12/mean_spec_temp_variance_HR_summer.nc\")\n",
    "mean_spec_temp_variance_HR_ds.to_netcdf(\"Data/region1_filter_30km_coarse_12/mean_spec_temp_variance_HR_ds_summer.nc\")"
   ]
  },
  {
   "cell_type": "code",
   "execution_count": null,
   "id": "03e2e225-3ec8-4bad-a53d-d6a7336f5cfe",
   "metadata": {},
   "outputs": [],
   "source": [
    "fig, ax = plt.subplots(ncols=1, constrained_layout=True, figsize=(5,4))\n",
    "mean_spec_temp_variance_HR.plot(x='wavenumber', ax=ax, ls='-', marker='', label='HR')\n",
    "mean_spec_temp_variance_filtered.plot(x='wavenumber', ax=ax, ls='-', marker='', label='Filtered')\n",
    "mean_spec_temp_variance_LR.plot(x='wavenumber', ax=ax, ls='-', marker='', label='LR')\n",
    "ax.plot(mean_spec_temp_variance_HR['wavenumber'], 5e-6*mean_spec_temp_variance_HR['wavenumber']**(-2),ls='--', label=r'$k^{-2}$')\n",
    "ax.set(yscale='log', xscale='log', ylabel='Temperature variance')\n",
    "ax.grid(True)\n",
    "ax.legend()\n",
    "plt.show()"
   ]
  },
  {
   "cell_type": "code",
   "execution_count": null,
   "id": "4e87bfc9-655a-4cea-90eb-bc085b346f59",
   "metadata": {},
   "outputs": [],
   "source": []
  },
  {
   "cell_type": "code",
   "execution_count": null,
   "id": "8da68181-c6dd-4e48-866d-3857a70bdb17",
   "metadata": {},
   "outputs": [],
   "source": []
  }
 ],
 "metadata": {
  "kernelspec": {
   "display_name": "Python 3 (ipykernel)",
   "language": "python",
   "name": "python3"
  },
  "language_info": {
   "codemirror_mode": {
    "name": "ipython",
    "version": 3
   },
   "file_extension": ".py",
   "mimetype": "text/x-python",
   "name": "python",
   "nbconvert_exporter": "python",
   "pygments_lexer": "ipython3",
   "version": "3.8.10"
  }
 },
 "nbformat": 4,
 "nbformat_minor": 5
}
