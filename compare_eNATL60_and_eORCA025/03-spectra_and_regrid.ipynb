{
 "cells": [
  {
   "cell_type": "code",
   "execution_count": 1,
   "id": "87df471b-e157-48e1-b231-aae81463c3a2",
   "metadata": {},
   "outputs": [],
   "source": [
    "!pip install gcm-filters -q"
   ]
  },
  {
   "cell_type": "code",
   "execution_count": 2,
   "id": "8a7c9b5d-a583-48c4-b07b-a4d46fc19fad",
   "metadata": {},
   "outputs": [],
   "source": [
    "!pip install gsw -q"
   ]
  },
  {
   "cell_type": "code",
   "execution_count": 3,
   "id": "f0c5d5ce-a65b-49b8-86c0-a56e326b0242",
   "metadata": {},
   "outputs": [],
   "source": [
    "!pip install numpy_groupies -q"
   ]
  },
  {
   "cell_type": "code",
   "execution_count": 4,
   "id": "4fa341db-9780-4321-83c3-7b4db5eb9b03",
   "metadata": {},
   "outputs": [],
   "source": [
    "!pip install xrft --upgrade -q"
   ]
  },
  {
   "cell_type": "markdown",
   "id": "1dc4927b-f975-42d1-b110-dc54ec1c0431",
   "metadata": {
    "tags": [],
    "toc-hr-collapsed": true
   },
   "source": [
    "# Dask start"
   ]
  },
  {
   "cell_type": "code",
   "execution_count": 5,
   "id": "a3b867ab-6dc2-4a94-a335-9eb0ad264c05",
   "metadata": {},
   "outputs": [
    {
     "data": {
      "text/html": [
       "\n",
       "            <div>\n",
       "                <div style=\"\n",
       "                    width: 24px;\n",
       "                    height: 24px;\n",
       "                    background-color: #e1e1e1;\n",
       "                    border: 3px solid #9D9D9D;\n",
       "                    border-radius: 5px;\n",
       "                    position: absolute;\"> </div>\n",
       "                <div style=\"margin-left: 48px;\">\n",
       "                    <h3 style=\"margin-bottom: 0px;\">Client</h3>\n",
       "                    <p style=\"color: #9D9D9D; margin-bottom: 0px;\">Client-22520c90-d051-11ec-89e5-06c54edc6caa</p>\n",
       "                    <table style=\"width: 100%; text-align: left;\">\n",
       "                    \n",
       "                <tr>\n",
       "                    <td style=\"text-align: left;\"><strong>Connection method:</strong> Direct</td>\n",
       "                    <td style=\"text-align: left;\"></td>\n",
       "                </tr>\n",
       "                \n",
       "                <tr>\n",
       "                    <td style=\"text-align: left;\">\n",
       "                        <strong>Dashboard: </strong>\n",
       "                        <a href=\"http://127.0.0.1:8787/status\">http://127.0.0.1:8787/status</a>\n",
       "                    </td>\n",
       "                    <td style=\"text-align: left;\"></td>\n",
       "                </tr>\n",
       "                \n",
       "                    </table>\n",
       "                    \n",
       "                <details>\n",
       "                <summary style=\"margin-bottom: 20px;\"><h3 style=\"display: inline;\">Scheduler Info</h3></summary>\n",
       "                \n",
       "        <div style=\"\">\n",
       "            \n",
       "            <div>\n",
       "                <div style=\"\n",
       "                    width: 24px;\n",
       "                    height: 24px;\n",
       "                    background-color: #FFF7E5;\n",
       "                    border: 3px solid #FF6132;\n",
       "                    border-radius: 5px;\n",
       "                    position: absolute;\"> </div>\n",
       "                <div style=\"margin-left: 48px;\">\n",
       "                    <h3 style=\"margin-bottom: 0px;\">Scheduler</h3>\n",
       "                    <p style=\"color: #9D9D9D; margin-bottom: 0px;\">Scheduler-8d7e5e92-1cbe-4a4b-81a0-ef76ebd39044</p>\n",
       "                    <table style=\"width: 100%; text-align: left;\">\n",
       "                        <tr>\n",
       "                            <td style=\"text-align: left;\"><strong>Comm:</strong> tcp://127.0.0.1:35643</td>\n",
       "                            <td style=\"text-align: left;\"><strong>Workers:</strong> 4</td>\n",
       "                        </tr>\n",
       "                        <tr>\n",
       "                            <td style=\"text-align: left;\">\n",
       "                                <strong>Dashboard:</strong> <a href=\"http://127.0.0.1:8787/status\">http://127.0.0.1:8787/status</a>\n",
       "                            </td>\n",
       "                            <td style=\"text-align: left;\">\n",
       "                                <strong>Total threads:</strong>\n",
       "                                8\n",
       "                            </td>\n",
       "                        </tr>\n",
       "                        <tr>\n",
       "                            <td style=\"text-align: left;\">\n",
       "                                <strong>Started:</strong>\n",
       "                                4 hours ago\n",
       "                            </td>\n",
       "                            <td style=\"text-align: left;\">\n",
       "                                <strong>Total memory:</strong>\n",
       "                                29.40 GiB\n",
       "                            </td>\n",
       "                        </tr>\n",
       "                    </table>\n",
       "                </div>\n",
       "            </div>\n",
       "        \n",
       "            <details style=\"margin-left: 48px;\">\n",
       "            <summary style=\"margin-bottom: 20px;\"><h3 style=\"display: inline;\">Workers</h3></summary>\n",
       "            \n",
       "            <div style=\"margin-bottom: 20px;\">\n",
       "                <div style=\"width: 24px;\n",
       "                            height: 24px;\n",
       "                            background-color: #DBF5FF;\n",
       "                            border: 3px solid #4CC9FF;\n",
       "                            border-radius: 5px;\n",
       "                            position: absolute;\"> </div>\n",
       "                <div style=\"margin-left: 48px;\">\n",
       "                <details>\n",
       "                    <summary>\n",
       "                        <h4 style=\"margin-bottom: 0px; display: inline;\">Worker: 0</h4>\n",
       "                    </summary>\n",
       "                    <table style=\"width: 100%; text-align: left;\">\n",
       "                        <tr>\n",
       "                            <td style=\"text-align: left;\"><strong>Comm: </strong> tcp://127.0.0.1:38289</td>\n",
       "                            <td style=\"text-align: left;\"><strong>Total threads: </strong> 2</td>\n",
       "                        </tr>\n",
       "                        <tr>\n",
       "                            <td style=\"text-align: left;\">\n",
       "                                <strong>Dashboard: </strong>\n",
       "                                <a href=\"http://127.0.0.1:39439/status\">http://127.0.0.1:39439/status</a>\n",
       "                            </td>\n",
       "                            <td style=\"text-align: left;\">\n",
       "                                <strong>Memory: </strong>\n",
       "                                7.35 GiB\n",
       "                            </td>\n",
       "                        </tr>\n",
       "                        <tr>\n",
       "                            <td style=\"text-align: left;\"><strong>Nanny: </strong> tcp://127.0.0.1:39347</td>\n",
       "                            <td style=\"text-align: left;\"></td>\n",
       "                        </tr>\n",
       "                        <tr>\n",
       "                            <td colspan=\"2\" style=\"text-align: left;\">\n",
       "                                <strong>Local directory: </strong>\n",
       "                                /home/jovyan/dask-worker-space/worker-sjxvol3q\n",
       "                            </td>\n",
       "                        </tr>\n",
       "                        \n",
       "                        \n",
       "                <tr>\n",
       "                    <td style=\"text-align: left;\">\n",
       "                        <strong>Tasks executing: </strong> 0\n",
       "                    </td>\n",
       "                    <td style=\"text-align: left;\">\n",
       "                        <strong>Tasks in memory: </strong> 0\n",
       "                    </td>\n",
       "                </tr>\n",
       "                <tr>\n",
       "                    <td style=\"text-align: left;\">\n",
       "                        <strong>Tasks ready: </strong> 0\n",
       "                    </td>\n",
       "                    <td style=\"text-align: left;\">\n",
       "                        <strong>Tasks in flight: </strong>0\n",
       "                    </td>\n",
       "                </tr>\n",
       "                <tr>\n",
       "                    <td style=\"text-align: left;\"><strong>CPU usage:</strong> 2.0%</td>\n",
       "                    <td style=\"text-align: left;\">\n",
       "                        <strong>Last seen: </strong>\n",
       "                        Just now\n",
       "                    </td>\n",
       "                </tr>\n",
       "                <tr>\n",
       "                    <td style=\"text-align: left;\">\n",
       "                        <strong>Memory usage: </strong>\n",
       "                        828.05 MiB\n",
       "                    </td>\n",
       "                    <td style=\"text-align: left;\">\n",
       "                        <strong>Spilled bytes: </strong>\n",
       "                        0 B\n",
       "                    </td>\n",
       "                </tr>\n",
       "                <tr>\n",
       "                    <td style=\"text-align: left;\">\n",
       "                        <strong>Read bytes: </strong>\n",
       "                        20.57 kiB\n",
       "                    </td>\n",
       "                    <td style=\"text-align: left;\">\n",
       "                        <strong>Write bytes: </strong>\n",
       "                        24.63 kiB\n",
       "                    </td>\n",
       "                </tr>\n",
       "                \n",
       "                    </table>\n",
       "                </details>\n",
       "                </div>\n",
       "            </div>\n",
       "            \n",
       "            <div style=\"margin-bottom: 20px;\">\n",
       "                <div style=\"width: 24px;\n",
       "                            height: 24px;\n",
       "                            background-color: #DBF5FF;\n",
       "                            border: 3px solid #4CC9FF;\n",
       "                            border-radius: 5px;\n",
       "                            position: absolute;\"> </div>\n",
       "                <div style=\"margin-left: 48px;\">\n",
       "                <details>\n",
       "                    <summary>\n",
       "                        <h4 style=\"margin-bottom: 0px; display: inline;\">Worker: 1</h4>\n",
       "                    </summary>\n",
       "                    <table style=\"width: 100%; text-align: left;\">\n",
       "                        <tr>\n",
       "                            <td style=\"text-align: left;\"><strong>Comm: </strong> tcp://127.0.0.1:38519</td>\n",
       "                            <td style=\"text-align: left;\"><strong>Total threads: </strong> 2</td>\n",
       "                        </tr>\n",
       "                        <tr>\n",
       "                            <td style=\"text-align: left;\">\n",
       "                                <strong>Dashboard: </strong>\n",
       "                                <a href=\"http://127.0.0.1:35569/status\">http://127.0.0.1:35569/status</a>\n",
       "                            </td>\n",
       "                            <td style=\"text-align: left;\">\n",
       "                                <strong>Memory: </strong>\n",
       "                                7.35 GiB\n",
       "                            </td>\n",
       "                        </tr>\n",
       "                        <tr>\n",
       "                            <td style=\"text-align: left;\"><strong>Nanny: </strong> tcp://127.0.0.1:38695</td>\n",
       "                            <td style=\"text-align: left;\"></td>\n",
       "                        </tr>\n",
       "                        <tr>\n",
       "                            <td colspan=\"2\" style=\"text-align: left;\">\n",
       "                                <strong>Local directory: </strong>\n",
       "                                /home/jovyan/dask-worker-space/worker-1qp75ft0\n",
       "                            </td>\n",
       "                        </tr>\n",
       "                        \n",
       "                        \n",
       "                <tr>\n",
       "                    <td style=\"text-align: left;\">\n",
       "                        <strong>Tasks executing: </strong> 0\n",
       "                    </td>\n",
       "                    <td style=\"text-align: left;\">\n",
       "                        <strong>Tasks in memory: </strong> 0\n",
       "                    </td>\n",
       "                </tr>\n",
       "                <tr>\n",
       "                    <td style=\"text-align: left;\">\n",
       "                        <strong>Tasks ready: </strong> 0\n",
       "                    </td>\n",
       "                    <td style=\"text-align: left;\">\n",
       "                        <strong>Tasks in flight: </strong>0\n",
       "                    </td>\n",
       "                </tr>\n",
       "                <tr>\n",
       "                    <td style=\"text-align: left;\"><strong>CPU usage:</strong> 2.0%</td>\n",
       "                    <td style=\"text-align: left;\">\n",
       "                        <strong>Last seen: </strong>\n",
       "                        Just now\n",
       "                    </td>\n",
       "                </tr>\n",
       "                <tr>\n",
       "                    <td style=\"text-align: left;\">\n",
       "                        <strong>Memory usage: </strong>\n",
       "                        832.77 MiB\n",
       "                    </td>\n",
       "                    <td style=\"text-align: left;\">\n",
       "                        <strong>Spilled bytes: </strong>\n",
       "                        0 B\n",
       "                    </td>\n",
       "                </tr>\n",
       "                <tr>\n",
       "                    <td style=\"text-align: left;\">\n",
       "                        <strong>Read bytes: </strong>\n",
       "                        20.57 kiB\n",
       "                    </td>\n",
       "                    <td style=\"text-align: left;\">\n",
       "                        <strong>Write bytes: </strong>\n",
       "                        24.62 kiB\n",
       "                    </td>\n",
       "                </tr>\n",
       "                \n",
       "                    </table>\n",
       "                </details>\n",
       "                </div>\n",
       "            </div>\n",
       "            \n",
       "            <div style=\"margin-bottom: 20px;\">\n",
       "                <div style=\"width: 24px;\n",
       "                            height: 24px;\n",
       "                            background-color: #DBF5FF;\n",
       "                            border: 3px solid #4CC9FF;\n",
       "                            border-radius: 5px;\n",
       "                            position: absolute;\"> </div>\n",
       "                <div style=\"margin-left: 48px;\">\n",
       "                <details>\n",
       "                    <summary>\n",
       "                        <h4 style=\"margin-bottom: 0px; display: inline;\">Worker: 2</h4>\n",
       "                    </summary>\n",
       "                    <table style=\"width: 100%; text-align: left;\">\n",
       "                        <tr>\n",
       "                            <td style=\"text-align: left;\"><strong>Comm: </strong> tcp://127.0.0.1:39641</td>\n",
       "                            <td style=\"text-align: left;\"><strong>Total threads: </strong> 2</td>\n",
       "                        </tr>\n",
       "                        <tr>\n",
       "                            <td style=\"text-align: left;\">\n",
       "                                <strong>Dashboard: </strong>\n",
       "                                <a href=\"http://127.0.0.1:34765/status\">http://127.0.0.1:34765/status</a>\n",
       "                            </td>\n",
       "                            <td style=\"text-align: left;\">\n",
       "                                <strong>Memory: </strong>\n",
       "                                7.35 GiB\n",
       "                            </td>\n",
       "                        </tr>\n",
       "                        <tr>\n",
       "                            <td style=\"text-align: left;\"><strong>Nanny: </strong> tcp://127.0.0.1:38295</td>\n",
       "                            <td style=\"text-align: left;\"></td>\n",
       "                        </tr>\n",
       "                        <tr>\n",
       "                            <td colspan=\"2\" style=\"text-align: left;\">\n",
       "                                <strong>Local directory: </strong>\n",
       "                                /home/jovyan/dask-worker-space/worker-vm86wfo2\n",
       "                            </td>\n",
       "                        </tr>\n",
       "                        \n",
       "                        \n",
       "                <tr>\n",
       "                    <td style=\"text-align: left;\">\n",
       "                        <strong>Tasks executing: </strong> 0\n",
       "                    </td>\n",
       "                    <td style=\"text-align: left;\">\n",
       "                        <strong>Tasks in memory: </strong> 0\n",
       "                    </td>\n",
       "                </tr>\n",
       "                <tr>\n",
       "                    <td style=\"text-align: left;\">\n",
       "                        <strong>Tasks ready: </strong> 0\n",
       "                    </td>\n",
       "                    <td style=\"text-align: left;\">\n",
       "                        <strong>Tasks in flight: </strong>0\n",
       "                    </td>\n",
       "                </tr>\n",
       "                <tr>\n",
       "                    <td style=\"text-align: left;\"><strong>CPU usage:</strong> 2.0%</td>\n",
       "                    <td style=\"text-align: left;\">\n",
       "                        <strong>Last seen: </strong>\n",
       "                        Just now\n",
       "                    </td>\n",
       "                </tr>\n",
       "                <tr>\n",
       "                    <td style=\"text-align: left;\">\n",
       "                        <strong>Memory usage: </strong>\n",
       "                        754.05 MiB\n",
       "                    </td>\n",
       "                    <td style=\"text-align: left;\">\n",
       "                        <strong>Spilled bytes: </strong>\n",
       "                        0 B\n",
       "                    </td>\n",
       "                </tr>\n",
       "                <tr>\n",
       "                    <td style=\"text-align: left;\">\n",
       "                        <strong>Read bytes: </strong>\n",
       "                        13.77 kiB\n",
       "                    </td>\n",
       "                    <td style=\"text-align: left;\">\n",
       "                        <strong>Write bytes: </strong>\n",
       "                        14.62 kiB\n",
       "                    </td>\n",
       "                </tr>\n",
       "                \n",
       "                    </table>\n",
       "                </details>\n",
       "                </div>\n",
       "            </div>\n",
       "            \n",
       "            <div style=\"margin-bottom: 20px;\">\n",
       "                <div style=\"width: 24px;\n",
       "                            height: 24px;\n",
       "                            background-color: #DBF5FF;\n",
       "                            border: 3px solid #4CC9FF;\n",
       "                            border-radius: 5px;\n",
       "                            position: absolute;\"> </div>\n",
       "                <div style=\"margin-left: 48px;\">\n",
       "                <details>\n",
       "                    <summary>\n",
       "                        <h4 style=\"margin-bottom: 0px; display: inline;\">Worker: 3</h4>\n",
       "                    </summary>\n",
       "                    <table style=\"width: 100%; text-align: left;\">\n",
       "                        <tr>\n",
       "                            <td style=\"text-align: left;\"><strong>Comm: </strong> tcp://127.0.0.1:41903</td>\n",
       "                            <td style=\"text-align: left;\"><strong>Total threads: </strong> 2</td>\n",
       "                        </tr>\n",
       "                        <tr>\n",
       "                            <td style=\"text-align: left;\">\n",
       "                                <strong>Dashboard: </strong>\n",
       "                                <a href=\"http://127.0.0.1:37645/status\">http://127.0.0.1:37645/status</a>\n",
       "                            </td>\n",
       "                            <td style=\"text-align: left;\">\n",
       "                                <strong>Memory: </strong>\n",
       "                                7.35 GiB\n",
       "                            </td>\n",
       "                        </tr>\n",
       "                        <tr>\n",
       "                            <td style=\"text-align: left;\"><strong>Nanny: </strong> tcp://127.0.0.1:39077</td>\n",
       "                            <td style=\"text-align: left;\"></td>\n",
       "                        </tr>\n",
       "                        <tr>\n",
       "                            <td colspan=\"2\" style=\"text-align: left;\">\n",
       "                                <strong>Local directory: </strong>\n",
       "                                /home/jovyan/dask-worker-space/worker-yf4vqhzo\n",
       "                            </td>\n",
       "                        </tr>\n",
       "                        \n",
       "                        \n",
       "                <tr>\n",
       "                    <td style=\"text-align: left;\">\n",
       "                        <strong>Tasks executing: </strong> 0\n",
       "                    </td>\n",
       "                    <td style=\"text-align: left;\">\n",
       "                        <strong>Tasks in memory: </strong> 0\n",
       "                    </td>\n",
       "                </tr>\n",
       "                <tr>\n",
       "                    <td style=\"text-align: left;\">\n",
       "                        <strong>Tasks ready: </strong> 0\n",
       "                    </td>\n",
       "                    <td style=\"text-align: left;\">\n",
       "                        <strong>Tasks in flight: </strong>0\n",
       "                    </td>\n",
       "                </tr>\n",
       "                <tr>\n",
       "                    <td style=\"text-align: left;\"><strong>CPU usage:</strong> 2.0%</td>\n",
       "                    <td style=\"text-align: left;\">\n",
       "                        <strong>Last seen: </strong>\n",
       "                        Just now\n",
       "                    </td>\n",
       "                </tr>\n",
       "                <tr>\n",
       "                    <td style=\"text-align: left;\">\n",
       "                        <strong>Memory usage: </strong>\n",
       "                        865.00 MiB\n",
       "                    </td>\n",
       "                    <td style=\"text-align: left;\">\n",
       "                        <strong>Spilled bytes: </strong>\n",
       "                        0 B\n",
       "                    </td>\n",
       "                </tr>\n",
       "                <tr>\n",
       "                    <td style=\"text-align: left;\">\n",
       "                        <strong>Read bytes: </strong>\n",
       "                        19.53 kiB\n",
       "                    </td>\n",
       "                    <td style=\"text-align: left;\">\n",
       "                        <strong>Write bytes: </strong>\n",
       "                        23.59 kiB\n",
       "                    </td>\n",
       "                </tr>\n",
       "                \n",
       "                    </table>\n",
       "                </details>\n",
       "                </div>\n",
       "            </div>\n",
       "            \n",
       "            </details>\n",
       "        </div>\n",
       "        \n",
       "                </details>\n",
       "                \n",
       "                </div>\n",
       "            </div>\n",
       "        "
      ],
      "text/plain": [
       "<Client: 'tcp://127.0.0.1:35643' processes=4 threads=8, memory=29.40 GiB>"
      ]
     },
     "execution_count": 5,
     "metadata": {},
     "output_type": "execute_result"
    }
   ],
   "source": [
    "from dask.distributed import Client\n",
    "\n",
    "client = Client(\"tcp://127.0.0.1:35643\")\n",
    "client"
   ]
  },
  {
   "cell_type": "markdown",
   "id": "488bda85-fef5-4cda-a7b8-095b341f96b5",
   "metadata": {
    "tags": []
   },
   "source": [
    "# Import"
   ]
  },
  {
   "cell_type": "code",
   "execution_count": 7,
   "id": "9ccf5373-f92d-4741-a4bd-5cb6edd49581",
   "metadata": {},
   "outputs": [],
   "source": [
    "import sys\n",
    "sys.path.insert(1, '../')"
   ]
  },
  {
   "cell_type": "code",
   "execution_count": 8,
   "id": "738b2395-9727-43af-b236-418213064eab",
   "metadata": {},
   "outputs": [],
   "source": [
    "import s3fs\n",
    "import xarray as xr\n",
    "import numpy as np\n",
    "import matplotlib.pyplot as plt\n",
    "import matplotlib.colors as colors\n",
    "from matplotlib.gridspec import GridSpec\n",
    "import gsw\n",
    "import gcm_filters\n",
    "from xhistogram.xarray import histogram\n",
    "import eos_module\n",
    "from dask import compute\n",
    "from dask.diagnostics import ProgressBar\n",
    "from dask import delayed\n",
    "import pandas as pd\n",
    "import cartopy.crs as ccrs\n",
    "from scipy.stats import kurtosis, skew, describe\n",
    "from scipy import ndimage\n",
    "from numpy.polynomial import polynomial as P\n",
    "import xrft\n",
    "import inspect\n",
    "import importlib\n",
    "import xesmf as xe"
   ]
  },
  {
   "cell_type": "markdown",
   "id": "e4ab7fbb-084c-4b19-bd35-463cc099d3c7",
   "metadata": {},
   "source": [
    "# Plotting params"
   ]
  },
  {
   "cell_type": "code",
   "execution_count": 9,
   "id": "5eb51e28-eac9-4c23-b316-039dbe2c6869",
   "metadata": {},
   "outputs": [],
   "source": [
    "#%matplotlib widget\n",
    "%matplotlib inline"
   ]
  },
  {
   "cell_type": "code",
   "execution_count": 10,
   "id": "73102d7d-b156-4f73-bd4a-0309f10bc8d4",
   "metadata": {},
   "outputs": [],
   "source": [
    "line_colors = ['#1f77b4', '#ff7f0e', '#2ca02c', '#d62728', '#9467bd', '#8c564b', '#e377c2', '#7f7f7f', '#bcbd22', '#17becf', '#1f77b4']"
   ]
  },
  {
   "cell_type": "code",
   "execution_count": 11,
   "id": "547978f5-cac1-4d77-a7c4-2dcbbad83172",
   "metadata": {},
   "outputs": [],
   "source": [
    "cmaps_list = ['Blues', 'Oranges', 'Greens', 'Reds']"
   ]
  },
  {
   "cell_type": "markdown",
   "id": "1f7c876a-6561-43eb-bdfe-f4d6ed41b199",
   "metadata": {
    "tags": []
   },
   "source": [
    "# Load data"
   ]
  },
  {
   "cell_type": "markdown",
   "id": "f9a17090-a535-4f10-a82c-71739b4a5a1e",
   "metadata": {},
   "source": [
    "Choose cases"
   ]
  },
  {
   "cell_type": "code",
   "execution_count": 12,
   "id": "f203a34a-cf67-48cc-9de5-a0ee805af2cd",
   "metadata": {},
   "outputs": [],
   "source": [
    "data=[dict() for i in range(3)]"
   ]
  },
  {
   "cell_type": "code",
   "execution_count": 13,
   "id": "8b171589-bbf7-461c-bf85-b810c3b3b9dd",
   "metadata": {},
   "outputs": [],
   "source": [
    "data[0] = dict({'region' : '1', 'season' : 'fma', 'label' : 'GULFSTR wint'})\n",
    "data[1] = dict({'region' : '2', 'season' : 'aso', 'label' : 'ACORES sum'})\n",
    "data[2] = dict({'region' : '3', 'season' : 'aso', 'label' : 'MEDWEST sum'})"
   ]
  },
  {
   "cell_type": "code",
   "execution_count": 14,
   "id": "8690cc76-fbc4-426e-b2bd-ef6c0f9b8cb3",
   "metadata": {},
   "outputs": [],
   "source": [
    "x_slice = slice(0,-1)\n",
    "y_slice = slice(0,-1)\n",
    "\n",
    "data_slice = dict(time_counter=slice(0,-1,300),y=y_slice,x=x_slice)  # take every 50-th hourly output\n",
    "coord_slice = dict(y=y_slice,x=x_slice)\n",
    "nb_of_time_chunks = 8"
   ]
  },
  {
   "cell_type": "markdown",
   "id": "d8fc8421-1adb-4995-92af-8c9bc7199044",
   "metadata": {},
   "source": [
    "## eNATL60"
   ]
  },
  {
   "cell_type": "code",
   "execution_count": 15,
   "id": "b4e56540-c890-442c-9eec-78e6b53b7dfb",
   "metadata": {},
   "outputs": [
    {
     "data": {
      "text/plain": [
       "dict_keys(['GIGATL', 'HYCOM25', 'HYCOM50', 'eNATL60', 'FESOM', 'ORCA36', 'FIO-COM32'])"
      ]
     },
     "execution_count": 15,
     "metadata": {},
     "output_type": "execute_result"
    }
   ],
   "source": [
    "from validate_catalog import all_params\n",
    "params_dict, cat = all_params()\n",
    "params_dict.keys()"
   ]
  },
  {
   "cell_type": "code",
   "execution_count": 16,
   "id": "cb7e25b7-8568-4a73-853e-0deb793328ef",
   "metadata": {},
   "outputs": [
    {
     "name": "stdout",
     "output_type": "stream",
     "text": [
      "CPU times: user 1.05 s, sys: 227 ms, total: 1.27 s\n",
      "Wall time: 40.6 s\n"
     ]
    }
   ],
   "source": [
    "%%time\n",
    "for i in range(len(data)) :\n",
    "    current_set = cat.eNATL60(region=data[i]['region'],datatype='surface_hourly', season=data[i]['season']).to_dask()\n",
    "    current_set = current_set.drop(['fmask','qt_oce', 'somecrty','sometauy','sossheig','sowaflup','sozocrtx','sozotaux','umask','vmask'],errors='ignore')\n",
    "    current_set = current_set.isel(data_slice)\n",
    "    #current_set = xr.open_mfdataset('/Users/ana/data/eNATL60_extractions/region'+data[i]['region']+'_'+data[i]['season']+'.nc', parallel=True).chunk({'time_counter' : nb_of_time_chunks, 'x' : -1, 'y' : -1}).\\\n",
    "    #drop(['fmask','qt_oce', 'somecrty','sometauy','sossheig','sowaflup','sozocrtx','sozotaux','umask','vmask'],errors='ignore')\n",
    "    current_set.coords['tmask'] = current_set.tmask.astype(np.float32)\n",
    "    #current_set = current_set.resample({'time_counter' : resampling_avg_period}, closed='right', label='right').mean()\n",
    "    #current_set = current_set.chunk({'time_counter' : nb_of_time_chunks, 'x' : -1, 'y' : -1})\n",
    "    current_set.load()\n",
    "    current_set['x'] = np.arange(len(current_set['x']))\n",
    "    current_set['y'] = np.arange(len(current_set['y']))\n",
    "    data[i]['HR'] = current_set"
   ]
  },
  {
   "cell_type": "markdown",
   "id": "7a9f7ce1-ae02-4bd9-af6c-84f6a3223c0a",
   "metadata": {},
   "source": [
    "## eORCA025"
   ]
  },
  {
   "cell_type": "code",
   "execution_count": 18,
   "id": "a0fc8804-7064-4581-acd9-e1c101f280d5",
   "metadata": {},
   "outputs": [],
   "source": [
    "for i in range(len(data)) :\n",
    "    data[i]['LR'] = xr.open_mfdataset(\"../Data/eORCA025/region\"+data[i]['region']+\"_\"+data[i]['season']+\".nc\", \\\n",
    "                                          chunks={'time_counter' : nb_of_time_chunks, 'x' : -1, 'y' : -1}).\\\n",
    "    rename(nav_lat='lat', nav_lon='lon').isel(time_counter=slice(0,-1,7))"
   ]
  },
  {
   "cell_type": "markdown",
   "id": "beaad064-0596-437f-9b71-afe4112917e4",
   "metadata": {},
   "source": [
    "## Plot"
   ]
  },
  {
   "cell_type": "code",
   "execution_count": 19,
   "id": "aa5c3b3a-a520-481a-ae52-ce38fcd1e276",
   "metadata": {},
   "outputs": [
    {
     "data": {
      "image/png": "[encoded data removed]",
      "text/plain": [
       "<Figure size 864x288 with 6 Axes>"
      ]
     },
     "metadata": {
      "needs_background": "light"
     },
     "output_type": "display_data"
    }
   ],
   "source": [
    "fig, axis = plt.subplots(ncols=len(data), nrows=1, figsize=(4*len(data),4), subplot_kw={'projection': ccrs.PlateCarree()}, squeeze=False)\n",
    "for col in range(len(data)) :\n",
    "    for row, dataSetKey in enumerate(['LR']) :\n",
    "        data[col][dataSetKey].isel(time_counter=-1).sosstsst[coord_slice].plot(x='lon', y='lat', ax=axis[row,col])\n",
    "        axis[row,col].set(title=dataSetKey + ' SST in ' + data[col]['label'])\n",
    "\n",
    "for ax in axis.flatten() :\n",
    "    ax.coastlines(color='k', lw=0.5)\n",
    "    gl = ax.gridlines(draw_labels=True, x_inline=False, y_inline=False, color='grey', linestyle='dashed', linewidth=0.5)\n",
    "    gl.top_labels = False; gl.right_labels = False"
   ]
  },
  {
   "cell_type": "markdown",
   "id": "ef99bc61-eb54-4852-a66d-622392c7d9cc",
   "metadata": {},
   "source": [
    "# Regridding"
   ]
  },
  {
   "cell_type": "code",
   "execution_count": 20,
   "id": "48389bba-aac3-4446-bbd2-86ae5cc4f732",
   "metadata": {},
   "outputs": [],
   "source": [
    "# data_regrid = xe.util.grid_global(1./60., 1./60.)\n",
    "# data_regrid = data_regrid.where((data_regrid.lon < -68) & (data_regrid.lon > -78) & (data_regrid.lat < 39) & (data_regrid.lat > 30), drop=True)\n",
    "# data_regrid = data_regrid.where((data_regrid.lon < -68) & (data_regrid.lon > -78) & (data_regrid.lat < 39) & (data_regrid.lat > 30), drop=True)"
   ]
  },
  {
   "cell_type": "code",
   "execution_count": 21,
   "id": "8fd14b68-d9f5-48c2-9fdd-50af5aff7ca1",
   "metadata": {},
   "outputs": [],
   "source": [
    "regrid_method = \"nearest_s2d\"\n",
    "#regrid_method = \"bilinear\""
   ]
  },
  {
   "cell_type": "code",
   "execution_count": 22,
   "id": "082b55ac-8bb1-47fd-b376-37f3c4b6e010",
   "metadata": {},
   "outputs": [
    {
     "name": "stderr",
     "output_type": "stream",
     "text": [
      "/srv/conda/envs/notebook/lib/python3.8/site-packages/xesmf/frontend.py:555: FutureWarning: ``output_sizes`` should be given in the ``dask_gufunc_kwargs`` parameter. It will be removed as direct parameter in a future version.\n",
      "  ds_out = xr.apply_ufunc(\n",
      "/srv/conda/envs/notebook/lib/python3.8/site-packages/xesmf/frontend.py:555: FutureWarning: ``output_sizes`` should be given in the ``dask_gufunc_kwargs`` parameter. It will be removed as direct parameter in a future version.\n",
      "  ds_out = xr.apply_ufunc(\n"
     ]
    },
    {
     "name": "stdout",
     "output_type": "stream",
     "text": [
      "CPU times: user 12.5 s, sys: 336 ms, total: 12.9 s\n",
      "Wall time: 13 s\n"
     ]
    },
    {
     "name": "stderr",
     "output_type": "stream",
     "text": [
      "/srv/conda/envs/notebook/lib/python3.8/site-packages/xesmf/frontend.py:555: FutureWarning: ``output_sizes`` should be given in the ``dask_gufunc_kwargs`` parameter. It will be removed as direct parameter in a future version.\n",
      "  ds_out = xr.apply_ufunc(\n"
     ]
    }
   ],
   "source": [
    "%%time\n",
    "for i in range(len(data)) :\n",
    "    out_grid = data[i]['HR'].drop(['time_centered', 'depth', 'time_counter', 'e1t', 'e2t', 'e1f', 'e2f', 'e1v', 'e2v', 'e1u', 'e2u', 'nav_lat', 'nav_lon', 'tmask', 'sosstsst', 'sosaline'])\n",
    "    regridder = xe.Regridder(data[i]['LR'], out_grid, regrid_method, unmapped_to_nan=True)\n",
    "    data[i]['Regrid_LR'] = regridder(data[i]['LR'].drop(['sossheig', 'gradx_temp', 'grady_temp', 'gradx_sal', 'grady_sal', 'grad_temp', 'grad_sal']))"
   ]
  },
  {
   "cell_type": "code",
   "execution_count": 23,
   "id": "f7b21754-ffc0-41ac-8f46-302b2472eb8e",
   "metadata": {},
   "outputs": [
    {
     "data": {
      "image/png": "[encoded data removed]",
      "text/plain": [
       "<Figure size 720x288 with 4 Axes>"
      ]
     },
     "metadata": {
      "needs_background": "light"
     },
     "output_type": "display_data"
    }
   ],
   "source": [
    "fig, axis = plt.subplots(ncols=2, nrows=1, figsize=(10,4))\n",
    "data[2]['LR'].isel(time_counter=0).sosstsst.plot(ax=axis[0])\n",
    "data[2]['Regrid_LR'].isel(time_counter=0).sosstsst.plot(ax=axis[1])\n",
    "plt.show()"
   ]
  },
  {
   "cell_type": "markdown",
   "id": "98f38b5f-9952-4a8b-ab93-ea82af44bab1",
   "metadata": {
    "tags": []
   },
   "source": [
    "# Spectra"
   ]
  },
  {
   "cell_type": "code",
   "execution_count": 24,
   "id": "d85c06de-25f9-461c-a07e-3a4d6efeded9",
   "metadata": {},
   "outputs": [],
   "source": [
    "# without interpolation\n",
    "def prepare_data_for_spec(data, variable) :\n",
    "    res = data[variable].dropna(dim='y', thresh=3).dropna(dim='x', thresh=3)\n",
    "    \n",
    "    if (\"e1t\" in data) :\n",
    "        delta_x = res['e1t'].mean(skipna=True).values\n",
    "        delta_y = res['e2t'].mean(skipna=True).values\n",
    "    else :\n",
    "        delta_x = gsw.distance(data.lon,data.lat).mean(skipna=True)\n",
    "        delta_y = gsw.distance(data.lon,data.lat).mean(skipna=True)\n",
    "        \n",
    "    res.coords['x'] = res.coords['x']*delta_x\n",
    "    res.coords['y'] = res.coords['y']*delta_y \n",
    "\n",
    "    # fill in nans\n",
    "    # avg = step0.mean().compute()\n",
    "    # data_filled_nans = interpolated_field.fillna(avg)\n",
    "    res = res.interpolate_na(dim=\"x\", method=\"linear\", max_gap=15, limit=15)\n",
    "    res = res.interpolate_na(dim=\"y\", method=\"linear\", max_gap=15, limit=15)\n",
    "    res = res.interpolate_na(dim=\"x\", method=\"nearest\", fill_value=\"extrapolate\")\n",
    "\n",
    "    res = res.drop(['depth', 'e1f', 'e1u', 'e1v', 'e2f', 'e2u', 'e2v', 'lat', 'lon', 'nav_lat', 'nav_lon', 'e1t', 'e2t'], errors='ignore')\n",
    "    return res"
   ]
  },
  {
   "cell_type": "markdown",
   "id": "e5803336-f9a6-4baf-81c0-d4a061c6a320",
   "metadata": {
    "tags": []
   },
   "source": [
    "## Interpolation on a spatially uniform grid "
   ]
  },
  {
   "cell_type": "code",
   "execution_count": 25,
   "id": "d401a794-1994-4fed-9b00-0a56f8ca5b91",
   "metadata": {
    "tags": []
   },
   "outputs": [],
   "source": [
    "def uniform_grid_interpolation(data, variable) :\n",
    "    # step0 : drop unecessary variables and coordinates out rows and cols consiting (almost) completely of nans\n",
    "    step0 = data[variable].drop(['depth', 'e1f', 'e1u', 'e1v', 'e2f', 'e2u', 'e2v', 'lat', 'lon', 'nav_lat', 'nav_lon'], errors='ignore')\n",
    "    step0 = step0.dropna(dim='y', thresh=3).dropna(dim='x', thresh=3)\n",
    "    \n",
    "    # switch to unit coordinates\n",
    "    delta_x_min_m = step0['e1t'].min().values\n",
    "    delta_y_min_m = step0['e2t'].min().values\n",
    "    delta_min = np.min([delta_x_min_m, delta_y_min_m])\n",
    "    new_x = np.cumsum(delta_min/step0['e1t'], axis=1)\n",
    "    new_y = np.cumsum(delta_min/step0['e2t'], axis=0)\n",
    "\n",
    "    # step 1 : fill in nans\n",
    "    # avg = step0.mean().compute()\n",
    "    # data_filled_nans = interpolated_field.fillna(avg)\n",
    "    step1 = step0\n",
    "    step1 = step1.interpolate_na(dim=\"x\", method=\"linear\", max_gap=15, limit=15)\n",
    "    step1 = step1.interpolate_na(dim=\"y\", method=\"linear\", max_gap=15, limit=15)\n",
    "    step1 = step1.interpolate_na(dim=\"x\", method=\"nearest\", fill_value=\"extrapolate\")\n",
    "    \n",
    "    # step2 : interpotale onto a uniformly-spaced box\n",
    "    step2 = step1.interp(x=new_x, y=new_y, method='linear')\n",
    "    step2 = step2.dropna(dim='y', thresh=100).dropna(dim='x', thresh=100)\n",
    "\n",
    "    if (step2.isnull().any().values == True) :\n",
    "        step2 = step2.interpolate_na(dim=\"x\", method=\"linear\", fill_value=\"extrapolate\")\n",
    "        \n",
    "    # step 3 : drop unecessey variables, add attribute, \n",
    "    step3 = step2.drop(['e1t', 'e2t'], errors='ignore')\n",
    "    step3.attrs['delta_min'] = delta_min\n",
    "    \n",
    "    # return to unit coordinates (in meters) for correct computation of wavenumbers\n",
    "    step3.coords['x'] = step3.coords['x']*delta_min\n",
    "    step3.coords['y'] = step3.coords['y']*delta_min\n",
    "    return step3"
   ]
  },
  {
   "cell_type": "code",
   "execution_count": 26,
   "id": "385a73d8-63f4-413f-89e6-97cd9264d4ac",
   "metadata": {
    "tags": []
   },
   "outputs": [],
   "source": [
    "# fig, ax = plt.subplots(ncols=2, constrained_layout=True, figsize=(10,4))\n",
    "# i_data = 2\n",
    "# (data[i_data]['LR'].isel(time_counter=0)).sosstsst.plot(ax=ax[0])\n",
    "# (uniform_grid_interpolation(data[i_data]['LR'], 'sosstsst').isel(time_counter=0)).plot(ax=ax[1])\n",
    "# ax[0].set(title='Original filtered data')\n",
    "# ax[1].set(title='Interpolated and filled data')\n",
    "# plt.show()"
   ]
  },
  {
   "cell_type": "markdown",
   "id": "9854c5a4-615a-4e2b-b420-0a5bf009d50f",
   "metadata": {
    "tags": []
   },
   "source": [
    "## Isotropic power spectra"
   ]
  },
  {
   "cell_type": "code",
   "execution_count": 27,
   "id": "05e79812-f36c-4b16-abf4-fba004c99ba2",
   "metadata": {},
   "outputs": [],
   "source": [
    "def wrapper_xrtf_isotropic_PS(data, variable, binning_factor=4) :\n",
    "    #prepared_data = uniform_grid_interpolation(data.drop(['tmask']), variable) # with interpolation on a uniform grid\n",
    "    prepared_data = prepare_data_for_spec(data.drop(['tmask'], errors='ignore'), variable) # without interpolation \n",
    "    isotropic_power_spec = xrft.isotropic_power_spectrum(prepared_data, dim=['x','y'], detrend='linear', nfactor=binning_factor, truncate=True)\n",
    "    return isotropic_power_spec.rename('Spatial_spectrum')"
   ]
  },
  {
   "cell_type": "code",
   "execution_count": 28,
   "id": "6083ff70-0e8a-465c-8440-94a32f8a179b",
   "metadata": {},
   "outputs": [],
   "source": [
    "# initialize data structure for storing histograms\n",
    "spec=[dict() for i in range(len(data))]\n",
    "for i in range(len(data)) :\n",
    "    spec[i]['LR'] = dict({'label' : 'eORCA025'})\n",
    "    spec[i]['HR'] = dict({'label' : 'eNATL60'})\n",
    "    spec[i]['Regrid_LR'] = dict({'label' : 'Regrid eORCA025'})"
   ]
  },
  {
   "cell_type": "code",
   "execution_count": 29,
   "id": "bf489a7e-d39e-4aee-8cef-4d6904edca93",
   "metadata": {},
   "outputs": [
    {
     "name": "stdout",
     "output_type": "stream",
     "text": [
      "CPU times: user 12.7 s, sys: 4.66 s, total: 17.4 s\n",
      "Wall time: 27 s\n"
     ]
    }
   ],
   "source": [
    "%%time \n",
    "for i in range(len(data)) :\n",
    "    for key_dict in ['LR', 'HR', 'Regrid_LR'] :\n",
    "        spec[i][key_dict]['temp_spec'] = (wrapper_xrtf_isotropic_PS(data[i][key_dict], 'sosstsst')).mean(dim='time_counter').compute()"
   ]
  },
  {
   "cell_type": "code",
   "execution_count": 32,
   "id": "08f627ab-1db0-4045-9614-053013f5aaf4",
   "metadata": {},
   "outputs": [
    {
     "data": {
      "image/png": "[encoded data removed]",
      "text/plain": [
       "<Figure size 360x288 with 1 Axes>"
      ]
     },
     "metadata": {
      "needs_background": "light"
     },
     "output_type": "display_data"
    }
   ],
   "source": [
    "fig, ax = plt.subplots(ncols=1, constrained_layout=True, figsize=(5,4))\n",
    "for data_i in range(len(data)) :\n",
    "    spec[data_i]['LR']['temp_spec'].plot(x='freq_r', ax=ax, marker='o', color=line_colors[data_i], label=data[data_i]['label'])\n",
    "    spec[data_i]['HR']['temp_spec'].plot(x='freq_r', ax=ax, ls='--', color=line_colors[data_i])\n",
    "    spec[data_i]['Regrid_LR']['temp_spec'].plot(x='freq_r', ax=ax, color=line_colors[data_i])\n",
    "ax.set(xscale='log', yscale='log'); ax.grid(True)\n",
    "ax.legend()\n",
    "plt.show()"
   ]
  },
  {
   "cell_type": "code",
   "execution_count": null,
   "id": "45fdc79b-b5f8-412b-a1bf-b85b32c58fac",
   "metadata": {},
   "outputs": [],
   "source": []
  }
 ],
 "metadata": {
  "kernelspec": {
   "display_name": "Python 3 (ipykernel)",
   "language": "python",
   "name": "python3"
  },
  "language_info": {
   "codemirror_mode": {
    "name": "ipython",
    "version": 3
   },
   "file_extension": ".py",
   "mimetype": "text/x-python",
   "name": "python",
   "nbconvert_exporter": "python",
   "pygments_lexer": "ipython3",
   "version": "3.8.10"
  }
 },
 "nbformat": 4,
 "nbformat_minor": 5
}
